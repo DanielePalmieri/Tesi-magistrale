{
 "cells": [
  {
   "cell_type": "code",
   "execution_count": 1,
   "metadata": {
    "colab": {
     "base_uri": "https://localhost:8080/"
    },
    "executionInfo": {
     "elapsed": 3,
     "status": "ok",
     "timestamp": 1675868759529,
     "user": {
      "displayName": "DANIELE PALMIERI",
      "userId": "13749636301499067245"
     },
     "user_tz": -60
    },
    "id": "5tWyPVVSti_W",
    "outputId": "cf23d942-3a3f-4923-fcf5-6cded2eab13b",
    "scrolled": false
   },
   "outputs": [
    {
     "name": "stdout",
     "output_type": "stream",
     "text": [
      "C:\\Users\\Daniele\\Desktop\\Materiale Tesi\\Tesi magistrale\\datasets\\NLS\n"
     ]
    }
   ],
   "source": [
    "cd datasets/NLS"
   ]
  },
  {
   "cell_type": "markdown",
   "metadata": {},
   "source": [
    "# Import"
   ]
  },
  {
   "cell_type": "code",
   "execution_count": 2,
   "metadata": {},
   "outputs": [
    {
     "name": "stderr",
     "output_type": "stream",
     "text": [
      "C:\\Users\\Daniele\\anaconda3\\lib\\site-packages\\numpy\\_distributor_init.py:30: UserWarning: loaded more than 1 DLL from .libs:\n",
      "C:\\Users\\Daniele\\anaconda3\\lib\\site-packages\\numpy\\.libs\\libopenblas.GK7GX5KEQ4F6UYO3P26ULGBQYHGQO7J4.gfortran-win_amd64.dll\n",
      "C:\\Users\\Daniele\\anaconda3\\lib\\site-packages\\numpy\\.libs\\libopenblas64__v0.3.21-gcc_10_3_0.dll\n",
      "  warnings.warn(\"loaded more than 1 DLL from .libs:\"\n",
      "C:\\Users\\Daniele\\anaconda3\\lib\\site-packages\\scipy\\__init__.py:146: UserWarning: A NumPy version >=1.16.5 and <1.23.0 is required for this version of SciPy (detected version 1.24.2\n",
      "  warnings.warn(f\"A NumPy version >={np_minversion} and <{np_maxversion}\"\n"
     ]
    }
   ],
   "source": [
    "import pandas as pd\n",
    "import numpy as np\n",
    "import scikitplot as skplt\n",
    "import matplotlib.pyplot as plt\n",
    "from sklearn import preprocessing\n",
    "from imblearn.over_sampling import SMOTE\n",
    "from sklearn.feature_selection import RFE\n",
    "from sklearn.ensemble import RandomForestClassifier\n",
    "from sklearn.model_selection import StratifiedKFold\n",
    "from sklearn.model_selection import KFold\n",
    "from sklearn.metrics import accuracy_score, precision_score, recall_score, f1_score\n",
    "from sklearn.preprocessing import OneHotEncoder\n",
    "from imblearn.over_sampling import RandomOverSampler\n",
    "\n",
    "# Aggiungo gli headers al CSV\n",
    "col_names = [\"duration\",\"protocol_type\",\"service\",\"flag\",\"src_bytes\",\n",
    "    \"dst_bytes\",\"land\",\"wrong_fragment\",\"urgent\",\"hot\",\"num_failed_logins\",\n",
    "    \"logged_in\",\"num_compromised\",\"root_shell\",\"su_attempted\",\"num_root\",\n",
    "    \"num_file_creations\",\"num_shells\",\"num_access_files\",\"num_outbound_cmds\",\n",
    "    \"is_host_login\",\"is_guest_login\",\"count\",\"srv_count\",\"serror_rate\",\n",
    "    \"srv_serror_rate\",\"rerror_rate\",\"srv_rerror_rate\",\"same_srv_rate\",\n",
    "    \"diff_srv_rate\",\"srv_diff_host_rate\",\"dst_host_count\",\"dst_host_srv_count\",\n",
    "    \"dst_host_same_srv_rate\",\"dst_host_diff_srv_rate\",\"dst_host_same_src_port_rate\",\n",
    "    \"dst_host_srv_diff_host_rate\",\"dst_host_serror_rate\",\"dst_host_srv_serror_rate\",\n",
    "    \"dst_host_rerror_rate\",\"dst_host_srv_rerror_rate\",\"label\"]\n",
    "\n",
    "df = pd.read_csv('KDDTrain+.csv', encoding='cp1252', names = col_names)\n",
    "df_test = pd.read_csv('KDDTest+.csv', encoding='cp1252', names = col_names)\n",
    "\n",
    "labeldf=df['label']\n",
    "labeldf_test=df_test['label']"
   ]
  },
  {
   "cell_type": "markdown",
   "metadata": {},
   "source": [
    "# Functions"
   ]
  },
  {
   "cell_type": "code",
   "execution_count": 3,
   "metadata": {
    "id": "_6ocXjZLt7SF"
   },
   "outputs": [],
   "source": [
    "#Dataset Preparation ----------------------------------------------------------------------------------------------------------\n",
    "\n",
    "def prepareMulticlass():\n",
    "    # change the label column\n",
    "    newlabeldf=labeldf.replace({ 'normal' : 0, 'neptune' : 1 ,'back': 1, 'land': 1, 'pod': 1, 'smurf': 1, 'teardrop': 1,'mailbomb': 1, 'apache2': 1, 'processtable': 1, 'udpstorm': 1, 'worm': 1,\n",
    "                           'ipsweep' : 2,'nmap' : 2,'portsweep' : 2,'satan' : 2,'mscan' : 2,'saint' : 2\n",
    "                           ,'ftp_write': 3,'guess_passwd': 3,'imap': 3,'multihop': 3,'phf': 3,'spy': 3,'warezclient': 3,'warezmaster': 3,'sendmail': 3,'named': 3,'snmpgetattack': 3,'snmpguess': 3,'xlock': 3,'xsnoop': 3,'httptunnel': 3,\n",
    "                           'buffer_overflow': 4,'loadmodule': 4,'perl': 4,'rootkit': 4,'ps': 4,'sqlattack': 4,'xterm': 4})\n",
    "    newlabeldf_test=labeldf_test.replace({ 'normal' : 0, 'neptune' : 1 ,'back': 1, 'land': 1, 'pod': 1, 'smurf': 1, 'teardrop': 1,'mailbomb': 1, 'apache2': 1, 'processtable': 1, 'udpstorm': 1, 'worm': 1,\n",
    "                           'ipsweep' : 2,'nmap' : 2,'portsweep' : 2,'satan' : 2,'mscan' : 2,'saint' : 2\n",
    "                           ,'ftp_write': 3,'guess_passwd': 3,'imap': 3,'multihop': 3,'phf': 3,'spy': 3,'warezclient': 3,'warezmaster': 3,'sendmail': 3,'named': 3,'snmpgetattack': 3,'snmpguess': 3,'xlock': 3,'xsnoop': 3,'httptunnel': 3,\n",
    "                           'buffer_overflow': 4,'loadmodule': 4,'perl': 4,'rootkit': 4,'ps': 4,'sqlattack': 4,'xterm': 4})\n",
    "    return newlabeldf, newlabeldf_test\n",
    "\n",
    "def prepareBinary():\n",
    "    # change the label column\n",
    "    newlabeldf=labeldf.replace({ 'normal' : 0, 'neptune' : 1 ,'back': 1, 'land': 1, 'pod': 1, 'smurf': 1, 'teardrop': 1,'mailbomb': 1, 'apache2': 1, 'processtable': 1, 'udpstorm': 1, 'worm': 1,\n",
    "                           'ipsweep' : 1,'nmap' : 1,'portsweep' : 1,'satan' : 1,'mscan' : 1,'saint' : 1\n",
    "                           ,'ftp_write': 1,'guess_passwd': 1,'imap': 1,'multihop': 1,'phf': 1,'spy': 1,'warezclient': 1,'warezmaster': 1,'sendmail': 1,'named': 1,'snmpgetattack': 1,'snmpguess': 1,'xlock': 1,'xsnoop': 1,'httptunnel': 1,\n",
    "                           'buffer_overflow': 1,'loadmodule': 1,'perl': 1,'rootkit': 1,'ps': 1,'sqlattack': 1,'xterm': 1})\n",
    "    newlabeldf_test=labeldf_test.replace({ 'normal' : 0, 'neptune' : 1 ,'back': 1, 'land': 1, 'pod': 1, 'smurf': 1, 'teardrop': 1,'mailbomb': 1, 'apache2': 1, 'processtable': 1, 'udpstorm': 1, 'worm': 1,\n",
    "                           'ipsweep' : 1,'nmap' : 1,'portsweep' : 1,'satan' : 1,'mscan' : 1,'saint' : 1\n",
    "                           ,'ftp_write': 1,'guess_passwd': 1,'imap': 1,'multihop': 1,'phf': 1,'spy': 1,'warezclient': 1,'warezmaster': 1,'sendmail': 1,'named': 1,'snmpgetattack': 1,'snmpguess': 1,'xlock': 1,'xsnoop': 1,'httptunnel': 1,\n",
    "                           'buffer_overflow': 1,'loadmodule': 1,'perl': 1,'rootkit': 1,'ps': 1,'sqlattack': 1,'xterm': 1})\n",
    "    return newlabeldf, newlabeldf_test\n",
    "  \n",
    "colNames=list()\n",
    "colNames_test=list()\n",
    "\n",
    "def getFullDf():\n",
    "    global colNames\n",
    "    colNames=list(df)\n",
    "    return df\n",
    "\n",
    "def getFullDfTest():\n",
    "    global colNames_test\n",
    "    colNames_test=list(df_test)\n",
    "    return df_test\n",
    "\n",
    "def getReducedDf():\n",
    "    global colNames\n",
    "    df_reduced=df.drop('protocol_type', axis=1, inplace=False)\n",
    "    df_reduced=df_reduced.drop('service', axis=1, inplace=False)\n",
    "    df_reduced=df_reduced.drop('flag', axis=1, inplace=False)\n",
    "    colNames=list(df_reduced)\n",
    "    return df_reduced\n",
    "\n",
    "def getReducedDfTest():\n",
    "    global colNames_test\n",
    "    df_reduced=df_test.drop('protocol_type', axis=1, inplace=False)\n",
    "    df_reduced=df_reduced.drop('service', axis=1, inplace=False)\n",
    "    df_reduced=df_reduced.drop('flag', axis=1, inplace=False)\n",
    "    colNames_test=list(df_reduced)\n",
    "    return df_reduced\n",
    "\n",
    "def oneHotEcoding(df, column_name):\n",
    "    df_drop = df.drop(column_name, axis=1, inplace=False)\n",
    "    one_hot = pd.get_dummies(df[column_name])\n",
    "    if(column_name == 'service'):\n",
    "        column_list=list()\n",
    "        for string in one_hot.columns.tolist():\n",
    "            column_list.append(column_name+'_'+str(string))\n",
    "        one_hot.columns=column_list\n",
    "    df = pd.concat([df_drop, one_hot], axis=1)\n",
    "    \n",
    "    return df\n",
    "\n",
    "def getXandY(df):\n",
    "    X = df.drop('label',axis=1, inplace=False)\n",
    "    Y = df.label\n",
    "    return X, Y\n",
    "\n",
    "def overSampledDF(X, Y): \n",
    "    sm = SMOTE(random_state=42)\n",
    "    X_resampled, Y_resampled = sm.fit_resample(X, Y)\n",
    "    df = pd.concat([X_resampled, Y_resampled], axis=1)\n",
    "    return df\n",
    "\n",
    "def createMulticlassDF(df):\n",
    "    to_drop_DoS = [0,1]\n",
    "    to_drop_Probe = [0,2]\n",
    "    to_drop_R2L = [0,3]\n",
    "    to_drop_U2R = [0,4]\n",
    "\n",
    "    DoS_df=df[df['label'].isin(to_drop_DoS)];\n",
    "    Probe_df=df[df['label'].isin(to_drop_Probe)];\n",
    "    R2L_df=df[df['label'].isin(to_drop_R2L)];\n",
    "    U2R_df=df[df['label'].isin(to_drop_U2R)];\n",
    "    return DoS_df, Probe_df, R2L_df, U2R_df \n",
    "\n",
    "def standardScaler(df):\n",
    "    scaler = preprocessing.StandardScaler().fit(df)\n",
    "    return scaler.transform(df) \n",
    "\n",
    "def minMaxScaler(df):\n",
    "    scaler = preprocessing.MinMaxScaler().fit(df)\n",
    "    return scaler.transform(df)\n",
    "\n",
    "def recursiveFeatureExtraction(model, X, Y, n):\n",
    "    rfe = RFE(model, n_features_to_select=n)\n",
    "    rfe.fit(X, Y)\n",
    "    X=rfe.transform(X)\n",
    "    true=rfe.support_\n",
    "    rfecolindex=[i for i, x in enumerate(true) if x]\n",
    "    rfecolname=list(colNames[i] for i in rfecolindex)\n",
    "    return X, rfecolindex\n",
    "\n",
    "def adaptTestset(train, test):\n",
    "    train_service_list=[]\n",
    "    test_service_list = []\n",
    "    \n",
    "    for string in train.columns.tolist():\n",
    "        if('service' in string):\n",
    "            train_service_list.append(string)\n",
    "    \n",
    "    for string in test.columns.tolist():\n",
    "        if('service' in string):\n",
    "            test_service_list.append(string)\n",
    "\n",
    "    difference=list(set(train_service_list) - set(test_service_list))\n",
    "\n",
    "    for col in difference:\n",
    "        test[col] = 0\n",
    "    return test.reindex(columns=train.columns)\n",
    "\n",
    "# Algorythms-------------------------------------------------------------------------------------------------------------------- \n",
    "\n",
    "def randomForest(X, Y):\n",
    "    clf = RandomForestClassifier(n_estimators=64,n_jobs=2)\n",
    "    return clf.fit(X, Y)\n",
    "\n",
    "def stratifiedCV(model, X, Y, k, pos_label):\n",
    "    skf = StratifiedKFold(n_splits=k)\n",
    "  \n",
    "    precision_test_sum = 0\n",
    "    recall_test_sum = 0\n",
    "    f1_test_sum = 0\n",
    "    accuracy_test_sum = 0  \n",
    "    precision_train_sum = 0\n",
    "    recall_train_sum = 0\n",
    "    f1_train_sum = 0\n",
    "    accuracy_train_sum = 0 \n",
    "\n",
    "    for train_index, test_index in skf.split(X, Y):\n",
    "        X_train, X_test = X.iloc[train_index], X.iloc[test_index]\n",
    "        y_train, y_test = Y.iloc[train_index], Y.iloc[test_index]\n",
    "        model.fit(X_train, y_train)\n",
    "        y_test_pred = model.predict(X_test)\n",
    "        y_train_pred = model.predict(X_train)\n",
    "\n",
    "        test_accuracy = accuracy_score(y_test, y_test_pred)\n",
    "        test_precision = precision_score(y_test, y_test_pred, pos_label=pos_label)\n",
    "        test_recall = recall_score(y_test, y_test_pred, pos_label=pos_label)\n",
    "        test_f1 = f1_score(y_test, y_test_pred, pos_label=pos_label)\n",
    "\n",
    "        train_accuracy = accuracy_score(y_train, y_train_pred)\n",
    "        train_precision = precision_score(y_train, y_train_pred, pos_label=pos_label)\n",
    "        train_recall = recall_score(y_train, y_train_pred, pos_label=pos_label)\n",
    "        train_f1 = f1_score(y_train, y_train_pred, pos_label=pos_label)\n",
    "    \n",
    "        accuracy_test_sum += test_accuracy\n",
    "        precision_test_sum += test_precision\n",
    "        recall_test_sum += test_recall\n",
    "        f1_test_sum += test_f1\n",
    "\n",
    "        accuracy_train_sum += train_accuracy\n",
    "        precision_train_sum += train_precision\n",
    "        recall_train_sum += train_recall\n",
    "        f1_train_sum += train_f1\n",
    "\n",
    "        train_0, train_1 = len(y_train[y_train==0]), len(y_train[y_train==pos_label])\n",
    "        test_0, test_1 = len(y_test[y_test==0]), len(y_test[y_test==pos_label])\n",
    "        print('>Train: 0=%d, 1=%d, Test: 0=%d, 1=%d' % (train_0, train_1, test_0, test_1))\n",
    "\n",
    "    accuracy_test_mean = accuracy_test_sum / skf.n_splits \n",
    "    precision_test_mean = precision_test_sum / skf.n_splits\n",
    "    recall_test_mean = recall_test_sum / skf.n_splits\n",
    "    f1_test_mean = f1_test_sum / skf.n_splits\n",
    "\n",
    "    accuracy_train_mean = accuracy_train_sum / skf.n_splits \n",
    "    precision_train_mean = precision_train_sum / skf.n_splits\n",
    "    recall_train_mean = recall_train_sum / skf.n_splits\n",
    "    f1_train_mean = f1_train_sum / skf.n_splits\n",
    "\n",
    "    return {\"Mean Training Accuracy\": accuracy_train_mean,\n",
    "      \"Mean Training Precision\": precision_train_mean,\n",
    "      \"Mean Training Recall\": recall_train_mean,\n",
    "      \"Mean Training F1 Score\": f1_train_mean,\n",
    "      \"Mean Validation Accuracy\": accuracy_test_mean,\n",
    "      \"Mean Validation Precision\": precision_test_mean,\n",
    "      \"Mean Validation Recall\": recall_test_mean,\n",
    "      \"Mean Validation F1 Score\": f1_test_mean}\n",
    "  \n",
    "    \n",
    "def KfoldCV(model, X, Y, k, pos_label):\n",
    "    skf = KFold(n_splits=k)\n",
    "  \n",
    "    precision_test_sum = 0\n",
    "    recall_test_sum = 0\n",
    "    f1_test_sum = 0\n",
    "    accuracy_test_sum = 0  \n",
    "    precision_train_sum = 0\n",
    "    recall_train_sum = 0\n",
    "    f1_train_sum = 0\n",
    "    accuracy_train_sum = 0 \n",
    "\n",
    "    for train_index, test_index in skf.split(X, Y):\n",
    "        X_train, X_test = X.iloc[train_index], X.iloc[test_index]\n",
    "        y_train, y_test = Y.iloc[train_index], Y.iloc[test_index]\n",
    "        model.fit(X_train, y_train)\n",
    "        y_test_pred = model.predict(X_test)\n",
    "        y_train_pred = model.predict(X_train)\n",
    "\n",
    "        test_accuracy = accuracy_score(y_test, y_test_pred )\n",
    "        test_precision = precision_score(y_test, y_test_pred, pos_label=pos_label)\n",
    "        test_recall = recall_score(y_test, y_test_pred, pos_label=pos_label)\n",
    "        test_f1 = f1_score(y_test, y_test_pred, pos_label=pos_label)\n",
    "\n",
    "        train_accuracy = accuracy_score(y_train, y_train_pred)\n",
    "        train_precision = precision_score(y_train, y_train_pred, pos_label=pos_label)\n",
    "        train_recall = recall_score(y_train, y_train_pred, pos_label=pos_label)\n",
    "        train_f1 = f1_score(y_train, y_train_pred, pos_label=pos_label)\n",
    "    \n",
    "        accuracy_test_sum += test_accuracy\n",
    "        precision_test_sum += test_precision\n",
    "        recall_test_sum += test_recall\n",
    "        f1_test_sum += test_f1\n",
    "\n",
    "        accuracy_train_sum += train_accuracy\n",
    "        precision_train_sum += train_precision\n",
    "        recall_train_sum += train_recall\n",
    "        f1_train_sum += train_f1\n",
    "\n",
    "        train_0, train_1 = len(y_train[y_train==0]), len(y_train[y_train==pos_label])\n",
    "        test_0, test_1 = len(y_test[y_test==0]), len(y_test[y_test==pos_label])\n",
    "        print('>Train: 0=%d, 1=%d, Test: 0=%d, 1=%d' % (train_0, train_1, test_0, test_1))\n",
    "\n",
    "    accuracy_test_mean = accuracy_test_sum / skf.n_splits \n",
    "    precision_test_mean = precision_test_sum / skf.n_splits\n",
    "    recall_test_mean = recall_test_sum / skf.n_splits\n",
    "    f1_test_mean = f1_test_sum / skf.n_splits\n",
    "\n",
    "    accuracy_train_mean = accuracy_train_sum / skf.n_splits \n",
    "    precision_train_mean = precision_train_sum / skf.n_splits\n",
    "    recall_train_mean = recall_train_sum / skf.n_splits\n",
    "    f1_train_mean = f1_train_sum / skf.n_splits\n",
    "\n",
    "    return {\"Mean Training Accuracy\": accuracy_train_mean,\n",
    "      \"Mean Training Precision\": precision_train_mean,\n",
    "      \"Mean Training Recall\": recall_train_mean,\n",
    "      \"Mean Training F1 Score\": f1_train_mean,\n",
    "      \"Mean Validation Accuracy\": accuracy_test_mean,\n",
    "      \"Mean Validation Precision\": precision_test_mean,\n",
    "      \"Mean Validation Recall\": recall_test_mean,\n",
    "      \"Mean Validation F1 Score\": f1_test_mean}\n",
    "\n",
    "#Plotting-----------------------------------------------------------------------------------------------------------------------\n",
    "\n",
    "def plotDf(y):\n",
    "    plt.figure(figsize=(10,5))\n",
    "    class_distribution = y.value_counts()\n",
    "    class_distribution.plot(kind='bar')\n",
    "    plt.xlabel('Class')\n",
    "    plt.ylabel('Data points per Class')\n",
    "    plt.title('Distribution of yi in train data')\n",
    "    plt.grid()\n",
    "    return plt\n",
    "\n",
    "def plotConfusionMatrix(Y_pred, Y_test, pos_label):\n",
    "    skplt.metrics.plot_confusion_matrix(Y_test, Y_pred)\n",
    "    plt.show()\n",
    "    accuracy = accuracy_score(Y_test, Y_pred)\n",
    "    print(\"Accuracy: %0.5f \" % accuracy)\n",
    "    precision = precision_score(Y_test, Y_pred, pos_label=pos_label)\n",
    "    print(\"Precision: %0.5f \" % precision)\n",
    "    recall = recall_score(Y_test, Y_pred, pos_label=pos_label)\n",
    "    print(\"Recall: %0.5f \" % recall)\n",
    "    f = f1_score(Y_test, Y_pred, pos_label=pos_label)\n",
    "    print(\"F-measure: %0.5f \" % f)"
   ]
  },
  {
   "cell_type": "markdown",
   "metadata": {},
   "source": [
    "# Reduced DF, no oversampling"
   ]
  },
  {
   "cell_type": "code",
   "execution_count": 4,
   "metadata": {
    "colab": {
     "base_uri": "https://localhost:8080/",
     "height": 364
    },
    "executionInfo": {
     "elapsed": 825,
     "status": "ok",
     "timestamp": 1675868788597,
     "user": {
      "displayName": "DANIELE PALMIERI",
      "userId": "13749636301499067245"
     },
     "user_tz": -60
    },
    "id": "Sd9I2blW6SOK",
    "outputId": "3143ab84-9747-481a-8ba0-863344ad6186"
   },
   "outputs": [
    {
     "data": {
      "text/plain": [
       "<module 'matplotlib.pyplot' from 'C:\\\\Users\\\\Daniele\\\\anaconda3\\\\lib\\\\site-packages\\\\matplotlib\\\\pyplot.py'>"
      ]
     },
     "execution_count": 4,
     "metadata": {},
     "output_type": "execute_result"
    },
    {
     "data": {
      "image/png": "[encoded data removed]",
      "text/plain": [
       "<Figure size 720x360 with 1 Axes>"
      ]
     },
     "metadata": {
      "needs_background": "light"
     },
     "output_type": "display_data"
    }
   ],
   "source": [
    "reducedDf = getReducedDf()\n",
    "reducedDf_test = getReducedDfTest()\n",
    "\n",
    "reducedDf['label'], reducedDf_test['label'] = prepareMulticlass()\n",
    "\n",
    "plotDf(reducedDf['label'])\n"
   ]
  },
  {
   "cell_type": "code",
   "execution_count": 5,
   "metadata": {
    "id": "zyuGPMoLbxc-"
   },
   "outputs": [],
   "source": [
    "#Preparo i dataframe per ogni classe di attacco\n",
    "dos, probe, r2l, u2r = createMulticlassDF(reducedDf)\n",
    "dos_test, probe_test, r2l_test, u2r_test = createMulticlassDF(reducedDf_test)\n",
    "\n",
    "X_dos, y_dos = getXandY(dos)\n",
    "X_probe, y_probe = getXandY(probe)\n",
    "X_r2l, y_r2l = getXandY(r2l)\n",
    "X_u2r, y_u2r = getXandY(u2r)\n",
    "\n",
    "X_dos_test, y_dos_test = getXandY(dos_test)\n",
    "X_probe_test, y_probe_test = getXandY(probe_test)\n",
    "X_r2l_test, y_r2l_test = getXandY(r2l_test)\n",
    "X_u2r_test, y_u2r_test = getXandY(u2r_test)"
   ]
  },
  {
   "cell_type": "code",
   "execution_count": 6,
   "metadata": {
    "id": "JPdFVffDAz33"
   },
   "outputs": [],
   "source": [
    "#Effettuo standard scaler\n",
    "X_dos_ss=standardScaler(X_dos)\n",
    "X_probe_ss=standardScaler(X_probe)\n",
    "X_r2l_ss=standardScaler(X_r2l)\n",
    "X_u2r_ss=standardScaler(X_u2r)\n",
    "\n",
    "X_dos_test_ss=standardScaler(X_dos_test)\n",
    "X_probe_test_ss=standardScaler(X_probe_test)\n",
    "X_r2l_test_ss=standardScaler(X_r2l_test)\n",
    "X_u2r_test_ss=standardScaler(X_u2r_test)"
   ]
  },
  {
   "cell_type": "markdown",
   "metadata": {
    "id": "4R7xuyWpitQi"
   },
   "source": [
    "## No feature selection"
   ]
  },
  {
   "cell_type": "markdown",
   "metadata": {},
   "source": [
    "#### K-fold cross validation on dos"
   ]
  },
  {
   "cell_type": "code",
   "execution_count": 7,
   "metadata": {
    "scrolled": true
   },
   "outputs": [
    {
     "name": "stdout",
     "output_type": "stream",
     "text": [
      ">Train: 0=60666, 1=41277, Test: 0=6677, 1=4650\n",
      ">Train: 0=60586, 1=41357, Test: 0=6757, 1=4570\n",
      ">Train: 0=60612, 1=41331, Test: 0=6731, 1=4596\n",
      ">Train: 0=60720, 1=41223, Test: 0=6623, 1=4704\n",
      ">Train: 0=60634, 1=41309, Test: 0=6709, 1=4618\n",
      ">Train: 0=60525, 1=41418, Test: 0=6818, 1=4509\n",
      ">Train: 0=60548, 1=41395, Test: 0=6795, 1=4532\n",
      ">Train: 0=60557, 1=41386, Test: 0=6786, 1=4541\n",
      ">Train: 0=60662, 1=41281, Test: 0=6681, 1=4646\n",
      ">Train: 0=60577, 1=41366, Test: 0=6766, 1=4561\n"
     ]
    },
    {
     "data": {
      "text/plain": [
       "{'Mean Training Accuracy': 0.9999519339238594,\n",
       " 'Mean Training Precision': 0.9999419353039741,\n",
       " 'Mean Training Recall': 0.9999395117052847,\n",
       " 'Mean Training F1 Score': 0.999940722494722,\n",
       " 'Mean Validation Accuracy': 0.9996998322592037,\n",
       " 'Mean Validation Precision': 0.9997381808985674,\n",
       " 'Mean Validation Recall': 0.9995219197432114,\n",
       " 'Mean Validation F1 Score': 0.9996299983536814}"
      ]
     },
     "execution_count": 7,
     "metadata": {},
     "output_type": "execute_result"
    }
   ],
   "source": [
    "KfoldCV(RandomForestClassifier(n_estimators=64,n_jobs=2), pd.DataFrame(X_dos), y_dos, 10, 1)"
   ]
  },
  {
   "cell_type": "markdown",
   "metadata": {},
   "source": [
    "#### K-fold cross validation on dos Standard Scaler"
   ]
  },
  {
   "cell_type": "code",
   "execution_count": 8,
   "metadata": {
    "scrolled": true
   },
   "outputs": [
    {
     "name": "stdout",
     "output_type": "stream",
     "text": [
      ">Train: 0=60666, 1=41277, Test: 0=6677, 1=4650\n",
      ">Train: 0=60586, 1=41357, Test: 0=6757, 1=4570\n",
      ">Train: 0=60612, 1=41331, Test: 0=6731, 1=4596\n",
      ">Train: 0=60720, 1=41223, Test: 0=6623, 1=4704\n",
      ">Train: 0=60634, 1=41309, Test: 0=6709, 1=4618\n",
      ">Train: 0=60525, 1=41418, Test: 0=6818, 1=4509\n",
      ">Train: 0=60548, 1=41395, Test: 0=6795, 1=4532\n",
      ">Train: 0=60557, 1=41386, Test: 0=6786, 1=4541\n",
      ">Train: 0=60662, 1=41281, Test: 0=6681, 1=4646\n",
      ">Train: 0=60577, 1=41366, Test: 0=6766, 1=4561\n"
     ]
    },
    {
     "data": {
      "text/plain": [
       "{'Mean Training Accuracy': 0.9999509529835301,\n",
       " 'Mean Training Precision': 0.999932259506072,\n",
       " 'Mean Training Recall': 0.999946765489997,\n",
       " 'Mean Training F1 Score': 0.9999395117367909,\n",
       " 'Mean Validation Accuracy': 0.9996998322592037,\n",
       " 'Mean Validation Precision': 0.999738856887442,\n",
       " 'Mean Validation Recall': 0.9995205188595546,\n",
       " 'Mean Validation F1 Score': 0.9996296327351134}"
      ]
     },
     "execution_count": 8,
     "metadata": {},
     "output_type": "execute_result"
    }
   ],
   "source": [
    "KfoldCV(RandomForestClassifier(n_estimators=64,n_jobs=2), pd.DataFrame(X_dos_ss), y_dos, 10, 1)"
   ]
  },
  {
   "cell_type": "markdown",
   "metadata": {},
   "source": [
    "#### Stratified cross validation on dos"
   ]
  },
  {
   "cell_type": "code",
   "execution_count": 9,
   "metadata": {},
   "outputs": [
    {
     "name": "stdout",
     "output_type": "stream",
     "text": [
      ">Train: 0=60608, 1=41335, Test: 0=6735, 1=4592\n",
      ">Train: 0=60608, 1=41335, Test: 0=6735, 1=4592\n",
      ">Train: 0=60608, 1=41335, Test: 0=6735, 1=4592\n",
      ">Train: 0=60609, 1=41334, Test: 0=6734, 1=4593\n",
      ">Train: 0=60609, 1=41334, Test: 0=6734, 1=4593\n",
      ">Train: 0=60609, 1=41334, Test: 0=6734, 1=4593\n",
      ">Train: 0=60609, 1=41334, Test: 0=6734, 1=4593\n",
      ">Train: 0=60609, 1=41334, Test: 0=6734, 1=4593\n",
      ">Train: 0=60609, 1=41334, Test: 0=6734, 1=4593\n",
      ">Train: 0=60609, 1=41334, Test: 0=6734, 1=4593\n"
     ]
    },
    {
     "data": {
      "text/plain": [
       "{'Mean Training Accuracy': 0.9999519339238594,\n",
       " 'Mean Training Precision': 0.9999177493487383,\n",
       " 'Mean Training Recall': 0.9999637104968555,\n",
       " 'Mean Training F1 Score': 0.9999407286207183,\n",
       " 'Mean Validation Accuracy': 0.9997086607221682,\n",
       " 'Mean Validation Precision': 0.9996951883053005,\n",
       " 'Mean Validation Recall': 0.9995863080539923,\n",
       " 'Mean Validation F1 Score': 0.999640718553584}"
      ]
     },
     "execution_count": 9,
     "metadata": {},
     "output_type": "execute_result"
    }
   ],
   "source": [
    "stratifiedCV(RandomForestClassifier(n_estimators=64,n_jobs=2), pd.DataFrame(X_dos), y_dos, 10, 1)"
   ]
  },
  {
   "cell_type": "markdown",
   "metadata": {},
   "source": [
    "#### Stratified cross validation on dos Standard Scaler"
   ]
  },
  {
   "cell_type": "code",
   "execution_count": 10,
   "metadata": {},
   "outputs": [
    {
     "name": "stdout",
     "output_type": "stream",
     "text": [
      ">Train: 0=60608, 1=41335, Test: 0=6735, 1=4592\n",
      ">Train: 0=60608, 1=41335, Test: 0=6735, 1=4592\n",
      ">Train: 0=60608, 1=41335, Test: 0=6735, 1=4592\n",
      ">Train: 0=60609, 1=41334, Test: 0=6734, 1=4593\n",
      ">Train: 0=60609, 1=41334, Test: 0=6734, 1=4593\n",
      ">Train: 0=60609, 1=41334, Test: 0=6734, 1=4593\n",
      ">Train: 0=60609, 1=41334, Test: 0=6734, 1=4593\n",
      ">Train: 0=60609, 1=41334, Test: 0=6734, 1=4593\n",
      ">Train: 0=60609, 1=41334, Test: 0=6734, 1=4593\n",
      ">Train: 0=60609, 1=41334, Test: 0=6734, 1=4593\n"
     ]
    },
    {
     "data": {
      "text/plain": [
       "{'Mean Training Accuracy': 0.9999519339238594,\n",
       " 'Mean Training Precision': 0.9999274246807254,\n",
       " 'Mean Training Recall': 0.999954033175056,\n",
       " 'Mean Training F1 Score': 0.9999407279768983,\n",
       " 'Mean Validation Accuracy': 0.9997263176480976,\n",
       " 'Mean Validation Precision': 0.9997604813994254,\n",
       " 'Mean Validation Recall': 0.9995645405332004,\n",
       " 'Mean Validation F1 Score': 0.9996624718508503}"
      ]
     },
     "execution_count": 10,
     "metadata": {},
     "output_type": "execute_result"
    }
   ],
   "source": [
    "stratifiedCV(RandomForestClassifier(n_estimators=64,n_jobs=2), pd.DataFrame(X_dos_ss), y_dos, 10, 1)"
   ]
  },
  {
   "cell_type": "markdown",
   "metadata": {},
   "source": [
    "#### Predict on dos"
   ]
  },
  {
   "cell_type": "code",
   "execution_count": 11,
   "metadata": {},
   "outputs": [
    {
     "data": {
      "image/png": "[encoded data removed]",
      "text/plain": [
       "<Figure size 432x288 with 2 Axes>"
      ]
     },
     "metadata": {
      "needs_background": "light"
     },
     "output_type": "display_data"
    },
    {
     "name": "stdout",
     "output_type": "stream",
     "text": [
      "Accuracy: 0.89342 \n",
      "Precision: 0.98821 \n",
      "Recall: 0.76381 \n",
      "F-measure: 0.86164 \n"
     ]
    }
   ],
   "source": [
    "y_dos_prediction = randomForest(X_dos, y_dos).predict(X_dos_test)\n",
    "plotConfusionMatrix(y_dos_prediction, y_dos_test, 1)"
   ]
  },
  {
   "cell_type": "code",
   "execution_count": 12,
   "metadata": {
    "colab": {
     "base_uri": "https://localhost:8080/",
     "height": 364
    },
    "executionInfo": {
     "elapsed": 4929,
     "status": "ok",
     "timestamp": 1675470845682,
     "user": {
      "displayName": "DANIELE PALMIERI",
      "userId": "13749636301499067245"
     },
     "user_tz": -60
    },
    "id": "Joltm67yirLe",
    "outputId": "ed2979dd-8dd0-40a2-f7aa-697b4804a602"
   },
   "outputs": [
    {
     "data": {
      "image/png": "[encoded data removed]",
      "text/plain": [
       "<Figure size 432x288 with 2 Axes>"
      ]
     },
     "metadata": {
      "needs_background": "light"
     },
     "output_type": "display_data"
    },
    {
     "name": "stdout",
     "output_type": "stream",
     "text": [
      "Accuracy: 0.85411 \n",
      "Precision: 0.96736 \n",
      "Recall: 0.68740 \n",
      "F-measure: 0.80370 \n"
     ]
    }
   ],
   "source": [
    "y_dos_prediction = randomForest(X_dos_ss, y_dos).predict(X_dos_test_ss)\n",
    "plotConfusionMatrix(y_dos_prediction, y_dos_test, 1)"
   ]
  },
  {
   "cell_type": "markdown",
   "metadata": {},
   "source": [
    "#### K-fold cross validation on probe"
   ]
  },
  {
   "cell_type": "code",
   "execution_count": 13,
   "metadata": {},
   "outputs": [
    {
     "name": "stdout",
     "output_type": "stream",
     "text": [
      ">Train: 0=60593, 1=10506, Test: 0=6750, 1=1150\n",
      ">Train: 0=60590, 1=10509, Test: 0=6753, 1=1147\n",
      ">Train: 0=60636, 1=10463, Test: 0=6707, 1=1193\n",
      ">Train: 0=60669, 1=10430, Test: 0=6674, 1=1226\n",
      ">Train: 0=60629, 1=10470, Test: 0=6714, 1=1186\n",
      ">Train: 0=60576, 1=10523, Test: 0=6767, 1=1133\n",
      ">Train: 0=60547, 1=10552, Test: 0=6796, 1=1104\n",
      ">Train: 0=60628, 1=10471, Test: 0=6715, 1=1185\n",
      ">Train: 0=60592, 1=10507, Test: 0=6751, 1=1149\n",
      ">Train: 0=60627, 1=10473, Test: 0=6716, 1=1183\n"
     ]
    },
    {
     "data": {
      "text/plain": [
       "{'Mean Training Accuracy': 0.9999760897173369,\n",
       " 'Mean Training Precision': 0.9999522775349463,\n",
       " 'Mean Training Recall': 0.9998856551446046,\n",
       " 'Mean Training F1 Score': 0.9999189629380425,\n",
       " 'Mean Validation Accuracy': 0.998886066334306,\n",
       " 'Mean Validation Precision': 0.9979432751260351,\n",
       " 'Mean Validation Recall': 0.9944967951671717,\n",
       " 'Mean Validation F1 Score': 0.9962159397221664}"
      ]
     },
     "execution_count": 13,
     "metadata": {},
     "output_type": "execute_result"
    }
   ],
   "source": [
    "KfoldCV(RandomForestClassifier(n_estimators=64,n_jobs=2), pd.DataFrame(X_probe), y_probe, 10, 2)"
   ]
  },
  {
   "cell_type": "markdown",
   "metadata": {},
   "source": [
    "#### K-fold cross validation on probe Standard Scaler"
   ]
  },
  {
   "cell_type": "code",
   "execution_count": 14,
   "metadata": {},
   "outputs": [
    {
     "name": "stdout",
     "output_type": "stream",
     "text": [
      ">Train: 0=60593, 1=10506, Test: 0=6750, 1=1150\n",
      ">Train: 0=60590, 1=10509, Test: 0=6753, 1=1147\n",
      ">Train: 0=60636, 1=10463, Test: 0=6707, 1=1193\n",
      ">Train: 0=60669, 1=10430, Test: 0=6674, 1=1226\n",
      ">Train: 0=60629, 1=10470, Test: 0=6714, 1=1186\n",
      ">Train: 0=60576, 1=10523, Test: 0=6767, 1=1133\n",
      ">Train: 0=60547, 1=10552, Test: 0=6796, 1=1104\n",
      ">Train: 0=60628, 1=10471, Test: 0=6715, 1=1185\n",
      ">Train: 0=60592, 1=10507, Test: 0=6751, 1=1149\n",
      ">Train: 0=60627, 1=10473, Test: 0=6716, 1=1183\n"
     ]
    },
    {
     "data": {
      "text/plain": [
       "{'Mean Training Accuracy': 0.9999760897173369,\n",
       " 'Mean Training Precision': 0.9999426858475738,\n",
       " 'Mean Training Recall': 0.9998952504851021,\n",
       " 'Mean Training F1 Score': 0.9999189638585987,\n",
       " 'Mean Validation Accuracy': 0.9988860631292857,\n",
       " 'Mean Validation Precision': 0.9981163830219602,\n",
       " 'Mean Validation Recall': 0.9943363783631508,\n",
       " 'Mean Validation F1 Score': 0.9962220174022589}"
      ]
     },
     "execution_count": 14,
     "metadata": {},
     "output_type": "execute_result"
    }
   ],
   "source": [
    "KfoldCV(RandomForestClassifier(n_estimators=64,n_jobs=2), pd.DataFrame(X_probe_ss), y_probe, 10, 2)"
   ]
  },
  {
   "cell_type": "markdown",
   "metadata": {},
   "source": [
    "#### Stratified cross validation on probe"
   ]
  },
  {
   "cell_type": "code",
   "execution_count": 15,
   "metadata": {},
   "outputs": [
    {
     "name": "stdout",
     "output_type": "stream",
     "text": [
      ">Train: 0=60608, 1=10491, Test: 0=6735, 1=1165\n",
      ">Train: 0=60608, 1=10491, Test: 0=6735, 1=1165\n",
      ">Train: 0=60608, 1=10491, Test: 0=6735, 1=1165\n",
      ">Train: 0=60609, 1=10490, Test: 0=6734, 1=1166\n",
      ">Train: 0=60609, 1=10490, Test: 0=6734, 1=1166\n",
      ">Train: 0=60609, 1=10490, Test: 0=6734, 1=1166\n",
      ">Train: 0=60609, 1=10490, Test: 0=6734, 1=1166\n",
      ">Train: 0=60609, 1=10490, Test: 0=6734, 1=1166\n",
      ">Train: 0=60609, 1=10490, Test: 0=6734, 1=1166\n",
      ">Train: 0=60609, 1=10491, Test: 0=6734, 1=1165\n"
     ]
    },
    {
     "data": {
      "text/plain": [
       "{'Mean Training Accuracy': 0.9999760897173369,\n",
       " 'Mean Training Precision': 0.9999332715980895,\n",
       " 'Mean Training Recall': 0.9999046756587129,\n",
       " 'Mean Training F1 Score': 0.9999189720382559,\n",
       " 'Mean Validation Accuracy': 0.9990253084431453,\n",
       " 'Mean Validation Precision': 0.9986226151053484,\n",
       " 'Mean Validation Recall': 0.994766672310603,\n",
       " 'Mean Validation F1 Score': 0.9966897955742017}"
      ]
     },
     "execution_count": 15,
     "metadata": {},
     "output_type": "execute_result"
    }
   ],
   "source": [
    "stratifiedCV(RandomForestClassifier(n_estimators=64,n_jobs=2), pd.DataFrame(X_probe), y_probe, 10, 2)"
   ]
  },
  {
   "cell_type": "markdown",
   "metadata": {},
   "source": [
    "#### Stratified cross validation on probe Standard Scaler"
   ]
  },
  {
   "cell_type": "code",
   "execution_count": 16,
   "metadata": {},
   "outputs": [
    {
     "name": "stdout",
     "output_type": "stream",
     "text": [
      ">Train: 0=60608, 1=10491, Test: 0=6735, 1=1165\n",
      ">Train: 0=60608, 1=10491, Test: 0=6735, 1=1165\n",
      ">Train: 0=60608, 1=10491, Test: 0=6735, 1=1165\n",
      ">Train: 0=60609, 1=10490, Test: 0=6734, 1=1166\n",
      ">Train: 0=60609, 1=10490, Test: 0=6734, 1=1166\n",
      ">Train: 0=60609, 1=10490, Test: 0=6734, 1=1166\n",
      ">Train: 0=60609, 1=10490, Test: 0=6734, 1=1166\n",
      ">Train: 0=60609, 1=10490, Test: 0=6734, 1=1166\n",
      ">Train: 0=60609, 1=10490, Test: 0=6734, 1=1166\n",
      ">Train: 0=60609, 1=10491, Test: 0=6734, 1=1165\n"
     ]
    },
    {
     "data": {
      "text/plain": [
       "{'Mean Training Accuracy': 0.999974683227794,\n",
       " 'Mean Training Precision': 0.9999428044865549,\n",
       " 'Mean Training Recall': 0.9998856107904557,\n",
       " 'Mean Training F1 Score': 0.9999142044579982,\n",
       " 'Mean Validation Accuracy': 0.9989746739292427,\n",
       " 'Mean Validation Precision': 0.9986214243780648,\n",
       " 'Mean Validation Recall': 0.9944235455208004,\n",
       " 'Mean Validation F1 Score': 0.9965163464902853}"
      ]
     },
     "execution_count": 16,
     "metadata": {},
     "output_type": "execute_result"
    }
   ],
   "source": [
    "stratifiedCV(RandomForestClassifier(n_estimators=64,n_jobs=2), pd.DataFrame(X_probe_ss), y_probe, 10, 2)"
   ]
  },
  {
   "cell_type": "markdown",
   "metadata": {},
   "source": [
    "#### Predict on probe"
   ]
  },
  {
   "cell_type": "code",
   "execution_count": 17,
   "metadata": {},
   "outputs": [
    {
     "data": {
      "image/png": "[encoded data removed]",
      "text/plain": [
       "<Figure size 432x288 with 2 Axes>"
      ]
     },
     "metadata": {
      "needs_background": "light"
     },
     "output_type": "display_data"
    },
    {
     "name": "stdout",
     "output_type": "stream",
     "text": [
      "Accuracy: 0.90834 \n",
      "Precision: 0.88297 \n",
      "Recall: 0.62330 \n",
      "F-measure: 0.73075 \n"
     ]
    }
   ],
   "source": [
    "y_probe_prediction = randomForest(X_probe, y_probe).predict(X_probe_test)\n",
    "plotConfusionMatrix(y_probe_prediction, y_probe_test, 2)"
   ]
  },
  {
   "cell_type": "code",
   "execution_count": 18,
   "metadata": {
    "colab": {
     "base_uri": "https://localhost:8080/",
     "height": 364
    },
    "executionInfo": {
     "elapsed": 6347,
     "status": "ok",
     "timestamp": 1675467170864,
     "user": {
      "displayName": "DANIELE PALMIERI",
      "userId": "13749636301499067245"
     },
     "user_tz": -60
    },
    "id": "h5WF5zwFi1Hp",
    "outputId": "d3e61c1d-fb82-4f4e-dbee-25386bf77bb7"
   },
   "outputs": [
    {
     "data": {
      "image/png": "[encoded data removed]",
      "text/plain": [
       "<Figure size 432x288 with 2 Axes>"
      ]
     },
     "metadata": {
      "needs_background": "light"
     },
     "output_type": "display_data"
    },
    {
     "name": "stdout",
     "output_type": "stream",
     "text": [
      "Accuracy: 0.89318 \n",
      "Precision: 0.84029 \n",
      "Recall: 0.57373 \n",
      "F-measure: 0.68189 \n"
     ]
    }
   ],
   "source": [
    "y_probe_prediction = randomForest(X_probe_ss, y_probe).predict(X_probe_test_ss)\n",
    "plotConfusionMatrix(y_probe_prediction, y_probe_test, 2)"
   ]
  },
  {
   "cell_type": "markdown",
   "metadata": {},
   "source": [
    "#### K-fold cross validation on r2l"
   ]
  },
  {
   "cell_type": "code",
   "execution_count": 19,
   "metadata": {},
   "outputs": [
    {
     "name": "stdout",
     "output_type": "stream",
     "text": [
      ">Train: 0=60615, 1=889, Test: 0=6728, 1=106\n",
      ">Train: 0=60612, 1=892, Test: 0=6731, 1=103\n",
      ">Train: 0=60628, 1=876, Test: 0=6715, 1=119\n",
      ">Train: 0=60613, 1=891, Test: 0=6730, 1=104\n",
      ">Train: 0=60610, 1=894, Test: 0=6733, 1=101\n",
      ">Train: 0=60591, 1=913, Test: 0=6752, 1=82\n",
      ">Train: 0=60599, 1=905, Test: 0=6744, 1=90\n",
      ">Train: 0=60597, 1=907, Test: 0=6746, 1=88\n",
      ">Train: 0=60614, 1=891, Test: 0=6729, 1=104\n",
      ">Train: 0=60608, 1=897, Test: 0=6735, 1=98\n"
     ]
    },
    {
     "data": {
      "text/plain": [
       "{'Mean Training Accuracy': 1.0,\n",
       " 'Mean Training Precision': 1.0,\n",
       " 'Mean Training Recall': 1.0,\n",
       " 'Mean Training F1 Score': 1.0,\n",
       " 'Mean Validation Accuracy': 0.9994146762592886,\n",
       " 'Mean Validation Precision': 0.9967654320987656,\n",
       " 'Mean Validation Recall': 0.9627836916996888,\n",
       " 'Mean Validation F1 Score': 0.9794075244678835}"
      ]
     },
     "execution_count": 19,
     "metadata": {},
     "output_type": "execute_result"
    }
   ],
   "source": [
    "KfoldCV(RandomForestClassifier(n_estimators=64,n_jobs=2), pd.DataFrame(X_r2l), y_r2l, 10, 3)"
   ]
  },
  {
   "cell_type": "markdown",
   "metadata": {},
   "source": [
    "#### K-fold cross validation on r2l Standard Scaler"
   ]
  },
  {
   "cell_type": "code",
   "execution_count": 20,
   "metadata": {},
   "outputs": [
    {
     "name": "stdout",
     "output_type": "stream",
     "text": [
      ">Train: 0=60615, 1=889, Test: 0=6728, 1=106\n",
      ">Train: 0=60612, 1=892, Test: 0=6731, 1=103\n",
      ">Train: 0=60628, 1=876, Test: 0=6715, 1=119\n",
      ">Train: 0=60613, 1=891, Test: 0=6730, 1=104\n",
      ">Train: 0=60610, 1=894, Test: 0=6733, 1=101\n",
      ">Train: 0=60591, 1=913, Test: 0=6752, 1=82\n",
      ">Train: 0=60599, 1=905, Test: 0=6744, 1=90\n",
      ">Train: 0=60597, 1=907, Test: 0=6746, 1=88\n",
      ">Train: 0=60614, 1=891, Test: 0=6729, 1=104\n",
      ">Train: 0=60608, 1=897, Test: 0=6735, 1=98\n"
     ]
    },
    {
     "data": {
      "text/plain": [
       "{'Mean Training Accuracy': 0.9999983740894901,\n",
       " 'Mean Training Precision': 1.0,\n",
       " 'Mean Training Recall': 0.9998877665544332,\n",
       " 'Mean Training F1 Score': 0.9999438517686693,\n",
       " 'Mean Validation Accuracy': 0.9993122493694525,\n",
       " 'Mean Validation Precision': 0.9953460553225465,\n",
       " 'Mean Validation Recall': 0.9569115720757507,\n",
       " 'Mean Validation F1 Score': 0.9756063744576737}"
      ]
     },
     "execution_count": 20,
     "metadata": {},
     "output_type": "execute_result"
    }
   ],
   "source": [
    "KfoldCV(RandomForestClassifier(n_estimators=64,n_jobs=2), pd.DataFrame(X_r2l_ss), y_r2l, 10, 3)"
   ]
  },
  {
   "cell_type": "markdown",
   "metadata": {},
   "source": [
    "#### Stratified cross validation on r2l"
   ]
  },
  {
   "cell_type": "code",
   "execution_count": 21,
   "metadata": {},
   "outputs": [
    {
     "name": "stdout",
     "output_type": "stream",
     "text": [
      ">Train: 0=60608, 1=896, Test: 0=6735, 1=99\n",
      ">Train: 0=60608, 1=896, Test: 0=6735, 1=99\n",
      ">Train: 0=60608, 1=896, Test: 0=6735, 1=99\n",
      ">Train: 0=60609, 1=895, Test: 0=6734, 1=100\n",
      ">Train: 0=60609, 1=895, Test: 0=6734, 1=100\n",
      ">Train: 0=60609, 1=895, Test: 0=6734, 1=100\n",
      ">Train: 0=60609, 1=895, Test: 0=6734, 1=100\n",
      ">Train: 0=60609, 1=895, Test: 0=6734, 1=100\n",
      ">Train: 0=60609, 1=896, Test: 0=6734, 1=99\n",
      ">Train: 0=60609, 1=896, Test: 0=6734, 1=99\n"
     ]
    },
    {
     "data": {
      "text/plain": [
       "{'Mean Training Accuracy': 1.0,\n",
       " 'Mean Training Precision': 1.0,\n",
       " 'Mean Training Recall': 1.0,\n",
       " 'Mean Training F1 Score': 1.0,\n",
       " 'Mean Validation Accuracy': 0.9992244530568977,\n",
       " 'Mean Validation Precision': 0.9948413978494625,\n",
       " 'Mean Validation Recall': 0.9517979797979799,\n",
       " 'Mean Validation F1 Score': 0.9727055101670523}"
      ]
     },
     "execution_count": 21,
     "metadata": {},
     "output_type": "execute_result"
    }
   ],
   "source": [
    "stratifiedCV(RandomForestClassifier(n_estimators=64,n_jobs=2), pd.DataFrame(X_r2l), y_r2l, 10, 3)"
   ]
  },
  {
   "cell_type": "markdown",
   "metadata": {},
   "source": [
    "#### Stratified cross validation on r2l Standard Scaler"
   ]
  },
  {
   "cell_type": "code",
   "execution_count": 22,
   "metadata": {},
   "outputs": [
    {
     "name": "stdout",
     "output_type": "stream",
     "text": [
      ">Train: 0=60608, 1=896, Test: 0=6735, 1=99\n",
      ">Train: 0=60608, 1=896, Test: 0=6735, 1=99\n",
      ">Train: 0=60608, 1=896, Test: 0=6735, 1=99\n",
      ">Train: 0=60609, 1=895, Test: 0=6734, 1=100\n",
      ">Train: 0=60609, 1=895, Test: 0=6734, 1=100\n",
      ">Train: 0=60609, 1=895, Test: 0=6734, 1=100\n",
      ">Train: 0=60609, 1=895, Test: 0=6734, 1=100\n",
      ">Train: 0=60609, 1=895, Test: 0=6734, 1=100\n",
      ">Train: 0=60609, 1=896, Test: 0=6734, 1=99\n",
      ">Train: 0=60609, 1=896, Test: 0=6734, 1=99\n"
     ]
    },
    {
     "data": {
      "text/plain": [
       "{'Mean Training Accuracy': 0.9999967481789802,\n",
       " 'Mean Training Precision': 1.0,\n",
       " 'Mean Training Recall': 0.9997766610135674,\n",
       " 'Mean Training F1 Score': 0.9998882681215531,\n",
       " 'Mean Validation Accuracy': 0.9992390836341787,\n",
       " 'Mean Validation Precision': 0.9928430985297346,\n",
       " 'Mean Validation Recall': 0.9547878787878787,\n",
       " 'Mean Validation F1 Score': 0.9732851582698483}"
      ]
     },
     "execution_count": 22,
     "metadata": {},
     "output_type": "execute_result"
    }
   ],
   "source": [
    "stratifiedCV(RandomForestClassifier(n_estimators=64,n_jobs=2), pd.DataFrame(X_r2l_ss), y_r2l, 10, 3)"
   ]
  },
  {
   "cell_type": "markdown",
   "metadata": {},
   "source": [
    "#### Predict on r2l"
   ]
  },
  {
   "cell_type": "code",
   "execution_count": 23,
   "metadata": {},
   "outputs": [
    {
     "data": {
      "image/png": "[encoded data removed]",
      "text/plain": [
       "<Figure size 432x288 with 2 Axes>"
      ]
     },
     "metadata": {
      "needs_background": "light"
     },
     "output_type": "display_data"
    },
    {
     "name": "stdout",
     "output_type": "stream",
     "text": [
      "Accuracy: 0.77413 \n",
      "Precision: 0.97619 \n",
      "Recall: 0.01421 \n",
      "F-measure: 0.02802 \n"
     ]
    }
   ],
   "source": [
    "y_r2l_prediction = randomForest(X_r2l, y_r2l).predict(X_r2l_test)\n",
    "plotConfusionMatrix(y_r2l_prediction, y_r2l_test, 3)"
   ]
  },
  {
   "cell_type": "code",
   "execution_count": 24,
   "metadata": {
    "colab": {
     "base_uri": "https://localhost:8080/",
     "height": 419
    },
    "executionInfo": {
     "elapsed": 3386,
     "status": "ok",
     "timestamp": 1675467178041,
     "user": {
      "displayName": "DANIELE PALMIERI",
      "userId": "13749636301499067245"
     },
     "user_tz": -60
    },
    "id": "KLBJwuXKkuCS",
    "outputId": "c3a687db-515e-464c-ec9e-aa8e5da61089"
   },
   "outputs": [
    {
     "data": {
      "image/png": "[encoded data removed]",
      "text/plain": [
       "<Figure size 432x288 with 2 Axes>"
      ]
     },
     "metadata": {
      "needs_background": "light"
     },
     "output_type": "display_data"
    },
    {
     "name": "stdout",
     "output_type": "stream",
     "text": [
      "Accuracy: 0.77096 \n",
      "Precision: 0.00000 \n",
      "Recall: 0.00000 \n",
      "F-measure: 0.00000 \n"
     ]
    },
    {
     "name": "stderr",
     "output_type": "stream",
     "text": [
      "C:\\Users\\Daniele\\anaconda3\\lib\\site-packages\\sklearn\\metrics\\_classification.py:1344: UndefinedMetricWarning: Precision is ill-defined and being set to 0.0 due to no predicted samples. Use `zero_division` parameter to control this behavior.\n",
      "  _warn_prf(average, modifier, msg_start, len(result))\n"
     ]
    }
   ],
   "source": [
    "y_r2l_prediction = randomForest(X_r2l_ss, y_r2l).predict(X_r2l_test_ss)\n",
    "plotConfusionMatrix(y_r2l_prediction, y_r2l_test, 3)"
   ]
  },
  {
   "cell_type": "markdown",
   "metadata": {},
   "source": [
    "#### K-fold cross validation on u2r"
   ]
  },
  {
   "cell_type": "code",
   "execution_count": 25,
   "metadata": {},
   "outputs": [
    {
     "name": "stdout",
     "output_type": "stream",
     "text": [
      ">Train: 0=60608, 1=47, Test: 0=6735, 1=5\n",
      ">Train: 0=60609, 1=46, Test: 0=6734, 1=6\n",
      ">Train: 0=60609, 1=46, Test: 0=6734, 1=6\n",
      ">Train: 0=60609, 1=46, Test: 0=6734, 1=6\n",
      ">Train: 0=60607, 1=48, Test: 0=6736, 1=4\n",
      ">Train: 0=60612, 1=44, Test: 0=6731, 1=8\n",
      ">Train: 0=60609, 1=47, Test: 0=6734, 1=5\n",
      ">Train: 0=60607, 1=49, Test: 0=6736, 1=3\n",
      ">Train: 0=60609, 1=47, Test: 0=6734, 1=5\n",
      ">Train: 0=60608, 1=48, Test: 0=6735, 1=4\n"
     ]
    },
    {
     "data": {
      "text/plain": [
       "{'Mean Training Accuracy': 0.9999868107591222,\n",
       " 'Mean Training Precision': 0.9979166666666668,\n",
       " 'Mean Training Recall': 0.9849574608247134,\n",
       " 'Mean Training F1 Score': 0.991344340143591,\n",
       " 'Mean Validation Accuracy': 0.9995845367084639,\n",
       " 'Mean Validation Precision': 0.9133333333333333,\n",
       " 'Mean Validation Recall': 0.5233333333333333,\n",
       " 'Mean Validation F1 Score': 0.6472510822510823}"
      ]
     },
     "execution_count": 25,
     "metadata": {},
     "output_type": "execute_result"
    }
   ],
   "source": [
    "KfoldCV(RandomForestClassifier(n_estimators=64,n_jobs=2), pd.DataFrame(X_u2r), y_u2r, 10, 4)"
   ]
  },
  {
   "cell_type": "markdown",
   "metadata": {},
   "source": [
    "#### K-fold cross validation on u2r Standard Scaler"
   ]
  },
  {
   "cell_type": "code",
   "execution_count": 26,
   "metadata": {},
   "outputs": [
    {
     "name": "stdout",
     "output_type": "stream",
     "text": [
      ">Train: 0=60608, 1=47, Test: 0=6735, 1=5\n",
      ">Train: 0=60609, 1=46, Test: 0=6734, 1=6\n",
      ">Train: 0=60609, 1=46, Test: 0=6734, 1=6\n",
      ">Train: 0=60609, 1=46, Test: 0=6734, 1=6\n",
      ">Train: 0=60607, 1=48, Test: 0=6736, 1=4\n",
      ">Train: 0=60612, 1=44, Test: 0=6731, 1=8\n",
      ">Train: 0=60609, 1=47, Test: 0=6734, 1=5\n",
      ">Train: 0=60607, 1=49, Test: 0=6736, 1=3\n",
      ">Train: 0=60609, 1=47, Test: 0=6734, 1=5\n",
      ">Train: 0=60608, 1=48, Test: 0=6735, 1=4\n"
     ]
    },
    {
     "data": {
      "text/plain": [
       "{'Mean Training Accuracy': 0.9999851620904223,\n",
       " 'Mean Training Precision': 0.9978260869565216,\n",
       " 'Mean Training Recall': 0.9828298012502452,\n",
       " 'Mean Training F1 Score': 0.9902466909607568,\n",
       " 'Mean Validation Accuracy': 0.9995548587146963,\n",
       " 'Mean Validation Precision': 0.8300000000000001,\n",
       " 'Mean Validation Recall': 0.525,\n",
       " 'Mean Validation F1 Score': 0.6336796536796537}"
      ]
     },
     "execution_count": 26,
     "metadata": {},
     "output_type": "execute_result"
    }
   ],
   "source": [
    "KfoldCV(RandomForestClassifier(n_estimators=64,n_jobs=2), pd.DataFrame(X_u2r_ss), y_u2r, 10, 4)"
   ]
  },
  {
   "cell_type": "markdown",
   "metadata": {},
   "source": [
    "#### Stratified cross validation on u2r"
   ]
  },
  {
   "cell_type": "code",
   "execution_count": 27,
   "metadata": {},
   "outputs": [
    {
     "name": "stdout",
     "output_type": "stream",
     "text": [
      ">Train: 0=60608, 1=47, Test: 0=6735, 1=5\n",
      ">Train: 0=60608, 1=47, Test: 0=6735, 1=5\n",
      ">Train: 0=60608, 1=47, Test: 0=6735, 1=5\n",
      ">Train: 0=60609, 1=46, Test: 0=6734, 1=6\n",
      ">Train: 0=60609, 1=46, Test: 0=6734, 1=6\n",
      ">Train: 0=60609, 1=47, Test: 0=6734, 1=5\n",
      ">Train: 0=60609, 1=47, Test: 0=6734, 1=5\n",
      ">Train: 0=60609, 1=47, Test: 0=6734, 1=5\n",
      ">Train: 0=60609, 1=47, Test: 0=6734, 1=5\n",
      ">Train: 0=60609, 1=47, Test: 0=6734, 1=5\n"
     ]
    },
    {
     "data": {
      "text/plain": [
       "{'Mean Training Accuracy': 0.9999851621176028,\n",
       " 'Mean Training Precision': 0.9979166666666666,\n",
       " 'Mean Training Recall': 0.9829324699352453,\n",
       " 'Mean Training F1 Score': 0.9903215856017216,\n",
       " 'Mean Validation Accuracy': 0.9995251873258233,\n",
       " 'Mean Validation Precision': 0.85,\n",
       " 'Mean Validation Recall': 0.4800000000000001,\n",
       " 'Mean Validation F1 Score': 0.6026190476190475}"
      ]
     },
     "execution_count": 27,
     "metadata": {},
     "output_type": "execute_result"
    }
   ],
   "source": [
    "stratifiedCV(RandomForestClassifier(n_estimators=64,n_jobs=2), pd.DataFrame(X_u2r), y_u2r, 10, 4)"
   ]
  },
  {
   "cell_type": "markdown",
   "metadata": {},
   "source": [
    "#### Stratified cross validation on u2r Standard Scaler"
   ]
  },
  {
   "cell_type": "code",
   "execution_count": 28,
   "metadata": {},
   "outputs": [
    {
     "name": "stdout",
     "output_type": "stream",
     "text": [
      ">Train: 0=60608, 1=47, Test: 0=6735, 1=5\n",
      ">Train: 0=60608, 1=47, Test: 0=6735, 1=5\n",
      ">Train: 0=60608, 1=47, Test: 0=6735, 1=5\n",
      ">Train: 0=60609, 1=46, Test: 0=6734, 1=6\n",
      ">Train: 0=60609, 1=46, Test: 0=6734, 1=6\n",
      ">Train: 0=60609, 1=47, Test: 0=6734, 1=5\n",
      ">Train: 0=60609, 1=47, Test: 0=6734, 1=5\n",
      ">Train: 0=60609, 1=47, Test: 0=6734, 1=5\n",
      ">Train: 0=60609, 1=47, Test: 0=6734, 1=5\n",
      ">Train: 0=60609, 1=47, Test: 0=6734, 1=5\n"
     ]
    },
    {
     "data": {
      "text/plain": [
       "{'Mean Training Accuracy': 0.9999835134217221,\n",
       " 'Mean Training Precision': 1.0,\n",
       " 'Mean Training Recall': 0.978677150786309,\n",
       " 'Mean Training F1 Score': 0.9891527827011697,\n",
       " 'Mean Validation Accuracy': 0.9995251829225603,\n",
       " 'Mean Validation Precision': 0.8583333333333334,\n",
       " 'Mean Validation Recall': 0.4800000000000001,\n",
       " 'Mean Validation F1 Score': 0.5948773448773449}"
      ]
     },
     "execution_count": 28,
     "metadata": {},
     "output_type": "execute_result"
    }
   ],
   "source": [
    "stratifiedCV(RandomForestClassifier(n_estimators=64,n_jobs=2), pd.DataFrame(X_u2r_ss), y_u2r, 10, 4)"
   ]
  },
  {
   "cell_type": "markdown",
   "metadata": {},
   "source": [
    "#### Predict on u2r"
   ]
  },
  {
   "cell_type": "code",
   "execution_count": 29,
   "metadata": {},
   "outputs": [
    {
     "data": {
      "image/png": "[encoded data removed]",
      "text/plain": [
       "<Figure size 432x288 with 2 Axes>"
      ]
     },
     "metadata": {
      "needs_background": "light"
     },
     "output_type": "display_data"
    },
    {
     "name": "stdout",
     "output_type": "stream",
     "text": [
      "Accuracy: 0.99356 \n",
      "Precision: 1.00000 \n",
      "Recall: 0.05970 \n",
      "F-measure: 0.11268 \n"
     ]
    }
   ],
   "source": [
    "y_u2r_prediction = randomForest(X_u2r, y_u2r).predict(X_u2r_test)\n",
    "plotConfusionMatrix(y_u2r_prediction, y_u2r_test, 4)"
   ]
  },
  {
   "cell_type": "code",
   "execution_count": 30,
   "metadata": {
    "colab": {
     "base_uri": "https://localhost:8080/",
     "height": 364
    },
    "executionInfo": {
     "elapsed": 2602,
     "status": "ok",
     "timestamp": 1675467181725,
     "user": {
      "displayName": "DANIELE PALMIERI",
      "userId": "13749636301499067245"
     },
     "user_tz": -60
    },
    "id": "fBPk_5Rzk4tF",
    "outputId": "593a987a-9117-46af-b74d-090b5ef20e5a",
    "scrolled": true
   },
   "outputs": [
    {
     "data": {
      "image/png": "[encoded data removed]",
      "text/plain": [
       "<Figure size 432x288 with 2 Axes>"
      ]
     },
     "metadata": {
      "needs_background": "light"
     },
     "output_type": "display_data"
    },
    {
     "name": "stdout",
     "output_type": "stream",
     "text": [
      "Accuracy: 0.99315 \n",
      "Precision: 0.00000 \n",
      "Recall: 0.00000 \n",
      "F-measure: 0.00000 \n"
     ]
    },
    {
     "name": "stderr",
     "output_type": "stream",
     "text": [
      "C:\\Users\\Daniele\\anaconda3\\lib\\site-packages\\sklearn\\metrics\\_classification.py:1344: UndefinedMetricWarning: Precision is ill-defined and being set to 0.0 due to no predicted samples. Use `zero_division` parameter to control this behavior.\n",
      "  _warn_prf(average, modifier, msg_start, len(result))\n"
     ]
    }
   ],
   "source": [
    "y_u2r_prediction = randomForest(X_u2r_ss, y_u2r).predict(X_u2r_test_ss)\n",
    "plotConfusionMatrix(y_u2r_prediction, y_u2r_test, 4)"
   ]
  },
  {
   "cell_type": "markdown",
   "metadata": {
    "id": "C2zvGxJ7lNn5"
   },
   "source": [
    "## Feature Selection"
   ]
  },
  {
   "cell_type": "code",
   "execution_count": 31,
   "metadata": {},
   "outputs": [],
   "source": [
    "\n",
    "X_dos_rfe, rfecolname_dos = recursiveFeatureExtraction(RandomForestClassifier(n_estimators=64,n_jobs=2), X_dos, y_dos, 13)\n",
    "X_probe_rfe, rfecolname_probe = recursiveFeatureExtraction(RandomForestClassifier(n_estimators=64,n_jobs=2), X_probe, y_probe, 13)\n",
    "X_r2l_rfe, rfecolname_r2l = recursiveFeatureExtraction(RandomForestClassifier(n_estimators=64,n_jobs=2), X_r2l, y_r2l, 13)\n",
    "X_u2r_rfe, rfecolname_u2r = recursiveFeatureExtraction(RandomForestClassifier(n_estimators=64,n_jobs=2), X_u2r, y_u2r, 13)\n",
    "\n",
    "X_dos_test_rfe=X_dos_test.values[:,rfecolname_dos]\n",
    "X_probe_test_rfe=X_probe_test.values[:,rfecolname_probe]\n",
    "X_r2l_test_rfe=X_r2l_test.values[:,rfecolname_r2l]\n",
    "X_u2r_test_rfe=X_u2r_test.values[:,rfecolname_u2r]"
   ]
  },
  {
   "cell_type": "code",
   "execution_count": 32,
   "metadata": {
    "id": "laARHIiBlSgF"
   },
   "outputs": [],
   "source": [
    "X_dos_rfe_ss, rfecolname_dosSS = recursiveFeatureExtraction(RandomForestClassifier(n_estimators=64,n_jobs=2), X_dos_ss, y_dos, 13)\n",
    "X_probe_rfe_ss, rfecolname_probeSS = recursiveFeatureExtraction(RandomForestClassifier(n_estimators=64,n_jobs=2), X_probe_ss, y_probe, 13)\n",
    "X_r2l_rfe_ss, rfecolname_r2lSS = recursiveFeatureExtraction(RandomForestClassifier(n_estimators=64,n_jobs=2), X_r2l_ss, y_r2l, 13)\n",
    "X_u2r_rfe_ss, rfecolname_u2rSS = recursiveFeatureExtraction(RandomForestClassifier(n_estimators=64,n_jobs=2), X_u2r_ss, y_u2r, 13)\n",
    "\n",
    "X_dos_test_rfe_ss=X_dos_test_ss[:,rfecolname_dosSS]\n",
    "X_probe_test_rfe_ss=X_probe_test_ss[:,rfecolname_probeSS]\n",
    "X_r2l_test_rfe_ss=X_r2l_test_ss[:,rfecolname_r2lSS]\n",
    "X_u2r_test_rfe_ss=X_u2r_test_ss[:,rfecolname_u2rSS]"
   ]
  },
  {
   "cell_type": "markdown",
   "metadata": {},
   "source": [
    "#### K-fold cross validation on dos"
   ]
  },
  {
   "cell_type": "code",
   "execution_count": 33,
   "metadata": {},
   "outputs": [
    {
     "name": "stdout",
     "output_type": "stream",
     "text": [
      ">Train: 0=60666, 1=41277, Test: 0=6677, 1=4650\n",
      ">Train: 0=60586, 1=41357, Test: 0=6757, 1=4570\n",
      ">Train: 0=60612, 1=41331, Test: 0=6731, 1=4596\n",
      ">Train: 0=60720, 1=41223, Test: 0=6623, 1=4704\n",
      ">Train: 0=60634, 1=41309, Test: 0=6709, 1=4618\n",
      ">Train: 0=60525, 1=41418, Test: 0=6818, 1=4509\n",
      ">Train: 0=60548, 1=41395, Test: 0=6795, 1=4532\n",
      ">Train: 0=60557, 1=41386, Test: 0=6786, 1=4541\n",
      ">Train: 0=60662, 1=41281, Test: 0=6681, 1=4646\n",
      ">Train: 0=60577, 1=41366, Test: 0=6766, 1=4561\n"
     ]
    },
    {
     "data": {
      "text/plain": [
       "{'Mean Training Accuracy': 0.999938200759248,\n",
       " 'Mean Training Precision': 0.9999274234040971,\n",
       " 'Mean Training Recall': 0.9999201487869211,\n",
       " 'Mean Training F1 Score': 0.9999237844734136,\n",
       " 'Mean Validation Accuracy': 0.9993290368146907,\n",
       " 'Mean Validation Precision': 0.9994551031128317,\n",
       " 'Mean Validation Recall': 0.99888813336946,\n",
       " 'Mean Validation F1 Score': 0.9991714359585497}"
      ]
     },
     "execution_count": 33,
     "metadata": {},
     "output_type": "execute_result"
    }
   ],
   "source": [
    "KfoldCV(RandomForestClassifier(n_estimators=64,n_jobs=2), pd.DataFrame(X_dos_rfe), y_dos, 10, 1)"
   ]
  },
  {
   "cell_type": "markdown",
   "metadata": {},
   "source": [
    "#### K-fold cross validation on dos Standard Scaler"
   ]
  },
  {
   "cell_type": "code",
   "execution_count": 34,
   "metadata": {},
   "outputs": [
    {
     "name": "stdout",
     "output_type": "stream",
     "text": [
      ">Train: 0=60666, 1=41277, Test: 0=6677, 1=4650\n",
      ">Train: 0=60586, 1=41357, Test: 0=6757, 1=4570\n",
      ">Train: 0=60612, 1=41331, Test: 0=6731, 1=4596\n",
      ">Train: 0=60720, 1=41223, Test: 0=6623, 1=4704\n",
      ">Train: 0=60634, 1=41309, Test: 0=6709, 1=4618\n",
      ">Train: 0=60525, 1=41418, Test: 0=6818, 1=4509\n",
      ">Train: 0=60548, 1=41395, Test: 0=6795, 1=4532\n",
      ">Train: 0=60557, 1=41386, Test: 0=6786, 1=4541\n",
      ">Train: 0=60662, 1=41281, Test: 0=6681, 1=4646\n",
      ">Train: 0=60577, 1=41366, Test: 0=6766, 1=4561\n"
     ]
    },
    {
     "data": {
      "text/plain": [
       "{'Mean Training Accuracy': 0.9999293722962832,\n",
       " 'Mean Training Precision': 0.9999395185603086,\n",
       " 'Mean Training Recall': 0.9998862865476852,\n",
       " 'Mean Training F1 Score': 0.9999129011197881,\n",
       " 'Mean Validation Accuracy': 0.9995762337776993,\n",
       " 'Mean Validation Precision': 0.9996964726925468,\n",
       " 'Mean Validation Recall': 0.9992597576578234,\n",
       " 'Mean Validation F1 Score': 0.9994780410176229}"
      ]
     },
     "execution_count": 34,
     "metadata": {},
     "output_type": "execute_result"
    }
   ],
   "source": [
    "KfoldCV(RandomForestClassifier(n_estimators=64,n_jobs=2), pd.DataFrame(X_dos_rfe_ss), y_dos, 10, 1)"
   ]
  },
  {
   "cell_type": "markdown",
   "metadata": {},
   "source": [
    "#### Stratified cross validation on dos"
   ]
  },
  {
   "cell_type": "code",
   "execution_count": 35,
   "metadata": {},
   "outputs": [
    {
     "name": "stdout",
     "output_type": "stream",
     "text": [
      ">Train: 0=60608, 1=41335, Test: 0=6735, 1=4592\n",
      ">Train: 0=60608, 1=41335, Test: 0=6735, 1=4592\n",
      ">Train: 0=60608, 1=41335, Test: 0=6735, 1=4592\n",
      ">Train: 0=60609, 1=41334, Test: 0=6734, 1=4593\n",
      ">Train: 0=60609, 1=41334, Test: 0=6734, 1=4593\n",
      ">Train: 0=60609, 1=41334, Test: 0=6734, 1=4593\n",
      ">Train: 0=60609, 1=41334, Test: 0=6734, 1=4593\n",
      ">Train: 0=60609, 1=41334, Test: 0=6734, 1=4593\n",
      ">Train: 0=60609, 1=41334, Test: 0=6734, 1=4593\n",
      ">Train: 0=60609, 1=41334, Test: 0=6734, 1=4593\n"
     ]
    },
    {
     "data": {
      "text/plain": [
       "{'Mean Training Accuracy': 0.9999391816995773,\n",
       " 'Mean Training Precision': 0.9999346801112491,\n",
       " 'Mean Training Recall': 0.9999153247658006,\n",
       " 'Mean Training F1 Score': 0.9999250010925136,\n",
       " 'Mean Validation Accuracy': 0.9993202083517261,\n",
       " 'Mean Validation Precision': 0.9993249886296278,\n",
       " 'Mean Validation Recall': 0.9989984190454948,\n",
       " 'Mean Validation F1 Score': 0.9991615912048719}"
      ]
     },
     "execution_count": 35,
     "metadata": {},
     "output_type": "execute_result"
    }
   ],
   "source": [
    "stratifiedCV(RandomForestClassifier(n_estimators=64,n_jobs=2), pd.DataFrame(X_dos_rfe), y_dos, 10, 1)"
   ]
  },
  {
   "cell_type": "markdown",
   "metadata": {},
   "source": [
    "#### Stratified cross validation on dos Standard Scaler"
   ]
  },
  {
   "cell_type": "code",
   "execution_count": 36,
   "metadata": {},
   "outputs": [
    {
     "name": "stdout",
     "output_type": "stream",
     "text": [
      ">Train: 0=60608, 1=41335, Test: 0=6735, 1=4592\n",
      ">Train: 0=60608, 1=41335, Test: 0=6735, 1=4592\n",
      ">Train: 0=60608, 1=41335, Test: 0=6735, 1=4592\n",
      ">Train: 0=60609, 1=41334, Test: 0=6734, 1=4593\n",
      ">Train: 0=60609, 1=41334, Test: 0=6734, 1=4593\n",
      ">Train: 0=60609, 1=41334, Test: 0=6734, 1=4593\n",
      ">Train: 0=60609, 1=41334, Test: 0=6734, 1=4593\n",
      ">Train: 0=60609, 1=41334, Test: 0=6734, 1=4593\n",
      ">Train: 0=60609, 1=41334, Test: 0=6734, 1=4593\n",
      ">Train: 0=60609, 1=41334, Test: 0=6734, 1=4593\n"
     ]
    },
    {
     "data": {
      "text/plain": [
       "{'Mean Training Accuracy': 0.9999293722962832,\n",
       " 'Mean Training Precision': 0.9999322612634295,\n",
       " 'Mean Training Recall': 0.9998935509819725,\n",
       " 'Mean Training F1 Score': 0.9999129034597427,\n",
       " 'Mean Validation Accuracy': 0.9994614637591596,\n",
       " 'Mean Validation Precision': 0.9994774182539145,\n",
       " 'Mean Validation Recall': 0.9991943788874298,\n",
       " 'Mean Validation F1 Score': 0.9993358357404765}"
      ]
     },
     "execution_count": 36,
     "metadata": {},
     "output_type": "execute_result"
    }
   ],
   "source": [
    "stratifiedCV(RandomForestClassifier(n_estimators=64,n_jobs=2), pd.DataFrame(X_dos_rfe_ss), y_dos, 10, 1)"
   ]
  },
  {
   "cell_type": "markdown",
   "metadata": {},
   "source": [
    "#### Predict on dos"
   ]
  },
  {
   "cell_type": "code",
   "execution_count": 37,
   "metadata": {
    "scrolled": false
   },
   "outputs": [
    {
     "data": {
      "image/png": "[encoded data removed]",
      "text/plain": [
       "<Figure size 432x288 with 2 Axes>"
      ]
     },
     "metadata": {
      "needs_background": "light"
     },
     "output_type": "display_data"
    },
    {
     "name": "stdout",
     "output_type": "stream",
     "text": [
      "Accuracy: 0.90117 \n",
      "Precision: 0.98649 \n",
      "Recall: 0.78324 \n",
      "F-measure: 0.87320 \n"
     ]
    }
   ],
   "source": [
    "y_dos_rfe_prediction = randomForest(X_dos_rfe, y_dos).predict(X_dos_test_rfe)\n",
    "plotConfusionMatrix(y_dos_rfe_prediction, y_dos_test, 1)"
   ]
  },
  {
   "cell_type": "code",
   "execution_count": 38,
   "metadata": {
    "colab": {
     "base_uri": "https://localhost:8080/",
     "height": 364
    },
    "executionInfo": {
     "elapsed": 4170,
     "status": "ok",
     "timestamp": 1675471231881,
     "user": {
      "displayName": "DANIELE PALMIERI",
      "userId": "13749636301499067245"
     },
     "user_tz": -60
    },
    "id": "P129vp2Tozxi",
    "outputId": "cceeaf9d-b60d-4eb4-b12f-d1d172b15b39"
   },
   "outputs": [
    {
     "data": {
      "image/png": "[encoded data removed]",
      "text/plain": [
       "<Figure size 432x288 with 2 Axes>"
      ]
     },
     "metadata": {
      "needs_background": "light"
     },
     "output_type": "display_data"
    },
    {
     "name": "stdout",
     "output_type": "stream",
     "text": [
      "Accuracy: 0.85889 \n",
      "Precision: 0.96527 \n",
      "Recall: 0.70040 \n",
      "F-measure: 0.81178 \n"
     ]
    }
   ],
   "source": [
    "y_dos_rfe_prediction = randomForest(X_dos_rfe_ss, y_dos).predict(X_dos_test_rfe_ss)\n",
    "plotConfusionMatrix(y_dos_rfe_prediction, y_dos_test, 1)"
   ]
  },
  {
   "cell_type": "markdown",
   "metadata": {},
   "source": [
    "#### K-fold cross validation on probe"
   ]
  },
  {
   "cell_type": "code",
   "execution_count": 39,
   "metadata": {},
   "outputs": [
    {
     "name": "stdout",
     "output_type": "stream",
     "text": [
      ">Train: 0=60593, 1=10506, Test: 0=6750, 1=1150\n",
      ">Train: 0=60590, 1=10509, Test: 0=6753, 1=1147\n",
      ">Train: 0=60636, 1=10463, Test: 0=6707, 1=1193\n",
      ">Train: 0=60669, 1=10430, Test: 0=6674, 1=1226\n",
      ">Train: 0=60629, 1=10470, Test: 0=6714, 1=1186\n",
      ">Train: 0=60576, 1=10523, Test: 0=6767, 1=1133\n",
      ">Train: 0=60547, 1=10552, Test: 0=6796, 1=1104\n",
      ">Train: 0=60628, 1=10471, Test: 0=6715, 1=1185\n",
      ">Train: 0=60592, 1=10507, Test: 0=6751, 1=1149\n",
      ">Train: 0=60627, 1=10473, Test: 0=6716, 1=1183\n"
     ]
    },
    {
     "data": {
      "text/plain": [
       "{'Mean Training Accuracy': 0.999974683227794,\n",
       " 'Mean Training Precision': 0.9999332653045953,\n",
       " 'Mean Training Recall': 0.9998951896003371,\n",
       " 'Mean Training F1 Score': 0.9999142256335342,\n",
       " 'Mean Validation Accuracy': 0.9989493542685262,\n",
       " 'Mean Validation Precision': 0.9982019268708194,\n",
       " 'Mean Validation Recall': 0.9946733981212906,\n",
       " 'Mean Validation F1 Score': 0.9964338431934141}"
      ]
     },
     "execution_count": 39,
     "metadata": {},
     "output_type": "execute_result"
    }
   ],
   "source": [
    "KfoldCV(RandomForestClassifier(n_estimators=64,n_jobs=2), pd.DataFrame(X_probe_rfe), y_probe, 10, 2)"
   ]
  },
  {
   "cell_type": "markdown",
   "metadata": {},
   "source": [
    "#### K-fold cross validation on probe Standard Scaler"
   ]
  },
  {
   "cell_type": "code",
   "execution_count": 40,
   "metadata": {},
   "outputs": [
    {
     "name": "stdout",
     "output_type": "stream",
     "text": [
      ">Train: 0=60593, 1=10506, Test: 0=6750, 1=1150\n",
      ">Train: 0=60590, 1=10509, Test: 0=6753, 1=1147\n",
      ">Train: 0=60636, 1=10463, Test: 0=6707, 1=1193\n",
      ">Train: 0=60669, 1=10430, Test: 0=6674, 1=1226\n",
      ">Train: 0=60629, 1=10470, Test: 0=6714, 1=1186\n",
      ">Train: 0=60576, 1=10523, Test: 0=6767, 1=1133\n",
      ">Train: 0=60547, 1=10552, Test: 0=6796, 1=1104\n",
      ">Train: 0=60628, 1=10471, Test: 0=6715, 1=1185\n",
      ">Train: 0=60592, 1=10507, Test: 0=6751, 1=1149\n",
      ">Train: 0=60627, 1=10473, Test: 0=6716, 1=1183\n"
     ]
    },
    {
     "data": {
      "text/plain": [
       "{'Mean Training Accuracy': 0.9999760897173369,\n",
       " 'Mean Training Precision': 0.9999427291724905,\n",
       " 'Mean Training Recall': 0.9998952035070603,\n",
       " 'Mean Training F1 Score': 0.9999189638498416,\n",
       " 'Mean Validation Accuracy': 0.9988734081064579,\n",
       " 'Mean Validation Precision': 0.997870288954433,\n",
       " 'Mean Validation Recall': 0.9944951171003732,\n",
       " 'Mean Validation F1 Score': 0.9961779044711803}"
      ]
     },
     "execution_count": 40,
     "metadata": {},
     "output_type": "execute_result"
    }
   ],
   "source": [
    "KfoldCV(RandomForestClassifier(n_estimators=64,n_jobs=2), pd.DataFrame(X_probe_rfe_ss), y_probe, 10, 2)"
   ]
  },
  {
   "cell_type": "markdown",
   "metadata": {},
   "source": [
    "#### Stratified cross validation on probe"
   ]
  },
  {
   "cell_type": "code",
   "execution_count": 41,
   "metadata": {},
   "outputs": [
    {
     "name": "stdout",
     "output_type": "stream",
     "text": [
      ">Train: 0=60608, 1=10491, Test: 0=6735, 1=1165\n",
      ">Train: 0=60608, 1=10491, Test: 0=6735, 1=1165\n",
      ">Train: 0=60608, 1=10491, Test: 0=6735, 1=1165\n",
      ">Train: 0=60609, 1=10490, Test: 0=6734, 1=1166\n",
      ">Train: 0=60609, 1=10490, Test: 0=6734, 1=1166\n",
      ">Train: 0=60609, 1=10490, Test: 0=6734, 1=1166\n",
      ">Train: 0=60609, 1=10490, Test: 0=6734, 1=1166\n",
      ">Train: 0=60609, 1=10490, Test: 0=6734, 1=1166\n",
      ">Train: 0=60609, 1=10490, Test: 0=6734, 1=1166\n",
      ">Train: 0=60609, 1=10491, Test: 0=6734, 1=1165\n"
     ]
    },
    {
     "data": {
      "text/plain": [
       "{'Mean Training Accuracy': 0.999974683227794,\n",
       " 'Mean Training Precision': 0.9999237432519502,\n",
       " 'Mean Training Recall': 0.9999046738413672,\n",
       " 'Mean Training F1 Score': 0.9999142062751709,\n",
       " 'Mean Validation Accuracy': 0.9990126470102769,\n",
       " 'Mean Validation Precision': 0.9980215362948949,\n",
       " 'Mean Validation Recall': 0.9952813256870267,\n",
       " 'Mean Validation F1 Score': 0.9966487072540812}"
      ]
     },
     "execution_count": 41,
     "metadata": {},
     "output_type": "execute_result"
    }
   ],
   "source": [
    "stratifiedCV(RandomForestClassifier(n_estimators=64,n_jobs=2), pd.DataFrame(X_probe_rfe), y_probe, 10, 2)"
   ]
  },
  {
   "cell_type": "markdown",
   "metadata": {},
   "source": [
    "#### Stratified cross validation on probe Standard Scaler"
   ]
  },
  {
   "cell_type": "code",
   "execution_count": 42,
   "metadata": {},
   "outputs": [
    {
     "name": "stdout",
     "output_type": "stream",
     "text": [
      ">Train: 0=60608, 1=10491, Test: 0=6735, 1=1165\n",
      ">Train: 0=60608, 1=10491, Test: 0=6735, 1=1165\n",
      ">Train: 0=60608, 1=10491, Test: 0=6735, 1=1165\n",
      ">Train: 0=60609, 1=10490, Test: 0=6734, 1=1166\n",
      ">Train: 0=60609, 1=10490, Test: 0=6734, 1=1166\n",
      ">Train: 0=60609, 1=10490, Test: 0=6734, 1=1166\n",
      ">Train: 0=60609, 1=10490, Test: 0=6734, 1=1166\n",
      ">Train: 0=60609, 1=10490, Test: 0=6734, 1=1166\n",
      ">Train: 0=60609, 1=10490, Test: 0=6734, 1=1166\n",
      ">Train: 0=60609, 1=10491, Test: 0=6734, 1=1165\n"
     ]
    },
    {
     "data": {
      "text/plain": [
       "{'Mean Training Accuracy': 0.999974683227794,\n",
       " 'Mean Training Precision': 0.9999332706892433,\n",
       " 'Mean Training Recall': 0.9998951418615748,\n",
       " 'Mean Training F1 Score': 0.9999142053667145,\n",
       " 'Mean Validation Accuracy': 0.9988480852407211,\n",
       " 'Mean Validation Precision': 0.998276526754417,\n",
       " 'Mean Validation Recall': 0.9939085976781336,\n",
       " 'Mean Validation F1 Score': 0.9960870904689607}"
      ]
     },
     "execution_count": 42,
     "metadata": {},
     "output_type": "execute_result"
    }
   ],
   "source": [
    "stratifiedCV(RandomForestClassifier(n_estimators=64,n_jobs=2), pd.DataFrame(X_probe_rfe_ss), y_probe, 10, 2)"
   ]
  },
  {
   "cell_type": "markdown",
   "metadata": {},
   "source": [
    "#### Predict on probe"
   ]
  },
  {
   "cell_type": "code",
   "execution_count": 43,
   "metadata": {},
   "outputs": [
    {
     "data": {
      "image/png": "[encoded data removed]",
      "text/plain": [
       "<Figure size 432x288 with 2 Axes>"
      ]
     },
     "metadata": {
      "needs_background": "light"
     },
     "output_type": "display_data"
    },
    {
     "name": "stdout",
     "output_type": "stream",
     "text": [
      "Accuracy: 0.90191 \n",
      "Precision: 0.87599 \n",
      "Recall: 0.59232 \n",
      "F-measure: 0.70675 \n"
     ]
    }
   ],
   "source": [
    "y_probe_rfe_prediction = randomForest(X_probe_rfe, y_probe).predict(X_probe_test_rfe)\n",
    "plotConfusionMatrix(y_probe_rfe_prediction, y_probe_test, 2)"
   ]
  },
  {
   "cell_type": "code",
   "execution_count": 44,
   "metadata": {
    "colab": {
     "base_uri": "https://localhost:8080/",
     "height": 364
    },
    "executionInfo": {
     "elapsed": 3354,
     "status": "ok",
     "timestamp": 1675471319408,
     "user": {
      "displayName": "DANIELE PALMIERI",
      "userId": "13749636301499067245"
     },
     "user_tz": -60
    },
    "id": "IDuGeKkT3obg",
    "outputId": "1b7effe6-8a53-406c-f0ab-e662f7462118"
   },
   "outputs": [
    {
     "data": {
      "image/png": "[encoded data removed]",
      "text/plain": [
       "<Figure size 432x288 with 2 Axes>"
      ]
     },
     "metadata": {
      "needs_background": "light"
     },
     "output_type": "display_data"
    },
    {
     "name": "stdout",
     "output_type": "stream",
     "text": [
      "Accuracy: 0.88015 \n",
      "Precision: 0.83740 \n",
      "Recall: 0.49566 \n",
      "F-measure: 0.62273 \n"
     ]
    }
   ],
   "source": [
    "y_probe_rfe_prediction = randomForest(X_probe_rfe_ss, y_probe).predict(X_probe_test_rfe_ss)\n",
    "plotConfusionMatrix(y_probe_rfe_prediction, y_probe_test, 2)"
   ]
  },
  {
   "cell_type": "markdown",
   "metadata": {},
   "source": [
    "#### K-fold cross validation on r2l"
   ]
  },
  {
   "cell_type": "code",
   "execution_count": 45,
   "metadata": {},
   "outputs": [
    {
     "name": "stdout",
     "output_type": "stream",
     "text": [
      ">Train: 0=60615, 1=889, Test: 0=6728, 1=106\n",
      ">Train: 0=60612, 1=892, Test: 0=6731, 1=103\n",
      ">Train: 0=60628, 1=876, Test: 0=6715, 1=119\n",
      ">Train: 0=60613, 1=891, Test: 0=6730, 1=104\n",
      ">Train: 0=60610, 1=894, Test: 0=6733, 1=101\n",
      ">Train: 0=60591, 1=913, Test: 0=6752, 1=82\n",
      ">Train: 0=60599, 1=905, Test: 0=6744, 1=90\n",
      ">Train: 0=60597, 1=907, Test: 0=6746, 1=88\n",
      ">Train: 0=60614, 1=891, Test: 0=6729, 1=104\n",
      ">Train: 0=60608, 1=897, Test: 0=6735, 1=98\n"
     ]
    },
    {
     "data": {
      "text/plain": [
       "{'Mean Training Accuracy': 0.9999691077796184,\n",
       " 'Mean Training Precision': 0.9994390235141429,\n",
       " 'Mean Training Recall': 0.998435984659408,\n",
       " 'Mean Training F1 Score': 0.9989369160492905,\n",
       " 'Mean Validation Accuracy': 0.9992537142114599,\n",
       " 'Mean Validation Precision': 0.9952535140562248,\n",
       " 'Mean Validation Recall': 0.952599844645061,\n",
       " 'Mean Validation F1 Score': 0.973385400622098}"
      ]
     },
     "execution_count": 45,
     "metadata": {},
     "output_type": "execute_result"
    }
   ],
   "source": [
    "KfoldCV(RandomForestClassifier(n_estimators=64,n_jobs=2), pd.DataFrame(X_r2l_rfe), y_r2l, 10, 3)"
   ]
  },
  {
   "cell_type": "markdown",
   "metadata": {},
   "source": [
    "#### K-fold cross validation on r2l Standard Scaler"
   ]
  },
  {
   "cell_type": "code",
   "execution_count": 46,
   "metadata": {},
   "outputs": [
    {
     "name": "stdout",
     "output_type": "stream",
     "text": [
      ">Train: 0=60615, 1=889, Test: 0=6728, 1=106\n",
      ">Train: 0=60612, 1=892, Test: 0=6731, 1=103\n",
      ">Train: 0=60628, 1=876, Test: 0=6715, 1=119\n",
      ">Train: 0=60613, 1=891, Test: 0=6730, 1=104\n",
      ">Train: 0=60610, 1=894, Test: 0=6733, 1=101\n",
      ">Train: 0=60591, 1=913, Test: 0=6752, 1=82\n",
      ">Train: 0=60599, 1=905, Test: 0=6744, 1=90\n",
      ">Train: 0=60597, 1=907, Test: 0=6746, 1=88\n",
      ">Train: 0=60614, 1=891, Test: 0=6729, 1=104\n",
      ">Train: 0=60608, 1=897, Test: 0=6735, 1=98\n"
     ]
    },
    {
     "data": {
      "text/plain": [
       "{'Mean Training Accuracy': 0.999996748231851,\n",
       " 'Mean Training Precision': 1.0,\n",
       " 'Mean Training Recall': 0.9997755331088664,\n",
       " 'Mean Training F1 Score': 0.9998876404494382,\n",
       " 'Mean Validation Accuracy': 0.9993415126654929,\n",
       " 'Mean Validation Precision': 0.9957450239355001,\n",
       " 'Mean Validation Recall': 0.9587409242317358,\n",
       " 'Mean Validation F1 Score': 0.9767679973304672}"
      ]
     },
     "execution_count": 46,
     "metadata": {},
     "output_type": "execute_result"
    }
   ],
   "source": [
    "KfoldCV(RandomForestClassifier(n_estimators=64,n_jobs=2), pd.DataFrame(X_r2l_rfe_ss), y_r2l, 10, 3)"
   ]
  },
  {
   "cell_type": "markdown",
   "metadata": {},
   "source": [
    "#### Stratified cross validation on r2l"
   ]
  },
  {
   "cell_type": "code",
   "execution_count": 47,
   "metadata": {},
   "outputs": [
    {
     "name": "stdout",
     "output_type": "stream",
     "text": [
      ">Train: 0=60608, 1=896, Test: 0=6735, 1=99\n",
      ">Train: 0=60608, 1=896, Test: 0=6735, 1=99\n",
      ">Train: 0=60608, 1=896, Test: 0=6735, 1=99\n",
      ">Train: 0=60609, 1=895, Test: 0=6734, 1=100\n",
      ">Train: 0=60609, 1=895, Test: 0=6734, 1=100\n",
      ">Train: 0=60609, 1=895, Test: 0=6734, 1=100\n",
      ">Train: 0=60609, 1=895, Test: 0=6734, 1=100\n",
      ">Train: 0=60609, 1=895, Test: 0=6734, 1=100\n",
      ">Train: 0=60609, 1=896, Test: 0=6734, 1=99\n",
      ">Train: 0=60609, 1=896, Test: 0=6734, 1=99\n"
     ]
    },
    {
     "data": {
      "text/plain": [
       "{'Mean Training Accuracy': 0.999969107806054,\n",
       " 'Mean Training Precision': 0.9993299830407023,\n",
       " 'Mean Training Recall': 0.9985483589385475,\n",
       " 'Mean Training F1 Score': 0.9989386402265229,\n",
       " 'Mean Validation Accuracy': 0.9992244530568977,\n",
       " 'Mean Validation Precision': 0.9968077956989247,\n",
       " 'Mean Validation Recall': 0.9497878787878788,\n",
       " 'Mean Validation F1 Score': 0.9726042855580349}"
      ]
     },
     "execution_count": 47,
     "metadata": {},
     "output_type": "execute_result"
    }
   ],
   "source": [
    "stratifiedCV(RandomForestClassifier(n_estimators=64,n_jobs=2), pd.DataFrame(X_r2l_rfe), y_r2l, 10, 3)"
   ]
  },
  {
   "cell_type": "markdown",
   "metadata": {},
   "source": [
    "#### Stratified cross validation on r2l Standard Scaler"
   ]
  },
  {
   "cell_type": "code",
   "execution_count": 48,
   "metadata": {},
   "outputs": [
    {
     "name": "stdout",
     "output_type": "stream",
     "text": [
      ">Train: 0=60608, 1=896, Test: 0=6735, 1=99\n",
      ">Train: 0=60608, 1=896, Test: 0=6735, 1=99\n",
      ">Train: 0=60608, 1=896, Test: 0=6735, 1=99\n",
      ">Train: 0=60609, 1=895, Test: 0=6734, 1=100\n",
      ">Train: 0=60609, 1=895, Test: 0=6734, 1=100\n",
      ">Train: 0=60609, 1=895, Test: 0=6734, 1=100\n",
      ">Train: 0=60609, 1=895, Test: 0=6734, 1=100\n",
      ">Train: 0=60609, 1=895, Test: 0=6734, 1=100\n",
      ">Train: 0=60609, 1=896, Test: 0=6734, 1=99\n",
      ">Train: 0=60609, 1=896, Test: 0=6734, 1=99\n"
     ]
    },
    {
     "data": {
      "text/plain": [
       "{'Mean Training Accuracy': 1.0,\n",
       " 'Mean Training Precision': 1.0,\n",
       " 'Mean Training Recall': 1.0,\n",
       " 'Mean Training F1 Score': 1.0,\n",
       " 'Mean Validation Accuracy': 0.9992976166506933,\n",
       " 'Mean Validation Precision': 0.9969065656565658,\n",
       " 'Mean Validation Recall': 0.9547878787878787,\n",
       " 'Mean Validation F1 Score': 0.9752699368761665}"
      ]
     },
     "execution_count": 48,
     "metadata": {},
     "output_type": "execute_result"
    }
   ],
   "source": [
    "stratifiedCV(RandomForestClassifier(n_estimators=64,n_jobs=2), pd.DataFrame(X_r2l_rfe_ss), y_r2l, 10, 3)"
   ]
  },
  {
   "cell_type": "markdown",
   "metadata": {},
   "source": [
    "#### Predict on r2l"
   ]
  },
  {
   "cell_type": "code",
   "execution_count": 49,
   "metadata": {},
   "outputs": [
    {
     "data": {
      "image/png": "[encoded data removed]",
      "text/plain": [
       "<Figure size 432x288 with 2 Axes>"
      ]
     },
     "metadata": {
      "needs_background": "light"
     },
     "output_type": "display_data"
    },
    {
     "name": "stdout",
     "output_type": "stream",
     "text": [
      "Accuracy: 0.77183 \n",
      "Precision: 0.86667 \n",
      "Recall: 0.00451 \n",
      "F-measure: 0.00897 \n"
     ]
    }
   ],
   "source": [
    "y_r2l_rfe_prediction = randomForest(X_r2l_rfe, y_r2l).predict(X_r2l_test_rfe)\n",
    "plotConfusionMatrix(y_r2l_rfe_prediction, y_r2l_test, 3)"
   ]
  },
  {
   "cell_type": "code",
   "execution_count": 50,
   "metadata": {
    "colab": {
     "base_uri": "https://localhost:8080/",
     "height": 419
    },
    "executionInfo": {
     "elapsed": 3406,
     "status": "ok",
     "timestamp": 1675471386339,
     "user": {
      "displayName": "DANIELE PALMIERI",
      "userId": "13749636301499067245"
     },
     "user_tz": -60
    },
    "id": "3-sZ9eu1359i",
    "outputId": "399643ed-eb97-48dc-ee88-8678324604db",
    "scrolled": false
   },
   "outputs": [
    {
     "data": {
      "image/png": "[encoded data removed]",
      "text/plain": [
       "<Figure size 432x288 with 2 Axes>"
      ]
     },
     "metadata": {
      "needs_background": "light"
     },
     "output_type": "display_data"
    },
    {
     "name": "stdout",
     "output_type": "stream",
     "text": [
      "Accuracy: 0.77096 \n",
      "Precision: 0.00000 \n",
      "Recall: 0.00000 \n",
      "F-measure: 0.00000 \n"
     ]
    },
    {
     "name": "stderr",
     "output_type": "stream",
     "text": [
      "C:\\Users\\Daniele\\anaconda3\\lib\\site-packages\\sklearn\\metrics\\_classification.py:1344: UndefinedMetricWarning: Precision is ill-defined and being set to 0.0 due to no predicted samples. Use `zero_division` parameter to control this behavior.\n",
      "  _warn_prf(average, modifier, msg_start, len(result))\n"
     ]
    }
   ],
   "source": [
    "y_r2l_rfe_prediction = randomForest(X_r2l_rfe_ss, y_r2l).predict(X_r2l_test_rfe_ss)\n",
    "plotConfusionMatrix(y_r2l_rfe_prediction, y_r2l_test, 3)"
   ]
  },
  {
   "cell_type": "markdown",
   "metadata": {},
   "source": [
    "#### K-fold cross validation on u2r"
   ]
  },
  {
   "cell_type": "code",
   "execution_count": 51,
   "metadata": {},
   "outputs": [
    {
     "name": "stdout",
     "output_type": "stream",
     "text": [
      ">Train: 0=60608, 1=47, Test: 0=6735, 1=5\n",
      ">Train: 0=60609, 1=46, Test: 0=6734, 1=6\n",
      ">Train: 0=60609, 1=46, Test: 0=6734, 1=6\n",
      ">Train: 0=60609, 1=46, Test: 0=6734, 1=6\n",
      ">Train: 0=60607, 1=48, Test: 0=6736, 1=4\n",
      ">Train: 0=60612, 1=44, Test: 0=6731, 1=8\n",
      ">Train: 0=60609, 1=47, Test: 0=6734, 1=5\n",
      ">Train: 0=60607, 1=49, Test: 0=6736, 1=3\n",
      ">Train: 0=60609, 1=47, Test: 0=6734, 1=5\n",
      ">Train: 0=60608, 1=48, Test: 0=6735, 1=4\n"
     ]
    },
    {
     "data": {
      "text/plain": [
       "{'Mean Training Accuracy': 0.9999835134489029,\n",
       " 'Mean Training Precision': 0.9957890070921985,\n",
       " 'Mean Training Recall': 0.9828298012502452,\n",
       " 'Mean Training F1 Score': 0.9891913123093236,\n",
       " 'Mean Validation Accuracy': 0.9996142125005999,\n",
       " 'Mean Validation Precision': 0.8616666666666667,\n",
       " 'Mean Validation Recall': 0.6266666666666667,\n",
       " 'Mean Validation F1 Score': 0.710064935064935}"
      ]
     },
     "execution_count": 51,
     "metadata": {},
     "output_type": "execute_result"
    }
   ],
   "source": [
    "KfoldCV(RandomForestClassifier(n_estimators=64,n_jobs=2), pd.DataFrame(X_u2r_rfe), y_u2r, 10, 4)"
   ]
  },
  {
   "cell_type": "markdown",
   "metadata": {},
   "source": [
    "#### K-fold cross validation on u2r Standard Scaler"
   ]
  },
  {
   "cell_type": "code",
   "execution_count": 52,
   "metadata": {
    "scrolled": true
   },
   "outputs": [
    {
     "name": "stdout",
     "output_type": "stream",
     "text": [
      ">Train: 0=60608, 1=47, Test: 0=6735, 1=5\n",
      ">Train: 0=60609, 1=46, Test: 0=6734, 1=6\n",
      ">Train: 0=60609, 1=46, Test: 0=6734, 1=6\n",
      ">Train: 0=60609, 1=46, Test: 0=6734, 1=6\n",
      ">Train: 0=60607, 1=48, Test: 0=6736, 1=4\n",
      ">Train: 0=60612, 1=44, Test: 0=6731, 1=8\n",
      ">Train: 0=60609, 1=47, Test: 0=6734, 1=5\n",
      ">Train: 0=60607, 1=49, Test: 0=6736, 1=3\n",
      ">Train: 0=60609, 1=47, Test: 0=6734, 1=5\n",
      ">Train: 0=60608, 1=48, Test: 0=6735, 1=4\n"
     ]
    },
    {
     "data": {
      "text/plain": [
       "{'Mean Training Accuracy': 0.9999868107591222,\n",
       " 'Mean Training Precision': 0.9979166666666666,\n",
       " 'Mean Training Recall': 0.9849574608247134,\n",
       " 'Mean Training F1 Score': 0.991344340143591,\n",
       " 'Mean Validation Accuracy': 0.99956969771158,\n",
       " 'Mean Validation Precision': 0.7950000000000002,\n",
       " 'Mean Validation Recall': 0.5991666666666667,\n",
       " 'Mean Validation F1 Score': 0.671988011988012}"
      ]
     },
     "execution_count": 52,
     "metadata": {},
     "output_type": "execute_result"
    }
   ],
   "source": [
    "KfoldCV(RandomForestClassifier(n_estimators=64,n_jobs=2), pd.DataFrame(X_u2r_rfe_ss), y_u2r, 10, 4)"
   ]
  },
  {
   "cell_type": "markdown",
   "metadata": {},
   "source": [
    "#### Stratified cross validation on u2r"
   ]
  },
  {
   "cell_type": "code",
   "execution_count": 53,
   "metadata": {},
   "outputs": [
    {
     "name": "stdout",
     "output_type": "stream",
     "text": [
      ">Train: 0=60608, 1=47, Test: 0=6735, 1=5\n",
      ">Train: 0=60608, 1=47, Test: 0=6735, 1=5\n",
      ">Train: 0=60608, 1=47, Test: 0=6735, 1=5\n",
      ">Train: 0=60609, 1=46, Test: 0=6734, 1=6\n",
      ">Train: 0=60609, 1=46, Test: 0=6734, 1=6\n",
      ">Train: 0=60609, 1=47, Test: 0=6734, 1=5\n",
      ">Train: 0=60609, 1=47, Test: 0=6734, 1=5\n",
      ">Train: 0=60609, 1=47, Test: 0=6734, 1=5\n",
      ">Train: 0=60609, 1=47, Test: 0=6734, 1=5\n",
      ">Train: 0=60609, 1=47, Test: 0=6734, 1=5\n"
     ]
    },
    {
     "data": {
      "text/plain": [
       "{'Mean Training Accuracy': 0.9999835134760836,\n",
       " 'Mean Training Precision': 0.9979166666666666,\n",
       " 'Mean Training Recall': 0.980804810360777,\n",
       " 'Mean Training F1 Score': 0.9892229413754474,\n",
       " 'Mean Validation Accuracy': 0.9996142147022316,\n",
       " 'Mean Validation Precision': 0.8916666666666668,\n",
       " 'Mean Validation Recall': 0.5766666666666667,\n",
       " 'Mean Validation F1 Score': 0.6903968253968253}"
      ]
     },
     "execution_count": 53,
     "metadata": {},
     "output_type": "execute_result"
    }
   ],
   "source": [
    "stratifiedCV(RandomForestClassifier(n_estimators=64,n_jobs=2), pd.DataFrame(X_u2r_rfe), y_u2r, 10, 4)"
   ]
  },
  {
   "cell_type": "markdown",
   "metadata": {},
   "source": [
    "#### Stratified cross validation on u2r Standard Scaler"
   ]
  },
  {
   "cell_type": "code",
   "execution_count": 54,
   "metadata": {},
   "outputs": [
    {
     "name": "stdout",
     "output_type": "stream",
     "text": [
      ">Train: 0=60608, 1=47, Test: 0=6735, 1=5\n",
      ">Train: 0=60608, 1=47, Test: 0=6735, 1=5\n",
      ">Train: 0=60608, 1=47, Test: 0=6735, 1=5\n",
      ">Train: 0=60609, 1=46, Test: 0=6734, 1=6\n",
      ">Train: 0=60609, 1=46, Test: 0=6734, 1=6\n",
      ">Train: 0=60609, 1=47, Test: 0=6734, 1=5\n",
      ">Train: 0=60609, 1=47, Test: 0=6734, 1=5\n",
      ">Train: 0=60609, 1=47, Test: 0=6734, 1=5\n",
      ">Train: 0=60609, 1=47, Test: 0=6734, 1=5\n",
      ">Train: 0=60609, 1=47, Test: 0=6734, 1=5\n"
     ]
    },
    {
     "data": {
      "text/plain": [
       "{'Mean Training Accuracy': 0.9999868107591222,\n",
       " 'Mean Training Precision': 0.9979166666666666,\n",
       " 'Mean Training Recall': 0.9850601295097133,\n",
       " 'Mean Training F1 Score': 0.9913968544189258,\n",
       " 'Mean Validation Accuracy': 0.9995548653195909,\n",
       " 'Mean Validation Precision': 0.875,\n",
       " 'Mean Validation Recall': 0.5,\n",
       " 'Mean Validation F1 Score': 0.6248412698412699}"
      ]
     },
     "execution_count": 54,
     "metadata": {},
     "output_type": "execute_result"
    }
   ],
   "source": [
    "stratifiedCV(RandomForestClassifier(n_estimators=64,n_jobs=2), pd.DataFrame(X_u2r_rfe_ss), y_u2r, 10, 4)"
   ]
  },
  {
   "cell_type": "markdown",
   "metadata": {},
   "source": [
    "#### Predict on u2r"
   ]
  },
  {
   "cell_type": "code",
   "execution_count": 55,
   "metadata": {
    "scrolled": true
   },
   "outputs": [
    {
     "data": {
      "image/png": "[encoded data removed]",
      "text/plain": [
       "<Figure size 432x288 with 2 Axes>"
      ]
     },
     "metadata": {
      "needs_background": "light"
     },
     "output_type": "display_data"
    },
    {
     "name": "stdout",
     "output_type": "stream",
     "text": [
      "Accuracy: 0.99386 \n",
      "Precision: 1.00000 \n",
      "Recall: 0.10448 \n",
      "F-measure: 0.18919 \n"
     ]
    }
   ],
   "source": [
    "y_u2r_rfe_prediction = randomForest(X_u2r_rfe, y_u2r).predict(X_u2r_test_rfe)\n",
    "plotConfusionMatrix(y_u2r_rfe_prediction, y_u2r_test, 4)"
   ]
  },
  {
   "cell_type": "code",
   "execution_count": 56,
   "metadata": {
    "colab": {
     "base_uri": "https://localhost:8080/",
     "height": 364
    },
    "executionInfo": {
     "elapsed": 2396,
     "status": "ok",
     "timestamp": 1675471440250,
     "user": {
      "displayName": "DANIELE PALMIERI",
      "userId": "13749636301499067245"
     },
     "user_tz": -60
    },
    "id": "KONNFtt04Izj",
    "outputId": "a919864e-f8fe-49d4-db1a-02a271cac0f7",
    "scrolled": true
   },
   "outputs": [
    {
     "data": {
      "image/png": "[encoded data removed]",
      "text/plain": [
       "<Figure size 432x288 with 2 Axes>"
      ]
     },
     "metadata": {
      "needs_background": "light"
     },
     "output_type": "display_data"
    },
    {
     "name": "stdout",
     "output_type": "stream",
     "text": [
      "Accuracy: 0.99366 \n",
      "Precision: 1.00000 \n",
      "Recall: 0.07463 \n",
      "F-measure: 0.13889 \n"
     ]
    }
   ],
   "source": [
    "y_u2r_rfe_prediction = randomForest(X_u2r_rfe_ss, y_u2r).predict(X_u2r_test_rfe_ss)\n",
    "plotConfusionMatrix(y_u2r_rfe_prediction, y_u2r_test, 4)"
   ]
  },
  {
   "cell_type": "markdown",
   "metadata": {},
   "source": [
    "## Binary dataset no feature selection"
   ]
  },
  {
   "cell_type": "code",
   "execution_count": 57,
   "metadata": {
    "scrolled": true
   },
   "outputs": [
    {
     "data": {
      "image/png": "[encoded data removed]",
      "text/plain": [
       "<Figure size 720x360 with 1 Axes>"
      ]
     },
     "metadata": {
      "needs_background": "light"
     },
     "output_type": "display_data"
    }
   ],
   "source": [
    "reducedDf = getReducedDf()\n",
    "reducedDf_test = getReducedDfTest()\n",
    "\n",
    "reducedDf['label'], reducedDf_test['label'] = prepareBinary()\n",
    "plotDf(reducedDf['label'])\n",
    "\n",
    "x_df, y_df = getXandY(reducedDf)\n",
    "x_df_test, y_df_test = getXandY(reducedDf_test)\n",
    "\n",
    "x_df_ss = standardScaler(x_df)\n",
    "x_df_test_ss = standardScaler(x_df_test)"
   ]
  },
  {
   "cell_type": "markdown",
   "metadata": {},
   "source": [
    "#### K-fold cross validation"
   ]
  },
  {
   "cell_type": "code",
   "execution_count": 58,
   "metadata": {
    "scrolled": true
   },
   "outputs": [
    {
     "name": "stdout",
     "output_type": "stream",
     "text": [
      ">Train: 0=60653, 1=52722, Test: 0=6690, 1=5908\n",
      ">Train: 0=60581, 1=52794, Test: 0=6762, 1=5836\n",
      ">Train: 0=60638, 1=52737, Test: 0=6705, 1=5893\n",
      ">Train: 0=60750, 1=52626, Test: 0=6593, 1=6004\n",
      ">Train: 0=60645, 1=52731, Test: 0=6698, 1=5899\n",
      ">Train: 0=60505, 1=52871, Test: 0=6838, 1=5759\n",
      ">Train: 0=60507, 1=52869, Test: 0=6836, 1=5761\n",
      ">Train: 0=60570, 1=52806, Test: 0=6773, 1=5824\n",
      ">Train: 0=60650, 1=52726, Test: 0=6693, 1=5904\n",
      ">Train: 0=60588, 1=52788, Test: 0=6755, 1=5842\n"
     ]
    },
    {
     "data": {
      "text/plain": [
       "{'Mean Training Accuracy': 0.9999347302988235,\n",
       " 'Mean Training Precision': 0.9999450219463111,\n",
       " 'Mean Training Recall': 0.9999147357531071,\n",
       " 'Mean Training F1 Score': 0.9999298780968437,\n",
       " 'Mean Validation Accuracy': 0.9986028784941287,\n",
       " 'Mean Validation Precision': 0.9992293225909362,\n",
       " 'Mean Validation Recall': 0.9977625581732902,\n",
       " 'Mean Validation F1 Score': 0.9984953544458584}"
      ]
     },
     "execution_count": 58,
     "metadata": {},
     "output_type": "execute_result"
    }
   ],
   "source": [
    "KfoldCV(RandomForestClassifier(n_estimators=64,n_jobs=2), pd.DataFrame(x_df), y_df, 10, 1)"
   ]
  },
  {
   "cell_type": "markdown",
   "metadata": {},
   "source": [
    "#### K-fold cross validation Standard Scaler"
   ]
  },
  {
   "cell_type": "code",
   "execution_count": 59,
   "metadata": {},
   "outputs": [
    {
     "name": "stdout",
     "output_type": "stream",
     "text": [
      ">Train: 0=60653, 1=52722, Test: 0=6690, 1=5908\n",
      ">Train: 0=60581, 1=52794, Test: 0=6762, 1=5836\n",
      ">Train: 0=60638, 1=52737, Test: 0=6705, 1=5893\n",
      ">Train: 0=60750, 1=52626, Test: 0=6593, 1=6004\n",
      ">Train: 0=60645, 1=52731, Test: 0=6698, 1=5899\n",
      ">Train: 0=60505, 1=52871, Test: 0=6838, 1=5759\n",
      ">Train: 0=60507, 1=52869, Test: 0=6836, 1=5761\n",
      ">Train: 0=60570, 1=52806, Test: 0=6773, 1=5824\n",
      ">Train: 0=60650, 1=52726, Test: 0=6693, 1=5904\n",
      ">Train: 0=60588, 1=52788, Test: 0=6755, 1=5842\n"
     ]
    },
    {
     "data": {
      "text/plain": [
       "{'Mean Training Accuracy': 0.9999320842361648,\n",
       " 'Mean Training Precision': 0.9999204064007537,\n",
       " 'Mean Training Recall': 0.9999336631942592,\n",
       " 'Mean Training F1 Score': 0.999927033873214,\n",
       " 'Mean Validation Accuracy': 0.9985869985474081,\n",
       " 'Mean Validation Precision': 0.9992135625983444,\n",
       " 'Mean Validation Recall': 0.9977464862923391,\n",
       " 'Mean Validation F1 Score': 0.9984794092009344}"
      ]
     },
     "execution_count": 59,
     "metadata": {},
     "output_type": "execute_result"
    }
   ],
   "source": [
    "KfoldCV(RandomForestClassifier(n_estimators=64,n_jobs=2), pd.DataFrame(x_df_ss), y_df, 10, 1)"
   ]
  },
  {
   "cell_type": "markdown",
   "metadata": {},
   "source": [
    "#### Predict"
   ]
  },
  {
   "cell_type": "code",
   "execution_count": 60,
   "metadata": {
    "scrolled": false
   },
   "outputs": [
    {
     "data": {
      "image/png": "[encoded data removed]",
      "text/plain": [
       "<Figure size 432x288 with 2 Axes>"
      ]
     },
     "metadata": {
      "needs_background": "light"
     },
     "output_type": "display_data"
    },
    {
     "name": "stdout",
     "output_type": "stream",
     "text": [
      "Accuracy: 0.78380 \n",
      "Precision: 0.96956 \n",
      "Recall: 0.64030 \n",
      "F-measure: 0.77126 \n"
     ]
    }
   ],
   "source": [
    "y_prediction = randomForest(x_df, y_df).predict(x_df_test)\n",
    "plotConfusionMatrix(y_prediction, y_df_test, 1)"
   ]
  },
  {
   "cell_type": "code",
   "execution_count": 61,
   "metadata": {
    "scrolled": true
   },
   "outputs": [
    {
     "data": {
      "image/png": "[encoded data removed]",
      "text/plain": [
       "<Figure size 432x288 with 2 Axes>"
      ]
     },
     "metadata": {
      "needs_background": "light"
     },
     "output_type": "display_data"
    },
    {
     "name": "stdout",
     "output_type": "stream",
     "text": [
      "Accuracy: 0.74703 \n",
      "Precision: 0.91521 \n",
      "Recall: 0.61233 \n",
      "F-measure: 0.73374 \n"
     ]
    }
   ],
   "source": [
    "y_prediction = randomForest(x_df_ss, y_df).predict(x_df_test_ss)\n",
    "plotConfusionMatrix(y_prediction, y_df_test, 1)"
   ]
  },
  {
   "cell_type": "markdown",
   "metadata": {},
   "source": [
    "## Binary dataset feature selection"
   ]
  },
  {
   "cell_type": "code",
   "execution_count": 62,
   "metadata": {},
   "outputs": [],
   "source": [
    "X_df_rfe, rfecolname = recursiveFeatureExtraction(RandomForestClassifier(n_estimators=64,n_jobs=2), x_df, y_df, 13)\n",
    "X_df_test_rfe=x_df_test.values[:,rfecolname]"
   ]
  },
  {
   "cell_type": "code",
   "execution_count": 63,
   "metadata": {},
   "outputs": [],
   "source": [
    "X_df_rfe_ss, rfecolname_ss = recursiveFeatureExtraction(RandomForestClassifier(n_estimators=64,n_jobs=2), x_df_ss, y_df, 13)\n",
    "X_df_test_rfe_ss=x_df_test_ss[:,rfecolname_ss]"
   ]
  },
  {
   "cell_type": "markdown",
   "metadata": {},
   "source": [
    "#### K-fold cross validation"
   ]
  },
  {
   "cell_type": "code",
   "execution_count": 64,
   "metadata": {},
   "outputs": [
    {
     "name": "stdout",
     "output_type": "stream",
     "text": [
      ">Train: 0=60653, 1=52722, Test: 0=6690, 1=5908\n",
      ">Train: 0=60581, 1=52794, Test: 0=6762, 1=5836\n",
      ">Train: 0=60638, 1=52737, Test: 0=6705, 1=5893\n",
      ">Train: 0=60750, 1=52626, Test: 0=6593, 1=6004\n",
      ">Train: 0=60645, 1=52731, Test: 0=6698, 1=5899\n",
      ">Train: 0=60505, 1=52871, Test: 0=6838, 1=5759\n",
      ">Train: 0=60507, 1=52869, Test: 0=6836, 1=5761\n",
      ">Train: 0=60570, 1=52806, Test: 0=6773, 1=5824\n",
      ">Train: 0=60650, 1=52726, Test: 0=6693, 1=5904\n",
      ">Train: 0=60588, 1=52788, Test: 0=6755, 1=5842\n"
     ]
    },
    {
     "data": {
      "text/plain": [
       "{'Mean Training Accuracy': 0.9999073875813327,\n",
       " 'Mean Training Precision': 0.9998749414182028,\n",
       " 'Mean Training Recall': 0.9999260843432303,\n",
       " 'Mean Training F1 Score': 0.999900511399837,\n",
       " 'Mean Validation Accuracy': 0.9978725647791995,\n",
       " 'Mean Validation Precision': 0.998545260215316,\n",
       " 'Mean Validation Recall': 0.9968765404497034,\n",
       " 'Mean Validation F1 Score': 0.9977101080688531}"
      ]
     },
     "execution_count": 64,
     "metadata": {},
     "output_type": "execute_result"
    }
   ],
   "source": [
    "KfoldCV(RandomForestClassifier(n_estimators=64,n_jobs=2), pd.DataFrame(X_df_rfe), y_df, 10, 1)"
   ]
  },
  {
   "cell_type": "markdown",
   "metadata": {},
   "source": [
    "#### K-fold cross validation Standard Scaler"
   ]
  },
  {
   "cell_type": "code",
   "execution_count": 65,
   "metadata": {},
   "outputs": [
    {
     "name": "stdout",
     "output_type": "stream",
     "text": [
      ">Train: 0=60653, 1=52722, Test: 0=6690, 1=5908\n",
      ">Train: 0=60581, 1=52794, Test: 0=6762, 1=5836\n",
      ">Train: 0=60638, 1=52737, Test: 0=6705, 1=5893\n",
      ">Train: 0=60750, 1=52626, Test: 0=6593, 1=6004\n",
      ">Train: 0=60645, 1=52731, Test: 0=6698, 1=5899\n",
      ">Train: 0=60505, 1=52871, Test: 0=6838, 1=5759\n",
      ">Train: 0=60507, 1=52869, Test: 0=6836, 1=5761\n",
      ">Train: 0=60570, 1=52806, Test: 0=6773, 1=5824\n",
      ">Train: 0=60650, 1=52726, Test: 0=6693, 1=5904\n",
      ">Train: 0=60588, 1=52788, Test: 0=6755, 1=5842\n"
     ]
    },
    {
     "data": {
      "text/plain": [
       "{'Mean Training Accuracy': 0.9999170898344204,\n",
       " 'Mean Training Precision': 0.9998730581799826,\n",
       " 'Mean Training Recall': 0.9999488167957047,\n",
       " 'Mean Training F1 Score': 0.9999109356956393,\n",
       " 'Mean Validation Accuracy': 0.9979598852671486,\n",
       " 'Mean Validation Precision': 0.9986315608335318,\n",
       " 'Mean Validation Recall': 0.9969816367074911,\n",
       " 'Mean Validation F1 Score': 0.9978057657876329}"
      ]
     },
     "execution_count": 65,
     "metadata": {},
     "output_type": "execute_result"
    }
   ],
   "source": [
    "KfoldCV(RandomForestClassifier(n_estimators=64,n_jobs=2), pd.DataFrame(X_df_rfe_ss), y_df, 10, 1)"
   ]
  },
  {
   "cell_type": "markdown",
   "metadata": {},
   "source": [
    "#### Predict"
   ]
  },
  {
   "cell_type": "code",
   "execution_count": 66,
   "metadata": {},
   "outputs": [
    {
     "data": {
      "image/png": "[encoded data removed]",
      "text/plain": [
       "<Figure size 432x288 with 2 Axes>"
      ]
     },
     "metadata": {
      "needs_background": "light"
     },
     "output_type": "display_data"
    },
    {
     "name": "stdout",
     "output_type": "stream",
     "text": [
      "Accuracy: 0.76517 \n",
      "Precision: 0.96797 \n",
      "Recall: 0.60757 \n",
      "F-measure: 0.74655 \n"
     ]
    }
   ],
   "source": [
    "y_prediction = randomForest(X_df_rfe, y_df).predict(X_df_test_rfe)\n",
    "plotConfusionMatrix(y_prediction, y_df_test, 1)"
   ]
  },
  {
   "cell_type": "code",
   "execution_count": 67,
   "metadata": {},
   "outputs": [
    {
     "data": {
      "image/png": "[encoded data removed]",
      "text/plain": [
       "<Figure size 432x288 with 2 Axes>"
      ]
     },
     "metadata": {
      "needs_background": "light"
     },
     "output_type": "display_data"
    },
    {
     "name": "stdout",
     "output_type": "stream",
     "text": [
      "Accuracy: 0.76752 \n",
      "Precision: 0.91450 \n",
      "Recall: 0.65261 \n",
      "F-measure: 0.76168 \n"
     ]
    }
   ],
   "source": [
    "y_prediction = randomForest(X_df_rfe_ss, y_df).predict(X_df_test_rfe_ss)\n",
    "plotConfusionMatrix(y_prediction, y_df_test, 1)"
   ]
  },
  {
   "cell_type": "markdown",
   "metadata": {},
   "source": [
    "# Reduced DF, oversampling"
   ]
  },
  {
   "cell_type": "code",
   "execution_count": 68,
   "metadata": {},
   "outputs": [
    {
     "data": {
      "text/plain": [
       "<module 'matplotlib.pyplot' from 'C:\\\\Users\\\\Daniele\\\\anaconda3\\\\lib\\\\site-packages\\\\matplotlib\\\\pyplot.py'>"
      ]
     },
     "execution_count": 68,
     "metadata": {},
     "output_type": "execute_result"
    },
    {
     "data": {
      "image/png": "[encoded data removed]",
      "text/plain": [
       "<Figure size 720x360 with 1 Axes>"
      ]
     },
     "metadata": {
      "needs_background": "light"
     },
     "output_type": "display_data"
    }
   ],
   "source": [
    "reducedDf = getReducedDf()\n",
    "reducedDf_test = getReducedDfTest()\n",
    "\n",
    "reducedDf['label'], reducedDf_test['label'] = prepareMulticlass()\n",
    "\n",
    "x_df, y_df = getXandY(reducedDf)\n",
    "x_df_test, y_df_test = getXandY(reducedDf_test)\n",
    "\n",
    "\n",
    "oversampled_df = overSampledDF(x_df, y_df)\n",
    "oversampled_df_test = overSampledDF(x_df_test, y_df_test)\n",
    "\n",
    "plotDf(oversampled_df['label'])"
   ]
  },
  {
   "cell_type": "code",
   "execution_count": 69,
   "metadata": {},
   "outputs": [],
   "source": [
    "#Preparo i dataframe per ogni classe di attacco\n",
    "dos, probe, r2l, u2r = createMulticlassDF(oversampled_df)\n",
    "dos_test, probe_test, r2l_test, u2r_test = createMulticlassDF(oversampled_df_test)\n",
    "\n",
    "X_dos, y_dos = getXandY(dos)\n",
    "X_probe, y_probe = getXandY(probe)\n",
    "X_r2l, y_r2l = getXandY(r2l)\n",
    "X_u2r, y_u2r = getXandY(u2r)\n",
    "\n",
    "X_dos_test, y_dos_test = getXandY(dos_test)\n",
    "X_probe_test, y_probe_test = getXandY(probe_test)\n",
    "X_r2l_test, y_r2l_test = getXandY(r2l_test)\n",
    "X_u2r_test, y_u2r_test = getXandY(u2r_test)"
   ]
  },
  {
   "cell_type": "code",
   "execution_count": 70,
   "metadata": {},
   "outputs": [],
   "source": [
    "#Effettuo standard scaler\n",
    "X_dos_ss=standardScaler(X_dos)\n",
    "X_probe_ss=standardScaler(X_probe)\n",
    "X_r2l_ss=standardScaler(X_r2l)\n",
    "X_u2r_ss=standardScaler(X_u2r)\n",
    "\n",
    "X_dos_test_ss=standardScaler(X_dos_test)\n",
    "X_probe_test_ss=standardScaler(X_probe_test)\n",
    "X_r2l_test_ss=standardScaler(X_r2l_test)\n",
    "X_u2r_test_ss=standardScaler(X_u2r_test)"
   ]
  },
  {
   "cell_type": "markdown",
   "metadata": {},
   "source": [
    "## No feature selection"
   ]
  },
  {
   "cell_type": "markdown",
   "metadata": {},
   "source": [
    "#### K-fold cross validation on dos"
   ]
  },
  {
   "cell_type": "code",
   "execution_count": 71,
   "metadata": {},
   "outputs": [
    {
     "name": "stdout",
     "output_type": "stream",
     "text": [
      ">Train: 0=59387, 1=61830, Test: 0=7956, 1=5513\n",
      ">Train: 0=59336, 1=61881, Test: 0=8007, 1=5462\n",
      ">Train: 0=59437, 1=61780, Test: 0=7906, 1=5563\n",
      ">Train: 0=59306, 1=61911, Test: 0=8037, 1=5432\n",
      ">Train: 0=59299, 1=61918, Test: 0=8044, 1=5425\n",
      ">Train: 0=59294, 1=61923, Test: 0=8049, 1=5420\n",
      ">Train: 0=59294, 1=61924, Test: 0=8049, 1=5419\n",
      ">Train: 0=59327, 1=61891, Test: 0=8016, 1=5452\n",
      ">Train: 0=64064, 1=57154, Test: 0=3279, 1=10189\n",
      ">Train: 0=67343, 1=53875, Test: 0=0, 1=13468\n"
     ]
    },
    {
     "data": {
      "text/plain": [
       "{'Mean Training Accuracy': 0.9999595767767648,\n",
       " 'Mean Training Precision': 0.9999398579980939,\n",
       " 'Mean Training Recall': 0.999978858742541,\n",
       " 'Mean Training F1 Score': 0.9999593576000407,\n",
       " 'Mean Validation Accuracy': 0.9997772613538446,\n",
       " 'Mean Validation Precision': 0.9997988499792193,\n",
       " 'Mean Validation Recall': 0.9997106947729375,\n",
       " 'Mean Validation F1 Score': 0.9997547622160212}"
      ]
     },
     "execution_count": 71,
     "metadata": {},
     "output_type": "execute_result"
    }
   ],
   "source": [
    "KfoldCV(RandomForestClassifier(n_estimators=64,n_jobs=2), pd.DataFrame(X_dos), y_dos, 10, 1)"
   ]
  },
  {
   "cell_type": "markdown",
   "metadata": {},
   "source": [
    "#### K-fold cross validation on dos Standard Scaler"
   ]
  },
  {
   "cell_type": "code",
   "execution_count": 72,
   "metadata": {},
   "outputs": [
    {
     "name": "stdout",
     "output_type": "stream",
     "text": [
      ">Train: 0=59387, 1=61830, Test: 0=7956, 1=5513\n",
      ">Train: 0=59336, 1=61881, Test: 0=8007, 1=5462\n",
      ">Train: 0=59437, 1=61780, Test: 0=7906, 1=5563\n",
      ">Train: 0=59306, 1=61911, Test: 0=8037, 1=5432\n",
      ">Train: 0=59299, 1=61918, Test: 0=8044, 1=5425\n",
      ">Train: 0=59294, 1=61923, Test: 0=8049, 1=5420\n",
      ">Train: 0=59294, 1=61924, Test: 0=8049, 1=5419\n",
      ">Train: 0=59327, 1=61891, Test: 0=8016, 1=5452\n",
      ">Train: 0=64064, 1=57154, Test: 0=3279, 1=10189\n",
      ">Train: 0=67343, 1=53875, Test: 0=0, 1=13468\n"
     ]
    },
    {
     "data": {
      "text/plain": [
       "{'Mean Training Accuracy': 0.9999595767767648,\n",
       " 'Mean Training Precision': 0.9999602331054323,\n",
       " 'Mean Training Recall': 0.9999584804787481,\n",
       " 'Mean Training F1 Score': 0.9999593566540123,\n",
       " 'Mean Validation Accuracy': 0.9997772624563774,\n",
       " 'Mean Validation Precision': 0.9997991371025116,\n",
       " 'Mean Validation Recall': 0.9996889281638403,\n",
       " 'Mean Validation F1 Score': 0.9997440219470622}"
      ]
     },
     "execution_count": 72,
     "metadata": {},
     "output_type": "execute_result"
    }
   ],
   "source": [
    "KfoldCV(RandomForestClassifier(n_estimators=64,n_jobs=2), pd.DataFrame(X_dos_ss), y_dos, 10, 1)"
   ]
  },
  {
   "cell_type": "markdown",
   "metadata": {},
   "source": [
    "#### Stratified cross validation on dos"
   ]
  },
  {
   "cell_type": "code",
   "execution_count": 73,
   "metadata": {},
   "outputs": [
    {
     "name": "stdout",
     "output_type": "stream",
     "text": [
      ">Train: 0=60608, 1=60609, Test: 0=6735, 1=6734\n",
      ">Train: 0=60608, 1=60609, Test: 0=6735, 1=6734\n",
      ">Train: 0=60608, 1=60609, Test: 0=6735, 1=6734\n",
      ">Train: 0=60609, 1=60608, Test: 0=6734, 1=6735\n",
      ">Train: 0=60609, 1=60608, Test: 0=6734, 1=6735\n",
      ">Train: 0=60609, 1=60608, Test: 0=6734, 1=6735\n",
      ">Train: 0=60609, 1=60609, Test: 0=6734, 1=6734\n",
      ">Train: 0=60609, 1=60609, Test: 0=6734, 1=6734\n",
      ">Train: 0=60609, 1=60609, Test: 0=6734, 1=6734\n",
      ">Train: 0=60609, 1=60609, Test: 0=6734, 1=6734\n"
     ]
    },
    {
     "data": {
      "text/plain": [
       "{'Mean Training Accuracy': 0.9999595767835705,\n",
       " 'Mean Training Precision': 0.9999505036799888,\n",
       " 'Mean Training Recall': 0.9999686514115101,\n",
       " 'Mean Training F1 Score': 0.9999595771306433,\n",
       " 'Mean Validation Accuracy': 0.9997475651830096,\n",
       " 'Mean Validation Precision': 0.9998069497827226,\n",
       " 'Mean Validation Recall': 0.9996881717371696,\n",
       " 'Mean Validation F1 Score': 0.9997475398189424}"
      ]
     },
     "execution_count": 73,
     "metadata": {},
     "output_type": "execute_result"
    }
   ],
   "source": [
    "stratifiedCV(RandomForestClassifier(n_estimators=64,n_jobs=2), pd.DataFrame(X_dos), y_dos, 10, 1)"
   ]
  },
  {
   "cell_type": "markdown",
   "metadata": {},
   "source": [
    "#### Stratified cross validation on dos Standard Scaler"
   ]
  },
  {
   "cell_type": "code",
   "execution_count": 74,
   "metadata": {
    "scrolled": true
   },
   "outputs": [
    {
     "name": "stdout",
     "output_type": "stream",
     "text": [
      ">Train: 0=60608, 1=60609, Test: 0=6735, 1=6734\n",
      ">Train: 0=60608, 1=60609, Test: 0=6735, 1=6734\n",
      ">Train: 0=60608, 1=60609, Test: 0=6735, 1=6734\n",
      ">Train: 0=60609, 1=60608, Test: 0=6734, 1=6735\n",
      ">Train: 0=60609, 1=60608, Test: 0=6734, 1=6735\n",
      ">Train: 0=60609, 1=60608, Test: 0=6734, 1=6735\n",
      ">Train: 0=60609, 1=60609, Test: 0=6734, 1=6734\n",
      ">Train: 0=60609, 1=60609, Test: 0=6734, 1=6734\n",
      ">Train: 0=60609, 1=60609, Test: 0=6734, 1=6734\n",
      ">Train: 0=60609, 1=60609, Test: 0=6734, 1=6734\n"
     ]
    },
    {
     "data": {
      "text/plain": [
       "{'Mean Training Accuracy': 0.9999595767835705,\n",
       " 'Mean Training Precision': 0.9999389553017973,\n",
       " 'Mean Training Recall': 0.9999802008785851,\n",
       " 'Mean Training F1 Score': 0.9999595775934228,\n",
       " 'Mean Validation Accuracy': 0.9997624146465931,\n",
       " 'Mean Validation Precision': 0.9998514799929697,\n",
       " 'Mean Validation Recall': 0.9996733239272217,\n",
       " 'Mean Validation F1 Score': 0.9997623788084626}"
      ]
     },
     "execution_count": 74,
     "metadata": {},
     "output_type": "execute_result"
    }
   ],
   "source": [
    "stratifiedCV(RandomForestClassifier(n_estimators=64,n_jobs=2), pd.DataFrame(X_dos_ss), y_dos, 10, 1)"
   ]
  },
  {
   "cell_type": "markdown",
   "metadata": {},
   "source": [
    "#### Predict on dos"
   ]
  },
  {
   "cell_type": "code",
   "execution_count": 75,
   "metadata": {},
   "outputs": [
    {
     "data": {
      "image/png": "[encoded data removed]",
      "text/plain": [
       "<Figure size 432x288 with 2 Axes>"
      ]
     },
     "metadata": {
      "needs_background": "light"
     },
     "output_type": "display_data"
    },
    {
     "name": "stdout",
     "output_type": "stream",
     "text": [
      "Accuracy: 0.89630 \n",
      "Precision: 0.99170 \n",
      "Recall: 0.79930 \n",
      "F-measure: 0.88516 \n"
     ]
    }
   ],
   "source": [
    "y_dos_prediction = randomForest(X_dos, y_dos).predict(X_dos_test)\n",
    "plotConfusionMatrix(y_dos_prediction, y_dos_test, 1)"
   ]
  },
  {
   "cell_type": "code",
   "execution_count": 76,
   "metadata": {
    "scrolled": true
   },
   "outputs": [
    {
     "data": {
      "image/png": "[encoded data removed]",
      "text/plain": [
       "<Figure size 432x288 with 2 Axes>"
      ]
     },
     "metadata": {
      "needs_background": "light"
     },
     "output_type": "display_data"
    },
    {
     "name": "stdout",
     "output_type": "stream",
     "text": [
      "Accuracy: 0.84687 \n",
      "Precision: 0.91357 \n",
      "Recall: 0.76624 \n",
      "F-measure: 0.83345 \n"
     ]
    }
   ],
   "source": [
    "y_dos_prediction = randomForest(X_dos_ss, y_dos).predict(X_dos_test_ss)\n",
    "plotConfusionMatrix(y_dos_prediction, y_dos_test, 1)"
   ]
  },
  {
   "cell_type": "markdown",
   "metadata": {},
   "source": [
    "#### K-fold cross validation on probe"
   ]
  },
  {
   "cell_type": "code",
   "execution_count": 77,
   "metadata": {},
   "outputs": [
    {
     "name": "stdout",
     "output_type": "stream",
     "text": [
      ">Train: 0=55814, 1=65403, Test: 0=11529, 1=1940\n",
      ">Train: 0=55943, 1=65274, Test: 0=11400, 1=2069\n",
      ">Train: 0=55894, 1=65323, Test: 0=11449, 1=2020\n",
      ">Train: 0=55775, 1=65442, Test: 0=11568, 1=1901\n",
      ">Train: 0=55895, 1=65322, Test: 0=11448, 1=2021\n",
      ">Train: 0=57394, 1=63823, Test: 0=9949, 1=3520\n",
      ">Train: 0=67343, 1=53875, Test: 0=0, 1=13468\n",
      ">Train: 0=67343, 1=53875, Test: 0=0, 1=13468\n",
      ">Train: 0=67343, 1=53875, Test: 0=0, 1=13468\n",
      ">Train: 0=67343, 1=53875, Test: 0=0, 1=13468\n"
     ]
    },
    {
     "data": {
      "text/plain": [
       "{'Mean Training Accuracy': 0.9999851506521334,\n",
       " 'Mean Training Precision': 0.9999817881450539,\n",
       " 'Mean Training Recall': 0.9999879874991537,\n",
       " 'Mean Training F1 Score': 0.9999848877623828,\n",
       " 'Mean Validation Accuracy': 0.9994951281609532,\n",
       " 'Mean Validation Precision': 0.9986658412603141,\n",
       " 'Mean Validation Recall': 0.9988217226915547,\n",
       " 'Mean Validation F1 Score': 0.9987434764204831}"
      ]
     },
     "execution_count": 77,
     "metadata": {},
     "output_type": "execute_result"
    }
   ],
   "source": [
    "KfoldCV(RandomForestClassifier(n_estimators=64,n_jobs=2), pd.DataFrame(X_probe), y_probe, 10, 2)"
   ]
  },
  {
   "cell_type": "markdown",
   "metadata": {},
   "source": [
    "#### K-fold cross validation on probe Standard Scaling"
   ]
  },
  {
   "cell_type": "code",
   "execution_count": 78,
   "metadata": {},
   "outputs": [
    {
     "name": "stdout",
     "output_type": "stream",
     "text": [
      ">Train: 0=55814, 1=65403, Test: 0=11529, 1=1940\n",
      ">Train: 0=55943, 1=65274, Test: 0=11400, 1=2069\n",
      ">Train: 0=55894, 1=65323, Test: 0=11449, 1=2020\n",
      ">Train: 0=55775, 1=65442, Test: 0=11568, 1=1901\n",
      ">Train: 0=55895, 1=65322, Test: 0=11448, 1=2021\n",
      ">Train: 0=57394, 1=63823, Test: 0=9949, 1=3520\n",
      ">Train: 0=67343, 1=53875, Test: 0=0, 1=13468\n",
      ">Train: 0=67343, 1=53875, Test: 0=0, 1=13468\n",
      ">Train: 0=67343, 1=53875, Test: 0=0, 1=13468\n",
      ">Train: 0=67343, 1=53875, Test: 0=0, 1=13468\n"
     ]
    },
    {
     "data": {
      "text/plain": [
       "{'Mean Training Accuracy': 0.9999777259782003,\n",
       " 'Mean Training Precision': 0.9999682092559237,\n",
       " 'Mean Training Recall': 0.9999864554955995,\n",
       " 'Mean Training F1 Score': 0.999977332250938,\n",
       " 'Mean Validation Accuracy': 0.9994877026022619,\n",
       " 'Mean Validation Precision': 0.9985156148959721,\n",
       " 'Mean Validation Recall': 0.9990290627851891,\n",
       " 'Mean Validation F1 Score': 0.998771724020641}"
      ]
     },
     "execution_count": 78,
     "metadata": {},
     "output_type": "execute_result"
    }
   ],
   "source": [
    "KfoldCV(RandomForestClassifier(n_estimators=64,n_jobs=2), pd.DataFrame(X_probe_ss), y_probe, 10, 2)"
   ]
  },
  {
   "cell_type": "markdown",
   "metadata": {},
   "source": [
    "#### Stratified cross validation on probe"
   ]
  },
  {
   "cell_type": "code",
   "execution_count": 79,
   "metadata": {},
   "outputs": [
    {
     "name": "stdout",
     "output_type": "stream",
     "text": [
      ">Train: 0=60608, 1=60609, Test: 0=6735, 1=6734\n",
      ">Train: 0=60608, 1=60609, Test: 0=6735, 1=6734\n",
      ">Train: 0=60608, 1=60609, Test: 0=6735, 1=6734\n",
      ">Train: 0=60609, 1=60608, Test: 0=6734, 1=6735\n",
      ">Train: 0=60609, 1=60608, Test: 0=6734, 1=6735\n",
      ">Train: 0=60609, 1=60608, Test: 0=6734, 1=6735\n",
      ">Train: 0=60609, 1=60609, Test: 0=6734, 1=6734\n",
      ">Train: 0=60609, 1=60609, Test: 0=6734, 1=6734\n",
      ">Train: 0=60609, 1=60609, Test: 0=6734, 1=6734\n",
      ">Train: 0=60609, 1=60609, Test: 0=6734, 1=6734\n"
     ]
    },
    {
     "data": {
      "text/plain": [
       "{'Mean Training Accuracy': 0.9999851506521334,\n",
       " 'Mean Training Precision': 0.9999835008274287,\n",
       " 'Mean Training Recall': 0.9999868005585005,\n",
       " 'Mean Training F1 Score': 0.9999851506657436,\n",
       " 'Mean Validation Accuracy': 0.9994357297553526,\n",
       " 'Mean Validation Precision': 0.9994803595298901,\n",
       " 'Mean Validation Recall': 0.9993911626205614,\n",
       " 'Mean Validation F1 Score': 0.9994355359176217}"
      ]
     },
     "execution_count": 79,
     "metadata": {},
     "output_type": "execute_result"
    }
   ],
   "source": [
    "stratifiedCV(RandomForestClassifier(n_estimators=64,n_jobs=2), pd.DataFrame(X_probe), y_probe, 10, 2)"
   ]
  },
  {
   "cell_type": "markdown",
   "metadata": {},
   "source": [
    "#### Stratified cross validation on probe Standard Scaling"
   ]
  },
  {
   "cell_type": "code",
   "execution_count": 80,
   "metadata": {},
   "outputs": [
    {
     "name": "stdout",
     "output_type": "stream",
     "text": [
      ">Train: 0=60608, 1=60609, Test: 0=6735, 1=6734\n",
      ">Train: 0=60608, 1=60609, Test: 0=6735, 1=6734\n",
      ">Train: 0=60608, 1=60609, Test: 0=6735, 1=6734\n",
      ">Train: 0=60609, 1=60608, Test: 0=6734, 1=6735\n",
      ">Train: 0=60609, 1=60608, Test: 0=6734, 1=6735\n",
      ">Train: 0=60609, 1=60608, Test: 0=6734, 1=6735\n",
      ">Train: 0=60609, 1=60609, Test: 0=6734, 1=6734\n",
      ">Train: 0=60609, 1=60609, Test: 0=6734, 1=6734\n",
      ">Train: 0=60609, 1=60609, Test: 0=6734, 1=6734\n",
      ">Train: 0=60609, 1=60609, Test: 0=6734, 1=6734\n"
     ]
    },
    {
     "data": {
      "text/plain": [
       "{'Mean Training Accuracy': 0.9999777259782003,\n",
       " 'Mean Training Precision': 0.999970301767042,\n",
       " 'Mean Training Recall': 0.9999851506385216,\n",
       " 'Mean Training F1 Score': 0.9999777261415336,\n",
       " 'Mean Validation Accuracy': 0.9994951265071542,\n",
       " 'Mean Validation Precision': 0.9995841928022766,\n",
       " 'Mean Validation Recall': 0.9994060126354114,\n",
       " 'Mean Validation F1 Score': 0.9994949471452965}"
      ]
     },
     "execution_count": 80,
     "metadata": {},
     "output_type": "execute_result"
    }
   ],
   "source": [
    "stratifiedCV(RandomForestClassifier(n_estimators=64,n_jobs=2), pd.DataFrame(X_probe_ss), y_probe, 10, 2)"
   ]
  },
  {
   "cell_type": "markdown",
   "metadata": {},
   "source": [
    "#### Predict on probe"
   ]
  },
  {
   "cell_type": "code",
   "execution_count": 81,
   "metadata": {},
   "outputs": [
    {
     "data": {
      "image/png": "[encoded data removed]",
      "text/plain": [
       "<Figure size 432x288 with 2 Axes>"
      ]
     },
     "metadata": {
      "needs_background": "light"
     },
     "output_type": "display_data"
    },
    {
     "name": "stdout",
     "output_type": "stream",
     "text": [
      "Accuracy: 0.82952 \n",
      "Precision: 0.96990 \n",
      "Recall: 0.68016 \n",
      "F-measure: 0.79959 \n"
     ]
    }
   ],
   "source": [
    "y_probe_rfe_prediction = randomForest(X_probe, y_probe).predict(X_probe_test)\n",
    "plotConfusionMatrix(y_probe_rfe_prediction, y_probe_test, 2)"
   ]
  },
  {
   "cell_type": "code",
   "execution_count": 82,
   "metadata": {
    "scrolled": true
   },
   "outputs": [
    {
     "data": {
      "image/png": "[encoded data removed]",
      "text/plain": [
       "<Figure size 432x288 with 2 Axes>"
      ]
     },
     "metadata": {
      "needs_background": "light"
     },
     "output_type": "display_data"
    },
    {
     "name": "stdout",
     "output_type": "stream",
     "text": [
      "Accuracy: 0.85300 \n",
      "Precision: 0.95719 \n",
      "Recall: 0.73906 \n",
      "F-measure: 0.83410 \n"
     ]
    }
   ],
   "source": [
    "y_probe_rfe_prediction = randomForest(X_probe_ss, y_probe).predict(X_probe_test_ss)\n",
    "plotConfusionMatrix(y_probe_rfe_prediction, y_probe_test, 2)"
   ]
  },
  {
   "cell_type": "markdown",
   "metadata": {},
   "source": [
    "#### K-fold cross validation on r2l"
   ]
  },
  {
   "cell_type": "code",
   "execution_count": 83,
   "metadata": {},
   "outputs": [
    {
     "name": "stdout",
     "output_type": "stream",
     "text": [
      ">Train: 0=54080, 1=67137, Test: 0=13263, 1=206\n",
      ">Train: 0=54094, 1=67123, Test: 0=13249, 1=220\n",
      ">Train: 0=54054, 1=67163, Test: 0=13289, 1=180\n",
      ">Train: 0=54045, 1=67172, Test: 0=13298, 1=171\n",
      ">Train: 0=54082, 1=67135, Test: 0=13261, 1=208\n",
      ">Train: 0=66360, 1=54857, Test: 0=983, 1=12486\n",
      ">Train: 0=67343, 1=53875, Test: 0=0, 1=13468\n",
      ">Train: 0=67343, 1=53875, Test: 0=0, 1=13468\n",
      ">Train: 0=67343, 1=53875, Test: 0=0, 1=13468\n",
      ">Train: 0=67343, 1=53875, Test: 0=0, 1=13468\n"
     ]
    },
    {
     "data": {
      "text/plain": [
       "{'Mean Training Accuracy': 1.0,\n",
       " 'Mean Training Precision': 1.0,\n",
       " 'Mean Training Recall': 1.0,\n",
       " 'Mean Training F1 Score': 1.0,\n",
       " 'Mean Validation Accuracy': 0.9998218125009275,\n",
       " 'Mean Validation Precision': 0.9924237193043026,\n",
       " 'Mean Validation Recall': 0.995499060288917,\n",
       " 'Mean Validation F1 Score': 0.9938998282510736}"
      ]
     },
     "execution_count": 83,
     "metadata": {},
     "output_type": "execute_result"
    }
   ],
   "source": [
    "KfoldCV(RandomForestClassifier(n_estimators=64,n_jobs=2), pd.DataFrame(X_r2l), y_r2l, 10, 3)"
   ]
  },
  {
   "cell_type": "markdown",
   "metadata": {},
   "source": [
    "#### K-fold cross validation on r2l Standard Scaling"
   ]
  },
  {
   "cell_type": "code",
   "execution_count": 84,
   "metadata": {},
   "outputs": [
    {
     "name": "stdout",
     "output_type": "stream",
     "text": [
      ">Train: 0=54080, 1=67137, Test: 0=13263, 1=206\n",
      ">Train: 0=54094, 1=67123, Test: 0=13249, 1=220\n",
      ">Train: 0=54054, 1=67163, Test: 0=13289, 1=180\n",
      ">Train: 0=54045, 1=67172, Test: 0=13298, 1=171\n",
      ">Train: 0=54082, 1=67135, Test: 0=13261, 1=208\n",
      ">Train: 0=66360, 1=54857, Test: 0=983, 1=12486\n",
      ">Train: 0=67343, 1=53875, Test: 0=0, 1=13468\n",
      ">Train: 0=67343, 1=53875, Test: 0=0, 1=13468\n",
      ">Train: 0=67343, 1=53875, Test: 0=0, 1=13468\n",
      ">Train: 0=67343, 1=53875, Test: 0=0, 1=13468\n"
     ]
    },
    {
     "data": {
      "text/plain": [
       "{'Mean Training Accuracy': 1.0,\n",
       " 'Mean Training Precision': 1.0,\n",
       " 'Mean Training Recall': 1.0,\n",
       " 'Mean Training F1 Score': 1.0,\n",
       " 'Mean Validation Accuracy': 0.9997846902201344,\n",
       " 'Mean Validation Precision': 0.9899101219924201,\n",
       " 'Mean Validation Recall': 0.9955020762787752,\n",
       " 'Mean Validation F1 Score': 0.9926473312461639}"
      ]
     },
     "execution_count": 84,
     "metadata": {},
     "output_type": "execute_result"
    }
   ],
   "source": [
    "KfoldCV(RandomForestClassifier(n_estimators=64,n_jobs=2), pd.DataFrame(X_r2l_ss), y_r2l, 10, 3)"
   ]
  },
  {
   "cell_type": "markdown",
   "metadata": {},
   "source": [
    "#### Stratified cross validation on r2l"
   ]
  },
  {
   "cell_type": "code",
   "execution_count": 85,
   "metadata": {},
   "outputs": [
    {
     "name": "stdout",
     "output_type": "stream",
     "text": [
      ">Train: 0=60608, 1=60609, Test: 0=6735, 1=6734\n",
      ">Train: 0=60608, 1=60609, Test: 0=6735, 1=6734\n",
      ">Train: 0=60608, 1=60609, Test: 0=6735, 1=6734\n",
      ">Train: 0=60609, 1=60608, Test: 0=6734, 1=6735\n",
      ">Train: 0=60609, 1=60608, Test: 0=6734, 1=6735\n",
      ">Train: 0=60609, 1=60608, Test: 0=6734, 1=6735\n",
      ">Train: 0=60609, 1=60609, Test: 0=6734, 1=6734\n",
      ">Train: 0=60609, 1=60609, Test: 0=6734, 1=6734\n",
      ">Train: 0=60609, 1=60609, Test: 0=6734, 1=6734\n",
      ">Train: 0=60609, 1=60609, Test: 0=6734, 1=6734\n"
     ]
    },
    {
     "data": {
      "text/plain": [
       "{'Mean Training Accuracy': 1.0,\n",
       " 'Mean Training Precision': 1.0,\n",
       " 'Mean Training Recall': 1.0,\n",
       " 'Mean Training F1 Score': 1.0,\n",
       " 'Mean Validation Accuracy': 0.9998069602810119,\n",
       " 'Mean Validation Precision': 0.9997921856935438,\n",
       " 'Mean Validation Recall': 0.9998217998217998,\n",
       " 'Mean Validation F1 Score': 0.9998069144625005}"
      ]
     },
     "execution_count": 85,
     "metadata": {},
     "output_type": "execute_result"
    }
   ],
   "source": [
    "stratifiedCV(RandomForestClassifier(n_estimators=64,n_jobs=2), pd.DataFrame(X_r2l), y_r2l, 10, 3)"
   ]
  },
  {
   "cell_type": "markdown",
   "metadata": {},
   "source": [
    "#### Stratified cross validation on r2l Standard Scaling"
   ]
  },
  {
   "cell_type": "code",
   "execution_count": 86,
   "metadata": {},
   "outputs": [
    {
     "name": "stdout",
     "output_type": "stream",
     "text": [
      ">Train: 0=60608, 1=60609, Test: 0=6735, 1=6734\n",
      ">Train: 0=60608, 1=60609, Test: 0=6735, 1=6734\n",
      ">Train: 0=60608, 1=60609, Test: 0=6735, 1=6734\n",
      ">Train: 0=60609, 1=60608, Test: 0=6734, 1=6735\n",
      ">Train: 0=60609, 1=60608, Test: 0=6734, 1=6735\n",
      ">Train: 0=60609, 1=60608, Test: 0=6734, 1=6735\n",
      ">Train: 0=60609, 1=60609, Test: 0=6734, 1=6734\n",
      ">Train: 0=60609, 1=60609, Test: 0=6734, 1=6734\n",
      ">Train: 0=60609, 1=60609, Test: 0=6734, 1=6734\n",
      ">Train: 0=60609, 1=60609, Test: 0=6734, 1=6734\n"
     ]
    },
    {
     "data": {
      "text/plain": [
       "{'Mean Training Accuracy': 1.0,\n",
       " 'Mean Training Precision': 1.0,\n",
       " 'Mean Training Recall': 1.0,\n",
       " 'Mean Training F1 Score': 1.0,\n",
       " 'Mean Validation Accuracy': 0.9998143852884368,\n",
       " 'Mean Validation Precision': 0.9997922077105443,\n",
       " 'Mean Validation Recall': 0.9998366498366499,\n",
       " 'Mean Validation F1 Score': 0.99981435656657}"
      ]
     },
     "execution_count": 86,
     "metadata": {},
     "output_type": "execute_result"
    }
   ],
   "source": [
    "stratifiedCV(RandomForestClassifier(n_estimators=64,n_jobs=2), pd.DataFrame(X_r2l_ss), y_r2l, 10, 3)"
   ]
  },
  {
   "cell_type": "markdown",
   "metadata": {},
   "source": [
    "#### Predict on r2l"
   ]
  },
  {
   "cell_type": "code",
   "execution_count": 87,
   "metadata": {},
   "outputs": [
    {
     "data": {
      "image/png": "[encoded data removed]",
      "text/plain": [
       "<Figure size 432x288 with 2 Axes>"
      ]
     },
     "metadata": {
      "needs_background": "light"
     },
     "output_type": "display_data"
    },
    {
     "name": "stdout",
     "output_type": "stream",
     "text": [
      "Accuracy: 0.53625 \n",
      "Precision: 0.99577 \n",
      "Recall: 0.07280 \n",
      "F-measure: 0.13569 \n"
     ]
    }
   ],
   "source": [
    "y_r2l_rfe_prediction = randomForest(X_r2l, y_r2l).predict(X_r2l_test)\n",
    "plotConfusionMatrix(y_r2l_rfe_prediction, y_r2l_test, 3)"
   ]
  },
  {
   "cell_type": "code",
   "execution_count": 88,
   "metadata": {},
   "outputs": [
    {
     "data": {
      "image/png": "[encoded data removed]",
      "text/plain": [
       "<Figure size 432x288 with 2 Axes>"
      ]
     },
     "metadata": {
      "needs_background": "light"
     },
     "output_type": "display_data"
    },
    {
     "name": "stdout",
     "output_type": "stream",
     "text": [
      "Accuracy: 0.53625 \n",
      "Precision: 0.99577 \n",
      "Recall: 0.07280 \n",
      "F-measure: 0.13569 \n"
     ]
    }
   ],
   "source": [
    "y_probe_rfy_r2l_rfe_predictione_prediction = randomForest(X_r2l_ss, y_r2l).predict(X_r2l_test_ss)\n",
    "plotConfusionMatrix(y_r2l_rfe_prediction, y_r2l_test, 3)"
   ]
  },
  {
   "cell_type": "markdown",
   "metadata": {},
   "source": [
    "#### K-fold cross validation on u2r"
   ]
  },
  {
   "cell_type": "code",
   "execution_count": 89,
   "metadata": {
    "scrolled": true
   },
   "outputs": [
    {
     "name": "stdout",
     "output_type": "stream",
     "text": [
      ">Train: 0=53885, 1=67332, Test: 0=13458, 1=11\n",
      ">Train: 0=53886, 1=67331, Test: 0=13457, 1=12\n",
      ">Train: 0=53886, 1=67331, Test: 0=13457, 1=12\n",
      ">Train: 0=53882, 1=67335, Test: 0=13461, 1=8\n",
      ">Train: 0=53883, 1=67334, Test: 0=13460, 1=9\n",
      ">Train: 0=67293, 1=53924, Test: 0=50, 1=13419\n",
      ">Train: 0=67343, 1=53875, Test: 0=0, 1=13468\n",
      ">Train: 0=67343, 1=53875, Test: 0=0, 1=13468\n",
      ">Train: 0=67343, 1=53875, Test: 0=0, 1=13468\n",
      ">Train: 0=67343, 1=53875, Test: 0=0, 1=13468\n"
     ]
    },
    {
     "data": {
      "text/plain": [
       "{'Mean Training Accuracy': 0.9999925753260669,\n",
       " 'Mean Training Precision': 0.9999847804929255,\n",
       " 'Mean Training Recall': 1.0,\n",
       " 'Mean Training F1 Score': 0.9999923901813563,\n",
       " 'Mean Validation Accuracy': 0.9998440864206696,\n",
       " 'Mean Validation Precision': 0.8806204906204906,\n",
       " 'Mean Validation Recall': 0.9422979797979798,\n",
       " 'Mean Validation F1 Score': 0.9073879142300194}"
      ]
     },
     "execution_count": 89,
     "metadata": {},
     "output_type": "execute_result"
    }
   ],
   "source": [
    "KfoldCV(RandomForestClassifier(n_estimators=64,n_jobs=2), pd.DataFrame(X_u2r), y_u2r, 10, 4)"
   ]
  },
  {
   "cell_type": "markdown",
   "metadata": {},
   "source": [
    "#### K-fold cross validation on u2r Standard Scaling"
   ]
  },
  {
   "cell_type": "code",
   "execution_count": 90,
   "metadata": {},
   "outputs": [
    {
     "name": "stdout",
     "output_type": "stream",
     "text": [
      ">Train: 0=53885, 1=67332, Test: 0=13458, 1=11\n",
      ">Train: 0=53886, 1=67331, Test: 0=13457, 1=12\n",
      ">Train: 0=53886, 1=67331, Test: 0=13457, 1=12\n",
      ">Train: 0=53882, 1=67335, Test: 0=13461, 1=8\n",
      ">Train: 0=53883, 1=67334, Test: 0=13460, 1=9\n",
      ">Train: 0=67293, 1=53924, Test: 0=50, 1=13419\n",
      ">Train: 0=67343, 1=53875, Test: 0=0, 1=13468\n",
      ">Train: 0=67343, 1=53875, Test: 0=0, 1=13468\n",
      ">Train: 0=67343, 1=53875, Test: 0=0, 1=13468\n",
      ">Train: 0=67343, 1=53875, Test: 0=0, 1=13468\n"
     ]
    },
    {
     "data": {
      "text/plain": [
       "{'Mean Training Accuracy': 0.9999925753260669,\n",
       " 'Mean Training Precision': 0.9999847804929255,\n",
       " 'Mean Training Recall': 1.0,\n",
       " 'Mean Training F1 Score': 0.9999923901813563,\n",
       " 'Mean Validation Accuracy': 0.9998515108768282,\n",
       " 'Mean Validation Precision': 0.8791452991452993,\n",
       " 'Mean Validation Recall': 0.9631313131313132,\n",
       " 'Mean Validation F1 Score': 0.9147008547008546}"
      ]
     },
     "execution_count": 90,
     "metadata": {},
     "output_type": "execute_result"
    }
   ],
   "source": [
    "KfoldCV(RandomForestClassifier(n_estimators=64,n_jobs=2), pd.DataFrame(X_u2r_ss), y_u2r, 10, 4)"
   ]
  },
  {
   "cell_type": "markdown",
   "metadata": {},
   "source": [
    "#### Stratified cross validation on u2r"
   ]
  },
  {
   "cell_type": "code",
   "execution_count": 91,
   "metadata": {
    "scrolled": true
   },
   "outputs": [
    {
     "name": "stdout",
     "output_type": "stream",
     "text": [
      ">Train: 0=60608, 1=60609, Test: 0=6735, 1=6734\n",
      ">Train: 0=60608, 1=60609, Test: 0=6735, 1=6734\n",
      ">Train: 0=60608, 1=60609, Test: 0=6735, 1=6734\n",
      ">Train: 0=60609, 1=60608, Test: 0=6734, 1=6735\n",
      ">Train: 0=60609, 1=60608, Test: 0=6734, 1=6735\n",
      ">Train: 0=60609, 1=60608, Test: 0=6734, 1=6735\n",
      ">Train: 0=60609, 1=60609, Test: 0=6734, 1=6734\n",
      ">Train: 0=60609, 1=60609, Test: 0=6734, 1=6734\n",
      ">Train: 0=60609, 1=60609, Test: 0=6734, 1=6734\n",
      ">Train: 0=60609, 1=60609, Test: 0=6734, 1=6734\n"
     ]
    },
    {
     "data": {
      "text/plain": [
       "{'Mean Training Accuracy': 0.9999925753192611,\n",
       " 'Mean Training Precision': 0.9999851508835216,\n",
       " 'Mean Training Recall': 1.0,\n",
       " 'Mean Training F1 Score': 0.9999925753805112,\n",
       " 'Mean Validation Accuracy': 0.9998589325766547,\n",
       " 'Mean Validation Precision': 0.9997773203098907,\n",
       " 'Mean Validation Recall': 0.9999405999405999,\n",
       " 'Mean Validation F1 Score': 0.9998589386344461}"
      ]
     },
     "execution_count": 91,
     "metadata": {},
     "output_type": "execute_result"
    }
   ],
   "source": [
    "stratifiedCV(RandomForestClassifier(n_estimators=64,n_jobs=2), pd.DataFrame(X_u2r), y_u2r, 10, 4)"
   ]
  },
  {
   "cell_type": "markdown",
   "metadata": {},
   "source": [
    "#### Stratified cross validation on u2r Standard Scaling"
   ]
  },
  {
   "cell_type": "code",
   "execution_count": 92,
   "metadata": {},
   "outputs": [
    {
     "name": "stdout",
     "output_type": "stream",
     "text": [
      ">Train: 0=60608, 1=60609, Test: 0=6735, 1=6734\n",
      ">Train: 0=60608, 1=60609, Test: 0=6735, 1=6734\n",
      ">Train: 0=60608, 1=60609, Test: 0=6735, 1=6734\n",
      ">Train: 0=60609, 1=60608, Test: 0=6734, 1=6735\n",
      ">Train: 0=60609, 1=60608, Test: 0=6734, 1=6735\n",
      ">Train: 0=60609, 1=60608, Test: 0=6734, 1=6735\n",
      ">Train: 0=60609, 1=60609, Test: 0=6734, 1=6734\n",
      ">Train: 0=60609, 1=60609, Test: 0=6734, 1=6734\n",
      ">Train: 0=60609, 1=60609, Test: 0=6734, 1=6734\n",
      ">Train: 0=60609, 1=60609, Test: 0=6734, 1=6734\n"
     ]
    },
    {
     "data": {
      "text/plain": [
       "{'Mean Training Accuracy': 0.9999925753192611,\n",
       " 'Mean Training Precision': 0.9999851508835216,\n",
       " 'Mean Training Recall': 1.0,\n",
       " 'Mean Training F1 Score': 0.9999925753805112,\n",
       " 'Mean Validation Accuracy': 0.9998440831130712,\n",
       " 'Mean Validation Precision': 0.9997476335069839,\n",
       " 'Mean Validation Recall': 0.9999405999405999,\n",
       " 'Mean Validation F1 Score': 0.9998440919268672}"
      ]
     },
     "execution_count": 92,
     "metadata": {},
     "output_type": "execute_result"
    }
   ],
   "source": [
    "stratifiedCV(RandomForestClassifier(n_estimators=64,n_jobs=2), pd.DataFrame(X_u2r_ss), y_u2r, 10, 4)"
   ]
  },
  {
   "cell_type": "markdown",
   "metadata": {},
   "source": [
    "#### Predict on u2r"
   ]
  },
  {
   "cell_type": "code",
   "execution_count": 93,
   "metadata": {},
   "outputs": [
    {
     "data": {
      "image/png": "[encoded data removed]",
      "text/plain": [
       "<Figure size 432x288 with 2 Axes>"
      ]
     },
     "metadata": {
      "needs_background": "light"
     },
     "output_type": "display_data"
    },
    {
     "name": "stdout",
     "output_type": "stream",
     "text": [
      "Accuracy: 0.57697 \n",
      "Precision: 0.99867 \n",
      "Recall: 0.15416 \n",
      "F-measure: 0.26708 \n"
     ]
    }
   ],
   "source": [
    "y_u2r_rfe_prediction = randomForest(X_u2r, y_u2r).predict(X_u2r_test)\n",
    "plotConfusionMatrix(y_u2r_rfe_prediction, y_u2r_test, 4)"
   ]
  },
  {
   "cell_type": "code",
   "execution_count": 94,
   "metadata": {},
   "outputs": [
    {
     "data": {
      "image/png": "[encoded data removed]",
      "text/plain": [
       "<Figure size 432x288 with 2 Axes>"
      ]
     },
     "metadata": {
      "needs_background": "light"
     },
     "output_type": "display_data"
    },
    {
     "name": "stdout",
     "output_type": "stream",
     "text": [
      "Accuracy: 0.50674 \n",
      "Precision: 1.00000 \n",
      "Recall: 0.01349 \n",
      "F-measure: 0.02662 \n"
     ]
    }
   ],
   "source": [
    "y_u2r_rfe_prediction = randomForest(X_u2r_ss, y_u2r).predict(X_u2r_test_ss)\n",
    "plotConfusionMatrix(y_u2r_rfe_prediction, y_u2r_test, 4)"
   ]
  },
  {
   "cell_type": "markdown",
   "metadata": {},
   "source": [
    "## Feature selection"
   ]
  },
  {
   "cell_type": "code",
   "execution_count": 95,
   "metadata": {},
   "outputs": [],
   "source": [
    "X_dos_rfe, rfecolname_dos = recursiveFeatureExtraction(RandomForestClassifier(n_estimators=64,n_jobs=2), X_dos, y_dos, 13)\n",
    "X_probe_rfe, rfecolname_probe = recursiveFeatureExtraction(RandomForestClassifier(n_estimators=64,n_jobs=2), X_probe, y_probe, 13)\n",
    "X_r2l_rfe, rfecolname_r2l = recursiveFeatureExtraction(RandomForestClassifier(n_estimators=64,n_jobs=2), X_r2l, y_r2l, 13)\n",
    "X_u2r_rfe, rfecolname_u2r = recursiveFeatureExtraction(RandomForestClassifier(n_estimators=64,n_jobs=2), X_u2r, y_u2r, 13)\n",
    "\n",
    "X_dos_test_rfe=X_dos_test.values[:,rfecolname_dos]\n",
    "X_probe_test_rfe=X_probe_test.values[:,rfecolname_probe]\n",
    "X_r2l_test_rfe=X_r2l_test.values[:,rfecolname_r2l]\n",
    "X_u2r_test_rfe=X_u2r_test.values[:,rfecolname_u2r]"
   ]
  },
  {
   "cell_type": "code",
   "execution_count": 96,
   "metadata": {},
   "outputs": [],
   "source": [
    "X_dos_rfe_ss, rfecolname_dosSS = recursiveFeatureExtraction(RandomForestClassifier(n_estimators=64,n_jobs=2), X_dos_ss, y_dos, 13)\n",
    "X_probe_rfe_ss, rfecolname_probeSS = recursiveFeatureExtraction(RandomForestClassifier(n_estimators=64,n_jobs=2), X_probe_ss, y_probe, 13)\n",
    "X_r2l_rfe_ss, rfecolname_r2lSS = recursiveFeatureExtraction(RandomForestClassifier(n_estimators=64,n_jobs=2), X_r2l_ss, y_r2l, 13)\n",
    "X_u2r_rfe_ss, rfecolname_u2rSS = recursiveFeatureExtraction(RandomForestClassifier(n_estimators=64,n_jobs=2), X_u2r_ss, y_u2r, 13)\n",
    "\n",
    "X_dos_test_rfe_ss=X_dos_test_ss[:,rfecolname_dosSS]\n",
    "X_probe_test_rfe_ss=X_probe_test_ss[:,rfecolname_probeSS]\n",
    "X_r2l_test_rfe_ss=X_r2l_test_ss[:,rfecolname_r2lSS]\n",
    "X_u2r_test_rfe_ss=X_u2r_test_ss[:,rfecolname_u2rSS]"
   ]
  },
  {
   "cell_type": "markdown",
   "metadata": {},
   "source": [
    "#### K-fold cross validation on dos"
   ]
  },
  {
   "cell_type": "code",
   "execution_count": 97,
   "metadata": {},
   "outputs": [
    {
     "name": "stdout",
     "output_type": "stream",
     "text": [
      ">Train: 0=59387, 1=61830, Test: 0=7956, 1=5513\n",
      ">Train: 0=59336, 1=61881, Test: 0=8007, 1=5462\n",
      ">Train: 0=59437, 1=61780, Test: 0=7906, 1=5563\n",
      ">Train: 0=59306, 1=61911, Test: 0=8037, 1=5432\n",
      ">Train: 0=59299, 1=61918, Test: 0=8044, 1=5425\n",
      ">Train: 0=59294, 1=61923, Test: 0=8049, 1=5420\n",
      ">Train: 0=59294, 1=61924, Test: 0=8049, 1=5419\n",
      ">Train: 0=59327, 1=61891, Test: 0=8016, 1=5452\n",
      ">Train: 0=64064, 1=57154, Test: 0=3279, 1=10189\n",
      ">Train: 0=67343, 1=53875, Test: 0=0, 1=13468\n"
     ]
    },
    {
     "data": {
      "text/plain": [
       "{'Mean Training Accuracy': 0.9999472022952556,\n",
       " 'Mean Training Precision': 0.9999604636194246,\n",
       " 'Mean Training Recall': 0.9999336337238443,\n",
       " 'Mean Training F1 Score': 0.9999470475248916,\n",
       " 'Mean Validation Accuracy': 0.9996436194891908,\n",
       " 'Mean Validation Precision': 0.9996621473160812,\n",
       " 'Mean Validation Recall': 0.9995261616465815,\n",
       " 'Mean Validation F1 Score': 0.9995941097041927}"
      ]
     },
     "execution_count": 97,
     "metadata": {},
     "output_type": "execute_result"
    }
   ],
   "source": [
    "KfoldCV(RandomForestClassifier(n_estimators=64,n_jobs=2), pd.DataFrame(X_dos_rfe), y_dos, 10, 1)"
   ]
  },
  {
   "cell_type": "markdown",
   "metadata": {},
   "source": [
    "#### K-fold cross validation on dos Standard Scaler"
   ]
  },
  {
   "cell_type": "code",
   "execution_count": 98,
   "metadata": {},
   "outputs": [
    {
     "name": "stdout",
     "output_type": "stream",
     "text": [
      ">Train: 0=59387, 1=61830, Test: 0=7956, 1=5513\n",
      ">Train: 0=59336, 1=61881, Test: 0=8007, 1=5462\n",
      ">Train: 0=59437, 1=61780, Test: 0=7906, 1=5563\n",
      ">Train: 0=59306, 1=61911, Test: 0=8037, 1=5432\n",
      ">Train: 0=59299, 1=61918, Test: 0=8044, 1=5425\n",
      ">Train: 0=59294, 1=61923, Test: 0=8049, 1=5420\n",
      ">Train: 0=59294, 1=61924, Test: 0=8049, 1=5419\n",
      ">Train: 0=59327, 1=61891, Test: 0=8016, 1=5452\n",
      ">Train: 0=64064, 1=57154, Test: 0=3279, 1=10189\n",
      ">Train: 0=67343, 1=53875, Test: 0=0, 1=13468\n"
     ]
    },
    {
     "data": {
      "text/plain": [
       "{'Mean Training Accuracy': 0.9999480272620508,\n",
       " 'Mean Training Precision': 0.9999572373382387,\n",
       " 'Mean Training Recall': 0.9999384747014146,\n",
       " 'Mean Training F1 Score': 0.9999478554419424,\n",
       " 'Mean Validation Accuracy': 0.9996658934089331,\n",
       " 'Mean Validation Precision': 0.9997080795222679,\n",
       " 'Mean Validation Recall': 0.9995260197740533,\n",
       " 'Mean Validation F1 Score': 0.9996169912885986}"
      ]
     },
     "execution_count": 98,
     "metadata": {},
     "output_type": "execute_result"
    }
   ],
   "source": [
    "KfoldCV(RandomForestClassifier(n_estimators=64,n_jobs=2), pd.DataFrame(X_dos_rfe_ss), y_dos, 10, 1)"
   ]
  },
  {
   "cell_type": "markdown",
   "metadata": {},
   "source": [
    "#### Stratified cross validation on dos"
   ]
  },
  {
   "cell_type": "code",
   "execution_count": 99,
   "metadata": {},
   "outputs": [
    {
     "name": "stdout",
     "output_type": "stream",
     "text": [
      ">Train: 0=60608, 1=60609, Test: 0=6735, 1=6734\n",
      ">Train: 0=60608, 1=60609, Test: 0=6735, 1=6734\n",
      ">Train: 0=60608, 1=60609, Test: 0=6735, 1=6734\n",
      ">Train: 0=60609, 1=60608, Test: 0=6734, 1=6735\n",
      ">Train: 0=60609, 1=60608, Test: 0=6734, 1=6735\n",
      ">Train: 0=60609, 1=60608, Test: 0=6734, 1=6735\n",
      ">Train: 0=60609, 1=60609, Test: 0=6734, 1=6734\n",
      ">Train: 0=60609, 1=60609, Test: 0=6734, 1=6734\n",
      ">Train: 0=60609, 1=60609, Test: 0=6734, 1=6734\n",
      ">Train: 0=60609, 1=60609, Test: 0=6734, 1=6734\n"
     ]
    },
    {
     "data": {
      "text/plain": [
       "{'Mean Training Accuracy': 0.9999480272688563,\n",
       " 'Mean Training Precision': 0.9999670008925575,\n",
       " 'Mean Training Recall': 0.9999290531959029,\n",
       " 'Mean Training F1 Score': 0.9999480262479737,\n",
       " 'Mean Validation Accuracy': 0.9996213466719815,\n",
       " 'Mean Validation Precision': 0.9996881739040828,\n",
       " 'Mean Validation Recall': 0.9995545260133236,\n",
       " 'Mean Validation F1 Score': 0.9996213141330166}"
      ]
     },
     "execution_count": 99,
     "metadata": {},
     "output_type": "execute_result"
    }
   ],
   "source": [
    "stratifiedCV(RandomForestClassifier(n_estimators=64,n_jobs=2), pd.DataFrame(X_dos_rfe), y_dos, 10, 1)"
   ]
  },
  {
   "cell_type": "markdown",
   "metadata": {},
   "source": [
    "#### Stratified cross validation on dos Standard Scaler"
   ]
  },
  {
   "cell_type": "code",
   "execution_count": 100,
   "metadata": {},
   "outputs": [
    {
     "name": "stdout",
     "output_type": "stream",
     "text": [
      ">Train: 0=60608, 1=60609, Test: 0=6735, 1=6734\n",
      ">Train: 0=60608, 1=60609, Test: 0=6735, 1=6734\n",
      ">Train: 0=60608, 1=60609, Test: 0=6735, 1=6734\n",
      ">Train: 0=60609, 1=60608, Test: 0=6734, 1=6735\n",
      ">Train: 0=60609, 1=60608, Test: 0=6734, 1=6735\n",
      ">Train: 0=60609, 1=60608, Test: 0=6734, 1=6735\n",
      ">Train: 0=60609, 1=60609, Test: 0=6734, 1=6734\n",
      ">Train: 0=60609, 1=60609, Test: 0=6734, 1=6734\n",
      ">Train: 0=60609, 1=60609, Test: 0=6734, 1=6734\n",
      ">Train: 0=60609, 1=60609, Test: 0=6734, 1=6734\n"
     ]
    },
    {
     "data": {
      "text/plain": [
       "{'Mean Training Accuracy': 0.9999480272688563,\n",
       " 'Mean Training Precision': 0.9999637012975944,\n",
       " 'Mean Training Recall': 0.9999323530086377,\n",
       " 'Mean Training F1 Score': 0.9999480264113079,\n",
       " 'Mean Validation Accuracy': 0.9996584706065736,\n",
       " 'Mean Validation Precision': 0.9997623952949691,\n",
       " 'Mean Validation Recall': 0.9995545282182254,\n",
       " 'Mean Validation F1 Score': 0.9996584187687002}"
      ]
     },
     "execution_count": 100,
     "metadata": {},
     "output_type": "execute_result"
    }
   ],
   "source": [
    "stratifiedCV(RandomForestClassifier(n_estimators=64,n_jobs=2), pd.DataFrame(X_dos_rfe_ss), y_dos, 10, 1)"
   ]
  },
  {
   "cell_type": "markdown",
   "metadata": {},
   "source": [
    "#### Predict on dos"
   ]
  },
  {
   "cell_type": "code",
   "execution_count": 101,
   "metadata": {},
   "outputs": [
    {
     "data": {
      "image/png": "[encoded data removed]",
      "text/plain": [
       "<Figure size 432x288 with 2 Axes>"
      ]
     },
     "metadata": {
      "needs_background": "light"
     },
     "output_type": "display_data"
    },
    {
     "name": "stdout",
     "output_type": "stream",
     "text": [
      "Accuracy: 0.88688 \n",
      "Precision: 0.99111 \n",
      "Recall: 0.78076 \n",
      "F-measure: 0.87345 \n"
     ]
    }
   ],
   "source": [
    "y_dos_rfe_prediction = randomForest(X_dos_rfe, y_dos).predict(X_dos_test_rfe)\n",
    "plotConfusionMatrix(y_dos_rfe_prediction, y_dos_test, 1)"
   ]
  },
  {
   "cell_type": "code",
   "execution_count": 102,
   "metadata": {},
   "outputs": [
    {
     "data": {
      "image/png": "[encoded data removed]",
      "text/plain": [
       "<Figure size 432x288 with 2 Axes>"
      ]
     },
     "metadata": {
      "needs_background": "light"
     },
     "output_type": "display_data"
    },
    {
     "name": "stdout",
     "output_type": "stream",
     "text": [
      "Accuracy: 0.85933 \n",
      "Precision: 0.87688 \n",
      "Recall: 0.83606 \n",
      "F-measure: 0.85598 \n"
     ]
    }
   ],
   "source": [
    "y_dos_rfe_prediction = randomForest(X_dos_rfe_ss, y_dos).predict(X_dos_test_rfe_ss)\n",
    "plotConfusionMatrix(y_dos_rfe_prediction, y_dos_test, 1)"
   ]
  },
  {
   "cell_type": "markdown",
   "metadata": {},
   "source": [
    "#### K-fold cross validation on probe"
   ]
  },
  {
   "cell_type": "code",
   "execution_count": 103,
   "metadata": {},
   "outputs": [
    {
     "name": "stdout",
     "output_type": "stream",
     "text": [
      ">Train: 0=55814, 1=65403, Test: 0=11529, 1=1940\n",
      ">Train: 0=55943, 1=65274, Test: 0=11400, 1=2069\n",
      ">Train: 0=55894, 1=65323, Test: 0=11449, 1=2020\n",
      ">Train: 0=55775, 1=65442, Test: 0=11568, 1=1901\n",
      ">Train: 0=55895, 1=65322, Test: 0=11448, 1=2021\n",
      ">Train: 0=57394, 1=63823, Test: 0=9949, 1=3520\n",
      ">Train: 0=67343, 1=53875, Test: 0=0, 1=13468\n",
      ">Train: 0=67343, 1=53875, Test: 0=0, 1=13468\n",
      ">Train: 0=67343, 1=53875, Test: 0=0, 1=13468\n",
      ">Train: 0=67343, 1=53875, Test: 0=0, 1=13468\n"
     ]
    },
    {
     "data": {
      "text/plain": [
       "{'Mean Training Accuracy': 0.9999851506521334,\n",
       " 'Mean Training Precision': 0.9999848867898073,\n",
       " 'Mean Training Recall': 0.9999848886623262,\n",
       " 'Mean Training F1 Score': 0.9999848877143636,\n",
       " 'Mean Validation Accuracy': 0.9993689096499253,\n",
       " 'Mean Validation Precision': 0.998337651418279,\n",
       " 'Mean Validation Recall': 0.9985616534491601,\n",
       " 'Mean Validation F1 Score': 0.998448873703549}"
      ]
     },
     "execution_count": 103,
     "metadata": {},
     "output_type": "execute_result"
    }
   ],
   "source": [
    "KfoldCV(RandomForestClassifier(n_estimators=64,n_jobs=2), pd.DataFrame(X_probe_rfe), y_probe, 10, 2)"
   ]
  },
  {
   "cell_type": "markdown",
   "metadata": {},
   "source": [
    "#### K-fold cross validation on probe Standard Scaler"
   ]
  },
  {
   "cell_type": "code",
   "execution_count": 104,
   "metadata": {},
   "outputs": [
    {
     "name": "stdout",
     "output_type": "stream",
     "text": [
      ">Train: 0=55814, 1=65403, Test: 0=11529, 1=1940\n",
      ">Train: 0=55943, 1=65274, Test: 0=11400, 1=2069\n",
      ">Train: 0=55894, 1=65323, Test: 0=11449, 1=2020\n",
      ">Train: 0=55775, 1=65442, Test: 0=11568, 1=1901\n",
      ">Train: 0=55895, 1=65322, Test: 0=11448, 1=2021\n",
      ">Train: 0=57394, 1=63823, Test: 0=9949, 1=3520\n",
      ">Train: 0=67343, 1=53875, Test: 0=0, 1=13468\n",
      ">Train: 0=67343, 1=53875, Test: 0=0, 1=13468\n",
      ">Train: 0=67343, 1=53875, Test: 0=0, 1=13468\n",
      ">Train: 0=67343, 1=53875, Test: 0=0, 1=13468\n"
     ]
    },
    {
     "data": {
      "text/plain": [
       "{'Mean Training Accuracy': 0.9999777259782003,\n",
       " 'Mean Training Precision': 0.9999682092559237,\n",
       " 'Mean Training Recall': 0.9999864554955995,\n",
       " 'Mean Training F1 Score': 0.999977332250938,\n",
       " 'Mean Validation Accuracy': 0.9993392123765574,\n",
       " 'Mean Validation Precision': 0.9982055662548678,\n",
       " 'Mean Validation Recall': 0.9985396609300791,\n",
       " 'Mean Validation F1 Score': 0.9983718839884226}"
      ]
     },
     "execution_count": 104,
     "metadata": {},
     "output_type": "execute_result"
    }
   ],
   "source": [
    "KfoldCV(RandomForestClassifier(n_estimators=64,n_jobs=2), pd.DataFrame(X_probe_rfe_ss), y_probe, 10, 2)"
   ]
  },
  {
   "cell_type": "markdown",
   "metadata": {},
   "source": [
    "#### Stratified cross validation on probe"
   ]
  },
  {
   "cell_type": "code",
   "execution_count": 105,
   "metadata": {},
   "outputs": [
    {
     "name": "stdout",
     "output_type": "stream",
     "text": [
      ">Train: 0=60608, 1=60609, Test: 0=6735, 1=6734\n",
      ">Train: 0=60608, 1=60609, Test: 0=6735, 1=6734\n",
      ">Train: 0=60608, 1=60609, Test: 0=6735, 1=6734\n",
      ">Train: 0=60609, 1=60608, Test: 0=6734, 1=6735\n",
      ">Train: 0=60609, 1=60608, Test: 0=6734, 1=6735\n",
      ">Train: 0=60609, 1=60608, Test: 0=6734, 1=6735\n",
      ">Train: 0=60609, 1=60609, Test: 0=6734, 1=6734\n",
      ">Train: 0=60609, 1=60609, Test: 0=6734, 1=6734\n",
      ">Train: 0=60609, 1=60609, Test: 0=6734, 1=6734\n",
      ">Train: 0=60609, 1=60609, Test: 0=6734, 1=6734\n"
     ]
    },
    {
     "data": {
      "text/plain": [
       "{'Mean Training Accuracy': 0.9999851506521334,\n",
       " 'Mean Training Precision': 0.9999851506385216,\n",
       " 'Mean Training Recall': 0.9999851506385216,\n",
       " 'Mean Training F1 Score': 0.9999851506385216,\n",
       " 'Mean Validation Accuracy': 0.9994134574894096,\n",
       " 'Mean Validation Precision': 0.9994654629948817,\n",
       " 'Mean Validation Recall': 0.9993614625908613,\n",
       " 'Mean Validation F1 Score': 0.9994131996018825}"
      ]
     },
     "execution_count": 105,
     "metadata": {},
     "output_type": "execute_result"
    }
   ],
   "source": [
    "stratifiedCV(RandomForestClassifier(n_estimators=64,n_jobs=2), pd.DataFrame(X_probe_rfe), y_probe, 10, 2)"
   ]
  },
  {
   "cell_type": "markdown",
   "metadata": {},
   "source": [
    "#### Stratified cross validation on probe Standard Scaler"
   ]
  },
  {
   "cell_type": "code",
   "execution_count": 106,
   "metadata": {},
   "outputs": [
    {
     "name": "stdout",
     "output_type": "stream",
     "text": [
      ">Train: 0=60608, 1=60609, Test: 0=6735, 1=6734\n",
      ">Train: 0=60608, 1=60609, Test: 0=6735, 1=6734\n",
      ">Train: 0=60608, 1=60609, Test: 0=6735, 1=6734\n",
      ">Train: 0=60609, 1=60608, Test: 0=6734, 1=6735\n",
      ">Train: 0=60609, 1=60608, Test: 0=6734, 1=6735\n",
      ">Train: 0=60609, 1=60608, Test: 0=6734, 1=6735\n",
      ">Train: 0=60609, 1=60609, Test: 0=6734, 1=6734\n",
      ">Train: 0=60609, 1=60609, Test: 0=6734, 1=6734\n",
      ">Train: 0=60609, 1=60609, Test: 0=6734, 1=6734\n",
      ">Train: 0=60609, 1=60609, Test: 0=6734, 1=6734\n"
     ]
    },
    {
     "data": {
      "text/plain": [
       "{'Mean Training Accuracy': 0.999976901018211,\n",
       " 'Mean Training Precision': 0.9999686519831646,\n",
       " 'Mean Training Recall': 0.9999851506385216,\n",
       " 'Mean Training F1 Score': 0.9999769012019597,\n",
       " 'Mean Validation Accuracy': 0.999376333003551,\n",
       " 'Mean Validation Precision': 0.9994505908391856,\n",
       " 'Mean Validation Recall': 0.9993020669412653,\n",
       " 'Mean Validation F1 Score': 0.9993760828815411}"
      ]
     },
     "execution_count": 106,
     "metadata": {},
     "output_type": "execute_result"
    }
   ],
   "source": [
    "stratifiedCV(RandomForestClassifier(n_estimators=64,n_jobs=2), pd.DataFrame(X_probe_rfe_ss), y_probe, 10, 2)"
   ]
  },
  {
   "cell_type": "markdown",
   "metadata": {},
   "source": [
    "#### Predict on probe"
   ]
  },
  {
   "cell_type": "code",
   "execution_count": 107,
   "metadata": {},
   "outputs": [
    {
     "data": {
      "image/png": "[encoded data removed]",
      "text/plain": [
       "<Figure size 432x288 with 2 Axes>"
      ]
     },
     "metadata": {
      "needs_background": "light"
     },
     "output_type": "display_data"
    },
    {
     "name": "stdout",
     "output_type": "stream",
     "text": [
      "Accuracy: 0.80445 \n",
      "Precision: 0.96699 \n",
      "Recall: 0.63042 \n",
      "F-measure: 0.76325 \n"
     ]
    }
   ],
   "source": [
    "y_probe_rfe_prediction = randomForest(X_probe_rfe, y_probe).predict(X_probe_test_rfe)\n",
    "plotConfusionMatrix(y_probe_rfe_prediction, y_probe_test, 2)"
   ]
  },
  {
   "cell_type": "code",
   "execution_count": 108,
   "metadata": {},
   "outputs": [
    {
     "data": {
      "image/png": "[encoded data removed]",
      "text/plain": [
       "<Figure size 432x288 with 2 Axes>"
      ]
     },
     "metadata": {
      "needs_background": "light"
     },
     "output_type": "display_data"
    },
    {
     "name": "stdout",
     "output_type": "stream",
     "text": [
      "Accuracy: 0.80445 \n",
      "Precision: 0.96699 \n",
      "Recall: 0.63042 \n",
      "F-measure: 0.76325 \n"
     ]
    }
   ],
   "source": [
    "y_r2l_rfe_prediction = randomForest(X_probe_rfe_ss, y_probe).predict(X_probe_test_rfe_ss)\n",
    "plotConfusionMatrix(y_probe_rfe_prediction, y_probe_test, 2)"
   ]
  },
  {
   "cell_type": "markdown",
   "metadata": {},
   "source": [
    "#### K-fold cross validation on r2l"
   ]
  },
  {
   "cell_type": "code",
   "execution_count": 109,
   "metadata": {},
   "outputs": [
    {
     "name": "stdout",
     "output_type": "stream",
     "text": [
      ">Train: 0=54080, 1=67137, Test: 0=13263, 1=206\n",
      ">Train: 0=54094, 1=67123, Test: 0=13249, 1=220\n",
      ">Train: 0=54054, 1=67163, Test: 0=13289, 1=180\n",
      ">Train: 0=54045, 1=67172, Test: 0=13298, 1=171\n",
      ">Train: 0=54082, 1=67135, Test: 0=13261, 1=208\n",
      ">Train: 0=66360, 1=54857, Test: 0=983, 1=12486\n",
      ">Train: 0=67343, 1=53875, Test: 0=0, 1=13468\n",
      ">Train: 0=67343, 1=53875, Test: 0=0, 1=13468\n",
      ">Train: 0=67343, 1=53875, Test: 0=0, 1=13468\n",
      ">Train: 0=67343, 1=53875, Test: 0=0, 1=13468\n"
     ]
    },
    {
     "data": {
      "text/plain": [
       "{'Mean Training Accuracy': 1.0,\n",
       " 'Mean Training Precision': 1.0,\n",
       " 'Mean Training Recall': 1.0,\n",
       " 'Mean Training F1 Score': 1.0,\n",
       " 'Mean Validation Accuracy': 0.9995619526765122,\n",
       " 'Mean Validation Precision': 0.9813345507327809,\n",
       " 'Mean Validation Recall': 0.9936796973217952,\n",
       " 'Mean Validation F1 Score': 0.9874075960027661}"
      ]
     },
     "execution_count": 109,
     "metadata": {},
     "output_type": "execute_result"
    }
   ],
   "source": [
    "KfoldCV(RandomForestClassifier(n_estimators=64,n_jobs=2), pd.DataFrame(X_r2l_rfe), y_r2l, 10, 3)"
   ]
  },
  {
   "cell_type": "markdown",
   "metadata": {},
   "source": [
    "#### K-fold cross validation on r2l Standard Scaler"
   ]
  },
  {
   "cell_type": "code",
   "execution_count": 110,
   "metadata": {},
   "outputs": [
    {
     "name": "stdout",
     "output_type": "stream",
     "text": [
      ">Train: 0=54080, 1=67137, Test: 0=13263, 1=206\n",
      ">Train: 0=54094, 1=67123, Test: 0=13249, 1=220\n",
      ">Train: 0=54054, 1=67163, Test: 0=13289, 1=180\n",
      ">Train: 0=54045, 1=67172, Test: 0=13298, 1=171\n",
      ">Train: 0=54082, 1=67135, Test: 0=13261, 1=208\n",
      ">Train: 0=66360, 1=54857, Test: 0=983, 1=12486\n",
      ">Train: 0=67343, 1=53875, Test: 0=0, 1=13468\n",
      ">Train: 0=67343, 1=53875, Test: 0=0, 1=13468\n",
      ">Train: 0=67343, 1=53875, Test: 0=0, 1=13468\n",
      ">Train: 0=67343, 1=53875, Test: 0=0, 1=13468\n"
     ]
    },
    {
     "data": {
      "text/plain": [
       "{'Mean Training Accuracy': 1.0,\n",
       " 'Mean Training Precision': 1.0,\n",
       " 'Mean Training Recall': 1.0,\n",
       " 'Mean Training F1 Score': 1.0,\n",
       " 'Mean Validation Accuracy': 0.9995619521252456,\n",
       " 'Mean Validation Precision': 0.9813995585892181,\n",
       " 'Mean Validation Recall': 0.9946211341434275,\n",
       " 'Mean Validation F1 Score': 0.9879109117192358}"
      ]
     },
     "execution_count": 110,
     "metadata": {},
     "output_type": "execute_result"
    }
   ],
   "source": [
    "KfoldCV(RandomForestClassifier(n_estimators=64,n_jobs=2), pd.DataFrame(X_r2l_rfe_ss), y_r2l, 10, 3)"
   ]
  },
  {
   "cell_type": "markdown",
   "metadata": {},
   "source": [
    "#### Stratified cross validation on r2l"
   ]
  },
  {
   "cell_type": "code",
   "execution_count": 111,
   "metadata": {},
   "outputs": [
    {
     "name": "stdout",
     "output_type": "stream",
     "text": [
      ">Train: 0=60608, 1=60609, Test: 0=6735, 1=6734\n",
      ">Train: 0=60608, 1=60609, Test: 0=6735, 1=6734\n",
      ">Train: 0=60608, 1=60609, Test: 0=6735, 1=6734\n",
      ">Train: 0=60609, 1=60608, Test: 0=6734, 1=6735\n",
      ">Train: 0=60609, 1=60608, Test: 0=6734, 1=6735\n",
      ">Train: 0=60609, 1=60608, Test: 0=6734, 1=6735\n",
      ">Train: 0=60609, 1=60609, Test: 0=6734, 1=6734\n",
      ">Train: 0=60609, 1=60609, Test: 0=6734, 1=6734\n",
      ">Train: 0=60609, 1=60609, Test: 0=6734, 1=6734\n",
      ">Train: 0=60609, 1=60609, Test: 0=6734, 1=6734\n"
     ]
    },
    {
     "data": {
      "text/plain": [
       "{'Mean Training Accuracy': 1.0,\n",
       " 'Mean Training Precision': 1.0,\n",
       " 'Mean Training Recall': 1.0,\n",
       " 'Mean Training F1 Score': 1.0,\n",
       " 'Mean Validation Accuracy': 0.9996361939304995,\n",
       " 'Mean Validation Precision': 0.9995249382148153,\n",
       " 'Mean Validation Recall': 0.9997475497475496,\n",
       " 'Mean Validation F1 Score': 0.9996361552622439}"
      ]
     },
     "execution_count": 111,
     "metadata": {},
     "output_type": "execute_result"
    }
   ],
   "source": [
    "stratifiedCV(RandomForestClassifier(n_estimators=64,n_jobs=2), pd.DataFrame(X_r2l_rfe), y_r2l, 10, 3)"
   ]
  },
  {
   "cell_type": "markdown",
   "metadata": {},
   "source": [
    "#### Stratified cross validation on r2l Standard Scaler"
   ]
  },
  {
   "cell_type": "code",
   "execution_count": 112,
   "metadata": {},
   "outputs": [
    {
     "name": "stdout",
     "output_type": "stream",
     "text": [
      ">Train: 0=60608, 1=60609, Test: 0=6735, 1=6734\n",
      ">Train: 0=60608, 1=60609, Test: 0=6735, 1=6734\n",
      ">Train: 0=60608, 1=60609, Test: 0=6735, 1=6734\n",
      ">Train: 0=60609, 1=60608, Test: 0=6734, 1=6735\n",
      ">Train: 0=60609, 1=60608, Test: 0=6734, 1=6735\n",
      ">Train: 0=60609, 1=60608, Test: 0=6734, 1=6735\n",
      ">Train: 0=60609, 1=60609, Test: 0=6734, 1=6734\n",
      ">Train: 0=60609, 1=60609, Test: 0=6734, 1=6734\n",
      ">Train: 0=60609, 1=60609, Test: 0=6734, 1=6734\n",
      ">Train: 0=60609, 1=60609, Test: 0=6734, 1=6734\n"
     ]
    },
    {
     "data": {
      "text/plain": [
       "{'Mean Training Accuracy': 1.0,\n",
       " 'Mean Training Precision': 1.0,\n",
       " 'Mean Training Recall': 1.0,\n",
       " 'Mean Training F1 Score': 1.0,\n",
       " 'Mean Validation Accuracy': 0.9996064944520657,\n",
       " 'Mean Validation Precision': 0.9994657033903691,\n",
       " 'Mean Validation Recall': 0.9997475497475496,\n",
       " 'Mean Validation F1 Score': 0.9996064849580286}"
      ]
     },
     "execution_count": 112,
     "metadata": {},
     "output_type": "execute_result"
    }
   ],
   "source": [
    "stratifiedCV(RandomForestClassifier(n_estimators=64,n_jobs=2), pd.DataFrame(X_r2l_rfe_ss), y_r2l, 10, 3)"
   ]
  },
  {
   "cell_type": "markdown",
   "metadata": {},
   "source": [
    "#### Predict on r2l"
   ]
  },
  {
   "cell_type": "code",
   "execution_count": 113,
   "metadata": {},
   "outputs": [
    {
     "data": {
      "image/png": "[encoded data removed]",
      "text/plain": [
       "<Figure size 432x288 with 2 Axes>"
      ]
     },
     "metadata": {
      "needs_background": "light"
     },
     "output_type": "display_data"
    },
    {
     "name": "stdout",
     "output_type": "stream",
     "text": [
      "Accuracy: 0.53759 \n",
      "Precision: 0.98026 \n",
      "Recall: 0.07672 \n",
      "F-measure: 0.14230 \n"
     ]
    }
   ],
   "source": [
    "y_r2l_rfe_prediction = randomForest(X_r2l_rfe, y_r2l).predict(X_r2l_test_rfe)\n",
    "plotConfusionMatrix(y_r2l_rfe_prediction, y_r2l_test, 3)"
   ]
  },
  {
   "cell_type": "code",
   "execution_count": 114,
   "metadata": {},
   "outputs": [
    {
     "data": {
      "image/png": "[encoded data removed]",
      "text/plain": [
       "<Figure size 432x288 with 2 Axes>"
      ]
     },
     "metadata": {
      "needs_background": "light"
     },
     "output_type": "display_data"
    },
    {
     "name": "stdout",
     "output_type": "stream",
     "text": [
      "Accuracy: 0.53306 \n",
      "Precision: 0.97626 \n",
      "Recall: 0.06776 \n",
      "F-measure: 0.12672 \n"
     ]
    }
   ],
   "source": [
    "y_r2l_rfe_prediction = randomForest(X_r2l_rfe_ss, y_r2l).predict(X_r2l_test_rfe_ss)\n",
    "plotConfusionMatrix(y_r2l_rfe_prediction, y_r2l_test, 3)"
   ]
  },
  {
   "cell_type": "markdown",
   "metadata": {},
   "source": [
    "#### K-fold cross validation on u2r"
   ]
  },
  {
   "cell_type": "code",
   "execution_count": 115,
   "metadata": {},
   "outputs": [
    {
     "name": "stdout",
     "output_type": "stream",
     "text": [
      ">Train: 0=53885, 1=67332, Test: 0=13458, 1=11\n",
      ">Train: 0=53886, 1=67331, Test: 0=13457, 1=12\n",
      ">Train: 0=53886, 1=67331, Test: 0=13457, 1=12\n",
      ">Train: 0=53882, 1=67335, Test: 0=13461, 1=8\n",
      ">Train: 0=53883, 1=67334, Test: 0=13460, 1=9\n",
      ">Train: 0=67293, 1=53924, Test: 0=50, 1=13419\n",
      ">Train: 0=67343, 1=53875, Test: 0=0, 1=13468\n",
      ">Train: 0=67343, 1=53875, Test: 0=0, 1=13468\n",
      ">Train: 0=67343, 1=53875, Test: 0=0, 1=13468\n",
      ">Train: 0=67343, 1=53875, Test: 0=0, 1=13468\n"
     ]
    },
    {
     "data": {
      "text/plain": [
       "{'Mean Training Accuracy': 0.9999925753260669,\n",
       " 'Mean Training Precision': 0.9999847804929255,\n",
       " 'Mean Training Recall': 1.0,\n",
       " 'Mean Training F1 Score': 0.9999923901813563,\n",
       " 'Mean Validation Accuracy': 0.9998366619645112,\n",
       " 'Mean Validation Precision': 0.8672549019607843,\n",
       " 'Mean Validation Recall': 0.9609848484848484,\n",
       " 'Mean Validation F1 Score': 0.9072378138416173}"
      ]
     },
     "execution_count": 115,
     "metadata": {},
     "output_type": "execute_result"
    }
   ],
   "source": [
    "KfoldCV(RandomForestClassifier(n_estimators=64,n_jobs=2), pd.DataFrame(X_u2r_rfe), y_u2r, 10, 4)"
   ]
  },
  {
   "cell_type": "markdown",
   "metadata": {},
   "source": [
    "#### K-fold cross validation on u2r Standard Scaler"
   ]
  },
  {
   "cell_type": "code",
   "execution_count": 116,
   "metadata": {},
   "outputs": [
    {
     "name": "stdout",
     "output_type": "stream",
     "text": [
      ">Train: 0=53885, 1=67332, Test: 0=13458, 1=11\n",
      ">Train: 0=53886, 1=67331, Test: 0=13457, 1=12\n",
      ">Train: 0=53886, 1=67331, Test: 0=13457, 1=12\n",
      ">Train: 0=53882, 1=67335, Test: 0=13461, 1=8\n",
      ">Train: 0=53883, 1=67334, Test: 0=13460, 1=9\n",
      ">Train: 0=67293, 1=53924, Test: 0=50, 1=13419\n",
      ">Train: 0=67343, 1=53875, Test: 0=0, 1=13468\n",
      ">Train: 0=67343, 1=53875, Test: 0=0, 1=13468\n",
      ">Train: 0=67343, 1=53875, Test: 0=0, 1=13468\n",
      ">Train: 0=67343, 1=53875, Test: 0=0, 1=13468\n"
     ]
    },
    {
     "data": {
      "text/plain": [
       "{'Mean Training Accuracy': 0.9999925753260669,\n",
       " 'Mean Training Precision': 0.9999847804929255,\n",
       " 'Mean Training Recall': 1.0,\n",
       " 'Mean Training F1 Score': 0.9999923901813563,\n",
       " 'Mean Validation Accuracy': 0.9998515108768282,\n",
       " 'Mean Validation Precision': 0.883997668997669,\n",
       " 'Mean Validation Recall': 0.9609848484848484,\n",
       " 'Mean Validation F1 Score': 0.9148883572567783}"
      ]
     },
     "execution_count": 116,
     "metadata": {},
     "output_type": "execute_result"
    }
   ],
   "source": [
    "KfoldCV(RandomForestClassifier(n_estimators=64,n_jobs=2), pd.DataFrame(X_u2r_rfe_ss), y_u2r, 10, 4)"
   ]
  },
  {
   "cell_type": "markdown",
   "metadata": {},
   "source": [
    "#### Stratified cross validation on u2r"
   ]
  },
  {
   "cell_type": "code",
   "execution_count": 117,
   "metadata": {},
   "outputs": [
    {
     "name": "stdout",
     "output_type": "stream",
     "text": [
      ">Train: 0=60608, 1=60609, Test: 0=6735, 1=6734\n",
      ">Train: 0=60608, 1=60609, Test: 0=6735, 1=6734\n",
      ">Train: 0=60608, 1=60609, Test: 0=6735, 1=6734\n",
      ">Train: 0=60609, 1=60608, Test: 0=6734, 1=6735\n",
      ">Train: 0=60609, 1=60608, Test: 0=6734, 1=6735\n",
      ">Train: 0=60609, 1=60608, Test: 0=6734, 1=6735\n",
      ">Train: 0=60609, 1=60609, Test: 0=6734, 1=6734\n",
      ">Train: 0=60609, 1=60609, Test: 0=6734, 1=6734\n",
      ">Train: 0=60609, 1=60609, Test: 0=6734, 1=6734\n",
      ">Train: 0=60609, 1=60609, Test: 0=6734, 1=6734\n"
     ]
    },
    {
     "data": {
      "text/plain": [
       "{'Mean Training Accuracy': 0.9999925753192611,\n",
       " 'Mean Training Precision': 0.9999851508835216,\n",
       " 'Mean Training Recall': 1.0,\n",
       " 'Mean Training F1 Score': 0.9999925753805112,\n",
       " 'Mean Validation Accuracy': 0.9998440831130712,\n",
       " 'Mean Validation Precision': 0.9997624747009137,\n",
       " 'Mean Validation Recall': 0.9999257499257499,\n",
       " 'Mean Validation F1 Score': 0.9998440853093771}"
      ]
     },
     "execution_count": 117,
     "metadata": {},
     "output_type": "execute_result"
    }
   ],
   "source": [
    "stratifiedCV(RandomForestClassifier(n_estimators=64,n_jobs=2), pd.DataFrame(X_u2r_rfe), y_u2r, 10, 4)"
   ]
  },
  {
   "cell_type": "markdown",
   "metadata": {},
   "source": [
    "#### Stratified cross validation on u2r Standard Scaler"
   ]
  },
  {
   "cell_type": "code",
   "execution_count": 118,
   "metadata": {},
   "outputs": [
    {
     "name": "stdout",
     "output_type": "stream",
     "text": [
      ">Train: 0=60608, 1=60609, Test: 0=6735, 1=6734\n",
      ">Train: 0=60608, 1=60609, Test: 0=6735, 1=6734\n",
      ">Train: 0=60608, 1=60609, Test: 0=6735, 1=6734\n",
      ">Train: 0=60609, 1=60608, Test: 0=6734, 1=6735\n",
      ">Train: 0=60609, 1=60608, Test: 0=6734, 1=6735\n",
      ">Train: 0=60609, 1=60608, Test: 0=6734, 1=6735\n",
      ">Train: 0=60609, 1=60609, Test: 0=6734, 1=6734\n",
      ">Train: 0=60609, 1=60609, Test: 0=6734, 1=6734\n",
      ">Train: 0=60609, 1=60609, Test: 0=6734, 1=6734\n",
      ">Train: 0=60609, 1=60609, Test: 0=6734, 1=6734\n"
     ]
    },
    {
     "data": {
      "text/plain": [
       "{'Mean Training Accuracy': 0.9999917503592716,\n",
       " 'Mean Training Precision': 0.9999835010452067,\n",
       " 'Mean Training Recall': 1.0,\n",
       " 'Mean Training F1 Score': 0.9999917504409381,\n",
       " 'Mean Validation Accuracy': 0.9998440831130712,\n",
       " 'Mean Validation Precision': 0.9997624835133232,\n",
       " 'Mean Validation Recall': 0.9999257499257499,\n",
       " 'Mean Validation F1 Score': 0.9998440875132152}"
      ]
     },
     "execution_count": 118,
     "metadata": {},
     "output_type": "execute_result"
    }
   ],
   "source": [
    "stratifiedCV(RandomForestClassifier(n_estimators=64,n_jobs=2), pd.DataFrame(X_u2r_rfe_ss), y_u2r, 10, 4)"
   ]
  },
  {
   "cell_type": "markdown",
   "metadata": {},
   "source": [
    "#### Predict on u2r"
   ]
  },
  {
   "cell_type": "code",
   "execution_count": 119,
   "metadata": {},
   "outputs": [
    {
     "data": {
      "image/png": "[encoded data removed]",
      "text/plain": [
       "<Figure size 432x288 with 2 Axes>"
      ]
     },
     "metadata": {
      "needs_background": "light"
     },
     "output_type": "display_data"
    },
    {
     "name": "stdout",
     "output_type": "stream",
     "text": [
      "Accuracy: 0.59304 \n",
      "Precision: 0.99890 \n",
      "Recall: 0.18628 \n",
      "F-measure: 0.31401 \n"
     ]
    }
   ],
   "source": [
    "y_u2r_rfe_prediction = randomForest(X_u2r_rfe, y_u2r).predict(X_u2r_test_rfe)\n",
    "plotConfusionMatrix(y_u2r_rfe_prediction, y_u2r_test, 4)"
   ]
  },
  {
   "cell_type": "code",
   "execution_count": 120,
   "metadata": {},
   "outputs": [
    {
     "data": {
      "image/png": "[encoded data removed]",
      "text/plain": [
       "<Figure size 432x288 with 2 Axes>"
      ]
     },
     "metadata": {
      "needs_background": "light"
     },
     "output_type": "display_data"
    },
    {
     "name": "stdout",
     "output_type": "stream",
     "text": [
      "Accuracy: 0.52003 \n",
      "Precision: 1.00000 \n",
      "Recall: 0.04006 \n",
      "F-measure: 0.07703 \n"
     ]
    }
   ],
   "source": [
    "y_u2r_rfe_prediction = randomForest(X_u2r_rfe_ss, y_u2r).predict(X_u2r_test_rfe_ss)\n",
    "plotConfusionMatrix(y_u2r_rfe_prediction, y_u2r_test, 4)"
   ]
  },
  {
   "cell_type": "markdown",
   "metadata": {},
   "source": [
    "# Full DF, no Oversampling"
   ]
  },
  {
   "cell_type": "code",
   "execution_count": 121,
   "metadata": {},
   "outputs": [
    {
     "data": {
      "text/plain": [
       "<module 'matplotlib.pyplot' from 'C:\\\\Users\\\\Daniele\\\\anaconda3\\\\lib\\\\site-packages\\\\matplotlib\\\\pyplot.py'>"
      ]
     },
     "execution_count": 121,
     "metadata": {},
     "output_type": "execute_result"
    },
    {
     "data": {
      "image/png": "[encoded data removed]",
      "text/plain": [
       "<Figure size 720x360 with 1 Axes>"
      ]
     },
     "metadata": {
      "needs_background": "light"
     },
     "output_type": "display_data"
    }
   ],
   "source": [
    "fullDf = getFullDf()\n",
    "fullDf_test = getFullDfTest()\n",
    "\n",
    "\n",
    "fullDf=oneHotEcoding(fullDf, 'protocol_type')\n",
    "fullDf=oneHotEcoding(fullDf, 'service')\n",
    "fullDf=oneHotEcoding(fullDf, 'flag')\n",
    "fullDf_test=oneHotEcoding(fullDf_test, 'protocol_type')\n",
    "fullDf_test=oneHotEcoding(fullDf_test, 'service')\n",
    "fullDf_test=oneHotEcoding(fullDf_test, 'flag')\n",
    "\n",
    "fullDf_test=adaptTestset(fullDf, fullDf_test)\n",
    "\n",
    "fullDf['label'], fullDf_test['label'] = prepareMulticlass()\n",
    "\n",
    "plotDf(fullDf['label'])"
   ]
  },
  {
   "cell_type": "code",
   "execution_count": 122,
   "metadata": {},
   "outputs": [],
   "source": [
    "#Preparo i dataframe per ogni classe di attacco\n",
    "dos, probe, r2l, u2r = createMulticlassDF(fullDf)\n",
    "dos_test, probe_test, r2l_test, u2r_test = createMulticlassDF(fullDf_test)\n",
    "\n",
    "X_dos, y_dos = getXandY(dos)\n",
    "X_probe, y_probe = getXandY(probe)\n",
    "X_r2l, y_r2l = getXandY(r2l)\n",
    "X_u2r, y_u2r = getXandY(u2r)\n",
    "\n",
    "X_dos_test, y_dos_test = getXandY(dos_test)\n",
    "X_probe_test, y_probe_test = getXandY(probe_test)\n",
    "X_r2l_test, y_r2l_test = getXandY(r2l_test)\n",
    "X_u2r_test, y_u2r_test = getXandY(u2r_test)\n"
   ]
  },
  {
   "cell_type": "code",
   "execution_count": 123,
   "metadata": {},
   "outputs": [],
   "source": [
    "#Effettuo standard scaler\n",
    "X_dos_ss=standardScaler(X_dos)\n",
    "X_probe_ss=standardScaler(X_probe)\n",
    "X_r2l_ss=standardScaler(X_r2l)\n",
    "X_u2r_ss=standardScaler(X_u2r)\n",
    "\n",
    "X_dos_test_ss=standardScaler(X_dos_test)\n",
    "X_probe_test_ss=standardScaler(X_probe_test)\n",
    "X_r2l_test_ss=standardScaler(X_r2l_test)\n",
    "X_u2r_test_ss=standardScaler(X_u2r_test)"
   ]
  },
  {
   "cell_type": "markdown",
   "metadata": {},
   "source": [
    "#### K-fold cross validation on dos"
   ]
  },
  {
   "cell_type": "code",
   "execution_count": 124,
   "metadata": {
    "scrolled": false
   },
   "outputs": [
    {
     "name": "stdout",
     "output_type": "stream",
     "text": [
      ">Train: 0=60666, 1=41277, Test: 0=6677, 1=4650\n",
      ">Train: 0=60586, 1=41357, Test: 0=6757, 1=4570\n",
      ">Train: 0=60612, 1=41331, Test: 0=6731, 1=4596\n",
      ">Train: 0=60720, 1=41223, Test: 0=6623, 1=4704\n",
      ">Train: 0=60634, 1=41309, Test: 0=6709, 1=4618\n",
      ">Train: 0=60525, 1=41418, Test: 0=6818, 1=4509\n",
      ">Train: 0=60548, 1=41395, Test: 0=6795, 1=4532\n",
      ">Train: 0=60557, 1=41386, Test: 0=6786, 1=4541\n",
      ">Train: 0=60662, 1=41281, Test: 0=6681, 1=4646\n",
      ">Train: 0=60577, 1=41366, Test: 0=6766, 1=4561\n"
     ]
    },
    {
     "data": {
      "text/plain": [
       "{'Mean Training Accuracy': 0.9999597814464944,\n",
       " 'Mean Training Precision': 0.9999346766409334,\n",
       " 'Mean Training Recall': 0.9999661251168479,\n",
       " 'Mean Training F1 Score': 0.9999504005130998,\n",
       " 'Mean Validation Accuracy': 0.9998234307407081,\n",
       " 'Mean Validation Precision': 0.9997812528760639,\n",
       " 'Mean Validation Recall': 0.999782481016975,\n",
       " 'Mean Validation F1 Score': 0.9997818475710135}"
      ]
     },
     "execution_count": 124,
     "metadata": {},
     "output_type": "execute_result"
    }
   ],
   "source": [
    "KfoldCV(RandomForestClassifier(n_estimators=64,n_jobs=2), pd.DataFrame(X_dos), y_dos, 10, 1)"
   ]
  },
  {
   "cell_type": "markdown",
   "metadata": {},
   "source": [
    "#### K-fold cross validation on dos Standard Scaling"
   ]
  },
  {
   "cell_type": "code",
   "execution_count": 125,
   "metadata": {},
   "outputs": [
    {
     "name": "stdout",
     "output_type": "stream",
     "text": [
      ">Train: 0=60666, 1=41277, Test: 0=6677, 1=4650\n",
      ">Train: 0=60586, 1=41357, Test: 0=6757, 1=4570\n",
      ">Train: 0=60612, 1=41331, Test: 0=6731, 1=4596\n",
      ">Train: 0=60720, 1=41223, Test: 0=6623, 1=4704\n",
      ">Train: 0=60634, 1=41309, Test: 0=6709, 1=4618\n",
      ">Train: 0=60525, 1=41418, Test: 0=6818, 1=4509\n",
      ">Train: 0=60548, 1=41395, Test: 0=6795, 1=4532\n",
      ">Train: 0=60557, 1=41386, Test: 0=6786, 1=4541\n",
      ">Train: 0=60662, 1=41281, Test: 0=6681, 1=4646\n",
      ">Train: 0=60577, 1=41366, Test: 0=6766, 1=4561\n"
     ]
    },
    {
     "data": {
      "text/plain": [
       "{'Mean Training Accuracy': 0.9999597814464944,\n",
       " 'Mean Training Precision': 0.9999467618074178,\n",
       " 'Mean Training Recall': 0.9999540392495703,\n",
       " 'Mean Training F1 Score': 0.9999503998706407,\n",
       " 'Mean Validation Accuracy': 0.9998322592036727,\n",
       " 'Mean Validation Precision': 0.9998034061069075,\n",
       " 'Mean Validation Recall': 0.9997823412738999,\n",
       " 'Mean Validation F1 Score': 0.9997928580464688}"
      ]
     },
     "execution_count": 125,
     "metadata": {},
     "output_type": "execute_result"
    }
   ],
   "source": [
    "KfoldCV(RandomForestClassifier(n_estimators=64,n_jobs=2), pd.DataFrame(X_dos_ss), y_dos, 10, 1)"
   ]
  },
  {
   "cell_type": "markdown",
   "metadata": {},
   "source": [
    "#### Stratified cross validation on dos"
   ]
  },
  {
   "cell_type": "code",
   "execution_count": 126,
   "metadata": {},
   "outputs": [
    {
     "name": "stdout",
     "output_type": "stream",
     "text": [
      ">Train: 0=60608, 1=41335, Test: 0=6735, 1=4592\n",
      ">Train: 0=60608, 1=41335, Test: 0=6735, 1=4592\n",
      ">Train: 0=60608, 1=41335, Test: 0=6735, 1=4592\n",
      ">Train: 0=60609, 1=41334, Test: 0=6734, 1=4593\n",
      ">Train: 0=60609, 1=41334, Test: 0=6734, 1=4593\n",
      ">Train: 0=60609, 1=41334, Test: 0=6734, 1=4593\n",
      ">Train: 0=60609, 1=41334, Test: 0=6734, 1=4593\n",
      ">Train: 0=60609, 1=41334, Test: 0=6734, 1=4593\n",
      ">Train: 0=60609, 1=41334, Test: 0=6734, 1=4593\n",
      ">Train: 0=60609, 1=41334, Test: 0=6734, 1=4593\n"
     ]
    },
    {
     "data": {
      "text/plain": [
       "{'Mean Training Accuracy': 0.9999597814464944,\n",
       " 'Mean Training Precision': 0.9999491957724438,\n",
       " 'Mean Training Recall': 0.9999516139177681,\n",
       " 'Mean Training F1 Score': 0.9999504044207873,\n",
       " 'Mean Validation Accuracy': 0.999849916129602,\n",
       " 'Mean Validation Precision': 0.9997823105494689,\n",
       " 'Mean Validation Recall': 0.9998475894236873,\n",
       " 'Mean Validation F1 Score': 0.9998149322131074}"
      ]
     },
     "execution_count": 126,
     "metadata": {},
     "output_type": "execute_result"
    }
   ],
   "source": [
    "stratifiedCV(RandomForestClassifier(n_estimators=64,n_jobs=2), pd.DataFrame(X_dos), y_dos, 10, 1)"
   ]
  },
  {
   "cell_type": "markdown",
   "metadata": {},
   "source": [
    "#### Stratified cross validation on dos Standard Scaling"
   ]
  },
  {
   "cell_type": "code",
   "execution_count": 127,
   "metadata": {},
   "outputs": [
    {
     "name": "stdout",
     "output_type": "stream",
     "text": [
      ">Train: 0=60608, 1=41335, Test: 0=6735, 1=4592\n",
      ">Train: 0=60608, 1=41335, Test: 0=6735, 1=4592\n",
      ">Train: 0=60608, 1=41335, Test: 0=6735, 1=4592\n",
      ">Train: 0=60609, 1=41334, Test: 0=6734, 1=4593\n",
      ">Train: 0=60609, 1=41334, Test: 0=6734, 1=4593\n",
      ">Train: 0=60609, 1=41334, Test: 0=6734, 1=4593\n",
      ">Train: 0=60609, 1=41334, Test: 0=6734, 1=4593\n",
      ">Train: 0=60609, 1=41334, Test: 0=6734, 1=4593\n",
      ">Train: 0=60609, 1=41334, Test: 0=6734, 1=4593\n",
      ">Train: 0=60609, 1=41334, Test: 0=6734, 1=4593\n"
     ]
    },
    {
     "data": {
      "text/plain": [
       "{'Mean Training Accuracy': 0.9999597814464944,\n",
       " 'Mean Training Precision': 0.9999250068866035,\n",
       " 'Mean Training Recall': 0.9999758070174136,\n",
       " 'Mean Training F1 Score': 0.9999504057084158,\n",
       " 'Mean Validation Accuracy': 0.999849916129602,\n",
       " 'Mean Validation Precision': 0.9998040685937607,\n",
       " 'Mean Validation Recall': 0.9998258124202032,\n",
       " 'Mean Validation F1 Score': 0.9998149298434666}"
      ]
     },
     "execution_count": 127,
     "metadata": {},
     "output_type": "execute_result"
    }
   ],
   "source": [
    "stratifiedCV(RandomForestClassifier(n_estimators=64,n_jobs=2), pd.DataFrame(X_dos_ss), y_dos, 10, 1)"
   ]
  },
  {
   "cell_type": "markdown",
   "metadata": {},
   "source": [
    "#### Predict on dos"
   ]
  },
  {
   "cell_type": "code",
   "execution_count": 128,
   "metadata": {
    "scrolled": true
   },
   "outputs": [
    {
     "data": {
      "image/png": "[encoded data removed]",
      "text/plain": [
       "<Figure size 432x288 with 2 Axes>"
      ]
     },
     "metadata": {
      "needs_background": "light"
     },
     "output_type": "display_data"
    },
    {
     "name": "stdout",
     "output_type": "stream",
     "text": [
      "Accuracy: 0.89488 \n",
      "Precision: 0.97867 \n",
      "Recall: 0.77493 \n",
      "F-measure: 0.86497 \n"
     ]
    }
   ],
   "source": [
    "y_dos_prediction = randomForest(X_dos, y_dos).predict(X_dos_test)\n",
    "plotConfusionMatrix(y_dos_prediction, y_dos_test, 1)"
   ]
  },
  {
   "cell_type": "code",
   "execution_count": 129,
   "metadata": {
    "scrolled": false
   },
   "outputs": [
    {
     "data": {
      "image/png": "[encoded data removed]",
      "text/plain": [
       "<Figure size 432x288 with 2 Axes>"
      ]
     },
     "metadata": {
      "needs_background": "light"
     },
     "output_type": "display_data"
    },
    {
     "name": "stdout",
     "output_type": "stream",
     "text": [
      "Accuracy: 0.85015 \n",
      "Precision: 0.98434 \n",
      "Recall: 0.66568 \n",
      "F-measure: 0.79424 \n"
     ]
    }
   ],
   "source": [
    "y_dos_prediction = randomForest(X_dos_ss, y_dos).predict(X_dos_test_ss)\n",
    "plotConfusionMatrix(y_dos_prediction, y_dos_test, 1)"
   ]
  },
  {
   "cell_type": "markdown",
   "metadata": {},
   "source": [
    "#### K-fold cross validation on probe"
   ]
  },
  {
   "cell_type": "code",
   "execution_count": 130,
   "metadata": {},
   "outputs": [
    {
     "name": "stdout",
     "output_type": "stream",
     "text": [
      ">Train: 0=60593, 1=10506, Test: 0=6750, 1=1150\n",
      ">Train: 0=60590, 1=10509, Test: 0=6753, 1=1147\n",
      ">Train: 0=60636, 1=10463, Test: 0=6707, 1=1193\n",
      ">Train: 0=60669, 1=10430, Test: 0=6674, 1=1226\n",
      ">Train: 0=60629, 1=10470, Test: 0=6714, 1=1186\n",
      ">Train: 0=60576, 1=10523, Test: 0=6767, 1=1133\n",
      ">Train: 0=60547, 1=10552, Test: 0=6796, 1=1104\n",
      ">Train: 0=60628, 1=10471, Test: 0=6715, 1=1185\n",
      ">Train: 0=60592, 1=10507, Test: 0=6751, 1=1149\n",
      ">Train: 0=60627, 1=10473, Test: 0=6716, 1=1183\n"
     ]
    },
    {
     "data": {
      "text/plain": [
       "{'Mean Training Accuracy': 0.9999887481034397,\n",
       " 'Mean Training Precision': 0.9999332716524671,\n",
       " 'Mean Training Recall': 0.999990442511708,\n",
       " 'Mean Training F1 Score': 0.9999618552633762,\n",
       " 'Mean Validation Accuracy': 0.999367078992534,\n",
       " 'Mean Validation Precision': 0.9994850588902542,\n",
       " 'Mean Validation Recall': 0.9962147219380938,\n",
       " 'Mean Validation F1 Score': 0.9978463385454628}"
      ]
     },
     "execution_count": 130,
     "metadata": {},
     "output_type": "execute_result"
    }
   ],
   "source": [
    "KfoldCV(RandomForestClassifier(n_estimators=64,n_jobs=2), pd.DataFrame(X_probe), y_probe, 10, 2)"
   ]
  },
  {
   "cell_type": "markdown",
   "metadata": {},
   "source": [
    "#### K-fold cross validation on probe Standard Scaling"
   ]
  },
  {
   "cell_type": "code",
   "execution_count": 131,
   "metadata": {},
   "outputs": [
    {
     "name": "stdout",
     "output_type": "stream",
     "text": [
      ">Train: 0=60593, 1=10506, Test: 0=6750, 1=1150\n",
      ">Train: 0=60590, 1=10509, Test: 0=6753, 1=1147\n",
      ">Train: 0=60636, 1=10463, Test: 0=6707, 1=1193\n",
      ">Train: 0=60669, 1=10430, Test: 0=6674, 1=1226\n",
      ">Train: 0=60629, 1=10470, Test: 0=6714, 1=1186\n",
      ">Train: 0=60576, 1=10523, Test: 0=6767, 1=1133\n",
      ">Train: 0=60547, 1=10552, Test: 0=6796, 1=1104\n",
      ">Train: 0=60628, 1=10471, Test: 0=6715, 1=1185\n",
      ">Train: 0=60592, 1=10507, Test: 0=6751, 1=1149\n",
      ">Train: 0=60627, 1=10473, Test: 0=6716, 1=1183\n"
     ]
    },
    {
     "data": {
      "text/plain": [
       "{'Mean Training Accuracy': 0.9999887481034397,\n",
       " 'Mean Training Precision': 0.9999332716524671,\n",
       " 'Mean Training Recall': 0.999990442511708,\n",
       " 'Mean Training F1 Score': 0.9999618552633762,\n",
       " 'Mean Validation Accuracy': 0.9993544207646858,\n",
       " 'Mean Validation Precision': 0.9993956446163452,\n",
       " 'Mean Validation Recall': 0.996201718345947,\n",
       " 'Mean Validation F1 Score': 0.997795675023178}"
      ]
     },
     "execution_count": 131,
     "metadata": {},
     "output_type": "execute_result"
    }
   ],
   "source": [
    "KfoldCV(RandomForestClassifier(n_estimators=64,n_jobs=2), pd.DataFrame(X_probe_ss), y_probe, 10, 2)"
   ]
  },
  {
   "cell_type": "markdown",
   "metadata": {},
   "source": [
    "#### Stratified cross validation on probe"
   ]
  },
  {
   "cell_type": "code",
   "execution_count": 132,
   "metadata": {},
   "outputs": [
    {
     "name": "stdout",
     "output_type": "stream",
     "text": [
      ">Train: 0=60608, 1=10491, Test: 0=6735, 1=1165\n",
      ">Train: 0=60608, 1=10491, Test: 0=6735, 1=1165\n",
      ">Train: 0=60608, 1=10491, Test: 0=6735, 1=1165\n",
      ">Train: 0=60609, 1=10490, Test: 0=6734, 1=1166\n",
      ">Train: 0=60609, 1=10490, Test: 0=6734, 1=1166\n",
      ">Train: 0=60609, 1=10490, Test: 0=6734, 1=1166\n",
      ">Train: 0=60609, 1=10490, Test: 0=6734, 1=1166\n",
      ">Train: 0=60609, 1=10490, Test: 0=6734, 1=1166\n",
      ">Train: 0=60609, 1=10490, Test: 0=6734, 1=1166\n",
      ">Train: 0=60609, 1=10491, Test: 0=6734, 1=1165\n"
     ]
    },
    {
     "data": {
      "text/plain": [
       "{'Mean Training Accuracy': 0.9999887481034397,\n",
       " 'Mean Training Precision': 0.9999332770499543,\n",
       " 'Mean Training Recall': 0.9999904680202079,\n",
       " 'Mean Training F1 Score': 0.9999618707178648,\n",
       " 'Mean Validation Accuracy': 0.9994177135064364,\n",
       " 'Mean Validation Precision': 0.999483870872262,\n",
       " 'Mean Validation Recall': 0.9965682167860482,\n",
       " 'Mean Validation F1 Score': 0.9980236481586342}"
      ]
     },
     "execution_count": 132,
     "metadata": {},
     "output_type": "execute_result"
    }
   ],
   "source": [
    "stratifiedCV(RandomForestClassifier(n_estimators=64,n_jobs=2), pd.DataFrame(X_probe), y_probe, 10, 2)"
   ]
  },
  {
   "cell_type": "markdown",
   "metadata": {},
   "source": [
    "#### Stratified cross validation on probe Standard Scaling"
   ]
  },
  {
   "cell_type": "code",
   "execution_count": 133,
   "metadata": {},
   "outputs": [
    {
     "name": "stdout",
     "output_type": "stream",
     "text": [
      ">Train: 0=60608, 1=10491, Test: 0=6735, 1=1165\n",
      ">Train: 0=60608, 1=10491, Test: 0=6735, 1=1165\n",
      ">Train: 0=60608, 1=10491, Test: 0=6735, 1=1165\n",
      ">Train: 0=60609, 1=10490, Test: 0=6734, 1=1166\n",
      ">Train: 0=60609, 1=10490, Test: 0=6734, 1=1166\n",
      ">Train: 0=60609, 1=10490, Test: 0=6734, 1=1166\n",
      ">Train: 0=60609, 1=10490, Test: 0=6734, 1=1166\n",
      ">Train: 0=60609, 1=10490, Test: 0=6734, 1=1166\n",
      ">Train: 0=60609, 1=10490, Test: 0=6734, 1=1166\n",
      ">Train: 0=60609, 1=10491, Test: 0=6734, 1=1165\n"
     ]
    },
    {
     "data": {
      "text/plain": [
       "{'Mean Training Accuracy': 0.9999887481034397,\n",
       " 'Mean Training Precision': 0.9999332779584542,\n",
       " 'Mean Training Recall': 0.9999904671115349,\n",
       " 'Mean Training F1 Score': 0.9999618707177783,\n",
       " 'Mean Validation Accuracy': 0.9993670789925337,\n",
       " 'Mean Validation Precision': 0.9993123435217995,\n",
       " 'Mean Validation Recall': 0.9963968374325489,\n",
       " 'Mean Validation F1 Score': 0.9978517896024771}"
      ]
     },
     "execution_count": 133,
     "metadata": {},
     "output_type": "execute_result"
    }
   ],
   "source": [
    "stratifiedCV(RandomForestClassifier(n_estimators=64,n_jobs=2), pd.DataFrame(X_probe_ss), y_probe, 10, 2)"
   ]
  },
  {
   "cell_type": "markdown",
   "metadata": {},
   "source": [
    "#### Predict on probe"
   ]
  },
  {
   "cell_type": "code",
   "execution_count": 134,
   "metadata": {},
   "outputs": [
    {
     "data": {
      "image/png": "[encoded data removed]",
      "text/plain": [
       "<Figure size 432x288 with 2 Axes>"
      ]
     },
     "metadata": {
      "needs_background": "light"
     },
     "output_type": "display_data"
    },
    {
     "name": "stdout",
     "output_type": "stream",
     "text": [
      "Accuracy: 0.90199 \n",
      "Precision: 0.86930 \n",
      "Recall: 0.59893 \n",
      "F-measure: 0.70922 \n"
     ]
    }
   ],
   "source": [
    "y_probe_prediction = randomForest(X_probe, y_probe).predict(X_probe_test)\n",
    "plotConfusionMatrix(y_probe_prediction, y_probe_test, 2)"
   ]
  },
  {
   "cell_type": "code",
   "execution_count": 135,
   "metadata": {},
   "outputs": [
    {
     "data": {
      "image/png": "[encoded data removed]",
      "text/plain": [
       "<Figure size 432x288 with 2 Axes>"
      ]
     },
     "metadata": {
      "needs_background": "light"
     },
     "output_type": "display_data"
    },
    {
     "name": "stdout",
     "output_type": "stream",
     "text": [
      "Accuracy: 0.89318 \n",
      "Precision: 0.82235 \n",
      "Recall: 0.59273 \n",
      "F-measure: 0.68891 \n"
     ]
    }
   ],
   "source": [
    "y_probe_prediction = randomForest(X_probe_ss, y_probe).predict(X_probe_test_ss)\n",
    "plotConfusionMatrix(y_probe_prediction, y_probe_test, 2)"
   ]
  },
  {
   "cell_type": "markdown",
   "metadata": {},
   "source": [
    "#### K-fold cross validation on r2l"
   ]
  },
  {
   "cell_type": "code",
   "execution_count": 136,
   "metadata": {},
   "outputs": [
    {
     "name": "stdout",
     "output_type": "stream",
     "text": [
      ">Train: 0=60615, 1=889, Test: 0=6728, 1=106\n",
      ">Train: 0=60612, 1=892, Test: 0=6731, 1=103\n",
      ">Train: 0=60628, 1=876, Test: 0=6715, 1=119\n",
      ">Train: 0=60613, 1=891, Test: 0=6730, 1=104\n",
      ">Train: 0=60610, 1=894, Test: 0=6733, 1=101\n",
      ">Train: 0=60591, 1=913, Test: 0=6752, 1=82\n",
      ">Train: 0=60599, 1=905, Test: 0=6744, 1=90\n",
      ">Train: 0=60597, 1=907, Test: 0=6746, 1=88\n",
      ">Train: 0=60614, 1=891, Test: 0=6729, 1=104\n",
      ">Train: 0=60608, 1=897, Test: 0=6735, 1=98\n"
     ]
    },
    {
     "data": {
      "text/plain": [
       "{'Mean Training Accuracy': 1.0,\n",
       " 'Mean Training Precision': 1.0,\n",
       " 'Mean Training Recall': 1.0,\n",
       " 'Mean Training F1 Score': 1.0,\n",
       " 'Mean Validation Accuracy': 0.9993122515109304,\n",
       " 'Mean Validation Precision': 0.9922443184077974,\n",
       " 'Mean Validation Recall': 0.9602778818562209,\n",
       " 'Mean Validation F1 Score': 0.9759148296601641}"
      ]
     },
     "execution_count": 136,
     "metadata": {},
     "output_type": "execute_result"
    }
   ],
   "source": [
    "KfoldCV(RandomForestClassifier(n_estimators=64,n_jobs=2), pd.DataFrame(X_r2l), y_r2l, 10, 3)"
   ]
  },
  {
   "cell_type": "markdown",
   "metadata": {},
   "source": [
    "#### K-fold cross validation on r2l Standard Scaling"
   ]
  },
  {
   "cell_type": "code",
   "execution_count": 137,
   "metadata": {},
   "outputs": [
    {
     "name": "stdout",
     "output_type": "stream",
     "text": [
      ">Train: 0=60615, 1=889, Test: 0=6728, 1=106\n",
      ">Train: 0=60612, 1=892, Test: 0=6731, 1=103\n",
      ">Train: 0=60628, 1=876, Test: 0=6715, 1=119\n",
      ">Train: 0=60613, 1=891, Test: 0=6730, 1=104\n",
      ">Train: 0=60610, 1=894, Test: 0=6733, 1=101\n",
      ">Train: 0=60591, 1=913, Test: 0=6752, 1=82\n",
      ">Train: 0=60599, 1=905, Test: 0=6744, 1=90\n",
      ">Train: 0=60597, 1=907, Test: 0=6746, 1=88\n",
      ">Train: 0=60614, 1=891, Test: 0=6729, 1=104\n",
      ">Train: 0=60608, 1=897, Test: 0=6735, 1=98\n"
     ]
    },
    {
     "data": {
      "text/plain": [
       "{'Mean Training Accuracy': 0.9999983740894901,\n",
       " 'Mean Training Precision': 1.0,\n",
       " 'Mean Training Recall': 0.9998875140607424,\n",
       " 'Mean Training F1 Score': 0.9999437253798537,\n",
       " 'Mean Validation Accuracy': 0.9993707823859671,\n",
       " 'Mean Validation Precision': 0.9922556534809047,\n",
       " 'Mean Validation Recall': 0.9636177143285195,\n",
       " 'Mean Validation F1 Score': 0.977630860434061}"
      ]
     },
     "execution_count": 137,
     "metadata": {},
     "output_type": "execute_result"
    }
   ],
   "source": [
    "KfoldCV(RandomForestClassifier(n_estimators=64,n_jobs=2), pd.DataFrame(X_r2l_ss), y_r2l, 10, 3)"
   ]
  },
  {
   "cell_type": "markdown",
   "metadata": {},
   "source": [
    "#### Stratified cross validation on r2l"
   ]
  },
  {
   "cell_type": "code",
   "execution_count": 138,
   "metadata": {},
   "outputs": [
    {
     "name": "stdout",
     "output_type": "stream",
     "text": [
      ">Train: 0=60608, 1=896, Test: 0=6735, 1=99\n",
      ">Train: 0=60608, 1=896, Test: 0=6735, 1=99\n",
      ">Train: 0=60608, 1=896, Test: 0=6735, 1=99\n",
      ">Train: 0=60609, 1=895, Test: 0=6734, 1=100\n",
      ">Train: 0=60609, 1=895, Test: 0=6734, 1=100\n",
      ">Train: 0=60609, 1=895, Test: 0=6734, 1=100\n",
      ">Train: 0=60609, 1=895, Test: 0=6734, 1=100\n",
      ">Train: 0=60609, 1=895, Test: 0=6734, 1=100\n",
      ">Train: 0=60609, 1=896, Test: 0=6734, 1=99\n",
      ">Train: 0=60609, 1=896, Test: 0=6734, 1=99\n"
     ]
    },
    {
     "data": {
      "text/plain": [
       "{'Mean Training Accuracy': 1.0,\n",
       " 'Mean Training Precision': 1.0,\n",
       " 'Mean Training Recall': 1.0,\n",
       " 'Mean Training F1 Score': 1.0,\n",
       " 'Mean Validation Accuracy': 0.9993415169484487,\n",
       " 'Mean Validation Precision': 0.9928339575928039,\n",
       " 'Mean Validation Recall': 0.9618181818181817,\n",
       " 'Mean Validation F1 Score': 0.9769927640923699}"
      ]
     },
     "execution_count": 138,
     "metadata": {},
     "output_type": "execute_result"
    }
   ],
   "source": [
    "stratifiedCV(RandomForestClassifier(n_estimators=64,n_jobs=2), pd.DataFrame(X_r2l), y_r2l, 10, 3)"
   ]
  },
  {
   "cell_type": "markdown",
   "metadata": {},
   "source": [
    "#### Stratified cross validation on r2l Standard Scaling"
   ]
  },
  {
   "cell_type": "code",
   "execution_count": 139,
   "metadata": {},
   "outputs": [
    {
     "name": "stdout",
     "output_type": "stream",
     "text": [
      ">Train: 0=60608, 1=896, Test: 0=6735, 1=99\n",
      ">Train: 0=60608, 1=896, Test: 0=6735, 1=99\n",
      ">Train: 0=60608, 1=896, Test: 0=6735, 1=99\n",
      ">Train: 0=60609, 1=895, Test: 0=6734, 1=100\n",
      ">Train: 0=60609, 1=895, Test: 0=6734, 1=100\n",
      ">Train: 0=60609, 1=895, Test: 0=6734, 1=100\n",
      ">Train: 0=60609, 1=895, Test: 0=6734, 1=100\n",
      ">Train: 0=60609, 1=895, Test: 0=6734, 1=100\n",
      ">Train: 0=60609, 1=896, Test: 0=6734, 1=99\n",
      ">Train: 0=60609, 1=896, Test: 0=6734, 1=99\n"
     ]
    },
    {
     "data": {
      "text/plain": [
       "{'Mean Training Accuracy': 1.0,\n",
       " 'Mean Training Precision': 1.0,\n",
       " 'Mean Training Recall': 1.0,\n",
       " 'Mean Training F1 Score': 1.0,\n",
       " 'Mean Validation Accuracy': 0.9993415190899266,\n",
       " 'Mean Validation Precision': 0.9918750637950392,\n",
       " 'Mean Validation Recall': 0.962838383838384,\n",
       " 'Mean Validation F1 Score': 0.9770009873769727}"
      ]
     },
     "execution_count": 139,
     "metadata": {},
     "output_type": "execute_result"
    }
   ],
   "source": [
    "stratifiedCV(RandomForestClassifier(n_estimators=64,n_jobs=2), pd.DataFrame(X_r2l_ss), y_r2l, 10, 3)"
   ]
  },
  {
   "cell_type": "markdown",
   "metadata": {},
   "source": [
    "#### Predict on r2l"
   ]
  },
  {
   "cell_type": "code",
   "execution_count": 140,
   "metadata": {},
   "outputs": [
    {
     "data": {
      "image/png": "[encoded data removed]",
      "text/plain": [
       "<Figure size 432x288 with 2 Axes>"
      ]
     },
     "metadata": {
      "needs_background": "light"
     },
     "output_type": "display_data"
    },
    {
     "name": "stdout",
     "output_type": "stream",
     "text": [
      "Accuracy: 0.78906 \n",
      "Precision: 0.99565 \n",
      "Recall: 0.07938 \n",
      "F-measure: 0.14703 \n"
     ]
    }
   ],
   "source": [
    "y_r2l_prediction = randomForest(X_r2l, y_r2l).predict(X_r2l_test)\n",
    "plotConfusionMatrix(y_r2l_prediction, y_r2l_test, 3)"
   ]
  },
  {
   "cell_type": "code",
   "execution_count": 141,
   "metadata": {},
   "outputs": [
    {
     "data": {
      "image/png": "[encoded data removed]",
      "text/plain": [
       "<Figure size 432x288 with 2 Axes>"
      ]
     },
     "metadata": {
      "needs_background": "light"
     },
     "output_type": "display_data"
    },
    {
     "name": "stdout",
     "output_type": "stream",
     "text": [
      "Accuracy: 0.77096 \n",
      "Precision: 0.00000 \n",
      "Recall: 0.00000 \n",
      "F-measure: 0.00000 \n"
     ]
    },
    {
     "name": "stderr",
     "output_type": "stream",
     "text": [
      "C:\\Users\\Daniele\\anaconda3\\lib\\site-packages\\sklearn\\metrics\\_classification.py:1344: UndefinedMetricWarning: Precision is ill-defined and being set to 0.0 due to no predicted samples. Use `zero_division` parameter to control this behavior.\n",
      "  _warn_prf(average, modifier, msg_start, len(result))\n"
     ]
    }
   ],
   "source": [
    "y_r2l_prediction = randomForest(X_r2l_ss, y_r2l).predict(X_r2l_test_ss)\n",
    "plotConfusionMatrix(y_r2l_prediction, y_r2l_test, 3)"
   ]
  },
  {
   "cell_type": "markdown",
   "metadata": {},
   "source": [
    "#### K-fold cross validation on u2r"
   ]
  },
  {
   "cell_type": "code",
   "execution_count": 142,
   "metadata": {},
   "outputs": [
    {
     "name": "stdout",
     "output_type": "stream",
     "text": [
      ">Train: 0=60608, 1=47, Test: 0=6735, 1=5\n",
      ">Train: 0=60609, 1=46, Test: 0=6734, 1=6\n",
      ">Train: 0=60609, 1=46, Test: 0=6734, 1=6\n",
      ">Train: 0=60609, 1=46, Test: 0=6734, 1=6\n",
      ">Train: 0=60607, 1=48, Test: 0=6736, 1=4\n",
      ">Train: 0=60612, 1=44, Test: 0=6731, 1=8\n",
      ">Train: 0=60609, 1=47, Test: 0=6734, 1=5\n",
      ">Train: 0=60607, 1=49, Test: 0=6736, 1=3\n",
      ">Train: 0=60609, 1=47, Test: 0=6734, 1=5\n",
      ">Train: 0=60608, 1=48, Test: 0=6735, 1=4\n"
     ]
    },
    {
     "data": {
      "text/plain": [
       "{'Mean Training Accuracy': 0.9999868107591222,\n",
       " 'Mean Training Precision': 0.9979166666666666,\n",
       " 'Mean Training Recall': 0.9849574608247134,\n",
       " 'Mean Training F1 Score': 0.991344340143591,\n",
       " 'Mean Validation Accuracy': 0.9996142147022317,\n",
       " 'Mean Validation Precision': 0.9466666666666667,\n",
       " 'Mean Validation Recall': 0.5483333333333333,\n",
       " 'Mean Validation F1 Score': 0.681060606060606}"
      ]
     },
     "execution_count": 142,
     "metadata": {},
     "output_type": "execute_result"
    }
   ],
   "source": [
    "KfoldCV(RandomForestClassifier(n_estimators=64,n_jobs=2), pd.DataFrame(X_u2r), y_u2r, 10, 4)"
   ]
  },
  {
   "cell_type": "markdown",
   "metadata": {},
   "source": [
    "#### K-fold cross validation on u2r Standard Scaling"
   ]
  },
  {
   "cell_type": "code",
   "execution_count": 143,
   "metadata": {},
   "outputs": [
    {
     "name": "stdout",
     "output_type": "stream",
     "text": [
      ">Train: 0=60608, 1=47, Test: 0=6735, 1=5\n",
      ">Train: 0=60609, 1=46, Test: 0=6734, 1=6\n",
      ">Train: 0=60609, 1=46, Test: 0=6734, 1=6\n",
      ">Train: 0=60609, 1=46, Test: 0=6734, 1=6\n",
      ">Train: 0=60607, 1=48, Test: 0=6736, 1=4\n",
      ">Train: 0=60612, 1=44, Test: 0=6731, 1=8\n",
      ">Train: 0=60609, 1=47, Test: 0=6734, 1=5\n",
      ">Train: 0=60607, 1=49, Test: 0=6736, 1=3\n",
      ">Train: 0=60609, 1=47, Test: 0=6734, 1=5\n",
      ">Train: 0=60608, 1=48, Test: 0=6735, 1=4\n"
     ]
    },
    {
     "data": {
      "text/plain": [
       "{'Mean Training Accuracy': 0.9999868107591222,\n",
       " 'Mean Training Precision': 0.9977777777777778,\n",
       " 'Mean Training Recall': 0.9851025285229726,\n",
       " 'Mean Training F1 Score': 0.9913475326870722,\n",
       " 'Mean Validation Accuracy': 0.9995845345068324,\n",
       " 'Mean Validation Precision': 0.8800000000000001,\n",
       " 'Mean Validation Recall': 0.545,\n",
       " 'Mean Validation F1 Score': 0.6622510822510823}"
      ]
     },
     "execution_count": 143,
     "metadata": {},
     "output_type": "execute_result"
    }
   ],
   "source": [
    "KfoldCV(RandomForestClassifier(n_estimators=64,n_jobs=2), pd.DataFrame(X_u2r_ss), y_u2r, 10, 4)"
   ]
  },
  {
   "cell_type": "markdown",
   "metadata": {},
   "source": [
    "#### Stratified cross validation on u2r"
   ]
  },
  {
   "cell_type": "code",
   "execution_count": 144,
   "metadata": {},
   "outputs": [
    {
     "name": "stdout",
     "output_type": "stream",
     "text": [
      ">Train: 0=60608, 1=47, Test: 0=6735, 1=5\n",
      ">Train: 0=60608, 1=47, Test: 0=6735, 1=5\n",
      ">Train: 0=60608, 1=47, Test: 0=6735, 1=5\n",
      ">Train: 0=60609, 1=46, Test: 0=6734, 1=6\n",
      ">Train: 0=60609, 1=46, Test: 0=6734, 1=6\n",
      ">Train: 0=60609, 1=47, Test: 0=6734, 1=5\n",
      ">Train: 0=60609, 1=47, Test: 0=6734, 1=5\n",
      ">Train: 0=60609, 1=47, Test: 0=6734, 1=5\n",
      ">Train: 0=60609, 1=47, Test: 0=6734, 1=5\n",
      ">Train: 0=60609, 1=47, Test: 0=6734, 1=5\n"
     ]
    },
    {
     "data": {
      "text/plain": [
       "{'Mean Training Accuracy': 0.9999851621176031,\n",
       " 'Mean Training Precision': 1.0,\n",
       " 'Mean Training Recall': 0.9808048103607773,\n",
       " 'Mean Training F1 Score': 0.9902755729543948,\n",
       " 'Mean Validation Accuracy': 0.9995400175161808,\n",
       " 'Mean Validation Precision': 0.875,\n",
       " 'Mean Validation Recall': 0.47666666666666674,\n",
       " 'Mean Validation F1 Score': 0.5940836940836941}"
      ]
     },
     "execution_count": 144,
     "metadata": {},
     "output_type": "execute_result"
    }
   ],
   "source": [
    "stratifiedCV(RandomForestClassifier(n_estimators=64,n_jobs=2), pd.DataFrame(X_u2r), y_u2r, 10, 4)"
   ]
  },
  {
   "cell_type": "markdown",
   "metadata": {},
   "source": [
    "#### Stratified cross validation on u2r Standard Scaling"
   ]
  },
  {
   "cell_type": "code",
   "execution_count": 145,
   "metadata": {},
   "outputs": [
    {
     "name": "stdout",
     "output_type": "stream",
     "text": [
      ">Train: 0=60608, 1=47, Test: 0=6735, 1=5\n",
      ">Train: 0=60608, 1=47, Test: 0=6735, 1=5\n",
      ">Train: 0=60608, 1=47, Test: 0=6735, 1=5\n",
      ">Train: 0=60609, 1=46, Test: 0=6734, 1=6\n",
      ">Train: 0=60609, 1=46, Test: 0=6734, 1=6\n",
      ">Train: 0=60609, 1=47, Test: 0=6734, 1=5\n",
      ">Train: 0=60609, 1=47, Test: 0=6734, 1=5\n",
      ">Train: 0=60609, 1=47, Test: 0=6734, 1=5\n",
      ">Train: 0=60609, 1=47, Test: 0=6734, 1=5\n",
      ">Train: 0=60609, 1=47, Test: 0=6734, 1=5\n"
     ]
    },
    {
     "data": {
      "text/plain": [
       "{'Mean Training Accuracy': 0.9999868107591222,\n",
       " 'Mean Training Precision': 0.997872340425532,\n",
       " 'Mean Training Recall': 0.9851063829787234,\n",
       " 'Mean Training F1 Score': 0.9913978494623656,\n",
       " 'Mean Validation Accuracy': 0.9995993757053478,\n",
       " 'Mean Validation Precision': 0.8716666666666667,\n",
       " 'Mean Validation Recall': 0.58,\n",
       " 'Mean Validation F1 Score': 0.6798701298701297}"
      ]
     },
     "execution_count": 145,
     "metadata": {},
     "output_type": "execute_result"
    }
   ],
   "source": [
    "stratifiedCV(RandomForestClassifier(n_estimators=64,n_jobs=2), pd.DataFrame(X_u2r_ss), y_u2r, 10, 4)"
   ]
  },
  {
   "cell_type": "markdown",
   "metadata": {},
   "source": [
    "#### Predict on u2r"
   ]
  },
  {
   "cell_type": "code",
   "execution_count": 146,
   "metadata": {},
   "outputs": [
    {
     "data": {
      "image/png": "[encoded data removed]",
      "text/plain": [
       "<Figure size 432x288 with 2 Axes>"
      ]
     },
     "metadata": {
      "needs_background": "light"
     },
     "output_type": "display_data"
    },
    {
     "name": "stdout",
     "output_type": "stream",
     "text": [
      "Accuracy: 0.99366 \n",
      "Precision: 0.85714 \n",
      "Recall: 0.08955 \n",
      "F-measure: 0.16216 \n"
     ]
    }
   ],
   "source": [
    "y_u2r_prediction = randomForest(X_u2r, y_u2r).predict(X_u2r_test)\n",
    "plotConfusionMatrix(y_u2r_prediction, y_u2r_test, 4)"
   ]
  },
  {
   "cell_type": "code",
   "execution_count": 147,
   "metadata": {},
   "outputs": [
    {
     "data": {
      "image/png": "[encoded data removed]",
      "text/plain": [
       "<Figure size 432x288 with 2 Axes>"
      ]
     },
     "metadata": {
      "needs_background": "light"
     },
     "output_type": "display_data"
    },
    {
     "name": "stdout",
     "output_type": "stream",
     "text": [
      "Accuracy: 0.99315 \n",
      "Precision: 0.00000 \n",
      "Recall: 0.00000 \n",
      "F-measure: 0.00000 \n"
     ]
    },
    {
     "name": "stderr",
     "output_type": "stream",
     "text": [
      "C:\\Users\\Daniele\\anaconda3\\lib\\site-packages\\sklearn\\metrics\\_classification.py:1344: UndefinedMetricWarning: Precision is ill-defined and being set to 0.0 due to no predicted samples. Use `zero_division` parameter to control this behavior.\n",
      "  _warn_prf(average, modifier, msg_start, len(result))\n"
     ]
    }
   ],
   "source": [
    "y_u2r_prediction = randomForest(X_u2r_ss, y_u2r).predict(X_u2r_test_ss)\n",
    "plotConfusionMatrix(y_u2r_prediction, y_u2r_test, 4)"
   ]
  },
  {
   "cell_type": "markdown",
   "metadata": {},
   "source": [
    "## Binary dataset no feature selection"
   ]
  },
  {
   "cell_type": "code",
   "execution_count": 148,
   "metadata": {},
   "outputs": [
    {
     "data": {
      "text/plain": [
       "<module 'matplotlib.pyplot' from 'C:\\\\Users\\\\Daniele\\\\anaconda3\\\\lib\\\\site-packages\\\\matplotlib\\\\pyplot.py'>"
      ]
     },
     "execution_count": 148,
     "metadata": {},
     "output_type": "execute_result"
    },
    {
     "data": {
      "image/png": "[encoded data removed]",
      "text/plain": [
       "<Figure size 720x360 with 1 Axes>"
      ]
     },
     "metadata": {
      "needs_background": "light"
     },
     "output_type": "display_data"
    }
   ],
   "source": [
    "fullDf = getFullDf()\n",
    "fullDf_test = getFullDfTest()\n",
    "\n",
    "fullDf['label'], fullDf_test['label'] = prepareBinary()\n",
    "\n",
    "fullDf=oneHotEcoding(fullDf, 'protocol_type')\n",
    "fullDf=oneHotEcoding(fullDf, 'service')\n",
    "fullDf=oneHotEcoding(fullDf, 'flag')\n",
    "fullDf_test=oneHotEcoding(fullDf_test, 'protocol_type')\n",
    "fullDf_test=oneHotEcoding(fullDf_test, 'service')\n",
    "fullDf_test=oneHotEcoding(fullDf_test, 'flag')\n",
    "\n",
    "fullDf_test=adaptTestset(fullDf, fullDf_test)\n",
    "\n",
    "colNames=list(fullDf)\n",
    "colNames_test=list(fullDf_test)\n",
    "\n",
    "plotDf(fullDf['label'])\n"
   ]
  },
  {
   "cell_type": "code",
   "execution_count": 149,
   "metadata": {},
   "outputs": [],
   "source": [
    "x_df, y_df = getXandY(fullDf)\n",
    "x_df_test, y_df_test = getXandY(fullDf_test)\n",
    "\n",
    "x_df_ss = standardScaler(x_df)\n",
    "x_df_test_ss = standardScaler(x_df_test)\n"
   ]
  },
  {
   "cell_type": "code",
   "execution_count": 150,
   "metadata": {},
   "outputs": [
    {
     "name": "stdout",
     "output_type": "stream",
     "text": [
      ">Train: 0=60653, 1=52722, Test: 0=6690, 1=5908\n",
      ">Train: 0=60581, 1=52794, Test: 0=6762, 1=5836\n",
      ">Train: 0=60638, 1=52737, Test: 0=6705, 1=5893\n",
      ">Train: 0=60750, 1=52626, Test: 0=6593, 1=6004\n",
      ">Train: 0=60645, 1=52731, Test: 0=6698, 1=5899\n",
      ">Train: 0=60505, 1=52871, Test: 0=6838, 1=5759\n",
      ">Train: 0=60507, 1=52869, Test: 0=6836, 1=5761\n",
      ">Train: 0=60570, 1=52806, Test: 0=6773, 1=5824\n",
      ">Train: 0=60650, 1=52726, Test: 0=6693, 1=5904\n",
      ">Train: 0=60588, 1=52788, Test: 0=6755, 1=5842\n"
     ]
    },
    {
     "data": {
      "text/plain": [
       "{'Mean Training Accuracy': 0.9999488426641225,\n",
       " 'Mean Training Precision': 0.9999317749270589,\n",
       " 'Mean Training Recall': 0.9999583098813986,\n",
       " 'Mean Training F1 Score': 0.9999450420267859,\n",
       " 'Mean Validation Accuracy': 0.9989442188972362,\n",
       " 'Mean Validation Precision': 0.9994697269362354,\n",
       " 'Mean Validation Recall': 0.9982588542654008,\n",
       " 'Mean Validation F1 Score': 0.9988639051881212}"
      ]
     },
     "execution_count": 150,
     "metadata": {},
     "output_type": "execute_result"
    }
   ],
   "source": [
    "KfoldCV(RandomForestClassifier(n_estimators=64,n_jobs=2), pd.DataFrame(x_df), y_df, 10, 1)"
   ]
  },
  {
   "cell_type": "code",
   "execution_count": 151,
   "metadata": {},
   "outputs": [
    {
     "name": "stdout",
     "output_type": "stream",
     "text": [
      ">Train: 0=60653, 1=52722, Test: 0=6690, 1=5908\n",
      ">Train: 0=60581, 1=52794, Test: 0=6762, 1=5836\n",
      ">Train: 0=60638, 1=52737, Test: 0=6705, 1=5893\n",
      ">Train: 0=60750, 1=52626, Test: 0=6593, 1=6004\n",
      ">Train: 0=60645, 1=52731, Test: 0=6698, 1=5899\n",
      ">Train: 0=60505, 1=52871, Test: 0=6838, 1=5759\n",
      ">Train: 0=60507, 1=52869, Test: 0=6836, 1=5761\n",
      ">Train: 0=60570, 1=52806, Test: 0=6773, 1=5824\n",
      ">Train: 0=60650, 1=52726, Test: 0=6693, 1=5904\n",
      ">Train: 0=60588, 1=52788, Test: 0=6755, 1=5842\n"
     ]
    },
    {
     "data": {
      "text/plain": [
       "{'Mean Training Accuracy': 0.9999497246927884,\n",
       " 'Mean Training Precision': 0.9999393600930493,\n",
       " 'Mean Training Recall': 0.9999526177904015,\n",
       " 'Mean Training F1 Score': 0.999945988663425,\n",
       " 'Mean Validation Accuracy': 0.9989918480251605,\n",
       " 'Mean Validation Precision': 0.9995198694894194,\n",
       " 'Mean Validation Recall': 0.9983089879901478,\n",
       " 'Mean Validation F1 Score': 0.9989140361015618}"
      ]
     },
     "execution_count": 151,
     "metadata": {},
     "output_type": "execute_result"
    }
   ],
   "source": [
    "KfoldCV(RandomForestClassifier(n_estimators=64,n_jobs=2), pd.DataFrame(x_df_ss), y_df, 10, 1)"
   ]
  },
  {
   "cell_type": "code",
   "execution_count": 152,
   "metadata": {
    "scrolled": true
   },
   "outputs": [
    {
     "data": {
      "image/png": "[encoded data removed]",
      "text/plain": [
       "<Figure size 432x288 with 2 Axes>"
      ]
     },
     "metadata": {
      "needs_background": "light"
     },
     "output_type": "display_data"
    },
    {
     "name": "stdout",
     "output_type": "stream",
     "text": [
      "Accuracy: 0.77555 \n",
      "Precision: 0.96876 \n",
      "Recall: 0.62589 \n",
      "F-measure: 0.76046 \n"
     ]
    }
   ],
   "source": [
    "y_prediction = randomForest(x_df, y_df).predict(x_df_test)\n",
    "plotConfusionMatrix(y_prediction, y_df_test, 1)"
   ]
  },
  {
   "cell_type": "code",
   "execution_count": 153,
   "metadata": {},
   "outputs": [
    {
     "data": {
      "image/png": "[encoded data removed]",
      "text/plain": [
       "<Figure size 432x288 with 2 Axes>"
      ]
     },
     "metadata": {
      "needs_background": "light"
     },
     "output_type": "display_data"
    },
    {
     "name": "stdout",
     "output_type": "stream",
     "text": [
      "Accuracy: 0.77067 \n",
      "Precision: 0.88974 \n",
      "Recall: 0.68160 \n",
      "F-measure: 0.77188 \n"
     ]
    }
   ],
   "source": [
    "y_prediction = randomForest(x_df_ss, y_df).predict(x_df_test_ss)\n",
    "plotConfusionMatrix(y_prediction, y_df_test, 1)"
   ]
  },
  {
   "cell_type": "markdown",
   "metadata": {},
   "source": [
    "## Binary dataset feature selection"
   ]
  },
  {
   "cell_type": "code",
   "execution_count": 154,
   "metadata": {},
   "outputs": [],
   "source": [
    "X_df_rfe, rfecolname = recursiveFeatureExtraction(RandomForestClassifier(n_estimators=64,n_jobs=2), pd.DataFrame(x_df), y_df, 13)\n",
    "X_df_test_rfe=x_df_test.values[:,rfecolname]"
   ]
  },
  {
   "cell_type": "code",
   "execution_count": 155,
   "metadata": {},
   "outputs": [],
   "source": [
    "X_df_rfe_ss, rfecolname_ss = recursiveFeatureExtraction(RandomForestClassifier(n_estimators=64,n_jobs=2), pd.DataFrame(x_df_ss), y_df, 13)\n",
    "X_df_test_rfe_ss=x_df_test_ss[:,rfecolname_ss]"
   ]
  },
  {
   "cell_type": "markdown",
   "metadata": {},
   "source": [
    "#### K-fold cross validation"
   ]
  },
  {
   "cell_type": "code",
   "execution_count": 156,
   "metadata": {},
   "outputs": [
    {
     "name": "stdout",
     "output_type": "stream",
     "text": [
      ">Train: 0=60653, 1=52722, Test: 0=6690, 1=5908\n",
      ">Train: 0=60581, 1=52794, Test: 0=6762, 1=5836\n",
      ">Train: 0=60638, 1=52737, Test: 0=6705, 1=5893\n",
      ">Train: 0=60750, 1=52626, Test: 0=6593, 1=6004\n",
      ">Train: 0=60645, 1=52731, Test: 0=6698, 1=5899\n",
      ">Train: 0=60505, 1=52871, Test: 0=6838, 1=5759\n",
      ">Train: 0=60507, 1=52869, Test: 0=6836, 1=5761\n",
      ">Train: 0=60570, 1=52806, Test: 0=6773, 1=5824\n",
      ">Train: 0=60650, 1=52726, Test: 0=6693, 1=5904\n",
      ">Train: 0=60588, 1=52788, Test: 0=6755, 1=5842\n"
     ]
    },
    {
     "data": {
      "text/plain": [
       "{'Mean Training Accuracy': 0.9998544661881231,\n",
       " 'Mean Training Precision': 0.9998066996848853,\n",
       " 'Mean Training Recall': 0.9998806302689269,\n",
       " 'Mean Training F1 Score': 0.9998436618610704,\n",
       " 'Mean Validation Accuracy': 0.9978963856444777,\n",
       " 'Mean Validation Precision': 0.9984105828191204,\n",
       " 'Mean Validation Recall': 0.9970661407141292,\n",
       " 'Mean Validation F1 Score': 0.997737561876163}"
      ]
     },
     "execution_count": 156,
     "metadata": {},
     "output_type": "execute_result"
    }
   ],
   "source": [
    "KfoldCV(RandomForestClassifier(n_estimators=64,n_jobs=2), pd.DataFrame(X_df_rfe), y_df, 10, 1)"
   ]
  },
  {
   "cell_type": "markdown",
   "metadata": {},
   "source": [
    "#### K-fold cross validation Standard Scaler"
   ]
  },
  {
   "cell_type": "code",
   "execution_count": 157,
   "metadata": {},
   "outputs": [
    {
     "name": "stdout",
     "output_type": "stream",
     "text": [
      ">Train: 0=60653, 1=52722, Test: 0=6690, 1=5908\n",
      ">Train: 0=60581, 1=52794, Test: 0=6762, 1=5836\n",
      ">Train: 0=60638, 1=52737, Test: 0=6705, 1=5893\n",
      ">Train: 0=60750, 1=52626, Test: 0=6593, 1=6004\n",
      ">Train: 0=60645, 1=52731, Test: 0=6698, 1=5899\n",
      ">Train: 0=60505, 1=52871, Test: 0=6838, 1=5759\n",
      ">Train: 0=60507, 1=52869, Test: 0=6836, 1=5761\n",
      ">Train: 0=60570, 1=52806, Test: 0=6773, 1=5824\n",
      ">Train: 0=60650, 1=52726, Test: 0=6693, 1=5904\n",
      ">Train: 0=60588, 1=52788, Test: 0=6755, 1=5842\n"
     ]
    },
    {
     "data": {
      "text/plain": [
       "{'Mean Training Accuracy': 0.9998562302298957,\n",
       " 'Mean Training Precision': 0.9997934681573339,\n",
       " 'Mean Training Recall': 0.9998976625856504,\n",
       " 'Mean Training F1 Score': 0.9998455610745672,\n",
       " 'Mean Validation Accuracy': 0.9979678255555747,\n",
       " 'Mean Validation Precision': 0.9984450318223947,\n",
       " 'Mean Validation Recall': 0.9971830952139991,\n",
       " 'Mean Validation F1 Score': 0.9978133500045436}"
      ]
     },
     "execution_count": 157,
     "metadata": {},
     "output_type": "execute_result"
    }
   ],
   "source": [
    "KfoldCV(RandomForestClassifier(n_estimators=64,n_jobs=2), pd.DataFrame(X_df_rfe_ss), y_df, 10, 1)"
   ]
  },
  {
   "cell_type": "markdown",
   "metadata": {},
   "source": [
    "#### Predict"
   ]
  },
  {
   "cell_type": "code",
   "execution_count": 158,
   "metadata": {},
   "outputs": [
    {
     "data": {
      "image/png": "[encoded data removed]",
      "text/plain": [
       "<Figure size 432x288 with 2 Axes>"
      ]
     },
     "metadata": {
      "needs_background": "light"
     },
     "output_type": "display_data"
    },
    {
     "name": "stdout",
     "output_type": "stream",
     "text": [
      "Accuracy: 0.75381 \n",
      "Precision: 0.96620 \n",
      "Recall: 0.58809 \n",
      "F-measure: 0.73116 \n"
     ]
    }
   ],
   "source": [
    "y_prediction = randomForest(X_df_rfe, y_df).predict(X_df_test_rfe)\n",
    "plotConfusionMatrix(y_prediction, y_df_test, 1)"
   ]
  },
  {
   "cell_type": "code",
   "execution_count": 159,
   "metadata": {},
   "outputs": [
    {
     "data": {
      "image/png": "[encoded data removed]",
      "text/plain": [
       "<Figure size 432x288 with 2 Axes>"
      ]
     },
     "metadata": {
      "needs_background": "light"
     },
     "output_type": "display_data"
    },
    {
     "name": "stdout",
     "output_type": "stream",
     "text": [
      "Accuracy: 0.81259 \n",
      "Precision: 0.89881 \n",
      "Recall: 0.75586 \n",
      "F-measure: 0.82116 \n"
     ]
    }
   ],
   "source": [
    "y_prediction = randomForest(X_df_rfe_ss, y_df).predict(X_df_test_rfe_ss)\n",
    "plotConfusionMatrix(y_prediction, y_df_test, 1)"
   ]
  },
  {
   "cell_type": "code",
   "execution_count": null,
   "metadata": {},
   "outputs": [],
   "source": []
  }
 ],
 "metadata": {
  "colab": {
   "authorship_tag": "ABX9TyMHeZyIWbMZKAf4sJQ/BZhF",
   "collapsed_sections": [
    "6mvaHjRTkbk5"
   ],
   "provenance": []
  },
  "kernelspec": {
   "display_name": "Python 3 (ipykernel)",
   "language": "python",
   "name": "python3"
  },
  "language_info": {
   "codemirror_mode": {
    "name": "ipython",
    "version": 3
   },
   "file_extension": ".py",
   "mimetype": "text/x-python",
   "name": "python",
   "nbconvert_exporter": "python",
   "pygments_lexer": "ipython3",
   "version": "3.9.7"
  }
 },
 "nbformat": 4,
 "nbformat_minor": 1
}
