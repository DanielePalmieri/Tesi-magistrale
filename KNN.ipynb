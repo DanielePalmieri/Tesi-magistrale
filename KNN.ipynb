{
 "cells": [
  {
   "cell_type": "code",
   "execution_count": 1,
   "metadata": {
    "colab": {
     "base_uri": "https://localhost:8080/"
    },
    "executionInfo": {
     "elapsed": 3,
     "status": "ok",
     "timestamp": 1675868759529,
     "user": {
      "displayName": "DANIELE PALMIERI",
      "userId": "13749636301499067245"
     },
     "user_tz": -60
    },
    "id": "5tWyPVVSti_W",
    "outputId": "cf23d942-3a3f-4923-fcf5-6cded2eab13b",
    "scrolled": true
   },
   "outputs": [
    {
     "name": "stdout",
     "output_type": "stream",
     "text": [
      "C:\\Users\\Daniele\\Desktop\\Materiale Tesi\\Tesi magistrale\\datasets\\NLS\n"
     ]
    }
   ],
   "source": [
    "cd datasets/NLS"
   ]
  },
  {
   "cell_type": "markdown",
   "metadata": {},
   "source": [
    "# Import"
   ]
  },
  {
   "cell_type": "code",
   "execution_count": 2,
   "metadata": {},
   "outputs": [
    {
     "name": "stderr",
     "output_type": "stream",
     "text": [
      "C:\\Users\\Daniele\\anaconda3\\lib\\site-packages\\numpy\\_distributor_init.py:30: UserWarning: loaded more than 1 DLL from .libs:\n",
      "C:\\Users\\Daniele\\anaconda3\\lib\\site-packages\\numpy\\.libs\\libopenblas.GK7GX5KEQ4F6UYO3P26ULGBQYHGQO7J4.gfortran-win_amd64.dll\n",
      "C:\\Users\\Daniele\\anaconda3\\lib\\site-packages\\numpy\\.libs\\libopenblas64__v0.3.21-gcc_10_3_0.dll\n",
      "  warnings.warn(\"loaded more than 1 DLL from .libs:\"\n",
      "C:\\Users\\Daniele\\anaconda3\\lib\\site-packages\\scipy\\__init__.py:146: UserWarning: A NumPy version >=1.16.5 and <1.23.0 is required for this version of SciPy (detected version 1.24.2\n",
      "  warnings.warn(f\"A NumPy version >={np_minversion} and <{np_maxversion}\"\n"
     ]
    }
   ],
   "source": [
    "import pandas as pd\n",
    "import numpy as np\n",
    "import scikitplot as skplt\n",
    "import matplotlib.pyplot as plt\n",
    "from sklearn import preprocessing\n",
    "from imblearn.over_sampling import SMOTE\n",
    "from sklearn.feature_selection import RFE\n",
    "from sklearn.ensemble import RandomForestClassifier\n",
    "from sklearn.neighbors import KNeighborsClassifier\n",
    "from sklearn.model_selection import StratifiedKFold\n",
    "from sklearn.model_selection import KFold\n",
    "from sklearn.metrics import accuracy_score, precision_score, recall_score, f1_score\n",
    "from sklearn.preprocessing import OneHotEncoder\n",
    "from imblearn.over_sampling import RandomOverSampler\n",
    "\n",
    "# Aggiungo gli headers al CSV\n",
    "col_names = [\"duration\",\"protocol_type\",\"service\",\"flag\",\"src_bytes\",\n",
    "    \"dst_bytes\",\"land\",\"wrong_fragment\",\"urgent\",\"hot\",\"num_failed_logins\",\n",
    "    \"logged_in\",\"num_compromised\",\"root_shell\",\"su_attempted\",\"num_root\",\n",
    "    \"num_file_creations\",\"num_shells\",\"num_access_files\",\"num_outbound_cmds\",\n",
    "    \"is_host_login\",\"is_guest_login\",\"count\",\"srv_count\",\"serror_rate\",\n",
    "    \"srv_serror_rate\",\"rerror_rate\",\"srv_rerror_rate\",\"same_srv_rate\",\n",
    "    \"diff_srv_rate\",\"srv_diff_host_rate\",\"dst_host_count\",\"dst_host_srv_count\",\n",
    "    \"dst_host_same_srv_rate\",\"dst_host_diff_srv_rate\",\"dst_host_same_src_port_rate\",\n",
    "    \"dst_host_srv_diff_host_rate\",\"dst_host_serror_rate\",\"dst_host_srv_serror_rate\",\n",
    "    \"dst_host_rerror_rate\",\"dst_host_srv_rerror_rate\",\"label\"]\n",
    "\n",
    "df = pd.read_csv('KDDTrain+.csv', encoding='cp1252', names = col_names)\n",
    "df_test = pd.read_csv('KDDTest+.csv', encoding='cp1252', names = col_names)\n",
    "\n",
    "labeldf=df['label']\n",
    "labeldf_test=df_test['label']"
   ]
  },
  {
   "cell_type": "markdown",
   "metadata": {},
   "source": [
    "# Functions"
   ]
  },
  {
   "cell_type": "code",
   "execution_count": 3,
   "metadata": {
    "id": "_6ocXjZLt7SF"
   },
   "outputs": [],
   "source": [
    "#Dataset Preparation ----------------------------------------------------------------------------------------------------------\n",
    "\n",
    "def prepareMulticlass():\n",
    "    # change the label column\n",
    "    newlabeldf=labeldf.replace({ 'normal' : 0, 'neptune' : 1 ,'back': 1, 'land': 1, 'pod': 1, 'smurf': 1, 'teardrop': 1,'mailbomb': 1, 'apache2': 1, 'processtable': 1, 'udpstorm': 1, 'worm': 1,\n",
    "                           'ipsweep' : 2,'nmap' : 2,'portsweep' : 2,'satan' : 2,'mscan' : 2,'saint' : 2\n",
    "                           ,'ftp_write': 3,'guess_passwd': 3,'imap': 3,'multihop': 3,'phf': 3,'spy': 3,'warezclient': 3,'warezmaster': 3,'sendmail': 3,'named': 3,'snmpgetattack': 3,'snmpguess': 3,'xlock': 3,'xsnoop': 3,'httptunnel': 3,\n",
    "                           'buffer_overflow': 4,'loadmodule': 4,'perl': 4,'rootkit': 4,'ps': 4,'sqlattack': 4,'xterm': 4})\n",
    "    newlabeldf_test=labeldf_test.replace({ 'normal' : 0, 'neptune' : 1 ,'back': 1, 'land': 1, 'pod': 1, 'smurf': 1, 'teardrop': 1,'mailbomb': 1, 'apache2': 1, 'processtable': 1, 'udpstorm': 1, 'worm': 1,\n",
    "                           'ipsweep' : 2,'nmap' : 2,'portsweep' : 2,'satan' : 2,'mscan' : 2,'saint' : 2\n",
    "                           ,'ftp_write': 3,'guess_passwd': 3,'imap': 3,'multihop': 3,'phf': 3,'spy': 3,'warezclient': 3,'warezmaster': 3,'sendmail': 3,'named': 3,'snmpgetattack': 3,'snmpguess': 3,'xlock': 3,'xsnoop': 3,'httptunnel': 3,\n",
    "                           'buffer_overflow': 4,'loadmodule': 4,'perl': 4,'rootkit': 4,'ps': 4,'sqlattack': 4,'xterm': 4})\n",
    "    return newlabeldf, newlabeldf_test\n",
    "\n",
    "def prepareBinary():\n",
    "    # change the label column\n",
    "    newlabeldf=labeldf.replace({ 'normal' : 0, 'neptune' : 1 ,'back': 1, 'land': 1, 'pod': 1, 'smurf': 1, 'teardrop': 1,'mailbomb': 1, 'apache2': 1, 'processtable': 1, 'udpstorm': 1, 'worm': 1,\n",
    "                           'ipsweep' : 1,'nmap' : 1,'portsweep' : 1,'satan' : 1,'mscan' : 1,'saint' : 1\n",
    "                           ,'ftp_write': 1,'guess_passwd': 1,'imap': 1,'multihop': 1,'phf': 1,'spy': 1,'warezclient': 1,'warezmaster': 1,'sendmail': 1,'named': 1,'snmpgetattack': 1,'snmpguess': 1,'xlock': 1,'xsnoop': 1,'httptunnel': 1,\n",
    "                           'buffer_overflow': 1,'loadmodule': 1,'perl': 1,'rootkit': 1,'ps': 1,'sqlattack': 1,'xterm': 1})\n",
    "    newlabeldf_test=labeldf_test.replace({ 'normal' : 0, 'neptune' : 1 ,'back': 1, 'land': 1, 'pod': 1, 'smurf': 1, 'teardrop': 1,'mailbomb': 1, 'apache2': 1, 'processtable': 1, 'udpstorm': 1, 'worm': 1,\n",
    "                           'ipsweep' : 1,'nmap' : 1,'portsweep' : 1,'satan' : 1,'mscan' : 1,'saint' : 1\n",
    "                           ,'ftp_write': 1,'guess_passwd': 1,'imap': 1,'multihop': 1,'phf': 1,'spy': 1,'warezclient': 1,'warezmaster': 1,'sendmail': 1,'named': 1,'snmpgetattack': 1,'snmpguess': 1,'xlock': 1,'xsnoop': 1,'httptunnel': 1,\n",
    "                           'buffer_overflow': 1,'loadmodule': 1,'perl': 1,'rootkit': 1,'ps': 1,'sqlattack': 1,'xterm': 1})\n",
    "    return newlabeldf, newlabeldf_test\n",
    "  \n",
    "colNames=list()\n",
    "colNames_test=list()\n",
    "\n",
    "def getFullDf():\n",
    "    global colNames\n",
    "    colNames=list(df)\n",
    "    return df\n",
    "\n",
    "def getFullDfTest():\n",
    "    global colNames_test\n",
    "    colNames_test=list(df_test)\n",
    "    return df_test\n",
    "\n",
    "def getReducedDf():\n",
    "    global colNames\n",
    "    df_reduced=df.drop('protocol_type', axis=1, inplace=False)\n",
    "    df_reduced=df_reduced.drop('service', axis=1, inplace=False)\n",
    "    df_reduced=df_reduced.drop('flag', axis=1, inplace=False)\n",
    "    colNames=list(df_reduced)\n",
    "    return df_reduced\n",
    "\n",
    "def getReducedDfTest():\n",
    "    global colNames_test\n",
    "    df_reduced=df_test.drop('protocol_type', axis=1, inplace=False)\n",
    "    df_reduced=df_reduced.drop('service', axis=1, inplace=False)\n",
    "    df_reduced=df_reduced.drop('flag', axis=1, inplace=False)\n",
    "    colNames_test=list(df_reduced)\n",
    "    return df_reduced\n",
    "\n",
    "def oneHotEcoding(df, column_name):\n",
    "    df_drop = df.drop(column_name, axis=1, inplace=False)\n",
    "    one_hot = pd.get_dummies(df[column_name])\n",
    "    if(column_name == 'service'):\n",
    "        column_list=list()\n",
    "        for string in one_hot.columns.tolist():\n",
    "            column_list.append(column_name+'_'+str(string))\n",
    "        one_hot.columns=column_list\n",
    "    df = pd.concat([df_drop, one_hot], axis=1)\n",
    "    \n",
    "    return df\n",
    "\n",
    "def getXandY(df):\n",
    "    X = df.drop('label',axis=1, inplace=False)\n",
    "    Y = df.label\n",
    "    return X, Y\n",
    "\n",
    "def overSampledDF(X, Y): \n",
    "    sm = SMOTE(random_state=42)\n",
    "    X_resampled, Y_resampled = sm.fit_resample(X, Y)\n",
    "    df = pd.concat([X_resampled, Y_resampled], axis=1)\n",
    "    return df\n",
    "\n",
    "def createMulticlassDF(df):\n",
    "    to_drop_DoS = [0,1]\n",
    "    to_drop_Probe = [0,2]\n",
    "    to_drop_R2L = [0,3]\n",
    "    to_drop_U2R = [0,4]\n",
    "\n",
    "    DoS_df=df[df['label'].isin(to_drop_DoS)];\n",
    "    Probe_df=df[df['label'].isin(to_drop_Probe)];\n",
    "    R2L_df=df[df['label'].isin(to_drop_R2L)];\n",
    "    U2R_df=df[df['label'].isin(to_drop_U2R)];\n",
    "    return DoS_df, Probe_df, R2L_df, U2R_df \n",
    "\n",
    "def standardScaler(df):\n",
    "    scaler = preprocessing.StandardScaler().fit(df)\n",
    "    return scaler.transform(df) \n",
    "\n",
    "def minMaxScaler(df):\n",
    "    scaler = preprocessing.MinMaxScaler().fit(df)\n",
    "    return scaler.transform(df)\n",
    "\n",
    "def recursiveFeatureExtraction(model, X, Y, n):\n",
    "    rfe = RFE(model, n_features_to_select=n)\n",
    "    rfe.fit(X, Y)\n",
    "    X=rfe.transform(X)\n",
    "    true=rfe.support_\n",
    "    rfecolindex=[i for i, x in enumerate(true) if x]\n",
    "    rfecolname=list(colNames[i] for i in rfecolindex)\n",
    "    return X, rfecolindex\n",
    "\n",
    "def adaptTestset(train, test):\n",
    "    train_service_list=[]\n",
    "    test_service_list = []\n",
    "    \n",
    "    for string in train.columns.tolist():\n",
    "        if('service' in string):\n",
    "            train_service_list.append(string)\n",
    "    \n",
    "    for string in test.columns.tolist():\n",
    "        if('service' in string):\n",
    "            test_service_list.append(string)\n",
    "\n",
    "    difference=list(set(train_service_list) - set(test_service_list))\n",
    "\n",
    "    for col in difference:\n",
    "        test[col] = 0\n",
    "    return test.reindex(columns=train.columns)\n",
    "\n",
    "# Algorythms-------------------------------------------------------------------------------------------------------------------- \n",
    "\n",
    "def kNN(X, Y):\n",
    "    clf = KNeighborsClassifier()\n",
    "    return clf.fit(X, Y)\n",
    "\n",
    "def stratifiedCV(model, X, Y, k, pos_label):\n",
    "    skf = StratifiedKFold(n_splits=k)\n",
    "  \n",
    "    precision_test_sum = 0\n",
    "    recall_test_sum = 0\n",
    "    f1_test_sum = 0\n",
    "    accuracy_test_sum = 0  \n",
    "    precision_train_sum = 0\n",
    "    recall_train_sum = 0\n",
    "    f1_train_sum = 0\n",
    "    accuracy_train_sum = 0 \n",
    "\n",
    "    for train_index, test_index in skf.split(X, Y):\n",
    "        X_train, X_test = X.iloc[train_index], X.iloc[test_index]\n",
    "        y_train, y_test = Y.iloc[train_index], Y.iloc[test_index]\n",
    "        model.fit(X_train, y_train)\n",
    "        y_test_pred = model.predict(X_test)\n",
    "        y_train_pred = model.predict(X_train)\n",
    "\n",
    "        test_accuracy = accuracy_score(y_test, y_test_pred)\n",
    "        test_precision = precision_score(y_test, y_test_pred, pos_label=pos_label)\n",
    "        test_recall = recall_score(y_test, y_test_pred, pos_label=pos_label)\n",
    "        test_f1 = f1_score(y_test, y_test_pred, pos_label=pos_label)\n",
    "\n",
    "        train_accuracy = accuracy_score(y_train, y_train_pred)\n",
    "        train_precision = precision_score(y_train, y_train_pred, pos_label=pos_label)\n",
    "        train_recall = recall_score(y_train, y_train_pred, pos_label=pos_label)\n",
    "        train_f1 = f1_score(y_train, y_train_pred, pos_label=pos_label)\n",
    "    \n",
    "        accuracy_test_sum += test_accuracy\n",
    "        precision_test_sum += test_precision\n",
    "        recall_test_sum += test_recall\n",
    "        f1_test_sum += test_f1\n",
    "\n",
    "        accuracy_train_sum += train_accuracy\n",
    "        precision_train_sum += train_precision\n",
    "        recall_train_sum += train_recall\n",
    "        f1_train_sum += train_f1\n",
    "\n",
    "        train_0, train_1 = len(y_train[y_train==0]), len(y_train[y_train==pos_label])\n",
    "        test_0, test_1 = len(y_test[y_test==0]), len(y_test[y_test==pos_label])\n",
    "        print('>Train: 0=%d, 1=%d, Test: 0=%d, 1=%d' % (train_0, train_1, test_0, test_1))\n",
    "\n",
    "    accuracy_test_mean = accuracy_test_sum / skf.n_splits \n",
    "    precision_test_mean = precision_test_sum / skf.n_splits\n",
    "    recall_test_mean = recall_test_sum / skf.n_splits\n",
    "    f1_test_mean = f1_test_sum / skf.n_splits\n",
    "\n",
    "    accuracy_train_mean = accuracy_train_sum / skf.n_splits \n",
    "    precision_train_mean = precision_train_sum / skf.n_splits\n",
    "    recall_train_mean = recall_train_sum / skf.n_splits\n",
    "    f1_train_mean = f1_train_sum / skf.n_splits\n",
    "\n",
    "    return {\"Mean Training Accuracy\": accuracy_train_mean,\n",
    "      \"Mean Training Precision\": precision_train_mean,\n",
    "      \"Mean Training Recall\": recall_train_mean,\n",
    "      \"Mean Training F1 Score\": f1_train_mean,\n",
    "      \"Mean Validation Accuracy\": accuracy_test_mean,\n",
    "      \"Mean Validation Precision\": precision_test_mean,\n",
    "      \"Mean Validation Recall\": recall_test_mean,\n",
    "      \"Mean Validation F1 Score\": f1_test_mean}\n",
    "  \n",
    "    \n",
    "def KfoldCV(model, X, Y, k, pos_label):\n",
    "    skf = KFold(n_splits=k)\n",
    "  \n",
    "    precision_test_sum = 0\n",
    "    recall_test_sum = 0\n",
    "    f1_test_sum = 0\n",
    "    accuracy_test_sum = 0  \n",
    "    precision_train_sum = 0\n",
    "    recall_train_sum = 0\n",
    "    f1_train_sum = 0\n",
    "    accuracy_train_sum = 0 \n",
    "\n",
    "    for train_index, test_index in skf.split(X, Y):\n",
    "        X_train, X_test = X.iloc[train_index], X.iloc[test_index]\n",
    "        y_train, y_test = Y.iloc[train_index], Y.iloc[test_index]\n",
    "        model.fit(X_train, y_train)\n",
    "        y_test_pred = model.predict(X_test)\n",
    "        y_train_pred = model.predict(X_train)\n",
    "\n",
    "        test_accuracy = accuracy_score(y_test, y_test_pred )\n",
    "        test_precision = precision_score(y_test, y_test_pred, pos_label=pos_label)\n",
    "        test_recall = recall_score(y_test, y_test_pred, pos_label=pos_label)\n",
    "        test_f1 = f1_score(y_test, y_test_pred, pos_label=pos_label)\n",
    "\n",
    "        train_accuracy = accuracy_score(y_train, y_train_pred)\n",
    "        train_precision = precision_score(y_train, y_train_pred, pos_label=pos_label)\n",
    "        train_recall = recall_score(y_train, y_train_pred, pos_label=pos_label)\n",
    "        train_f1 = f1_score(y_train, y_train_pred, pos_label=pos_label)\n",
    "    \n",
    "        accuracy_test_sum += test_accuracy\n",
    "        precision_test_sum += test_precision\n",
    "        recall_test_sum += test_recall\n",
    "        f1_test_sum += test_f1\n",
    "\n",
    "        accuracy_train_sum += train_accuracy\n",
    "        precision_train_sum += train_precision\n",
    "        recall_train_sum += train_recall\n",
    "        f1_train_sum += train_f1\n",
    "\n",
    "        train_0, train_1 = len(y_train[y_train==0]), len(y_train[y_train==pos_label])\n",
    "        test_0, test_1 = len(y_test[y_test==0]), len(y_test[y_test==pos_label])\n",
    "        print('>Train: 0=%d, 1=%d, Test: 0=%d, 1=%d' % (train_0, train_1, test_0, test_1))\n",
    "\n",
    "    accuracy_test_mean = accuracy_test_sum / skf.n_splits \n",
    "    precision_test_mean = precision_test_sum / skf.n_splits\n",
    "    recall_test_mean = recall_test_sum / skf.n_splits\n",
    "    f1_test_mean = f1_test_sum / skf.n_splits\n",
    "\n",
    "    accuracy_train_mean = accuracy_train_sum / skf.n_splits \n",
    "    precision_train_mean = precision_train_sum / skf.n_splits\n",
    "    recall_train_mean = recall_train_sum / skf.n_splits\n",
    "    f1_train_mean = f1_train_sum / skf.n_splits\n",
    "\n",
    "    return {\"Mean Training Accuracy\": accuracy_train_mean,\n",
    "      \"Mean Training Precision\": precision_train_mean,\n",
    "      \"Mean Training Recall\": recall_train_mean,\n",
    "      \"Mean Training F1 Score\": f1_train_mean,\n",
    "      \"Mean Validation Accuracy\": accuracy_test_mean,\n",
    "      \"Mean Validation Precision\": precision_test_mean,\n",
    "      \"Mean Validation Recall\": recall_test_mean,\n",
    "      \"Mean Validation F1 Score\": f1_test_mean}\n",
    "\n",
    "#Plotting-----------------------------------------------------------------------------------------------------------------------\n",
    "\n",
    "def plotDf(y):\n",
    "    plt.figure(figsize=(10,5))\n",
    "    class_distribution = y.value_counts()\n",
    "    class_distribution.plot(kind='bar')\n",
    "    plt.xlabel('Class')\n",
    "    plt.ylabel('Data points per Class')\n",
    "    plt.title('Distribution of yi in train data')\n",
    "    plt.grid()\n",
    "    return plt\n",
    "\n",
    "def plotConfusionMatrix(Y_pred, Y_test, pos_label):\n",
    "    skplt.metrics.plot_confusion_matrix(Y_test,Y_pred)\n",
    "    plt.show()\n",
    "    accuracy = accuracy_score(Y_test, Y_pred)\n",
    "    print(\"Accuracy: %0.5f \" % accuracy)\n",
    "    precision = precision_score(Y_test, Y_pred, pos_label=pos_label)\n",
    "    print(\"Precision: %0.5f \" % precision)\n",
    "    recall = recall_score(Y_test, Y_pred, pos_label=pos_label)\n",
    "    print(\"Recall: %0.5f \" % recall)\n",
    "    f = f1_score(Y_test, Y_pred, pos_label=pos_label)\n",
    "    print(\"F-measure: %0.5f \" % f)"
   ]
  },
  {
   "cell_type": "markdown",
   "metadata": {},
   "source": [
    "# Reduced DF, no oversampling"
   ]
  },
  {
   "cell_type": "code",
   "execution_count": 4,
   "metadata": {
    "colab": {
     "base_uri": "https://localhost:8080/",
     "height": 364
    },
    "executionInfo": {
     "elapsed": 825,
     "status": "ok",
     "timestamp": 1675868788597,
     "user": {
      "displayName": "DANIELE PALMIERI",
      "userId": "13749636301499067245"
     },
     "user_tz": -60
    },
    "id": "Sd9I2blW6SOK",
    "outputId": "3143ab84-9747-481a-8ba0-863344ad6186"
   },
   "outputs": [
    {
     "data": {
      "text/plain": [
       "<module 'matplotlib.pyplot' from 'C:\\\\Users\\\\Daniele\\\\anaconda3\\\\lib\\\\site-packages\\\\matplotlib\\\\pyplot.py'>"
      ]
     },
     "execution_count": 4,
     "metadata": {},
     "output_type": "execute_result"
    },
    {
     "data": {
      "image/png": "[encoded data removed]",
      "text/plain": [
       "<Figure size 720x360 with 1 Axes>"
      ]
     },
     "metadata": {
      "needs_background": "light"
     },
     "output_type": "display_data"
    }
   ],
   "source": [
    "reducedDf = getReducedDf()\n",
    "reducedDf_test = getReducedDfTest()\n",
    "\n",
    "reducedDf['label'], reducedDf_test['label'] = prepareMulticlass()\n",
    "\n",
    "plotDf(reducedDf['label'])\n"
   ]
  },
  {
   "cell_type": "code",
   "execution_count": 5,
   "metadata": {
    "id": "zyuGPMoLbxc-"
   },
   "outputs": [],
   "source": [
    "#Preparo i dataframe per ogni classe di attacco\n",
    "dos, probe, r2l, u2r = createMulticlassDF(reducedDf)\n",
    "dos_test, probe_test, r2l_test, u2r_test = createMulticlassDF(reducedDf_test)\n",
    "\n",
    "X_dos, y_dos = getXandY(dos)\n",
    "X_probe, y_probe = getXandY(probe)\n",
    "X_r2l, y_r2l = getXandY(r2l)\n",
    "X_u2r, y_u2r = getXandY(u2r)\n",
    "\n",
    "X_dos_test, y_dos_test = getXandY(dos_test)\n",
    "X_probe_test, y_probe_test = getXandY(probe_test)\n",
    "X_r2l_test, y_r2l_test = getXandY(r2l_test)\n",
    "X_u2r_test, y_u2r_test = getXandY(u2r_test)"
   ]
  },
  {
   "cell_type": "code",
   "execution_count": 6,
   "metadata": {
    "id": "JPdFVffDAz33"
   },
   "outputs": [],
   "source": [
    "#Effettuo standard scaler\n",
    "X_dos_ss=standardScaler(X_dos)\n",
    "X_probe_ss=standardScaler(X_probe)\n",
    "X_r2l_ss=standardScaler(X_r2l)\n",
    "X_u2r_ss=standardScaler(X_u2r)\n",
    "\n",
    "X_dos_test_ss=standardScaler(X_dos_test)\n",
    "X_probe_test_ss=standardScaler(X_probe_test)\n",
    "X_r2l_test_ss=standardScaler(X_r2l_test)\n",
    "X_u2r_test_ss=standardScaler(X_u2r_test)"
   ]
  },
  {
   "cell_type": "markdown",
   "metadata": {
    "id": "4R7xuyWpitQi"
   },
   "source": [
    "## No feature selection"
   ]
  },
  {
   "cell_type": "markdown",
   "metadata": {},
   "source": [
    "#### K-fold cross validation on dos"
   ]
  },
  {
   "cell_type": "code",
   "execution_count": 7,
   "metadata": {
    "scrolled": true
   },
   "outputs": [
    {
     "name": "stdout",
     "output_type": "stream",
     "text": [
      ">Train: 0=60666, 1=41277, Test: 0=6677, 1=4650\n",
      ">Train: 0=60586, 1=41357, Test: 0=6757, 1=4570\n",
      ">Train: 0=60612, 1=41331, Test: 0=6731, 1=4596\n",
      ">Train: 0=60720, 1=41223, Test: 0=6623, 1=4704\n",
      ">Train: 0=60634, 1=41309, Test: 0=6709, 1=4618\n",
      ">Train: 0=60525, 1=41418, Test: 0=6818, 1=4509\n",
      ">Train: 0=60548, 1=41395, Test: 0=6795, 1=4532\n",
      ">Train: 0=60557, 1=41386, Test: 0=6786, 1=4541\n",
      ">Train: 0=60662, 1=41281, Test: 0=6681, 1=4646\n",
      ">Train: 0=60577, 1=41366, Test: 0=6766, 1=4561\n"
     ]
    },
    {
     "data": {
      "text/plain": [
       "{'Mean Training Accuracy': 0.9990818398516819,\n",
       " 'Mean Training Precision': 0.9983469480069289,\n",
       " 'Mean Training Recall': 0.9993903208759134,\n",
       " 'Mean Training F1 Score': 0.9988683599299177,\n",
       " 'Mean Validation Accuracy': 0.9987551867219917,\n",
       " 'Mean Validation Precision': 0.9979117355910668,\n",
       " 'Mean Validation Recall': 0.9990203904479589,\n",
       " 'Mean Validation F1 Score': 0.9984656670165986}"
      ]
     },
     "execution_count": 7,
     "metadata": {},
     "output_type": "execute_result"
    }
   ],
   "source": [
    "KfoldCV(KNeighborsClassifier(), pd.DataFrame(X_dos), y_dos, 10, 1)"
   ]
  },
  {
   "cell_type": "markdown",
   "metadata": {},
   "source": [
    "#### K-fold cross validation on dos Standard Scaler"
   ]
  },
  {
   "cell_type": "code",
   "execution_count": 8,
   "metadata": {
    "scrolled": true
   },
   "outputs": [
    {
     "name": "stdout",
     "output_type": "stream",
     "text": [
      ">Train: 0=60666, 1=41277, Test: 0=6677, 1=4650\n",
      ">Train: 0=60586, 1=41357, Test: 0=6757, 1=4570\n",
      ">Train: 0=60612, 1=41331, Test: 0=6731, 1=4596\n",
      ">Train: 0=60720, 1=41223, Test: 0=6623, 1=4704\n",
      ">Train: 0=60634, 1=41309, Test: 0=6709, 1=4618\n",
      ">Train: 0=60525, 1=41418, Test: 0=6818, 1=4509\n",
      ">Train: 0=60548, 1=41395, Test: 0=6795, 1=4532\n",
      ">Train: 0=60557, 1=41386, Test: 0=6786, 1=4541\n",
      ">Train: 0=60662, 1=41281, Test: 0=6681, 1=4646\n",
      ">Train: 0=60577, 1=41366, Test: 0=6766, 1=4561\n"
     ]
    },
    {
     "data": {
      "text/plain": [
       "{'Mean Training Accuracy': 0.9986237407178523,\n",
       " 'Mean Training Precision': 0.9979618555922951,\n",
       " 'Mean Training Recall': 0.9986451574664645,\n",
       " 'Mean Training F1 Score': 0.998303380699466,\n",
       " 'Mean Validation Accuracy': 0.9964333009623025,\n",
       " 'Mean Validation Precision': 0.994469078574251,\n",
       " 'Mean Validation Recall': 0.9967518030154586,\n",
       " 'Mean Validation F1 Score': 0.9956086734552653}"
      ]
     },
     "execution_count": 8,
     "metadata": {},
     "output_type": "execute_result"
    }
   ],
   "source": [
    "KfoldCV(KNeighborsClassifier(), pd.DataFrame(X_dos_ss), y_dos, 10, 1)"
   ]
  },
  {
   "cell_type": "markdown",
   "metadata": {},
   "source": [
    "#### Stratified cross validation on dos"
   ]
  },
  {
   "cell_type": "code",
   "execution_count": 9,
   "metadata": {},
   "outputs": [
    {
     "name": "stdout",
     "output_type": "stream",
     "text": [
      ">Train: 0=60608, 1=41335, Test: 0=6735, 1=4592\n",
      ">Train: 0=60608, 1=41335, Test: 0=6735, 1=4592\n",
      ">Train: 0=60608, 1=41335, Test: 0=6735, 1=4592\n",
      ">Train: 0=60609, 1=41334, Test: 0=6734, 1=4593\n",
      ">Train: 0=60609, 1=41334, Test: 0=6734, 1=4593\n",
      ">Train: 0=60609, 1=41334, Test: 0=6734, 1=4593\n",
      ">Train: 0=60609, 1=41334, Test: 0=6734, 1=4593\n",
      ">Train: 0=60609, 1=41334, Test: 0=6734, 1=4593\n",
      ">Train: 0=60609, 1=41334, Test: 0=6734, 1=4593\n",
      ">Train: 0=60609, 1=41334, Test: 0=6734, 1=4593\n"
     ]
    },
    {
     "data": {
      "text/plain": [
       "{'Mean Training Accuracy': 0.9990838017323407,\n",
       " 'Mean Training Precision': 0.99834934867519,\n",
       " 'Mean Training Recall': 0.9993927560024624,\n",
       " 'Mean Training F1 Score': 0.9988707781993554,\n",
       " 'Mean Validation Accuracy': 0.9987463582590271,\n",
       " 'Mean Validation Precision': 0.9979122014849308,\n",
       " 'Mean Validation Recall': 0.9989984048214563,\n",
       " 'Mean Validation F1 Score': 0.998454946323208}"
      ]
     },
     "execution_count": 9,
     "metadata": {},
     "output_type": "execute_result"
    }
   ],
   "source": [
    "stratifiedCV(KNeighborsClassifier(), pd.DataFrame(X_dos), y_dos, 10, 1)"
   ]
  },
  {
   "cell_type": "markdown",
   "metadata": {},
   "source": [
    "#### Stratified cross validation on dos Standard Scaler"
   ]
  },
  {
   "cell_type": "code",
   "execution_count": 10,
   "metadata": {},
   "outputs": [
    {
     "name": "stdout",
     "output_type": "stream",
     "text": [
      ">Train: 0=60608, 1=41335, Test: 0=6735, 1=4592\n",
      ">Train: 0=60608, 1=41335, Test: 0=6735, 1=4592\n",
      ">Train: 0=60608, 1=41335, Test: 0=6735, 1=4592\n",
      ">Train: 0=60609, 1=41334, Test: 0=6734, 1=4593\n",
      ">Train: 0=60609, 1=41334, Test: 0=6734, 1=4593\n",
      ">Train: 0=60609, 1=41334, Test: 0=6734, 1=4593\n",
      ">Train: 0=60609, 1=41334, Test: 0=6734, 1=4593\n",
      ">Train: 0=60609, 1=41334, Test: 0=6734, 1=4593\n",
      ">Train: 0=60609, 1=41334, Test: 0=6734, 1=4593\n",
      ">Train: 0=60609, 1=41334, Test: 0=6734, 1=4593\n"
     ]
    },
    {
     "data": {
      "text/plain": [
       "{'Mean Training Accuracy': 0.9986207978968642,\n",
       " 'Mean Training Precision': 0.9979595221949656,\n",
       " 'Mean Training Recall': 0.9986403545191125,\n",
       " 'Mean Training F1 Score': 0.9982998133826515,\n",
       " 'Mean Validation Accuracy': 0.9964068155734086,\n",
       " 'Mean Validation Precision': 0.9943978055780829,\n",
       " 'Mean Validation Recall': 0.9967557100981572,\n",
       " 'Mean Validation F1 Score': 0.9955747689911718}"
      ]
     },
     "execution_count": 10,
     "metadata": {},
     "output_type": "execute_result"
    }
   ],
   "source": [
    "stratifiedCV(KNeighborsClassifier(), pd.DataFrame(X_dos_ss), y_dos, 10, 1)"
   ]
  },
  {
   "cell_type": "markdown",
   "metadata": {},
   "source": [
    "#### Predict on dos"
   ]
  },
  {
   "cell_type": "code",
   "execution_count": 11,
   "metadata": {
    "scrolled": true
   },
   "outputs": [
    {
     "data": {
      "image/png": "[encoded data removed]",
      "text/plain": [
       "<Figure size 432x288 with 2 Axes>"
      ]
     },
     "metadata": {
      "needs_background": "light"
     },
     "output_type": "display_data"
    },
    {
     "name": "stdout",
     "output_type": "stream",
     "text": [
      "Accuracy: 0.88323 \n",
      "Precision: 0.96378 \n",
      "Recall: 0.75979 \n",
      "F-measure: 0.84971 \n"
     ]
    }
   ],
   "source": [
    "y_dos_prediction = kNN(X_dos, y_dos).predict(X_dos_test)\n",
    "plotConfusionMatrix(y_dos_prediction, y_dos_test, 1)"
   ]
  },
  {
   "cell_type": "code",
   "execution_count": 12,
   "metadata": {
    "colab": {
     "base_uri": "https://localhost:8080/",
     "height": 364
    },
    "executionInfo": {
     "elapsed": 4929,
     "status": "ok",
     "timestamp": 1675470845682,
     "user": {
      "displayName": "DANIELE PALMIERI",
      "userId": "13749636301499067245"
     },
     "user_tz": -60
    },
    "id": "Joltm67yirLe",
    "outputId": "ed2979dd-8dd0-40a2-f7aa-697b4804a602"
   },
   "outputs": [
    {
     "data": {
      "image/png": "[encoded data removed]",
      "text/plain": [
       "<Figure size 432x288 with 2 Axes>"
      ]
     },
     "metadata": {
      "needs_background": "light"
     },
     "output_type": "display_data"
    },
    {
     "name": "stdout",
     "output_type": "stream",
     "text": [
      "Accuracy: 0.89348 \n",
      "Precision: 0.92498 \n",
      "Recall: 0.82145 \n",
      "F-measure: 0.87015 \n"
     ]
    }
   ],
   "source": [
    "y_dos_prediction = kNN(X_dos_ss, y_dos).predict(X_dos_test_ss)\n",
    "plotConfusionMatrix(y_dos_prediction, y_dos_test, 1)"
   ]
  },
  {
   "cell_type": "markdown",
   "metadata": {},
   "source": [
    "#### K-fold cross validation on probe"
   ]
  },
  {
   "cell_type": "code",
   "execution_count": 13,
   "metadata": {},
   "outputs": [
    {
     "name": "stdout",
     "output_type": "stream",
     "text": [
      ">Train: 0=60593, 1=10506, Test: 0=6750, 1=1150\n",
      ">Train: 0=60590, 1=10509, Test: 0=6753, 1=1147\n",
      ">Train: 0=60636, 1=10463, Test: 0=6707, 1=1193\n",
      ">Train: 0=60669, 1=10430, Test: 0=6674, 1=1226\n",
      ">Train: 0=60629, 1=10470, Test: 0=6714, 1=1186\n",
      ">Train: 0=60576, 1=10523, Test: 0=6767, 1=1133\n",
      ">Train: 0=60547, 1=10552, Test: 0=6796, 1=1104\n",
      ">Train: 0=60628, 1=10471, Test: 0=6715, 1=1185\n",
      ">Train: 0=60592, 1=10507, Test: 0=6751, 1=1149\n",
      ">Train: 0=60627, 1=10473, Test: 0=6716, 1=1183\n"
     ]
    },
    {
     "data": {
      "text/plain": [
       "{'Mean Training Accuracy': 0.9969001012613123,\n",
       " 'Mean Training Precision': 0.9861126199322252,\n",
       " 'Mean Training Recall': 0.9929744185442131,\n",
       " 'Mean Training F1 Score': 0.9895315461060086,\n",
       " 'Mean Validation Accuracy': 0.9957720894008375,\n",
       " 'Mean Validation Precision': 0.9811153752621797,\n",
       " 'Mean Validation Recall': 0.9903565586362104,\n",
       " 'Mean Validation F1 Score': 0.9857059005856034}"
      ]
     },
     "execution_count": 13,
     "metadata": {},
     "output_type": "execute_result"
    }
   ],
   "source": [
    "KfoldCV(KNeighborsClassifier(), pd.DataFrame(X_probe), y_probe, 10, 2)"
   ]
  },
  {
   "cell_type": "markdown",
   "metadata": {},
   "source": [
    "#### K-fold cross validation on probe Standard Scaler"
   ]
  },
  {
   "cell_type": "code",
   "execution_count": 14,
   "metadata": {},
   "outputs": [
    {
     "name": "stdout",
     "output_type": "stream",
     "text": [
      ">Train: 0=60593, 1=10506, Test: 0=6750, 1=1150\n",
      ">Train: 0=60590, 1=10509, Test: 0=6753, 1=1147\n",
      ">Train: 0=60636, 1=10463, Test: 0=6707, 1=1193\n",
      ">Train: 0=60669, 1=10430, Test: 0=6674, 1=1226\n",
      ">Train: 0=60629, 1=10470, Test: 0=6714, 1=1186\n",
      ">Train: 0=60576, 1=10523, Test: 0=6767, 1=1133\n",
      ">Train: 0=60547, 1=10552, Test: 0=6796, 1=1104\n",
      ">Train: 0=60628, 1=10471, Test: 0=6715, 1=1185\n",
      ">Train: 0=60592, 1=10507, Test: 0=6751, 1=1149\n",
      ">Train: 0=60627, 1=10473, Test: 0=6716, 1=1183\n"
     ]
    },
    {
     "data": {
      "text/plain": [
       "{'Mean Training Accuracy': 0.997364242434565,\n",
       " 'Mean Training Precision': 0.9916115063665638,\n",
       " 'Mean Training Recall': 0.9905150284498184,\n",
       " 'Mean Training F1 Score': 0.9910627857393683,\n",
       " 'Mean Validation Accuracy': 0.9960632510764862,\n",
       " 'Mean Validation Precision': 0.9875087019727937,\n",
       " 'Mean Validation Recall': 0.9857081452714939,\n",
       " 'Mean Validation F1 Score': 0.9866010248310456}"
      ]
     },
     "execution_count": 14,
     "metadata": {},
     "output_type": "execute_result"
    }
   ],
   "source": [
    "KfoldCV(KNeighborsClassifier(), pd.DataFrame(X_probe_ss), y_probe, 10, 2)"
   ]
  },
  {
   "cell_type": "markdown",
   "metadata": {},
   "source": [
    "#### Stratified cross validation on probe"
   ]
  },
  {
   "cell_type": "code",
   "execution_count": 15,
   "metadata": {},
   "outputs": [
    {
     "name": "stdout",
     "output_type": "stream",
     "text": [
      ">Train: 0=60608, 1=10491, Test: 0=6735, 1=1165\n",
      ">Train: 0=60608, 1=10491, Test: 0=6735, 1=1165\n",
      ">Train: 0=60608, 1=10491, Test: 0=6735, 1=1165\n",
      ">Train: 0=60609, 1=10490, Test: 0=6734, 1=1166\n",
      ">Train: 0=60609, 1=10490, Test: 0=6734, 1=1166\n",
      ">Train: 0=60609, 1=10490, Test: 0=6734, 1=1166\n",
      ">Train: 0=60609, 1=10490, Test: 0=6734, 1=1166\n",
      ">Train: 0=60609, 1=10490, Test: 0=6734, 1=1166\n",
      ">Train: 0=60609, 1=10490, Test: 0=6734, 1=1166\n",
      ">Train: 0=60609, 1=10491, Test: 0=6734, 1=1165\n"
     ]
    },
    {
     "data": {
      "text/plain": [
       "{'Mean Training Accuracy': 0.9969001012613123,\n",
       " 'Mean Training Precision': 0.9861126640291177,\n",
       " 'Mean Training Recall': 0.9929745301683525,\n",
       " 'Mean Training F1 Score': 0.9895316237655697,\n",
       " 'Mean Validation Accuracy': 0.9957847476286854,\n",
       " 'Mean Validation Precision': 0.9812389141911799,\n",
       " 'Mean Validation Recall': 0.9903914192536754,\n",
       " 'Mean Validation F1 Score': 0.9857861045145266}"
      ]
     },
     "execution_count": 15,
     "metadata": {},
     "output_type": "execute_result"
    }
   ],
   "source": [
    "stratifiedCV(KNeighborsClassifier(), pd.DataFrame(X_probe), y_probe, 10, 2)"
   ]
  },
  {
   "cell_type": "markdown",
   "metadata": {},
   "source": [
    "#### Stratified cross validation on probe Standard Scaler"
   ]
  },
  {
   "cell_type": "code",
   "execution_count": 16,
   "metadata": {},
   "outputs": [
    {
     "name": "stdout",
     "output_type": "stream",
     "text": [
      ">Train: 0=60608, 1=10491, Test: 0=6735, 1=1165\n",
      ">Train: 0=60608, 1=10491, Test: 0=6735, 1=1165\n",
      ">Train: 0=60608, 1=10491, Test: 0=6735, 1=1165\n",
      ">Train: 0=60609, 1=10490, Test: 0=6734, 1=1166\n",
      ">Train: 0=60609, 1=10490, Test: 0=6734, 1=1166\n",
      ">Train: 0=60609, 1=10490, Test: 0=6734, 1=1166\n",
      ">Train: 0=60609, 1=10490, Test: 0=6734, 1=1166\n",
      ">Train: 0=60609, 1=10490, Test: 0=6734, 1=1166\n",
      ">Train: 0=60609, 1=10490, Test: 0=6734, 1=1166\n",
      ">Train: 0=60609, 1=10491, Test: 0=6734, 1=1165\n"
     ]
    },
    {
     "data": {
      "text/plain": [
       "{'Mean Training Accuracy': 0.9973628359450222,\n",
       " 'Mean Training Precision': 0.9916118785626363,\n",
       " 'Mean Training Recall': 0.9905056111012218,\n",
       " 'Mean Training F1 Score': 0.9910582935370427,\n",
       " 'Mean Validation Accuracy': 0.9960505928486381,\n",
       " 'Mean Validation Precision': 0.9875516108599506,\n",
       " 'Mean Validation Recall': 0.9856729657903841,\n",
       " 'Mean Validation F1 Score': 0.9866047901172535}"
      ]
     },
     "execution_count": 16,
     "metadata": {},
     "output_type": "execute_result"
    }
   ],
   "source": [
    "stratifiedCV(KNeighborsClassifier(), pd.DataFrame(X_probe_ss), y_probe, 10, 2)"
   ]
  },
  {
   "cell_type": "markdown",
   "metadata": {},
   "source": [
    "#### Predict on probe"
   ]
  },
  {
   "cell_type": "code",
   "execution_count": 17,
   "metadata": {},
   "outputs": [
    {
     "data": {
      "image/png": "[encoded data removed]",
      "text/plain": [
       "<Figure size 432x288 with 2 Axes>"
      ]
     },
     "metadata": {
      "needs_background": "light"
     },
     "output_type": "display_data"
    },
    {
     "name": "stdout",
     "output_type": "stream",
     "text": [
      "Accuracy: 0.91106 \n",
      "Precision: 0.87361 \n",
      "Recall: 0.64808 \n",
      "F-measure: 0.74413 \n"
     ]
    }
   ],
   "source": [
    "y_probe_prediction = kNN(X_probe, y_probe).predict(X_probe_test)\n",
    "plotConfusionMatrix(y_probe_prediction, y_probe_test, 2)"
   ]
  },
  {
   "cell_type": "code",
   "execution_count": 18,
   "metadata": {
    "colab": {
     "base_uri": "https://localhost:8080/",
     "height": 364
    },
    "executionInfo": {
     "elapsed": 6347,
     "status": "ok",
     "timestamp": 1675467170864,
     "user": {
      "displayName": "DANIELE PALMIERI",
      "userId": "13749636301499067245"
     },
     "user_tz": -60
    },
    "id": "h5WF5zwFi1Hp",
    "outputId": "d3e61c1d-fb82-4f4e-dbee-25386bf77bb7"
   },
   "outputs": [
    {
     "data": {
      "image/png": "[encoded data removed]",
      "text/plain": [
       "<Figure size 432x288 with 2 Axes>"
      ]
     },
     "metadata": {
      "needs_background": "light"
     },
     "output_type": "display_data"
    },
    {
     "name": "stdout",
     "output_type": "stream",
     "text": [
      "Accuracy: 0.89977 \n",
      "Precision: 0.86449 \n",
      "Recall: 0.59025 \n",
      "F-measure: 0.70152 \n"
     ]
    }
   ],
   "source": [
    "y_probe_prediction = kNN(X_probe_ss, y_probe).predict(X_probe_test_ss)\n",
    "plotConfusionMatrix(y_probe_prediction, y_probe_test, 2)"
   ]
  },
  {
   "cell_type": "markdown",
   "metadata": {},
   "source": [
    "#### K-fold cross validation on r2l"
   ]
  },
  {
   "cell_type": "code",
   "execution_count": 19,
   "metadata": {},
   "outputs": [
    {
     "name": "stdout",
     "output_type": "stream",
     "text": [
      ">Train: 0=60615, 1=889, Test: 0=6728, 1=106\n",
      ">Train: 0=60612, 1=892, Test: 0=6731, 1=103\n",
      ">Train: 0=60628, 1=876, Test: 0=6715, 1=119\n",
      ">Train: 0=60613, 1=891, Test: 0=6730, 1=104\n",
      ">Train: 0=60610, 1=894, Test: 0=6733, 1=101\n",
      ">Train: 0=60591, 1=913, Test: 0=6752, 1=82\n",
      ">Train: 0=60599, 1=905, Test: 0=6744, 1=90\n",
      ">Train: 0=60597, 1=907, Test: 0=6746, 1=88\n",
      ">Train: 0=60614, 1=891, Test: 0=6729, 1=104\n",
      ">Train: 0=60608, 1=897, Test: 0=6735, 1=98\n"
     ]
    },
    {
     "data": {
      "text/plain": [
       "{'Mean Training Accuracy': 0.998970802083847,\n",
       " 'Mean Training Precision': 0.9719873393135134,\n",
       " 'Mean Training Recall': 0.956894697198259,\n",
       " 'Mean Training F1 Score': 0.9643770399948549,\n",
       " 'Mean Validation Accuracy': 0.9985952354428645,\n",
       " 'Mean Validation Precision': 0.9568310348216151,\n",
       " 'Mean Validation Recall': 0.9471053204395808,\n",
       " 'Mean Validation F1 Score': 0.9518161095395637}"
      ]
     },
     "execution_count": 19,
     "metadata": {},
     "output_type": "execute_result"
    }
   ],
   "source": [
    "KfoldCV(KNeighborsClassifier(), pd.DataFrame(X_r2l), y_r2l, 10, 3)"
   ]
  },
  {
   "cell_type": "markdown",
   "metadata": {},
   "source": [
    "#### K-fold cross validation on r2l Standard Scaler"
   ]
  },
  {
   "cell_type": "code",
   "execution_count": 20,
   "metadata": {},
   "outputs": [
    {
     "name": "stdout",
     "output_type": "stream",
     "text": [
      ">Train: 0=60615, 1=889, Test: 0=6728, 1=106\n",
      ">Train: 0=60612, 1=892, Test: 0=6731, 1=103\n",
      ">Train: 0=60628, 1=876, Test: 0=6715, 1=119\n",
      ">Train: 0=60613, 1=891, Test: 0=6730, 1=104\n",
      ">Train: 0=60610, 1=894, Test: 0=6733, 1=101\n",
      ">Train: 0=60591, 1=913, Test: 0=6752, 1=82\n",
      ">Train: 0=60599, 1=905, Test: 0=6744, 1=90\n",
      ">Train: 0=60597, 1=907, Test: 0=6746, 1=88\n",
      ">Train: 0=60614, 1=891, Test: 0=6729, 1=104\n",
      ">Train: 0=60608, 1=897, Test: 0=6735, 1=98\n"
     ]
    },
    {
     "data": {
      "text/plain": [
       "{'Mean Training Accuracy': 0.9982131301918636,\n",
       " 'Mean Training Precision': 0.9407685567517126,\n",
       " 'Mean Training Recall': 0.9362137140134713,\n",
       " 'Mean Training F1 Score': 0.938469915501499,\n",
       " 'Mean Validation Accuracy': 0.997336759526718,\n",
       " 'Mean Validation Precision': 0.908639348526002,\n",
       " 'Mean Validation Recall': 0.9084174799575162,\n",
       " 'Mean Validation F1 Score': 0.9079658912170092}"
      ]
     },
     "execution_count": 20,
     "metadata": {},
     "output_type": "execute_result"
    }
   ],
   "source": [
    "KfoldCV(KNeighborsClassifier(), pd.DataFrame(X_r2l_ss), y_r2l, 10, 3)"
   ]
  },
  {
   "cell_type": "markdown",
   "metadata": {},
   "source": [
    "#### Stratified cross validation on r2l"
   ]
  },
  {
   "cell_type": "code",
   "execution_count": 21,
   "metadata": {},
   "outputs": [
    {
     "name": "stdout",
     "output_type": "stream",
     "text": [
      ">Train: 0=60608, 1=896, Test: 0=6735, 1=99\n",
      ">Train: 0=60608, 1=896, Test: 0=6735, 1=99\n",
      ">Train: 0=60608, 1=896, Test: 0=6735, 1=99\n",
      ">Train: 0=60609, 1=895, Test: 0=6734, 1=100\n",
      ">Train: 0=60609, 1=895, Test: 0=6734, 1=100\n",
      ">Train: 0=60609, 1=895, Test: 0=6734, 1=100\n",
      ">Train: 0=60609, 1=895, Test: 0=6734, 1=100\n",
      ">Train: 0=60609, 1=895, Test: 0=6734, 1=100\n",
      ">Train: 0=60609, 1=896, Test: 0=6734, 1=99\n",
      ">Train: 0=60609, 1=896, Test: 0=6734, 1=99\n"
     ]
    },
    {
     "data": {
      "text/plain": [
       "{'Mean Training Accuracy': 0.9989708021102824,\n",
       " 'Mean Training Precision': 0.971995754735592,\n",
       " 'Mean Training Recall': 0.9568957003192338,\n",
       " 'Mean Training F1 Score': 0.9643826891995875,\n",
       " 'Mean Validation Accuracy': 0.9985806048655835,\n",
       " 'Mean Validation Precision': 0.9558074461987924,\n",
       " 'Mean Validation Recall': 0.9467171717171716,\n",
       " 'Mean Validation F1 Score': 0.9510956762204156}"
      ]
     },
     "execution_count": 21,
     "metadata": {},
     "output_type": "execute_result"
    }
   ],
   "source": [
    "stratifiedCV(KNeighborsClassifier(), pd.DataFrame(X_r2l), y_r2l, 10, 3)"
   ]
  },
  {
   "cell_type": "markdown",
   "metadata": {},
   "source": [
    "#### Stratified cross validation on r2l Standard Scaler"
   ]
  },
  {
   "cell_type": "code",
   "execution_count": 22,
   "metadata": {},
   "outputs": [
    {
     "name": "stdout",
     "output_type": "stream",
     "text": [
      ">Train: 0=60608, 1=896, Test: 0=6735, 1=99\n",
      ">Train: 0=60608, 1=896, Test: 0=6735, 1=99\n",
      ">Train: 0=60608, 1=896, Test: 0=6735, 1=99\n",
      ">Train: 0=60609, 1=895, Test: 0=6734, 1=100\n",
      ">Train: 0=60609, 1=895, Test: 0=6734, 1=100\n",
      ">Train: 0=60609, 1=895, Test: 0=6734, 1=100\n",
      ">Train: 0=60609, 1=895, Test: 0=6734, 1=100\n",
      ">Train: 0=60609, 1=895, Test: 0=6734, 1=100\n",
      ">Train: 0=60609, 1=896, Test: 0=6734, 1=99\n",
      ">Train: 0=60609, 1=896, Test: 0=6734, 1=99\n"
     ]
    },
    {
     "data": {
      "text/plain": [
       "{'Mean Training Accuracy': 0.9982163820393188,\n",
       " 'Mean Training Precision': 0.9409010713109115,\n",
       " 'Mean Training Recall': 0.9363490123703112,\n",
       " 'Mean Training F1 Score': 0.938606548353748,\n",
       " 'Mean Validation Accuracy': 0.9972782329346371,\n",
       " 'Mean Validation Precision': 0.9065981775457974,\n",
       " 'Mean Validation Recall': 0.9075151515151514,\n",
       " 'Mean Validation F1 Score': 0.9066766297058738}"
      ]
     },
     "execution_count": 22,
     "metadata": {},
     "output_type": "execute_result"
    }
   ],
   "source": [
    "stratifiedCV(KNeighborsClassifier(), pd.DataFrame(X_r2l_ss), y_r2l, 10, 3)"
   ]
  },
  {
   "cell_type": "markdown",
   "metadata": {},
   "source": [
    "#### Predict on r2l"
   ]
  },
  {
   "cell_type": "code",
   "execution_count": 23,
   "metadata": {},
   "outputs": [
    {
     "data": {
      "image/png": "[encoded data removed]",
      "text/plain": [
       "<Figure size 432x288 with 2 Axes>"
      ]
     },
     "metadata": {
      "needs_background": "light"
     },
     "output_type": "display_data"
    },
    {
     "name": "stdout",
     "output_type": "stream",
     "text": [
      "Accuracy: 0.77080 \n",
      "Precision: 0.42857 \n",
      "Recall: 0.00208 \n",
      "F-measure: 0.00414 \n"
     ]
    }
   ],
   "source": [
    "y_r2l_prediction = kNN(X_r2l, y_r2l).predict(X_r2l_test)\n",
    "plotConfusionMatrix(y_r2l_prediction, y_r2l_test, 3)"
   ]
  },
  {
   "cell_type": "code",
   "execution_count": 24,
   "metadata": {
    "colab": {
     "base_uri": "https://localhost:8080/",
     "height": 419
    },
    "executionInfo": {
     "elapsed": 3386,
     "status": "ok",
     "timestamp": 1675467178041,
     "user": {
      "displayName": "DANIELE PALMIERI",
      "userId": "13749636301499067245"
     },
     "user_tz": -60
    },
    "id": "KLBJwuXKkuCS",
    "outputId": "c3a687db-515e-464c-ec9e-aa8e5da61089"
   },
   "outputs": [
    {
     "data": {
      "image/png": "[encoded data removed]",
      "text/plain": [
       "<Figure size 432x288 with 2 Axes>"
      ]
     },
     "metadata": {
      "needs_background": "light"
     },
     "output_type": "display_data"
    },
    {
     "name": "stdout",
     "output_type": "stream",
     "text": [
      "Accuracy: 0.77072 \n",
      "Precision: 0.36364 \n",
      "Recall: 0.00139 \n",
      "F-measure: 0.00276 \n"
     ]
    }
   ],
   "source": [
    "y_r2l_prediction = kNN(X_r2l_ss, y_r2l).predict(X_r2l_test_ss)\n",
    "plotConfusionMatrix(y_r2l_prediction, y_r2l_test, 3)"
   ]
  },
  {
   "cell_type": "markdown",
   "metadata": {},
   "source": [
    "#### K-fold cross validation on u2r"
   ]
  },
  {
   "cell_type": "code",
   "execution_count": 25,
   "metadata": {},
   "outputs": [
    {
     "name": "stdout",
     "output_type": "stream",
     "text": [
      ">Train: 0=60608, 1=47, Test: 0=6735, 1=5\n",
      ">Train: 0=60609, 1=46, Test: 0=6734, 1=6\n",
      ">Train: 0=60609, 1=46, Test: 0=6734, 1=6\n",
      ">Train: 0=60609, 1=46, Test: 0=6734, 1=6\n",
      ">Train: 0=60607, 1=48, Test: 0=6736, 1=4\n",
      ">Train: 0=60612, 1=44, Test: 0=6731, 1=8\n",
      ">Train: 0=60609, 1=47, Test: 0=6734, 1=5\n",
      ">Train: 0=60607, 1=49, Test: 0=6736, 1=3\n",
      ">Train: 0=60609, 1=47, Test: 0=6734, 1=5\n",
      ">Train: 0=60608, 1=48, Test: 0=6735, 1=4\n"
     ]
    },
    {
     "data": {
      "text/plain": [
       "{'Mean Training Accuracy': 0.9995614576320955,\n",
       " 'Mean Training Precision': 0.8891652512904387,\n",
       " 'Mean Training Recall': 0.4939643585127264,\n",
       " 'Mean Training F1 Score': 0.6338382241681825,\n",
       " 'Mean Validation Accuracy': 0.9994064819556476,\n",
       " 'Mean Validation Precision': 0.7583333333333334,\n",
       " 'Mean Validation Recall': 0.3516666666666667,\n",
       " 'Mean Validation F1 Score': 0.45071428571428573}"
      ]
     },
     "execution_count": 25,
     "metadata": {},
     "output_type": "execute_result"
    }
   ],
   "source": [
    "KfoldCV(KNeighborsClassifier(), pd.DataFrame(X_u2r), y_u2r, 10, 4)"
   ]
  },
  {
   "cell_type": "markdown",
   "metadata": {},
   "source": [
    "#### K-fold cross validation on u2r Standard Scaler"
   ]
  },
  {
   "cell_type": "code",
   "execution_count": 26,
   "metadata": {},
   "outputs": [
    {
     "name": "stdout",
     "output_type": "stream",
     "text": [
      ">Train: 0=60608, 1=47, Test: 0=6735, 1=5\n",
      ">Train: 0=60609, 1=46, Test: 0=6734, 1=6\n",
      ">Train: 0=60609, 1=46, Test: 0=6734, 1=6\n",
      ">Train: 0=60609, 1=46, Test: 0=6734, 1=6\n",
      ">Train: 0=60607, 1=48, Test: 0=6736, 1=4\n",
      ">Train: 0=60612, 1=44, Test: 0=6731, 1=8\n",
      ">Train: 0=60609, 1=47, Test: 0=6734, 1=5\n",
      ">Train: 0=60607, 1=49, Test: 0=6736, 1=3\n",
      ">Train: 0=60609, 1=47, Test: 0=6734, 1=5\n",
      ">Train: 0=60608, 1=48, Test: 0=6735, 1=4\n"
     ]
    },
    {
     "data": {
      "text/plain": [
       "{'Mean Training Accuracy': 0.9995268360242852,\n",
       " 'Mean Training Precision': 0.825545056476091,\n",
       " 'Mean Training Recall': 0.4914782953379822,\n",
       " 'Mean Training F1 Score': 0.6149557974617044,\n",
       " 'Mean Validation Accuracy': 0.9993619693682595,\n",
       " 'Mean Validation Precision': 0.6016666666666667,\n",
       " 'Mean Validation Recall': 0.3433333333333333,\n",
       " 'Mean Validation F1 Score': 0.4238311688311688}"
      ]
     },
     "execution_count": 26,
     "metadata": {},
     "output_type": "execute_result"
    }
   ],
   "source": [
    "KfoldCV(KNeighborsClassifier(), pd.DataFrame(X_u2r_ss), y_u2r, 10, 4)"
   ]
  },
  {
   "cell_type": "markdown",
   "metadata": {},
   "source": [
    "#### Stratified cross validation on u2r"
   ]
  },
  {
   "cell_type": "code",
   "execution_count": 27,
   "metadata": {},
   "outputs": [
    {
     "name": "stdout",
     "output_type": "stream",
     "text": [
      ">Train: 0=60608, 1=47, Test: 0=6735, 1=5\n",
      ">Train: 0=60608, 1=47, Test: 0=6735, 1=5\n",
      ">Train: 0=60608, 1=47, Test: 0=6735, 1=5\n",
      ">Train: 0=60609, 1=46, Test: 0=6734, 1=6\n",
      ">Train: 0=60609, 1=46, Test: 0=6734, 1=6\n",
      ">Train: 0=60609, 1=47, Test: 0=6734, 1=5\n",
      ">Train: 0=60609, 1=47, Test: 0=6734, 1=5\n",
      ">Train: 0=60609, 1=47, Test: 0=6734, 1=5\n",
      ">Train: 0=60609, 1=47, Test: 0=6734, 1=5\n",
      ">Train: 0=60609, 1=47, Test: 0=6734, 1=5\n"
     ]
    },
    {
     "data": {
      "text/plain": [
       "{'Mean Training Accuracy': 0.9995647549694956,\n",
       " 'Mean Training Precision': 0.8876690301802505,\n",
       " 'Mean Training Recall': 0.5,\n",
       " 'Mean Training F1 Score': 0.6378303158671671,\n",
       " 'Mean Validation Accuracy': 0.9994064819556477,\n",
       " 'Mean Validation Precision': 0.7583333333333334,\n",
       " 'Mean Validation Recall': 0.3266666666666667,\n",
       " 'Mean Validation F1 Score': 0.43238095238095237}"
      ]
     },
     "execution_count": 27,
     "metadata": {},
     "output_type": "execute_result"
    }
   ],
   "source": [
    "stratifiedCV(KNeighborsClassifier(), pd.DataFrame(X_u2r), y_u2r, 10, 4)"
   ]
  },
  {
   "cell_type": "markdown",
   "metadata": {},
   "source": [
    "#### Stratified cross validation on u2r Standard Scaler"
   ]
  },
  {
   "cell_type": "code",
   "execution_count": 28,
   "metadata": {},
   "outputs": [
    {
     "name": "stdout",
     "output_type": "stream",
     "text": [
      ">Train: 0=60608, 1=47, Test: 0=6735, 1=5\n",
      ">Train: 0=60608, 1=47, Test: 0=6735, 1=5\n",
      ">Train: 0=60608, 1=47, Test: 0=6735, 1=5\n",
      ">Train: 0=60609, 1=46, Test: 0=6734, 1=6\n",
      ">Train: 0=60609, 1=46, Test: 0=6734, 1=6\n",
      ">Train: 0=60609, 1=47, Test: 0=6734, 1=5\n",
      ">Train: 0=60609, 1=47, Test: 0=6734, 1=5\n",
      ">Train: 0=60609, 1=47, Test: 0=6734, 1=5\n",
      ">Train: 0=60609, 1=47, Test: 0=6734, 1=5\n",
      ">Train: 0=60609, 1=47, Test: 0=6734, 1=5\n"
     ]
    },
    {
     "data": {
      "text/plain": [
       "{'Mean Training Accuracy': 0.9995202414038464,\n",
       " 'Mean Training Precision': 0.817399284373797,\n",
       " 'Mean Training Recall': 0.4872340425531914,\n",
       " 'Mean Training F1 Score': 0.6088199487020564,\n",
       " 'Mean Validation Accuracy': 0.9993916429587637,\n",
       " 'Mean Validation Precision': 0.6766666666666666,\n",
       " 'Mean Validation Recall': 0.3433333333333334,\n",
       " 'Mean Validation F1 Score': 0.4376190476190477}"
      ]
     },
     "execution_count": 28,
     "metadata": {},
     "output_type": "execute_result"
    }
   ],
   "source": [
    "stratifiedCV(KNeighborsClassifier(), pd.DataFrame(X_u2r_ss), y_u2r, 10, 4)"
   ]
  },
  {
   "cell_type": "markdown",
   "metadata": {},
   "source": [
    "#### Predict on u2r"
   ]
  },
  {
   "cell_type": "code",
   "execution_count": 29,
   "metadata": {},
   "outputs": [
    {
     "data": {
      "image/png": "[encoded data removed]",
      "text/plain": [
       "<Figure size 432x288 with 2 Axes>"
      ]
     },
     "metadata": {
      "needs_background": "light"
     },
     "output_type": "display_data"
    },
    {
     "name": "stdout",
     "output_type": "stream",
     "text": [
      "Accuracy: 0.99397 \n",
      "Precision: 1.00000 \n",
      "Recall: 0.11940 \n",
      "F-measure: 0.21333 \n"
     ]
    }
   ],
   "source": [
    "y_u2r_prediction = kNN(X_u2r, y_u2r).predict(X_u2r_test)\n",
    "plotConfusionMatrix(y_u2r_prediction, y_u2r_test, 4)"
   ]
  },
  {
   "cell_type": "code",
   "execution_count": 30,
   "metadata": {
    "colab": {
     "base_uri": "https://localhost:8080/",
     "height": 364
    },
    "executionInfo": {
     "elapsed": 2602,
     "status": "ok",
     "timestamp": 1675467181725,
     "user": {
      "displayName": "DANIELE PALMIERI",
      "userId": "13749636301499067245"
     },
     "user_tz": -60
    },
    "id": "fBPk_5Rzk4tF",
    "outputId": "593a987a-9117-46af-b74d-090b5ef20e5a",
    "scrolled": true
   },
   "outputs": [
    {
     "data": {
      "image/png": "[encoded data removed]",
      "text/plain": [
       "<Figure size 432x288 with 2 Axes>"
      ]
     },
     "metadata": {
      "needs_background": "light"
     },
     "output_type": "display_data"
    },
    {
     "name": "stdout",
     "output_type": "stream",
     "text": [
      "Accuracy: 0.99438 \n",
      "Precision: 0.83333 \n",
      "Recall: 0.22388 \n",
      "F-measure: 0.35294 \n"
     ]
    }
   ],
   "source": [
    "y_u2r_prediction = kNN(X_u2r_ss, y_u2r).predict(X_u2r_test_ss)\n",
    "plotConfusionMatrix(y_u2r_prediction, y_u2r_test, 4)"
   ]
  },
  {
   "cell_type": "markdown",
   "metadata": {
    "id": "C2zvGxJ7lNn5"
   },
   "source": [
    "## Feature Selection"
   ]
  },
  {
   "cell_type": "code",
   "execution_count": 31,
   "metadata": {},
   "outputs": [],
   "source": [
    "\n",
    "X_dos_rfe, rfecolname_dos = recursiveFeatureExtraction(RandomForestClassifier(n_estimators=64,n_jobs=2), X_dos, y_dos, 13)\n",
    "X_probe_rfe, rfecolname_probe = recursiveFeatureExtraction(RandomForestClassifier(n_estimators=64,n_jobs=2), X_probe, y_probe, 13)\n",
    "X_r2l_rfe, rfecolname_r2l = recursiveFeatureExtraction(RandomForestClassifier(n_estimators=64,n_jobs=2), X_r2l, y_r2l, 13)\n",
    "X_u2r_rfe, rfecolname_u2r = recursiveFeatureExtraction(RandomForestClassifier(n_estimators=64,n_jobs=2), X_u2r, y_u2r, 13)\n",
    "\n",
    "X_dos_test_rfe=X_dos_test.values[:,rfecolname_dos]\n",
    "X_probe_test_rfe=X_probe_test.values[:,rfecolname_probe]\n",
    "X_r2l_test_rfe=X_r2l_test.values[:,rfecolname_r2l]\n",
    "X_u2r_test_rfe=X_u2r_test.values[:,rfecolname_u2r]"
   ]
  },
  {
   "cell_type": "code",
   "execution_count": 32,
   "metadata": {
    "id": "laARHIiBlSgF"
   },
   "outputs": [],
   "source": [
    "X_dos_rfe_ss, rfecolname_dosSS = recursiveFeatureExtraction(RandomForestClassifier(n_estimators=64,n_jobs=2), X_dos_ss, y_dos, 13)\n",
    "X_probe_rfe_ss, rfecolname_probeSS = recursiveFeatureExtraction(RandomForestClassifier(n_estimators=64,n_jobs=2), X_probe_ss, y_probe, 13)\n",
    "X_r2l_rfe_ss, rfecolname_r2lSS = recursiveFeatureExtraction(RandomForestClassifier(n_estimators=64,n_jobs=2), X_r2l_ss, y_r2l, 13)\n",
    "X_u2r_rfe_ss, rfecolname_u2rSS = recursiveFeatureExtraction(RandomForestClassifier(n_estimators=64,n_jobs=2), X_u2r_ss, y_u2r, 13)\n",
    "\n",
    "X_dos_test_rfe_ss=X_dos_test_ss[:,rfecolname_dosSS]\n",
    "X_probe_test_rfe_ss=X_probe_test_ss[:,rfecolname_probeSS]\n",
    "X_r2l_test_rfe_ss=X_r2l_test_ss[:,rfecolname_r2lSS]\n",
    "X_u2r_test_rfe_ss=X_u2r_test_ss[:,rfecolname_u2rSS]"
   ]
  },
  {
   "cell_type": "markdown",
   "metadata": {},
   "source": [
    "#### K-fold cross validation on dos"
   ]
  },
  {
   "cell_type": "code",
   "execution_count": 33,
   "metadata": {},
   "outputs": [
    {
     "name": "stdout",
     "output_type": "stream",
     "text": [
      ">Train: 0=60666, 1=41277, Test: 0=6677, 1=4650\n",
      ">Train: 0=60586, 1=41357, Test: 0=6757, 1=4570\n",
      ">Train: 0=60612, 1=41331, Test: 0=6731, 1=4596\n",
      ">Train: 0=60720, 1=41223, Test: 0=6623, 1=4704\n",
      ">Train: 0=60634, 1=41309, Test: 0=6709, 1=4618\n",
      ">Train: 0=60525, 1=41418, Test: 0=6818, 1=4509\n",
      ">Train: 0=60548, 1=41395, Test: 0=6795, 1=4532\n",
      ">Train: 0=60557, 1=41386, Test: 0=6786, 1=4541\n",
      ">Train: 0=60662, 1=41281, Test: 0=6681, 1=4646\n",
      ">Train: 0=60577, 1=41366, Test: 0=6766, 1=4561\n"
     ]
    },
    {
     "data": {
      "text/plain": [
       "{'Mean Training Accuracy': 0.9993888741747841,\n",
       " 'Mean Training Precision': 0.9993224691096272,\n",
       " 'Mean Training Recall': 0.9991701822713178,\n",
       " 'Mean Training F1 Score': 0.9992463174908783,\n",
       " 'Mean Validation Accuracy': 0.9991348106294694,\n",
       " 'Mean Validation Precision': 0.9989984141020314,\n",
       " 'Mean Validation Recall': 0.9988673925457332,\n",
       " 'Mean Validation F1 Score': 0.9989328796310369}"
      ]
     },
     "execution_count": 33,
     "metadata": {},
     "output_type": "execute_result"
    }
   ],
   "source": [
    "KfoldCV(KNeighborsClassifier(), pd.DataFrame(X_dos_rfe), y_dos, 10, 1)"
   ]
  },
  {
   "cell_type": "markdown",
   "metadata": {},
   "source": [
    "#### K-fold cross validation on dos Standard Scaler"
   ]
  },
  {
   "cell_type": "code",
   "execution_count": 34,
   "metadata": {},
   "outputs": [
    {
     "name": "stdout",
     "output_type": "stream",
     "text": [
      ">Train: 0=60666, 1=41277, Test: 0=6677, 1=4650\n",
      ">Train: 0=60586, 1=41357, Test: 0=6757, 1=4570\n",
      ">Train: 0=60612, 1=41331, Test: 0=6731, 1=4596\n",
      ">Train: 0=60720, 1=41223, Test: 0=6623, 1=4704\n",
      ">Train: 0=60634, 1=41309, Test: 0=6709, 1=4618\n",
      ">Train: 0=60525, 1=41418, Test: 0=6818, 1=4509\n",
      ">Train: 0=60548, 1=41395, Test: 0=6795, 1=4532\n",
      ">Train: 0=60557, 1=41386, Test: 0=6786, 1=4541\n",
      ">Train: 0=60662, 1=41281, Test: 0=6681, 1=4646\n",
      ">Train: 0=60577, 1=41366, Test: 0=6766, 1=4561\n"
     ]
    },
    {
     "data": {
      "text/plain": [
       "{'Mean Training Accuracy': 0.9976182768802175,\n",
       " 'Mean Training Precision': 0.9963328853321982,\n",
       " 'Mean Training Recall': 0.9977985178084111,\n",
       " 'Mean Training F1 Score': 0.9970651560605003,\n",
       " 'Mean Validation Accuracy': 0.9946852652953121,\n",
       " 'Mean Validation Precision': 0.9914911281970742,\n",
       " 'Mean Validation Recall': 0.9954449732888504,\n",
       " 'Mean Validation F1 Score': 0.9934627181741107}"
      ]
     },
     "execution_count": 34,
     "metadata": {},
     "output_type": "execute_result"
    }
   ],
   "source": [
    "KfoldCV(KNeighborsClassifier(), pd.DataFrame(X_dos_rfe_ss), y_dos, 10, 1)"
   ]
  },
  {
   "cell_type": "markdown",
   "metadata": {},
   "source": [
    "#### Stratified cross validation on dos"
   ]
  },
  {
   "cell_type": "code",
   "execution_count": 35,
   "metadata": {},
   "outputs": [
    {
     "name": "stdout",
     "output_type": "stream",
     "text": [
      ">Train: 0=60608, 1=41335, Test: 0=6735, 1=4592\n",
      ">Train: 0=60608, 1=41335, Test: 0=6735, 1=4592\n",
      ">Train: 0=60608, 1=41335, Test: 0=6735, 1=4592\n",
      ">Train: 0=60609, 1=41334, Test: 0=6734, 1=4593\n",
      ">Train: 0=60609, 1=41334, Test: 0=6734, 1=4593\n",
      ">Train: 0=60609, 1=41334, Test: 0=6734, 1=4593\n",
      ">Train: 0=60609, 1=41334, Test: 0=6734, 1=4593\n",
      ">Train: 0=60609, 1=41334, Test: 0=6734, 1=4593\n",
      ">Train: 0=60609, 1=41334, Test: 0=6734, 1=4593\n",
      ">Train: 0=60609, 1=41334, Test: 0=6734, 1=4593\n"
     ]
    },
    {
     "data": {
      "text/plain": [
       "{'Mean Training Accuracy': 0.9993898551151134,\n",
       " 'Mean Training Precision': 0.9993200866630007,\n",
       " 'Mean Training Recall': 0.9991750192762432,\n",
       " 'Mean Training F1 Score': 0.9992475442236808,\n",
       " 'Mean Validation Accuracy': 0.9991348106294694,\n",
       " 'Mean Validation Precision': 0.9989983478220473,\n",
       " 'Mean Validation Recall': 0.9988677522832428,\n",
       " 'Mean Validation F1 Score': 0.9989330239933096}"
      ]
     },
     "execution_count": 35,
     "metadata": {},
     "output_type": "execute_result"
    }
   ],
   "source": [
    "stratifiedCV(KNeighborsClassifier(), pd.DataFrame(X_dos_rfe), y_dos, 10, 1)"
   ]
  },
  {
   "cell_type": "markdown",
   "metadata": {},
   "source": [
    "#### Stratified cross validation on dos Standard Scaler"
   ]
  },
  {
   "cell_type": "code",
   "execution_count": 36,
   "metadata": {},
   "outputs": [
    {
     "name": "stdout",
     "output_type": "stream",
     "text": [
      ">Train: 0=60608, 1=41335, Test: 0=6735, 1=4592\n",
      ">Train: 0=60608, 1=41335, Test: 0=6735, 1=4592\n",
      ">Train: 0=60608, 1=41335, Test: 0=6735, 1=4592\n",
      ">Train: 0=60609, 1=41334, Test: 0=6734, 1=4593\n",
      ">Train: 0=60609, 1=41334, Test: 0=6734, 1=4593\n",
      ">Train: 0=60609, 1=41334, Test: 0=6734, 1=4593\n",
      ">Train: 0=60609, 1=41334, Test: 0=6734, 1=4593\n",
      ">Train: 0=60609, 1=41334, Test: 0=6734, 1=4593\n",
      ">Train: 0=60609, 1=41334, Test: 0=6734, 1=4593\n",
      ">Train: 0=60609, 1=41334, Test: 0=6734, 1=4593\n"
     ]
    },
    {
     "data": {
      "text/plain": [
       "{'Mean Training Accuracy': 0.9976172959398879,\n",
       " 'Mean Training Precision': 0.99632811636956,\n",
       " 'Mean Training Recall': 0.9978008581930983,\n",
       " 'Mean Training F1 Score': 0.9970639361570826,\n",
       " 'Mean Validation Accuracy': 0.9946764368323475,\n",
       " 'Mean Validation Precision': 0.9914809447189983,\n",
       " 'Mean Validation Recall': 0.9954275167635039,\n",
       " 'Mean Validation F1 Score': 0.9934485685843285}"
      ]
     },
     "execution_count": 36,
     "metadata": {},
     "output_type": "execute_result"
    }
   ],
   "source": [
    "stratifiedCV(KNeighborsClassifier(), pd.DataFrame(X_dos_rfe_ss), y_dos, 10, 1)"
   ]
  },
  {
   "cell_type": "markdown",
   "metadata": {},
   "source": [
    "#### Predict on dos"
   ]
  },
  {
   "cell_type": "code",
   "execution_count": 37,
   "metadata": {},
   "outputs": [
    {
     "data": {
      "image/png": "[encoded data removed]",
      "text/plain": [
       "<Figure size 432x288 with 2 Axes>"
      ]
     },
     "metadata": {
      "needs_background": "light"
     },
     "output_type": "display_data"
    },
    {
     "name": "stdout",
     "output_type": "stream",
     "text": [
      "Accuracy: 0.89016 \n",
      "Precision: 0.96967 \n",
      "Recall: 0.77131 \n",
      "F-measure: 0.85919 \n"
     ]
    }
   ],
   "source": [
    "y_dos_rfe_prediction = kNN(X_dos_rfe, y_dos).predict(X_dos_test_rfe)\n",
    "plotConfusionMatrix(y_dos_rfe_prediction, y_dos_test, 1)"
   ]
  },
  {
   "cell_type": "code",
   "execution_count": 38,
   "metadata": {
    "colab": {
     "base_uri": "https://localhost:8080/",
     "height": 364
    },
    "executionInfo": {
     "elapsed": 4170,
     "status": "ok",
     "timestamp": 1675471231881,
     "user": {
      "displayName": "DANIELE PALMIERI",
      "userId": "13749636301499067245"
     },
     "user_tz": -60
    },
    "id": "P129vp2Tozxi",
    "outputId": "cceeaf9d-b60d-4eb4-b12f-d1d172b15b39"
   },
   "outputs": [
    {
     "data": {
      "image/png": "[encoded data removed]",
      "text/plain": [
       "<Figure size 432x288 with 2 Axes>"
      ]
     },
     "metadata": {
      "needs_background": "light"
     },
     "output_type": "display_data"
    },
    {
     "name": "stdout",
     "output_type": "stream",
     "text": [
      "Accuracy: 0.85522 \n",
      "Precision: 0.91422 \n",
      "Recall: 0.73579 \n",
      "F-measure: 0.81536 \n"
     ]
    }
   ],
   "source": [
    "y_dos_rfe_prediction = kNN(X_dos_rfe_ss, y_dos).predict(X_dos_test_rfe_ss)\n",
    "plotConfusionMatrix(y_dos_rfe_prediction, y_dos_test, 1)"
   ]
  },
  {
   "cell_type": "markdown",
   "metadata": {},
   "source": [
    "#### K-fold cross validation on probe"
   ]
  },
  {
   "cell_type": "code",
   "execution_count": 39,
   "metadata": {},
   "outputs": [
    {
     "name": "stdout",
     "output_type": "stream",
     "text": [
      ">Train: 0=60593, 1=10506, Test: 0=6750, 1=1150\n",
      ">Train: 0=60590, 1=10509, Test: 0=6753, 1=1147\n",
      ">Train: 0=60636, 1=10463, Test: 0=6707, 1=1193\n",
      ">Train: 0=60669, 1=10430, Test: 0=6674, 1=1226\n",
      ">Train: 0=60629, 1=10470, Test: 0=6714, 1=1186\n",
      ">Train: 0=60576, 1=10523, Test: 0=6767, 1=1133\n",
      ">Train: 0=60547, 1=10552, Test: 0=6796, 1=1104\n",
      ">Train: 0=60628, 1=10471, Test: 0=6715, 1=1185\n",
      ">Train: 0=60592, 1=10507, Test: 0=6751, 1=1149\n",
      ">Train: 0=60627, 1=10473, Test: 0=6716, 1=1183\n"
     ]
    },
    {
     "data": {
      "text/plain": [
       "{'Mean Training Accuracy': 0.9971363911286394,\n",
       " 'Mean Training Precision': 0.9878964099323776,\n",
       " 'Mean Training Recall': 0.9927553263832747,\n",
       " 'Mean Training F1 Score': 0.9903197934572049,\n",
       " 'Mean Validation Accuracy': 0.9962404454337275,\n",
       " 'Mean Validation Precision': 0.9842315182054593,\n",
       " 'Mean Validation Recall': 0.9903502808034718,\n",
       " 'Mean Validation F1 Score': 0.9872749590450789}"
      ]
     },
     "execution_count": 39,
     "metadata": {},
     "output_type": "execute_result"
    }
   ],
   "source": [
    "KfoldCV(KNeighborsClassifier(), pd.DataFrame(X_probe_rfe), y_probe, 10, 2)"
   ]
  },
  {
   "cell_type": "markdown",
   "metadata": {},
   "source": [
    "#### K-fold cross validation on probe Standard Scaler"
   ]
  },
  {
   "cell_type": "code",
   "execution_count": 40,
   "metadata": {},
   "outputs": [
    {
     "name": "stdout",
     "output_type": "stream",
     "text": [
      ">Train: 0=60593, 1=10506, Test: 0=6750, 1=1150\n",
      ">Train: 0=60590, 1=10509, Test: 0=6753, 1=1147\n",
      ">Train: 0=60636, 1=10463, Test: 0=6707, 1=1193\n",
      ">Train: 0=60669, 1=10430, Test: 0=6674, 1=1226\n",
      ">Train: 0=60629, 1=10470, Test: 0=6714, 1=1186\n",
      ">Train: 0=60576, 1=10523, Test: 0=6767, 1=1133\n",
      ">Train: 0=60547, 1=10552, Test: 0=6796, 1=1104\n",
      ">Train: 0=60628, 1=10471, Test: 0=6715, 1=1185\n",
      ">Train: 0=60592, 1=10507, Test: 0=6751, 1=1149\n",
      ">Train: 0=60627, 1=10473, Test: 0=6716, 1=1183\n"
     ]
    },
    {
     "data": {
      "text/plain": [
       "{'Mean Training Accuracy': 0.9974556641163709,\n",
       " 'Mean Training Precision': 0.990914176062897,\n",
       " 'Mean Training Recall': 0.9918503854376333,\n",
       " 'Mean Training F1 Score': 0.9913819241156363,\n",
       " 'Mean Validation Accuracy': 0.9963290738612962,\n",
       " 'Mean Validation Precision': 0.9875652033770012,\n",
       " 'Mean Validation Recall': 0.9875055819782123,\n",
       " 'Mean Validation F1 Score': 0.9875230895982373}"
      ]
     },
     "execution_count": 40,
     "metadata": {},
     "output_type": "execute_result"
    }
   ],
   "source": [
    "KfoldCV(KNeighborsClassifier(), pd.DataFrame(X_probe_rfe_ss), y_probe, 10, 2)"
   ]
  },
  {
   "cell_type": "markdown",
   "metadata": {},
   "source": [
    "#### Stratified cross validation on probe"
   ]
  },
  {
   "cell_type": "code",
   "execution_count": 41,
   "metadata": {},
   "outputs": [
    {
     "name": "stdout",
     "output_type": "stream",
     "text": [
      ">Train: 0=60608, 1=10491, Test: 0=6735, 1=1165\n",
      ">Train: 0=60608, 1=10491, Test: 0=6735, 1=1165\n",
      ">Train: 0=60608, 1=10491, Test: 0=6735, 1=1165\n",
      ">Train: 0=60609, 1=10490, Test: 0=6734, 1=1166\n",
      ">Train: 0=60609, 1=10490, Test: 0=6734, 1=1166\n",
      ">Train: 0=60609, 1=10490, Test: 0=6734, 1=1166\n",
      ">Train: 0=60609, 1=10490, Test: 0=6734, 1=1166\n",
      ">Train: 0=60609, 1=10490, Test: 0=6734, 1=1166\n",
      ">Train: 0=60609, 1=10490, Test: 0=6734, 1=1166\n",
      ">Train: 0=60609, 1=10491, Test: 0=6734, 1=1165\n"
     ]
    },
    {
     "data": {
      "text/plain": [
       "{'Mean Training Accuracy': 0.9971377976181822,\n",
       " 'Mean Training Precision': 0.9878964621351216,\n",
       " 'Mean Training Recall': 0.9927648138915022,\n",
       " 'Mean Training F1 Score': 0.9903245496724796,\n",
       " 'Mean Validation Accuracy': 0.9962404454337275,\n",
       " 'Mean Validation Precision': 0.9842457548681656,\n",
       " 'Mean Validation Recall': 0.9903913456371145,\n",
       " 'Mean Validation F1 Score': 0.9873026302843048}"
      ]
     },
     "execution_count": 41,
     "metadata": {},
     "output_type": "execute_result"
    }
   ],
   "source": [
    "stratifiedCV(KNeighborsClassifier(), pd.DataFrame(X_probe_rfe), y_probe, 10, 2)"
   ]
  },
  {
   "cell_type": "markdown",
   "metadata": {},
   "source": [
    "#### Stratified cross validation on probe Standard Scaler"
   ]
  },
  {
   "cell_type": "code",
   "execution_count": 42,
   "metadata": {},
   "outputs": [
    {
     "name": "stdout",
     "output_type": "stream",
     "text": [
      ">Train: 0=60608, 1=10491, Test: 0=6735, 1=1165\n",
      ">Train: 0=60608, 1=10491, Test: 0=6735, 1=1165\n",
      ">Train: 0=60608, 1=10491, Test: 0=6735, 1=1165\n",
      ">Train: 0=60609, 1=10490, Test: 0=6734, 1=1166\n",
      ">Train: 0=60609, 1=10490, Test: 0=6734, 1=1166\n",
      ">Train: 0=60609, 1=10490, Test: 0=6734, 1=1166\n",
      ">Train: 0=60609, 1=10490, Test: 0=6734, 1=1166\n",
      ">Train: 0=60609, 1=10490, Test: 0=6734, 1=1166\n",
      ">Train: 0=60609, 1=10490, Test: 0=6734, 1=1166\n",
      ">Train: 0=60609, 1=10491, Test: 0=6734, 1=1165\n"
     ]
    },
    {
     "data": {
      "text/plain": [
       "{'Mean Training Accuracy': 0.9974556641163709,\n",
       " 'Mean Training Precision': 0.9909054491987149,\n",
       " 'Mean Training Recall': 0.9918592231082087,\n",
       " 'Mean Training F1 Score': 0.9913819770356456,\n",
       " 'Mean Validation Accuracy': 0.9963417320891444,\n",
       " 'Mean Validation Precision': 0.9875867204906237,\n",
       " 'Mean Validation Recall': 0.9876466257849368,\n",
       " 'Mean Validation F1 Score': 0.9876043205195548}"
      ]
     },
     "execution_count": 42,
     "metadata": {},
     "output_type": "execute_result"
    }
   ],
   "source": [
    "stratifiedCV(KNeighborsClassifier(), pd.DataFrame(X_probe_rfe_ss), y_probe, 10, 2)"
   ]
  },
  {
   "cell_type": "markdown",
   "metadata": {},
   "source": [
    "#### Predict on probe"
   ]
  },
  {
   "cell_type": "code",
   "execution_count": 43,
   "metadata": {},
   "outputs": [
    {
     "data": {
      "image/png": "[encoded data removed]",
      "text/plain": [
       "<Figure size 432x288 with 2 Axes>"
      ]
     },
     "metadata": {
      "needs_background": "light"
     },
     "output_type": "display_data"
    },
    {
     "name": "stdout",
     "output_type": "stream",
     "text": [
      "Accuracy: 0.90966 \n",
      "Precision: 0.87836 \n",
      "Recall: 0.63527 \n",
      "F-measure: 0.73730 \n"
     ]
    }
   ],
   "source": [
    "y_probe_rfe_prediction = kNN(X_probe_rfe, y_probe).predict(X_probe_test_rfe)\n",
    "plotConfusionMatrix(y_probe_rfe_prediction, y_probe_test, 2)"
   ]
  },
  {
   "cell_type": "code",
   "execution_count": 44,
   "metadata": {
    "colab": {
     "base_uri": "https://localhost:8080/",
     "height": 364
    },
    "executionInfo": {
     "elapsed": 3354,
     "status": "ok",
     "timestamp": 1675471319408,
     "user": {
      "displayName": "DANIELE PALMIERI",
      "userId": "13749636301499067245"
     },
     "user_tz": -60
    },
    "id": "IDuGeKkT3obg",
    "outputId": "1b7effe6-8a53-406c-f0ab-e662f7462118"
   },
   "outputs": [
    {
     "data": {
      "image/png": "[encoded data removed]",
      "text/plain": [
       "<Figure size 432x288 with 2 Axes>"
      ]
     },
     "metadata": {
      "needs_background": "light"
     },
     "output_type": "display_data"
    },
    {
     "name": "stdout",
     "output_type": "stream",
     "text": [
      "Accuracy: 0.88444 \n",
      "Precision: 0.85956 \n",
      "Recall: 0.50310 \n",
      "F-measure: 0.63471 \n"
     ]
    }
   ],
   "source": [
    "y_probe_rfe_prediction = kNN(X_probe_rfe_ss, y_probe).predict(X_probe_test_rfe_ss)\n",
    "plotConfusionMatrix(y_probe_rfe_prediction, y_probe_test, 2)"
   ]
  },
  {
   "cell_type": "markdown",
   "metadata": {},
   "source": [
    "#### K-fold cross validation on r2l"
   ]
  },
  {
   "cell_type": "code",
   "execution_count": 45,
   "metadata": {},
   "outputs": [
    {
     "name": "stdout",
     "output_type": "stream",
     "text": [
      ">Train: 0=60615, 1=889, Test: 0=6728, 1=106\n",
      ">Train: 0=60612, 1=892, Test: 0=6731, 1=103\n",
      ">Train: 0=60628, 1=876, Test: 0=6715, 1=119\n",
      ">Train: 0=60613, 1=891, Test: 0=6730, 1=104\n",
      ">Train: 0=60610, 1=894, Test: 0=6733, 1=101\n",
      ">Train: 0=60591, 1=913, Test: 0=6752, 1=82\n",
      ">Train: 0=60599, 1=905, Test: 0=6744, 1=90\n",
      ">Train: 0=60597, 1=907, Test: 0=6746, 1=88\n",
      ">Train: 0=60614, 1=891, Test: 0=6729, 1=104\n",
      ">Train: 0=60608, 1=897, Test: 0=6735, 1=98\n"
     ]
    },
    {
     "data": {
      "text/plain": [
       "{'Mean Training Accuracy': 0.998970802083847,\n",
       " 'Mean Training Precision': 0.9719873393135134,\n",
       " 'Mean Training Recall': 0.956894697198259,\n",
       " 'Mean Training F1 Score': 0.9643770399948549,\n",
       " 'Mean Validation Accuracy': 0.9985952354428645,\n",
       " 'Mean Validation Precision': 0.9568310348216151,\n",
       " 'Mean Validation Recall': 0.9471053204395808,\n",
       " 'Mean Validation F1 Score': 0.9518161095395637}"
      ]
     },
     "execution_count": 45,
     "metadata": {},
     "output_type": "execute_result"
    }
   ],
   "source": [
    "KfoldCV(KNeighborsClassifier(), pd.DataFrame(X_r2l_rfe), y_r2l, 10, 3)"
   ]
  },
  {
   "cell_type": "markdown",
   "metadata": {},
   "source": [
    "#### K-fold cross validation on r2l Standard Scaler"
   ]
  },
  {
   "cell_type": "code",
   "execution_count": 46,
   "metadata": {},
   "outputs": [
    {
     "name": "stdout",
     "output_type": "stream",
     "text": [
      ">Train: 0=60615, 1=889, Test: 0=6728, 1=106\n",
      ">Train: 0=60612, 1=892, Test: 0=6731, 1=103\n",
      ">Train: 0=60628, 1=876, Test: 0=6715, 1=119\n",
      ">Train: 0=60613, 1=891, Test: 0=6730, 1=104\n",
      ">Train: 0=60610, 1=894, Test: 0=6733, 1=101\n",
      ">Train: 0=60591, 1=913, Test: 0=6752, 1=82\n",
      ">Train: 0=60599, 1=905, Test: 0=6744, 1=90\n",
      ">Train: 0=60597, 1=907, Test: 0=6746, 1=88\n",
      ">Train: 0=60614, 1=891, Test: 0=6729, 1=104\n",
      ">Train: 0=60608, 1=897, Test: 0=6735, 1=98\n"
     ]
    },
    {
     "data": {
      "text/plain": [
       "{'Mean Training Accuracy': 0.9980879355848755,\n",
       " 'Mean Training Precision': 0.9370546088948973,\n",
       " 'Mean Training Recall': 0.9311915944583424,\n",
       " 'Mean Training F1 Score': 0.934110507728728,\n",
       " 'Mean Validation Accuracy': 0.9970148568458403,\n",
       " 'Mean Validation Precision': 0.9019181057364992,\n",
       " 'Mean Validation Recall': 0.891763002337617,\n",
       " 'Mean Validation F1 Score': 0.896373418905377}"
      ]
     },
     "execution_count": 46,
     "metadata": {},
     "output_type": "execute_result"
    }
   ],
   "source": [
    "KfoldCV(KNeighborsClassifier(), pd.DataFrame(X_r2l_rfe_ss), y_r2l, 10, 3)"
   ]
  },
  {
   "cell_type": "markdown",
   "metadata": {},
   "source": [
    "#### Stratified cross validation on r2l"
   ]
  },
  {
   "cell_type": "code",
   "execution_count": 47,
   "metadata": {},
   "outputs": [
    {
     "name": "stdout",
     "output_type": "stream",
     "text": [
      ">Train: 0=60608, 1=896, Test: 0=6735, 1=99\n",
      ">Train: 0=60608, 1=896, Test: 0=6735, 1=99\n",
      ">Train: 0=60608, 1=896, Test: 0=6735, 1=99\n",
      ">Train: 0=60609, 1=895, Test: 0=6734, 1=100\n",
      ">Train: 0=60609, 1=895, Test: 0=6734, 1=100\n",
      ">Train: 0=60609, 1=895, Test: 0=6734, 1=100\n",
      ">Train: 0=60609, 1=895, Test: 0=6734, 1=100\n",
      ">Train: 0=60609, 1=895, Test: 0=6734, 1=100\n",
      ">Train: 0=60609, 1=896, Test: 0=6734, 1=99\n",
      ">Train: 0=60609, 1=896, Test: 0=6734, 1=99\n"
     ]
    },
    {
     "data": {
      "text/plain": [
       "{'Mean Training Accuracy': 0.9989691761997725,\n",
       " 'Mean Training Precision': 0.9719924313723484,\n",
       " 'Mean Training Recall': 0.9567839684756583,\n",
       " 'Mean Training F1 Score': 0.9643245199213034,\n",
       " 'Mean Validation Accuracy': 0.9985806048655835,\n",
       " 'Mean Validation Precision': 0.9558074461987924,\n",
       " 'Mean Validation Recall': 0.9467171717171716,\n",
       " 'Mean Validation F1 Score': 0.9510956762204156}"
      ]
     },
     "execution_count": 47,
     "metadata": {},
     "output_type": "execute_result"
    }
   ],
   "source": [
    "stratifiedCV(KNeighborsClassifier(), pd.DataFrame(X_r2l_rfe), y_r2l, 10, 3)"
   ]
  },
  {
   "cell_type": "markdown",
   "metadata": {},
   "source": [
    "#### Stratified cross validation on r2l Standard Scaler"
   ]
  },
  {
   "cell_type": "code",
   "execution_count": 48,
   "metadata": {},
   "outputs": [
    {
     "name": "stdout",
     "output_type": "stream",
     "text": [
      ">Train: 0=60608, 1=896, Test: 0=6735, 1=99\n",
      ">Train: 0=60608, 1=896, Test: 0=6735, 1=99\n",
      ">Train: 0=60608, 1=896, Test: 0=6735, 1=99\n",
      ">Train: 0=60609, 1=895, Test: 0=6734, 1=100\n",
      ">Train: 0=60609, 1=895, Test: 0=6734, 1=100\n",
      ">Train: 0=60609, 1=895, Test: 0=6734, 1=100\n",
      ">Train: 0=60609, 1=895, Test: 0=6734, 1=100\n",
      ">Train: 0=60609, 1=895, Test: 0=6734, 1=100\n",
      ">Train: 0=60609, 1=896, Test: 0=6734, 1=99\n",
      ">Train: 0=60609, 1=896, Test: 0=6734, 1=99\n"
     ]
    },
    {
     "data": {
      "text/plain": [
       "{'Mean Training Accuracy': 0.9980928133692757,\n",
       " 'Mean Training Precision': 0.9370069891216952,\n",
       " 'Mean Training Recall': 0.9316591430566639,\n",
       " 'Mean Training F1 Score': 0.9343208283263207,\n",
       " 'Mean Validation Accuracy': 0.9970294938475552,\n",
       " 'Mean Validation Precision': 0.90163998807851,\n",
       " 'Mean Validation Recall': 0.8935252525252526,\n",
       " 'Mean Validation F1 Score': 0.8973438798315125}"
      ]
     },
     "execution_count": 48,
     "metadata": {},
     "output_type": "execute_result"
    }
   ],
   "source": [
    "stratifiedCV(KNeighborsClassifier(), pd.DataFrame(X_r2l_rfe_ss), y_r2l, 10, 3)"
   ]
  },
  {
   "cell_type": "markdown",
   "metadata": {},
   "source": [
    "#### Predict on r2l"
   ]
  },
  {
   "cell_type": "code",
   "execution_count": 49,
   "metadata": {},
   "outputs": [
    {
     "data": {
      "image/png": "[encoded data removed]",
      "text/plain": [
       "<Figure size 432x288 with 2 Axes>"
      ]
     },
     "metadata": {
      "needs_background": "light"
     },
     "output_type": "display_data"
    },
    {
     "name": "stdout",
     "output_type": "stream",
     "text": [
      "Accuracy: 0.77080 \n",
      "Precision: 0.42857 \n",
      "Recall: 0.00208 \n",
      "F-measure: 0.00414 \n"
     ]
    }
   ],
   "source": [
    "y_r2l_rfe_prediction = kNN(X_r2l_rfe, y_r2l).predict(X_r2l_test_rfe)\n",
    "plotConfusionMatrix(y_r2l_rfe_prediction, y_r2l_test, 3)"
   ]
  },
  {
   "cell_type": "code",
   "execution_count": 50,
   "metadata": {
    "colab": {
     "base_uri": "https://localhost:8080/",
     "height": 419
    },
    "executionInfo": {
     "elapsed": 3406,
     "status": "ok",
     "timestamp": 1675471386339,
     "user": {
      "displayName": "DANIELE PALMIERI",
      "userId": "13749636301499067245"
     },
     "user_tz": -60
    },
    "id": "3-sZ9eu1359i",
    "outputId": "399643ed-eb97-48dc-ee88-8678324604db",
    "scrolled": false
   },
   "outputs": [
    {
     "data": {
      "image/png": "[encoded data removed]",
      "text/plain": [
       "<Figure size 432x288 with 2 Axes>"
      ]
     },
     "metadata": {
      "needs_background": "light"
     },
     "output_type": "display_data"
    },
    {
     "name": "stdout",
     "output_type": "stream",
     "text": [
      "Accuracy: 0.77167 \n",
      "Precision: 0.76471 \n",
      "Recall: 0.00451 \n",
      "F-measure: 0.00896 \n"
     ]
    }
   ],
   "source": [
    "y_r2l_rfe_prediction = kNN(X_r2l_rfe_ss, y_r2l).predict(X_r2l_test_rfe_ss)\n",
    "plotConfusionMatrix(y_r2l_rfe_prediction, y_r2l_test, 3)"
   ]
  },
  {
   "cell_type": "markdown",
   "metadata": {},
   "source": [
    "#### K-fold cross validation on u2r"
   ]
  },
  {
   "cell_type": "code",
   "execution_count": 51,
   "metadata": {},
   "outputs": [
    {
     "name": "stdout",
     "output_type": "stream",
     "text": [
      ">Train: 0=60608, 1=47, Test: 0=6735, 1=5\n",
      ">Train: 0=60609, 1=46, Test: 0=6734, 1=6\n",
      ">Train: 0=60609, 1=46, Test: 0=6734, 1=6\n",
      ">Train: 0=60609, 1=46, Test: 0=6734, 1=6\n",
      ">Train: 0=60607, 1=48, Test: 0=6736, 1=4\n",
      ">Train: 0=60612, 1=44, Test: 0=6731, 1=8\n",
      ">Train: 0=60609, 1=47, Test: 0=6734, 1=5\n",
      ">Train: 0=60607, 1=49, Test: 0=6736, 1=3\n",
      ">Train: 0=60609, 1=47, Test: 0=6734, 1=5\n",
      ">Train: 0=60608, 1=48, Test: 0=6735, 1=4\n"
     ]
    },
    {
     "data": {
      "text/plain": [
       "{'Mean Training Accuracy': 0.9995614576320955,\n",
       " 'Mean Training Precision': 0.8891652512904387,\n",
       " 'Mean Training Recall': 0.4939643585127264,\n",
       " 'Mean Training F1 Score': 0.6338382241681825,\n",
       " 'Mean Validation Accuracy': 0.9994064819556476,\n",
       " 'Mean Validation Precision': 0.7583333333333334,\n",
       " 'Mean Validation Recall': 0.3516666666666667,\n",
       " 'Mean Validation F1 Score': 0.45071428571428573}"
      ]
     },
     "execution_count": 51,
     "metadata": {},
     "output_type": "execute_result"
    }
   ],
   "source": [
    "KfoldCV(KNeighborsClassifier(), pd.DataFrame(X_u2r_rfe), y_u2r, 10, 4)"
   ]
  },
  {
   "cell_type": "markdown",
   "metadata": {},
   "source": [
    "#### K-fold cross validation on u2r Standard Scaler"
   ]
  },
  {
   "cell_type": "code",
   "execution_count": 52,
   "metadata": {
    "scrolled": true
   },
   "outputs": [
    {
     "name": "stdout",
     "output_type": "stream",
     "text": [
      ">Train: 0=60608, 1=47, Test: 0=6735, 1=5\n",
      ">Train: 0=60609, 1=46, Test: 0=6734, 1=6\n",
      ">Train: 0=60609, 1=46, Test: 0=6734, 1=6\n",
      ">Train: 0=60609, 1=46, Test: 0=6734, 1=6\n",
      ">Train: 0=60607, 1=48, Test: 0=6736, 1=4\n",
      ">Train: 0=60612, 1=44, Test: 0=6731, 1=8\n",
      ">Train: 0=60609, 1=47, Test: 0=6734, 1=5\n",
      ">Train: 0=60607, 1=49, Test: 0=6736, 1=3\n",
      ">Train: 0=60609, 1=47, Test: 0=6734, 1=5\n",
      ">Train: 0=60608, 1=48, Test: 0=6735, 1=4\n"
     ]
    },
    {
     "data": {
      "text/plain": [
       "{'Mean Training Accuracy': 0.9996092687797706,\n",
       " 'Mean Training Precision': 0.853600076394194,\n",
       " 'Mean Training Recall': 0.5983243272079668,\n",
       " 'Mean Training F1 Score': 0.7026354800753364,\n",
       " 'Mean Validation Accuracy': 0.9994361643526786,\n",
       " 'Mean Validation Precision': 0.6966666666666668,\n",
       " 'Mean Validation Recall': 0.4991666666666667,\n",
       " 'Mean Validation F1 Score': 0.5723631923631923}"
      ]
     },
     "execution_count": 52,
     "metadata": {},
     "output_type": "execute_result"
    }
   ],
   "source": [
    "KfoldCV(KNeighborsClassifier(), pd.DataFrame(X_u2r_rfe_ss), y_u2r, 10, 4)"
   ]
  },
  {
   "cell_type": "markdown",
   "metadata": {},
   "source": [
    "#### Stratified cross validation on u2r"
   ]
  },
  {
   "cell_type": "code",
   "execution_count": 53,
   "metadata": {},
   "outputs": [
    {
     "name": "stdout",
     "output_type": "stream",
     "text": [
      ">Train: 0=60608, 1=47, Test: 0=6735, 1=5\n",
      ">Train: 0=60608, 1=47, Test: 0=6735, 1=5\n",
      ">Train: 0=60608, 1=47, Test: 0=6735, 1=5\n",
      ">Train: 0=60609, 1=46, Test: 0=6734, 1=6\n",
      ">Train: 0=60609, 1=46, Test: 0=6734, 1=6\n",
      ">Train: 0=60609, 1=47, Test: 0=6734, 1=5\n",
      ">Train: 0=60609, 1=47, Test: 0=6734, 1=5\n",
      ">Train: 0=60609, 1=47, Test: 0=6734, 1=5\n",
      ">Train: 0=60609, 1=47, Test: 0=6734, 1=5\n",
      ">Train: 0=60609, 1=47, Test: 0=6734, 1=5\n"
     ]
    },
    {
     "data": {
      "text/plain": [
       "{'Mean Training Accuracy': 0.9995647549694956,\n",
       " 'Mean Training Precision': 0.8876690301802505,\n",
       " 'Mean Training Recall': 0.5,\n",
       " 'Mean Training F1 Score': 0.6378303158671671,\n",
       " 'Mean Validation Accuracy': 0.9994064819556477,\n",
       " 'Mean Validation Precision': 0.7583333333333334,\n",
       " 'Mean Validation Recall': 0.3266666666666667,\n",
       " 'Mean Validation F1 Score': 0.43238095238095237}"
      ]
     },
     "execution_count": 53,
     "metadata": {},
     "output_type": "execute_result"
    }
   ],
   "source": [
    "stratifiedCV(KNeighborsClassifier(), pd.DataFrame(X_u2r_rfe), y_u2r, 10, 4)"
   ]
  },
  {
   "cell_type": "markdown",
   "metadata": {},
   "source": [
    "#### Stratified cross validation on u2r Standard Scaler"
   ]
  },
  {
   "cell_type": "code",
   "execution_count": 54,
   "metadata": {},
   "outputs": [
    {
     "name": "stdout",
     "output_type": "stream",
     "text": [
      ">Train: 0=60608, 1=47, Test: 0=6735, 1=5\n",
      ">Train: 0=60608, 1=47, Test: 0=6735, 1=5\n",
      ">Train: 0=60608, 1=47, Test: 0=6735, 1=5\n",
      ">Train: 0=60609, 1=46, Test: 0=6734, 1=6\n",
      ">Train: 0=60609, 1=46, Test: 0=6734, 1=6\n",
      ">Train: 0=60609, 1=47, Test: 0=6734, 1=5\n",
      ">Train: 0=60609, 1=47, Test: 0=6734, 1=5\n",
      ">Train: 0=60609, 1=47, Test: 0=6734, 1=5\n",
      ">Train: 0=60609, 1=47, Test: 0=6734, 1=5\n",
      ">Train: 0=60609, 1=47, Test: 0=6734, 1=5\n"
     ]
    },
    {
     "data": {
      "text/plain": [
       "{'Mean Training Accuracy': 0.999602674213693,\n",
       " 'Mean Training Precision': 0.8521666289463843,\n",
       " 'Mean Training Recall': 0.5897779833487511,\n",
       " 'Mean Training F1 Score': 0.6960870740299495,\n",
       " 'Mean Validation Accuracy': 0.9994510033495624,\n",
       " 'Mean Validation Precision': 0.7547619047619049,\n",
       " 'Mean Validation Recall': 0.4766666666666667,\n",
       " 'Mean Validation F1 Score': 0.5601770451770451}"
      ]
     },
     "execution_count": 54,
     "metadata": {},
     "output_type": "execute_result"
    }
   ],
   "source": [
    "stratifiedCV(KNeighborsClassifier(), pd.DataFrame(X_u2r_rfe_ss), y_u2r, 10, 4)"
   ]
  },
  {
   "cell_type": "markdown",
   "metadata": {},
   "source": [
    "#### Predict on u2r"
   ]
  },
  {
   "cell_type": "code",
   "execution_count": 55,
   "metadata": {},
   "outputs": [
    {
     "data": {
      "image/png": "[encoded data removed]",
      "text/plain": [
       "<Figure size 432x288 with 2 Axes>"
      ]
     },
     "metadata": {
      "needs_background": "light"
     },
     "output_type": "display_data"
    },
    {
     "name": "stdout",
     "output_type": "stream",
     "text": [
      "Accuracy: 0.99397 \n",
      "Precision: 1.00000 \n",
      "Recall: 0.11940 \n",
      "F-measure: 0.21333 \n"
     ]
    }
   ],
   "source": [
    "y_u2r_rfe_prediction = kNN(X_u2r_rfe, y_u2r).predict(X_u2r_test_rfe)\n",
    "plotConfusionMatrix(y_u2r_rfe_prediction, y_u2r_test, 4)"
   ]
  },
  {
   "cell_type": "code",
   "execution_count": 56,
   "metadata": {
    "colab": {
     "base_uri": "https://localhost:8080/",
     "height": 364
    },
    "executionInfo": {
     "elapsed": 2396,
     "status": "ok",
     "timestamp": 1675471440250,
     "user": {
      "displayName": "DANIELE PALMIERI",
      "userId": "13749636301499067245"
     },
     "user_tz": -60
    },
    "id": "KONNFtt04Izj",
    "outputId": "a919864e-f8fe-49d4-db1a-02a271cac0f7",
    "scrolled": true
   },
   "outputs": [
    {
     "data": {
      "image/png": "[encoded data removed]",
      "text/plain": [
       "<Figure size 432x288 with 2 Axes>"
      ]
     },
     "metadata": {
      "needs_background": "light"
     },
     "output_type": "display_data"
    },
    {
     "name": "stdout",
     "output_type": "stream",
     "text": [
      "Accuracy: 0.99386 \n",
      "Precision: 0.76923 \n",
      "Recall: 0.14925 \n",
      "F-measure: 0.25000 \n"
     ]
    }
   ],
   "source": [
    "y_u2r_rfe_prediction = kNN(X_u2r_rfe_ss, y_u2r).predict(X_u2r_test_rfe_ss)\n",
    "plotConfusionMatrix(y_u2r_rfe_prediction, y_u2r_test, 4)"
   ]
  },
  {
   "cell_type": "markdown",
   "metadata": {},
   "source": [
    "## Binary dataset no feature selection"
   ]
  },
  {
   "cell_type": "code",
   "execution_count": 57,
   "metadata": {
    "scrolled": true
   },
   "outputs": [
    {
     "data": {
      "image/png": "[encoded data removed]",
      "text/plain": [
       "<Figure size 720x360 with 1 Axes>"
      ]
     },
     "metadata": {
      "needs_background": "light"
     },
     "output_type": "display_data"
    }
   ],
   "source": [
    "reducedDf = getReducedDf()\n",
    "reducedDf_test = getReducedDfTest()\n",
    "\n",
    "reducedDf['label'], reducedDf_test['label'] = prepareBinary()\n",
    "plotDf(reducedDf['label'])\n",
    "\n",
    "x_df, y_df = getXandY(reducedDf)\n",
    "x_df_test, y_df_test = getXandY(reducedDf_test)\n",
    "\n",
    "x_df_ss = standardScaler(x_df)\n",
    "x_df_test_ss = standardScaler(x_df_test)"
   ]
  },
  {
   "cell_type": "markdown",
   "metadata": {},
   "source": [
    "#### K-fold cross validation"
   ]
  },
  {
   "cell_type": "code",
   "execution_count": 58,
   "metadata": {
    "scrolled": true
   },
   "outputs": [
    {
     "name": "stdout",
     "output_type": "stream",
     "text": [
      ">Train: 0=60653, 1=52722, Test: 0=6690, 1=5908\n",
      ">Train: 0=60581, 1=52794, Test: 0=6762, 1=5836\n",
      ">Train: 0=60638, 1=52737, Test: 0=6705, 1=5893\n",
      ">Train: 0=60750, 1=52626, Test: 0=6593, 1=6004\n",
      ">Train: 0=60645, 1=52731, Test: 0=6698, 1=5899\n",
      ">Train: 0=60505, 1=52871, Test: 0=6838, 1=5759\n",
      ">Train: 0=60507, 1=52869, Test: 0=6836, 1=5761\n",
      ">Train: 0=60570, 1=52806, Test: 0=6773, 1=5824\n",
      ">Train: 0=60650, 1=52726, Test: 0=6693, 1=5904\n",
      ">Train: 0=60588, 1=52788, Test: 0=6755, 1=5842\n"
     ]
    },
    {
     "data": {
      "text/plain": [
       "{'Mean Training Accuracy': 0.9967585647242678,\n",
       " 'Mean Training Precision': 0.9957688443545658,\n",
       " 'Mean Training Recall': 0.9972728860246773,\n",
       " 'Mean Training F1 Score': 0.9965202940854183,\n",
       " 'Mean Validation Accuracy': 0.9955863615977734,\n",
       " 'Mean Validation Precision': 0.9942778903050751,\n",
       " 'Mean Validation Recall': 0.9962458005008689,\n",
       " 'Mean Validation F1 Score': 0.9952606578489126}"
      ]
     },
     "execution_count": 58,
     "metadata": {},
     "output_type": "execute_result"
    }
   ],
   "source": [
    "KfoldCV(KNeighborsClassifier(), pd.DataFrame(x_df), y_df, 10, 1)"
   ]
  },
  {
   "cell_type": "markdown",
   "metadata": {},
   "source": [
    "#### K-fold cross validation Standard Scaler"
   ]
  },
  {
   "cell_type": "code",
   "execution_count": 59,
   "metadata": {},
   "outputs": [
    {
     "name": "stdout",
     "output_type": "stream",
     "text": [
      ">Train: 0=60653, 1=52722, Test: 0=6690, 1=5908\n",
      ">Train: 0=60581, 1=52794, Test: 0=6762, 1=5836\n",
      ">Train: 0=60638, 1=52737, Test: 0=6705, 1=5893\n",
      ">Train: 0=60750, 1=52626, Test: 0=6593, 1=6004\n",
      ">Train: 0=60645, 1=52731, Test: 0=6698, 1=5899\n",
      ">Train: 0=60505, 1=52871, Test: 0=6838, 1=5759\n",
      ">Train: 0=60507, 1=52869, Test: 0=6836, 1=5761\n",
      ">Train: 0=60570, 1=52806, Test: 0=6773, 1=5824\n",
      ">Train: 0=60650, 1=52726, Test: 0=6693, 1=5904\n",
      ">Train: 0=60588, 1=52788, Test: 0=6755, 1=5842\n"
     ]
    },
    {
     "data": {
      "text/plain": [
       "{'Mean Training Accuracy': 0.9961420304443658,\n",
       " 'Mean Training Precision': 0.9955172148984512,\n",
       " 'Mean Training Recall': 0.9961965691175108,\n",
       " 'Mean Training F1 Score': 0.9958567477298036,\n",
       " 'Mean Validation Accuracy': 0.992696854658997,\n",
       " 'Mean Validation Precision': 0.9913891828343558,\n",
       " 'Mean Validation Recall': 0.992935579259305,\n",
       " 'Mean Validation F1 Score': 0.9921611088165301}"
      ]
     },
     "execution_count": 59,
     "metadata": {},
     "output_type": "execute_result"
    }
   ],
   "source": [
    "KfoldCV(KNeighborsClassifier(), pd.DataFrame(x_df_ss), y_df, 10, 1)"
   ]
  },
  {
   "cell_type": "markdown",
   "metadata": {},
   "source": [
    "#### Predict"
   ]
  },
  {
   "cell_type": "code",
   "execution_count": 60,
   "metadata": {
    "scrolled": false
   },
   "outputs": [
    {
     "data": {
      "image/png": "[encoded data removed]",
      "text/plain": [
       "<Figure size 432x288 with 2 Axes>"
      ]
     },
     "metadata": {
      "needs_background": "light"
     },
     "output_type": "display_data"
    },
    {
     "name": "stdout",
     "output_type": "stream",
     "text": [
      "Accuracy: 0.76606 \n",
      "Precision: 0.96586 \n",
      "Recall: 0.61061 \n",
      "F-measure: 0.74821 \n"
     ]
    }
   ],
   "source": [
    "y_prediction = kNN(x_df, y_df).predict(x_df_test)\n",
    "plotConfusionMatrix(y_prediction, y_df_test, 1)"
   ]
  },
  {
   "cell_type": "code",
   "execution_count": 61,
   "metadata": {
    "scrolled": true
   },
   "outputs": [
    {
     "data": {
      "image/png": "[encoded data removed]",
      "text/plain": [
       "<Figure size 432x288 with 2 Axes>"
      ]
     },
     "metadata": {
      "needs_background": "light"
     },
     "output_type": "display_data"
    },
    {
     "name": "stdout",
     "output_type": "stream",
     "text": [
      "Accuracy: 0.73643 \n",
      "Precision: 0.91779 \n",
      "Recall: 0.58981 \n",
      "F-measure: 0.71812 \n"
     ]
    }
   ],
   "source": [
    "y_prediction = kNN(x_df_ss, y_df).predict(x_df_test_ss)\n",
    "plotConfusionMatrix(y_prediction, y_df_test, 1)"
   ]
  },
  {
   "cell_type": "markdown",
   "metadata": {},
   "source": [
    "## Binary dataset feature selection"
   ]
  },
  {
   "cell_type": "code",
   "execution_count": 62,
   "metadata": {},
   "outputs": [],
   "source": [
    "X_df_rfe, rfecolname = recursiveFeatureExtraction(RandomForestClassifier(n_estimators=64,n_jobs=2), x_df, y_df, 13)\n",
    "X_df_test_rfe=x_df_test.values[:,rfecolname]"
   ]
  },
  {
   "cell_type": "code",
   "execution_count": 63,
   "metadata": {},
   "outputs": [],
   "source": [
    "X_df_rfe_ss, rfecolname_ss = recursiveFeatureExtraction(RandomForestClassifier(n_estimators=64,n_jobs=2), x_df_ss, y_df, 13)\n",
    "X_df_test_rfe_ss=x_df_test_ss[:,rfecolname_ss]"
   ]
  },
  {
   "cell_type": "markdown",
   "metadata": {},
   "source": [
    "#### K-fold cross validation"
   ]
  },
  {
   "cell_type": "code",
   "execution_count": 64,
   "metadata": {},
   "outputs": [
    {
     "name": "stdout",
     "output_type": "stream",
     "text": [
      ">Train: 0=60653, 1=52722, Test: 0=6690, 1=5908\n",
      ">Train: 0=60581, 1=52794, Test: 0=6762, 1=5836\n",
      ">Train: 0=60638, 1=52737, Test: 0=6705, 1=5893\n",
      ">Train: 0=60750, 1=52626, Test: 0=6593, 1=6004\n",
      ">Train: 0=60645, 1=52731, Test: 0=6698, 1=5899\n",
      ">Train: 0=60505, 1=52871, Test: 0=6838, 1=5759\n",
      ">Train: 0=60507, 1=52869, Test: 0=6836, 1=5761\n",
      ">Train: 0=60570, 1=52806, Test: 0=6773, 1=5824\n",
      ">Train: 0=60650, 1=52726, Test: 0=6693, 1=5904\n",
      ">Train: 0=60588, 1=52788, Test: 0=6755, 1=5842\n"
     ]
    },
    {
     "data": {
      "text/plain": [
       "{'Mean Training Accuracy': 0.9968000198692953,\n",
       " 'Mean Training Precision': 0.9960563764675667,\n",
       " 'Mean Training Recall': 0.9970720094501655,\n",
       " 'Mean Training F1 Score': 0.9965639305641328,\n",
       " 'Mean Validation Accuracy': 0.9955466733884064,\n",
       " 'Mean Validation Precision': 0.9944284017074244,\n",
       " 'Mean Validation Recall': 0.9960062904008538,\n",
       " 'Mean Validation F1 Score': 0.9952165364297374}"
      ]
     },
     "execution_count": 64,
     "metadata": {},
     "output_type": "execute_result"
    }
   ],
   "source": [
    "KfoldCV(KNeighborsClassifier(), pd.DataFrame(X_df_rfe), y_df, 10, 1)"
   ]
  },
  {
   "cell_type": "markdown",
   "metadata": {},
   "source": [
    "#### K-fold cross validation Standard Scaler"
   ]
  },
  {
   "cell_type": "code",
   "execution_count": 65,
   "metadata": {},
   "outputs": [
    {
     "name": "stdout",
     "output_type": "stream",
     "text": [
      ">Train: 0=60653, 1=52722, Test: 0=6690, 1=5908\n",
      ">Train: 0=60581, 1=52794, Test: 0=6762, 1=5836\n",
      ">Train: 0=60638, 1=52737, Test: 0=6705, 1=5893\n",
      ">Train: 0=60750, 1=52626, Test: 0=6593, 1=6004\n",
      ">Train: 0=60645, 1=52731, Test: 0=6698, 1=5899\n",
      ">Train: 0=60505, 1=52871, Test: 0=6838, 1=5759\n",
      ">Train: 0=60507, 1=52869, Test: 0=6836, 1=5761\n",
      ">Train: 0=60570, 1=52806, Test: 0=6773, 1=5824\n",
      ">Train: 0=60650, 1=52726, Test: 0=6693, 1=5904\n",
      ">Train: 0=60588, 1=52788, Test: 0=6755, 1=5842\n"
     ]
    },
    {
     "data": {
      "text/plain": [
       "{'Mean Training Accuracy': 0.991293549021768,\n",
       " 'Mean Training Precision': 0.9889517937711201,\n",
       " 'Mean Training Recall': 0.9923797744808462,\n",
       " 'Mean Training F1 Score': 0.9906627567307424,\n",
       " 'Mean Validation Accuracy': 0.9853460738887538,\n",
       " 'Mean Validation Precision': 0.9814969648431566,\n",
       " 'Mean Validation Recall': 0.9871365781279728,\n",
       " 'Mean Validation F1 Score': 0.9843079447018759}"
      ]
     },
     "execution_count": 65,
     "metadata": {},
     "output_type": "execute_result"
    }
   ],
   "source": [
    "KfoldCV(KNeighborsClassifier(), pd.DataFrame(X_df_rfe_ss), y_df, 10, 1)"
   ]
  },
  {
   "cell_type": "markdown",
   "metadata": {},
   "source": [
    "#### Predict"
   ]
  },
  {
   "cell_type": "code",
   "execution_count": 66,
   "metadata": {},
   "outputs": [
    {
     "data": {
      "image/png": "[encoded data removed]",
      "text/plain": [
       "<Figure size 432x288 with 2 Axes>"
      ]
     },
     "metadata": {
      "needs_background": "light"
     },
     "output_type": "display_data"
    },
    {
     "name": "stdout",
     "output_type": "stream",
     "text": [
      "Accuracy: 0.76442 \n",
      "Precision: 0.96605 \n",
      "Recall: 0.60750 \n",
      "F-measure: 0.74592 \n"
     ]
    }
   ],
   "source": [
    "y_prediction = kNN(X_df_rfe, y_df).predict(X_df_test_rfe)\n",
    "plotConfusionMatrix(y_prediction, y_df_test, 1)"
   ]
  },
  {
   "cell_type": "code",
   "execution_count": 67,
   "metadata": {},
   "outputs": [
    {
     "data": {
      "image/png": "[encoded data removed]",
      "text/plain": [
       "<Figure size 432x288 with 2 Axes>"
      ]
     },
     "metadata": {
      "needs_background": "light"
     },
     "output_type": "display_data"
    },
    {
     "name": "stdout",
     "output_type": "stream",
     "text": [
      "Accuracy: 0.70959 \n",
      "Precision: 0.90586 \n",
      "Recall: 0.54664 \n",
      "F-measure: 0.68183 \n"
     ]
    }
   ],
   "source": [
    "y_prediction = kNN(X_df_rfe_ss, y_df).predict(X_df_test_rfe_ss)\n",
    "plotConfusionMatrix(y_prediction, y_df_test, 1)"
   ]
  },
  {
   "cell_type": "markdown",
   "metadata": {},
   "source": [
    "# Reduced DF, oversampling"
   ]
  },
  {
   "cell_type": "code",
   "execution_count": 68,
   "metadata": {},
   "outputs": [
    {
     "data": {
      "text/plain": [
       "<module 'matplotlib.pyplot' from 'C:\\\\Users\\\\Daniele\\\\anaconda3\\\\lib\\\\site-packages\\\\matplotlib\\\\pyplot.py'>"
      ]
     },
     "execution_count": 68,
     "metadata": {},
     "output_type": "execute_result"
    },
    {
     "data": {
      "image/png": "[encoded data removed]",
      "text/plain": [
       "<Figure size 720x360 with 1 Axes>"
      ]
     },
     "metadata": {
      "needs_background": "light"
     },
     "output_type": "display_data"
    }
   ],
   "source": [
    "reducedDf = getReducedDf()\n",
    "reducedDf_test = getReducedDfTest()\n",
    "\n",
    "reducedDf['label'], reducedDf_test['label'] = prepareMulticlass()\n",
    "\n",
    "x_df, y_df = getXandY(reducedDf)\n",
    "x_df_test, y_df_test = getXandY(reducedDf_test)\n",
    "\n",
    "\n",
    "oversampled_df = overSampledDF(x_df, y_df)\n",
    "oversampled_df_test = overSampledDF(x_df_test, y_df_test)\n",
    "\n",
    "plotDf(oversampled_df['label'])"
   ]
  },
  {
   "cell_type": "code",
   "execution_count": 69,
   "metadata": {},
   "outputs": [],
   "source": [
    "#Preparo i dataframe per ogni classe di attacco\n",
    "dos, probe, r2l, u2r = createMulticlassDF(oversampled_df)\n",
    "dos_test, probe_test, r2l_test, u2r_test = createMulticlassDF(oversampled_df_test)\n",
    "\n",
    "X_dos, y_dos = getXandY(dos)\n",
    "X_probe, y_probe = getXandY(probe)\n",
    "X_r2l, y_r2l = getXandY(r2l)\n",
    "X_u2r, y_u2r = getXandY(u2r)\n",
    "\n",
    "X_dos_test, y_dos_test = getXandY(dos_test)\n",
    "X_probe_test, y_probe_test = getXandY(probe_test)\n",
    "X_r2l_test, y_r2l_test = getXandY(r2l_test)\n",
    "X_u2r_test, y_u2r_test = getXandY(u2r_test)"
   ]
  },
  {
   "cell_type": "code",
   "execution_count": 70,
   "metadata": {},
   "outputs": [],
   "source": [
    "#Effettuo standard scaler\n",
    "X_dos_ss=standardScaler(X_dos)\n",
    "X_probe_ss=standardScaler(X_probe)\n",
    "X_r2l_ss=standardScaler(X_r2l)\n",
    "X_u2r_ss=standardScaler(X_u2r)\n",
    "\n",
    "X_dos_test_ss=standardScaler(X_dos_test)\n",
    "X_probe_test_ss=standardScaler(X_probe_test)\n",
    "X_r2l_test_ss=standardScaler(X_r2l_test)\n",
    "X_u2r_test_ss=standardScaler(X_u2r_test)"
   ]
  },
  {
   "cell_type": "markdown",
   "metadata": {},
   "source": [
    "## No feature selection"
   ]
  },
  {
   "cell_type": "markdown",
   "metadata": {},
   "source": [
    "#### K-fold cross validation on dos"
   ]
  },
  {
   "cell_type": "code",
   "execution_count": 71,
   "metadata": {},
   "outputs": [
    {
     "name": "stdout",
     "output_type": "stream",
     "text": [
      ">Train: 0=59387, 1=61830, Test: 0=7956, 1=5513\n",
      ">Train: 0=59336, 1=61881, Test: 0=8007, 1=5462\n",
      ">Train: 0=59437, 1=61780, Test: 0=7906, 1=5563\n",
      ">Train: 0=59306, 1=61911, Test: 0=8037, 1=5432\n",
      ">Train: 0=59299, 1=61918, Test: 0=8044, 1=5425\n",
      ">Train: 0=59294, 1=61923, Test: 0=8049, 1=5420\n",
      ">Train: 0=59294, 1=61924, Test: 0=8049, 1=5419\n",
      ">Train: 0=59327, 1=61891, Test: 0=8016, 1=5452\n",
      ">Train: 0=64064, 1=57154, Test: 0=3279, 1=10189\n",
      ">Train: 0=67343, 1=53875, Test: 0=0, 1=13468\n"
     ]
    },
    {
     "data": {
      "text/plain": [
       "{'Mean Training Accuracy': 0.9992179341732939,\n",
       " 'Mean Training Precision': 0.9987910060397404,\n",
       " 'Mean Training Recall': 0.9996406281306122,\n",
       " 'Mean Training F1 Score': 0.9992156346186221,\n",
       " 'Mean Validation Accuracy': 0.998953130182249,\n",
       " 'Mean Validation Precision': 0.9980884044085272,\n",
       " 'Mean Validation Recall': 0.9994363630436759,\n",
       " 'Mean Validation F1 Score': 0.9987617023392401}"
      ]
     },
     "execution_count": 71,
     "metadata": {},
     "output_type": "execute_result"
    }
   ],
   "source": [
    "KfoldCV(KNeighborsClassifier(), pd.DataFrame(X_dos), y_dos, 10, 1)"
   ]
  },
  {
   "cell_type": "markdown",
   "metadata": {},
   "source": [
    "#### K-fold cross validation on dos Standard Scaler"
   ]
  },
  {
   "cell_type": "code",
   "execution_count": 72,
   "metadata": {},
   "outputs": [
    {
     "name": "stdout",
     "output_type": "stream",
     "text": [
      ">Train: 0=59387, 1=61830, Test: 0=7956, 1=5513\n",
      ">Train: 0=59336, 1=61881, Test: 0=8007, 1=5462\n",
      ">Train: 0=59437, 1=61780, Test: 0=7906, 1=5563\n",
      ">Train: 0=59306, 1=61911, Test: 0=8037, 1=5432\n",
      ">Train: 0=59299, 1=61918, Test: 0=8044, 1=5425\n",
      ">Train: 0=59294, 1=61923, Test: 0=8049, 1=5420\n",
      ">Train: 0=59294, 1=61924, Test: 0=8049, 1=5419\n",
      ">Train: 0=59327, 1=61891, Test: 0=8016, 1=5452\n",
      ">Train: 0=64064, 1=57154, Test: 0=3279, 1=10189\n",
      ">Train: 0=67343, 1=53875, Test: 0=0, 1=13468\n"
     ]
    },
    {
     "data": {
      "text/plain": [
       "{'Mean Training Accuracy': 0.9984894905825659,\n",
       " 'Mean Training Precision': 0.9976612547644225,\n",
       " 'Mean Training Recall': 0.9993257446637663,\n",
       " 'Mean Training F1 Score': 0.9984927923542498,\n",
       " 'Mean Validation Accuracy': 0.9973048579162619,\n",
       " 'Mean Validation Precision': 0.9951409073961426,\n",
       " 'Mean Validation Recall': 0.9985429833295534,\n",
       " 'Mean Validation F1 Score': 0.996837995050063}"
      ]
     },
     "execution_count": 72,
     "metadata": {},
     "output_type": "execute_result"
    }
   ],
   "source": [
    "KfoldCV(KNeighborsClassifier(), pd.DataFrame(X_dos_ss), y_dos, 10, 1)"
   ]
  },
  {
   "cell_type": "markdown",
   "metadata": {},
   "source": [
    "#### Stratified cross validation on dos"
   ]
  },
  {
   "cell_type": "code",
   "execution_count": 73,
   "metadata": {},
   "outputs": [
    {
     "name": "stdout",
     "output_type": "stream",
     "text": [
      ">Train: 0=60608, 1=60609, Test: 0=6735, 1=6734\n",
      ">Train: 0=60608, 1=60609, Test: 0=6735, 1=6734\n",
      ">Train: 0=60608, 1=60609, Test: 0=6735, 1=6734\n",
      ">Train: 0=60609, 1=60608, Test: 0=6734, 1=6735\n",
      ">Train: 0=60609, 1=60608, Test: 0=6734, 1=6735\n",
      ">Train: 0=60609, 1=60608, Test: 0=6734, 1=6735\n",
      ">Train: 0=60609, 1=60609, Test: 0=6734, 1=6734\n",
      ">Train: 0=60609, 1=60609, Test: 0=6734, 1=6734\n",
      ">Train: 0=60609, 1=60609, Test: 0=6734, 1=6734\n",
      ">Train: 0=60609, 1=60609, Test: 0=6734, 1=6734\n"
     ]
    },
    {
     "data": {
      "text/plain": [
       "{'Mean Training Accuracy': 0.9992220590072692,\n",
       " 'Mean Training Precision': 0.9987982267274225,\n",
       " 'Mean Training Recall': 0.999646915355037,\n",
       " 'Mean Training F1 Score': 0.9992223900422987,\n",
       " 'Mean Validation Accuracy': 0.998975401345659,\n",
       " 'Mean Validation Precision': 0.9984722893676607,\n",
       " 'Mean Validation Recall': 0.9994802759390732,\n",
       " 'Mean Validation F1 Score': 0.9989759483567482}"
      ]
     },
     "execution_count": 73,
     "metadata": {},
     "output_type": "execute_result"
    }
   ],
   "source": [
    "stratifiedCV(KNeighborsClassifier(), pd.DataFrame(X_dos), y_dos, 10, 1)"
   ]
  },
  {
   "cell_type": "markdown",
   "metadata": {},
   "source": [
    "#### Stratified cross validation on dos Standard Scaler"
   ]
  },
  {
   "cell_type": "code",
   "execution_count": 74,
   "metadata": {
    "scrolled": true
   },
   "outputs": [
    {
     "name": "stdout",
     "output_type": "stream",
     "text": [
      ">Train: 0=60608, 1=60609, Test: 0=6735, 1=6734\n",
      ">Train: 0=60608, 1=60609, Test: 0=6735, 1=6734\n",
      ">Train: 0=60608, 1=60609, Test: 0=6735, 1=6734\n",
      ">Train: 0=60609, 1=60608, Test: 0=6734, 1=6735\n",
      ">Train: 0=60609, 1=60608, Test: 0=6734, 1=6735\n",
      ">Train: 0=60609, 1=60608, Test: 0=6734, 1=6735\n",
      ">Train: 0=60609, 1=60609, Test: 0=6734, 1=6734\n",
      ">Train: 0=60609, 1=60609, Test: 0=6734, 1=6734\n",
      ">Train: 0=60609, 1=60609, Test: 0=6734, 1=6734\n",
      ">Train: 0=60609, 1=60609, Test: 0=6734, 1=6734\n"
     ]
    },
    {
     "data": {
      "text/plain": [
       "{'Mean Training Accuracy': 0.9984639168569214,\n",
       " 'Mean Training Precision': 0.9976313768547718,\n",
       " 'Mean Training Recall': 0.9993004303627664,\n",
       " 'Mean Training F1 Score': 0.9984652024310154,\n",
       " 'Mean Validation Accuracy': 0.9972677240588741,\n",
       " 'Mean Validation Precision': 0.9958549915936977,\n",
       " 'Mean Validation Recall': 0.998693269250062,\n",
       " 'Mean Validation F1 Score': 0.9972717722573812}"
      ]
     },
     "execution_count": 74,
     "metadata": {},
     "output_type": "execute_result"
    }
   ],
   "source": [
    "stratifiedCV(KNeighborsClassifier(), pd.DataFrame(X_dos_ss), y_dos, 10, 1)"
   ]
  },
  {
   "cell_type": "markdown",
   "metadata": {},
   "source": [
    "#### Predict on dos"
   ]
  },
  {
   "cell_type": "code",
   "execution_count": 75,
   "metadata": {},
   "outputs": [
    {
     "data": {
      "image/png": "[encoded data removed]",
      "text/plain": [
       "<Figure size 432x288 with 2 Axes>"
      ]
     },
     "metadata": {
      "needs_background": "light"
     },
     "output_type": "display_data"
    },
    {
     "name": "stdout",
     "output_type": "stream",
     "text": [
      "Accuracy: 0.86896 \n",
      "Precision: 0.97170 \n",
      "Recall: 0.76007 \n",
      "F-measure: 0.85295 \n"
     ]
    }
   ],
   "source": [
    "y_dos_prediction = kNN(X_dos, y_dos).predict(X_dos_test)\n",
    "plotConfusionMatrix(y_dos_prediction, y_dos_test, 1)"
   ]
  },
  {
   "cell_type": "code",
   "execution_count": 76,
   "metadata": {
    "scrolled": true
   },
   "outputs": [
    {
     "data": {
      "image/png": "[encoded data removed]",
      "text/plain": [
       "<Figure size 432x288 with 2 Axes>"
      ]
     },
     "metadata": {
      "needs_background": "light"
     },
     "output_type": "display_data"
    },
    {
     "name": "stdout",
     "output_type": "stream",
     "text": [
      "Accuracy: 0.88987 \n",
      "Precision: 0.94157 \n",
      "Recall: 0.83133 \n",
      "F-measure: 0.88302 \n"
     ]
    }
   ],
   "source": [
    "y_dos_prediction = kNN(X_dos_ss, y_dos).predict(X_dos_test_ss)\n",
    "plotConfusionMatrix(y_dos_prediction, y_dos_test, 1)"
   ]
  },
  {
   "cell_type": "markdown",
   "metadata": {},
   "source": [
    "#### K-fold cross validation on probe"
   ]
  },
  {
   "cell_type": "code",
   "execution_count": 77,
   "metadata": {},
   "outputs": [
    {
     "name": "stdout",
     "output_type": "stream",
     "text": [
      ">Train: 0=55814, 1=65403, Test: 0=11529, 1=1940\n",
      ">Train: 0=55943, 1=65274, Test: 0=11400, 1=2069\n",
      ">Train: 0=55894, 1=65323, Test: 0=11449, 1=2020\n",
      ">Train: 0=55775, 1=65442, Test: 0=11568, 1=1901\n",
      ">Train: 0=55895, 1=65322, Test: 0=11448, 1=2021\n",
      ">Train: 0=57394, 1=63823, Test: 0=9949, 1=3520\n",
      ">Train: 0=67343, 1=53875, Test: 0=0, 1=13468\n",
      ">Train: 0=67343, 1=53875, Test: 0=0, 1=13468\n",
      ">Train: 0=67343, 1=53875, Test: 0=0, 1=13468\n",
      ">Train: 0=67343, 1=53875, Test: 0=0, 1=13468\n"
     ]
    },
    {
     "data": {
      "text/plain": [
       "{'Mean Training Accuracy': 0.9976249284574671,\n",
       " 'Mean Training Precision': 0.9965813384841473,\n",
       " 'Mean Training Recall': 0.9986340667453615,\n",
       " 'Mean Training F1 Score': 0.9976066361424971,\n",
       " 'Mean Validation Accuracy': 0.9965624255307974,\n",
       " 'Mean Validation Precision': 0.9849544139601096,\n",
       " 'Mean Validation Recall': 0.9977387642011852,\n",
       " 'Mean Validation F1 Score': 0.9912666967065873}"
      ]
     },
     "execution_count": 77,
     "metadata": {},
     "output_type": "execute_result"
    }
   ],
   "source": [
    "KfoldCV(KNeighborsClassifier(), pd.DataFrame(X_probe), y_probe, 10, 2)"
   ]
  },
  {
   "cell_type": "markdown",
   "metadata": {},
   "source": [
    "#### K-fold cross validation on probe Standard Scaling"
   ]
  },
  {
   "cell_type": "code",
   "execution_count": 78,
   "metadata": {},
   "outputs": [
    {
     "name": "stdout",
     "output_type": "stream",
     "text": [
      ">Train: 0=55814, 1=65403, Test: 0=11529, 1=1940\n",
      ">Train: 0=55943, 1=65274, Test: 0=11400, 1=2069\n",
      ">Train: 0=55894, 1=65323, Test: 0=11449, 1=2020\n",
      ">Train: 0=55775, 1=65442, Test: 0=11568, 1=1901\n",
      ">Train: 0=55895, 1=65322, Test: 0=11448, 1=2021\n",
      ">Train: 0=57394, 1=63823, Test: 0=9949, 1=3520\n",
      ">Train: 0=67343, 1=53875, Test: 0=0, 1=13468\n",
      ">Train: 0=67343, 1=53875, Test: 0=0, 1=13468\n",
      ">Train: 0=67343, 1=53875, Test: 0=0, 1=13468\n",
      ">Train: 0=67343, 1=53875, Test: 0=0, 1=13468\n"
     ]
    },
    {
     "data": {
      "text/plain": [
       "{'Mean Training Accuracy': 0.9980192614761982,\n",
       " 'Mean Training Precision': 0.9969303522001642,\n",
       " 'Mean Training Recall': 0.9990705600286841,\n",
       " 'Mean Training F1 Score': 0.9979993051787612,\n",
       " 'Mean Validation Accuracy': 0.9967851669332848,\n",
       " 'Mean Validation Precision': 0.9854959561792491,\n",
       " 'Mean Validation Recall': 0.9977590189575694,\n",
       " 'Mean Validation F1 Score': 0.9915543453214235}"
      ]
     },
     "execution_count": 78,
     "metadata": {},
     "output_type": "execute_result"
    }
   ],
   "source": [
    "KfoldCV(KNeighborsClassifier(), pd.DataFrame(X_probe_ss), y_probe, 10, 2)"
   ]
  },
  {
   "cell_type": "markdown",
   "metadata": {},
   "source": [
    "#### Stratified cross validation on probe"
   ]
  },
  {
   "cell_type": "code",
   "execution_count": 79,
   "metadata": {},
   "outputs": [
    {
     "name": "stdout",
     "output_type": "stream",
     "text": [
      ">Train: 0=60608, 1=60609, Test: 0=6735, 1=6734\n",
      ">Train: 0=60608, 1=60609, Test: 0=6735, 1=6734\n",
      ">Train: 0=60608, 1=60609, Test: 0=6735, 1=6734\n",
      ">Train: 0=60609, 1=60608, Test: 0=6734, 1=6735\n",
      ">Train: 0=60609, 1=60608, Test: 0=6734, 1=6735\n",
      ">Train: 0=60609, 1=60608, Test: 0=6734, 1=6735\n",
      ">Train: 0=60609, 1=60609, Test: 0=6734, 1=6734\n",
      ">Train: 0=60609, 1=60609, Test: 0=6734, 1=6734\n",
      ">Train: 0=60609, 1=60609, Test: 0=6734, 1=6734\n",
      ">Train: 0=60609, 1=60609, Test: 0=6734, 1=6734\n"
     ]
    },
    {
     "data": {
      "text/plain": [
       "{'Mean Training Accuracy': 0.9976241034906721,\n",
       " 'Mean Training Precision': 0.9966211856603312,\n",
       " 'Mean Training Recall': 0.9986338593428931,\n",
       " 'Mean Training F1 Score': 0.9976265030495106,\n",
       " 'Mean Validation Accuracy': 0.9968890630131255,\n",
       " 'Mean Validation Precision': 0.9955141466356334,\n",
       " 'Mean Validation Recall': 0.9982774710391638,\n",
       " 'Mean Validation F1 Score': 0.996893518988661}"
      ]
     },
     "execution_count": 79,
     "metadata": {},
     "output_type": "execute_result"
    }
   ],
   "source": [
    "stratifiedCV(KNeighborsClassifier(), pd.DataFrame(X_probe), y_probe, 10, 2)"
   ]
  },
  {
   "cell_type": "markdown",
   "metadata": {},
   "source": [
    "#### Stratified cross validation on probe Standard Scaling"
   ]
  },
  {
   "cell_type": "code",
   "execution_count": 80,
   "metadata": {},
   "outputs": [
    {
     "name": "stdout",
     "output_type": "stream",
     "text": [
      ">Train: 0=60608, 1=60609, Test: 0=6735, 1=6734\n",
      ">Train: 0=60608, 1=60609, Test: 0=6735, 1=6734\n",
      ">Train: 0=60608, 1=60609, Test: 0=6735, 1=6734\n",
      ">Train: 0=60609, 1=60608, Test: 0=6734, 1=6735\n",
      ">Train: 0=60609, 1=60608, Test: 0=6734, 1=6735\n",
      ">Train: 0=60609, 1=60608, Test: 0=6734, 1=6735\n",
      ">Train: 0=60609, 1=60609, Test: 0=6734, 1=6734\n",
      ">Train: 0=60609, 1=60609, Test: 0=6734, 1=6734\n",
      ">Train: 0=60609, 1=60609, Test: 0=6734, 1=6734\n",
      ">Train: 0=60609, 1=60609, Test: 0=6734, 1=6734\n"
     ]
    },
    {
     "data": {
      "text/plain": [
       "{'Mean Training Accuracy': 0.9980159614048484,\n",
       " 'Mean Training Precision': 0.996947604635402,\n",
       " 'Mean Training Recall': 0.9990908895726504,\n",
       " 'Mean Training F1 Score': 0.9980180917400393,\n",
       " 'Mean Validation Accuracy': 0.9970004265479059,\n",
       " 'Mean Validation Precision': 0.9956618257369236,\n",
       " 'Mean Validation Recall': 0.9983516990643938,\n",
       " 'Mean Validation F1 Score': 0.9970045235343628}"
      ]
     },
     "execution_count": 80,
     "metadata": {},
     "output_type": "execute_result"
    }
   ],
   "source": [
    "stratifiedCV(KNeighborsClassifier(), pd.DataFrame(X_probe_ss), y_probe, 10, 2)"
   ]
  },
  {
   "cell_type": "markdown",
   "metadata": {},
   "source": [
    "#### Predict on probe"
   ]
  },
  {
   "cell_type": "code",
   "execution_count": 81,
   "metadata": {},
   "outputs": [
    {
     "data": {
      "image/png": "[encoded data removed]",
      "text/plain": [
       "<Figure size 432x288 with 2 Axes>"
      ]
     },
     "metadata": {
      "needs_background": "light"
     },
     "output_type": "display_data"
    },
    {
     "name": "stdout",
     "output_type": "stream",
     "text": [
      "Accuracy: 0.83385 \n",
      "Precision: 0.96460 \n",
      "Recall: 0.69313 \n",
      "F-measure: 0.80664 \n"
     ]
    }
   ],
   "source": [
    "y_probe_rfe_prediction = kNN(X_probe, y_probe).predict(X_probe_test)\n",
    "plotConfusionMatrix(y_probe_rfe_prediction, y_probe_test, 2)"
   ]
  },
  {
   "cell_type": "code",
   "execution_count": 82,
   "metadata": {},
   "outputs": [
    {
     "data": {
      "image/png": "[encoded data removed]",
      "text/plain": [
       "<Figure size 432x288 with 2 Axes>"
      ]
     },
     "metadata": {
      "needs_background": "light"
     },
     "output_type": "display_data"
    },
    {
     "name": "stdout",
     "output_type": "stream",
     "text": [
      "Accuracy: 0.83431 \n",
      "Precision: 0.95796 \n",
      "Recall: 0.69931 \n",
      "F-measure: 0.80845 \n"
     ]
    }
   ],
   "source": [
    "y_probe_rfe_prediction = kNN(X_probe_ss, y_probe).predict(X_probe_test_ss)\n",
    "plotConfusionMatrix(y_probe_rfe_prediction, y_probe_test, 2)"
   ]
  },
  {
   "cell_type": "markdown",
   "metadata": {},
   "source": [
    "#### K-fold cross validation on r2l"
   ]
  },
  {
   "cell_type": "code",
   "execution_count": 83,
   "metadata": {},
   "outputs": [
    {
     "name": "stdout",
     "output_type": "stream",
     "text": [
      ">Train: 0=54080, 1=67137, Test: 0=13263, 1=206\n",
      ">Train: 0=54094, 1=67123, Test: 0=13249, 1=220\n",
      ">Train: 0=54054, 1=67163, Test: 0=13289, 1=180\n",
      ">Train: 0=54045, 1=67172, Test: 0=13298, 1=171\n",
      ">Train: 0=54082, 1=67135, Test: 0=13261, 1=208\n",
      ">Train: 0=66360, 1=54857, Test: 0=983, 1=12486\n",
      ">Train: 0=67343, 1=53875, Test: 0=0, 1=13468\n",
      ">Train: 0=67343, 1=53875, Test: 0=0, 1=13468\n",
      ">Train: 0=67343, 1=53875, Test: 0=0, 1=13468\n",
      ">Train: 0=67343, 1=53875, Test: 0=0, 1=13468\n"
     ]
    },
    {
     "data": {
      "text/plain": [
       "{'Mean Training Accuracy': 0.9974879844186553,\n",
       " 'Mean Training Precision': 0.9969341595793585,\n",
       " 'Mean Training Recall': 0.9979848653232504,\n",
       " 'Mean Training F1 Score': 0.997459232121218,\n",
       " 'Mean Validation Accuracy': 0.9959164493335553,\n",
       " 'Mean Validation Precision': 0.8734899330125778,\n",
       " 'Mean Validation Recall': 0.9973182041220875,\n",
       " 'Mean Validation F1 Score': 0.926346366435242}"
      ]
     },
     "execution_count": 83,
     "metadata": {},
     "output_type": "execute_result"
    }
   ],
   "source": [
    "KfoldCV(KNeighborsClassifier(), pd.DataFrame(X_r2l), y_r2l, 10, 3)"
   ]
  },
  {
   "cell_type": "markdown",
   "metadata": {},
   "source": [
    "#### K-fold cross validation on r2l Standard Scaling"
   ]
  },
  {
   "cell_type": "code",
   "execution_count": 84,
   "metadata": {},
   "outputs": [
    {
     "name": "stdout",
     "output_type": "stream",
     "text": [
      ">Train: 0=54080, 1=67137, Test: 0=13263, 1=206\n",
      ">Train: 0=54094, 1=67123, Test: 0=13249, 1=220\n",
      ">Train: 0=54054, 1=67163, Test: 0=13289, 1=180\n",
      ">Train: 0=54045, 1=67172, Test: 0=13298, 1=171\n",
      ">Train: 0=54082, 1=67135, Test: 0=13261, 1=208\n",
      ">Train: 0=66360, 1=54857, Test: 0=983, 1=12486\n",
      ">Train: 0=67343, 1=53875, Test: 0=0, 1=13468\n",
      ">Train: 0=67343, 1=53875, Test: 0=0, 1=13468\n",
      ">Train: 0=67343, 1=53875, Test: 0=0, 1=13468\n",
      ">Train: 0=67343, 1=53875, Test: 0=0, 1=13468\n"
     ]
    },
    {
     "data": {
      "text/plain": [
       "{'Mean Training Accuracy': 0.9981801293342867,\n",
       " 'Mean Training Precision': 0.9968153626276909,\n",
       " 'Mean Training Recall': 0.9995055448708812,\n",
       " 'Mean Training F1 Score': 0.9981586305193787,\n",
       " 'Mean Validation Accuracy': 0.9969188159644021,\n",
       " 'Mean Validation Precision': 0.8731074127882728,\n",
       " 'Mean Validation Recall': 0.9973634673190175,\n",
       " 'Mean Validation F1 Score': 0.9261084465695463}"
      ]
     },
     "execution_count": 84,
     "metadata": {},
     "output_type": "execute_result"
    }
   ],
   "source": [
    "KfoldCV(KNeighborsClassifier(), pd.DataFrame(X_r2l_ss), y_r2l, 10, 3)"
   ]
  },
  {
   "cell_type": "markdown",
   "metadata": {},
   "source": [
    "#### Stratified cross validation on r2l"
   ]
  },
  {
   "cell_type": "code",
   "execution_count": 85,
   "metadata": {},
   "outputs": [
    {
     "name": "stdout",
     "output_type": "stream",
     "text": [
      ">Train: 0=60608, 1=60609, Test: 0=6735, 1=6734\n",
      ">Train: 0=60608, 1=60609, Test: 0=6735, 1=6734\n",
      ">Train: 0=60608, 1=60609, Test: 0=6735, 1=6734\n",
      ">Train: 0=60609, 1=60608, Test: 0=6734, 1=6735\n",
      ">Train: 0=60609, 1=60608, Test: 0=6734, 1=6735\n",
      ">Train: 0=60609, 1=60608, Test: 0=6734, 1=6735\n",
      ">Train: 0=60609, 1=60609, Test: 0=6734, 1=6734\n",
      ">Train: 0=60609, 1=60609, Test: 0=6734, 1=6734\n",
      ">Train: 0=60609, 1=60609, Test: 0=6734, 1=6734\n",
      ">Train: 0=60609, 1=60609, Test: 0=6734, 1=6734\n"
     ]
    },
    {
     "data": {
      "text/plain": [
       "{'Mean Training Accuracy': 0.9974945841257934,\n",
       " 'Mean Training Precision': 0.9969640796562309,\n",
       " 'Mean Training Recall': 0.9980283356072436,\n",
       " 'Mean Training F1 Score': 0.997495921240296,\n",
       " 'Mean Validation Accuracy': 0.9964955536063267,\n",
       " 'Mean Validation Precision': 0.9957160449393351,\n",
       " 'Mean Validation Recall': 0.9972825597324482,\n",
       " 'Mean Validation F1 Score': 0.9964984030066484}"
      ]
     },
     "execution_count": 85,
     "metadata": {},
     "output_type": "execute_result"
    }
   ],
   "source": [
    "stratifiedCV(KNeighborsClassifier(), pd.DataFrame(X_r2l), y_r2l, 10, 3)"
   ]
  },
  {
   "cell_type": "markdown",
   "metadata": {},
   "source": [
    "#### Stratified cross validation on r2l Standard Scaling"
   ]
  },
  {
   "cell_type": "code",
   "execution_count": 86,
   "metadata": {},
   "outputs": [
    {
     "name": "stdout",
     "output_type": "stream",
     "text": [
      ">Train: 0=60608, 1=60609, Test: 0=6735, 1=6734\n",
      ">Train: 0=60608, 1=60609, Test: 0=6735, 1=6734\n",
      ">Train: 0=60608, 1=60609, Test: 0=6735, 1=6734\n",
      ">Train: 0=60609, 1=60608, Test: 0=6734, 1=6735\n",
      ">Train: 0=60609, 1=60608, Test: 0=6734, 1=6735\n",
      ">Train: 0=60609, 1=60608, Test: 0=6734, 1=6735\n",
      ">Train: 0=60609, 1=60609, Test: 0=6734, 1=6734\n",
      ">Train: 0=60609, 1=60609, Test: 0=6734, 1=6734\n",
      ">Train: 0=60609, 1=60609, Test: 0=6734, 1=6734\n",
      ">Train: 0=60609, 1=60609, Test: 0=6734, 1=6734\n"
     ]
    },
    {
     "data": {
      "text/plain": [
       "{'Mean Training Accuracy': 0.9981718796663358,\n",
       " 'Mean Training Precision': 0.9968275314255705,\n",
       " 'Mean Training Recall': 0.9995248207865892,\n",
       " 'Mean Training F1 Score': 0.9981743518319611,\n",
       " 'Mean Validation Accuracy': 0.9973122641806285,\n",
       " 'Mean Validation Precision': 0.9955027739810124,\n",
       " 'Mean Validation Recall': 0.9991387322122289,\n",
       " 'Mean Validation F1 Score': 0.9973172598326568}"
      ]
     },
     "execution_count": 86,
     "metadata": {},
     "output_type": "execute_result"
    }
   ],
   "source": [
    "stratifiedCV(KNeighborsClassifier(), pd.DataFrame(X_r2l_ss), y_r2l, 10, 3)"
   ]
  },
  {
   "cell_type": "markdown",
   "metadata": {},
   "source": [
    "#### Predict on r2l"
   ]
  },
  {
   "cell_type": "code",
   "execution_count": 87,
   "metadata": {},
   "outputs": [
    {
     "data": {
      "image/png": "[encoded data removed]",
      "text/plain": [
       "<Figure size 432x288 with 2 Axes>"
      ]
     },
     "metadata": {
      "needs_background": "light"
     },
     "output_type": "display_data"
    },
    {
     "name": "stdout",
     "output_type": "stream",
     "text": [
      "Accuracy: 0.60751 \n",
      "Precision: 0.98289 \n",
      "Recall: 0.21882 \n",
      "F-measure: 0.35796 \n"
     ]
    }
   ],
   "source": [
    "y_r2l_rfe_prediction = kNN(X_r2l, y_r2l).predict(X_r2l_test)\n",
    "plotConfusionMatrix(y_r2l_rfe_prediction, y_r2l_test, 3)"
   ]
  },
  {
   "cell_type": "code",
   "execution_count": 88,
   "metadata": {},
   "outputs": [
    {
     "data": {
      "image/png": "[encoded data removed]",
      "text/plain": [
       "<Figure size 432x288 with 2 Axes>"
      ]
     },
     "metadata": {
      "needs_background": "light"
     },
     "output_type": "display_data"
    },
    {
     "name": "stdout",
     "output_type": "stream",
     "text": [
      "Accuracy: 0.60751 \n",
      "Precision: 0.98289 \n",
      "Recall: 0.21882 \n",
      "F-measure: 0.35796 \n"
     ]
    }
   ],
   "source": [
    "y_probe_rfy_r2l_rfe_predictione_prediction = kNN(X_r2l_ss, y_r2l).predict(X_r2l_test_ss)\n",
    "plotConfusionMatrix(y_r2l_rfe_prediction, y_r2l_test, 3)"
   ]
  },
  {
   "cell_type": "markdown",
   "metadata": {},
   "source": [
    "#### K-fold cross validation on u2r"
   ]
  },
  {
   "cell_type": "code",
   "execution_count": 89,
   "metadata": {
    "scrolled": true
   },
   "outputs": [
    {
     "name": "stdout",
     "output_type": "stream",
     "text": [
      ">Train: 0=53885, 1=67332, Test: 0=13458, 1=11\n",
      ">Train: 0=53886, 1=67331, Test: 0=13457, 1=12\n",
      ">Train: 0=53886, 1=67331, Test: 0=13457, 1=12\n",
      ">Train: 0=53882, 1=67335, Test: 0=13461, 1=8\n",
      ">Train: 0=53883, 1=67334, Test: 0=13460, 1=9\n",
      ">Train: 0=67293, 1=53924, Test: 0=50, 1=13419\n",
      ">Train: 0=67343, 1=53875, Test: 0=0, 1=13468\n",
      ">Train: 0=67343, 1=53875, Test: 0=0, 1=13468\n",
      ">Train: 0=67343, 1=53875, Test: 0=0, 1=13468\n",
      ">Train: 0=67343, 1=53875, Test: 0=0, 1=13468\n"
     ]
    },
    {
     "data": {
      "text/plain": [
       "{'Mean Training Accuracy': 0.9981050575328807,\n",
       " 'Mean Training Precision': 0.9967892066028681,\n",
       " 'Mean Training Recall': 0.9993800771053601,\n",
       " 'Mean Training F1 Score': 0.9980829454744816,\n",
       " 'Mean Validation Accuracy': 0.9965698615635509,\n",
       " 'Mean Validation Precision': 0.5614975045652353,\n",
       " 'Mean Validation Recall': 0.999316357062836,\n",
       " 'Mean Validation F1 Score': 0.6090176618441193}"
      ]
     },
     "execution_count": 89,
     "metadata": {},
     "output_type": "execute_result"
    }
   ],
   "source": [
    "KfoldCV(KNeighborsClassifier(), pd.DataFrame(X_u2r), y_u2r, 10, 4)"
   ]
  },
  {
   "cell_type": "markdown",
   "metadata": {},
   "source": [
    "#### K-fold cross validation on u2r Standard Scaling"
   ]
  },
  {
   "cell_type": "code",
   "execution_count": 90,
   "metadata": {},
   "outputs": [
    {
     "name": "stdout",
     "output_type": "stream",
     "text": [
      ">Train: 0=53885, 1=67332, Test: 0=13458, 1=11\n",
      ">Train: 0=53886, 1=67331, Test: 0=13457, 1=12\n",
      ">Train: 0=53886, 1=67331, Test: 0=13457, 1=12\n",
      ">Train: 0=53882, 1=67335, Test: 0=13461, 1=8\n",
      ">Train: 0=53883, 1=67334, Test: 0=13460, 1=9\n",
      ">Train: 0=67293, 1=53924, Test: 0=50, 1=13419\n",
      ">Train: 0=67343, 1=53875, Test: 0=0, 1=13468\n",
      ">Train: 0=67343, 1=53875, Test: 0=0, 1=13468\n",
      ">Train: 0=67343, 1=53875, Test: 0=0, 1=13468\n",
      ">Train: 0=67343, 1=53875, Test: 0=0, 1=13468\n"
     ]
    },
    {
     "data": {
      "text/plain": [
       "{'Mean Training Accuracy': 0.9995223458589999,\n",
       " 'Mean Training Precision': 0.9990876002776918,\n",
       " 'Mean Training Recall': 0.9999420914843519,\n",
       " 'Mean Training F1 Score': 0.9995146598526589,\n",
       " 'Mean Validation Accuracy': 0.9992798249962849,\n",
       " 'Mean Validation Precision': 0.6789411168541604,\n",
       " 'Mean Validation Recall': 0.9741978470851709,\n",
       " 'Mean Validation F1 Score': 0.7595382241934346}"
      ]
     },
     "execution_count": 90,
     "metadata": {},
     "output_type": "execute_result"
    }
   ],
   "source": [
    "KfoldCV(KNeighborsClassifier(), pd.DataFrame(X_u2r_ss), y_u2r, 10, 4)"
   ]
  },
  {
   "cell_type": "markdown",
   "metadata": {},
   "source": [
    "#### Stratified cross validation on u2r"
   ]
  },
  {
   "cell_type": "code",
   "execution_count": 91,
   "metadata": {
    "scrolled": true
   },
   "outputs": [
    {
     "name": "stdout",
     "output_type": "stream",
     "text": [
      ">Train: 0=60608, 1=60609, Test: 0=6735, 1=6734\n",
      ">Train: 0=60608, 1=60609, Test: 0=6735, 1=6734\n",
      ">Train: 0=60608, 1=60609, Test: 0=6735, 1=6734\n",
      ">Train: 0=60609, 1=60608, Test: 0=6734, 1=6735\n",
      ">Train: 0=60609, 1=60608, Test: 0=6734, 1=6735\n",
      ">Train: 0=60609, 1=60608, Test: 0=6734, 1=6735\n",
      ">Train: 0=60609, 1=60609, Test: 0=6734, 1=6734\n",
      ">Train: 0=60609, 1=60609, Test: 0=6734, 1=6734\n",
      ">Train: 0=60609, 1=60609, Test: 0=6734, 1=6734\n",
      ">Train: 0=60609, 1=60609, Test: 0=6734, 1=6734\n"
     ]
    },
    {
     "data": {
      "text/plain": [
       "{'Mean Training Accuracy': 0.9980992825815627,\n",
       " 'Mean Training Precision': 0.9968221746132434,\n",
       " 'Mean Training Recall': 0.9993845767444773,\n",
       " 'Mean Training F1 Score': 0.9981017267615279,\n",
       " 'Mean Validation Accuracy': 0.9970524038049466,\n",
       " 'Mean Validation Precision': 0.9952948906655351,\n",
       " 'Mean Validation Recall': 0.9988268907199865,\n",
       " 'Mean Validation F1 Score': 0.9970576629512896}"
      ]
     },
     "execution_count": 91,
     "metadata": {},
     "output_type": "execute_result"
    }
   ],
   "source": [
    "stratifiedCV(KNeighborsClassifier(), pd.DataFrame(X_u2r), y_u2r, 10, 4)"
   ]
  },
  {
   "cell_type": "markdown",
   "metadata": {},
   "source": [
    "#### Stratified cross validation on u2r Standard Scaling"
   ]
  },
  {
   "cell_type": "code",
   "execution_count": 92,
   "metadata": {},
   "outputs": [
    {
     "name": "stdout",
     "output_type": "stream",
     "text": [
      ">Train: 0=60608, 1=60609, Test: 0=6735, 1=6734\n",
      ">Train: 0=60608, 1=60609, Test: 0=6735, 1=6734\n",
      ">Train: 0=60608, 1=60609, Test: 0=6735, 1=6734\n",
      ">Train: 0=60609, 1=60608, Test: 0=6734, 1=6735\n",
      ">Train: 0=60609, 1=60608, Test: 0=6734, 1=6735\n",
      ">Train: 0=60609, 1=60608, Test: 0=6734, 1=6735\n",
      ">Train: 0=60609, 1=60609, Test: 0=6734, 1=6734\n",
      ">Train: 0=60609, 1=60609, Test: 0=6734, 1=6734\n",
      ">Train: 0=60609, 1=60609, Test: 0=6734, 1=6734\n",
      ">Train: 0=60609, 1=60609, Test: 0=6734, 1=6734\n"
     ]
    },
    {
     "data": {
      "text/plain": [
       "{'Mean Training Accuracy': 0.9995223458726112,\n",
       " 'Mean Training Precision': 0.9991015489116588,\n",
       " 'Mean Training Recall': 0.9999439024484899,\n",
       " 'Mean Training F1 Score': 0.9995225476290622,\n",
       " 'Mean Validation Accuracy': 0.9993169312903518,\n",
       " 'Mean Validation Precision': 0.9987689639273883,\n",
       " 'Mean Validation Recall': 0.9998663542761538,\n",
       " 'Mean Validation F1 Score': 0.9993173345386024}"
      ]
     },
     "execution_count": 92,
     "metadata": {},
     "output_type": "execute_result"
    }
   ],
   "source": [
    "stratifiedCV(KNeighborsClassifier(), pd.DataFrame(X_u2r_ss), y_u2r, 10, 4)"
   ]
  },
  {
   "cell_type": "markdown",
   "metadata": {},
   "source": [
    "#### Predict on u2r"
   ]
  },
  {
   "cell_type": "code",
   "execution_count": 93,
   "metadata": {},
   "outputs": [
    {
     "data": {
      "image/png": "[encoded data removed]",
      "text/plain": [
       "<Figure size 432x288 with 2 Axes>"
      ]
     },
     "metadata": {
      "needs_background": "light"
     },
     "output_type": "display_data"
    },
    {
     "name": "stdout",
     "output_type": "stream",
     "text": [
      "Accuracy: 0.76650 \n",
      "Precision: 0.99090 \n",
      "Recall: 0.53795 \n",
      "F-measure: 0.69732 \n"
     ]
    }
   ],
   "source": [
    "y_u2r_rfe_prediction = kNN(X_u2r, y_u2r).predict(X_u2r_test)\n",
    "plotConfusionMatrix(y_u2r_rfe_prediction, y_u2r_test, 4)"
   ]
  },
  {
   "cell_type": "code",
   "execution_count": 94,
   "metadata": {},
   "outputs": [
    {
     "data": {
      "image/png": "[encoded data removed]",
      "text/plain": [
       "<Figure size 432x288 with 2 Axes>"
      ]
     },
     "metadata": {
      "needs_background": "light"
     },
     "output_type": "display_data"
    },
    {
     "name": "stdout",
     "output_type": "stream",
     "text": [
      "Accuracy: 0.69751 \n",
      "Precision: 0.97218 \n",
      "Recall: 0.40665 \n",
      "F-measure: 0.57344 \n"
     ]
    }
   ],
   "source": [
    "y_u2r_rfe_prediction = kNN(X_u2r_ss, y_u2r).predict(X_u2r_test_ss)\n",
    "plotConfusionMatrix(y_u2r_rfe_prediction, y_u2r_test, 4)"
   ]
  },
  {
   "cell_type": "markdown",
   "metadata": {},
   "source": [
    "## Feature selection"
   ]
  },
  {
   "cell_type": "code",
   "execution_count": 95,
   "metadata": {},
   "outputs": [],
   "source": [
    "X_dos_rfe, rfecolname_dos = recursiveFeatureExtraction(RandomForestClassifier(n_estimators=64,n_jobs=2), X_dos, y_dos, 13)\n",
    "X_probe_rfe, rfecolname_probe = recursiveFeatureExtraction(RandomForestClassifier(n_estimators=64,n_jobs=2), X_probe, y_probe, 13)\n",
    "X_r2l_rfe, rfecolname_r2l = recursiveFeatureExtraction(RandomForestClassifier(n_estimators=64,n_jobs=2), X_r2l, y_r2l, 13)\n",
    "X_u2r_rfe, rfecolname_u2r = recursiveFeatureExtraction(RandomForestClassifier(n_estimators=64,n_jobs=2), X_u2r, y_u2r, 13)\n",
    "\n",
    "X_dos_test_rfe=X_dos_test.values[:,rfecolname_dos]\n",
    "X_probe_test_rfe=X_probe_test.values[:,rfecolname_probe]\n",
    "X_r2l_test_rfe=X_r2l_test.values[:,rfecolname_r2l]\n",
    "X_u2r_test_rfe=X_u2r_test.values[:,rfecolname_u2r]"
   ]
  },
  {
   "cell_type": "code",
   "execution_count": 96,
   "metadata": {},
   "outputs": [],
   "source": [
    "X_dos_rfe_ss, rfecolname_dosSS = recursiveFeatureExtraction(RandomForestClassifier(n_estimators=64,n_jobs=2), X_dos_ss, y_dos, 13)\n",
    "X_probe_rfe_ss, rfecolname_probeSS = recursiveFeatureExtraction(RandomForestClassifier(n_estimators=64,n_jobs=2), X_probe_ss, y_probe, 13)\n",
    "X_r2l_rfe_ss, rfecolname_r2lSS = recursiveFeatureExtraction(RandomForestClassifier(n_estimators=64,n_jobs=2), X_r2l_ss, y_r2l, 13)\n",
    "X_u2r_rfe_ss, rfecolname_u2rSS = recursiveFeatureExtraction(RandomForestClassifier(n_estimators=64,n_jobs=2), X_u2r_ss, y_u2r, 13)\n",
    "\n",
    "X_dos_test_rfe_ss=X_dos_test_ss[:,rfecolname_dosSS]\n",
    "X_probe_test_rfe_ss=X_probe_test_ss[:,rfecolname_probeSS]\n",
    "X_r2l_test_rfe_ss=X_r2l_test_ss[:,rfecolname_r2lSS]\n",
    "X_u2r_test_rfe_ss=X_u2r_test_ss[:,rfecolname_u2rSS]"
   ]
  },
  {
   "cell_type": "markdown",
   "metadata": {},
   "source": [
    "#### K-fold cross validation on dos"
   ]
  },
  {
   "cell_type": "code",
   "execution_count": 97,
   "metadata": {},
   "outputs": [
    {
     "name": "stdout",
     "output_type": "stream",
     "text": [
      ">Train: 0=59387, 1=61830, Test: 0=7956, 1=5513\n",
      ">Train: 0=59336, 1=61881, Test: 0=8007, 1=5462\n",
      ">Train: 0=59437, 1=61780, Test: 0=7906, 1=5563\n",
      ">Train: 0=59306, 1=61911, Test: 0=8037, 1=5432\n",
      ">Train: 0=59299, 1=61918, Test: 0=8044, 1=5425\n",
      ">Train: 0=59294, 1=61923, Test: 0=8049, 1=5420\n",
      ">Train: 0=59294, 1=61924, Test: 0=8049, 1=5419\n",
      ">Train: 0=59327, 1=61891, Test: 0=8016, 1=5452\n",
      ">Train: 0=64064, 1=57154, Test: 0=3279, 1=10189\n",
      ">Train: 0=67343, 1=53875, Test: 0=0, 1=13468\n"
     ]
    },
    {
     "data": {
      "text/plain": [
       "{'Mean Training Accuracy': 0.9994373745377205,\n",
       " 'Mean Training Precision': 0.9994411808111764,\n",
       " 'Mean Training Recall': 0.9994302389835619,\n",
       " 'Mean Training F1 Score': 0.999435708544692,\n",
       " 'Mean Validation Accuracy': 0.9992129900066645,\n",
       " 'Mean Validation Precision': 0.9990026479568035,\n",
       " 'Mean Validation Recall': 0.9991933644311395,\n",
       " 'Mean Validation F1 Score': 0.9990979485881653}"
      ]
     },
     "execution_count": 97,
     "metadata": {},
     "output_type": "execute_result"
    }
   ],
   "source": [
    "KfoldCV(KNeighborsClassifier(), pd.DataFrame(X_dos_rfe), y_dos, 10, 1)"
   ]
  },
  {
   "cell_type": "markdown",
   "metadata": {},
   "source": [
    "#### K-fold cross validation on dos Standard Scaler"
   ]
  },
  {
   "cell_type": "code",
   "execution_count": 98,
   "metadata": {},
   "outputs": [
    {
     "name": "stdout",
     "output_type": "stream",
     "text": [
      ">Train: 0=59387, 1=61830, Test: 0=7956, 1=5513\n",
      ">Train: 0=59336, 1=61881, Test: 0=8007, 1=5462\n",
      ">Train: 0=59437, 1=61780, Test: 0=7906, 1=5563\n",
      ">Train: 0=59306, 1=61911, Test: 0=8037, 1=5432\n",
      ">Train: 0=59299, 1=61918, Test: 0=8044, 1=5425\n",
      ">Train: 0=59294, 1=61923, Test: 0=8049, 1=5420\n",
      ">Train: 0=59294, 1=61924, Test: 0=8049, 1=5419\n",
      ">Train: 0=59327, 1=61891, Test: 0=8016, 1=5452\n",
      ">Train: 0=64064, 1=57154, Test: 0=3279, 1=10189\n",
      ">Train: 0=67343, 1=53875, Test: 0=0, 1=13468\n"
     ]
    },
    {
     "data": {
      "text/plain": [
       "{'Mean Training Accuracy': 0.9972173959019583,\n",
       " 'Mean Training Precision': 0.9959382186812948,\n",
       " 'Mean Training Recall': 0.9985124527989923,\n",
       " 'Mean Training F1 Score': 0.9972236404844278,\n",
       " 'Mean Validation Accuracy': 0.9954412764216759,\n",
       " 'Mean Validation Precision': 0.9920756464231388,\n",
       " 'Mean Validation Recall': 0.9973786669088633,\n",
       " 'Mean Validation F1 Score': 0.9947171916893849}"
      ]
     },
     "execution_count": 98,
     "metadata": {},
     "output_type": "execute_result"
    }
   ],
   "source": [
    "KfoldCV(KNeighborsClassifier(), pd.DataFrame(X_dos_rfe_ss), y_dos, 10, 1)"
   ]
  },
  {
   "cell_type": "markdown",
   "metadata": {},
   "source": [
    "#### Stratified cross validation on dos"
   ]
  },
  {
   "cell_type": "code",
   "execution_count": 99,
   "metadata": {},
   "outputs": [
    {
     "name": "stdout",
     "output_type": "stream",
     "text": [
      ">Train: 0=60608, 1=60609, Test: 0=6735, 1=6734\n",
      ">Train: 0=60608, 1=60609, Test: 0=6735, 1=6734\n",
      ">Train: 0=60608, 1=60609, Test: 0=6735, 1=6734\n",
      ">Train: 0=60609, 1=60608, Test: 0=6734, 1=6735\n",
      ">Train: 0=60609, 1=60608, Test: 0=6734, 1=6735\n",
      ">Train: 0=60609, 1=60608, Test: 0=6734, 1=6735\n",
      ">Train: 0=60609, 1=60609, Test: 0=6734, 1=6734\n",
      ">Train: 0=60609, 1=60609, Test: 0=6734, 1=6734\n",
      ">Train: 0=60609, 1=60609, Test: 0=6734, 1=6734\n",
      ">Train: 0=60609, 1=60609, Test: 0=6734, 1=6734\n"
     ]
    },
    {
     "data": {
      "text/plain": [
       "{'Mean Training Accuracy': 0.9994447992048482,\n",
       " 'Mean Training Precision': 0.9994456250597032,\n",
       " 'Mean Training Recall': 0.9994439740542764,\n",
       " 'Mean Training F1 Score': 0.9994447981081898,\n",
       " 'Mean Validation Accuracy': 0.9991981383380152,\n",
       " 'Mean Validation Precision': 0.9991537188334838,\n",
       " 'Mean Validation Recall': 0.9992426823161791,\n",
       " 'Mean Validation F1 Score': 0.9991981697409681}"
      ]
     },
     "execution_count": 99,
     "metadata": {},
     "output_type": "execute_result"
    }
   ],
   "source": [
    "stratifiedCV(KNeighborsClassifier(), pd.DataFrame(X_dos_rfe), y_dos, 10, 1)"
   ]
  },
  {
   "cell_type": "markdown",
   "metadata": {},
   "source": [
    "#### Stratified cross validation on dos Standard Scaler"
   ]
  },
  {
   "cell_type": "code",
   "execution_count": 100,
   "metadata": {},
   "outputs": [
    {
     "name": "stdout",
     "output_type": "stream",
     "text": [
      ">Train: 0=60608, 1=60609, Test: 0=6735, 1=6734\n",
      ">Train: 0=60608, 1=60609, Test: 0=6735, 1=6734\n",
      ">Train: 0=60608, 1=60609, Test: 0=6735, 1=6734\n",
      ">Train: 0=60609, 1=60608, Test: 0=6734, 1=6735\n",
      ">Train: 0=60609, 1=60608, Test: 0=6734, 1=6735\n",
      ">Train: 0=60609, 1=60608, Test: 0=6734, 1=6735\n",
      ">Train: 0=60609, 1=60609, Test: 0=6734, 1=6734\n",
      ">Train: 0=60609, 1=60609, Test: 0=6734, 1=6734\n",
      ">Train: 0=60609, 1=60609, Test: 0=6734, 1=6734\n",
      ">Train: 0=60609, 1=60609, Test: 0=6734, 1=6734\n"
     ]
    },
    {
     "data": {
      "text/plain": [
       "{'Mean Training Accuracy': 0.9971868724572112,\n",
       " 'Mean Training Precision': 0.9959039521026563,\n",
       " 'Mean Training Recall': 0.9984804159137275,\n",
       " 'Mean Training F1 Score': 0.9971905115345923,\n",
       " 'Mean Validation Accuracy': 0.9955155088554004,\n",
       " 'Mean Validation Precision': 0.9934938072606494,\n",
       " 'Mean Validation Recall': 0.9975647364734226,\n",
       " 'Mean Validation F1 Score': 0.9955247035115633}"
      ]
     },
     "execution_count": 100,
     "metadata": {},
     "output_type": "execute_result"
    }
   ],
   "source": [
    "stratifiedCV(KNeighborsClassifier(), pd.DataFrame(X_dos_rfe_ss), y_dos, 10, 1)"
   ]
  },
  {
   "cell_type": "markdown",
   "metadata": {},
   "source": [
    "#### Predict on dos"
   ]
  },
  {
   "cell_type": "code",
   "execution_count": 101,
   "metadata": {},
   "outputs": [
    {
     "data": {
      "image/png": "[encoded data removed]",
      "text/plain": [
       "<Figure size 432x288 with 2 Axes>"
      ]
     },
     "metadata": {
      "needs_background": "light"
     },
     "output_type": "display_data"
    },
    {
     "name": "stdout",
     "output_type": "stream",
     "text": [
      "Accuracy: 0.87772 \n",
      "Precision: 0.97599 \n",
      "Recall: 0.77448 \n",
      "F-measure: 0.86364 \n"
     ]
    }
   ],
   "source": [
    "y_dos_rfe_prediction = kNN(X_dos_rfe, y_dos).predict(X_dos_test_rfe)\n",
    "plotConfusionMatrix(y_dos_rfe_prediction, y_dos_test, 1)"
   ]
  },
  {
   "cell_type": "code",
   "execution_count": 102,
   "metadata": {},
   "outputs": [
    {
     "data": {
      "image/png": "[encoded data removed]",
      "text/plain": [
       "<Figure size 432x288 with 2 Axes>"
      ]
     },
     "metadata": {
      "needs_background": "light"
     },
     "output_type": "display_data"
    },
    {
     "name": "stdout",
     "output_type": "stream",
     "text": [
      "Accuracy: 0.84554 \n",
      "Precision: 0.93381 \n",
      "Recall: 0.74380 \n",
      "F-measure: 0.82804 \n"
     ]
    }
   ],
   "source": [
    "y_dos_rfe_prediction = kNN(X_dos_rfe_ss, y_dos).predict(X_dos_test_rfe_ss)\n",
    "plotConfusionMatrix(y_dos_rfe_prediction, y_dos_test, 1)"
   ]
  },
  {
   "cell_type": "markdown",
   "metadata": {},
   "source": [
    "#### K-fold cross validation on probe"
   ]
  },
  {
   "cell_type": "code",
   "execution_count": 103,
   "metadata": {},
   "outputs": [
    {
     "name": "stdout",
     "output_type": "stream",
     "text": [
      ">Train: 0=55814, 1=65403, Test: 0=11529, 1=1940\n",
      ">Train: 0=55943, 1=65274, Test: 0=11400, 1=2069\n",
      ">Train: 0=55894, 1=65323, Test: 0=11449, 1=2020\n",
      ">Train: 0=55775, 1=65442, Test: 0=11568, 1=1901\n",
      ">Train: 0=55895, 1=65322, Test: 0=11448, 1=2021\n",
      ">Train: 0=57394, 1=63823, Test: 0=9949, 1=3520\n",
      ">Train: 0=67343, 1=53875, Test: 0=0, 1=13468\n",
      ">Train: 0=67343, 1=53875, Test: 0=0, 1=13468\n",
      ">Train: 0=67343, 1=53875, Test: 0=0, 1=13468\n",
      ">Train: 0=67343, 1=53875, Test: 0=0, 1=13468\n"
     ]
    },
    {
     "data": {
      "text/plain": [
       "{'Mean Training Accuracy': 0.9977734219837705,\n",
       " 'Mean Training Precision': 0.9969615573150724,\n",
       " 'Mean Training Recall': 0.9985514730844537,\n",
       " 'Mean Training F1 Score': 0.9977558742194856,\n",
       " 'Mean Validation Accuracy': 0.9968519754621173,\n",
       " 'Mean Validation Precision': 0.9871036633431899,\n",
       " 'Mean Validation Recall': 0.9977120748026514,\n",
       " 'Mean Validation F1 Score': 0.9923511239428265}"
      ]
     },
     "execution_count": 103,
     "metadata": {},
     "output_type": "execute_result"
    }
   ],
   "source": [
    "KfoldCV(KNeighborsClassifier(), pd.DataFrame(X_probe_rfe), y_probe, 10, 2)"
   ]
  },
  {
   "cell_type": "markdown",
   "metadata": {},
   "source": [
    "#### K-fold cross validation on probe Standard Scaler"
   ]
  },
  {
   "cell_type": "code",
   "execution_count": 104,
   "metadata": {},
   "outputs": [
    {
     "name": "stdout",
     "output_type": "stream",
     "text": [
      ">Train: 0=55814, 1=65403, Test: 0=11529, 1=1940\n",
      ">Train: 0=55943, 1=65274, Test: 0=11400, 1=2069\n",
      ">Train: 0=55894, 1=65323, Test: 0=11449, 1=2020\n",
      ">Train: 0=55775, 1=65442, Test: 0=11568, 1=1901\n",
      ">Train: 0=55895, 1=65322, Test: 0=11448, 1=2021\n",
      ">Train: 0=57394, 1=63823, Test: 0=9949, 1=3520\n",
      ">Train: 0=67343, 1=53875, Test: 0=0, 1=13468\n",
      ">Train: 0=67343, 1=53875, Test: 0=0, 1=13468\n",
      ">Train: 0=67343, 1=53875, Test: 0=0, 1=13468\n",
      ">Train: 0=67343, 1=53875, Test: 0=0, 1=13468\n"
     ]
    },
    {
     "data": {
      "text/plain": [
       "{'Mean Training Accuracy': 0.9980365856155593,\n",
       " 'Mean Training Precision': 0.9968619120905888,\n",
       " 'Mean Training Recall': 0.9991793690164237,\n",
       " 'Mean Training F1 Score': 0.9980192898037272,\n",
       " 'Mean Validation Accuracy': 0.9967851680358176,\n",
       " 'Mean Validation Precision': 0.9848093553030448,\n",
       " 'Mean Validation Recall': 0.9983445126992523,\n",
       " 'Mean Validation F1 Score': 0.9914875131375143}"
      ]
     },
     "execution_count": 104,
     "metadata": {},
     "output_type": "execute_result"
    }
   ],
   "source": [
    "KfoldCV(KNeighborsClassifier(), pd.DataFrame(X_probe_rfe_ss), y_probe, 10, 2)"
   ]
  },
  {
   "cell_type": "markdown",
   "metadata": {},
   "source": [
    "#### Stratified cross validation on probe"
   ]
  },
  {
   "cell_type": "code",
   "execution_count": 105,
   "metadata": {},
   "outputs": [
    {
     "name": "stdout",
     "output_type": "stream",
     "text": [
      ">Train: 0=60608, 1=60609, Test: 0=6735, 1=6734\n",
      ">Train: 0=60608, 1=60609, Test: 0=6735, 1=6734\n",
      ">Train: 0=60608, 1=60609, Test: 0=6735, 1=6734\n",
      ">Train: 0=60609, 1=60608, Test: 0=6734, 1=6735\n",
      ">Train: 0=60609, 1=60608, Test: 0=6734, 1=6735\n",
      ">Train: 0=60609, 1=60608, Test: 0=6734, 1=6735\n",
      ">Train: 0=60609, 1=60609, Test: 0=6734, 1=6734\n",
      ">Train: 0=60609, 1=60609, Test: 0=6734, 1=6734\n",
      ">Train: 0=60609, 1=60609, Test: 0=6734, 1=6734\n",
      ">Train: 0=60609, 1=60609, Test: 0=6734, 1=6734\n"
     ]
    },
    {
     "data": {
      "text/plain": [
       "{'Mean Training Accuracy': 0.9977676472570387,\n",
       " 'Mean Training Precision': 0.996978842445896,\n",
       " 'Mean Training Recall': 0.9985612625099259,\n",
       " 'Mean Training F1 Score': 0.9977694202621608,\n",
       " 'Mean Validation Accuracy': 0.9970524010486146,\n",
       " 'Mean Validation Precision': 0.9958972286697806,\n",
       " 'Mean Validation Recall': 0.9982180731846656,\n",
       " 'Mean Validation F1 Score': 0.9970560158709028}"
      ]
     },
     "execution_count": 105,
     "metadata": {},
     "output_type": "execute_result"
    }
   ],
   "source": [
    "stratifiedCV(KNeighborsClassifier(), pd.DataFrame(X_probe_rfe), y_probe, 10, 2)"
   ]
  },
  {
   "cell_type": "markdown",
   "metadata": {},
   "source": [
    "#### Stratified cross validation on probe Standard Scaler"
   ]
  },
  {
   "cell_type": "code",
   "execution_count": 106,
   "metadata": {},
   "outputs": [
    {
     "name": "stdout",
     "output_type": "stream",
     "text": [
      ">Train: 0=60608, 1=60609, Test: 0=6735, 1=6734\n",
      ">Train: 0=60608, 1=60609, Test: 0=6735, 1=6734\n",
      ">Train: 0=60608, 1=60609, Test: 0=6735, 1=6734\n",
      ">Train: 0=60609, 1=60608, Test: 0=6734, 1=6735\n",
      ">Train: 0=60609, 1=60608, Test: 0=6734, 1=6735\n",
      ">Train: 0=60609, 1=60608, Test: 0=6734, 1=6735\n",
      ">Train: 0=60609, 1=60609, Test: 0=6734, 1=6734\n",
      ">Train: 0=60609, 1=60609, Test: 0=6734, 1=6734\n",
      ">Train: 0=60609, 1=60609, Test: 0=6734, 1=6734\n",
      ">Train: 0=60609, 1=60609, Test: 0=6734, 1=6734\n"
     ]
    },
    {
     "data": {
      "text/plain": [
       "{'Mean Training Accuracy': 0.998019261251612,\n",
       " 'Mean Training Precision': 0.996864184982565,\n",
       " 'Mean Training Recall': 0.9991816357159449,\n",
       " 'Mean Training F1 Score': 0.9980215625505764,\n",
       " 'Mean Validation Accuracy': 0.997059833222503,\n",
       " 'Mean Validation Precision': 0.9954859791371176,\n",
       " 'Mean Validation Recall': 0.9986487037711982,\n",
       " 'Mean Validation F1 Score': 0.9970646212352502}"
      ]
     },
     "execution_count": 106,
     "metadata": {},
     "output_type": "execute_result"
    }
   ],
   "source": [
    "stratifiedCV(KNeighborsClassifier(), pd.DataFrame(X_probe_rfe_ss), y_probe, 10, 2)"
   ]
  },
  {
   "cell_type": "markdown",
   "metadata": {},
   "source": [
    "#### Predict on probe"
   ]
  },
  {
   "cell_type": "code",
   "execution_count": 107,
   "metadata": {},
   "outputs": [
    {
     "data": {
      "image/png": "[encoded data removed]",
      "text/plain": [
       "<Figure size 432x288 with 2 Axes>"
      ]
     },
     "metadata": {
      "needs_background": "light"
     },
     "output_type": "display_data"
    },
    {
     "name": "stdout",
     "output_type": "stream",
     "text": [
      "Accuracy: 0.83405 \n",
      "Precision: 0.96623 \n",
      "Recall: 0.69231 \n",
      "F-measure: 0.80665 \n"
     ]
    }
   ],
   "source": [
    "y_probe_rfe_prediction = kNN(X_probe_rfe, y_probe).predict(X_probe_test_rfe)\n",
    "plotConfusionMatrix(y_probe_rfe_prediction, y_probe_test, 2)"
   ]
  },
  {
   "cell_type": "code",
   "execution_count": 108,
   "metadata": {},
   "outputs": [
    {
     "data": {
      "image/png": "[encoded data removed]",
      "text/plain": [
       "<Figure size 432x288 with 2 Axes>"
      ]
     },
     "metadata": {
      "needs_background": "light"
     },
     "output_type": "display_data"
    },
    {
     "name": "stdout",
     "output_type": "stream",
     "text": [
      "Accuracy: 0.83405 \n",
      "Precision: 0.96623 \n",
      "Recall: 0.69231 \n",
      "F-measure: 0.80665 \n"
     ]
    }
   ],
   "source": [
    "y_r2l_rfe_prediction = kNN(X_probe_rfe_ss, y_probe).predict(X_probe_test_rfe_ss)\n",
    "plotConfusionMatrix(y_probe_rfe_prediction, y_probe_test, 2)"
   ]
  },
  {
   "cell_type": "markdown",
   "metadata": {},
   "source": [
    "#### K-fold cross validation on r2l"
   ]
  },
  {
   "cell_type": "code",
   "execution_count": 109,
   "metadata": {},
   "outputs": [
    {
     "name": "stdout",
     "output_type": "stream",
     "text": [
      ">Train: 0=54080, 1=67137, Test: 0=13263, 1=206\n",
      ">Train: 0=54094, 1=67123, Test: 0=13249, 1=220\n",
      ">Train: 0=54054, 1=67163, Test: 0=13289, 1=180\n",
      ">Train: 0=54045, 1=67172, Test: 0=13298, 1=171\n",
      ">Train: 0=54082, 1=67135, Test: 0=13261, 1=208\n",
      ">Train: 0=66360, 1=54857, Test: 0=983, 1=12486\n",
      ">Train: 0=67343, 1=53875, Test: 0=0, 1=13468\n",
      ">Train: 0=67343, 1=53875, Test: 0=0, 1=13468\n",
      ">Train: 0=67343, 1=53875, Test: 0=0, 1=13468\n",
      ">Train: 0=67343, 1=53875, Test: 0=0, 1=13468\n"
     ]
    },
    {
     "data": {
      "text/plain": [
       "{'Mean Training Accuracy': 0.9971563488082944,\n",
       " 'Mean Training Precision': 0.9966781084319554,\n",
       " 'Mean Training Recall': 0.997572462042514,\n",
       " 'Mean Training F1 Score': 0.9971250795145471,\n",
       " 'Mean Validation Accuracy': 0.9952853496119515,\n",
       " 'Mean Validation Precision': 0.8626659609111282,\n",
       " 'Mean Validation Recall': 0.9965025631264547,\n",
       " 'Mean Validation F1 Score': 0.9188354879113207}"
      ]
     },
     "execution_count": 109,
     "metadata": {},
     "output_type": "execute_result"
    }
   ],
   "source": [
    "KfoldCV(KNeighborsClassifier(), pd.DataFrame(X_r2l_rfe), y_r2l, 10, 3)"
   ]
  },
  {
   "cell_type": "markdown",
   "metadata": {},
   "source": [
    "#### K-fold cross validation on r2l Standard Scaler"
   ]
  },
  {
   "cell_type": "code",
   "execution_count": 110,
   "metadata": {},
   "outputs": [
    {
     "name": "stdout",
     "output_type": "stream",
     "text": [
      ">Train: 0=54080, 1=67137, Test: 0=13263, 1=206\n",
      ">Train: 0=54094, 1=67123, Test: 0=13249, 1=220\n",
      ">Train: 0=54054, 1=67163, Test: 0=13289, 1=180\n",
      ">Train: 0=54045, 1=67172, Test: 0=13298, 1=171\n",
      ">Train: 0=54082, 1=67135, Test: 0=13261, 1=208\n",
      ">Train: 0=66360, 1=54857, Test: 0=983, 1=12486\n",
      ">Train: 0=67343, 1=53875, Test: 0=0, 1=13468\n",
      ">Train: 0=67343, 1=53875, Test: 0=0, 1=13468\n",
      ">Train: 0=67343, 1=53875, Test: 0=0, 1=13468\n",
      ">Train: 0=67343, 1=53875, Test: 0=0, 1=13468\n"
     ]
    },
    {
     "data": {
      "text/plain": [
       "{'Mean Training Accuracy': 0.9970458039859569,\n",
       " 'Mean Training Precision': 0.9952637212182005,\n",
       " 'Mean Training Recall': 0.9987538139833896,\n",
       " 'Mean Training F1 Score': 0.997005686780936,\n",
       " 'Mean Validation Accuracy': 0.9954710139374925,\n",
       " 'Mean Validation Precision': 0.8416001278535001,\n",
       " 'Mean Validation Recall': 0.9926526386195207,\n",
       " 'Mean Validation F1 Score': 0.9030773444739675}"
      ]
     },
     "execution_count": 110,
     "metadata": {},
     "output_type": "execute_result"
    }
   ],
   "source": [
    "KfoldCV(KNeighborsClassifier(), pd.DataFrame(X_r2l_rfe_ss), y_r2l, 10, 3)"
   ]
  },
  {
   "cell_type": "markdown",
   "metadata": {},
   "source": [
    "#### Stratified cross validation on r2l"
   ]
  },
  {
   "cell_type": "code",
   "execution_count": 111,
   "metadata": {},
   "outputs": [
    {
     "name": "stdout",
     "output_type": "stream",
     "text": [
      ">Train: 0=60608, 1=60609, Test: 0=6735, 1=6734\n",
      ">Train: 0=60608, 1=60609, Test: 0=6735, 1=6734\n",
      ">Train: 0=60608, 1=60609, Test: 0=6735, 1=6734\n",
      ">Train: 0=60609, 1=60608, Test: 0=6734, 1=6735\n",
      ">Train: 0=60609, 1=60608, Test: 0=6734, 1=6735\n",
      ">Train: 0=60609, 1=60608, Test: 0=6734, 1=6735\n",
      ">Train: 0=60609, 1=60609, Test: 0=6734, 1=6734\n",
      ">Train: 0=60609, 1=60609, Test: 0=6734, 1=6734\n",
      ">Train: 0=60609, 1=60609, Test: 0=6734, 1=6734\n",
      ">Train: 0=60609, 1=60609, Test: 0=6734, 1=6734\n"
     ]
    },
    {
     "data": {
      "text/plain": [
       "{'Mean Training Accuracy': 0.9971423244000006,\n",
       " 'Mean Training Precision': 0.9966654023465423,\n",
       " 'Mean Training Recall': 0.99762245316906,\n",
       " 'Mean Training F1 Score': 0.9971436946772906,\n",
       " 'Mean Validation Accuracy': 0.9959090061343383,\n",
       " 'Mean Validation Precision': 0.9951531117535435,\n",
       " 'Mean Validation Recall': 0.9966737399922257,\n",
       " 'Mean Validation F1 Score': 0.9959123247578401}"
      ]
     },
     "execution_count": 111,
     "metadata": {},
     "output_type": "execute_result"
    }
   ],
   "source": [
    "stratifiedCV(KNeighborsClassifier(), pd.DataFrame(X_r2l_rfe), y_r2l, 10, 3)"
   ]
  },
  {
   "cell_type": "markdown",
   "metadata": {},
   "source": [
    "#### Stratified cross validation on r2l Standard Scaler"
   ]
  },
  {
   "cell_type": "code",
   "execution_count": 112,
   "metadata": {},
   "outputs": [
    {
     "name": "stdout",
     "output_type": "stream",
     "text": [
      ">Train: 0=60608, 1=60609, Test: 0=6735, 1=6734\n",
      ">Train: 0=60608, 1=60609, Test: 0=6735, 1=6734\n",
      ">Train: 0=60608, 1=60609, Test: 0=6735, 1=6734\n",
      ">Train: 0=60609, 1=60608, Test: 0=6734, 1=6735\n",
      ">Train: 0=60609, 1=60608, Test: 0=6734, 1=6735\n",
      ">Train: 0=60609, 1=60608, Test: 0=6734, 1=6735\n",
      ">Train: 0=60609, 1=60609, Test: 0=6734, 1=6734\n",
      ">Train: 0=60609, 1=60609, Test: 0=6734, 1=6734\n",
      ">Train: 0=60609, 1=60609, Test: 0=6734, 1=6734\n",
      ">Train: 0=60609, 1=60609, Test: 0=6734, 1=6734\n"
     ]
    },
    {
     "data": {
      "text/plain": [
       "{'Mean Training Accuracy': 0.9970400289733881,\n",
       " 'Mean Training Precision': 0.9952945048174856,\n",
       " 'Mean Training Recall': 0.9988021521607602,\n",
       " 'Mean Training F1 Score': 0.9970452387801167,\n",
       " 'Mean Validation Accuracy': 0.9958570338386956,\n",
       " 'Mean Validation Precision': 0.9937021275213219,\n",
       " 'Mean Validation Recall': 0.9980398685966614,\n",
       " 'Mean Validation F1 Score': 0.9958660641501351}"
      ]
     },
     "execution_count": 112,
     "metadata": {},
     "output_type": "execute_result"
    }
   ],
   "source": [
    "stratifiedCV(KNeighborsClassifier(), pd.DataFrame(X_r2l_rfe_ss), y_r2l, 10, 3)"
   ]
  },
  {
   "cell_type": "markdown",
   "metadata": {},
   "source": [
    "#### Predict on r2l"
   ]
  },
  {
   "cell_type": "code",
   "execution_count": 113,
   "metadata": {},
   "outputs": [
    {
     "data": {
      "image/png": "[encoded data removed]",
      "text/plain": [
       "<Figure size 432x288 with 2 Axes>"
      ]
     },
     "metadata": {
      "needs_background": "light"
     },
     "output_type": "display_data"
    },
    {
     "name": "stdout",
     "output_type": "stream",
     "text": [
      "Accuracy: 0.59546 \n",
      "Precision: 0.97587 \n",
      "Recall: 0.19576 \n",
      "F-measure: 0.32610 \n"
     ]
    }
   ],
   "source": [
    "y_r2l_rfe_prediction = kNN(X_r2l_rfe, y_r2l).predict(X_r2l_test_rfe)\n",
    "plotConfusionMatrix(y_r2l_rfe_prediction, y_r2l_test, 3)"
   ]
  },
  {
   "cell_type": "code",
   "execution_count": 114,
   "metadata": {},
   "outputs": [
    {
     "data": {
      "image/png": "[encoded data removed]",
      "text/plain": [
       "<Figure size 432x288 with 2 Axes>"
      ]
     },
     "metadata": {
      "needs_background": "light"
     },
     "output_type": "display_data"
    },
    {
     "name": "stdout",
     "output_type": "stream",
     "text": [
      "Accuracy: 0.64478 \n",
      "Precision: 0.68524 \n",
      "Recall: 0.53558 \n",
      "F-measure: 0.60124 \n"
     ]
    }
   ],
   "source": [
    "y_r2l_rfe_prediction = kNN(X_r2l_rfe_ss, y_r2l).predict(X_r2l_test_rfe_ss)\n",
    "plotConfusionMatrix(y_r2l_rfe_prediction, y_r2l_test, 3)"
   ]
  },
  {
   "cell_type": "markdown",
   "metadata": {},
   "source": [
    "#### K-fold cross validation on u2r"
   ]
  },
  {
   "cell_type": "code",
   "execution_count": 115,
   "metadata": {},
   "outputs": [
    {
     "name": "stdout",
     "output_type": "stream",
     "text": [
      ">Train: 0=53885, 1=67332, Test: 0=13458, 1=11\n",
      ">Train: 0=53886, 1=67331, Test: 0=13457, 1=12\n",
      ">Train: 0=53886, 1=67331, Test: 0=13457, 1=12\n",
      ">Train: 0=53882, 1=67335, Test: 0=13461, 1=8\n",
      ">Train: 0=53883, 1=67334, Test: 0=13460, 1=9\n",
      ">Train: 0=67293, 1=53924, Test: 0=50, 1=13419\n",
      ">Train: 0=67343, 1=53875, Test: 0=0, 1=13468\n",
      ">Train: 0=67343, 1=53875, Test: 0=0, 1=13468\n",
      ">Train: 0=67343, 1=53875, Test: 0=0, 1=13468\n",
      ">Train: 0=67343, 1=53875, Test: 0=0, 1=13468\n"
     ]
    },
    {
     "data": {
      "text/plain": [
       "{'Mean Training Accuracy': 0.9981174319939731,\n",
       " 'Mean Training Precision': 0.9968143003560488,\n",
       " 'Mean Training Recall': 0.9993800771053601,\n",
       " 'Mean Training F1 Score': 0.9980955253005522,\n",
       " 'Mean Validation Accuracy': 0.9965772860197093,\n",
       " 'Mean Validation Precision': 0.5616596667273975,\n",
       " 'Mean Validation Recall': 0.999316357062836,\n",
       " 'Mean Validation F1 Score': 0.6092758374034997}"
      ]
     },
     "execution_count": 115,
     "metadata": {},
     "output_type": "execute_result"
    }
   ],
   "source": [
    "KfoldCV(KNeighborsClassifier(), pd.DataFrame(X_u2r_rfe), y_u2r, 10, 4)"
   ]
  },
  {
   "cell_type": "markdown",
   "metadata": {},
   "source": [
    "#### K-fold cross validation on u2r Standard Scaler"
   ]
  },
  {
   "cell_type": "code",
   "execution_count": 116,
   "metadata": {},
   "outputs": [
    {
     "name": "stdout",
     "output_type": "stream",
     "text": [
      ">Train: 0=53885, 1=67332, Test: 0=13458, 1=11\n",
      ">Train: 0=53886, 1=67331, Test: 0=13457, 1=12\n",
      ">Train: 0=53886, 1=67331, Test: 0=13457, 1=12\n",
      ">Train: 0=53882, 1=67335, Test: 0=13461, 1=8\n",
      ">Train: 0=53883, 1=67334, Test: 0=13460, 1=9\n",
      ">Train: 0=67293, 1=53924, Test: 0=50, 1=13419\n",
      ">Train: 0=67343, 1=53875, Test: 0=0, 1=13468\n",
      ">Train: 0=67343, 1=53875, Test: 0=0, 1=13468\n",
      ">Train: 0=67343, 1=53875, Test: 0=0, 1=13468\n",
      ">Train: 0=67343, 1=53875, Test: 0=0, 1=13468\n"
     ]
    },
    {
     "data": {
      "text/plain": [
       "{'Mean Training Accuracy': 0.9993680776059648,\n",
       " 'Mean Training Precision': 0.9987586899476051,\n",
       " 'Mean Training Recall': 0.9999573111636263,\n",
       " 'Mean Training F1 Score': 0.9993576329506926,\n",
       " 'Mean Validation Accuracy': 0.9991090625046375,\n",
       " 'Mean Validation Precision': 0.6542408390795488,\n",
       " 'Mean Validation Recall': 0.9825311804185045,\n",
       " 'Mean Validation F1 Score': 0.7328184401884785}"
      ]
     },
     "execution_count": 116,
     "metadata": {},
     "output_type": "execute_result"
    }
   ],
   "source": [
    "KfoldCV(KNeighborsClassifier(), pd.DataFrame(X_u2r_rfe_ss), y_u2r, 10, 4)"
   ]
  },
  {
   "cell_type": "markdown",
   "metadata": {},
   "source": [
    "#### Stratified cross validation on u2r"
   ]
  },
  {
   "cell_type": "code",
   "execution_count": 117,
   "metadata": {},
   "outputs": [
    {
     "name": "stdout",
     "output_type": "stream",
     "text": [
      ">Train: 0=60608, 1=60609, Test: 0=6735, 1=6734\n",
      ">Train: 0=60608, 1=60609, Test: 0=6735, 1=6734\n",
      ">Train: 0=60608, 1=60609, Test: 0=6735, 1=6734\n",
      ">Train: 0=60609, 1=60608, Test: 0=6734, 1=6735\n",
      ">Train: 0=60609, 1=60608, Test: 0=6734, 1=6735\n",
      ">Train: 0=60609, 1=60608, Test: 0=6734, 1=6735\n",
      ">Train: 0=60609, 1=60609, Test: 0=6734, 1=6734\n",
      ">Train: 0=60609, 1=60609, Test: 0=6734, 1=6734\n",
      ">Train: 0=60609, 1=60609, Test: 0=6734, 1=6734\n",
      ">Train: 0=60609, 1=60609, Test: 0=6734, 1=6734\n"
     ]
    },
    {
     "data": {
      "text/plain": [
       "{'Mean Training Accuracy': 0.9981124820162556,\n",
       " 'Mean Training Precision': 0.9968484209854415,\n",
       " 'Mean Training Recall': 0.9993845767444773,\n",
       " 'Mean Training F1 Score': 0.9981148839866462,\n",
       " 'Mean Validation Accuracy': 0.9970598282611054,\n",
       " 'Mean Validation Precision': 0.9953096092443994,\n",
       " 'Mean Validation Recall': 0.9988268907199865,\n",
       " 'Mean Validation F1 Score': 0.9970650533504504}"
      ]
     },
     "execution_count": 117,
     "metadata": {},
     "output_type": "execute_result"
    }
   ],
   "source": [
    "stratifiedCV(KNeighborsClassifier(), pd.DataFrame(X_u2r_rfe), y_u2r, 10, 4)"
   ]
  },
  {
   "cell_type": "markdown",
   "metadata": {},
   "source": [
    "#### Stratified cross validation on u2r Standard Scaler"
   ]
  },
  {
   "cell_type": "code",
   "execution_count": 118,
   "metadata": {},
   "outputs": [
    {
     "name": "stdout",
     "output_type": "stream",
     "text": [
      ">Train: 0=60608, 1=60609, Test: 0=6735, 1=6734\n",
      ">Train: 0=60608, 1=60609, Test: 0=6735, 1=6734\n",
      ">Train: 0=60608, 1=60609, Test: 0=6735, 1=6734\n",
      ">Train: 0=60609, 1=60608, Test: 0=6734, 1=6735\n",
      ">Train: 0=60609, 1=60608, Test: 0=6734, 1=6735\n",
      ">Train: 0=60609, 1=60608, Test: 0=6734, 1=6735\n",
      ">Train: 0=60609, 1=60609, Test: 0=6734, 1=6734\n",
      ">Train: 0=60609, 1=60609, Test: 0=6734, 1=6734\n",
      ">Train: 0=60609, 1=60609, Test: 0=6734, 1=6734\n",
      ">Train: 0=60609, 1=60609, Test: 0=6734, 1=6734\n"
     ]
    },
    {
     "data": {
      "text/plain": [
       "{'Mean Training Accuracy': 0.9993680775719366,\n",
       " 'Mean Training Precision': 0.998778851486005,\n",
       " 'Mean Training Recall': 0.9999587518099684,\n",
       " 'Mean Training F1 Score': 0.9993684520682207,\n",
       " 'Mean Validation Accuracy': 0.9991684377570487,\n",
       " 'Mean Validation Precision': 0.9984580596428622,\n",
       " 'Mean Validation Recall': 0.9998812042910039,\n",
       " 'Mean Validation F1 Score': 0.999169076666942}"
      ]
     },
     "execution_count": 118,
     "metadata": {},
     "output_type": "execute_result"
    }
   ],
   "source": [
    "stratifiedCV(KNeighborsClassifier(), pd.DataFrame(X_u2r_rfe_ss), y_u2r, 10, 4)"
   ]
  },
  {
   "cell_type": "markdown",
   "metadata": {},
   "source": [
    "#### Predict on u2r"
   ]
  },
  {
   "cell_type": "code",
   "execution_count": 119,
   "metadata": {},
   "outputs": [
    {
     "data": {
      "image/png": "[encoded data removed]",
      "text/plain": [
       "<Figure size 432x288 with 2 Axes>"
      ]
     },
     "metadata": {
      "needs_background": "light"
     },
     "output_type": "display_data"
    },
    {
     "name": "stdout",
     "output_type": "stream",
     "text": [
      "Accuracy: 0.76655 \n",
      "Precision: 0.99108 \n",
      "Recall: 0.53795 \n",
      "F-measure: 0.69737 \n"
     ]
    }
   ],
   "source": [
    "y_u2r_rfe_prediction = kNN(X_u2r_rfe, y_u2r).predict(X_u2r_test_rfe)\n",
    "plotConfusionMatrix(y_u2r_rfe_prediction, y_u2r_test, 4)"
   ]
  },
  {
   "cell_type": "code",
   "execution_count": 120,
   "metadata": {},
   "outputs": [
    {
     "data": {
      "image/png": "[encoded data removed]",
      "text/plain": [
       "<Figure size 432x288 with 2 Axes>"
      ]
     },
     "metadata": {
      "needs_background": "light"
     },
     "output_type": "display_data"
    },
    {
     "name": "stdout",
     "output_type": "stream",
     "text": [
      "Accuracy: 0.76568 \n",
      "Precision: 0.95631 \n",
      "Recall: 0.55679 \n",
      "F-measure: 0.70381 \n"
     ]
    }
   ],
   "source": [
    "y_u2r_rfe_prediction = kNN(X_u2r_rfe_ss, y_u2r).predict(X_u2r_test_rfe_ss)\n",
    "plotConfusionMatrix(y_u2r_rfe_prediction, y_u2r_test, 4)"
   ]
  },
  {
   "cell_type": "markdown",
   "metadata": {},
   "source": [
    "# Full DF, no Oversampling"
   ]
  },
  {
   "cell_type": "code",
   "execution_count": 121,
   "metadata": {},
   "outputs": [
    {
     "data": {
      "text/plain": [
       "<module 'matplotlib.pyplot' from 'C:\\\\Users\\\\Daniele\\\\anaconda3\\\\lib\\\\site-packages\\\\matplotlib\\\\pyplot.py'>"
      ]
     },
     "execution_count": 121,
     "metadata": {},
     "output_type": "execute_result"
    },
    {
     "data": {
      "image/png": "[encoded data removed]",
      "text/plain": [
       "<Figure size 720x360 with 1 Axes>"
      ]
     },
     "metadata": {
      "needs_background": "light"
     },
     "output_type": "display_data"
    }
   ],
   "source": [
    "fullDf = getFullDf()\n",
    "fullDf_test = getFullDfTest()\n",
    "\n",
    "\n",
    "fullDf=oneHotEcoding(fullDf, 'protocol_type')\n",
    "fullDf=oneHotEcoding(fullDf, 'service')\n",
    "fullDf=oneHotEcoding(fullDf, 'flag')\n",
    "fullDf_test=oneHotEcoding(fullDf_test, 'protocol_type')\n",
    "fullDf_test=oneHotEcoding(fullDf_test, 'service')\n",
    "fullDf_test=oneHotEcoding(fullDf_test, 'flag')\n",
    "\n",
    "fullDf_test=adaptTestset(fullDf, fullDf_test)\n",
    "\n",
    "fullDf['label'], fullDf_test['label'] = prepareMulticlass()\n",
    "\n",
    "plotDf(fullDf['label'])"
   ]
  },
  {
   "cell_type": "code",
   "execution_count": 122,
   "metadata": {},
   "outputs": [],
   "source": [
    "#Preparo i dataframe per ogni classe di attacco\n",
    "dos, probe, r2l, u2r = createMulticlassDF(fullDf)\n",
    "dos_test, probe_test, r2l_test, u2r_test = createMulticlassDF(fullDf_test)\n",
    "\n",
    "X_dos, y_dos = getXandY(dos)\n",
    "X_probe, y_probe = getXandY(probe)\n",
    "X_r2l, y_r2l = getXandY(r2l)\n",
    "X_u2r, y_u2r = getXandY(u2r)\n",
    "\n",
    "X_dos_test, y_dos_test = getXandY(dos_test)\n",
    "X_probe_test, y_probe_test = getXandY(probe_test)\n",
    "X_r2l_test, y_r2l_test = getXandY(r2l_test)\n",
    "X_u2r_test, y_u2r_test = getXandY(u2r_test)\n"
   ]
  },
  {
   "cell_type": "code",
   "execution_count": 123,
   "metadata": {},
   "outputs": [],
   "source": [
    "#Effettuo standard scaler\n",
    "X_dos_ss=standardScaler(X_dos)\n",
    "X_probe_ss=standardScaler(X_probe)\n",
    "X_r2l_ss=standardScaler(X_r2l)\n",
    "X_u2r_ss=standardScaler(X_u2r)\n",
    "\n",
    "X_dos_test_ss=standardScaler(X_dos_test)\n",
    "X_probe_test_ss=standardScaler(X_probe_test)\n",
    "X_r2l_test_ss=standardScaler(X_r2l_test)\n",
    "X_u2r_test_ss=standardScaler(X_u2r_test)"
   ]
  },
  {
   "cell_type": "markdown",
   "metadata": {},
   "source": [
    "#### K-fold cross validation on dos"
   ]
  },
  {
   "cell_type": "code",
   "execution_count": 124,
   "metadata": {
    "scrolled": false
   },
   "outputs": [
    {
     "name": "stdout",
     "output_type": "stream",
     "text": [
      ">Train: 0=60666, 1=41277, Test: 0=6677, 1=4650\n",
      ">Train: 0=60586, 1=41357, Test: 0=6757, 1=4570\n",
      ">Train: 0=60612, 1=41331, Test: 0=6731, 1=4596\n",
      ">Train: 0=60720, 1=41223, Test: 0=6623, 1=4704\n",
      ">Train: 0=60634, 1=41309, Test: 0=6709, 1=4618\n",
      ">Train: 0=60525, 1=41418, Test: 0=6818, 1=4509\n",
      ">Train: 0=60548, 1=41395, Test: 0=6795, 1=4532\n",
      ">Train: 0=60557, 1=41386, Test: 0=6786, 1=4541\n",
      ">Train: 0=60662, 1=41281, Test: 0=6681, 1=4646\n",
      ">Train: 0=60577, 1=41366, Test: 0=6766, 1=4561\n"
     ]
    },
    {
     "data": {
      "text/plain": [
       "{'Mean Training Accuracy': 0.9991151918228814,\n",
       " 'Mean Training Precision': 0.9984193873660209,\n",
       " 'Mean Training Recall': 0.9993999935268614,\n",
       " 'Mean Training F1 Score': 0.9989094462542185,\n",
       " 'Mean Validation Accuracy': 0.9987728436479208,\n",
       " 'Mean Validation Precision': 0.9979345426545919,\n",
       " 'Mean Validation Recall': 0.9990420448438014,\n",
       " 'Mean Validation F1 Score': 0.9984879091461882}"
      ]
     },
     "execution_count": 124,
     "metadata": {},
     "output_type": "execute_result"
    }
   ],
   "source": [
    "KfoldCV(KNeighborsClassifier(), pd.DataFrame(X_dos), y_dos, 10, 1)"
   ]
  },
  {
   "cell_type": "markdown",
   "metadata": {},
   "source": [
    "#### K-fold cross validation on dos Standard Scaling"
   ]
  },
  {
   "cell_type": "code",
   "execution_count": 125,
   "metadata": {},
   "outputs": [
    {
     "name": "stdout",
     "output_type": "stream",
     "text": [
      ">Train: 0=60666, 1=41277, Test: 0=6677, 1=4650\n",
      ">Train: 0=60586, 1=41357, Test: 0=6757, 1=4570\n",
      ">Train: 0=60612, 1=41331, Test: 0=6731, 1=4596\n",
      ">Train: 0=60720, 1=41223, Test: 0=6623, 1=4704\n",
      ">Train: 0=60634, 1=41309, Test: 0=6709, 1=4618\n",
      ">Train: 0=60525, 1=41418, Test: 0=6818, 1=4509\n",
      ">Train: 0=60548, 1=41395, Test: 0=6795, 1=4532\n",
      ">Train: 0=60557, 1=41386, Test: 0=6786, 1=4541\n",
      ">Train: 0=60662, 1=41281, Test: 0=6681, 1=4646\n",
      ">Train: 0=60577, 1=41366, Test: 0=6766, 1=4561\n"
     ]
    },
    {
     "data": {
      "text/plain": [
       "{'Mean Training Accuracy': 0.999470292222124,\n",
       " 'Mean Training Precision': 0.9992743179672905,\n",
       " 'Mean Training Recall': 0.9994193763281295,\n",
       " 'Mean Training F1 Score': 0.9993468399557361,\n",
       " 'Mean Validation Accuracy': 0.9991612960183633,\n",
       " 'Mean Validation Precision': 0.998690542610009,\n",
       " 'Mean Validation Recall': 0.9992372259463524,\n",
       " 'Mean Validation F1 Score': 0.9989637534927531}"
      ]
     },
     "execution_count": 125,
     "metadata": {},
     "output_type": "execute_result"
    }
   ],
   "source": [
    "KfoldCV(KNeighborsClassifier(), pd.DataFrame(X_dos_ss), y_dos, 10, 1)"
   ]
  },
  {
   "cell_type": "markdown",
   "metadata": {},
   "source": [
    "#### Stratified cross validation on dos"
   ]
  },
  {
   "cell_type": "code",
   "execution_count": 126,
   "metadata": {},
   "outputs": [
    {
     "name": "stdout",
     "output_type": "stream",
     "text": [
      ">Train: 0=60608, 1=41335, Test: 0=6735, 1=4592\n",
      ">Train: 0=60608, 1=41335, Test: 0=6735, 1=4592\n",
      ">Train: 0=60608, 1=41335, Test: 0=6735, 1=4592\n",
      ">Train: 0=60609, 1=41334, Test: 0=6734, 1=4593\n",
      ">Train: 0=60609, 1=41334, Test: 0=6734, 1=4593\n",
      ">Train: 0=60609, 1=41334, Test: 0=6734, 1=4593\n",
      ">Train: 0=60609, 1=41334, Test: 0=6734, 1=4593\n",
      ">Train: 0=60609, 1=41334, Test: 0=6734, 1=4593\n",
      ">Train: 0=60609, 1=41334, Test: 0=6734, 1=4593\n",
      ">Train: 0=60609, 1=41334, Test: 0=6734, 1=4593\n"
     ]
    },
    {
     "data": {
      "text/plain": [
       "{'Mean Training Accuracy': 0.9991171537035403,\n",
       " 'Mean Training Precision': 0.9984217563384705,\n",
       " 'Mean Training Recall': 0.9994024331486733,\n",
       " 'Mean Training F1 Score': 0.9989118513014427,\n",
       " 'Mean Validation Accuracy': 0.9987640151849563,\n",
       " 'Mean Validation Precision': 0.997933973763429,\n",
       " 'Mean Validation Recall': 0.9990201770835941,\n",
       " 'Mean Validation F1 Score': 0.9984767185863669}"
      ]
     },
     "execution_count": 126,
     "metadata": {},
     "output_type": "execute_result"
    }
   ],
   "source": [
    "stratifiedCV(KNeighborsClassifier(), pd.DataFrame(X_dos), y_dos, 10, 1)"
   ]
  },
  {
   "cell_type": "markdown",
   "metadata": {},
   "source": [
    "#### Stratified cross validation on dos Standard Scaling"
   ]
  },
  {
   "cell_type": "code",
   "execution_count": 127,
   "metadata": {},
   "outputs": [
    {
     "name": "stdout",
     "output_type": "stream",
     "text": [
      ">Train: 0=60608, 1=41335, Test: 0=6735, 1=4592\n",
      ">Train: 0=60608, 1=41335, Test: 0=6735, 1=4592\n",
      ">Train: 0=60608, 1=41335, Test: 0=6735, 1=4592\n",
      ">Train: 0=60609, 1=41334, Test: 0=6734, 1=4593\n",
      ">Train: 0=60609, 1=41334, Test: 0=6734, 1=4593\n",
      ">Train: 0=60609, 1=41334, Test: 0=6734, 1=4593\n",
      ">Train: 0=60609, 1=41334, Test: 0=6734, 1=4593\n",
      ">Train: 0=60609, 1=41334, Test: 0=6734, 1=4593\n",
      ">Train: 0=60609, 1=41334, Test: 0=6734, 1=4593\n",
      ">Train: 0=60609, 1=41334, Test: 0=6734, 1=4593\n"
     ]
    },
    {
     "data": {
      "text/plain": [
       "{'Mean Training Accuracy': 0.9994702922221241,\n",
       " 'Mean Training Precision': 0.9992743210630083,\n",
       " 'Mean Training Recall': 0.9994193684764549,\n",
       " 'Mean Training F1 Score': 0.999346837313702,\n",
       " 'Mean Validation Accuracy': 0.9991612960183633,\n",
       " 'Mean Validation Precision': 0.9986944313736956,\n",
       " 'Mean Validation Recall': 0.9992379044463208,\n",
       " 'Mean Validation F1 Score': 0.9989660390047952}"
      ]
     },
     "execution_count": 127,
     "metadata": {},
     "output_type": "execute_result"
    }
   ],
   "source": [
    "stratifiedCV(KNeighborsClassifier(), pd.DataFrame(X_dos_ss), y_dos, 10, 1)"
   ]
  },
  {
   "cell_type": "markdown",
   "metadata": {},
   "source": [
    "#### Predict on dos"
   ]
  },
  {
   "cell_type": "code",
   "execution_count": 128,
   "metadata": {
    "scrolled": true
   },
   "outputs": [
    {
     "data": {
      "image/png": "[encoded data removed]",
      "text/plain": [
       "<Figure size 432x288 with 2 Axes>"
      ]
     },
     "metadata": {
      "needs_background": "light"
     },
     "output_type": "display_data"
    },
    {
     "name": "stdout",
     "output_type": "stream",
     "text": [
      "Accuracy: 0.88323 \n",
      "Precision: 0.96378 \n",
      "Recall: 0.75979 \n",
      "F-measure: 0.84971 \n"
     ]
    }
   ],
   "source": [
    "y_dos_prediction = kNN(X_dos, y_dos).predict(X_dos_test)\n",
    "plotConfusionMatrix(y_dos_prediction, y_dos_test, 1)"
   ]
  },
  {
   "cell_type": "code",
   "execution_count": 129,
   "metadata": {
    "scrolled": false
   },
   "outputs": [
    {
     "data": {
      "image/png": "[encoded data removed]",
      "text/plain": [
       "<Figure size 432x288 with 2 Axes>"
      ]
     },
     "metadata": {
      "needs_background": "light"
     },
     "output_type": "display_data"
    },
    {
     "name": "stdout",
     "output_type": "stream",
     "text": [
      "Accuracy: 0.90787 \n",
      "Precision: 0.98983 \n",
      "Recall: 0.79611 \n",
      "F-measure: 0.88247 \n"
     ]
    }
   ],
   "source": [
    "y_dos_prediction = kNN(X_dos_ss, y_dos).predict(X_dos_test_ss)\n",
    "plotConfusionMatrix(y_dos_prediction, y_dos_test, 1)"
   ]
  },
  {
   "cell_type": "markdown",
   "metadata": {},
   "source": [
    "#### K-fold cross validation on probe"
   ]
  },
  {
   "cell_type": "code",
   "execution_count": 130,
   "metadata": {},
   "outputs": [
    {
     "name": "stdout",
     "output_type": "stream",
     "text": [
      ">Train: 0=60593, 1=10506, Test: 0=6750, 1=1150\n",
      ">Train: 0=60590, 1=10509, Test: 0=6753, 1=1147\n",
      ">Train: 0=60636, 1=10463, Test: 0=6707, 1=1193\n",
      ">Train: 0=60669, 1=10430, Test: 0=6674, 1=1226\n",
      ">Train: 0=60629, 1=10470, Test: 0=6714, 1=1186\n",
      ">Train: 0=60576, 1=10523, Test: 0=6767, 1=1133\n",
      ">Train: 0=60547, 1=10552, Test: 0=6796, 1=1104\n",
      ">Train: 0=60628, 1=10471, Test: 0=6715, 1=1185\n",
      ">Train: 0=60592, 1=10507, Test: 0=6751, 1=1149\n",
      ">Train: 0=60627, 1=10473, Test: 0=6716, 1=1183\n"
     ]
    },
    {
     "data": {
      "text/plain": [
       "{'Mean Training Accuracy': 0.9970435630562001,\n",
       " 'Mean Training Precision': 0.9870654330160782,\n",
       " 'Mean Training Recall': 0.9929744494421214,\n",
       " 'Mean Training F1 Score': 0.9900110531787416,\n",
       " 'Mean Validation Accuracy': 0.9959619628185589,\n",
       " 'Mean Validation Precision': 0.9821184534401688,\n",
       " 'Mean Validation Recall': 0.9906135699161874,\n",
       " 'Mean Validation F1 Score': 0.9863396174365879}"
      ]
     },
     "execution_count": 130,
     "metadata": {},
     "output_type": "execute_result"
    }
   ],
   "source": [
    "KfoldCV(KNeighborsClassifier(), pd.DataFrame(X_probe), y_probe, 10, 2)"
   ]
  },
  {
   "cell_type": "markdown",
   "metadata": {},
   "source": [
    "#### K-fold cross validation on probe Standard Scaling"
   ]
  },
  {
   "cell_type": "code",
   "execution_count": 131,
   "metadata": {},
   "outputs": [
    {
     "name": "stdout",
     "output_type": "stream",
     "text": [
      ">Train: 0=60593, 1=10506, Test: 0=6750, 1=1150\n",
      ">Train: 0=60590, 1=10509, Test: 0=6753, 1=1147\n",
      ">Train: 0=60636, 1=10463, Test: 0=6707, 1=1193\n",
      ">Train: 0=60669, 1=10430, Test: 0=6674, 1=1226\n",
      ">Train: 0=60629, 1=10470, Test: 0=6714, 1=1186\n",
      ">Train: 0=60576, 1=10523, Test: 0=6767, 1=1133\n",
      ">Train: 0=60547, 1=10552, Test: 0=6796, 1=1104\n",
      ">Train: 0=60628, 1=10471, Test: 0=6715, 1=1185\n",
      ">Train: 0=60592, 1=10507, Test: 0=6751, 1=1149\n",
      ">Train: 0=60627, 1=10473, Test: 0=6716, 1=1183\n"
     ]
    },
    {
     "data": {
      "text/plain": [
       "{'Mean Training Accuracy': 0.998383945730947,\n",
       " 'Mean Training Precision': 0.9962784473570476,\n",
       " 'Mean Training Recall': 0.9927557508628697,\n",
       " 'Mean Training F1 Score': 0.994513874779205,\n",
       " 'Mean Validation Accuracy': 0.9974050328434458,\n",
       " 'Mean Validation Precision': 0.9945700669525872,\n",
       " 'Mean Validation Recall': 0.9878091841923972,\n",
       " 'Mean Validation F1 Score': 0.9911762864707729}"
      ]
     },
     "execution_count": 131,
     "metadata": {},
     "output_type": "execute_result"
    }
   ],
   "source": [
    "KfoldCV(KNeighborsClassifier(), pd.DataFrame(X_probe_ss), y_probe, 10, 2)"
   ]
  },
  {
   "cell_type": "markdown",
   "metadata": {},
   "source": [
    "#### Stratified cross validation on probe"
   ]
  },
  {
   "cell_type": "code",
   "execution_count": 132,
   "metadata": {},
   "outputs": [
    {
     "name": "stdout",
     "output_type": "stream",
     "text": [
      ">Train: 0=60608, 1=10491, Test: 0=6735, 1=1165\n",
      ">Train: 0=60608, 1=10491, Test: 0=6735, 1=1165\n",
      ">Train: 0=60608, 1=10491, Test: 0=6735, 1=1165\n",
      ">Train: 0=60609, 1=10490, Test: 0=6734, 1=1166\n",
      ">Train: 0=60609, 1=10490, Test: 0=6734, 1=1166\n",
      ">Train: 0=60609, 1=10490, Test: 0=6734, 1=1166\n",
      ">Train: 0=60609, 1=10490, Test: 0=6734, 1=1166\n",
      ">Train: 0=60609, 1=10490, Test: 0=6734, 1=1166\n",
      ">Train: 0=60609, 1=10490, Test: 0=6734, 1=1166\n",
      ">Train: 0=60609, 1=10491, Test: 0=6734, 1=1165\n"
     ]
    },
    {
     "data": {
      "text/plain": [
       "{'Mean Training Accuracy': 0.9970449695457427,\n",
       " 'Mean Training Precision': 0.9870750719641267,\n",
       " 'Mean Training Recall': 0.9929745292596793,\n",
       " 'Mean Training F1 Score': 0.9900159457570679,\n",
       " 'Mean Validation Accuracy': 0.9959746210464069,\n",
       " 'Mean Validation Precision': 0.9822441286579975,\n",
       " 'Mean Validation Recall': 0.9906487827501673,\n",
       " 'Mean Validation F1 Score': 0.9864209933982198}"
      ]
     },
     "execution_count": 132,
     "metadata": {},
     "output_type": "execute_result"
    }
   ],
   "source": [
    "stratifiedCV(KNeighborsClassifier(), pd.DataFrame(X_probe), y_probe, 10, 2)"
   ]
  },
  {
   "cell_type": "markdown",
   "metadata": {},
   "source": [
    "#### Stratified cross validation on probe Standard Scaling"
   ]
  },
  {
   "cell_type": "code",
   "execution_count": 133,
   "metadata": {},
   "outputs": [
    {
     "name": "stdout",
     "output_type": "stream",
     "text": [
      ">Train: 0=60608, 1=10491, Test: 0=6735, 1=1165\n",
      ">Train: 0=60608, 1=10491, Test: 0=6735, 1=1165\n",
      ">Train: 0=60608, 1=10491, Test: 0=6735, 1=1165\n",
      ">Train: 0=60609, 1=10490, Test: 0=6734, 1=1166\n",
      ">Train: 0=60609, 1=10490, Test: 0=6734, 1=1166\n",
      ">Train: 0=60609, 1=10490, Test: 0=6734, 1=1166\n",
      ">Train: 0=60609, 1=10490, Test: 0=6734, 1=1166\n",
      ">Train: 0=60609, 1=10490, Test: 0=6734, 1=1166\n",
      ">Train: 0=60609, 1=10490, Test: 0=6734, 1=1166\n",
      ">Train: 0=60609, 1=10491, Test: 0=6734, 1=1165\n"
     ]
    },
    {
     "data": {
      "text/plain": [
       "{'Mean Training Accuracy': 0.998383945730947,\n",
       " 'Mean Training Precision': 0.996288314618672,\n",
       " 'Mean Training Recall': 0.9927457444798795,\n",
       " 'Mean Training F1 Score': 0.9945137682855139,\n",
       " 'Mean Validation Accuracy': 0.9973923746155977,\n",
       " 'Mean Validation Precision': 0.9945615554294335,\n",
       " 'Mean Validation Recall': 0.9877319473788825,\n",
       " 'Mean Validation F1 Score': 0.99113310330683}"
      ]
     },
     "execution_count": 133,
     "metadata": {},
     "output_type": "execute_result"
    }
   ],
   "source": [
    "stratifiedCV(KNeighborsClassifier(), pd.DataFrame(X_probe_ss), y_probe, 10, 2)"
   ]
  },
  {
   "cell_type": "markdown",
   "metadata": {},
   "source": [
    "#### Predict on probe"
   ]
  },
  {
   "cell_type": "code",
   "execution_count": 134,
   "metadata": {},
   "outputs": [
    {
     "data": {
      "image/png": "[encoded data removed]",
      "text/plain": [
       "<Figure size 432x288 with 2 Axes>"
      ]
     },
     "metadata": {
      "needs_background": "light"
     },
     "output_type": "display_data"
    },
    {
     "name": "stdout",
     "output_type": "stream",
     "text": [
      "Accuracy: 0.91081 \n",
      "Precision: 0.87298 \n",
      "Recall: 0.64725 \n",
      "F-measure: 0.74336 \n"
     ]
    }
   ],
   "source": [
    "y_probe_prediction = kNN(X_probe, y_probe).predict(X_probe_test)\n",
    "plotConfusionMatrix(y_probe_prediction, y_probe_test, 2)"
   ]
  },
  {
   "cell_type": "code",
   "execution_count": 135,
   "metadata": {},
   "outputs": [
    {
     "data": {
      "image/png": "[encoded data removed]",
      "text/plain": [
       "<Figure size 432x288 with 2 Axes>"
      ]
     },
     "metadata": {
      "needs_background": "light"
     },
     "output_type": "display_data"
    },
    {
     "name": "stdout",
     "output_type": "stream",
     "text": [
      "Accuracy: 0.85724 \n",
      "Precision: 0.66912 \n",
      "Recall: 0.56299 \n",
      "F-measure: 0.61148 \n"
     ]
    }
   ],
   "source": [
    "y_probe_prediction = kNN(X_probe_ss, y_probe).predict(X_probe_test_ss)\n",
    "plotConfusionMatrix(y_probe_prediction, y_probe_test, 2)"
   ]
  },
  {
   "cell_type": "markdown",
   "metadata": {},
   "source": [
    "#### K-fold cross validation on r2l"
   ]
  },
  {
   "cell_type": "code",
   "execution_count": 136,
   "metadata": {},
   "outputs": [
    {
     "name": "stdout",
     "output_type": "stream",
     "text": [
      ">Train: 0=60615, 1=889, Test: 0=6728, 1=106\n",
      ">Train: 0=60612, 1=892, Test: 0=6731, 1=103\n",
      ">Train: 0=60628, 1=876, Test: 0=6715, 1=119\n",
      ">Train: 0=60613, 1=891, Test: 0=6730, 1=104\n",
      ">Train: 0=60610, 1=894, Test: 0=6733, 1=101\n",
      ">Train: 0=60591, 1=913, Test: 0=6752, 1=82\n",
      ">Train: 0=60599, 1=905, Test: 0=6744, 1=90\n",
      ">Train: 0=60597, 1=907, Test: 0=6746, 1=88\n",
      ">Train: 0=60614, 1=891, Test: 0=6729, 1=104\n",
      ">Train: 0=60608, 1=897, Test: 0=6735, 1=98\n"
     ]
    },
    {
     "data": {
      "text/plain": [
       "{'Mean Training Accuracy': 0.9989789316363964,\n",
       " 'Mean Training Precision': 0.972002942338704,\n",
       " 'Mean Training Recall': 0.9574516459112209,\n",
       " 'Mean Training F1 Score': 0.9646675038934293,\n",
       " 'Mean Validation Accuracy': 0.9985952354428645,\n",
       " 'Mean Validation Precision': 0.9568310348216151,\n",
       " 'Mean Validation Recall': 0.9471053204395808,\n",
       " 'Mean Validation F1 Score': 0.9518161095395637}"
      ]
     },
     "execution_count": 136,
     "metadata": {},
     "output_type": "execute_result"
    }
   ],
   "source": [
    "KfoldCV(KNeighborsClassifier(), pd.DataFrame(X_r2l), y_r2l, 10, 3)"
   ]
  },
  {
   "cell_type": "markdown",
   "metadata": {},
   "source": [
    "#### K-fold cross validation on r2l Standard Scaling"
   ]
  },
  {
   "cell_type": "code",
   "execution_count": 137,
   "metadata": {},
   "outputs": [
    {
     "name": "stdout",
     "output_type": "stream",
     "text": [
      ">Train: 0=60615, 1=889, Test: 0=6728, 1=106\n",
      ">Train: 0=60612, 1=892, Test: 0=6731, 1=103\n",
      ">Train: 0=60628, 1=876, Test: 0=6715, 1=119\n",
      ">Train: 0=60613, 1=891, Test: 0=6730, 1=104\n",
      ">Train: 0=60610, 1=894, Test: 0=6733, 1=101\n",
      ">Train: 0=60591, 1=913, Test: 0=6752, 1=82\n",
      ">Train: 0=60599, 1=905, Test: 0=6744, 1=90\n",
      ">Train: 0=60597, 1=907, Test: 0=6746, 1=88\n",
      ">Train: 0=60614, 1=891, Test: 0=6729, 1=104\n",
      ">Train: 0=60608, 1=897, Test: 0=6735, 1=98\n"
     ]
    },
    {
     "data": {
      "text/plain": [
       "{'Mean Training Accuracy': 0.9986716354752678,\n",
       " 'Mean Training Precision': 0.9614458367907515,\n",
       " 'Mean Training Recall': 0.9467096322443102,\n",
       " 'Mean Training F1 Score': 0.9540108143834243,\n",
       " 'Mean Validation Accuracy': 0.9978635523923927,\n",
       " 'Mean Validation Precision': 0.935545667333977,\n",
       " 'Mean Validation Recall': 0.9174880590814043,\n",
       " 'Mean Validation F1 Score': 0.9258146799544773}"
      ]
     },
     "execution_count": 137,
     "metadata": {},
     "output_type": "execute_result"
    }
   ],
   "source": [
    "KfoldCV(KNeighborsClassifier(), pd.DataFrame(X_r2l_ss), y_r2l, 10, 3)"
   ]
  },
  {
   "cell_type": "markdown",
   "metadata": {},
   "source": [
    "#### Stratified cross validation on r2l"
   ]
  },
  {
   "cell_type": "code",
   "execution_count": 138,
   "metadata": {},
   "outputs": [
    {
     "name": "stdout",
     "output_type": "stream",
     "text": [
      ">Train: 0=60608, 1=896, Test: 0=6735, 1=99\n",
      ">Train: 0=60608, 1=896, Test: 0=6735, 1=99\n",
      ">Train: 0=60608, 1=896, Test: 0=6735, 1=99\n",
      ">Train: 0=60609, 1=895, Test: 0=6734, 1=100\n",
      ">Train: 0=60609, 1=895, Test: 0=6734, 1=100\n",
      ">Train: 0=60609, 1=895, Test: 0=6734, 1=100\n",
      ">Train: 0=60609, 1=895, Test: 0=6734, 1=100\n",
      ">Train: 0=60609, 1=895, Test: 0=6734, 1=100\n",
      ">Train: 0=60609, 1=896, Test: 0=6734, 1=99\n",
      ">Train: 0=60609, 1=896, Test: 0=6734, 1=99\n"
     ]
    },
    {
     "data": {
      "text/plain": [
       "{'Mean Training Accuracy': 0.9989789316628318,\n",
       " 'Mean Training Precision': 0.9720114175626691,\n",
       " 'Mean Training Recall': 0.9574542348363927,\n",
       " 'Mean Training F1 Score': 0.964673682154676,\n",
       " 'Mean Validation Accuracy': 0.9985806048655835,\n",
       " 'Mean Validation Precision': 0.9558074461987924,\n",
       " 'Mean Validation Recall': 0.9467171717171716,\n",
       " 'Mean Validation F1 Score': 0.9510956762204156}"
      ]
     },
     "execution_count": 138,
     "metadata": {},
     "output_type": "execute_result"
    }
   ],
   "source": [
    "stratifiedCV(KNeighborsClassifier(), pd.DataFrame(X_r2l), y_r2l, 10, 3)"
   ]
  },
  {
   "cell_type": "markdown",
   "metadata": {},
   "source": [
    "#### Stratified cross validation on r2l Standard Scaling"
   ]
  },
  {
   "cell_type": "code",
   "execution_count": 139,
   "metadata": {},
   "outputs": [
    {
     "name": "stdout",
     "output_type": "stream",
     "text": [
      ">Train: 0=60608, 1=896, Test: 0=6735, 1=99\n",
      ">Train: 0=60608, 1=896, Test: 0=6735, 1=99\n",
      ">Train: 0=60608, 1=896, Test: 0=6735, 1=99\n",
      ">Train: 0=60609, 1=895, Test: 0=6734, 1=100\n",
      ">Train: 0=60609, 1=895, Test: 0=6734, 1=100\n",
      ">Train: 0=60609, 1=895, Test: 0=6734, 1=100\n",
      ">Train: 0=60609, 1=895, Test: 0=6734, 1=100\n",
      ">Train: 0=60609, 1=895, Test: 0=6734, 1=100\n",
      ">Train: 0=60609, 1=896, Test: 0=6734, 1=99\n",
      ">Train: 0=60609, 1=896, Test: 0=6734, 1=99\n"
     ]
    },
    {
     "data": {
      "text/plain": [
       "{'Mean Training Accuracy': 0.9986732614122131,\n",
       " 'Mean Training Precision': 0.9616708397476404,\n",
       " 'Mean Training Recall': 0.9466229798483641,\n",
       " 'Mean Training F1 Score': 0.9540793636069074,\n",
       " 'Mean Validation Accuracy': 0.997805025800312,\n",
       " 'Mean Validation Precision': 0.9343735404604692,\n",
       " 'Mean Validation Recall': 0.9145454545454544,\n",
       " 'Mean Validation F1 Score': 0.9239100933165941}"
      ]
     },
     "execution_count": 139,
     "metadata": {},
     "output_type": "execute_result"
    }
   ],
   "source": [
    "stratifiedCV(KNeighborsClassifier(), pd.DataFrame(X_r2l_ss), y_r2l, 10, 3)"
   ]
  },
  {
   "cell_type": "markdown",
   "metadata": {},
   "source": [
    "#### Predict on r2l"
   ]
  },
  {
   "cell_type": "code",
   "execution_count": 140,
   "metadata": {},
   "outputs": [
    {
     "data": {
      "image/png": "[encoded data removed]",
      "text/plain": [
       "<Figure size 432x288 with 2 Axes>"
      ]
     },
     "metadata": {
      "needs_background": "light"
     },
     "output_type": "display_data"
    },
    {
     "name": "stdout",
     "output_type": "stream",
     "text": [
      "Accuracy: 0.77080 \n",
      "Precision: 0.42857 \n",
      "Recall: 0.00208 \n",
      "F-measure: 0.00414 \n"
     ]
    }
   ],
   "source": [
    "y_r2l_prediction = kNN(X_r2l, y_r2l).predict(X_r2l_test)\n",
    "plotConfusionMatrix(y_r2l_prediction, y_r2l_test, 3)"
   ]
  },
  {
   "cell_type": "code",
   "execution_count": 141,
   "metadata": {},
   "outputs": [
    {
     "data": {
      "image/png": "[encoded data removed]",
      "text/plain": [
       "<Figure size 432x288 with 2 Axes>"
      ]
     },
     "metadata": {
      "needs_background": "light"
     },
     "output_type": "display_data"
    },
    {
     "name": "stdout",
     "output_type": "stream",
     "text": [
      "Accuracy: 0.78668 \n",
      "Precision: 0.96698 \n",
      "Recall: 0.07106 \n",
      "F-measure: 0.13239 \n"
     ]
    }
   ],
   "source": [
    "y_r2l_prediction = kNN(X_r2l_ss, y_r2l).predict(X_r2l_test_ss)\n",
    "plotConfusionMatrix(y_r2l_prediction, y_r2l_test, 3)"
   ]
  },
  {
   "cell_type": "markdown",
   "metadata": {},
   "source": [
    "#### K-fold cross validation on u2r"
   ]
  },
  {
   "cell_type": "code",
   "execution_count": 142,
   "metadata": {},
   "outputs": [
    {
     "name": "stdout",
     "output_type": "stream",
     "text": [
      ">Train: 0=60608, 1=47, Test: 0=6735, 1=5\n",
      ">Train: 0=60609, 1=46, Test: 0=6734, 1=6\n",
      ">Train: 0=60609, 1=46, Test: 0=6734, 1=6\n",
      ">Train: 0=60609, 1=46, Test: 0=6734, 1=6\n",
      ">Train: 0=60607, 1=48, Test: 0=6736, 1=4\n",
      ">Train: 0=60612, 1=44, Test: 0=6731, 1=8\n",
      ">Train: 0=60609, 1=47, Test: 0=6734, 1=5\n",
      ">Train: 0=60607, 1=49, Test: 0=6736, 1=3\n",
      ">Train: 0=60609, 1=47, Test: 0=6734, 1=5\n",
      ">Train: 0=60608, 1=48, Test: 0=6735, 1=4\n"
     ]
    },
    {
     "data": {
      "text/plain": [
       "{'Mean Training Accuracy': 0.9995614576320955,\n",
       " 'Mean Training Precision': 0.8891652512904387,\n",
       " 'Mean Training Recall': 0.4939643585127264,\n",
       " 'Mean Training F1 Score': 0.6338382241681825,\n",
       " 'Mean Validation Accuracy': 0.9994064819556476,\n",
       " 'Mean Validation Precision': 0.7583333333333334,\n",
       " 'Mean Validation Recall': 0.3516666666666667,\n",
       " 'Mean Validation F1 Score': 0.45071428571428573}"
      ]
     },
     "execution_count": 142,
     "metadata": {},
     "output_type": "execute_result"
    }
   ],
   "source": [
    "KfoldCV(KNeighborsClassifier(), pd.DataFrame(X_u2r), y_u2r, 10, 4)"
   ]
  },
  {
   "cell_type": "markdown",
   "metadata": {},
   "source": [
    "#### K-fold cross validation on u2r Standard Scaling"
   ]
  },
  {
   "cell_type": "code",
   "execution_count": 143,
   "metadata": {},
   "outputs": [
    {
     "name": "stdout",
     "output_type": "stream",
     "text": [
      ">Train: 0=60608, 1=47, Test: 0=6735, 1=5\n",
      ">Train: 0=60609, 1=46, Test: 0=6734, 1=6\n",
      ">Train: 0=60609, 1=46, Test: 0=6734, 1=6\n",
      ">Train: 0=60609, 1=46, Test: 0=6734, 1=6\n",
      ">Train: 0=60607, 1=48, Test: 0=6736, 1=4\n",
      ">Train: 0=60612, 1=44, Test: 0=6731, 1=8\n",
      ">Train: 0=60609, 1=47, Test: 0=6734, 1=5\n",
      ">Train: 0=60607, 1=49, Test: 0=6736, 1=3\n"
     ]
    },
    {
     "name": "stderr",
     "output_type": "stream",
     "text": [
      "C:\\Users\\Daniele\\anaconda3\\lib\\site-packages\\sklearn\\metrics\\_classification.py:1344: UndefinedMetricWarning: Precision is ill-defined and being set to 0.0 due to no predicted samples. Use `zero_division` parameter to control this behavior.\n",
      "  _warn_prf(average, modifier, msg_start, len(result))\n"
     ]
    },
    {
     "name": "stdout",
     "output_type": "stream",
     "text": [
      ">Train: 0=60609, 1=47, Test: 0=6734, 1=5\n",
      ">Train: 0=60608, 1=48, Test: 0=6735, 1=4\n"
     ]
    },
    {
     "name": "stderr",
     "output_type": "stream",
     "text": [
      "C:\\Users\\Daniele\\anaconda3\\lib\\site-packages\\sklearn\\metrics\\_classification.py:1344: UndefinedMetricWarning: Precision is ill-defined and being set to 0.0 due to no predicted samples. Use `zero_division` parameter to control this behavior.\n",
      "  _warn_prf(average, modifier, msg_start, len(result))\n"
     ]
    },
    {
     "data": {
      "text/plain": [
       "{'Mean Training Accuracy': 0.9995845389395347,\n",
       " 'Mean Training Precision': 0.8066052820357925,\n",
       " 'Mean Training Recall': 0.6089378607384421,\n",
       " 'Mean Training F1 Score': 0.6925592915310234,\n",
       " 'Mean Validation Accuracy': 0.9993322935761235,\n",
       " 'Mean Validation Precision': 0.5566666666666666,\n",
       " 'Mean Validation Recall': 0.36,\n",
       " 'Mean Validation F1 Score': 0.4287057387057387}"
      ]
     },
     "execution_count": 143,
     "metadata": {},
     "output_type": "execute_result"
    }
   ],
   "source": [
    "KfoldCV(KNeighborsClassifier(), pd.DataFrame(X_u2r_ss), y_u2r, 10, 4)"
   ]
  },
  {
   "cell_type": "markdown",
   "metadata": {},
   "source": [
    "#### Stratified cross validation on u2r"
   ]
  },
  {
   "cell_type": "code",
   "execution_count": 144,
   "metadata": {},
   "outputs": [
    {
     "name": "stdout",
     "output_type": "stream",
     "text": [
      ">Train: 0=60608, 1=47, Test: 0=6735, 1=5\n",
      ">Train: 0=60608, 1=47, Test: 0=6735, 1=5\n",
      ">Train: 0=60608, 1=47, Test: 0=6735, 1=5\n",
      ">Train: 0=60609, 1=46, Test: 0=6734, 1=6\n",
      ">Train: 0=60609, 1=46, Test: 0=6734, 1=6\n",
      ">Train: 0=60609, 1=47, Test: 0=6734, 1=5\n",
      ">Train: 0=60609, 1=47, Test: 0=6734, 1=5\n",
      ">Train: 0=60609, 1=47, Test: 0=6734, 1=5\n",
      ">Train: 0=60609, 1=47, Test: 0=6734, 1=5\n",
      ">Train: 0=60609, 1=47, Test: 0=6734, 1=5\n"
     ]
    },
    {
     "data": {
      "text/plain": [
       "{'Mean Training Accuracy': 0.9995647549694956,\n",
       " 'Mean Training Precision': 0.8876690301802505,\n",
       " 'Mean Training Recall': 0.5,\n",
       " 'Mean Training F1 Score': 0.6378303158671671,\n",
       " 'Mean Validation Accuracy': 0.9994064819556477,\n",
       " 'Mean Validation Precision': 0.7583333333333334,\n",
       " 'Mean Validation Recall': 0.3266666666666667,\n",
       " 'Mean Validation F1 Score': 0.43238095238095237}"
      ]
     },
     "execution_count": 144,
     "metadata": {},
     "output_type": "execute_result"
    }
   ],
   "source": [
    "stratifiedCV(KNeighborsClassifier(), pd.DataFrame(X_u2r), y_u2r, 10, 4)"
   ]
  },
  {
   "cell_type": "markdown",
   "metadata": {},
   "source": [
    "#### Stratified cross validation on u2r Standard Scaling"
   ]
  },
  {
   "cell_type": "code",
   "execution_count": 145,
   "metadata": {},
   "outputs": [
    {
     "name": "stdout",
     "output_type": "stream",
     "text": [
      ">Train: 0=60608, 1=47, Test: 0=6735, 1=5\n",
      ">Train: 0=60608, 1=47, Test: 0=6735, 1=5\n",
      ">Train: 0=60608, 1=47, Test: 0=6735, 1=5\n",
      ">Train: 0=60609, 1=46, Test: 0=6734, 1=6\n",
      ">Train: 0=60609, 1=46, Test: 0=6734, 1=6\n",
      ">Train: 0=60609, 1=47, Test: 0=6734, 1=5\n",
      ">Train: 0=60609, 1=47, Test: 0=6734, 1=5\n",
      ">Train: 0=60609, 1=47, Test: 0=6734, 1=5\n",
      ">Train: 0=60609, 1=47, Test: 0=6734, 1=5\n",
      ">Train: 0=60609, 1=47, Test: 0=6734, 1=5\n"
     ]
    },
    {
     "name": "stderr",
     "output_type": "stream",
     "text": [
      "C:\\Users\\Daniele\\anaconda3\\lib\\site-packages\\sklearn\\metrics\\_classification.py:1344: UndefinedMetricWarning: Precision is ill-defined and being set to 0.0 due to no predicted samples. Use `zero_division` parameter to control this behavior.\n",
      "  _warn_prf(average, modifier, msg_start, len(result))\n"
     ]
    },
    {
     "data": {
      "text/plain": [
       "{'Mean Training Accuracy': 0.9995795930149765,\n",
       " 'Mean Training Precision': 0.8036801467401687,\n",
       " 'Mean Training Recall': 0.6026827012025902,\n",
       " 'Mean Training F1 Score': 0.688262629626363,\n",
       " 'Mean Validation Accuracy': 0.9993322935761235,\n",
       " 'Mean Validation Precision': 0.6333333333333333,\n",
       " 'Mean Validation Recall': 0.34,\n",
       " 'Mean Validation F1 Score': 0.40894660894660895}"
      ]
     },
     "execution_count": 145,
     "metadata": {},
     "output_type": "execute_result"
    }
   ],
   "source": [
    "stratifiedCV(KNeighborsClassifier(), pd.DataFrame(X_u2r_ss), y_u2r, 10, 4)"
   ]
  },
  {
   "cell_type": "markdown",
   "metadata": {},
   "source": [
    "#### Predict on u2r"
   ]
  },
  {
   "cell_type": "code",
   "execution_count": 146,
   "metadata": {},
   "outputs": [
    {
     "data": {
      "image/png": "[encoded data removed]",
      "text/plain": [
       "<Figure size 432x288 with 2 Axes>"
      ]
     },
     "metadata": {
      "needs_background": "light"
     },
     "output_type": "display_data"
    },
    {
     "name": "stdout",
     "output_type": "stream",
     "text": [
      "Accuracy: 0.99397 \n",
      "Precision: 1.00000 \n",
      "Recall: 0.11940 \n",
      "F-measure: 0.21333 \n"
     ]
    }
   ],
   "source": [
    "y_u2r_prediction = kNN(X_u2r, y_u2r).predict(X_u2r_test)\n",
    "plotConfusionMatrix(y_u2r_prediction, y_u2r_test, 4)"
   ]
  },
  {
   "cell_type": "code",
   "execution_count": 147,
   "metadata": {},
   "outputs": [
    {
     "data": {
      "image/png": "[encoded data removed]",
      "text/plain": [
       "<Figure size 432x288 with 2 Axes>"
      ]
     },
     "metadata": {
      "needs_background": "light"
     },
     "output_type": "display_data"
    },
    {
     "name": "stdout",
     "output_type": "stream",
     "text": [
      "Accuracy: 0.99509 \n",
      "Precision: 0.82759 \n",
      "Recall: 0.35821 \n",
      "F-measure: 0.50000 \n"
     ]
    }
   ],
   "source": [
    "y_u2r_prediction = kNN(X_u2r_ss, y_u2r).predict(X_u2r_test_ss)\n",
    "plotConfusionMatrix(y_u2r_prediction, y_u2r_test, 4)"
   ]
  },
  {
   "cell_type": "markdown",
   "metadata": {},
   "source": [
    "## Binary dataset no feature selection"
   ]
  },
  {
   "cell_type": "code",
   "execution_count": 148,
   "metadata": {},
   "outputs": [
    {
     "data": {
      "text/plain": [
       "<module 'matplotlib.pyplot' from 'C:\\\\Users\\\\Daniele\\\\anaconda3\\\\lib\\\\site-packages\\\\matplotlib\\\\pyplot.py'>"
      ]
     },
     "execution_count": 148,
     "metadata": {},
     "output_type": "execute_result"
    },
    {
     "data": {
      "image/png": "[encoded data removed]",
      "text/plain": [
       "<Figure size 720x360 with 1 Axes>"
      ]
     },
     "metadata": {
      "needs_background": "light"
     },
     "output_type": "display_data"
    }
   ],
   "source": [
    "fullDf = getFullDf()\n",
    "fullDf_test = getFullDfTest()\n",
    "\n",
    "fullDf['label'], fullDf_test['label'] = prepareBinary()\n",
    "\n",
    "fullDf=oneHotEcoding(fullDf, 'protocol_type')\n",
    "fullDf=oneHotEcoding(fullDf, 'service')\n",
    "fullDf=oneHotEcoding(fullDf, 'flag')\n",
    "fullDf_test=oneHotEcoding(fullDf_test, 'protocol_type')\n",
    "fullDf_test=oneHotEcoding(fullDf_test, 'service')\n",
    "fullDf_test=oneHotEcoding(fullDf_test, 'flag')\n",
    "\n",
    "fullDf_test=adaptTestset(fullDf, fullDf_test)\n",
    "\n",
    "colNames=list(fullDf)\n",
    "colNames_test=list(fullDf_test)\n",
    "\n",
    "plotDf(fullDf['label'])\n"
   ]
  },
  {
   "cell_type": "code",
   "execution_count": 149,
   "metadata": {},
   "outputs": [],
   "source": [
    "x_df, y_df = getXandY(fullDf)\n",
    "x_df_test, y_df_test = getXandY(fullDf_test)\n",
    "\n",
    "x_df_ss = standardScaler(x_df)\n",
    "x_df_test_ss = standardScaler(x_df_test)\n"
   ]
  },
  {
   "cell_type": "code",
   "execution_count": 150,
   "metadata": {},
   "outputs": [
    {
     "name": "stdout",
     "output_type": "stream",
     "text": [
      ">Train: 0=60653, 1=52722, Test: 0=6690, 1=5908\n",
      ">Train: 0=60581, 1=52794, Test: 0=6762, 1=5836\n",
      ">Train: 0=60638, 1=52737, Test: 0=6705, 1=5893\n",
      ">Train: 0=60750, 1=52626, Test: 0=6593, 1=6004\n",
      ">Train: 0=60645, 1=52731, Test: 0=6698, 1=5899\n",
      ">Train: 0=60505, 1=52871, Test: 0=6838, 1=5759\n",
      ">Train: 0=60507, 1=52869, Test: 0=6836, 1=5761\n",
      ">Train: 0=60570, 1=52806, Test: 0=6773, 1=5824\n",
      ">Train: 0=60650, 1=52726, Test: 0=6693, 1=5904\n",
      ">Train: 0=60588, 1=52788, Test: 0=6755, 1=5842\n"
     ]
    },
    {
     "data": {
      "text/plain": [
       "{'Mean Training Accuracy': 0.9968538232055943,\n",
       " 'Mean Training Precision': 0.9959742733010291,\n",
       " 'Mean Training Recall': 0.997270990144773,\n",
       " 'Mean Training F1 Score': 0.9966222060591923,\n",
       " 'Mean Validation Accuracy': 0.995673681455591,\n",
       " 'Mean Validation Precision': 0.9944313003631763,\n",
       " 'Mean Validation Recall': 0.9962801166523523,\n",
       " 'Mean Validation F1 Score': 0.9953546351656712}"
      ]
     },
     "execution_count": 150,
     "metadata": {},
     "output_type": "execute_result"
    }
   ],
   "source": [
    "KfoldCV(KNeighborsClassifier(), pd.DataFrame(x_df), y_df, 10, 1)"
   ]
  },
  {
   "cell_type": "code",
   "execution_count": 151,
   "metadata": {},
   "outputs": [
    {
     "name": "stdout",
     "output_type": "stream",
     "text": [
      ">Train: 0=60653, 1=52722, Test: 0=6690, 1=5908\n",
      ">Train: 0=60581, 1=52794, Test: 0=6762, 1=5836\n",
      ">Train: 0=60638, 1=52737, Test: 0=6705, 1=5893\n",
      ">Train: 0=60750, 1=52626, Test: 0=6593, 1=6004\n",
      ">Train: 0=60645, 1=52731, Test: 0=6698, 1=5899\n",
      ">Train: 0=60505, 1=52871, Test: 0=6838, 1=5759\n",
      ">Train: 0=60507, 1=52869, Test: 0=6836, 1=5761\n",
      ">Train: 0=60570, 1=52806, Test: 0=6773, 1=5824\n",
      ">Train: 0=60650, 1=52726, Test: 0=6693, 1=5904\n",
      ">Train: 0=60588, 1=52788, Test: 0=6755, 1=5842\n"
     ]
    },
    {
     "data": {
      "text/plain": [
       "{'Mean Training Accuracy': 0.9978460993477208,\n",
       " 'Mean Training Precision': 0.9980446730477182,\n",
       " 'Mean Training Recall': 0.997326046103403,\n",
       " 'Mean Training F1 Score': 0.9976852245501006,\n",
       " 'Mean Validation Accuracy': 0.9964833766303064,\n",
       " 'Mean Validation Precision': 0.9968877427527891,\n",
       " 'Mean Validation Recall': 0.9955463193636997,\n",
       " 'Mean Validation F1 Score': 0.9962163288215216}"
      ]
     },
     "execution_count": 151,
     "metadata": {},
     "output_type": "execute_result"
    }
   ],
   "source": [
    "KfoldCV(KNeighborsClassifier(), pd.DataFrame(x_df_ss), y_df, 10, 1)"
   ]
  },
  {
   "cell_type": "code",
   "execution_count": 152,
   "metadata": {
    "scrolled": true
   },
   "outputs": [
    {
     "data": {
      "image/png": "[encoded data removed]",
      "text/plain": [
       "<Figure size 432x288 with 2 Axes>"
      ]
     },
     "metadata": {
      "needs_background": "light"
     },
     "output_type": "display_data"
    },
    {
     "name": "stdout",
     "output_type": "stream",
     "text": [
      "Accuracy: 0.76588 \n",
      "Precision: 0.96607 \n",
      "Recall: 0.61015 \n",
      "F-measure: 0.74792 \n"
     ]
    }
   ],
   "source": [
    "y_prediction = kNN(x_df, y_df).predict(x_df_test)\n",
    "plotConfusionMatrix(y_prediction, y_df_test, 1)"
   ]
  },
  {
   "cell_type": "code",
   "execution_count": 153,
   "metadata": {},
   "outputs": [
    {
     "data": {
      "image/png": "[encoded data removed]",
      "text/plain": [
       "<Figure size 432x288 with 2 Axes>"
      ]
     },
     "metadata": {
      "needs_background": "light"
     },
     "output_type": "display_data"
    },
    {
     "name": "stdout",
     "output_type": "stream",
     "text": [
      "Accuracy: 0.77253 \n",
      "Precision: 0.92219 \n",
      "Recall: 0.65573 \n",
      "F-measure: 0.76646 \n"
     ]
    }
   ],
   "source": [
    "y_prediction = kNN(x_df_ss, y_df).predict(x_df_test_ss)\n",
    "plotConfusionMatrix(y_prediction, y_df_test, 1)"
   ]
  },
  {
   "cell_type": "markdown",
   "metadata": {},
   "source": [
    "## Binary dataset feature selection"
   ]
  },
  {
   "cell_type": "code",
   "execution_count": 154,
   "metadata": {},
   "outputs": [],
   "source": [
    "X_df_rfe, rfecolname = recursiveFeatureExtraction(RandomForestClassifier(n_estimators=64,n_jobs=2), pd.DataFrame(x_df), y_df, 13)\n",
    "X_df_test_rfe=x_df_test.values[:,rfecolname]"
   ]
  },
  {
   "cell_type": "code",
   "execution_count": 155,
   "metadata": {},
   "outputs": [],
   "source": [
    "X_df_rfe_ss, rfecolname_ss = recursiveFeatureExtraction(RandomForestClassifier(n_estimators=64,n_jobs=2), pd.DataFrame(x_df_ss), y_df, 13)\n",
    "X_df_test_rfe_ss=x_df_test_ss[:,rfecolname_ss]"
   ]
  },
  {
   "cell_type": "markdown",
   "metadata": {},
   "source": [
    "#### K-fold cross validation"
   ]
  },
  {
   "cell_type": "code",
   "execution_count": 156,
   "metadata": {},
   "outputs": [
    {
     "name": "stdout",
     "output_type": "stream",
     "text": [
      ">Train: 0=60653, 1=52722, Test: 0=6690, 1=5908\n",
      ">Train: 0=60581, 1=52794, Test: 0=6762, 1=5836\n",
      ">Train: 0=60638, 1=52737, Test: 0=6705, 1=5893\n",
      ">Train: 0=60750, 1=52626, Test: 0=6593, 1=6004\n",
      ">Train: 0=60645, 1=52731, Test: 0=6698, 1=5899\n",
      ">Train: 0=60505, 1=52871, Test: 0=6838, 1=5759\n",
      ">Train: 0=60507, 1=52869, Test: 0=6836, 1=5761\n",
      ">Train: 0=60570, 1=52806, Test: 0=6773, 1=5824\n",
      ">Train: 0=60650, 1=52726, Test: 0=6693, 1=5904\n",
      ">Train: 0=60588, 1=52788, Test: 0=6755, 1=5842\n"
     ]
    },
    {
     "data": {
      "text/plain": [
       "{'Mean Training Accuracy': 0.9965124799712214,\n",
       " 'Mean Training Precision': 0.9964075141255604,\n",
       " 'Mean Training Recall': 0.9960978807892038,\n",
       " 'Mean Training F1 Score': 0.9962526642950393,\n",
       " 'Mean Validation Accuracy': 0.9951418270613119,\n",
       " 'Mean Validation Precision': 0.9949133164689566,\n",
       " 'Mean Validation Recall': 0.9946421924527609,\n",
       " 'Mean Validation F1 Score': 0.9947776634529625}"
      ]
     },
     "execution_count": 156,
     "metadata": {},
     "output_type": "execute_result"
    }
   ],
   "source": [
    "KfoldCV(KNeighborsClassifier(), pd.DataFrame(X_df_rfe), y_df, 10, 1)"
   ]
  },
  {
   "cell_type": "markdown",
   "metadata": {},
   "source": [
    "#### K-fold cross validation Standard Scaler"
   ]
  },
  {
   "cell_type": "code",
   "execution_count": 157,
   "metadata": {},
   "outputs": [
    {
     "name": "stdout",
     "output_type": "stream",
     "text": [
      ">Train: 0=60653, 1=52722, Test: 0=6690, 1=5908\n",
      ">Train: 0=60581, 1=52794, Test: 0=6762, 1=5836\n",
      ">Train: 0=60638, 1=52737, Test: 0=6705, 1=5893\n",
      ">Train: 0=60750, 1=52626, Test: 0=6593, 1=6004\n",
      ">Train: 0=60645, 1=52731, Test: 0=6698, 1=5899\n",
      ">Train: 0=60505, 1=52871, Test: 0=6838, 1=5759\n",
      ">Train: 0=60507, 1=52869, Test: 0=6836, 1=5761\n",
      ">Train: 0=60570, 1=52806, Test: 0=6773, 1=5824\n",
      ">Train: 0=60650, 1=52726, Test: 0=6693, 1=5904\n",
      ">Train: 0=60588, 1=52788, Test: 0=6755, 1=5842\n"
     ]
    },
    {
     "data": {
      "text/plain": [
       "{'Mean Training Accuracy': 0.9930717078273819,\n",
       " 'Mean Training Precision': 0.9921941635214637,\n",
       " 'Mean Training Recall': 0.9929254836738949,\n",
       " 'Mean Training F1 Score': 0.9925596694921243,\n",
       " 'Mean Validation Accuracy': 0.9892913531084512,\n",
       " 'Mean Validation Precision': 0.988015760879582,\n",
       " 'Mean Validation Recall': 0.9889878509668005,\n",
       " 'Mean Validation F1 Score': 0.9885006443859845}"
      ]
     },
     "execution_count": 157,
     "metadata": {},
     "output_type": "execute_result"
    }
   ],
   "source": [
    "KfoldCV(KNeighborsClassifier(), pd.DataFrame(X_df_rfe_ss), y_df, 10, 1)"
   ]
  },
  {
   "cell_type": "markdown",
   "metadata": {},
   "source": [
    "#### Predict"
   ]
  },
  {
   "cell_type": "code",
   "execution_count": 158,
   "metadata": {},
   "outputs": [
    {
     "data": {
      "image/png": "[encoded data removed]",
      "text/plain": [
       "<Figure size 432x288 with 2 Axes>"
      ]
     },
     "metadata": {
      "needs_background": "light"
     },
     "output_type": "display_data"
    },
    {
     "name": "stdout",
     "output_type": "stream",
     "text": [
      "Accuracy: 0.75563 \n",
      "Precision: 0.96214 \n",
      "Recall: 0.59409 \n",
      "F-measure: 0.73460 \n"
     ]
    }
   ],
   "source": [
    "y_prediction = kNN(X_df_rfe, y_df).predict(X_df_test_rfe)\n",
    "plotConfusionMatrix(y_prediction, y_df_test, 1)"
   ]
  },
  {
   "cell_type": "code",
   "execution_count": 159,
   "metadata": {},
   "outputs": [
    {
     "data": {
      "image/png": "[encoded data removed]",
      "text/plain": [
       "<Figure size 432x288 with 2 Axes>"
      ]
     },
     "metadata": {
      "needs_background": "light"
     },
     "output_type": "display_data"
    },
    {
     "name": "stdout",
     "output_type": "stream",
     "text": [
      "Accuracy: 0.74295 \n",
      "Precision: 0.95808 \n",
      "Recall: 0.57352 \n",
      "F-measure: 0.71752 \n"
     ]
    }
   ],
   "source": [
    "y_prediction = kNN(X_df_rfe_ss, y_df).predict(X_df_test_rfe_ss)\n",
    "plotConfusionMatrix(y_prediction, y_df_test, 1)"
   ]
  },
  {
   "cell_type": "code",
   "execution_count": null,
   "metadata": {},
   "outputs": [],
   "source": []
  }
 ],
 "metadata": {
  "colab": {
   "authorship_tag": "ABX9TyMHeZyIWbMZKAf4sJQ/BZhF",
   "collapsed_sections": [
    "6mvaHjRTkbk5"
   ],
   "provenance": []
  },
  "kernelspec": {
   "display_name": "Python 3 (ipykernel)",
   "language": "python",
   "name": "python3"
  },
  "language_info": {
   "codemirror_mode": {
    "name": "ipython",
    "version": 3
   },
   "file_extension": ".py",
   "mimetype": "text/x-python",
   "name": "python",
   "nbconvert_exporter": "python",
   "pygments_lexer": "ipython3",
   "version": "3.9.7"
  }
 },
 "nbformat": 4,
 "nbformat_minor": 1
}
