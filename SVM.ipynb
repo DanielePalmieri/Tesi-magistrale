{
 "cells": [
  {
   "cell_type": "code",
   "execution_count": 1,
   "metadata": {
    "colab": {
     "base_uri": "https://localhost:8080/"
    },
    "executionInfo": {
     "elapsed": 3,
     "status": "ok",
     "timestamp": 1675868759529,
     "user": {
      "displayName": "DANIELE PALMIERI",
      "userId": "13749636301499067245"
     },
     "user_tz": -60
    },
    "id": "5tWyPVVSti_W",
    "outputId": "cf23d942-3a3f-4923-fcf5-6cded2eab13b",
    "scrolled": false
   },
   "outputs": [
    {
     "name": "stdout",
     "output_type": "stream",
     "text": [
      "C:\\Users\\Daniele\\Desktop\\Materiale Tesi\\Tesi magistrale\\datasets\\NLS\n"
     ]
    }
   ],
   "source": [
    "cd datasets/NLS"
   ]
  },
  {
   "cell_type": "markdown",
   "metadata": {},
   "source": [
    "# Import"
   ]
  },
  {
   "cell_type": "code",
   "execution_count": 2,
   "metadata": {},
   "outputs": [
    {
     "name": "stderr",
     "output_type": "stream",
     "text": [
      "C:\\Users\\Daniele\\anaconda3\\lib\\site-packages\\numpy\\_distributor_init.py:30: UserWarning: loaded more than 1 DLL from .libs:\n",
      "C:\\Users\\Daniele\\anaconda3\\lib\\site-packages\\numpy\\.libs\\libopenblas.GK7GX5KEQ4F6UYO3P26ULGBQYHGQO7J4.gfortran-win_amd64.dll\n",
      "C:\\Users\\Daniele\\anaconda3\\lib\\site-packages\\numpy\\.libs\\libopenblas64__v0.3.21-gcc_10_3_0.dll\n",
      "  warnings.warn(\"loaded more than 1 DLL from .libs:\"\n",
      "C:\\Users\\Daniele\\anaconda3\\lib\\site-packages\\scipy\\__init__.py:146: UserWarning: A NumPy version >=1.16.5 and <1.23.0 is required for this version of SciPy (detected version 1.24.2\n",
      "  warnings.warn(f\"A NumPy version >={np_minversion} and <{np_maxversion}\"\n"
     ]
    }
   ],
   "source": [
    "import pandas as pd\n",
    "import numpy as np\n",
    "import scikitplot as skplt\n",
    "import matplotlib.pyplot as plt\n",
    "from sklearn import preprocessing\n",
    "from imblearn.over_sampling import SMOTE\n",
    "from sklearn.feature_selection import RFE\n",
    "from sklearn.svm import LinearSVC\n",
    "from sklearn.metrics.pairwise import rbf_kernel\n",
    "from sklearn.model_selection import StratifiedKFold\n",
    "from sklearn.model_selection import KFold\n",
    "from sklearn.metrics import accuracy_score, precision_score, recall_score, f1_score\n",
    "from sklearn.preprocessing import OneHotEncoder\n",
    "from imblearn.over_sampling import RandomOverSampler\n",
    "\n",
    "# Aggiungo gli headers al CSV\n",
    "col_names = [\"duration\",\"protocol_type\",\"service\",\"flag\",\"src_bytes\",\n",
    "    \"dst_bytes\",\"land\",\"wrong_fragment\",\"urgent\",\"hot\",\"num_failed_logins\",\n",
    "    \"logged_in\",\"num_compromised\",\"root_shell\",\"su_attempted\",\"num_root\",\n",
    "    \"num_file_creations\",\"num_shells\",\"num_access_files\",\"num_outbound_cmds\",\n",
    "    \"is_host_login\",\"is_guest_login\",\"count\",\"srv_count\",\"serror_rate\",\n",
    "    \"srv_serror_rate\",\"rerror_rate\",\"srv_rerror_rate\",\"same_srv_rate\",\n",
    "    \"diff_srv_rate\",\"srv_diff_host_rate\",\"dst_host_count\",\"dst_host_srv_count\",\n",
    "    \"dst_host_same_srv_rate\",\"dst_host_diff_srv_rate\",\"dst_host_same_src_port_rate\",\n",
    "    \"dst_host_srv_diff_host_rate\",\"dst_host_serror_rate\",\"dst_host_srv_serror_rate\",\n",
    "    \"dst_host_rerror_rate\",\"dst_host_srv_rerror_rate\",\"label\"]\n",
    "\n",
    "df = pd.read_csv('KDDTrain+.csv', encoding='cp1252', names = col_names)\n",
    "df_test = pd.read_csv('KDDTest+.csv', encoding='cp1252', names = col_names)\n",
    "\n",
    "labeldf=df['label']\n",
    "labeldf_test=df_test['label']"
   ]
  },
  {
   "cell_type": "markdown",
   "metadata": {},
   "source": [
    "# Functions"
   ]
  },
  {
   "cell_type": "code",
   "execution_count": 3,
   "metadata": {
    "id": "_6ocXjZLt7SF"
   },
   "outputs": [],
   "source": [
    "#Dataset Preparation ----------------------------------------------------------------------------------------------------------\n",
    "\n",
    "def prepareMulticlass():\n",
    "    # change the label column\n",
    "    newlabeldf=labeldf.replace({ 'normal' : 0, 'neptune' : 1 ,'back': 1, 'land': 1, 'pod': 1, 'smurf': 1, 'teardrop': 1,'mailbomb': 1, 'apache2': 1, 'processtable': 1, 'udpstorm': 1, 'worm': 1,\n",
    "                           'ipsweep' : 2,'nmap' : 2,'portsweep' : 2,'satan' : 2,'mscan' : 2,'saint' : 2\n",
    "                           ,'ftp_write': 3,'guess_passwd': 3,'imap': 3,'multihop': 3,'phf': 3,'spy': 3,'warezclient': 3,'warezmaster': 3,'sendmail': 3,'named': 3,'snmpgetattack': 3,'snmpguess': 3,'xlock': 3,'xsnoop': 3,'httptunnel': 3,\n",
    "                           'buffer_overflow': 4,'loadmodule': 4,'perl': 4,'rootkit': 4,'ps': 4,'sqlattack': 4,'xterm': 4})\n",
    "    newlabeldf_test=labeldf_test.replace({ 'normal' : 0, 'neptune' : 1 ,'back': 1, 'land': 1, 'pod': 1, 'smurf': 1, 'teardrop': 1,'mailbomb': 1, 'apache2': 1, 'processtable': 1, 'udpstorm': 1, 'worm': 1,\n",
    "                           'ipsweep' : 2,'nmap' : 2,'portsweep' : 2,'satan' : 2,'mscan' : 2,'saint' : 2\n",
    "                           ,'ftp_write': 3,'guess_passwd': 3,'imap': 3,'multihop': 3,'phf': 3,'spy': 3,'warezclient': 3,'warezmaster': 3,'sendmail': 3,'named': 3,'snmpgetattack': 3,'snmpguess': 3,'xlock': 3,'xsnoop': 3,'httptunnel': 3,\n",
    "                           'buffer_overflow': 4,'loadmodule': 4,'perl': 4,'rootkit': 4,'ps': 4,'sqlattack': 4,'xterm': 4})\n",
    "    return newlabeldf, newlabeldf_test\n",
    "\n",
    "def prepareBinary():\n",
    "    # change the label column\n",
    "    newlabeldf=labeldf.replace({ 'normal' : 0, 'neptune' : 1 ,'back': 1, 'land': 1, 'pod': 1, 'smurf': 1, 'teardrop': 1,'mailbomb': 1, 'apache2': 1, 'processtable': 1, 'udpstorm': 1, 'worm': 1,\n",
    "                           'ipsweep' : 1,'nmap' : 1,'portsweep' : 1,'satan' : 1,'mscan' : 1,'saint' : 1\n",
    "                           ,'ftp_write': 1,'guess_passwd': 1,'imap': 1,'multihop': 1,'phf': 1,'spy': 1,'warezclient': 1,'warezmaster': 1,'sendmail': 1,'named': 1,'snmpgetattack': 1,'snmpguess': 1,'xlock': 1,'xsnoop': 1,'httptunnel': 1,\n",
    "                           'buffer_overflow': 1,'loadmodule': 1,'perl': 1,'rootkit': 1,'ps': 1,'sqlattack': 1,'xterm': 1})\n",
    "    newlabeldf_test=labeldf_test.replace({ 'normal' : 0, 'neptune' : 1 ,'back': 1, 'land': 1, 'pod': 1, 'smurf': 1, 'teardrop': 1,'mailbomb': 1, 'apache2': 1, 'processtable': 1, 'udpstorm': 1, 'worm': 1,\n",
    "                           'ipsweep' : 1,'nmap' : 1,'portsweep' : 1,'satan' : 1,'mscan' : 1,'saint' : 1\n",
    "                           ,'ftp_write': 1,'guess_passwd': 1,'imap': 1,'multihop': 1,'phf': 1,'spy': 1,'warezclient': 1,'warezmaster': 1,'sendmail': 1,'named': 1,'snmpgetattack': 1,'snmpguess': 1,'xlock': 1,'xsnoop': 1,'httptunnel': 1,\n",
    "                           'buffer_overflow': 1,'loadmodule': 1,'perl': 1,'rootkit': 1,'ps': 1,'sqlattack': 1,'xterm': 1})\n",
    "    return newlabeldf, newlabeldf_test\n",
    "  \n",
    "colNames=list()\n",
    "colNames_test=list()\n",
    "\n",
    "def getFullDf():\n",
    "    global colNames\n",
    "    colNames=list(df)\n",
    "    return df\n",
    "\n",
    "def getFullDfTest():\n",
    "    global colNames_test\n",
    "    colNames_test=list(df_test)\n",
    "    return df_test\n",
    "\n",
    "def getReducedDf():\n",
    "    global colNames\n",
    "    df_reduced=df.drop('protocol_type', axis=1, inplace=False)\n",
    "    df_reduced=df_reduced.drop('service', axis=1, inplace=False)\n",
    "    df_reduced=df_reduced.drop('flag', axis=1, inplace=False)\n",
    "    colNames=list(df_reduced)\n",
    "    return df_reduced\n",
    "\n",
    "def getReducedDfTest():\n",
    "    global colNames_test\n",
    "    df_reduced=df_test.drop('protocol_type', axis=1, inplace=False)\n",
    "    df_reduced=df_reduced.drop('service', axis=1, inplace=False)\n",
    "    df_reduced=df_reduced.drop('flag', axis=1, inplace=False)\n",
    "    colNames_test=list(df_reduced)\n",
    "    return df_reduced\n",
    "\n",
    "def oneHotEcoding(df, column_name):\n",
    "    df_drop = df.drop(column_name, axis=1, inplace=False)\n",
    "    one_hot = pd.get_dummies(df[column_name])\n",
    "    if(column_name == 'service'):\n",
    "        column_list=list()\n",
    "        for string in one_hot.columns.tolist():\n",
    "            column_list.append(column_name+'_'+str(string))\n",
    "        one_hot.columns=column_list\n",
    "    df = pd.concat([df_drop, one_hot], axis=1)\n",
    "    \n",
    "    return df\n",
    "\n",
    "def getXandY(df):\n",
    "    X = df.drop('label',axis=1, inplace=False)\n",
    "    Y = df.label\n",
    "    return X, Y\n",
    "\n",
    "def overSampledDF(X, Y): \n",
    "    sm = SMOTE(random_state=42)\n",
    "    X_resampled, Y_resampled = sm.fit_resample(X, Y)\n",
    "    df = pd.concat([X_resampled, Y_resampled], axis=1)\n",
    "    return df\n",
    "\n",
    "def createMulticlassDF(df):\n",
    "    to_drop_DoS = [0,1]\n",
    "    to_drop_Probe = [0,2]\n",
    "    to_drop_R2L = [0,3]\n",
    "    to_drop_U2R = [0,4]\n",
    "\n",
    "    DoS_df=df[df['label'].isin(to_drop_DoS)];\n",
    "    Probe_df=df[df['label'].isin(to_drop_Probe)];\n",
    "    R2L_df=df[df['label'].isin(to_drop_R2L)];\n",
    "    U2R_df=df[df['label'].isin(to_drop_U2R)];\n",
    "    return DoS_df, Probe_df, R2L_df, U2R_df \n",
    "\n",
    "def standardScaler(df):\n",
    "    scaler = preprocessing.StandardScaler().fit(df)\n",
    "    return scaler.transform(df) \n",
    "\n",
    "def minMaxScaler(df):\n",
    "    scaler = preprocessing.MinMaxScaler().fit(df)\n",
    "    return scaler.transform(df)\n",
    "\n",
    "def recursiveFeatureExtraction(model, X, Y, n):\n",
    "    rfe = RFE(model, n_features_to_select=n)\n",
    "    rfe.fit(X, Y)\n",
    "    X=rfe.transform(X)\n",
    "    true=rfe.support_\n",
    "    rfecolindex=[i for i, x in enumerate(true) if x]\n",
    "    rfecolname=list(colNames[i] for i in rfecolindex)\n",
    "    return X, rfecolindex\n",
    "\n",
    "def adaptTestset(train, test):\n",
    "    train_service_list=[]\n",
    "    test_service_list = []\n",
    "    \n",
    "    for string in train.columns.tolist():\n",
    "        if('service' in string):\n",
    "            train_service_list.append(string)\n",
    "    \n",
    "    for string in test.columns.tolist():\n",
    "        if('service' in string):\n",
    "            test_service_list.append(string)\n",
    "\n",
    "    difference=list(set(train_service_list) - set(test_service_list))\n",
    "\n",
    "    for col in difference:\n",
    "        test[col] = 0\n",
    "    return test.reindex(columns=train.columns)\n",
    "\n",
    "# Algorythms-------------------------------------------------------------------------------------------------------------------- \n",
    "\n",
    "def SVM(X, Y):\n",
    "    clf = LinearSVC(random_state=0, tol=1e-5, dual=False, max_iter=10000)\n",
    "    return clf.fit(X, Y)\n",
    "\n",
    "def stratifiedCV(model, X, Y, k, pos_label):\n",
    "    skf = StratifiedKFold(n_splits=k)\n",
    "  \n",
    "    precision_test_sum = 0\n",
    "    recall_test_sum = 0\n",
    "    f1_test_sum = 0\n",
    "    accuracy_test_sum = 0  \n",
    "    precision_train_sum = 0\n",
    "    recall_train_sum = 0\n",
    "    f1_train_sum = 0\n",
    "    accuracy_train_sum = 0 \n",
    "\n",
    "    for train_index, test_index in skf.split(X, Y):\n",
    "        X_train, X_test = X.iloc[train_index], X.iloc[test_index]\n",
    "        y_train, y_test = Y.iloc[train_index], Y.iloc[test_index]\n",
    "        model.fit(X_train, y_train)\n",
    "        y_test_pred = model.predict(X_test)\n",
    "        y_train_pred = model.predict(X_train)\n",
    "\n",
    "        test_accuracy = accuracy_score(y_test, y_test_pred)\n",
    "        test_precision = precision_score(y_test, y_test_pred, pos_label=pos_label)\n",
    "        test_recall = recall_score(y_test, y_test_pred, pos_label=pos_label)\n",
    "        test_f1 = f1_score(y_test, y_test_pred, pos_label=pos_label)\n",
    "\n",
    "        train_accuracy = accuracy_score(y_train, y_train_pred)\n",
    "        train_precision = precision_score(y_train, y_train_pred, pos_label=pos_label)\n",
    "        train_recall = recall_score(y_train, y_train_pred, pos_label=pos_label)\n",
    "        train_f1 = f1_score(y_train, y_train_pred, pos_label=pos_label)\n",
    "    \n",
    "        accuracy_test_sum += test_accuracy\n",
    "        precision_test_sum += test_precision\n",
    "        recall_test_sum += test_recall\n",
    "        f1_test_sum += test_f1\n",
    "\n",
    "        accuracy_train_sum += train_accuracy\n",
    "        precision_train_sum += train_precision\n",
    "        recall_train_sum += train_recall\n",
    "        f1_train_sum += train_f1\n",
    "\n",
    "        train_0, train_1 = len(y_train[y_train==0]), len(y_train[y_train==pos_label])\n",
    "        test_0, test_1 = len(y_test[y_test==0]), len(y_test[y_test==pos_label])\n",
    "        print('>Train: 0=%d, 1=%d, Test: 0=%d, 1=%d' % (train_0, train_1, test_0, test_1))\n",
    "\n",
    "    accuracy_test_mean = accuracy_test_sum / skf.n_splits \n",
    "    precision_test_mean = precision_test_sum / skf.n_splits\n",
    "    recall_test_mean = recall_test_sum / skf.n_splits\n",
    "    f1_test_mean = f1_test_sum / skf.n_splits\n",
    "\n",
    "    accuracy_train_mean = accuracy_train_sum / skf.n_splits \n",
    "    precision_train_mean = precision_train_sum / skf.n_splits\n",
    "    recall_train_mean = recall_train_sum / skf.n_splits\n",
    "    f1_train_mean = f1_train_sum / skf.n_splits\n",
    "\n",
    "    return {\"Mean Training Accuracy\": accuracy_train_mean,\n",
    "      \"Mean Training Precision\": precision_train_mean,\n",
    "      \"Mean Training Recall\": recall_train_mean,\n",
    "      \"Mean Training F1 Score\": f1_train_mean,\n",
    "      \"Mean Validation Accuracy\": accuracy_test_mean,\n",
    "      \"Mean Validation Precision\": precision_test_mean,\n",
    "      \"Mean Validation Recall\": recall_test_mean,\n",
    "      \"Mean Validation F1 Score\": f1_test_mean}\n",
    "  \n",
    "    \n",
    "def KfoldCV(model, X, Y, k, pos_label):\n",
    "    skf = KFold(n_splits=k)\n",
    "  \n",
    "    precision_test_sum = 0\n",
    "    recall_test_sum = 0\n",
    "    f1_test_sum = 0\n",
    "    accuracy_test_sum = 0  \n",
    "    precision_train_sum = 0\n",
    "    recall_train_sum = 0\n",
    "    f1_train_sum = 0\n",
    "    accuracy_train_sum = 0 \n",
    "\n",
    "    for train_index, test_index in skf.split(X, Y):\n",
    "        X_train, X_test = X.iloc[train_index], X.iloc[test_index]\n",
    "        y_train, y_test = Y.iloc[train_index], Y.iloc[test_index]\n",
    "        model.fit(X_train, y_train)\n",
    "        y_test_pred = model.predict(X_test)\n",
    "        y_train_pred = model.predict(X_train)\n",
    "\n",
    "        test_accuracy = accuracy_score(y_test, y_test_pred )\n",
    "        test_precision = precision_score(y_test, y_test_pred, pos_label=pos_label)\n",
    "        test_recall = recall_score(y_test, y_test_pred, pos_label=pos_label)\n",
    "        test_f1 = f1_score(y_test, y_test_pred, pos_label=pos_label)\n",
    "\n",
    "        train_accuracy = accuracy_score(y_train, y_train_pred)\n",
    "        train_precision = precision_score(y_train, y_train_pred, pos_label=pos_label)\n",
    "        train_recall = recall_score(y_train, y_train_pred, pos_label=pos_label)\n",
    "        train_f1 = f1_score(y_train, y_train_pred, pos_label=pos_label)\n",
    "    \n",
    "        accuracy_test_sum += test_accuracy\n",
    "        precision_test_sum += test_precision\n",
    "        recall_test_sum += test_recall\n",
    "        f1_test_sum += test_f1\n",
    "\n",
    "        accuracy_train_sum += train_accuracy\n",
    "        precision_train_sum += train_precision\n",
    "        recall_train_sum += train_recall\n",
    "        f1_train_sum += train_f1\n",
    "\n",
    "        train_0, train_1 = len(y_train[y_train==0]), len(y_train[y_train==pos_label])\n",
    "        test_0, test_1 = len(y_test[y_test==0]), len(y_test[y_test==pos_label])\n",
    "        print('>Train: 0=%d, 1=%d, Test: 0=%d, 1=%d' % (train_0, train_1, test_0, test_1))\n",
    "\n",
    "    accuracy_test_mean = accuracy_test_sum / skf.n_splits \n",
    "    precision_test_mean = precision_test_sum / skf.n_splits\n",
    "    recall_test_mean = recall_test_sum / skf.n_splits\n",
    "    f1_test_mean = f1_test_sum / skf.n_splits\n",
    "\n",
    "    accuracy_train_mean = accuracy_train_sum / skf.n_splits \n",
    "    precision_train_mean = precision_train_sum / skf.n_splits\n",
    "    recall_train_mean = recall_train_sum / skf.n_splits\n",
    "    f1_train_mean = f1_train_sum / skf.n_splits\n",
    "\n",
    "    return {\"Mean Training Accuracy\": accuracy_train_mean,\n",
    "      \"Mean Training Precision\": precision_train_mean,\n",
    "      \"Mean Training Recall\": recall_train_mean,\n",
    "      \"Mean Training F1 Score\": f1_train_mean,\n",
    "      \"Mean Validation Accuracy\": accuracy_test_mean,\n",
    "      \"Mean Validation Precision\": precision_test_mean,\n",
    "      \"Mean Validation Recall\": recall_test_mean,\n",
    "      \"Mean Validation F1 Score\": f1_test_mean}\n",
    "\n",
    "#Plotting-----------------------------------------------------------------------------------------------------------------------\n",
    "\n",
    "def plotDf(y):\n",
    "    plt.figure(figsize=(10,5))\n",
    "    class_distribution = y.value_counts()\n",
    "    class_distribution.plot(kind='bar')\n",
    "    plt.xlabel('Class')\n",
    "    plt.ylabel('Data points per Class')\n",
    "    plt.title('Distribution of yi in train data')\n",
    "    plt.grid()\n",
    "    return plt\n",
    "\n",
    "def plotConfusionMatrix(Y_pred, Y_test, pos_label):\n",
    "    skplt.metrics.plot_confusion_matrix(Y_test,Y_pred)\n",
    "    plt.show()\n",
    "    accuracy = accuracy_score(Y_test, Y_pred)\n",
    "    print(\"Accuracy: %0.5f \" % accuracy)\n",
    "    precision = precision_score(Y_test, Y_pred, pos_label=pos_label)\n",
    "    print(\"Precision: %0.5f \" % precision)\n",
    "    recall = recall_score(Y_test, Y_pred, pos_label=pos_label)\n",
    "    print(\"Recall: %0.5f \" % recall)\n",
    "    f = f1_score(Y_test, Y_pred, pos_label=pos_label)\n",
    "    print(\"F-measure: %0.5f \" % f)"
   ]
  },
  {
   "cell_type": "markdown",
   "metadata": {},
   "source": [
    "# Reduced DF, no oversampling"
   ]
  },
  {
   "cell_type": "code",
   "execution_count": 4,
   "metadata": {
    "colab": {
     "base_uri": "https://localhost:8080/",
     "height": 364
    },
    "executionInfo": {
     "elapsed": 825,
     "status": "ok",
     "timestamp": 1675868788597,
     "user": {
      "displayName": "DANIELE PALMIERI",
      "userId": "13749636301499067245"
     },
     "user_tz": -60
    },
    "id": "Sd9I2blW6SOK",
    "outputId": "3143ab84-9747-481a-8ba0-863344ad6186"
   },
   "outputs": [
    {
     "data": {
      "text/plain": [
       "<module 'matplotlib.pyplot' from 'C:\\\\Users\\\\Daniele\\\\anaconda3\\\\lib\\\\site-packages\\\\matplotlib\\\\pyplot.py'>"
      ]
     },
     "execution_count": 4,
     "metadata": {},
     "output_type": "execute_result"
    },
    {
     "data": {
      "image/png": "[encoded data removed]",
      "text/plain": [
       "<Figure size 720x360 with 1 Axes>"
      ]
     },
     "metadata": {
      "needs_background": "light"
     },
     "output_type": "display_data"
    }
   ],
   "source": [
    "reducedDf = getReducedDf()\n",
    "reducedDf_test = getReducedDfTest()\n",
    "\n",
    "reducedDf['label'], reducedDf_test['label'] = prepareMulticlass()\n",
    "\n",
    "plotDf(reducedDf['label'])\n"
   ]
  },
  {
   "cell_type": "code",
   "execution_count": 5,
   "metadata": {
    "id": "zyuGPMoLbxc-"
   },
   "outputs": [],
   "source": [
    "#Preparo i dataframe per ogni classe di attacco\n",
    "dos, probe, r2l, u2r = createMulticlassDF(reducedDf)\n",
    "dos_test, probe_test, r2l_test, u2r_test = createMulticlassDF(reducedDf_test)\n",
    "\n",
    "X_dos, y_dos = getXandY(dos)\n",
    "X_probe, y_probe = getXandY(probe)\n",
    "X_r2l, y_r2l = getXandY(r2l)\n",
    "X_u2r, y_u2r = getXandY(u2r)\n",
    "\n",
    "X_dos_test, y_dos_test = getXandY(dos_test)\n",
    "X_probe_test, y_probe_test = getXandY(probe_test)\n",
    "X_r2l_test, y_r2l_test = getXandY(r2l_test)\n",
    "X_u2r_test, y_u2r_test = getXandY(u2r_test)"
   ]
  },
  {
   "cell_type": "code",
   "execution_count": 6,
   "metadata": {
    "id": "JPdFVffDAz33"
   },
   "outputs": [],
   "source": [
    "#Effettuo standard scaler\n",
    "X_dos_ss=standardScaler(X_dos)\n",
    "X_probe_ss=standardScaler(X_probe)\n",
    "X_r2l_ss=standardScaler(X_r2l)\n",
    "X_u2r_ss=standardScaler(X_u2r)\n",
    "\n",
    "X_dos_test_ss=standardScaler(X_dos_test)\n",
    "X_probe_test_ss=standardScaler(X_probe_test)\n",
    "X_r2l_test_ss=standardScaler(X_r2l_test)\n",
    "X_u2r_test_ss=standardScaler(X_u2r_test)"
   ]
  },
  {
   "cell_type": "markdown",
   "metadata": {
    "id": "4R7xuyWpitQi"
   },
   "source": [
    "## No feature selection"
   ]
  },
  {
   "cell_type": "markdown",
   "metadata": {},
   "source": [
    "#### K-fold cross validation on dos"
   ]
  },
  {
   "cell_type": "code",
   "execution_count": 7,
   "metadata": {
    "scrolled": false
   },
   "outputs": [
    {
     "name": "stdout",
     "output_type": "stream",
     "text": [
      ">Train: 0=60666, 1=41277, Test: 0=6677, 1=4650\n",
      ">Train: 0=60586, 1=41357, Test: 0=6757, 1=4570\n",
      ">Train: 0=60612, 1=41331, Test: 0=6731, 1=4596\n",
      ">Train: 0=60720, 1=41223, Test: 0=6623, 1=4704\n",
      ">Train: 0=60634, 1=41309, Test: 0=6709, 1=4618\n",
      ">Train: 0=60525, 1=41418, Test: 0=6818, 1=4509\n",
      ">Train: 0=60548, 1=41395, Test: 0=6795, 1=4532\n",
      ">Train: 0=60557, 1=41386, Test: 0=6786, 1=4541\n",
      ">Train: 0=60662, 1=41281, Test: 0=6681, 1=4646\n",
      ">Train: 0=60577, 1=41366, Test: 0=6766, 1=4561\n"
     ]
    },
    {
     "data": {
      "text/plain": [
       "{'Mean Training Accuracy': 0.9787194804940016,\n",
       " 'Mean Training Precision': 0.9917103349034505,\n",
       " 'Mean Training Recall': 0.9555017135320856,\n",
       " 'Mean Training F1 Score': 0.9732608597199665,\n",
       " 'Mean Validation Accuracy': 0.9786616050145669,\n",
       " 'Mean Validation Precision': 0.991863632423961,\n",
       " 'Mean Validation Recall': 0.9552259367616049,\n",
       " 'Mean Validation F1 Score': 0.9731916188528951}"
      ]
     },
     "execution_count": 7,
     "metadata": {},
     "output_type": "execute_result"
    }
   ],
   "source": [
    "KfoldCV(LinearSVC(random_state=0, tol=1e-5, dual=False, max_iter=10000), pd.DataFrame(X_dos), y_dos, 10, 1)"
   ]
  },
  {
   "cell_type": "markdown",
   "metadata": {},
   "source": [
    "#### K-fold cross validation on dos Standard Scaler"
   ]
  },
  {
   "cell_type": "code",
   "execution_count": 8,
   "metadata": {
    "scrolled": true
   },
   "outputs": [
    {
     "name": "stdout",
     "output_type": "stream",
     "text": [
      ">Train: 0=60666, 1=41277, Test: 0=6677, 1=4650\n",
      ">Train: 0=60586, 1=41357, Test: 0=6757, 1=4570\n",
      ">Train: 0=60612, 1=41331, Test: 0=6731, 1=4596\n",
      ">Train: 0=60720, 1=41223, Test: 0=6623, 1=4704\n",
      ">Train: 0=60634, 1=41309, Test: 0=6709, 1=4618\n",
      ">Train: 0=60525, 1=41418, Test: 0=6818, 1=4509\n",
      ">Train: 0=60548, 1=41395, Test: 0=6795, 1=4532\n",
      ">Train: 0=60557, 1=41386, Test: 0=6786, 1=4541\n",
      ">Train: 0=60662, 1=41281, Test: 0=6681, 1=4646\n",
      ">Train: 0=60577, 1=41366, Test: 0=6766, 1=4561\n"
     ]
    },
    {
     "data": {
      "text/plain": [
       "{'Mean Training Accuracy': 0.9897874302306189,\n",
       " 'Mean Training Precision': 0.9895370632037576,\n",
       " 'Mean Training Recall': 0.9852300398872341,\n",
       " 'Mean Training F1 Score': 0.9873788403580235,\n",
       " 'Mean Validation Accuracy': 0.9896706983314205,\n",
       " 'Mean Validation Precision': 0.9893161160111559,\n",
       " 'Mean Validation Recall': 0.9851549405295081,\n",
       " 'Mean Validation F1 Score': 0.9872281645227206}"
      ]
     },
     "execution_count": 8,
     "metadata": {},
     "output_type": "execute_result"
    }
   ],
   "source": [
    "KfoldCV(LinearSVC(random_state=0, tol=1e-5, dual=False, max_iter=10000), pd.DataFrame(X_dos_ss), y_dos, 10, 1)"
   ]
  },
  {
   "cell_type": "markdown",
   "metadata": {},
   "source": [
    "#### Stratified cross validation on dos"
   ]
  },
  {
   "cell_type": "code",
   "execution_count": 9,
   "metadata": {},
   "outputs": [
    {
     "name": "stdout",
     "output_type": "stream",
     "text": [
      ">Train: 0=60608, 1=41335, Test: 0=6735, 1=4592\n",
      ">Train: 0=60608, 1=41335, Test: 0=6735, 1=4592\n",
      ">Train: 0=60608, 1=41335, Test: 0=6735, 1=4592\n",
      ">Train: 0=60609, 1=41334, Test: 0=6734, 1=4593\n",
      ">Train: 0=60609, 1=41334, Test: 0=6734, 1=4593\n",
      ">Train: 0=60609, 1=41334, Test: 0=6734, 1=4593\n",
      ">Train: 0=60609, 1=41334, Test: 0=6734, 1=4593\n",
      ">Train: 0=60609, 1=41334, Test: 0=6734, 1=4593\n",
      ">Train: 0=60609, 1=41334, Test: 0=6734, 1=4593\n",
      ">Train: 0=60609, 1=41334, Test: 0=6734, 1=4593\n"
     ]
    },
    {
     "data": {
      "text/plain": [
       "{'Mean Training Accuracy': 0.9784565884857225,\n",
       " 'Mean Training Precision': 0.9917502796569938,\n",
       " 'Mean Training Recall': 0.9548099397843501,\n",
       " 'Mean Training F1 Score': 0.9729276068851215,\n",
       " 'Mean Validation Accuracy': 0.9784320649774875,\n",
       " 'Mean Validation Precision': 0.9918126889749759,\n",
       " 'Mean Validation Recall': 0.9546889591493188,\n",
       " 'Mean Validation F1 Score': 0.9728925432873629}"
      ]
     },
     "execution_count": 9,
     "metadata": {},
     "output_type": "execute_result"
    }
   ],
   "source": [
    "stratifiedCV(LinearSVC(random_state=0, tol=1e-5, dual=False, max_iter=10000), pd.DataFrame(X_dos), y_dos, 10, 1)"
   ]
  },
  {
   "cell_type": "markdown",
   "metadata": {},
   "source": [
    "#### Stratified cross validation on dos Standard Scaler"
   ]
  },
  {
   "cell_type": "code",
   "execution_count": 10,
   "metadata": {},
   "outputs": [
    {
     "name": "stdout",
     "output_type": "stream",
     "text": [
      ">Train: 0=60608, 1=41335, Test: 0=6735, 1=4592\n",
      ">Train: 0=60608, 1=41335, Test: 0=6735, 1=4592\n",
      ">Train: 0=60608, 1=41335, Test: 0=6735, 1=4592\n",
      ">Train: 0=60609, 1=41334, Test: 0=6734, 1=4593\n",
      ">Train: 0=60609, 1=41334, Test: 0=6734, 1=4593\n",
      ">Train: 0=60609, 1=41334, Test: 0=6734, 1=4593\n",
      ">Train: 0=60609, 1=41334, Test: 0=6734, 1=4593\n",
      ">Train: 0=60609, 1=41334, Test: 0=6734, 1=4593\n",
      ">Train: 0=60609, 1=41334, Test: 0=6734, 1=4593\n",
      ">Train: 0=60609, 1=41334, Test: 0=6734, 1=4593\n"
     ]
    },
    {
     "data": {
      "text/plain": [
       "{'Mean Training Accuracy': 0.9897952777532544,\n",
       " 'Mean Training Precision': 0.9895419526745975,\n",
       " 'Mean Training Recall': 0.9852447010501457,\n",
       " 'Mean Training F1 Score': 0.9873886343904961,\n",
       " 'Mean Validation Accuracy': 0.9896883552573497,\n",
       " 'Mean Validation Precision': 0.9893989153396662,\n",
       " 'Mean Validation Recall': 0.9851286393625809,\n",
       " 'Mean Validation F1 Score': 0.9872558602102497}"
      ]
     },
     "execution_count": 10,
     "metadata": {},
     "output_type": "execute_result"
    }
   ],
   "source": [
    "stratifiedCV(LinearSVC(random_state=0, tol=1e-5, dual=False, max_iter=10000), pd.DataFrame(X_dos_ss), y_dos, 10, 1)"
   ]
  },
  {
   "cell_type": "markdown",
   "metadata": {},
   "source": [
    "#### Predict on dos"
   ]
  },
  {
   "cell_type": "code",
   "execution_count": 11,
   "metadata": {},
   "outputs": [
    {
     "data": {
      "image/png": "[encoded data removed]",
      "text/plain": [
       "<Figure size 432x288 with 2 Axes>"
      ]
     },
     "metadata": {
      "needs_background": "light"
     },
     "output_type": "display_data"
    },
    {
     "name": "stdout",
     "output_type": "stream",
     "text": [
      "Accuracy: 0.83169 \n",
      "Precision: 0.90833 \n",
      "Recall: 0.68137 \n",
      "F-measure: 0.77865 \n"
     ]
    }
   ],
   "source": [
    "y_dos_prediction = SVM(X_dos, y_dos).predict(X_dos_test)\n",
    "plotConfusionMatrix(y_dos_prediction, y_dos_test, 1)"
   ]
  },
  {
   "cell_type": "code",
   "execution_count": 12,
   "metadata": {
    "colab": {
     "base_uri": "https://localhost:8080/",
     "height": 364
    },
    "executionInfo": {
     "elapsed": 4929,
     "status": "ok",
     "timestamp": 1675470845682,
     "user": {
      "displayName": "DANIELE PALMIERI",
      "userId": "13749636301499067245"
     },
     "user_tz": -60
    },
    "id": "Joltm67yirLe",
    "outputId": "ed2979dd-8dd0-40a2-f7aa-697b4804a602"
   },
   "outputs": [
    {
     "data": {
      "image/png": "[encoded data removed]",
      "text/plain": [
       "<Figure size 432x288 with 2 Axes>"
      ]
     },
     "metadata": {
      "needs_background": "light"
     },
     "output_type": "display_data"
    },
    {
     "name": "stdout",
     "output_type": "stream",
     "text": [
      "Accuracy: 0.88446 \n",
      "Precision: 0.90732 \n",
      "Recall: 0.81756 \n",
      "F-measure: 0.86010 \n"
     ]
    }
   ],
   "source": [
    "y_dos_prediction = SVM(X_dos_ss, y_dos).predict(X_dos_test_ss)\n",
    "plotConfusionMatrix(y_dos_prediction, y_dos_test, 1)"
   ]
  },
  {
   "cell_type": "markdown",
   "metadata": {},
   "source": [
    "#### K-fold cross validation on probe"
   ]
  },
  {
   "cell_type": "code",
   "execution_count": 13,
   "metadata": {},
   "outputs": [
    {
     "name": "stdout",
     "output_type": "stream",
     "text": [
      ">Train: 0=60593, 1=10506, Test: 0=6750, 1=1150\n",
      ">Train: 0=60590, 1=10509, Test: 0=6753, 1=1147\n",
      ">Train: 0=60636, 1=10463, Test: 0=6707, 1=1193\n",
      ">Train: 0=60669, 1=10430, Test: 0=6674, 1=1226\n",
      ">Train: 0=60629, 1=10470, Test: 0=6714, 1=1186\n",
      ">Train: 0=60576, 1=10523, Test: 0=6767, 1=1133\n",
      ">Train: 0=60547, 1=10552, Test: 0=6796, 1=1104\n",
      ">Train: 0=60628, 1=10471, Test: 0=6715, 1=1185\n",
      ">Train: 0=60592, 1=10507, Test: 0=6751, 1=1149\n",
      ">Train: 0=60627, 1=10473, Test: 0=6716, 1=1183\n"
     ]
    },
    {
     "data": {
      "text/plain": [
       "{'Mean Training Accuracy': 0.9421989761943038,\n",
       " 'Mean Training Precision': 0.8294208280740222,\n",
       " 'Mean Training Recall': 0.7694139601183921,\n",
       " 'Mean Training F1 Score': 0.7936453583224943,\n",
       " 'Mean Validation Accuracy': 0.9422272263273191,\n",
       " 'Mean Validation Precision': 0.8293218148246696,\n",
       " 'Mean Validation Recall': 0.769392535879188,\n",
       " 'Mean Validation F1 Score': 0.793166494569432}"
      ]
     },
     "execution_count": 13,
     "metadata": {},
     "output_type": "execute_result"
    }
   ],
   "source": [
    "KfoldCV(LinearSVC(random_state=0, tol=1e-5, dual=False, max_iter=10000), pd.DataFrame(X_probe), y_probe, 10, 2)"
   ]
  },
  {
   "cell_type": "markdown",
   "metadata": {},
   "source": [
    "#### K-fold cross validation on probe Standard Scaler"
   ]
  },
  {
   "cell_type": "code",
   "execution_count": 14,
   "metadata": {},
   "outputs": [
    {
     "name": "stdout",
     "output_type": "stream",
     "text": [
      ">Train: 0=60593, 1=10506, Test: 0=6750, 1=1150\n",
      ">Train: 0=60590, 1=10509, Test: 0=6753, 1=1147\n",
      ">Train: 0=60636, 1=10463, Test: 0=6707, 1=1193\n",
      ">Train: 0=60669, 1=10430, Test: 0=6674, 1=1226\n",
      ">Train: 0=60629, 1=10470, Test: 0=6714, 1=1186\n",
      ">Train: 0=60576, 1=10523, Test: 0=6767, 1=1133\n",
      ">Train: 0=60547, 1=10552, Test: 0=6796, 1=1104\n",
      ">Train: 0=60628, 1=10471, Test: 0=6715, 1=1185\n",
      ">Train: 0=60592, 1=10507, Test: 0=6751, 1=1149\n",
      ">Train: 0=60627, 1=10473, Test: 0=6716, 1=1183\n"
     ]
    },
    {
     "data": {
      "text/plain": [
       "{'Mean Training Accuracy': 0.9556773568180293,\n",
       " 'Mean Training Precision': 0.850218485328732,\n",
       " 'Mean Training Recall': 0.8492114851331476,\n",
       " 'Mean Training F1 Score': 0.8497128257757665,\n",
       " 'Mean Validation Accuracy': 0.9554424770961234,\n",
       " 'Mean Validation Precision': 0.8492039838351841,\n",
       " 'Mean Validation Recall': 0.8486045020552524,\n",
       " 'Mean Validation F1 Score': 0.848854311879293}"
      ]
     },
     "execution_count": 14,
     "metadata": {},
     "output_type": "execute_result"
    }
   ],
   "source": [
    "KfoldCV(LinearSVC(random_state=0, tol=1e-5, dual=False, max_iter=10000), pd.DataFrame(X_probe_ss), y_probe, 10, 2)"
   ]
  },
  {
   "cell_type": "markdown",
   "metadata": {},
   "source": [
    "#### Stratified cross validation on probe"
   ]
  },
  {
   "cell_type": "code",
   "execution_count": 15,
   "metadata": {},
   "outputs": [
    {
     "name": "stdout",
     "output_type": "stream",
     "text": [
      ">Train: 0=60608, 1=10491, Test: 0=6735, 1=1165\n",
      ">Train: 0=60608, 1=10491, Test: 0=6735, 1=1165\n",
      ">Train: 0=60608, 1=10491, Test: 0=6735, 1=1165\n",
      ">Train: 0=60609, 1=10490, Test: 0=6734, 1=1166\n",
      ">Train: 0=60609, 1=10490, Test: 0=6734, 1=1166\n",
      ">Train: 0=60609, 1=10490, Test: 0=6734, 1=1166\n",
      ">Train: 0=60609, 1=10490, Test: 0=6734, 1=1166\n",
      ">Train: 0=60609, 1=10490, Test: 0=6734, 1=1166\n",
      ">Train: 0=60609, 1=10490, Test: 0=6734, 1=1166\n",
      ">Train: 0=60609, 1=10491, Test: 0=6734, 1=1165\n"
     ]
    },
    {
     "data": {
      "text/plain": [
       "{'Mean Training Accuracy': 0.9275532057487087,\n",
       " 'Mean Training Precision': 0.829621630439136,\n",
       " 'Mean Training Recall': 0.6477821518267189,\n",
       " 'Mean Training F1 Score': 0.6928925280435098,\n",
       " 'Mean Validation Accuracy': 0.927986679935451,\n",
       " 'Mean Validation Precision': 0.8347265443342049,\n",
       " 'Mean Validation Recall': 0.6469677338614096,\n",
       " 'Mean Validation F1 Score': 0.6931550092737208}"
      ]
     },
     "execution_count": 15,
     "metadata": {},
     "output_type": "execute_result"
    }
   ],
   "source": [
    "stratifiedCV(LinearSVC(random_state=0, tol=1e-5, dual=False, max_iter=10000), pd.DataFrame(X_probe), y_probe, 10, 2)"
   ]
  },
  {
   "cell_type": "markdown",
   "metadata": {},
   "source": [
    "#### Stratified cross validation on probe Standard Scaler"
   ]
  },
  {
   "cell_type": "code",
   "execution_count": 16,
   "metadata": {},
   "outputs": [
    {
     "name": "stdout",
     "output_type": "stream",
     "text": [
      ">Train: 0=60608, 1=10491, Test: 0=6735, 1=1165\n",
      ">Train: 0=60608, 1=10491, Test: 0=6735, 1=1165\n",
      ">Train: 0=60608, 1=10491, Test: 0=6735, 1=1165\n",
      ">Train: 0=60609, 1=10490, Test: 0=6734, 1=1166\n",
      ">Train: 0=60609, 1=10490, Test: 0=6734, 1=1166\n",
      ">Train: 0=60609, 1=10490, Test: 0=6734, 1=1166\n",
      ">Train: 0=60609, 1=10490, Test: 0=6734, 1=1166\n",
      ">Train: 0=60609, 1=10490, Test: 0=6734, 1=1166\n",
      ">Train: 0=60609, 1=10490, Test: 0=6734, 1=1166\n",
      ">Train: 0=60609, 1=10491, Test: 0=6734, 1=1165\n"
     ]
    },
    {
     "data": {
      "text/plain": [
       "{'Mean Training Accuracy': 0.9556872023437378,\n",
       " 'Mean Training Precision': 0.850166762278041,\n",
       " 'Mean Training Recall': 0.8493670420122236,\n",
       " 'Mean Training F1 Score': 0.8497651373399091,\n",
       " 'Mean Validation Accuracy': 0.955379187559393,\n",
       " 'Mean Validation Precision': 0.8490087971986521,\n",
       " 'Mean Validation Recall': 0.8485759612482424,\n",
       " 'Mean Validation F1 Score': 0.8487530245086095}"
      ]
     },
     "execution_count": 16,
     "metadata": {},
     "output_type": "execute_result"
    }
   ],
   "source": [
    "stratifiedCV(LinearSVC(random_state=0, tol=1e-5, dual=False, max_iter=10000), pd.DataFrame(X_probe_ss), y_probe, 10, 2)"
   ]
  },
  {
   "cell_type": "markdown",
   "metadata": {},
   "source": [
    "#### Predict on probe"
   ]
  },
  {
   "cell_type": "code",
   "execution_count": 17,
   "metadata": {},
   "outputs": [
    {
     "data": {
      "image/png": "[encoded data removed]",
      "text/plain": [
       "<Figure size 432x288 with 2 Axes>"
      ]
     },
     "metadata": {
      "needs_background": "light"
     },
     "output_type": "display_data"
    },
    {
     "name": "stdout",
     "output_type": "stream",
     "text": [
      "Accuracy: 0.91205 \n",
      "Precision: 0.89917 \n",
      "Recall: 0.62990 \n",
      "F-measure: 0.74083 \n"
     ]
    }
   ],
   "source": [
    "y_probe_prediction = SVM(X_probe, y_probe).predict(X_probe_test)\n",
    "plotConfusionMatrix(y_probe_prediction, y_probe_test, 2)"
   ]
  },
  {
   "cell_type": "code",
   "execution_count": 18,
   "metadata": {
    "colab": {
     "base_uri": "https://localhost:8080/",
     "height": 364
    },
    "executionInfo": {
     "elapsed": 6347,
     "status": "ok",
     "timestamp": 1675467170864,
     "user": {
      "displayName": "DANIELE PALMIERI",
      "userId": "13749636301499067245"
     },
     "user_tz": -60
    },
    "id": "h5WF5zwFi1Hp",
    "outputId": "d3e61c1d-fb82-4f4e-dbee-25386bf77bb7"
   },
   "outputs": [
    {
     "data": {
      "image/png": "[encoded data removed]",
      "text/plain": [
       "<Figure size 432x288 with 2 Axes>"
      ]
     },
     "metadata": {
      "needs_background": "light"
     },
     "output_type": "display_data"
    },
    {
     "name": "stdout",
     "output_type": "stream",
     "text": [
      "Accuracy: 0.93818 \n",
      "Precision: 0.90499 \n",
      "Recall: 0.77117 \n",
      "F-measure: 0.83274 \n"
     ]
    }
   ],
   "source": [
    "y_probe_prediction = SVM(X_probe_ss, y_probe).predict(X_probe_test_ss)\n",
    "plotConfusionMatrix(y_probe_prediction, y_probe_test, 2)"
   ]
  },
  {
   "cell_type": "markdown",
   "metadata": {},
   "source": [
    "#### K-fold cross validation on r2l"
   ]
  },
  {
   "cell_type": "code",
   "execution_count": 19,
   "metadata": {},
   "outputs": [
    {
     "name": "stdout",
     "output_type": "stream",
     "text": [
      ">Train: 0=60615, 1=889, Test: 0=6728, 1=106\n",
      ">Train: 0=60612, 1=892, Test: 0=6731, 1=103\n",
      ">Train: 0=60628, 1=876, Test: 0=6715, 1=119\n",
      ">Train: 0=60613, 1=891, Test: 0=6730, 1=104\n",
      ">Train: 0=60610, 1=894, Test: 0=6733, 1=101\n",
      ">Train: 0=60591, 1=913, Test: 0=6752, 1=82\n",
      ">Train: 0=60599, 1=905, Test: 0=6744, 1=90\n",
      ">Train: 0=60597, 1=907, Test: 0=6746, 1=88\n",
      ">Train: 0=60614, 1=891, Test: 0=6729, 1=104\n",
      ">Train: 0=60608, 1=897, Test: 0=6735, 1=98\n"
     ]
    },
    {
     "data": {
      "text/plain": [
       "{'Mean Training Accuracy': 0.9906087672245796,\n",
       " 'Mean Training Precision': 0.7173416213067437,\n",
       " 'Mean Training Recall': 0.5532512191998683,\n",
       " 'Mean Training F1 Score': 0.6054585246736157,\n",
       " 'Mean Validation Accuracy': 0.9905469917138937,\n",
       " 'Mean Validation Precision': 0.6986822570001694,\n",
       " 'Mean Validation Recall': 0.5562958343400451,\n",
       " 'Mean Validation F1 Score': 0.6026932377658565}"
      ]
     },
     "execution_count": 19,
     "metadata": {},
     "output_type": "execute_result"
    }
   ],
   "source": [
    "KfoldCV(LinearSVC(random_state=0, tol=1e-5, dual=False, max_iter=10000), pd.DataFrame(X_r2l), y_r2l, 10, 3)"
   ]
  },
  {
   "cell_type": "markdown",
   "metadata": {},
   "source": [
    "#### K-fold cross validation on r2l Standard Scaler"
   ]
  },
  {
   "cell_type": "code",
   "execution_count": 20,
   "metadata": {},
   "outputs": [
    {
     "name": "stdout",
     "output_type": "stream",
     "text": [
      ">Train: 0=60615, 1=889, Test: 0=6728, 1=106\n",
      ">Train: 0=60612, 1=892, Test: 0=6731, 1=103\n",
      ">Train: 0=60628, 1=876, Test: 0=6715, 1=119\n",
      ">Train: 0=60613, 1=891, Test: 0=6730, 1=104\n",
      ">Train: 0=60610, 1=894, Test: 0=6733, 1=101\n",
      ">Train: 0=60591, 1=913, Test: 0=6752, 1=82\n",
      ">Train: 0=60599, 1=905, Test: 0=6744, 1=90\n",
      ">Train: 0=60597, 1=907, Test: 0=6746, 1=88\n",
      ">Train: 0=60614, 1=891, Test: 0=6729, 1=104\n",
      ">Train: 0=60608, 1=897, Test: 0=6735, 1=98\n"
     ]
    },
    {
     "data": {
      "text/plain": [
       "{'Mean Training Accuracy': 0.9921631369054029,\n",
       " 'Mean Training Precision': 0.7579848747262782,\n",
       " 'Mean Training Recall': 0.6780729547968769,\n",
       " 'Mean Training F1 Score': 0.7157435805701408,\n",
       " 'Mean Validation Accuracy': 0.991995637295483,\n",
       " 'Mean Validation Precision': 0.7485405085520621,\n",
       " 'Mean Validation Recall': 0.6729820604819167,\n",
       " 'Mean Validation F1 Score': 0.7082537659838564}"
      ]
     },
     "execution_count": 20,
     "metadata": {},
     "output_type": "execute_result"
    }
   ],
   "source": [
    "KfoldCV(LinearSVC(random_state=0, tol=1e-5, dual=False, max_iter=10000), pd.DataFrame(X_r2l_ss), y_r2l, 10, 3)"
   ]
  },
  {
   "cell_type": "markdown",
   "metadata": {},
   "source": [
    "#### Stratified cross validation on r2l"
   ]
  },
  {
   "cell_type": "code",
   "execution_count": 21,
   "metadata": {},
   "outputs": [
    {
     "name": "stdout",
     "output_type": "stream",
     "text": [
      ">Train: 0=60608, 1=896, Test: 0=6735, 1=99\n",
      ">Train: 0=60608, 1=896, Test: 0=6735, 1=99\n",
      ">Train: 0=60608, 1=896, Test: 0=6735, 1=99\n",
      ">Train: 0=60609, 1=895, Test: 0=6734, 1=100\n",
      ">Train: 0=60609, 1=895, Test: 0=6734, 1=100\n",
      ">Train: 0=60609, 1=895, Test: 0=6734, 1=100\n",
      ">Train: 0=60609, 1=895, Test: 0=6734, 1=100\n",
      ">Train: 0=60609, 1=895, Test: 0=6734, 1=100\n",
      ">Train: 0=60609, 1=896, Test: 0=6734, 1=99\n",
      ">Train: 0=60609, 1=896, Test: 0=6734, 1=99\n"
     ]
    },
    {
     "data": {
      "text/plain": [
       "{'Mean Training Accuracy': 0.9907648643088924,\n",
       " 'Mean Training Precision': 0.7194292807954833,\n",
       " 'Mean Training Recall': 0.5792340881883479,\n",
       " 'Mean Training F1 Score': 0.6349713123839561,\n",
       " 'Mean Validation Accuracy': 0.9907371570963803,\n",
       " 'Mean Validation Precision': 0.7116201474246656,\n",
       " 'Mean Validation Recall': 0.579919191919192,\n",
       " 'Mean Validation F1 Score': 0.6311803349435197}"
      ]
     },
     "execution_count": 21,
     "metadata": {},
     "output_type": "execute_result"
    }
   ],
   "source": [
    "stratifiedCV(LinearSVC(random_state=0, tol=1e-5, dual=False, max_iter=10000), pd.DataFrame(X_r2l), y_r2l, 10, 3)"
   ]
  },
  {
   "cell_type": "markdown",
   "metadata": {},
   "source": [
    "#### Stratified cross validation on r2l Standard Scaler"
   ]
  },
  {
   "cell_type": "code",
   "execution_count": 22,
   "metadata": {},
   "outputs": [
    {
     "name": "stdout",
     "output_type": "stream",
     "text": [
      ">Train: 0=60608, 1=896, Test: 0=6735, 1=99\n",
      ">Train: 0=60608, 1=896, Test: 0=6735, 1=99\n",
      ">Train: 0=60608, 1=896, Test: 0=6735, 1=99\n",
      ">Train: 0=60609, 1=895, Test: 0=6734, 1=100\n",
      ">Train: 0=60609, 1=895, Test: 0=6734, 1=100\n",
      ">Train: 0=60609, 1=895, Test: 0=6734, 1=100\n",
      ">Train: 0=60609, 1=895, Test: 0=6734, 1=100\n",
      ">Train: 0=60609, 1=895, Test: 0=6734, 1=100\n",
      ">Train: 0=60609, 1=896, Test: 0=6734, 1=99\n",
      ">Train: 0=60609, 1=896, Test: 0=6734, 1=99\n"
     ]
    },
    {
     "data": {
      "text/plain": [
       "{'Mean Training Accuracy': 0.9921793960105016,\n",
       " 'Mean Training Precision': 0.7591375651616621,\n",
       " 'Mean Training Recall': 0.677943934557063,\n",
       " 'Mean Training F1 Score': 0.7161837839708556,\n",
       " 'Mean Validation Accuracy': 0.9920541724534754,\n",
       " 'Mean Validation Precision': 0.7512995193203186,\n",
       " 'Mean Validation Recall': 0.6794545454545454,\n",
       " 'Mean Validation F1 Score': 0.7131592071603248}"
      ]
     },
     "execution_count": 22,
     "metadata": {},
     "output_type": "execute_result"
    }
   ],
   "source": [
    "stratifiedCV(LinearSVC(random_state=0, tol=1e-5, dual=False, max_iter=10000), pd.DataFrame(X_r2l_ss), y_r2l, 10, 3)"
   ]
  },
  {
   "cell_type": "markdown",
   "metadata": {},
   "source": [
    "#### Predict on r2l"
   ]
  },
  {
   "cell_type": "code",
   "execution_count": 23,
   "metadata": {},
   "outputs": [
    {
     "data": {
      "image/png": "[encoded data removed]",
      "text/plain": [
       "<Figure size 432x288 with 2 Axes>"
      ]
     },
     "metadata": {
      "needs_background": "light"
     },
     "output_type": "display_data"
    },
    {
     "name": "stdout",
     "output_type": "stream",
     "text": [
      "Accuracy: 0.77072 \n",
      "Precision: 0.43478 \n",
      "Recall: 0.00347 \n",
      "F-measure: 0.00688 \n"
     ]
    }
   ],
   "source": [
    "y_r2l_prediction = SVM(X_r2l, y_r2l).predict(X_r2l_test)\n",
    "plotConfusionMatrix(y_r2l_prediction, y_r2l_test, 3)"
   ]
  },
  {
   "cell_type": "code",
   "execution_count": 24,
   "metadata": {
    "colab": {
     "base_uri": "https://localhost:8080/",
     "height": 419
    },
    "executionInfo": {
     "elapsed": 3386,
     "status": "ok",
     "timestamp": 1675467178041,
     "user": {
      "displayName": "DANIELE PALMIERI",
      "userId": "13749636301499067245"
     },
     "user_tz": -60
    },
    "id": "KLBJwuXKkuCS",
    "outputId": "c3a687db-515e-464c-ec9e-aa8e5da61089"
   },
   "outputs": [
    {
     "data": {
      "image/png": "[encoded data removed]",
      "text/plain": [
       "<Figure size 432x288 with 2 Axes>"
      ]
     },
     "metadata": {
      "needs_background": "light"
     },
     "output_type": "display_data"
    },
    {
     "name": "stdout",
     "output_type": "stream",
     "text": [
      "Accuracy: 0.77072 \n",
      "Precision: 0.36364 \n",
      "Recall: 0.00139 \n",
      "F-measure: 0.00276 \n"
     ]
    }
   ],
   "source": [
    "y_r2l_prediction = SVM(X_r2l_ss, y_r2l).predict(X_r2l_test_ss)\n",
    "plotConfusionMatrix(y_r2l_prediction, y_r2l_test, 3)"
   ]
  },
  {
   "cell_type": "markdown",
   "metadata": {},
   "source": [
    "#### K-fold cross validation on u2r"
   ]
  },
  {
   "cell_type": "code",
   "execution_count": 25,
   "metadata": {},
   "outputs": [
    {
     "name": "stderr",
     "output_type": "stream",
     "text": [
      "C:\\Users\\Daniele\\anaconda3\\lib\\site-packages\\sklearn\\svm\\_base.py:1244: ConvergenceWarning: Liblinear failed to converge, increase the number of iterations.\n",
      "  warnings.warn(\n",
      "C:\\Users\\Daniele\\anaconda3\\lib\\site-packages\\sklearn\\metrics\\_classification.py:1344: UndefinedMetricWarning: Precision is ill-defined and being set to 0.0 due to no predicted samples. Use `zero_division` parameter to control this behavior.\n",
      "  _warn_prf(average, modifier, msg_start, len(result))\n"
     ]
    },
    {
     "name": "stdout",
     "output_type": "stream",
     "text": [
      ">Train: 0=60608, 1=47, Test: 0=6735, 1=5\n",
      ">Train: 0=60609, 1=46, Test: 0=6734, 1=6\n",
      ">Train: 0=60609, 1=46, Test: 0=6734, 1=6\n",
      ">Train: 0=60609, 1=46, Test: 0=6734, 1=6\n",
      ">Train: 0=60607, 1=48, Test: 0=6736, 1=4\n",
      ">Train: 0=60612, 1=44, Test: 0=6731, 1=8\n",
      ">Train: 0=60609, 1=47, Test: 0=6734, 1=5\n",
      ">Train: 0=60607, 1=49, Test: 0=6736, 1=3\n",
      ">Train: 0=60609, 1=47, Test: 0=6734, 1=5\n",
      ">Train: 0=60608, 1=48, Test: 0=6735, 1=4\n"
     ]
    },
    {
     "data": {
      "text/plain": [
       "{'Mean Training Accuracy': 0.9994757273217652,\n",
       " 'Mean Training Precision': 0.7123690021201144,\n",
       " 'Mean Training Recall': 0.43805553863122915,\n",
       " 'Mean Training F1 Score': 0.5418388169740567,\n",
       " 'Mean Validation Accuracy': 0.9994658313382881,\n",
       " 'Mean Validation Precision': 0.66,\n",
       " 'Mean Validation Recall': 0.43083333333333335,\n",
       " 'Mean Validation F1 Score': 0.5111688311688312}"
      ]
     },
     "execution_count": 25,
     "metadata": {},
     "output_type": "execute_result"
    }
   ],
   "source": [
    "KfoldCV(LinearSVC(random_state=0, tol=1e-5, dual=False, max_iter=10000), pd.DataFrame(X_u2r), y_u2r, 10, 4)"
   ]
  },
  {
   "cell_type": "markdown",
   "metadata": {},
   "source": [
    "#### K-fold cross validation on u2r Standard Scaler"
   ]
  },
  {
   "cell_type": "code",
   "execution_count": 26,
   "metadata": {},
   "outputs": [
    {
     "name": "stdout",
     "output_type": "stream",
     "text": [
      ">Train: 0=60608, 1=47, Test: 0=6735, 1=5\n",
      ">Train: 0=60609, 1=46, Test: 0=6734, 1=6\n",
      ">Train: 0=60609, 1=46, Test: 0=6734, 1=6\n",
      ">Train: 0=60609, 1=46, Test: 0=6734, 1=6\n",
      ">Train: 0=60607, 1=48, Test: 0=6736, 1=4\n",
      ">Train: 0=60612, 1=44, Test: 0=6731, 1=8\n",
      ">Train: 0=60609, 1=47, Test: 0=6734, 1=5\n",
      ">Train: 0=60607, 1=49, Test: 0=6736, 1=3\n",
      ">Train: 0=60609, 1=47, Test: 0=6734, 1=5\n",
      ">Train: 0=60608, 1=48, Test: 0=6735, 1=4\n"
     ]
    },
    {
     "data": {
      "text/plain": [
       "{'Mean Training Accuracy': 0.9996191606560675,\n",
       " 'Mean Training Precision': 0.902106542882405,\n",
       " 'Mean Training Recall': 0.5683547109029466,\n",
       " 'Mean Training F1 Score': 0.69716463771627,\n",
       " 'Mean Validation Accuracy': 0.9995251829225602,\n",
       " 'Mean Validation Precision': 0.8166666666666668,\n",
       " 'Mean Validation Recall': 0.5316666666666667,\n",
       " 'Mean Validation F1 Score': 0.6264285714285714}"
      ]
     },
     "execution_count": 26,
     "metadata": {},
     "output_type": "execute_result"
    }
   ],
   "source": [
    "KfoldCV(LinearSVC(random_state=0, tol=1e-5, dual=False, max_iter=10000), pd.DataFrame(X_u2r_ss), y_u2r, 10, 4)"
   ]
  },
  {
   "cell_type": "markdown",
   "metadata": {},
   "source": [
    "#### Stratified cross validation on u2r"
   ]
  },
  {
   "cell_type": "code",
   "execution_count": 27,
   "metadata": {},
   "outputs": [
    {
     "name": "stderr",
     "output_type": "stream",
     "text": [
      "C:\\Users\\Daniele\\anaconda3\\lib\\site-packages\\sklearn\\svm\\_base.py:1244: ConvergenceWarning: Liblinear failed to converge, increase the number of iterations.\n",
      "  warnings.warn(\n",
      "C:\\Users\\Daniele\\anaconda3\\lib\\site-packages\\sklearn\\metrics\\_classification.py:1344: UndefinedMetricWarning: Precision is ill-defined and being set to 0.0 due to no predicted samples. Use `zero_division` parameter to control this behavior.\n",
      "  _warn_prf(average, modifier, msg_start, len(result))\n"
     ]
    },
    {
     "name": "stdout",
     "output_type": "stream",
     "text": [
      ">Train: 0=60608, 1=47, Test: 0=6735, 1=5\n",
      ">Train: 0=60608, 1=47, Test: 0=6735, 1=5\n",
      ">Train: 0=60608, 1=47, Test: 0=6735, 1=5\n"
     ]
    },
    {
     "name": "stderr",
     "output_type": "stream",
     "text": [
      "C:\\Users\\Daniele\\anaconda3\\lib\\site-packages\\sklearn\\metrics\\_classification.py:1344: UndefinedMetricWarning: Precision is ill-defined and being set to 0.0 due to no predicted samples. Use `zero_division` parameter to control this behavior.\n",
      "  _warn_prf(average, modifier, msg_start, len(result))\n"
     ]
    },
    {
     "name": "stdout",
     "output_type": "stream",
     "text": [
      ">Train: 0=60609, 1=46, Test: 0=6734, 1=6\n",
      ">Train: 0=60609, 1=46, Test: 0=6734, 1=6\n"
     ]
    },
    {
     "name": "stderr",
     "output_type": "stream",
     "text": [
      "C:\\Users\\Daniele\\anaconda3\\lib\\site-packages\\sklearn\\svm\\_base.py:1244: ConvergenceWarning: Liblinear failed to converge, increase the number of iterations.\n",
      "  warnings.warn(\n",
      "C:\\Users\\Daniele\\anaconda3\\lib\\site-packages\\sklearn\\metrics\\_classification.py:1344: UndefinedMetricWarning: Precision is ill-defined and being set to 0.0 due to no predicted samples. Use `zero_division` parameter to control this behavior.\n",
      "  _warn_prf(average, modifier, msg_start, len(result))\n",
      "C:\\Users\\Daniele\\anaconda3\\lib\\site-packages\\sklearn\\metrics\\_classification.py:1344: UndefinedMetricWarning: Precision is ill-defined and being set to 0.0 due to no predicted samples. Use `zero_division` parameter to control this behavior.\n",
      "  _warn_prf(average, modifier, msg_start, len(result))\n"
     ]
    },
    {
     "name": "stdout",
     "output_type": "stream",
     "text": [
      ">Train: 0=60609, 1=47, Test: 0=6734, 1=5\n",
      ">Train: 0=60609, 1=47, Test: 0=6734, 1=5\n",
      ">Train: 0=60609, 1=47, Test: 0=6734, 1=5\n",
      ">Train: 0=60609, 1=47, Test: 0=6734, 1=5\n",
      ">Train: 0=60609, 1=47, Test: 0=6734, 1=5\n"
     ]
    },
    {
     "data": {
      "text/plain": [
       "{'Mean Training Accuracy': 0.999454295063555,\n",
       " 'Mean Training Precision': 0.6364768945212493,\n",
       " 'Mean Training Recall': 0.3978260869565217,\n",
       " 'Mean Training F1 Score': 0.4887054156927575,\n",
       " 'Mean Validation Accuracy': 0.9994064775523845,\n",
       " 'Mean Validation Precision': 0.4883333333333334,\n",
       " 'Mean Validation Recall': 0.3433333333333333,\n",
       " 'Mean Validation F1 Score': 0.39471861471861475}"
      ]
     },
     "execution_count": 27,
     "metadata": {},
     "output_type": "execute_result"
    }
   ],
   "source": [
    "stratifiedCV(LinearSVC(random_state=0, tol=1e-5, dual=False, max_iter=10000), pd.DataFrame(X_u2r), y_u2r, 10, 4)"
   ]
  },
  {
   "cell_type": "markdown",
   "metadata": {},
   "source": [
    "#### Stratified cross validation on u2r Standard Scaler"
   ]
  },
  {
   "cell_type": "code",
   "execution_count": 28,
   "metadata": {},
   "outputs": [
    {
     "name": "stdout",
     "output_type": "stream",
     "text": [
      ">Train: 0=60608, 1=47, Test: 0=6735, 1=5\n",
      ">Train: 0=60608, 1=47, Test: 0=6735, 1=5\n",
      ">Train: 0=60608, 1=47, Test: 0=6735, 1=5\n"
     ]
    },
    {
     "name": "stderr",
     "output_type": "stream",
     "text": [
      "C:\\Users\\Daniele\\anaconda3\\lib\\site-packages\\sklearn\\metrics\\_classification.py:1344: UndefinedMetricWarning: Precision is ill-defined and being set to 0.0 due to no predicted samples. Use `zero_division` parameter to control this behavior.\n",
      "  _warn_prf(average, modifier, msg_start, len(result))\n"
     ]
    },
    {
     "name": "stdout",
     "output_type": "stream",
     "text": [
      ">Train: 0=60609, 1=46, Test: 0=6734, 1=6\n",
      ">Train: 0=60609, 1=46, Test: 0=6734, 1=6\n",
      ">Train: 0=60609, 1=47, Test: 0=6734, 1=5\n",
      ">Train: 0=60609, 1=47, Test: 0=6734, 1=5\n",
      ">Train: 0=60609, 1=47, Test: 0=6734, 1=5\n",
      ">Train: 0=60609, 1=47, Test: 0=6734, 1=5\n",
      ">Train: 0=60609, 1=47, Test: 0=6734, 1=5\n"
     ]
    },
    {
     "data": {
      "text/plain": [
       "{'Mean Training Accuracy': 0.9996191606288868,\n",
       " 'Mean Training Precision': 0.9044935583923348,\n",
       " 'Mean Training Recall': 0.5662349676225716,\n",
       " 'Mean Training F1 Score': 0.6960380996790513,\n",
       " 'Mean Validation Accuracy': 0.999510346127308,\n",
       " 'Mean Validation Precision': 0.7016666666666668,\n",
       " 'Mean Validation Recall': 0.5233333333333333,\n",
       " 'Mean Validation F1 Score': 0.5893650793650792}"
      ]
     },
     "execution_count": 28,
     "metadata": {},
     "output_type": "execute_result"
    }
   ],
   "source": [
    "stratifiedCV(LinearSVC(random_state=0, tol=1e-5, dual=False, max_iter=10000), pd.DataFrame(X_u2r_ss), y_u2r, 10, 4)"
   ]
  },
  {
   "cell_type": "markdown",
   "metadata": {},
   "source": [
    "#### Predict on u2r"
   ]
  },
  {
   "cell_type": "code",
   "execution_count": 29,
   "metadata": {},
   "outputs": [
    {
     "data": {
      "image/png": "[encoded data removed]",
      "text/plain": [
       "<Figure size 432x288 with 2 Axes>"
      ]
     },
     "metadata": {
      "needs_background": "light"
     },
     "output_type": "display_data"
    },
    {
     "name": "stdout",
     "output_type": "stream",
     "text": [
      "Accuracy: 0.99448 \n",
      "Precision: 0.78261 \n",
      "Recall: 0.26866 \n",
      "F-measure: 0.40000 \n"
     ]
    }
   ],
   "source": [
    "y_u2r_prediction = SVM(X_u2r, y_u2r).predict(X_u2r_test)\n",
    "plotConfusionMatrix(y_u2r_prediction, y_u2r_test, 4)"
   ]
  },
  {
   "cell_type": "code",
   "execution_count": 30,
   "metadata": {
    "colab": {
     "base_uri": "https://localhost:8080/",
     "height": 364
    },
    "executionInfo": {
     "elapsed": 2602,
     "status": "ok",
     "timestamp": 1675467181725,
     "user": {
      "displayName": "DANIELE PALMIERI",
      "userId": "13749636301499067245"
     },
     "user_tz": -60
    },
    "id": "fBPk_5Rzk4tF",
    "outputId": "593a987a-9117-46af-b74d-090b5ef20e5a",
    "scrolled": true
   },
   "outputs": [
    {
     "data": {
      "image/png": "[encoded data removed]",
      "text/plain": [
       "<Figure size 432x288 with 2 Axes>"
      ]
     },
     "metadata": {
      "needs_background": "light"
     },
     "output_type": "display_data"
    },
    {
     "name": "stdout",
     "output_type": "stream",
     "text": [
      "Accuracy: 0.99438 \n",
      "Precision: 0.77273 \n",
      "Recall: 0.25373 \n",
      "F-measure: 0.38202 \n"
     ]
    }
   ],
   "source": [
    "y_u2r_prediction = SVM(X_u2r_ss, y_u2r).predict(X_u2r_test_ss)\n",
    "plotConfusionMatrix(y_u2r_prediction, y_u2r_test, 4)"
   ]
  },
  {
   "cell_type": "markdown",
   "metadata": {
    "id": "C2zvGxJ7lNn5"
   },
   "source": [
    "## Feature Selection"
   ]
  },
  {
   "cell_type": "code",
   "execution_count": 31,
   "metadata": {},
   "outputs": [],
   "source": [
    "\n",
    "X_dos_rfe, rfecolname_dos = recursiveFeatureExtraction(LinearSVC(random_state=0, tol=1e-5, dual=False, max_iter=10000), X_dos, y_dos, 13)\n",
    "X_probe_rfe, rfecolname_probe = recursiveFeatureExtraction(LinearSVC(random_state=0, tol=1e-5, dual=False, max_iter=10000), X_probe, y_probe, 13)\n",
    "X_r2l_rfe, rfecolname_r2l = recursiveFeatureExtraction(LinearSVC(random_state=0, tol=1e-5, dual=False, max_iter=10000), X_r2l, y_r2l, 13)\n",
    "X_u2r_rfe, rfecolname_u2r = recursiveFeatureExtraction(LinearSVC(random_state=0, tol=1e-5, dual=False, max_iter=10000), X_u2r, y_u2r, 13)\n",
    "\n",
    "X_dos_test_rfe=X_dos_test.values[:,rfecolname_dos]\n",
    "X_probe_test_rfe=X_probe_test.values[:,rfecolname_probe]\n",
    "X_r2l_test_rfe=X_r2l_test.values[:,rfecolname_r2l]\n",
    "X_u2r_test_rfe=X_u2r_test.values[:,rfecolname_u2r]"
   ]
  },
  {
   "cell_type": "code",
   "execution_count": 32,
   "metadata": {
    "id": "laARHIiBlSgF"
   },
   "outputs": [],
   "source": [
    "X_dos_rfe_ss, rfecolname_dosSS = recursiveFeatureExtraction(LinearSVC(random_state=0, tol=1e-5, dual=False, max_iter=10000), X_dos_ss, y_dos, 13)\n",
    "X_probe_rfe_ss, rfecolname_probeSS = recursiveFeatureExtraction(LinearSVC(random_state=0, tol=1e-5, dual=False, max_iter=10000), X_probe_ss, y_probe, 13)\n",
    "X_r2l_rfe_ss, rfecolname_r2lSS = recursiveFeatureExtraction(LinearSVC(random_state=0, tol=1e-5, dual=False, max_iter=10000), X_r2l_ss, y_r2l, 13)\n",
    "X_u2r_rfe_ss, rfecolname_u2rSS = recursiveFeatureExtraction(LinearSVC(random_state=0, tol=1e-5, dual=False, max_iter=10000), X_u2r_ss, y_u2r, 13)\n",
    "\n",
    "X_dos_test_rfe_ss=X_dos_test_ss[:,rfecolname_dosSS]\n",
    "X_probe_test_rfe_ss=X_probe_test_ss[:,rfecolname_probeSS]\n",
    "X_r2l_test_rfe_ss=X_r2l_test_ss[:,rfecolname_r2lSS]\n",
    "X_u2r_test_rfe_ss=X_u2r_test_ss[:,rfecolname_u2rSS]"
   ]
  },
  {
   "cell_type": "markdown",
   "metadata": {},
   "source": [
    "#### K-fold cross validation on dos"
   ]
  },
  {
   "cell_type": "code",
   "execution_count": 33,
   "metadata": {},
   "outputs": [
    {
     "name": "stdout",
     "output_type": "stream",
     "text": [
      ">Train: 0=60666, 1=41277, Test: 0=6677, 1=4650\n",
      ">Train: 0=60586, 1=41357, Test: 0=6757, 1=4570\n",
      ">Train: 0=60612, 1=41331, Test: 0=6731, 1=4596\n",
      ">Train: 0=60720, 1=41223, Test: 0=6623, 1=4704\n",
      ">Train: 0=60634, 1=41309, Test: 0=6709, 1=4618\n",
      ">Train: 0=60525, 1=41418, Test: 0=6818, 1=4509\n",
      ">Train: 0=60548, 1=41395, Test: 0=6795, 1=4532\n",
      ">Train: 0=60557, 1=41386, Test: 0=6786, 1=4541\n",
      ">Train: 0=60662, 1=41281, Test: 0=6681, 1=4646\n",
      ">Train: 0=60577, 1=41366, Test: 0=6766, 1=4561\n"
     ]
    },
    {
     "data": {
      "text/plain": [
       "{'Mean Training Accuracy': 0.9605073423383654,\n",
       " 'Mean Training Precision': 0.9849022707282394,\n",
       " 'Mean Training Recall': 0.9166504643397942,\n",
       " 'Mean Training F1 Score': 0.9495514395891741,\n",
       " 'Mean Validation Accuracy': 0.9605191136223183,\n",
       " 'Mean Validation Precision': 0.9848495490570265,\n",
       " 'Mean Validation Recall': 0.9167252872076844,\n",
       " 'Mean Validation F1 Score': 0.9495598869852806}"
      ]
     },
     "execution_count": 33,
     "metadata": {},
     "output_type": "execute_result"
    }
   ],
   "source": [
    "KfoldCV(LinearSVC(random_state=0, tol=1e-5, dual=False, max_iter=10000), pd.DataFrame(X_dos_rfe), y_dos, 10, 1)"
   ]
  },
  {
   "cell_type": "markdown",
   "metadata": {},
   "source": [
    "#### K-fold cross validation on dos Standard Scaler"
   ]
  },
  {
   "cell_type": "code",
   "execution_count": 34,
   "metadata": {},
   "outputs": [
    {
     "name": "stdout",
     "output_type": "stream",
     "text": [
      ">Train: 0=60666, 1=41277, Test: 0=6677, 1=4650\n",
      ">Train: 0=60586, 1=41357, Test: 0=6757, 1=4570\n",
      ">Train: 0=60612, 1=41331, Test: 0=6731, 1=4596\n",
      ">Train: 0=60720, 1=41223, Test: 0=6623, 1=4704\n",
      ">Train: 0=60634, 1=41309, Test: 0=6709, 1=4618\n",
      ">Train: 0=60525, 1=41418, Test: 0=6818, 1=4509\n",
      ">Train: 0=60548, 1=41395, Test: 0=6795, 1=4532\n",
      ">Train: 0=60557, 1=41386, Test: 0=6786, 1=4541\n",
      ">Train: 0=60662, 1=41281, Test: 0=6681, 1=4646\n",
      ">Train: 0=60577, 1=41366, Test: 0=6766, 1=4561\n"
     ]
    },
    {
     "data": {
      "text/plain": [
       "{'Mean Training Accuracy': 0.98576557488008,\n",
       " 'Mean Training Precision': 0.988336279955614,\n",
       " 'Mean Training Recall': 0.9764165534933363,\n",
       " 'Mean Training F1 Score': 0.9823402468310043,\n",
       " 'Mean Validation Accuracy': 0.9857243753862454,\n",
       " 'Mean Validation Precision': 0.988266807381699,\n",
       " 'Mean Validation Recall': 0.97638674862584,\n",
       " 'Mean Validation F1 Score': 0.9822880920917403}"
      ]
     },
     "execution_count": 34,
     "metadata": {},
     "output_type": "execute_result"
    }
   ],
   "source": [
    "KfoldCV(LinearSVC(random_state=0, tol=1e-5, dual=False, max_iter=10000), pd.DataFrame(X_dos_rfe_ss), y_dos, 10, 1)"
   ]
  },
  {
   "cell_type": "markdown",
   "metadata": {},
   "source": [
    "#### Stratified cross validation on dos"
   ]
  },
  {
   "cell_type": "code",
   "execution_count": 35,
   "metadata": {},
   "outputs": [
    {
     "name": "stdout",
     "output_type": "stream",
     "text": [
      ">Train: 0=60608, 1=41335, Test: 0=6735, 1=4592\n",
      ">Train: 0=60608, 1=41335, Test: 0=6735, 1=4592\n",
      ">Train: 0=60608, 1=41335, Test: 0=6735, 1=4592\n",
      ">Train: 0=60609, 1=41334, Test: 0=6734, 1=4593\n",
      ">Train: 0=60609, 1=41334, Test: 0=6734, 1=4593\n",
      ">Train: 0=60609, 1=41334, Test: 0=6734, 1=4593\n",
      ">Train: 0=60609, 1=41334, Test: 0=6734, 1=4593\n",
      ">Train: 0=60609, 1=41334, Test: 0=6734, 1=4593\n",
      ">Train: 0=60609, 1=41334, Test: 0=6734, 1=4593\n",
      ">Train: 0=60609, 1=41334, Test: 0=6734, 1=4593\n"
     ]
    },
    {
     "data": {
      "text/plain": [
       "{'Mean Training Accuracy': 0.9605112660996833,\n",
       " 'Mean Training Precision': 0.9849026302422187,\n",
       " 'Mean Training Recall': 0.9166600139725073,\n",
       " 'Mean Training F1 Score': 0.9495567480781775,\n",
       " 'Mean Validation Accuracy': 0.9605102851593538,\n",
       " 'Mean Validation Precision': 0.984867167606097,\n",
       " 'Mean Validation Recall': 0.9166939246664558,\n",
       " 'Mean Validation F1 Score': 0.9495532927530659}"
      ]
     },
     "execution_count": 35,
     "metadata": {},
     "output_type": "execute_result"
    }
   ],
   "source": [
    "stratifiedCV(LinearSVC(random_state=0, tol=1e-5, dual=False, max_iter=10000), pd.DataFrame(X_dos_rfe), y_dos, 10, 1)"
   ]
  },
  {
   "cell_type": "markdown",
   "metadata": {},
   "source": [
    "#### Stratified cross validation on dos Standard Scaler"
   ]
  },
  {
   "cell_type": "code",
   "execution_count": 36,
   "metadata": {},
   "outputs": [
    {
     "name": "stdout",
     "output_type": "stream",
     "text": [
      ">Train: 0=60608, 1=41335, Test: 0=6735, 1=4592\n",
      ">Train: 0=60608, 1=41335, Test: 0=6735, 1=4592\n",
      ">Train: 0=60608, 1=41335, Test: 0=6735, 1=4592\n",
      ">Train: 0=60609, 1=41334, Test: 0=6734, 1=4593\n",
      ">Train: 0=60609, 1=41334, Test: 0=6734, 1=4593\n",
      ">Train: 0=60609, 1=41334, Test: 0=6734, 1=4593\n",
      ">Train: 0=60609, 1=41334, Test: 0=6734, 1=4593\n",
      ">Train: 0=60609, 1=41334, Test: 0=6734, 1=4593\n",
      ">Train: 0=60609, 1=41334, Test: 0=6734, 1=4593\n",
      ">Train: 0=60609, 1=41334, Test: 0=6734, 1=4593\n"
     ]
    },
    {
     "data": {
      "text/plain": [
       "{'Mean Training Accuracy': 0.9857655748800802,\n",
       " 'Mean Training Precision': 0.9883362358679137,\n",
       " 'Mean Training Recall': 0.9764166812536749,\n",
       " 'Mean Training F1 Score': 0.9823402882134701,\n",
       " 'Mean Validation Accuracy': 0.9857332038492099,\n",
       " 'Mean Validation Precision': 0.9882587589836914,\n",
       " 'Mean Validation Recall': 0.9764191276150423,\n",
       " 'Mean Validation F1 Score': 0.9823003743831243}"
      ]
     },
     "execution_count": 36,
     "metadata": {},
     "output_type": "execute_result"
    }
   ],
   "source": [
    "stratifiedCV(LinearSVC(random_state=0, tol=1e-5, dual=False, max_iter=10000), pd.DataFrame(X_dos_rfe_ss), y_dos, 10, 1)"
   ]
  },
  {
   "cell_type": "markdown",
   "metadata": {},
   "source": [
    "#### Predict on dos"
   ]
  },
  {
   "cell_type": "code",
   "execution_count": 37,
   "metadata": {},
   "outputs": [
    {
     "data": {
      "image/png": "[encoded data removed]",
      "text/plain": [
       "<Figure size 432x288 with 2 Axes>"
      ]
     },
     "metadata": {
      "needs_background": "light"
     },
     "output_type": "display_data"
    },
    {
     "name": "stdout",
     "output_type": "stream",
     "text": [
      "Accuracy: 0.85796 \n",
      "Precision: 0.98270 \n",
      "Recall: 0.68512 \n",
      "F-measure: 0.80736 \n"
     ]
    }
   ],
   "source": [
    "y_dos_rfe_prediction = SVM(X_dos_rfe, y_dos).predict(X_dos_test_rfe)\n",
    "plotConfusionMatrix(y_dos_rfe_prediction, y_dos_test, 1)"
   ]
  },
  {
   "cell_type": "code",
   "execution_count": 38,
   "metadata": {
    "colab": {
     "base_uri": "https://localhost:8080/",
     "height": 364
    },
    "executionInfo": {
     "elapsed": 4170,
     "status": "ok",
     "timestamp": 1675471231881,
     "user": {
      "displayName": "DANIELE PALMIERI",
      "userId": "13749636301499067245"
     },
     "user_tz": -60
    },
    "id": "P129vp2Tozxi",
    "outputId": "cceeaf9d-b60d-4eb4-b12f-d1d172b15b39"
   },
   "outputs": [
    {
     "data": {
      "image/png": "[encoded data removed]",
      "text/plain": [
       "<Figure size 432x288 with 2 Axes>"
      ]
     },
     "metadata": {
      "needs_background": "light"
     },
     "output_type": "display_data"
    },
    {
     "name": "stdout",
     "output_type": "stream",
     "text": [
      "Accuracy: 0.87176 \n",
      "Precision: 0.88685 \n",
      "Recall: 0.80791 \n",
      "F-measure: 0.84554 \n"
     ]
    }
   ],
   "source": [
    "y_dos_rfe_prediction = SVM(X_dos_rfe_ss, y_dos).predict(X_dos_test_rfe_ss)\n",
    "plotConfusionMatrix(y_dos_rfe_prediction, y_dos_test, 1)"
   ]
  },
  {
   "cell_type": "markdown",
   "metadata": {},
   "source": [
    "#### K-fold cross validation on probe"
   ]
  },
  {
   "cell_type": "code",
   "execution_count": 39,
   "metadata": {},
   "outputs": [
    {
     "name": "stdout",
     "output_type": "stream",
     "text": [
      ">Train: 0=60593, 1=10506, Test: 0=6750, 1=1150\n",
      ">Train: 0=60590, 1=10509, Test: 0=6753, 1=1147\n",
      ">Train: 0=60636, 1=10463, Test: 0=6707, 1=1193\n",
      ">Train: 0=60669, 1=10430, Test: 0=6674, 1=1226\n",
      ">Train: 0=60629, 1=10470, Test: 0=6714, 1=1186\n",
      ">Train: 0=60576, 1=10523, Test: 0=6767, 1=1133\n",
      ">Train: 0=60547, 1=10552, Test: 0=6796, 1=1104\n",
      ">Train: 0=60628, 1=10471, Test: 0=6715, 1=1185\n",
      ">Train: 0=60592, 1=10507, Test: 0=6751, 1=1149\n",
      ">Train: 0=60627, 1=10473, Test: 0=6716, 1=1183\n"
     ]
    },
    {
     "data": {
      "text/plain": [
       "{'Mean Training Accuracy': 0.9514916499722688,\n",
       " 'Mean Training Precision': 0.8323142244836248,\n",
       " 'Mean Training Recall': 0.8405859125043419,\n",
       " 'Mean Training F1 Score': 0.8364290417113838,\n",
       " 'Mean Validation Accuracy': 0.9513791266640066,\n",
       " 'Mean Validation Precision': 0.831349228891292,\n",
       " 'Mean Validation Recall': 0.8408680592526687,\n",
       " 'Mean Validation F1 Score': 0.8360629900732196}"
      ]
     },
     "execution_count": 39,
     "metadata": {},
     "output_type": "execute_result"
    }
   ],
   "source": [
    "KfoldCV(LinearSVC(random_state=0, tol=1e-5, dual=False, max_iter=10000), pd.DataFrame(X_probe_rfe), y_probe, 10, 2)"
   ]
  },
  {
   "cell_type": "markdown",
   "metadata": {},
   "source": [
    "#### K-fold cross validation on probe Standard Scaler"
   ]
  },
  {
   "cell_type": "code",
   "execution_count": 40,
   "metadata": {},
   "outputs": [
    {
     "name": "stdout",
     "output_type": "stream",
     "text": [
      ">Train: 0=60593, 1=10506, Test: 0=6750, 1=1150\n",
      ">Train: 0=60590, 1=10509, Test: 0=6753, 1=1147\n",
      ">Train: 0=60636, 1=10463, Test: 0=6707, 1=1193\n",
      ">Train: 0=60669, 1=10430, Test: 0=6674, 1=1226\n",
      ">Train: 0=60629, 1=10470, Test: 0=6714, 1=1186\n",
      ">Train: 0=60576, 1=10523, Test: 0=6767, 1=1133\n",
      ">Train: 0=60547, 1=10552, Test: 0=6796, 1=1104\n",
      ">Train: 0=60628, 1=10471, Test: 0=6715, 1=1185\n",
      ">Train: 0=60592, 1=10507, Test: 0=6751, 1=1149\n",
      ">Train: 0=60627, 1=10473, Test: 0=6716, 1=1183\n"
     ]
    },
    {
     "data": {
      "text/plain": [
       "{'Mean Training Accuracy': 0.956920692446255,\n",
       " 'Mean Training Precision': 0.8628876569620845,\n",
       " 'Mean Training Recall': 0.8417955268606916,\n",
       " 'Mean Training F1 Score': 0.8522094265008008,\n",
       " 'Mean Validation Accuracy': 0.9569868065337545,\n",
       " 'Mean Validation Precision': 0.8628850970705704,\n",
       " 'Mean Validation Recall': 0.8421849544350272,\n",
       " 'Mean Validation F1 Score': 0.8523577280448471}"
      ]
     },
     "execution_count": 40,
     "metadata": {},
     "output_type": "execute_result"
    }
   ],
   "source": [
    "KfoldCV(LinearSVC(random_state=0, tol=1e-5, dual=False, max_iter=10000), pd.DataFrame(X_probe_rfe_ss), y_probe, 10, 2)"
   ]
  },
  {
   "cell_type": "markdown",
   "metadata": {},
   "source": [
    "#### Stratified cross validation on probe"
   ]
  },
  {
   "cell_type": "code",
   "execution_count": 41,
   "metadata": {},
   "outputs": [
    {
     "name": "stdout",
     "output_type": "stream",
     "text": [
      ">Train: 0=60608, 1=10491, Test: 0=6735, 1=1165\n",
      ">Train: 0=60608, 1=10491, Test: 0=6735, 1=1165\n",
      ">Train: 0=60608, 1=10491, Test: 0=6735, 1=1165\n",
      ">Train: 0=60609, 1=10490, Test: 0=6734, 1=1166\n",
      ">Train: 0=60609, 1=10490, Test: 0=6734, 1=1166\n",
      ">Train: 0=60609, 1=10490, Test: 0=6734, 1=1166\n",
      ">Train: 0=60609, 1=10490, Test: 0=6734, 1=1166\n",
      ">Train: 0=60609, 1=10490, Test: 0=6734, 1=1166\n",
      ">Train: 0=60609, 1=10490, Test: 0=6734, 1=1166\n",
      ">Train: 0=60609, 1=10491, Test: 0=6734, 1=1165\n"
     ]
    },
    {
     "data": {
      "text/plain": [
       "{'Mean Training Accuracy': 0.9513988216822291,\n",
       " 'Mean Training Precision': 0.8317777507014407,\n",
       " 'Mean Training Recall': 0.8406161775234462,\n",
       " 'Mean Training F1 Score': 0.8361728405453734,\n",
       " 'Mean Validation Accuracy': 0.9512778624437319,\n",
       " 'Mean Validation Precision': 0.8308714237852811,\n",
       " 'Mean Validation Recall': 0.841025699541369,\n",
       " 'Mean Validation F1 Score': 0.8359031299918733}"
      ]
     },
     "execution_count": 41,
     "metadata": {},
     "output_type": "execute_result"
    }
   ],
   "source": [
    "stratifiedCV(LinearSVC(random_state=0, tol=1e-5, dual=False, max_iter=10000), pd.DataFrame(X_probe_rfe), y_probe, 10, 2)"
   ]
  },
  {
   "cell_type": "markdown",
   "metadata": {},
   "source": [
    "#### Stratified cross validation on probe Standard Scaler"
   ]
  },
  {
   "cell_type": "code",
   "execution_count": 42,
   "metadata": {},
   "outputs": [
    {
     "name": "stdout",
     "output_type": "stream",
     "text": [
      ">Train: 0=60608, 1=10491, Test: 0=6735, 1=1165\n",
      ">Train: 0=60608, 1=10491, Test: 0=6735, 1=1165\n",
      ">Train: 0=60608, 1=10491, Test: 0=6735, 1=1165\n",
      ">Train: 0=60609, 1=10490, Test: 0=6734, 1=1166\n",
      ">Train: 0=60609, 1=10490, Test: 0=6734, 1=1166\n",
      ">Train: 0=60609, 1=10490, Test: 0=6734, 1=1166\n",
      ">Train: 0=60609, 1=10490, Test: 0=6734, 1=1166\n",
      ">Train: 0=60609, 1=10490, Test: 0=6734, 1=1166\n",
      ">Train: 0=60609, 1=10490, Test: 0=6734, 1=1166\n",
      ">Train: 0=60609, 1=10491, Test: 0=6734, 1=1165\n"
     ]
    },
    {
     "data": {
      "text/plain": [
       "{'Mean Training Accuracy': 0.9569727325791186,\n",
       " 'Mean Training Precision': 0.8632092164123735,\n",
       " 'Mean Training Recall': 0.8417791517519351,\n",
       " 'Mean Training F1 Score': 0.8523586031554549,\n",
       " 'Mean Validation Accuracy': 0.9570754173337115,\n",
       " 'Mean Validation Precision': 0.8636862032556785,\n",
       " 'Mean Validation Recall': 0.8420563313923101,\n",
       " 'Mean Validation F1 Score': 0.852697513762332}"
      ]
     },
     "execution_count": 42,
     "metadata": {},
     "output_type": "execute_result"
    }
   ],
   "source": [
    "stratifiedCV(LinearSVC(random_state=0, tol=1e-5, dual=False, max_iter=10000), pd.DataFrame(X_probe_rfe_ss), y_probe, 10, 2)"
   ]
  },
  {
   "cell_type": "markdown",
   "metadata": {},
   "source": [
    "#### Predict on probe"
   ]
  },
  {
   "cell_type": "code",
   "execution_count": 43,
   "metadata": {},
   "outputs": [
    {
     "data": {
      "image/png": "[encoded data removed]",
      "text/plain": [
       "<Figure size 432x288 with 2 Axes>"
      ]
     },
     "metadata": {
      "needs_background": "light"
     },
     "output_type": "display_data"
    },
    {
     "name": "stdout",
     "output_type": "stream",
     "text": [
      "Accuracy: 0.94848 \n",
      "Precision: 0.91651 \n",
      "Recall: 0.81619 \n",
      "F-measure: 0.86345 \n"
     ]
    }
   ],
   "source": [
    "y_probe_rfe_prediction = SVM(X_probe_rfe, y_probe).predict(X_probe_test_rfe)\n",
    "plotConfusionMatrix(y_probe_rfe_prediction, y_probe_test, 2)"
   ]
  },
  {
   "cell_type": "code",
   "execution_count": 44,
   "metadata": {
    "colab": {
     "base_uri": "https://localhost:8080/",
     "height": 364
    },
    "executionInfo": {
     "elapsed": 3354,
     "status": "ok",
     "timestamp": 1675471319408,
     "user": {
      "displayName": "DANIELE PALMIERI",
      "userId": "13749636301499067245"
     },
     "user_tz": -60
    },
    "id": "IDuGeKkT3obg",
    "outputId": "1b7effe6-8a53-406c-f0ab-e662f7462118"
   },
   "outputs": [
    {
     "data": {
      "image/png": "[encoded data removed]",
      "text/plain": [
       "<Figure size 432x288 with 2 Axes>"
      ]
     },
     "metadata": {
      "needs_background": "light"
     },
     "output_type": "display_data"
    },
    {
     "name": "stdout",
     "output_type": "stream",
     "text": [
      "Accuracy: 0.93859 \n",
      "Precision: 0.90798 \n",
      "Recall: 0.77034 \n",
      "F-measure: 0.83352 \n"
     ]
    }
   ],
   "source": [
    "y_probe_rfe_prediction = SVM(X_probe_rfe_ss, y_probe).predict(X_probe_test_rfe_ss)\n",
    "plotConfusionMatrix(y_probe_rfe_prediction, y_probe_test, 2)"
   ]
  },
  {
   "cell_type": "markdown",
   "metadata": {},
   "source": [
    "#### K-fold cross validation on r2l"
   ]
  },
  {
   "cell_type": "code",
   "execution_count": 45,
   "metadata": {},
   "outputs": [
    {
     "name": "stdout",
     "output_type": "stream",
     "text": [
      ">Train: 0=60615, 1=889, Test: 0=6728, 1=106\n",
      ">Train: 0=60612, 1=892, Test: 0=6731, 1=103\n",
      ">Train: 0=60628, 1=876, Test: 0=6715, 1=119\n",
      ">Train: 0=60613, 1=891, Test: 0=6730, 1=104\n",
      ">Train: 0=60610, 1=894, Test: 0=6733, 1=101\n",
      ">Train: 0=60591, 1=913, Test: 0=6752, 1=82\n",
      ">Train: 0=60599, 1=905, Test: 0=6744, 1=90\n",
      ">Train: 0=60597, 1=907, Test: 0=6746, 1=88\n",
      ">Train: 0=60614, 1=891, Test: 0=6729, 1=104\n",
      ">Train: 0=60608, 1=897, Test: 0=6735, 1=98\n"
     ]
    },
    {
     "data": {
      "text/plain": [
       "{'Mean Training Accuracy': 0.9846400734553613,\n",
       " 'Mean Training Precision': 0.06511528343895351,\n",
       " 'Mean Training Recall': 0.004016608917959346,\n",
       " 'Mean Training F1 Score': 0.007554387329594264,\n",
       " 'Mean Validation Accuracy': 0.9846498261698112,\n",
       " 'Mean Validation Precision': 0.06027777777777778,\n",
       " 'Mean Validation Recall': 0.0037353698323083274,\n",
       " 'Mean Validation F1 Score': 0.007006906824808019}"
      ]
     },
     "execution_count": 45,
     "metadata": {},
     "output_type": "execute_result"
    }
   ],
   "source": [
    "KfoldCV(LinearSVC(random_state=0, tol=1e-5, dual=False, max_iter=10000), pd.DataFrame(X_r2l_rfe), y_r2l, 10, 3)"
   ]
  },
  {
   "cell_type": "markdown",
   "metadata": {},
   "source": [
    "#### K-fold cross validation on r2l Standard Scaler"
   ]
  },
  {
   "cell_type": "code",
   "execution_count": 46,
   "metadata": {},
   "outputs": [
    {
     "name": "stdout",
     "output_type": "stream",
     "text": [
      ">Train: 0=60615, 1=889, Test: 0=6728, 1=106\n",
      ">Train: 0=60612, 1=892, Test: 0=6731, 1=103\n",
      ">Train: 0=60628, 1=876, Test: 0=6715, 1=119\n",
      ">Train: 0=60613, 1=891, Test: 0=6730, 1=104\n",
      ">Train: 0=60610, 1=894, Test: 0=6733, 1=101\n",
      ">Train: 0=60591, 1=913, Test: 0=6752, 1=82\n",
      ">Train: 0=60599, 1=905, Test: 0=6744, 1=90\n",
      ">Train: 0=60597, 1=907, Test: 0=6746, 1=88\n",
      ">Train: 0=60614, 1=891, Test: 0=6729, 1=104\n",
      ">Train: 0=60608, 1=897, Test: 0=6735, 1=98\n"
     ]
    },
    {
     "data": {
      "text/plain": [
       "{'Mean Training Accuracy': 0.9905388563242111,\n",
       " 'Mean Training Precision': 0.7153917800304612,\n",
       " 'Mean Training Recall': 0.5803426968833951,\n",
       " 'Mean Training F1 Score': 0.640608285933343,\n",
       " 'Mean Validation Accuracy': 0.9905469660161584,\n",
       " 'Mean Validation Precision': 0.7151206193737343,\n",
       " 'Mean Validation Recall': 0.5797979809194529,\n",
       " 'Mean Validation F1 Score': 0.6396015200665254}"
      ]
     },
     "execution_count": 46,
     "metadata": {},
     "output_type": "execute_result"
    }
   ],
   "source": [
    "KfoldCV(LinearSVC(random_state=0, tol=1e-5, dual=False, max_iter=10000), pd.DataFrame(X_r2l_rfe_ss), y_r2l, 10, 3)"
   ]
  },
  {
   "cell_type": "markdown",
   "metadata": {},
   "source": [
    "#### Stratified cross validation on r2l"
   ]
  },
  {
   "cell_type": "code",
   "execution_count": 47,
   "metadata": {},
   "outputs": [
    {
     "name": "stdout",
     "output_type": "stream",
     "text": [
      ">Train: 0=60608, 1=896, Test: 0=6735, 1=99\n",
      ">Train: 0=60608, 1=896, Test: 0=6735, 1=99\n",
      ">Train: 0=60608, 1=896, Test: 0=6735, 1=99\n",
      ">Train: 0=60609, 1=895, Test: 0=6734, 1=100\n",
      ">Train: 0=60609, 1=895, Test: 0=6734, 1=100\n",
      ">Train: 0=60609, 1=895, Test: 0=6734, 1=100\n",
      ">Train: 0=60609, 1=895, Test: 0=6734, 1=100\n",
      ">Train: 0=60609, 1=895, Test: 0=6734, 1=100\n",
      ">Train: 0=60609, 1=896, Test: 0=6734, 1=99\n",
      ">Train: 0=60609, 1=896, Test: 0=6734, 1=99\n"
     ]
    },
    {
     "data": {
      "text/plain": [
       "{'Mean Training Accuracy': 0.9845977999142814,\n",
       " 'Mean Training Precision': 0.06096724622874505,\n",
       " 'Mean Training Recall': 0.004020101755786113,\n",
       " 'Mean Training F1 Score': 0.0075425791560778345,\n",
       " 'Mean Validation Accuracy': 0.9845913038606863,\n",
       " 'Mean Validation Precision': 0.05456349206349206,\n",
       " 'Mean Validation Recall': 0.00402020202020202,\n",
       " 'Mean Validation F1 Score': 0.0074769620616913866}"
      ]
     },
     "execution_count": 47,
     "metadata": {},
     "output_type": "execute_result"
    }
   ],
   "source": [
    "stratifiedCV(LinearSVC(random_state=0, tol=1e-5, dual=False, max_iter=10000), pd.DataFrame(X_r2l_rfe), y_r2l, 10, 3)"
   ]
  },
  {
   "cell_type": "markdown",
   "metadata": {},
   "source": [
    "#### Stratified cross validation on r2l Standard Scaler"
   ]
  },
  {
   "cell_type": "code",
   "execution_count": 48,
   "metadata": {},
   "outputs": [
    {
     "name": "stdout",
     "output_type": "stream",
     "text": [
      ">Train: 0=60608, 1=896, Test: 0=6735, 1=99\n",
      ">Train: 0=60608, 1=896, Test: 0=6735, 1=99\n",
      ">Train: 0=60608, 1=896, Test: 0=6735, 1=99\n",
      ">Train: 0=60609, 1=895, Test: 0=6734, 1=100\n",
      ">Train: 0=60609, 1=895, Test: 0=6734, 1=100\n",
      ">Train: 0=60609, 1=895, Test: 0=6734, 1=100\n",
      ">Train: 0=60609, 1=895, Test: 0=6734, 1=100\n",
      ">Train: 0=60609, 1=895, Test: 0=6734, 1=100\n",
      ">Train: 0=60609, 1=896, Test: 0=6734, 1=99\n",
      ">Train: 0=60609, 1=896, Test: 0=6734, 1=99\n"
     ]
    },
    {
     "data": {
      "text/plain": [
       "{'Mean Training Accuracy': 0.9906006409764576,\n",
       " 'Mean Training Precision': 0.7174797869911373,\n",
       " 'Mean Training Recall': 0.5843612829209897,\n",
       " 'Mean Training F1 Score': 0.6440041711753595,\n",
       " 'Mean Validation Accuracy': 0.9905323354388772,\n",
       " 'Mean Validation Precision': 0.7141627584333186,\n",
       " 'Mean Validation Recall': 0.5839999999999999,\n",
       " 'Mean Validation F1 Score': 0.642087169934108}"
      ]
     },
     "execution_count": 48,
     "metadata": {},
     "output_type": "execute_result"
    }
   ],
   "source": [
    "stratifiedCV(LinearSVC(random_state=0, tol=1e-5, dual=False, max_iter=10000), pd.DataFrame(X_r2l_rfe_ss), y_r2l, 10, 3)"
   ]
  },
  {
   "cell_type": "markdown",
   "metadata": {},
   "source": [
    "#### Predict on r2l"
   ]
  },
  {
   "cell_type": "code",
   "execution_count": 49,
   "metadata": {},
   "outputs": [
    {
     "data": {
      "image/png": "[encoded data removed]",
      "text/plain": [
       "<Figure size 432x288 with 2 Axes>"
      ]
     },
     "metadata": {
      "needs_background": "light"
     },
     "output_type": "display_data"
    },
    {
     "name": "stdout",
     "output_type": "stream",
     "text": [
      "Accuracy: 0.77080 \n",
      "Precision: 0.37500 \n",
      "Recall: 0.00104 \n",
      "F-measure: 0.00207 \n"
     ]
    }
   ],
   "source": [
    "y_r2l_rfe_prediction = SVM(X_r2l_rfe, y_r2l).predict(X_r2l_test_rfe)\n",
    "plotConfusionMatrix(y_r2l_rfe_prediction, y_r2l_test, 3)"
   ]
  },
  {
   "cell_type": "code",
   "execution_count": 50,
   "metadata": {
    "colab": {
     "base_uri": "https://localhost:8080/",
     "height": 419
    },
    "executionInfo": {
     "elapsed": 3406,
     "status": "ok",
     "timestamp": 1675471386339,
     "user": {
      "displayName": "DANIELE PALMIERI",
      "userId": "13749636301499067245"
     },
     "user_tz": -60
    },
    "id": "3-sZ9eu1359i",
    "outputId": "399643ed-eb97-48dc-ee88-8678324604db",
    "scrolled": false
   },
   "outputs": [
    {
     "data": {
      "image/png": "[encoded data removed]",
      "text/plain": [
       "<Figure size 432x288 with 2 Axes>"
      ]
     },
     "metadata": {
      "needs_background": "light"
     },
     "output_type": "display_data"
    },
    {
     "name": "stdout",
     "output_type": "stream",
     "text": [
      "Accuracy: 0.77064 \n",
      "Precision: 0.25000 \n",
      "Recall: 0.00069 \n",
      "F-measure: 0.00138 \n"
     ]
    }
   ],
   "source": [
    "y_r2l_rfe_prediction = SVM(X_r2l_rfe_ss, y_r2l).predict(X_r2l_test_rfe_ss)\n",
    "plotConfusionMatrix(y_r2l_rfe_prediction, y_r2l_test, 3)"
   ]
  },
  {
   "cell_type": "markdown",
   "metadata": {},
   "source": [
    "#### K-fold cross validation on u2r"
   ]
  },
  {
   "cell_type": "code",
   "execution_count": 51,
   "metadata": {},
   "outputs": [
    {
     "name": "stdout",
     "output_type": "stream",
     "text": [
      ">Train: 0=60608, 1=47, Test: 0=6735, 1=5\n"
     ]
    },
    {
     "name": "stderr",
     "output_type": "stream",
     "text": [
      "C:\\Users\\Daniele\\anaconda3\\lib\\site-packages\\sklearn\\metrics\\_classification.py:1344: UndefinedMetricWarning: Precision is ill-defined and being set to 0.0 due to no predicted samples. Use `zero_division` parameter to control this behavior.\n",
      "  _warn_prf(average, modifier, msg_start, len(result))\n",
      "C:\\Users\\Daniele\\anaconda3\\lib\\site-packages\\sklearn\\metrics\\_classification.py:1344: UndefinedMetricWarning: Precision is ill-defined and being set to 0.0 due to no predicted samples. Use `zero_division` parameter to control this behavior.\n",
      "  _warn_prf(average, modifier, msg_start, len(result))\n"
     ]
    },
    {
     "name": "stdout",
     "output_type": "stream",
     "text": [
      ">Train: 0=60609, 1=46, Test: 0=6734, 1=6\n",
      ">Train: 0=60609, 1=46, Test: 0=6734, 1=6\n"
     ]
    },
    {
     "name": "stderr",
     "output_type": "stream",
     "text": [
      "C:\\Users\\Daniele\\anaconda3\\lib\\site-packages\\sklearn\\metrics\\_classification.py:1344: UndefinedMetricWarning: Precision is ill-defined and being set to 0.0 due to no predicted samples. Use `zero_division` parameter to control this behavior.\n",
      "  _warn_prf(average, modifier, msg_start, len(result))\n"
     ]
    },
    {
     "name": "stdout",
     "output_type": "stream",
     "text": [
      ">Train: 0=60609, 1=46, Test: 0=6734, 1=6\n",
      ">Train: 0=60607, 1=48, Test: 0=6736, 1=4\n"
     ]
    },
    {
     "name": "stderr",
     "output_type": "stream",
     "text": [
      "C:\\Users\\Daniele\\anaconda3\\lib\\site-packages\\sklearn\\metrics\\_classification.py:1344: UndefinedMetricWarning: Precision is ill-defined and being set to 0.0 due to no predicted samples. Use `zero_division` parameter to control this behavior.\n",
      "  _warn_prf(average, modifier, msg_start, len(result))\n"
     ]
    },
    {
     "name": "stdout",
     "output_type": "stream",
     "text": [
      ">Train: 0=60612, 1=44, Test: 0=6731, 1=8\n",
      ">Train: 0=60609, 1=47, Test: 0=6734, 1=5\n",
      ">Train: 0=60607, 1=49, Test: 0=6736, 1=3\n"
     ]
    },
    {
     "name": "stderr",
     "output_type": "stream",
     "text": [
      "C:\\Users\\Daniele\\anaconda3\\lib\\site-packages\\sklearn\\metrics\\_classification.py:1344: UndefinedMetricWarning: Precision is ill-defined and being set to 0.0 due to no predicted samples. Use `zero_division` parameter to control this behavior.\n",
      "  _warn_prf(average, modifier, msg_start, len(result))\n"
     ]
    },
    {
     "name": "stdout",
     "output_type": "stream",
     "text": [
      ">Train: 0=60609, 1=47, Test: 0=6734, 1=5\n",
      ">Train: 0=60608, 1=48, Test: 0=6735, 1=4\n"
     ]
    },
    {
     "name": "stderr",
     "output_type": "stream",
     "text": [
      "C:\\Users\\Daniele\\anaconda3\\lib\\site-packages\\sklearn\\metrics\\_classification.py:1344: UndefinedMetricWarning: Precision is ill-defined and being set to 0.0 due to no predicted samples. Use `zero_division` parameter to control this behavior.\n",
      "  _warn_prf(average, modifier, msg_start, len(result))\n"
     ]
    },
    {
     "data": {
      "text/plain": [
       "{'Mean Training Accuracy': 0.9993009703150264,\n",
       " 'Mean Training Precision': 1.0,\n",
       " 'Mean Training Recall': 0.09353215888996251,\n",
       " 'Mean Training F1 Score': 0.17006231126541888,\n",
       " 'Mean Validation Accuracy': 0.9992581073982307,\n",
       " 'Mean Validation Precision': 0.3,\n",
       " 'Mean Validation Recall': 0.049166666666666664,\n",
       " 'Mean Validation F1 Score': 0.08412698412698413}"
      ]
     },
     "execution_count": 51,
     "metadata": {},
     "output_type": "execute_result"
    }
   ],
   "source": [
    "KfoldCV(LinearSVC(random_state=0, tol=1e-5, dual=False, max_iter=10000), pd.DataFrame(X_u2r_rfe), y_u2r, 10, 4)"
   ]
  },
  {
   "cell_type": "markdown",
   "metadata": {},
   "source": [
    "#### K-fold cross validation on u2r Standard Scaler"
   ]
  },
  {
   "cell_type": "code",
   "execution_count": 52,
   "metadata": {
    "scrolled": true
   },
   "outputs": [
    {
     "name": "stdout",
     "output_type": "stream",
     "text": [
      ">Train: 0=60608, 1=47, Test: 0=6735, 1=5\n",
      ">Train: 0=60609, 1=46, Test: 0=6734, 1=6\n",
      ">Train: 0=60609, 1=46, Test: 0=6734, 1=6\n",
      ">Train: 0=60609, 1=46, Test: 0=6734, 1=6\n",
      ">Train: 0=60607, 1=48, Test: 0=6736, 1=4\n"
     ]
    },
    {
     "name": "stderr",
     "output_type": "stream",
     "text": [
      "C:\\Users\\Daniele\\anaconda3\\lib\\site-packages\\sklearn\\metrics\\_classification.py:1344: UndefinedMetricWarning: Precision is ill-defined and being set to 0.0 due to no predicted samples. Use `zero_division` parameter to control this behavior.\n",
      "  _warn_prf(average, modifier, msg_start, len(result))\n"
     ]
    },
    {
     "name": "stdout",
     "output_type": "stream",
     "text": [
      ">Train: 0=60612, 1=44, Test: 0=6731, 1=8\n",
      ">Train: 0=60609, 1=47, Test: 0=6734, 1=5\n",
      ">Train: 0=60607, 1=49, Test: 0=6736, 1=3\n",
      ">Train: 0=60609, 1=47, Test: 0=6734, 1=5\n",
      ">Train: 0=60608, 1=48, Test: 0=6735, 1=4\n"
     ]
    },
    {
     "data": {
      "text/plain": [
       "{'Mean Training Accuracy': 0.9994147272593802,\n",
       " 'Mean Training Precision': 0.877232967410986,\n",
       " 'Mean Training Recall': 0.27790559815718396,\n",
       " 'Mean Training F1 Score': 0.41929348945204603,\n",
       " 'Mean Validation Accuracy': 0.9993768083651433,\n",
       " 'Mean Validation Precision': 0.7333333333333334,\n",
       " 'Mean Validation Recall': 0.27666666666666667,\n",
       " 'Mean Validation F1 Score': 0.38350649350649346}"
      ]
     },
     "execution_count": 52,
     "metadata": {},
     "output_type": "execute_result"
    }
   ],
   "source": [
    "KfoldCV(LinearSVC(random_state=0, tol=1e-5, dual=False, max_iter=10000), pd.DataFrame(X_u2r_rfe_ss), y_u2r, 10, 4)"
   ]
  },
  {
   "cell_type": "markdown",
   "metadata": {},
   "source": [
    "#### Stratified cross validation on u2r"
   ]
  },
  {
   "cell_type": "code",
   "execution_count": 53,
   "metadata": {},
   "outputs": [
    {
     "name": "stdout",
     "output_type": "stream",
     "text": [
      ">Train: 0=60608, 1=47, Test: 0=6735, 1=5\n"
     ]
    },
    {
     "name": "stderr",
     "output_type": "stream",
     "text": [
      "C:\\Users\\Daniele\\anaconda3\\lib\\site-packages\\sklearn\\metrics\\_classification.py:1344: UndefinedMetricWarning: Precision is ill-defined and being set to 0.0 due to no predicted samples. Use `zero_division` parameter to control this behavior.\n",
      "  _warn_prf(average, modifier, msg_start, len(result))\n",
      "C:\\Users\\Daniele\\anaconda3\\lib\\site-packages\\sklearn\\metrics\\_classification.py:1344: UndefinedMetricWarning: Precision is ill-defined and being set to 0.0 due to no predicted samples. Use `zero_division` parameter to control this behavior.\n",
      "  _warn_prf(average, modifier, msg_start, len(result))\n"
     ]
    },
    {
     "name": "stdout",
     "output_type": "stream",
     "text": [
      ">Train: 0=60608, 1=47, Test: 0=6735, 1=5\n",
      ">Train: 0=60608, 1=47, Test: 0=6735, 1=5\n"
     ]
    },
    {
     "name": "stderr",
     "output_type": "stream",
     "text": [
      "C:\\Users\\Daniele\\anaconda3\\lib\\site-packages\\sklearn\\metrics\\_classification.py:1344: UndefinedMetricWarning: Precision is ill-defined and being set to 0.0 due to no predicted samples. Use `zero_division` parameter to control this behavior.\n",
      "  _warn_prf(average, modifier, msg_start, len(result))\n",
      "C:\\Users\\Daniele\\anaconda3\\lib\\site-packages\\sklearn\\metrics\\_classification.py:1344: UndefinedMetricWarning: Precision is ill-defined and being set to 0.0 due to no predicted samples. Use `zero_division` parameter to control this behavior.\n",
      "  _warn_prf(average, modifier, msg_start, len(result))\n"
     ]
    },
    {
     "name": "stdout",
     "output_type": "stream",
     "text": [
      ">Train: 0=60609, 1=46, Test: 0=6734, 1=6\n",
      ">Train: 0=60609, 1=46, Test: 0=6734, 1=6\n",
      ">Train: 0=60609, 1=47, Test: 0=6734, 1=5\n",
      ">Train: 0=60609, 1=47, Test: 0=6734, 1=5\n",
      ">Train: 0=60609, 1=47, Test: 0=6734, 1=5\n"
     ]
    },
    {
     "name": "stderr",
     "output_type": "stream",
     "text": [
      "C:\\Users\\Daniele\\anaconda3\\lib\\site-packages\\sklearn\\metrics\\_classification.py:1344: UndefinedMetricWarning: Precision is ill-defined and being set to 0.0 due to no predicted samples. Use `zero_division` parameter to control this behavior.\n",
      "  _warn_prf(average, modifier, msg_start, len(result))\n"
     ]
    },
    {
     "name": "stdout",
     "output_type": "stream",
     "text": [
      ">Train: 0=60609, 1=47, Test: 0=6734, 1=5\n",
      ">Train: 0=60609, 1=47, Test: 0=6734, 1=5\n"
     ]
    },
    {
     "name": "stderr",
     "output_type": "stream",
     "text": [
      "C:\\Users\\Daniele\\anaconda3\\lib\\site-packages\\sklearn\\metrics\\_classification.py:1344: UndefinedMetricWarning: Precision is ill-defined and being set to 0.0 due to no predicted samples. Use `zero_division` parameter to control this behavior.\n",
      "  _warn_prf(average, modifier, msg_start, len(result))\n"
     ]
    },
    {
     "data": {
      "text/plain": [
       "{'Mean Training Accuracy': 0.9992976729776265,\n",
       " 'Mean Training Precision': 1.0,\n",
       " 'Mean Training Recall': 0.08968547641073081,\n",
       " 'Mean Training F1 Score': 0.16317873303167418,\n",
       " 'Mean Validation Accuracy': 0.9992581073982306,\n",
       " 'Mean Validation Precision': 0.3,\n",
       " 'Mean Validation Recall': 0.056666666666666664,\n",
       " 'Mean Validation F1 Score': 0.09523809523809525}"
      ]
     },
     "execution_count": 53,
     "metadata": {},
     "output_type": "execute_result"
    }
   ],
   "source": [
    "stratifiedCV(LinearSVC(random_state=0, tol=1e-5, dual=False, max_iter=10000), pd.DataFrame(X_u2r_rfe), y_u2r, 10, 4)"
   ]
  },
  {
   "cell_type": "markdown",
   "metadata": {},
   "source": [
    "#### Stratified cross validation on u2r Standard Scaler"
   ]
  },
  {
   "cell_type": "code",
   "execution_count": 54,
   "metadata": {},
   "outputs": [
    {
     "name": "stdout",
     "output_type": "stream",
     "text": [
      ">Train: 0=60608, 1=47, Test: 0=6735, 1=5\n",
      ">Train: 0=60608, 1=47, Test: 0=6735, 1=5\n",
      ">Train: 0=60608, 1=47, Test: 0=6735, 1=5\n"
     ]
    },
    {
     "name": "stderr",
     "output_type": "stream",
     "text": [
      "C:\\Users\\Daniele\\anaconda3\\lib\\site-packages\\sklearn\\metrics\\_classification.py:1344: UndefinedMetricWarning: Precision is ill-defined and being set to 0.0 due to no predicted samples. Use `zero_division` parameter to control this behavior.\n",
      "  _warn_prf(average, modifier, msg_start, len(result))\n"
     ]
    },
    {
     "name": "stdout",
     "output_type": "stream",
     "text": [
      ">Train: 0=60609, 1=46, Test: 0=6734, 1=6\n",
      ">Train: 0=60609, 1=46, Test: 0=6734, 1=6\n",
      ">Train: 0=60609, 1=47, Test: 0=6734, 1=5\n",
      ">Train: 0=60609, 1=47, Test: 0=6734, 1=5\n",
      ">Train: 0=60609, 1=47, Test: 0=6734, 1=5\n",
      ">Train: 0=60609, 1=47, Test: 0=6734, 1=5\n",
      ">Train: 0=60609, 1=47, Test: 0=6734, 1=5\n"
     ]
    },
    {
     "data": {
      "text/plain": [
       "{'Mean Training Accuracy': 0.9994130786450413,\n",
       " 'Mean Training Precision': 0.8755299073991024,\n",
       " 'Mean Training Recall': 0.275531914893617,\n",
       " 'Mean Training F1 Score': 0.415753171622159,\n",
       " 'Mean Validation Accuracy': 0.9993768105667747,\n",
       " 'Mean Validation Precision': 0.725,\n",
       " 'Mean Validation Recall': 0.27666666666666667,\n",
       " 'Mean Validation F1 Score': 0.38571428571428573}"
      ]
     },
     "execution_count": 54,
     "metadata": {},
     "output_type": "execute_result"
    }
   ],
   "source": [
    "stratifiedCV(LinearSVC(random_state=0, tol=1e-5, dual=False, max_iter=10000), pd.DataFrame(X_u2r_rfe_ss), y_u2r, 10, 4)"
   ]
  },
  {
   "cell_type": "markdown",
   "metadata": {},
   "source": [
    "#### Predict on u2r"
   ]
  },
  {
   "cell_type": "code",
   "execution_count": 55,
   "metadata": {},
   "outputs": [
    {
     "data": {
      "image/png": "[encoded data removed]",
      "text/plain": [
       "<Figure size 432x288 with 2 Axes>"
      ]
     },
     "metadata": {
      "needs_background": "light"
     },
     "output_type": "display_data"
    },
    {
     "name": "stdout",
     "output_type": "stream",
     "text": [
      "Accuracy: 0.99417 \n",
      "Precision: 1.00000 \n",
      "Recall: 0.14925 \n",
      "F-measure: 0.25974 \n"
     ]
    }
   ],
   "source": [
    "y_u2r_rfe_prediction = SVM(X_u2r_rfe, y_u2r).predict(X_u2r_test_rfe)\n",
    "plotConfusionMatrix(y_u2r_rfe_prediction, y_u2r_test, 4)"
   ]
  },
  {
   "cell_type": "code",
   "execution_count": 56,
   "metadata": {
    "colab": {
     "base_uri": "https://localhost:8080/",
     "height": 364
    },
    "executionInfo": {
     "elapsed": 2396,
     "status": "ok",
     "timestamp": 1675471440250,
     "user": {
      "displayName": "DANIELE PALMIERI",
      "userId": "13749636301499067245"
     },
     "user_tz": -60
    },
    "id": "KONNFtt04Izj",
    "outputId": "a919864e-f8fe-49d4-db1a-02a271cac0f7",
    "scrolled": true
   },
   "outputs": [
    {
     "data": {
      "image/png": "[encoded data removed]",
      "text/plain": [
       "<Figure size 432x288 with 2 Axes>"
      ]
     },
     "metadata": {
      "needs_background": "light"
     },
     "output_type": "display_data"
    },
    {
     "name": "stdout",
     "output_type": "stream",
     "text": [
      "Accuracy: 0.99478 \n",
      "Precision: 0.76667 \n",
      "Recall: 0.34328 \n",
      "F-measure: 0.47423 \n"
     ]
    }
   ],
   "source": [
    "y_u2r_rfe_prediction = SVM(X_u2r_rfe_ss, y_u2r).predict(X_u2r_test_rfe_ss)\n",
    "plotConfusionMatrix(y_u2r_rfe_prediction, y_u2r_test, 4)"
   ]
  },
  {
   "cell_type": "markdown",
   "metadata": {},
   "source": [
    "## Binary dataset no feature selection"
   ]
  },
  {
   "cell_type": "code",
   "execution_count": 4,
   "metadata": {
    "scrolled": true
   },
   "outputs": [
    {
     "data": {
      "image/png": "[encoded data removed]",
      "text/plain": [
       "<Figure size 720x360 with 1 Axes>"
      ]
     },
     "metadata": {
      "needs_background": "light"
     },
     "output_type": "display_data"
    }
   ],
   "source": [
    "reducedDf = getReducedDf()\n",
    "reducedDf_test = getReducedDfTest()\n",
    "\n",
    "reducedDf['label'], reducedDf_test['label'] = prepareBinary()\n",
    "plotDf(reducedDf['label'])\n",
    "\n",
    "x_df, y_df = getXandY(reducedDf)\n",
    "x_df_test, y_df_test = getXandY(reducedDf_test)\n",
    "\n",
    "x_df_ss = standardScaler(x_df)\n",
    "x_df_test_ss = standardScaler(x_df_test)"
   ]
  },
  {
   "cell_type": "markdown",
   "metadata": {},
   "source": [
    "#### K-fold cross validation"
   ]
  },
  {
   "cell_type": "code",
   "execution_count": 58,
   "metadata": {
    "scrolled": true
   },
   "outputs": [
    {
     "name": "stdout",
     "output_type": "stream",
     "text": [
      ">Train: 0=60653, 1=52722, Test: 0=6690, 1=5908\n",
      ">Train: 0=60581, 1=52794, Test: 0=6762, 1=5836\n",
      ">Train: 0=60638, 1=52737, Test: 0=6705, 1=5893\n",
      ">Train: 0=60750, 1=52626, Test: 0=6593, 1=6004\n",
      ">Train: 0=60645, 1=52731, Test: 0=6698, 1=5899\n",
      ">Train: 0=60505, 1=52871, Test: 0=6838, 1=5759\n",
      ">Train: 0=60507, 1=52869, Test: 0=6836, 1=5761\n",
      ">Train: 0=60570, 1=52806, Test: 0=6773, 1=5824\n",
      ">Train: 0=60650, 1=52726, Test: 0=6693, 1=5904\n",
      ">Train: 0=60588, 1=52788, Test: 0=6755, 1=5842\n"
     ]
    },
    {
     "data": {
      "text/plain": [
       "{'Mean Training Accuracy': 0.9012204700807622,\n",
       " 'Mean Training Precision': 0.9276921881558557,\n",
       " 'Mean Training Recall': 0.8543193351590116,\n",
       " 'Mean Training F1 Score': 0.8894526460282579,\n",
       " 'Mean Validation Accuracy': 0.901161243709916,\n",
       " 'Mean Validation Precision': 0.9275815104481004,\n",
       " 'Mean Validation Recall': 0.8542065369994356,\n",
       " 'Mean Validation F1 Score': 0.889326883095967}"
      ]
     },
     "execution_count": 58,
     "metadata": {},
     "output_type": "execute_result"
    }
   ],
   "source": [
    "KfoldCV(LinearSVC(random_state=0, tol=1e-5, dual=False, max_iter=10000), pd.DataFrame(x_df), y_df, 10, 1)"
   ]
  },
  {
   "cell_type": "markdown",
   "metadata": {},
   "source": [
    "#### K-fold cross validation Standard Scaler"
   ]
  },
  {
   "cell_type": "code",
   "execution_count": 59,
   "metadata": {},
   "outputs": [
    {
     "name": "stdout",
     "output_type": "stream",
     "text": [
      ">Train: 0=60653, 1=52722, Test: 0=6690, 1=5908\n",
      ">Train: 0=60581, 1=52794, Test: 0=6762, 1=5836\n",
      ">Train: 0=60638, 1=52737, Test: 0=6705, 1=5893\n",
      ">Train: 0=60750, 1=52626, Test: 0=6593, 1=6004\n",
      ">Train: 0=60645, 1=52731, Test: 0=6698, 1=5899\n",
      ">Train: 0=60505, 1=52871, Test: 0=6838, 1=5759\n",
      ">Train: 0=60507, 1=52869, Test: 0=6836, 1=5761\n",
      ">Train: 0=60570, 1=52806, Test: 0=6773, 1=5824\n",
      ">Train: 0=60650, 1=52726, Test: 0=6693, 1=5904\n",
      ">Train: 0=60588, 1=52788, Test: 0=6755, 1=5842\n"
     ]
    },
    {
     "data": {
      "text/plain": [
       "{'Mean Training Accuracy': 0.9470927192025146,\n",
       " 'Mean Training Precision': 0.9489011617066175,\n",
       " 'Mean Training Recall': 0.9367688142539583,\n",
       " 'Mean Training F1 Score': 0.9427956103784731,\n",
       " 'Mean Validation Accuracy': 0.9469251782859723,\n",
       " 'Mean Validation Precision': 0.9487237353458944,\n",
       " 'Mean Validation Recall': 0.9365923091947893,\n",
       " 'Mean Validation F1 Score': 0.942615787979625}"
      ]
     },
     "execution_count": 59,
     "metadata": {},
     "output_type": "execute_result"
    }
   ],
   "source": [
    "KfoldCV(LinearSVC(random_state=0, tol=1e-5, dual=False, max_iter=10000), pd.DataFrame(x_df_ss), y_df, 10, 1)"
   ]
  },
  {
   "cell_type": "markdown",
   "metadata": {},
   "source": [
    "#### Predict"
   ]
  },
  {
   "cell_type": "code",
   "execution_count": 5,
   "metadata": {
    "scrolled": false
   },
   "outputs": [
    {
     "data": {
      "image/png": "[encoded data removed]",
      "text/plain": [
       "<Figure size 432x288 with 2 Axes>"
      ]
     },
     "metadata": {
      "needs_background": "light"
     },
     "output_type": "display_data"
    },
    {
     "name": "stdout",
     "output_type": "stream",
     "text": [
      "Accuracy: 0.67867 \n",
      "Precision: 0.90180 \n",
      "Recall: 0.48874 \n",
      "F-measure: 0.63392 \n"
     ]
    }
   ],
   "source": [
    "y_prediction = SVM(x_df, y_df).predict(x_df_test)\n",
    "plotConfusionMatrix(y_prediction, y_df_test, 1)"
   ]
  },
  {
   "cell_type": "code",
   "execution_count": 6,
   "metadata": {
    "scrolled": true
   },
   "outputs": [
    {
     "data": {
      "image/png": "[encoded data removed]",
      "text/plain": [
       "<Figure size 432x288 with 2 Axes>"
      ]
     },
     "metadata": {
      "needs_background": "light"
     },
     "output_type": "display_data"
    },
    {
     "name": "stdout",
     "output_type": "stream",
     "text": [
      "Accuracy: 0.78047 \n",
      "Precision: 0.91114 \n",
      "Recall: 0.68074 \n",
      "F-measure: 0.77927 \n"
     ]
    }
   ],
   "source": [
    "y_prediction = SVM(x_df_ss, y_df).predict(x_df_test_ss)\n",
    "plotConfusionMatrix(y_prediction, y_df_test, 1)"
   ]
  },
  {
   "cell_type": "markdown",
   "metadata": {},
   "source": [
    "## Binary dataset feature selection"
   ]
  },
  {
   "cell_type": "code",
   "execution_count": 7,
   "metadata": {},
   "outputs": [],
   "source": [
    "X_df_rfe, rfecolname = recursiveFeatureExtraction(LinearSVC(random_state=0, tol=1e-5, dual=False, max_iter=10000), x_df, y_df, 13)\n",
    "X_df_test_rfe=x_df_test.values[:,rfecolname]"
   ]
  },
  {
   "cell_type": "code",
   "execution_count": 8,
   "metadata": {},
   "outputs": [],
   "source": [
    "X_df_rfe_ss, rfecolname_ss = recursiveFeatureExtraction(LinearSVC(random_state=0, tol=1e-5, dual=False, max_iter=10000), x_df_ss, y_df, 13)\n",
    "X_df_test_rfe_ss=x_df_test_ss[:,rfecolname_ss]"
   ]
  },
  {
   "cell_type": "markdown",
   "metadata": {},
   "source": [
    "#### K-fold cross validation"
   ]
  },
  {
   "cell_type": "code",
   "execution_count": 64,
   "metadata": {},
   "outputs": [
    {
     "name": "stdout",
     "output_type": "stream",
     "text": [
      ">Train: 0=60653, 1=52722, Test: 0=6690, 1=5908\n",
      ">Train: 0=60581, 1=52794, Test: 0=6762, 1=5836\n",
      ">Train: 0=60638, 1=52737, Test: 0=6705, 1=5893\n",
      ">Train: 0=60750, 1=52626, Test: 0=6593, 1=6004\n",
      ">Train: 0=60645, 1=52731, Test: 0=6698, 1=5899\n",
      ">Train: 0=60505, 1=52871, Test: 0=6838, 1=5759\n",
      ">Train: 0=60507, 1=52869, Test: 0=6836, 1=5761\n",
      ">Train: 0=60570, 1=52806, Test: 0=6773, 1=5824\n",
      ">Train: 0=60650, 1=52726, Test: 0=6693, 1=5904\n",
      ">Train: 0=60588, 1=52788, Test: 0=6755, 1=5842\n"
     ]
    },
    {
     "data": {
      "text/plain": [
       "{'Mean Training Accuracy': 0.9287960294940005,\n",
       " 'Mean Training Precision': 0.9383420524500256,\n",
       " 'Mean Training Recall': 0.9065817709466509,\n",
       " 'Mean Training F1 Score': 0.9221884849227815,\n",
       " 'Mean Validation Accuracy': 0.9286831132781421,\n",
       " 'Mean Validation Precision': 0.9380970563267386,\n",
       " 'Mean Validation Recall': 0.9065742248375834,\n",
       " 'Mean Validation F1 Score': 0.9220608861797551}"
      ]
     },
     "execution_count": 64,
     "metadata": {},
     "output_type": "execute_result"
    }
   ],
   "source": [
    "KfoldCV(LinearSVC(random_state=0, tol=1e-5, dual=False, max_iter=10000), pd.DataFrame(X_df_rfe), y_df, 10, 1)"
   ]
  },
  {
   "cell_type": "markdown",
   "metadata": {},
   "source": [
    "#### K-fold cross validation Standard Scaler"
   ]
  },
  {
   "cell_type": "code",
   "execution_count": 65,
   "metadata": {},
   "outputs": [
    {
     "name": "stdout",
     "output_type": "stream",
     "text": [
      ">Train: 0=60653, 1=52722, Test: 0=6690, 1=5908\n",
      ">Train: 0=60581, 1=52794, Test: 0=6762, 1=5836\n",
      ">Train: 0=60638, 1=52737, Test: 0=6705, 1=5893\n",
      ">Train: 0=60750, 1=52626, Test: 0=6593, 1=6004\n",
      ">Train: 0=60645, 1=52731, Test: 0=6698, 1=5899\n",
      ">Train: 0=60505, 1=52871, Test: 0=6838, 1=5759\n",
      ">Train: 0=60507, 1=52869, Test: 0=6836, 1=5761\n",
      ">Train: 0=60570, 1=52806, Test: 0=6773, 1=5824\n",
      ">Train: 0=60650, 1=52726, Test: 0=6693, 1=5904\n",
      ">Train: 0=60588, 1=52788, Test: 0=6755, 1=5842\n"
     ]
    },
    {
     "data": {
      "text/plain": [
       "{'Mean Training Accuracy': 0.9313124421619909,\n",
       " 'Mean Training Precision': 0.9297342503350687,\n",
       " 'Mean Training Recall': 0.9221066280091025,\n",
       " 'Mean Training F1 Score': 0.9259046851950107,\n",
       " 'Mean Validation Accuracy': 0.9312789713247647,\n",
       " 'Mean Validation Precision': 0.9297039978593531,\n",
       " 'Mean Validation Recall': 0.9220627598246164,\n",
       " 'Mean Validation F1 Score': 0.9258628002766844}"
      ]
     },
     "execution_count": 65,
     "metadata": {},
     "output_type": "execute_result"
    }
   ],
   "source": [
    "KfoldCV(LinearSVC(random_state=0, tol=1e-5, dual=False, max_iter=10000), pd.DataFrame(X_df_rfe_ss), y_df, 10, 1)"
   ]
  },
  {
   "cell_type": "markdown",
   "metadata": {},
   "source": [
    "#### Predict"
   ]
  },
  {
   "cell_type": "code",
   "execution_count": 9,
   "metadata": {},
   "outputs": [
    {
     "data": {
      "image/png": "[encoded data removed]",
      "text/plain": [
       "<Figure size 432x288 with 2 Axes>"
      ]
     },
     "metadata": {
      "needs_background": "light"
     },
     "output_type": "display_data"
    },
    {
     "name": "stdout",
     "output_type": "stream",
     "text": [
      "Accuracy: 0.72538 \n",
      "Precision: 0.95719 \n",
      "Recall: 0.54181 \n",
      "F-measure: 0.69194 \n"
     ]
    }
   ],
   "source": [
    "y_prediction = SVM(X_df_rfe, y_df).predict(X_df_test_rfe)\n",
    "plotConfusionMatrix(y_prediction, y_df_test, 1)"
   ]
  },
  {
   "cell_type": "code",
   "execution_count": 10,
   "metadata": {},
   "outputs": [
    {
     "data": {
      "image/png": "[encoded data removed]",
      "text/plain": [
       "<Figure size 432x288 with 2 Axes>"
      ]
     },
     "metadata": {
      "needs_background": "light"
     },
     "output_type": "display_data"
    },
    {
     "name": "stdout",
     "output_type": "stream",
     "text": [
      "Accuracy: 0.76193 \n",
      "Precision: 0.90629 \n",
      "Recall: 0.64887 \n",
      "F-measure: 0.75628 \n"
     ]
    }
   ],
   "source": [
    "y_prediction = SVM(X_df_rfe_ss, y_df).predict(X_df_test_rfe_ss)\n",
    "plotConfusionMatrix(y_prediction, y_df_test, 1)"
   ]
  },
  {
   "cell_type": "code",
   "execution_count": null,
   "metadata": {},
   "outputs": [],
   "source": []
  },
  {
   "cell_type": "markdown",
   "metadata": {},
   "source": [
    "# Reduced DF, oversampling"
   ]
  },
  {
   "cell_type": "code",
   "execution_count": 68,
   "metadata": {},
   "outputs": [
    {
     "data": {
      "text/plain": [
       "<module 'matplotlib.pyplot' from 'C:\\\\Users\\\\Daniele\\\\anaconda3\\\\lib\\\\site-packages\\\\matplotlib\\\\pyplot.py'>"
      ]
     },
     "execution_count": 68,
     "metadata": {},
     "output_type": "execute_result"
    },
    {
     "data": {
      "image/png": "[encoded data removed]",
      "text/plain": [
       "<Figure size 720x360 with 1 Axes>"
      ]
     },
     "metadata": {
      "needs_background": "light"
     },
     "output_type": "display_data"
    }
   ],
   "source": [
    "reducedDf = getReducedDf()\n",
    "reducedDf_test = getReducedDfTest()\n",
    "\n",
    "reducedDf['label'], reducedDf_test['label'] = prepareMulticlass()\n",
    "\n",
    "x_df, y_df = getXandY(reducedDf)\n",
    "x_df_test, y_df_test = getXandY(reducedDf_test)\n",
    "\n",
    "\n",
    "oversampled_df = overSampledDF(x_df, y_df)\n",
    "oversampled_df_test = overSampledDF(x_df_test, y_df_test)\n",
    "\n",
    "plotDf(oversampled_df['label'])"
   ]
  },
  {
   "cell_type": "code",
   "execution_count": 69,
   "metadata": {},
   "outputs": [],
   "source": [
    "#Preparo i dataframe per ogni classe di attacco\n",
    "dos, probe, r2l, u2r = createMulticlassDF(oversampled_df)\n",
    "dos_test, probe_test, r2l_test, u2r_test = createMulticlassDF(oversampled_df_test)\n",
    "\n",
    "X_dos, y_dos = getXandY(dos)\n",
    "X_probe, y_probe = getXandY(probe)\n",
    "X_r2l, y_r2l = getXandY(r2l)\n",
    "X_u2r, y_u2r = getXandY(u2r)\n",
    "\n",
    "X_dos_test, y_dos_test = getXandY(dos_test)\n",
    "X_probe_test, y_probe_test = getXandY(probe_test)\n",
    "X_r2l_test, y_r2l_test = getXandY(r2l_test)\n",
    "X_u2r_test, y_u2r_test = getXandY(u2r_test)"
   ]
  },
  {
   "cell_type": "code",
   "execution_count": 70,
   "metadata": {},
   "outputs": [],
   "source": [
    "#Effettuo standard scaler\n",
    "X_dos_ss=standardScaler(X_dos)\n",
    "X_probe_ss=standardScaler(X_probe)\n",
    "X_r2l_ss=standardScaler(X_r2l)\n",
    "X_u2r_ss=standardScaler(X_u2r)\n",
    "\n",
    "X_dos_test_ss=standardScaler(X_dos_test)\n",
    "X_probe_test_ss=standardScaler(X_probe_test)\n",
    "X_r2l_test_ss=standardScaler(X_r2l_test)\n",
    "X_u2r_test_ss=standardScaler(X_u2r_test)"
   ]
  },
  {
   "cell_type": "markdown",
   "metadata": {},
   "source": [
    "## No feature selection"
   ]
  },
  {
   "cell_type": "markdown",
   "metadata": {},
   "source": [
    "#### K-fold cross validation on dos"
   ]
  },
  {
   "cell_type": "code",
   "execution_count": 71,
   "metadata": {},
   "outputs": [
    {
     "name": "stdout",
     "output_type": "stream",
     "text": [
      ">Train: 0=59387, 1=61830, Test: 0=7956, 1=5513\n",
      ">Train: 0=59336, 1=61881, Test: 0=8007, 1=5462\n",
      ">Train: 0=59437, 1=61780, Test: 0=7906, 1=5563\n",
      ">Train: 0=59306, 1=61911, Test: 0=8037, 1=5432\n",
      ">Train: 0=59299, 1=61918, Test: 0=8044, 1=5425\n",
      ">Train: 0=59294, 1=61923, Test: 0=8049, 1=5420\n",
      ">Train: 0=59294, 1=61924, Test: 0=8049, 1=5419\n",
      ">Train: 0=59327, 1=61891, Test: 0=8016, 1=5452\n",
      ">Train: 0=64064, 1=57154, Test: 0=3279, 1=10189\n",
      ">Train: 0=67343, 1=53875, Test: 0=0, 1=13468\n"
     ]
    },
    {
     "data": {
      "text/plain": [
       "{'Mean Training Accuracy': 0.9755266087893327,\n",
       " 'Mean Training Precision': 0.9919955960134091,\n",
       " 'Mean Training Recall': 0.9588742030948592,\n",
       " 'Mean Training F1 Score': 0.97514349082752,\n",
       " 'Mean Validation Accuracy': 0.9760775990618591,\n",
       " 'Mean Validation Precision': 0.9902199216905497,\n",
       " 'Mean Validation Recall': 0.9590912036296719,\n",
       " 'Mean Validation F1 Score': 0.9743982162672055}"
      ]
     },
     "execution_count": 71,
     "metadata": {},
     "output_type": "execute_result"
    }
   ],
   "source": [
    "KfoldCV(LinearSVC(random_state=0, tol=1e-5, dual=False, max_iter=10000), pd.DataFrame(X_dos), y_dos, 10, 1)"
   ]
  },
  {
   "cell_type": "markdown",
   "metadata": {},
   "source": [
    "#### K-fold cross validation on dos Standard Scaler"
   ]
  },
  {
   "cell_type": "code",
   "execution_count": 72,
   "metadata": {},
   "outputs": [
    {
     "name": "stdout",
     "output_type": "stream",
     "text": [
      ">Train: 0=59387, 1=61830, Test: 0=7956, 1=5513\n",
      ">Train: 0=59336, 1=61881, Test: 0=8007, 1=5462\n",
      ">Train: 0=59437, 1=61780, Test: 0=7906, 1=5563\n",
      ">Train: 0=59306, 1=61911, Test: 0=8037, 1=5432\n",
      ">Train: 0=59299, 1=61918, Test: 0=8044, 1=5425\n",
      ">Train: 0=59294, 1=61923, Test: 0=8049, 1=5420\n",
      ">Train: 0=59294, 1=61924, Test: 0=8049, 1=5419\n",
      ">Train: 0=59327, 1=61891, Test: 0=8016, 1=5452\n",
      ">Train: 0=64064, 1=57154, Test: 0=3279, 1=10189\n",
      ">Train: 0=67343, 1=53875, Test: 0=0, 1=13468\n"
     ]
    },
    {
     "data": {
      "text/plain": [
       "{'Mean Training Accuracy': 0.9898471672387334,\n",
       " 'Mean Training Precision': 0.9918676382048808,\n",
       " 'Mean Training Recall': 0.9877432626235955,\n",
       " 'Mean Training F1 Score': 0.9898011484100356,\n",
       " 'Mean Validation Accuracy': 0.989516318401165,\n",
       " 'Mean Validation Precision': 0.9900834379176662,\n",
       " 'Mean Validation Recall': 0.9875687835690595,\n",
       " 'Mean Validation F1 Score': 0.9888170530495325}"
      ]
     },
     "execution_count": 72,
     "metadata": {},
     "output_type": "execute_result"
    }
   ],
   "source": [
    "KfoldCV(LinearSVC(random_state=0, tol=1e-5, dual=False, max_iter=10000), pd.DataFrame(X_dos_ss), y_dos, 10, 1)"
   ]
  },
  {
   "cell_type": "markdown",
   "metadata": {},
   "source": [
    "#### Stratified cross validation on dos"
   ]
  },
  {
   "cell_type": "code",
   "execution_count": 73,
   "metadata": {},
   "outputs": [
    {
     "name": "stdout",
     "output_type": "stream",
     "text": [
      ">Train: 0=60608, 1=60609, Test: 0=6735, 1=6734\n",
      ">Train: 0=60608, 1=60609, Test: 0=6735, 1=6734\n",
      ">Train: 0=60608, 1=60609, Test: 0=6735, 1=6734\n",
      ">Train: 0=60609, 1=60608, Test: 0=6734, 1=6735\n",
      ">Train: 0=60609, 1=60608, Test: 0=6734, 1=6735\n",
      ">Train: 0=60609, 1=60608, Test: 0=6734, 1=6735\n",
      ">Train: 0=60609, 1=60609, Test: 0=6734, 1=6734\n",
      ">Train: 0=60609, 1=60609, Test: 0=6734, 1=6734\n",
      ">Train: 0=60609, 1=60609, Test: 0=6734, 1=6734\n",
      ">Train: 0=60609, 1=60609, Test: 0=6734, 1=6734\n"
     ]
    },
    {
     "data": {
      "text/plain": [
       "{'Mean Training Accuracy': 0.9753055233369355,\n",
       " 'Mean Training Precision': 0.9920934765110928,\n",
       " 'Mean Training Recall': 0.958246908729223,\n",
       " 'Mean Training F1 Score': 0.9748739887666857,\n",
       " 'Mean Validation Accuracy': 0.9753871968550119,\n",
       " 'Mean Validation Precision': 0.9921459070033745,\n",
       " 'Mean Validation Recall': 0.9583624942644986,\n",
       " 'Mean Validation F1 Score': 0.9749559531263232}"
      ]
     },
     "execution_count": 73,
     "metadata": {},
     "output_type": "execute_result"
    }
   ],
   "source": [
    "stratifiedCV(LinearSVC(random_state=0, tol=1e-5, dual=False, max_iter=10000), pd.DataFrame(X_dos), y_dos, 10, 1)"
   ]
  },
  {
   "cell_type": "markdown",
   "metadata": {},
   "source": [
    "#### Stratified cross validation on dos Standard Scaler"
   ]
  },
  {
   "cell_type": "code",
   "execution_count": 74,
   "metadata": {
    "scrolled": true
   },
   "outputs": [
    {
     "name": "stdout",
     "output_type": "stream",
     "text": [
      ">Train: 0=60608, 1=60609, Test: 0=6735, 1=6734\n",
      ">Train: 0=60608, 1=60609, Test: 0=6735, 1=6734\n",
      ">Train: 0=60608, 1=60609, Test: 0=6735, 1=6734\n",
      ">Train: 0=60609, 1=60608, Test: 0=6734, 1=6735\n",
      ">Train: 0=60609, 1=60608, Test: 0=6734, 1=6735\n",
      ">Train: 0=60609, 1=60608, Test: 0=6734, 1=6735\n",
      ">Train: 0=60609, 1=60609, Test: 0=6734, 1=6734\n",
      ">Train: 0=60609, 1=60609, Test: 0=6734, 1=6734\n",
      ">Train: 0=60609, 1=60609, Test: 0=6734, 1=6734\n",
      ">Train: 0=60609, 1=60609, Test: 0=6734, 1=6734\n"
     ]
    },
    {
     "data": {
      "text/plain": [
       "{'Mean Training Accuracy': 0.9897960193314661,\n",
       " 'Mean Training Precision': 0.9918630173386532,\n",
       " 'Mean Training Recall': 0.987694836253979,\n",
       " 'Mean Training F1 Score': 0.9897745332919777,\n",
       " 'Mean Validation Accuracy': 0.9896945400787558,\n",
       " 'Mean Validation Precision': 0.9917699096334271,\n",
       " 'Mean Validation Recall': 0.987585963064805,\n",
       " 'Mean Validation F1 Score': 0.9896725580985255}"
      ]
     },
     "execution_count": 74,
     "metadata": {},
     "output_type": "execute_result"
    }
   ],
   "source": [
    "stratifiedCV(LinearSVC(random_state=0, tol=1e-5, dual=False, max_iter=10000), pd.DataFrame(X_dos_ss), y_dos, 10, 1)"
   ]
  },
  {
   "cell_type": "markdown",
   "metadata": {},
   "source": [
    "#### Predict on dos"
   ]
  },
  {
   "cell_type": "code",
   "execution_count": 75,
   "metadata": {
    "scrolled": true
   },
   "outputs": [
    {
     "data": {
      "image/png": "[encoded data removed]",
      "text/plain": [
       "<Figure size 432x288 with 2 Axes>"
      ]
     },
     "metadata": {
      "needs_background": "light"
     },
     "output_type": "display_data"
    },
    {
     "name": "stdout",
     "output_type": "stream",
     "text": [
      "Accuracy: 0.82165 \n",
      "Precision: 0.92560 \n",
      "Recall: 0.69952 \n",
      "F-measure: 0.79683 \n"
     ]
    }
   ],
   "source": [
    "y_dos_prediction = SVM(X_dos, y_dos).predict(X_dos_test)\n",
    "plotConfusionMatrix(y_dos_prediction, y_dos_test, 1)"
   ]
  },
  {
   "cell_type": "code",
   "execution_count": 76,
   "metadata": {
    "scrolled": true
   },
   "outputs": [
    {
     "data": {
      "image/png": "[encoded data removed]",
      "text/plain": [
       "<Figure size 432x288 with 2 Axes>"
      ]
     },
     "metadata": {
      "needs_background": "light"
     },
     "output_type": "display_data"
    },
    {
     "name": "stdout",
     "output_type": "stream",
     "text": [
      "Accuracy: 0.87010 \n",
      "Precision: 0.89996 \n",
      "Recall: 0.83277 \n",
      "F-measure: 0.86506 \n"
     ]
    }
   ],
   "source": [
    "y_dos_prediction = SVM(X_dos_ss, y_dos).predict(X_dos_test_ss)\n",
    "plotConfusionMatrix(y_dos_prediction, y_dos_test, 1)"
   ]
  },
  {
   "cell_type": "markdown",
   "metadata": {},
   "source": [
    "#### K-fold cross validation on probe"
   ]
  },
  {
   "cell_type": "code",
   "execution_count": 77,
   "metadata": {},
   "outputs": [
    {
     "name": "stdout",
     "output_type": "stream",
     "text": [
      ">Train: 0=55814, 1=65403, Test: 0=11529, 1=1940\n",
      ">Train: 0=55943, 1=65274, Test: 0=11400, 1=2069\n",
      ">Train: 0=55894, 1=65323, Test: 0=11449, 1=2020\n",
      ">Train: 0=55775, 1=65442, Test: 0=11568, 1=1901\n",
      ">Train: 0=55895, 1=65322, Test: 0=11448, 1=2021\n",
      ">Train: 0=57394, 1=63823, Test: 0=9949, 1=3520\n",
      ">Train: 0=67343, 1=53875, Test: 0=0, 1=13468\n",
      ">Train: 0=67343, 1=53875, Test: 0=0, 1=13468\n",
      ">Train: 0=67343, 1=53875, Test: 0=0, 1=13468\n",
      ">Train: 0=67343, 1=53875, Test: 0=0, 1=13468\n"
     ]
    },
    {
     "data": {
      "text/plain": [
       "{'Mean Training Accuracy': 0.7673444427810947,\n",
       " 'Mean Training Precision': 0.8500837682792219,\n",
       " 'Mean Training Recall': 0.645004799752817,\n",
       " 'Mean Training F1 Score': 0.7319759346447167,\n",
       " 'Mean Validation Accuracy': 0.7426861411158688,\n",
       " 'Mean Validation Precision': 0.6984389621947579,\n",
       " 'Mean Validation Recall': 0.6442404028875902,\n",
       " 'Mean Validation F1 Score': 0.6427107008206663}"
      ]
     },
     "execution_count": 77,
     "metadata": {},
     "output_type": "execute_result"
    }
   ],
   "source": [
    "KfoldCV(LinearSVC(random_state=0, tol=1e-5, dual=False, max_iter=10000), pd.DataFrame(X_probe), y_probe, 10, 2)"
   ]
  },
  {
   "cell_type": "markdown",
   "metadata": {},
   "source": [
    "#### K-fold cross validation on probe Standard Scaling"
   ]
  },
  {
   "cell_type": "code",
   "execution_count": 78,
   "metadata": {},
   "outputs": [
    {
     "name": "stdout",
     "output_type": "stream",
     "text": [
      ">Train: 0=55814, 1=65403, Test: 0=11529, 1=1940\n",
      ">Train: 0=55943, 1=65274, Test: 0=11400, 1=2069\n",
      ">Train: 0=55894, 1=65323, Test: 0=11449, 1=2020\n",
      ">Train: 0=55775, 1=65442, Test: 0=11568, 1=1901\n",
      ">Train: 0=55895, 1=65322, Test: 0=11448, 1=2021\n",
      ">Train: 0=57394, 1=63823, Test: 0=9949, 1=3520\n",
      ">Train: 0=67343, 1=53875, Test: 0=0, 1=13468\n",
      ">Train: 0=67343, 1=53875, Test: 0=0, 1=13468\n",
      ">Train: 0=67343, 1=53875, Test: 0=0, 1=13468\n",
      ">Train: 0=67343, 1=53875, Test: 0=0, 1=13468\n"
     ]
    },
    {
     "data": {
      "text/plain": [
       "{'Mean Training Accuracy': 0.9501870281283322,\n",
       " 'Mean Training Precision': 0.936888542952311,\n",
       " 'Mean Training Recall': 0.9640375874313332,\n",
       " 'Mean Training F1 Score': 0.9502691080701267,\n",
       " 'Mean Validation Accuracy': 0.9450503254423367,\n",
       " 'Mean Validation Precision': 0.8378956641253467,\n",
       " 'Mean Validation Recall': 0.9618297367955687,\n",
       " 'Mean Validation F1 Score': 0.8894147489316296}"
      ]
     },
     "execution_count": 78,
     "metadata": {},
     "output_type": "execute_result"
    }
   ],
   "source": [
    "KfoldCV(LinearSVC(random_state=0, tol=1e-5, dual=False, max_iter=10000), pd.DataFrame(X_probe_ss), y_probe, 10, 2)"
   ]
  },
  {
   "cell_type": "markdown",
   "metadata": {},
   "source": [
    "#### Stratified cross validation on probe"
   ]
  },
  {
   "cell_type": "code",
   "execution_count": 79,
   "metadata": {},
   "outputs": [
    {
     "name": "stdout",
     "output_type": "stream",
     "text": [
      ">Train: 0=60608, 1=60609, Test: 0=6735, 1=6734\n",
      ">Train: 0=60608, 1=60609, Test: 0=6735, 1=6734\n",
      ">Train: 0=60608, 1=60609, Test: 0=6735, 1=6734\n",
      ">Train: 0=60609, 1=60608, Test: 0=6734, 1=6735\n",
      ">Train: 0=60609, 1=60608, Test: 0=6734, 1=6735\n",
      ">Train: 0=60609, 1=60608, Test: 0=6734, 1=6735\n",
      ">Train: 0=60609, 1=60609, Test: 0=6734, 1=6734\n",
      ">Train: 0=60609, 1=60609, Test: 0=6734, 1=6734\n",
      ">Train: 0=60609, 1=60609, Test: 0=6734, 1=6734\n",
      ">Train: 0=60609, 1=60609, Test: 0=6734, 1=6734\n"
     ]
    },
    {
     "data": {
      "text/plain": [
       "{'Mean Training Accuracy': 0.7529298512247282,\n",
       " 'Mean Training Precision': 0.8501280070201528,\n",
       " 'Mean Training Recall': 0.6141840846035758,\n",
       " 'Mean Training F1 Score': 0.7130675086598577,\n",
       " 'Mean Validation Accuracy': 0.7530033992410561,\n",
       " 'Mean Validation Precision': 0.8499539256063862,\n",
       " 'Mean Validation Recall': 0.6145703715414184,\n",
       " 'Mean Validation F1 Score': 0.7132158870127203}"
      ]
     },
     "execution_count": 79,
     "metadata": {},
     "output_type": "execute_result"
    }
   ],
   "source": [
    "stratifiedCV(LinearSVC(random_state=0, tol=1e-5, dual=False, max_iter=10000), pd.DataFrame(X_probe), y_probe, 10, 2)"
   ]
  },
  {
   "cell_type": "markdown",
   "metadata": {},
   "source": [
    "#### Stratified cross validation on probe Standard Scaling"
   ]
  },
  {
   "cell_type": "code",
   "execution_count": 80,
   "metadata": {},
   "outputs": [
    {
     "name": "stdout",
     "output_type": "stream",
     "text": [
      ">Train: 0=60608, 1=60609, Test: 0=6735, 1=6734\n",
      ">Train: 0=60608, 1=60609, Test: 0=6735, 1=6734\n",
      ">Train: 0=60608, 1=60609, Test: 0=6735, 1=6734\n",
      ">Train: 0=60609, 1=60608, Test: 0=6734, 1=6735\n",
      ">Train: 0=60609, 1=60608, Test: 0=6734, 1=6735\n",
      ">Train: 0=60609, 1=60608, Test: 0=6734, 1=6735\n",
      ">Train: 0=60609, 1=60609, Test: 0=6734, 1=6734\n",
      ">Train: 0=60609, 1=60609, Test: 0=6734, 1=6734\n",
      ">Train: 0=60609, 1=60609, Test: 0=6734, 1=6734\n",
      ">Train: 0=60609, 1=60609, Test: 0=6734, 1=6734\n"
     ]
    },
    {
     "data": {
      "text/plain": [
       "{'Mean Training Accuracy': 0.9504732822076303,\n",
       " 'Mean Training Precision': 0.9372684988888154,\n",
       " 'Mean Training Recall': 0.9655725987886538,\n",
       " 'Mean Training F1 Score': 0.9512100045974357,\n",
       " 'Mean Validation Accuracy': 0.9504551448515365,\n",
       " 'Mean Validation Precision': 0.9372465292416428,\n",
       " 'Mean Validation Recall': 0.9655643171010654,\n",
       " 'Mean Validation F1 Score': 0.9511920317856953}"
      ]
     },
     "execution_count": 80,
     "metadata": {},
     "output_type": "execute_result"
    }
   ],
   "source": [
    "stratifiedCV(LinearSVC(random_state=0, tol=1e-5, dual=False, max_iter=10000), pd.DataFrame(X_probe_ss), y_probe, 10, 2)"
   ]
  },
  {
   "cell_type": "markdown",
   "metadata": {},
   "source": [
    "#### Predict on probe"
   ]
  },
  {
   "cell_type": "code",
   "execution_count": 81,
   "metadata": {},
   "outputs": [
    {
     "data": {
      "image/png": "[encoded data removed]",
      "text/plain": [
       "<Figure size 432x288 with 2 Axes>"
      ]
     },
     "metadata": {
      "needs_background": "light"
     },
     "output_type": "display_data"
    },
    {
     "name": "stdout",
     "output_type": "stream",
     "text": [
      "Accuracy: 0.77407 \n",
      "Precision: 0.91321 \n",
      "Recall: 0.60570 \n",
      "F-measure: 0.72833 \n"
     ]
    }
   ],
   "source": [
    "y_probe_rfe_prediction = SVM(X_probe, y_probe).predict(X_probe_test)\n",
    "plotConfusionMatrix(y_probe_rfe_prediction, y_probe_test, 2)"
   ]
  },
  {
   "cell_type": "code",
   "execution_count": 82,
   "metadata": {},
   "outputs": [
    {
     "data": {
      "image/png": "[encoded data removed]",
      "text/plain": [
       "<Figure size 432x288 with 2 Axes>"
      ]
     },
     "metadata": {
      "needs_background": "light"
     },
     "output_type": "display_data"
    },
    {
     "name": "stdout",
     "output_type": "stream",
     "text": [
      "Accuracy: 0.90449 \n",
      "Precision: 0.91045 \n",
      "Recall: 0.89723 \n",
      "F-measure: 0.90379 \n"
     ]
    }
   ],
   "source": [
    "y_probe_rfe_prediction = SVM(X_probe_ss, y_probe).predict(X_probe_test_ss)\n",
    "plotConfusionMatrix(y_probe_rfe_prediction, y_probe_test, 2)"
   ]
  },
  {
   "cell_type": "markdown",
   "metadata": {},
   "source": [
    "#### K-fold cross validation on r2l"
   ]
  },
  {
   "cell_type": "code",
   "execution_count": 83,
   "metadata": {},
   "outputs": [
    {
     "name": "stdout",
     "output_type": "stream",
     "text": [
      ">Train: 0=54080, 1=67137, Test: 0=13263, 1=206\n",
      ">Train: 0=54094, 1=67123, Test: 0=13249, 1=220\n",
      ">Train: 0=54054, 1=67163, Test: 0=13289, 1=180\n",
      ">Train: 0=54045, 1=67172, Test: 0=13298, 1=171\n",
      ">Train: 0=54082, 1=67135, Test: 0=13261, 1=208\n",
      ">Train: 0=66360, 1=54857, Test: 0=983, 1=12486\n",
      ">Train: 0=67343, 1=53875, Test: 0=0, 1=13468\n",
      ">Train: 0=67343, 1=53875, Test: 0=0, 1=13468\n",
      ">Train: 0=67343, 1=53875, Test: 0=0, 1=13468\n",
      ">Train: 0=67343, 1=53875, Test: 0=0, 1=13468\n"
     ]
    },
    {
     "data": {
      "text/plain": [
       "{'Mean Training Accuracy': 0.9133044510442542,\n",
       " 'Mean Training Precision': 0.9238354765921836,\n",
       " 'Mean Training Recall': 0.9066347086793851,\n",
       " 'Mean Training F1 Score': 0.9117056372033284,\n",
       " 'Mean Validation Accuracy': 0.9342772416515828,\n",
       " 'Mean Validation Precision': 0.5761764967741522,\n",
       " 'Mean Validation Recall': 0.9053960793220768,\n",
       " 'Mean Validation F1 Score': 0.6136657734221499}"
      ]
     },
     "execution_count": 83,
     "metadata": {},
     "output_type": "execute_result"
    }
   ],
   "source": [
    "KfoldCV(LinearSVC(random_state=0, tol=1e-5, dual=False, max_iter=10000), pd.DataFrame(X_r2l), y_r2l, 10, 3)"
   ]
  },
  {
   "cell_type": "markdown",
   "metadata": {},
   "source": [
    "#### K-fold cross validation on r2l Standard Scaling"
   ]
  },
  {
   "cell_type": "code",
   "execution_count": 84,
   "metadata": {},
   "outputs": [
    {
     "name": "stdout",
     "output_type": "stream",
     "text": [
      ">Train: 0=54080, 1=67137, Test: 0=13263, 1=206\n",
      ">Train: 0=54094, 1=67123, Test: 0=13249, 1=220\n",
      ">Train: 0=54054, 1=67163, Test: 0=13289, 1=180\n",
      ">Train: 0=54045, 1=67172, Test: 0=13298, 1=171\n",
      ">Train: 0=54082, 1=67135, Test: 0=13261, 1=208\n",
      ">Train: 0=66360, 1=54857, Test: 0=983, 1=12486\n",
      ">Train: 0=67343, 1=53875, Test: 0=0, 1=13468\n",
      ">Train: 0=67343, 1=53875, Test: 0=0, 1=13468\n",
      ">Train: 0=67343, 1=53875, Test: 0=0, 1=13468\n",
      ">Train: 0=67343, 1=53875, Test: 0=0, 1=13468\n"
     ]
    },
    {
     "data": {
      "text/plain": [
       "{'Mean Training Accuracy': 0.9740161087228559,\n",
       " 'Mean Training Precision': 0.9700632125076257,\n",
       " 'Mean Training Recall': 0.9774342624356323,\n",
       " 'Mean Training F1 Score': 0.9737325330145469,\n",
       " 'Mean Validation Accuracy': 0.9688090410471435,\n",
       " 'Mean Validation Precision': 0.6456559980815231,\n",
       " 'Mean Validation Recall': 0.9748239551461728,\n",
       " 'Mean Validation F1 Score': 0.7174953216638534}"
      ]
     },
     "execution_count": 84,
     "metadata": {},
     "output_type": "execute_result"
    }
   ],
   "source": [
    "KfoldCV(LinearSVC(random_state=0, tol=1e-5, dual=False, max_iter=10000), pd.DataFrame(X_r2l_ss), y_r2l, 10, 3)"
   ]
  },
  {
   "cell_type": "markdown",
   "metadata": {},
   "source": [
    "#### Stratified cross validation on r2l"
   ]
  },
  {
   "cell_type": "code",
   "execution_count": 85,
   "metadata": {},
   "outputs": [
    {
     "name": "stdout",
     "output_type": "stream",
     "text": [
      ">Train: 0=60608, 1=60609, Test: 0=6735, 1=6734\n",
      ">Train: 0=60608, 1=60609, Test: 0=6735, 1=6734\n",
      ">Train: 0=60608, 1=60609, Test: 0=6735, 1=6734\n",
      ">Train: 0=60609, 1=60608, Test: 0=6734, 1=6735\n",
      ">Train: 0=60609, 1=60608, Test: 0=6734, 1=6735\n",
      ">Train: 0=60609, 1=60608, Test: 0=6734, 1=6735\n",
      ">Train: 0=60609, 1=60609, Test: 0=6734, 1=6734\n",
      ">Train: 0=60609, 1=60609, Test: 0=6734, 1=6734\n",
      ">Train: 0=60609, 1=60609, Test: 0=6734, 1=6734\n",
      ">Train: 0=60609, 1=60609, Test: 0=6734, 1=6734\n"
     ]
    },
    {
     "data": {
      "text/plain": [
       "{'Mean Training Accuracy': 0.9160738773971966,\n",
       " 'Mean Training Precision': 0.9191715562089264,\n",
       " 'Mean Training Recall': 0.9141775288612731,\n",
       " 'Mean Training F1 Score': 0.9114805665960795,\n",
       " 'Mean Validation Accuracy': 0.9172450177257512,\n",
       " 'Mean Validation Precision': 0.9200896515350614,\n",
       " 'Mean Validation Recall': 0.9154609821647683,\n",
       " 'Mean Validation F1 Score': 0.9128035429014576}"
      ]
     },
     "execution_count": 85,
     "metadata": {},
     "output_type": "execute_result"
    }
   ],
   "source": [
    "stratifiedCV(LinearSVC(random_state=0, tol=1e-5, dual=False, max_iter=10000), pd.DataFrame(X_r2l), y_r2l, 10, 3)"
   ]
  },
  {
   "cell_type": "markdown",
   "metadata": {},
   "source": [
    "#### Stratified cross validation on r2l Standard Scaling"
   ]
  },
  {
   "cell_type": "code",
   "execution_count": 86,
   "metadata": {},
   "outputs": [
    {
     "name": "stdout",
     "output_type": "stream",
     "text": [
      ">Train: 0=60608, 1=60609, Test: 0=6735, 1=6734\n",
      ">Train: 0=60608, 1=60609, Test: 0=6735, 1=6734\n",
      ">Train: 0=60608, 1=60609, Test: 0=6735, 1=6734\n",
      ">Train: 0=60609, 1=60608, Test: 0=6734, 1=6735\n",
      ">Train: 0=60609, 1=60608, Test: 0=6734, 1=6735\n",
      ">Train: 0=60609, 1=60608, Test: 0=6734, 1=6735\n",
      ">Train: 0=60609, 1=60609, Test: 0=6734, 1=6734\n",
      ">Train: 0=60609, 1=60609, Test: 0=6734, 1=6734\n",
      ">Train: 0=60609, 1=60609, Test: 0=6734, 1=6734\n",
      ">Train: 0=60609, 1=60609, Test: 0=6734, 1=6734\n"
     ]
    },
    {
     "data": {
      "text/plain": [
       "{'Mean Training Accuracy': 0.9723232802349389,\n",
       " 'Mean Training Precision': 0.9696153061882914,\n",
       " 'Mean Training Recall': 0.9752065291035867,\n",
       " 'Mean Training F1 Score': 0.9724028501300032,\n",
       " 'Mean Validation Accuracy': 0.9721945847864625,\n",
       " 'Mean Validation Precision': 0.9693912086821879,\n",
       " 'Mean Validation Recall': 0.9751867254317143,\n",
       " 'Mean Validation F1 Score': 0.972278455917596}"
      ]
     },
     "execution_count": 86,
     "metadata": {},
     "output_type": "execute_result"
    }
   ],
   "source": [
    "stratifiedCV(LinearSVC(random_state=0, tol=1e-5, dual=False, max_iter=10000), pd.DataFrame(X_r2l_ss), y_r2l, 10, 3)"
   ]
  },
  {
   "cell_type": "markdown",
   "metadata": {},
   "source": [
    "#### Predict on r2l"
   ]
  },
  {
   "cell_type": "code",
   "execution_count": 87,
   "metadata": {},
   "outputs": [
    {
     "data": {
      "image/png": "[encoded data removed]",
      "text/plain": [
       "<Figure size 432x288 with 2 Axes>"
      ]
     },
     "metadata": {
      "needs_background": "light"
     },
     "output_type": "display_data"
    },
    {
     "name": "stdout",
     "output_type": "stream",
     "text": [
      "Accuracy: 0.59654 \n",
      "Precision: 0.86578 \n",
      "Recall: 0.22850 \n",
      "F-measure: 0.36158 \n"
     ]
    }
   ],
   "source": [
    "y_r2l_rfe_prediction = SVM(X_r2l, y_r2l).predict(X_r2l_test)\n",
    "plotConfusionMatrix(y_r2l_rfe_prediction, y_r2l_test, 3)"
   ]
  },
  {
   "cell_type": "code",
   "execution_count": 88,
   "metadata": {},
   "outputs": [
    {
     "data": {
      "image/png": "[encoded data removed]",
      "text/plain": [
       "<Figure size 432x288 with 2 Axes>"
      ]
     },
     "metadata": {
      "needs_background": "light"
     },
     "output_type": "display_data"
    },
    {
     "name": "stdout",
     "output_type": "stream",
     "text": [
      "Accuracy: 0.59654 \n",
      "Precision: 0.86578 \n",
      "Recall: 0.22850 \n",
      "F-measure: 0.36158 \n"
     ]
    }
   ],
   "source": [
    "y_probe_rfy_r2l_rfe_predictione_prediction = SVM(X_r2l_ss, y_r2l).predict(X_r2l_test_ss)\n",
    "plotConfusionMatrix(y_r2l_rfe_prediction, y_r2l_test, 3)"
   ]
  },
  {
   "cell_type": "markdown",
   "metadata": {},
   "source": [
    "#### K-fold cross validation on u2r"
   ]
  },
  {
   "cell_type": "code",
   "execution_count": 89,
   "metadata": {
    "scrolled": true
   },
   "outputs": [
    {
     "name": "stdout",
     "output_type": "stream",
     "text": [
      ">Train: 0=53885, 1=67332, Test: 0=13458, 1=11\n",
      ">Train: 0=53886, 1=67331, Test: 0=13457, 1=12\n",
      ">Train: 0=53886, 1=67331, Test: 0=13457, 1=12\n",
      ">Train: 0=53882, 1=67335, Test: 0=13461, 1=8\n",
      ">Train: 0=53883, 1=67334, Test: 0=13460, 1=9\n",
      ">Train: 0=67293, 1=53924, Test: 0=50, 1=13419\n",
      ">Train: 0=67343, 1=53875, Test: 0=0, 1=13468\n",
      ">Train: 0=67343, 1=53875, Test: 0=0, 1=13468\n",
      ">Train: 0=67343, 1=53875, Test: 0=0, 1=13468\n",
      ">Train: 0=67343, 1=53875, Test: 0=0, 1=13468\n"
     ]
    },
    {
     "data": {
      "text/plain": [
       "{'Mean Training Accuracy': 0.9732109401916722,\n",
       " 'Mean Training Precision': 0.9510051068672715,\n",
       " 'Mean Training Recall': 0.9977136831614566,\n",
       " 'Mean Training F1 Score': 0.9737706198230385,\n",
       " 'Mean Validation Accuracy': 0.9668348512527739,\n",
       " 'Mean Validation Precision': 0.5064637471016907,\n",
       " 'Mean Validation Recall': 0.9858730557674219,\n",
       " 'Mean Validation F1 Score': 0.5119294821198975}"
      ]
     },
     "execution_count": 89,
     "metadata": {},
     "output_type": "execute_result"
    }
   ],
   "source": [
    "KfoldCV(LinearSVC(random_state=0, tol=1e-5, dual=False, max_iter=10000), pd.DataFrame(X_u2r), y_u2r, 10, 4)"
   ]
  },
  {
   "cell_type": "markdown",
   "metadata": {},
   "source": [
    "#### K-fold cross validation on u2r Standard Scaling"
   ]
  },
  {
   "cell_type": "code",
   "execution_count": 90,
   "metadata": {},
   "outputs": [
    {
     "name": "stdout",
     "output_type": "stream",
     "text": [
      ">Train: 0=53885, 1=67332, Test: 0=13458, 1=11\n",
      ">Train: 0=53886, 1=67331, Test: 0=13457, 1=12\n",
      ">Train: 0=53886, 1=67331, Test: 0=13457, 1=12\n",
      ">Train: 0=53882, 1=67335, Test: 0=13461, 1=8\n",
      ">Train: 0=53883, 1=67334, Test: 0=13460, 1=9\n",
      ">Train: 0=67293, 1=53924, Test: 0=50, 1=13419\n",
      ">Train: 0=67343, 1=53875, Test: 0=0, 1=13468\n",
      ">Train: 0=67343, 1=53875, Test: 0=0, 1=13468\n",
      ">Train: 0=67343, 1=53875, Test: 0=0, 1=13468\n",
      ">Train: 0=67343, 1=53875, Test: 0=0, 1=13468\n"
     ]
    },
    {
     "data": {
      "text/plain": [
       "{'Mean Training Accuracy': 0.9851621997631611,\n",
       " 'Mean Training Precision': 0.9729149619178983,\n",
       " 'Mean Training Recall': 0.9974911068885453,\n",
       " 'Mean Training F1 Score': 0.9850477391417252,\n",
       " 'Mean Validation Accuracy': 0.9832651666677948,\n",
       " 'Mean Validation Precision': 0.512239591165055,\n",
       " 'Mean Validation Recall': 0.9772642922290811,\n",
       " 'Mean Validation F1 Score': 0.522921182699005}"
      ]
     },
     "execution_count": 90,
     "metadata": {},
     "output_type": "execute_result"
    }
   ],
   "source": [
    "KfoldCV(LinearSVC(random_state=0, tol=1e-5, dual=False, max_iter=10000), pd.DataFrame(X_u2r_ss), y_u2r, 10, 4)"
   ]
  },
  {
   "cell_type": "markdown",
   "metadata": {},
   "source": [
    "#### Stratified cross validation on u2r"
   ]
  },
  {
   "cell_type": "code",
   "execution_count": 91,
   "metadata": {
    "scrolled": true
   },
   "outputs": [
    {
     "name": "stdout",
     "output_type": "stream",
     "text": [
      ">Train: 0=60608, 1=60609, Test: 0=6735, 1=6734\n",
      ">Train: 0=60608, 1=60609, Test: 0=6735, 1=6734\n",
      ">Train: 0=60608, 1=60609, Test: 0=6735, 1=6734\n",
      ">Train: 0=60609, 1=60608, Test: 0=6734, 1=6735\n",
      ">Train: 0=60609, 1=60608, Test: 0=6734, 1=6735\n",
      ">Train: 0=60609, 1=60608, Test: 0=6734, 1=6735\n",
      ">Train: 0=60609, 1=60609, Test: 0=6734, 1=6734\n",
      ">Train: 0=60609, 1=60609, Test: 0=6734, 1=6734\n",
      ">Train: 0=60609, 1=60609, Test: 0=6734, 1=6734\n",
      ">Train: 0=60609, 1=60609, Test: 0=6734, 1=6734\n"
     ]
    },
    {
     "data": {
      "text/plain": [
       "{'Mean Training Accuracy': 0.9733866618757425,\n",
       " 'Mean Training Precision': 0.9510463656169044,\n",
       " 'Mean Training Recall': 0.9982956237055121,\n",
       " 'Mean Training F1 Score': 0.9740666081004266,\n",
       " 'Mean Validation Accuracy': 0.9733231517365454,\n",
       " 'Mean Validation Precision': 0.9509170929297783,\n",
       " 'Mean Validation Recall': 0.9983220299033218,\n",
       " 'Mean Validation F1 Score': 0.9740091342667376}"
      ]
     },
     "execution_count": 91,
     "metadata": {},
     "output_type": "execute_result"
    }
   ],
   "source": [
    "stratifiedCV(LinearSVC(random_state=0, tol=1e-5, dual=False, max_iter=10000), pd.DataFrame(X_u2r), y_u2r, 10, 4)"
   ]
  },
  {
   "cell_type": "markdown",
   "metadata": {},
   "source": [
    "#### Stratified cross validation on u2r Standard Scaling"
   ]
  },
  {
   "cell_type": "code",
   "execution_count": 92,
   "metadata": {},
   "outputs": [
    {
     "name": "stdout",
     "output_type": "stream",
     "text": [
      ">Train: 0=60608, 1=60609, Test: 0=6735, 1=6734\n",
      ">Train: 0=60608, 1=60609, Test: 0=6735, 1=6734\n",
      ">Train: 0=60608, 1=60609, Test: 0=6735, 1=6734\n",
      ">Train: 0=60609, 1=60608, Test: 0=6734, 1=6735\n",
      ">Train: 0=60609, 1=60608, Test: 0=6734, 1=6735\n",
      ">Train: 0=60609, 1=60608, Test: 0=6734, 1=6735\n",
      ">Train: 0=60609, 1=60609, Test: 0=6734, 1=6734\n",
      ">Train: 0=60609, 1=60609, Test: 0=6734, 1=6734\n",
      ">Train: 0=60609, 1=60609, Test: 0=6734, 1=6734\n",
      ">Train: 0=60609, 1=60609, Test: 0=6734, 1=6734\n"
     ]
    },
    {
     "data": {
      "text/plain": [
       "{'Mean Training Accuracy': 0.9853436885652508,\n",
       " 'Mean Training Precision': 0.9731573740104993,\n",
       " 'Mean Training Recall': 0.9982213779325869,\n",
       " 'Mean Training F1 Score': 0.9855300369690848,\n",
       " 'Mean Validation Accuracy': 0.9851729266533631,\n",
       " 'Mean Validation Precision': 0.9728282552775445,\n",
       " 'Mean Validation Recall': 0.9982329452485355,\n",
       " 'Mean Validation F1 Score': 0.9853653848416093}"
      ]
     },
     "execution_count": 92,
     "metadata": {},
     "output_type": "execute_result"
    }
   ],
   "source": [
    "stratifiedCV(LinearSVC(random_state=0, tol=1e-5, dual=False, max_iter=10000), pd.DataFrame(X_u2r_ss), y_u2r, 10, 4)"
   ]
  },
  {
   "cell_type": "markdown",
   "metadata": {},
   "source": [
    "#### Predict on u2r"
   ]
  },
  {
   "cell_type": "code",
   "execution_count": 93,
   "metadata": {},
   "outputs": [
    {
     "data": {
      "image/png": "[encoded data removed]",
      "text/plain": [
       "<Figure size 432x288 with 2 Axes>"
      ]
     },
     "metadata": {
      "needs_background": "light"
     },
     "output_type": "display_data"
    },
    {
     "name": "stdout",
     "output_type": "stream",
     "text": [
      "Accuracy: 0.83313 \n",
      "Precision: 0.97281 \n",
      "Recall: 0.68541 \n",
      "F-measure: 0.80420 \n"
     ]
    }
   ],
   "source": [
    "y_u2r_rfe_prediction = SVM(X_u2r, y_u2r).predict(X_u2r_test)\n",
    "plotConfusionMatrix(y_u2r_rfe_prediction, y_u2r_test, 4)"
   ]
  },
  {
   "cell_type": "code",
   "execution_count": 94,
   "metadata": {},
   "outputs": [
    {
     "data": {
      "image/png": "[encoded data removed]",
      "text/plain": [
       "<Figure size 432x288 with 2 Axes>"
      ]
     },
     "metadata": {
      "needs_background": "light"
     },
     "output_type": "display_data"
    },
    {
     "name": "stdout",
     "output_type": "stream",
     "text": [
      "Accuracy: 0.81099 \n",
      "Precision: 0.89119 \n",
      "Recall: 0.70847 \n",
      "F-measure: 0.78940 \n"
     ]
    }
   ],
   "source": [
    "y_u2r_rfe_prediction = SVM(X_u2r_ss, y_u2r).predict(X_u2r_test_ss)\n",
    "plotConfusionMatrix(y_u2r_rfe_prediction, y_u2r_test, 4)"
   ]
  },
  {
   "cell_type": "markdown",
   "metadata": {},
   "source": [
    "## Feature selection"
   ]
  },
  {
   "cell_type": "code",
   "execution_count": 95,
   "metadata": {},
   "outputs": [],
   "source": [
    "X_dos_rfe, rfecolname_dos = recursiveFeatureExtraction(LinearSVC(random_state=0, tol=1e-5, dual=False, max_iter=10000), X_dos, y_dos, 13)\n",
    "X_probe_rfe, rfecolname_probe = recursiveFeatureExtraction(LinearSVC(random_state=0, tol=1e-5, dual=False, max_iter=10000), X_probe, y_probe, 13)\n",
    "X_r2l_rfe, rfecolname_r2l = recursiveFeatureExtraction(LinearSVC(random_state=0, tol=1e-5, dual=False, max_iter=10000), X_r2l, y_r2l, 13)\n",
    "X_u2r_rfe, rfecolname_u2r = recursiveFeatureExtraction(LinearSVC(random_state=0, tol=1e-5, dual=False, max_iter=10000), X_u2r, y_u2r, 13)\n",
    "\n",
    "X_dos_test_rfe=X_dos_test.values[:,rfecolname_dos]\n",
    "X_probe_test_rfe=X_probe_test.values[:,rfecolname_probe]\n",
    "X_r2l_test_rfe=X_r2l_test.values[:,rfecolname_r2l]\n",
    "X_u2r_test_rfe=X_u2r_test.values[:,rfecolname_u2r]"
   ]
  },
  {
   "cell_type": "code",
   "execution_count": 96,
   "metadata": {},
   "outputs": [],
   "source": [
    "X_dos_rfe_ss, rfecolname_dosSS = recursiveFeatureExtraction(LinearSVC(random_state=0, tol=1e-5, dual=False, max_iter=10000), X_dos_ss, y_dos, 13)\n",
    "X_probe_rfe_ss, rfecolname_probeSS = recursiveFeatureExtraction(LinearSVC(random_state=0, tol=1e-5, dual=False, max_iter=10000), X_probe_ss, y_probe, 13)\n",
    "X_r2l_rfe_ss, rfecolname_r2lSS = recursiveFeatureExtraction(LinearSVC(random_state=0, tol=1e-5, dual=False, max_iter=10000), X_r2l_ss, y_r2l, 13)\n",
    "X_u2r_rfe_ss, rfecolname_u2rSS = recursiveFeatureExtraction(LinearSVC(random_state=0, tol=1e-5, dual=False, max_iter=10000), X_u2r_ss, y_u2r, 13)\n",
    "\n",
    "X_dos_test_rfe_ss=X_dos_test_ss[:,rfecolname_dosSS]\n",
    "X_probe_test_rfe_ss=X_probe_test_ss[:,rfecolname_probeSS]\n",
    "X_r2l_test_rfe_ss=X_r2l_test_ss[:,rfecolname_r2lSS]\n",
    "X_u2r_test_rfe_ss=X_u2r_test_ss[:,rfecolname_u2rSS]"
   ]
  },
  {
   "cell_type": "markdown",
   "metadata": {},
   "source": [
    "#### K-fold cross validation on dos"
   ]
  },
  {
   "cell_type": "code",
   "execution_count": 97,
   "metadata": {},
   "outputs": [
    {
     "name": "stdout",
     "output_type": "stream",
     "text": [
      ">Train: 0=59387, 1=61830, Test: 0=7956, 1=5513\n",
      ">Train: 0=59336, 1=61881, Test: 0=8007, 1=5462\n",
      ">Train: 0=59437, 1=61780, Test: 0=7906, 1=5563\n",
      ">Train: 0=59306, 1=61911, Test: 0=8037, 1=5432\n",
      ">Train: 0=59299, 1=61918, Test: 0=8044, 1=5425\n",
      ">Train: 0=59294, 1=61923, Test: 0=8049, 1=5420\n",
      ">Train: 0=59294, 1=61924, Test: 0=8049, 1=5419\n",
      ">Train: 0=59327, 1=61891, Test: 0=8016, 1=5452\n",
      ">Train: 0=64064, 1=57154, Test: 0=3279, 1=10189\n",
      ">Train: 0=67343, 1=53875, Test: 0=0, 1=13468\n"
     ]
    },
    {
     "data": {
      "text/plain": [
       "{'Mean Training Accuracy': 0.9638385280126119,\n",
       " 'Mean Training Precision': 0.9722110095468357,\n",
       " 'Mean Training Recall': 0.9547598839986687,\n",
       " 'Mean Training F1 Score': 0.9633584342839114,\n",
       " 'Mean Validation Accuracy': 0.9602703084179065,\n",
       " 'Mean Validation Precision': 0.9638611727490602,\n",
       " 'Mean Validation Recall': 0.9545941651459829,\n",
       " 'Mean Validation F1 Score': 0.9590022866004755}"
      ]
     },
     "execution_count": 97,
     "metadata": {},
     "output_type": "execute_result"
    }
   ],
   "source": [
    "KfoldCV(LinearSVC(random_state=0, tol=1e-5, dual=False, max_iter=10000), pd.DataFrame(X_dos_rfe), y_dos, 10, 1)"
   ]
  },
  {
   "cell_type": "markdown",
   "metadata": {},
   "source": [
    "#### K-fold cross validation on dos Standard Scaler"
   ]
  },
  {
   "cell_type": "code",
   "execution_count": 98,
   "metadata": {},
   "outputs": [
    {
     "name": "stdout",
     "output_type": "stream",
     "text": [
      ">Train: 0=59387, 1=61830, Test: 0=7956, 1=5513\n",
      ">Train: 0=59336, 1=61881, Test: 0=8007, 1=5462\n",
      ">Train: 0=59437, 1=61780, Test: 0=7906, 1=5563\n",
      ">Train: 0=59306, 1=61911, Test: 0=8037, 1=5432\n",
      ">Train: 0=59299, 1=61918, Test: 0=8044, 1=5425\n",
      ">Train: 0=59294, 1=61923, Test: 0=8049, 1=5420\n",
      ">Train: 0=59294, 1=61924, Test: 0=8049, 1=5419\n",
      ">Train: 0=59327, 1=61891, Test: 0=8016, 1=5452\n",
      ">Train: 0=64064, 1=57154, Test: 0=3279, 1=10189\n",
      ">Train: 0=67343, 1=53875, Test: 0=0, 1=13468\n"
     ]
    },
    {
     "data": {
      "text/plain": [
       "{'Mean Training Accuracy': 0.9828060973254583,\n",
       " 'Mean Training Precision': 0.9872532202466335,\n",
       " 'Mean Training Recall': 0.9782221002679472,\n",
       " 'Mean Training F1 Score': 0.9827168772898984,\n",
       " 'Mean Validation Accuracy': 0.9824405773938034,\n",
       " 'Mean Validation Precision': 0.9841390304346053,\n",
       " 'Mean Validation Recall': 0.9783562793347065,\n",
       " 'Mean Validation F1 Score': 0.9812215442082909}"
      ]
     },
     "execution_count": 98,
     "metadata": {},
     "output_type": "execute_result"
    }
   ],
   "source": [
    "KfoldCV(LinearSVC(random_state=0, tol=1e-5, dual=False, max_iter=10000), pd.DataFrame(X_dos_rfe_ss), y_dos, 10, 1)"
   ]
  },
  {
   "cell_type": "markdown",
   "metadata": {},
   "source": [
    "#### Stratified cross validation on dos"
   ]
  },
  {
   "cell_type": "code",
   "execution_count": 99,
   "metadata": {},
   "outputs": [
    {
     "name": "stdout",
     "output_type": "stream",
     "text": [
      ">Train: 0=60608, 1=60609, Test: 0=6735, 1=6734\n",
      ">Train: 0=60608, 1=60609, Test: 0=6735, 1=6734\n",
      ">Train: 0=60608, 1=60609, Test: 0=6735, 1=6734\n",
      ">Train: 0=60609, 1=60608, Test: 0=6734, 1=6735\n",
      ">Train: 0=60609, 1=60608, Test: 0=6734, 1=6735\n",
      ">Train: 0=60609, 1=60608, Test: 0=6734, 1=6735\n",
      ">Train: 0=60609, 1=60609, Test: 0=6734, 1=6734\n",
      ">Train: 0=60609, 1=60609, Test: 0=6734, 1=6734\n",
      ">Train: 0=60609, 1=60609, Test: 0=6734, 1=6734\n",
      ">Train: 0=60609, 1=60609, Test: 0=6734, 1=6734\n"
     ]
    },
    {
     "data": {
      "text/plain": [
       "{'Mean Training Accuracy': 0.9646263644758564,\n",
       " 'Mean Training Precision': 0.9697509191094158,\n",
       " 'Mean Training Recall': 0.959172527966013,\n",
       " 'Mean Training F1 Score': 0.9644325558355865,\n",
       " 'Mean Validation Accuracy': 0.9645397378525302,\n",
       " 'Mean Validation Precision': 0.9695946387904091,\n",
       " 'Mean Validation Recall': 0.9591642782065944,\n",
       " 'Mean Validation F1 Score': 0.9643478456948044}"
      ]
     },
     "execution_count": 99,
     "metadata": {},
     "output_type": "execute_result"
    }
   ],
   "source": [
    "stratifiedCV(LinearSVC(random_state=0, tol=1e-5, dual=False, max_iter=10000), pd.DataFrame(X_dos_rfe), y_dos, 10, 1)"
   ]
  },
  {
   "cell_type": "markdown",
   "metadata": {},
   "source": [
    "#### Stratified cross validation on dos Standard Scaler"
   ]
  },
  {
   "cell_type": "code",
   "execution_count": 100,
   "metadata": {},
   "outputs": [
    {
     "name": "stdout",
     "output_type": "stream",
     "text": [
      ">Train: 0=60608, 1=60609, Test: 0=6735, 1=6734\n",
      ">Train: 0=60608, 1=60609, Test: 0=6735, 1=6734\n",
      ">Train: 0=60608, 1=60609, Test: 0=6735, 1=6734\n",
      ">Train: 0=60609, 1=60608, Test: 0=6734, 1=6735\n",
      ">Train: 0=60609, 1=60608, Test: 0=6734, 1=6735\n",
      ">Train: 0=60609, 1=60608, Test: 0=6734, 1=6735\n",
      ">Train: 0=60609, 1=60609, Test: 0=6734, 1=6734\n",
      ">Train: 0=60609, 1=60609, Test: 0=6734, 1=6734\n",
      ">Train: 0=60609, 1=60609, Test: 0=6734, 1=6734\n",
      ">Train: 0=60609, 1=60609, Test: 0=6734, 1=6734\n"
     ]
    },
    {
     "data": {
      "text/plain": [
       "{'Mean Training Accuracy': 0.9828440468733243,\n",
       " 'Mean Training Precision': 0.9873128676839764,\n",
       " 'Mean Training Recall': 0.9782588969898596,\n",
       " 'Mean Training F1 Score': 0.9827650183426482,\n",
       " 'Mean Validation Accuracy': 0.9828044341798148,\n",
       " 'Mean Validation Precision': 0.9872192982938282,\n",
       " 'Mean Validation Recall': 0.9782754028411043,\n",
       " 'Mean Validation F1 Score': 0.9827254560300149}"
      ]
     },
     "execution_count": 100,
     "metadata": {},
     "output_type": "execute_result"
    }
   ],
   "source": [
    "stratifiedCV(LinearSVC(random_state=0, tol=1e-5, dual=False, max_iter=10000), pd.DataFrame(X_dos_rfe_ss), y_dos, 10, 1)"
   ]
  },
  {
   "cell_type": "markdown",
   "metadata": {},
   "source": [
    "#### Predict on dos"
   ]
  },
  {
   "cell_type": "code",
   "execution_count": 101,
   "metadata": {},
   "outputs": [
    {
     "data": {
      "image/png": "[encoded data removed]",
      "text/plain": [
       "<Figure size 432x288 with 2 Axes>"
      ]
     },
     "metadata": {
      "needs_background": "light"
     },
     "output_type": "display_data"
    },
    {
     "name": "stdout",
     "output_type": "stream",
     "text": [
      "Accuracy: 0.88008 \n",
      "Precision: 0.96103 \n",
      "Recall: 0.79230 \n",
      "F-measure: 0.86854 \n"
     ]
    }
   ],
   "source": [
    "y_dos_rfe_prediction = SVM(X_dos_rfe, y_dos).predict(X_dos_test_rfe)\n",
    "plotConfusionMatrix(y_dos_rfe_prediction, y_dos_test, 1)"
   ]
  },
  {
   "cell_type": "code",
   "execution_count": 102,
   "metadata": {},
   "outputs": [
    {
     "data": {
      "image/png": "[encoded data removed]",
      "text/plain": [
       "<Figure size 432x288 with 2 Axes>"
      ]
     },
     "metadata": {
      "needs_background": "light"
     },
     "output_type": "display_data"
    },
    {
     "name": "stdout",
     "output_type": "stream",
     "text": [
      "Accuracy: 0.86407 \n",
      "Precision: 0.89358 \n",
      "Recall: 0.82659 \n",
      "F-measure: 0.85878 \n"
     ]
    }
   ],
   "source": [
    "y_dos_rfe_prediction = SVM(X_dos_rfe_ss, y_dos).predict(X_dos_test_rfe_ss)\n",
    "plotConfusionMatrix(y_dos_rfe_prediction, y_dos_test, 1)"
   ]
  },
  {
   "cell_type": "markdown",
   "metadata": {},
   "source": [
    "#### K-fold cross validation on probe"
   ]
  },
  {
   "cell_type": "code",
   "execution_count": 103,
   "metadata": {},
   "outputs": [
    {
     "name": "stdout",
     "output_type": "stream",
     "text": [
      ">Train: 0=55814, 1=65403, Test: 0=11529, 1=1940\n",
      ">Train: 0=55943, 1=65274, Test: 0=11400, 1=2069\n",
      ">Train: 0=55894, 1=65323, Test: 0=11449, 1=2020\n",
      ">Train: 0=55775, 1=65442, Test: 0=11568, 1=1901\n",
      ">Train: 0=55895, 1=65322, Test: 0=11448, 1=2021\n",
      ">Train: 0=57394, 1=63823, Test: 0=9949, 1=3520\n",
      ">Train: 0=67343, 1=53875, Test: 0=0, 1=13468\n",
      ">Train: 0=67343, 1=53875, Test: 0=0, 1=13468\n",
      ">Train: 0=67343, 1=53875, Test: 0=0, 1=13468\n",
      ">Train: 0=67343, 1=53875, Test: 0=0, 1=13468\n"
     ]
    },
    {
     "data": {
      "text/plain": [
       "{'Mean Training Accuracy': 0.9490535159730301,\n",
       " 'Mean Training Precision': 0.9392300184724893,\n",
       " 'Mean Training Recall': 0.9594457431551039,\n",
       " 'Mean Training F1 Score': 0.9492287933561341,\n",
       " 'Mean Validation Accuracy': 0.9451319872936177,\n",
       " 'Mean Validation Precision': 0.8397783090985481,\n",
       " 'Mean Validation Recall': 0.9578331539066216,\n",
       " 'Mean Validation F1 Score': 0.8891137648537066}"
      ]
     },
     "execution_count": 103,
     "metadata": {},
     "output_type": "execute_result"
    }
   ],
   "source": [
    "KfoldCV(LinearSVC(random_state=0, tol=1e-5, dual=False, max_iter=10000), pd.DataFrame(X_probe_rfe), y_probe, 10, 2)"
   ]
  },
  {
   "cell_type": "markdown",
   "metadata": {},
   "source": [
    "#### K-fold cross validation on probe Standard Scaler"
   ]
  },
  {
   "cell_type": "code",
   "execution_count": 104,
   "metadata": {},
   "outputs": [
    {
     "name": "stdout",
     "output_type": "stream",
     "text": [
      ">Train: 0=55814, 1=65403, Test: 0=11529, 1=1940\n",
      ">Train: 0=55943, 1=65274, Test: 0=11400, 1=2069\n",
      ">Train: 0=55894, 1=65323, Test: 0=11449, 1=2020\n",
      ">Train: 0=55775, 1=65442, Test: 0=11568, 1=1901\n",
      ">Train: 0=55895, 1=65322, Test: 0=11448, 1=2021\n",
      ">Train: 0=57394, 1=63823, Test: 0=9949, 1=3520\n",
      ">Train: 0=67343, 1=53875, Test: 0=0, 1=13468\n",
      ">Train: 0=67343, 1=53875, Test: 0=0, 1=13468\n",
      ">Train: 0=67343, 1=53875, Test: 0=0, 1=13468\n",
      ">Train: 0=67343, 1=53875, Test: 0=0, 1=13468\n"
     ]
    },
    {
     "data": {
      "text/plain": [
       "{'Mean Training Accuracy': 0.9505995092391784,\n",
       " 'Mean Training Precision': 0.9379211393672217,\n",
       " 'Mean Training Recall': 0.9637692136596859,\n",
       " 'Mean Training F1 Score': 0.9506692446328262,\n",
       " 'Mean Validation Accuracy': 0.9460155223834784,\n",
       " 'Mean Validation Precision': 0.8403721128572027,\n",
       " 'Mean Validation Recall': 0.962193606638509,\n",
       " 'Mean Validation F1 Score': 0.891216218604342}"
      ]
     },
     "execution_count": 104,
     "metadata": {},
     "output_type": "execute_result"
    }
   ],
   "source": [
    "KfoldCV(LinearSVC(random_state=0, tol=1e-5, dual=False, max_iter=10000), pd.DataFrame(X_probe_rfe_ss), y_probe, 10, 2)"
   ]
  },
  {
   "cell_type": "markdown",
   "metadata": {},
   "source": [
    "#### Stratified cross validation on probe"
   ]
  },
  {
   "cell_type": "code",
   "execution_count": 105,
   "metadata": {},
   "outputs": [
    {
     "name": "stdout",
     "output_type": "stream",
     "text": [
      ">Train: 0=60608, 1=60609, Test: 0=6735, 1=6734\n",
      ">Train: 0=60608, 1=60609, Test: 0=6735, 1=6734\n",
      ">Train: 0=60608, 1=60609, Test: 0=6735, 1=6734\n",
      ">Train: 0=60609, 1=60608, Test: 0=6734, 1=6735\n",
      ">Train: 0=60609, 1=60608, Test: 0=6734, 1=6735\n",
      ">Train: 0=60609, 1=60608, Test: 0=6734, 1=6735\n",
      ">Train: 0=60609, 1=60609, Test: 0=6734, 1=6734\n",
      ">Train: 0=60609, 1=60609, Test: 0=6734, 1=6734\n",
      ">Train: 0=60609, 1=60609, Test: 0=6734, 1=6734\n",
      ">Train: 0=60609, 1=60609, Test: 0=6734, 1=6734\n"
     ]
    },
    {
     "data": {
      "text/plain": [
       "{'Mean Training Accuracy': 0.9490477442475882,\n",
       " 'Mean Training Precision': 0.9395637210344472,\n",
       " 'Mean Training Recall': 0.9598357988464776,\n",
       " 'Mean Training F1 Score': 0.9495915637108476,\n",
       " 'Mean Validation Accuracy': 0.9489776312183322,\n",
       " 'Mean Validation Precision': 0.9394264811351087,\n",
       " 'Mean Validation Recall': 0.9598473149475376,\n",
       " 'Mean Validation F1 Score': 0.9495254698849218}"
      ]
     },
     "execution_count": 105,
     "metadata": {},
     "output_type": "execute_result"
    }
   ],
   "source": [
    "stratifiedCV(LinearSVC(random_state=0, tol=1e-5, dual=False, max_iter=10000), pd.DataFrame(X_probe_rfe), y_probe, 10, 2)"
   ]
  },
  {
   "cell_type": "markdown",
   "metadata": {},
   "source": [
    "#### Stratified cross validation on probe Standard Scaler"
   ]
  },
  {
   "cell_type": "code",
   "execution_count": 106,
   "metadata": {},
   "outputs": [
    {
     "name": "stdout",
     "output_type": "stream",
     "text": [
      ">Train: 0=60608, 1=60609, Test: 0=6735, 1=6734\n",
      ">Train: 0=60608, 1=60609, Test: 0=6735, 1=6734\n",
      ">Train: 0=60608, 1=60609, Test: 0=6735, 1=6734\n",
      ">Train: 0=60609, 1=60608, Test: 0=6734, 1=6735\n",
      ">Train: 0=60609, 1=60608, Test: 0=6734, 1=6735\n",
      ">Train: 0=60609, 1=60608, Test: 0=6734, 1=6735\n",
      ">Train: 0=60609, 1=60609, Test: 0=6734, 1=6734\n",
      ">Train: 0=60609, 1=60609, Test: 0=6734, 1=6734\n",
      ">Train: 0=60609, 1=60609, Test: 0=6734, 1=6734\n",
      ">Train: 0=60609, 1=60609, Test: 0=6734, 1=6734\n"
     ]
    },
    {
     "data": {
      "text/plain": [
       "{'Mean Training Accuracy': 0.9505920771402854,\n",
       " 'Mean Training Precision': 0.9379195496457123,\n",
       " 'Mean Training Recall': 0.9650611212540392,\n",
       " 'Mean Training F1 Score': 0.9512967678998476,\n",
       " 'Mean Validation Accuracy': 0.9504848481888353,\n",
       " 'Mean Validation Precision': 0.93783012229583,\n",
       " 'Mean Validation Recall': 0.9649406583705025,\n",
       " 'Mean Validation F1 Score': 0.9511892697673229}"
      ]
     },
     "execution_count": 106,
     "metadata": {},
     "output_type": "execute_result"
    }
   ],
   "source": [
    "stratifiedCV(LinearSVC(random_state=0, tol=1e-5, dual=False, max_iter=10000), pd.DataFrame(X_probe_rfe_ss), y_probe, 10, 2)"
   ]
  },
  {
   "cell_type": "markdown",
   "metadata": {},
   "source": [
    "#### Predict on probe"
   ]
  },
  {
   "cell_type": "code",
   "execution_count": 107,
   "metadata": {},
   "outputs": [
    {
     "data": {
      "image/png": "[encoded data removed]",
      "text/plain": [
       "<Figure size 432x288 with 2 Axes>"
      ]
     },
     "metadata": {
      "needs_background": "light"
     },
     "output_type": "display_data"
    },
    {
     "name": "stdout",
     "output_type": "stream",
     "text": [
      "Accuracy: 0.92184 \n",
      "Precision: 0.96652 \n",
      "Recall: 0.87396 \n",
      "F-measure: 0.91791 \n"
     ]
    }
   ],
   "source": [
    "y_probe_rfe_prediction = SVM(X_probe_rfe, y_probe).predict(X_probe_test_rfe)\n",
    "plotConfusionMatrix(y_probe_rfe_prediction, y_probe_test, 2)"
   ]
  },
  {
   "cell_type": "code",
   "execution_count": 108,
   "metadata": {},
   "outputs": [
    {
     "data": {
      "image/png": "[encoded data removed]",
      "text/plain": [
       "<Figure size 432x288 with 2 Axes>"
      ]
     },
     "metadata": {
      "needs_background": "light"
     },
     "output_type": "display_data"
    },
    {
     "name": "stdout",
     "output_type": "stream",
     "text": [
      "Accuracy: 0.92184 \n",
      "Precision: 0.96652 \n",
      "Recall: 0.87396 \n",
      "F-measure: 0.91791 \n"
     ]
    }
   ],
   "source": [
    "y_r2l_rfe_prediction = SVM(X_probe_rfe_ss, y_probe).predict(X_probe_test_rfe_ss)\n",
    "plotConfusionMatrix(y_probe_rfe_prediction, y_probe_test, 2)"
   ]
  },
  {
   "cell_type": "markdown",
   "metadata": {},
   "source": [
    "#### K-fold cross validation on r2l"
   ]
  },
  {
   "cell_type": "code",
   "execution_count": 109,
   "metadata": {},
   "outputs": [
    {
     "name": "stdout",
     "output_type": "stream",
     "text": [
      ">Train: 0=54080, 1=67137, Test: 0=13263, 1=206\n",
      ">Train: 0=54094, 1=67123, Test: 0=13249, 1=220\n",
      ">Train: 0=54054, 1=67163, Test: 0=13289, 1=180\n",
      ">Train: 0=54045, 1=67172, Test: 0=13298, 1=171\n",
      ">Train: 0=54082, 1=67135, Test: 0=13261, 1=208\n",
      ">Train: 0=66360, 1=54857, Test: 0=983, 1=12486\n",
      ">Train: 0=67343, 1=53875, Test: 0=0, 1=13468\n",
      ">Train: 0=67343, 1=53875, Test: 0=0, 1=13468\n",
      ">Train: 0=67343, 1=53875, Test: 0=0, 1=13468\n",
      ">Train: 0=67343, 1=53875, Test: 0=0, 1=13468\n"
     ]
    },
    {
     "data": {
      "text/plain": [
       "{'Mean Training Accuracy': 0.9453956282781222,\n",
       " 'Mean Training Precision': 0.9413925165604159,\n",
       " 'Mean Training Recall': 0.9486454089634704,\n",
       " 'Mean Training F1 Score': 0.944983536389298,\n",
       " 'Mean Validation Accuracy': 0.9436839349917528,\n",
       " 'Mean Validation Precision': 0.5941837371566437,\n",
       " 'Mean Validation Recall': 0.9470153201905953,\n",
       " 'Mean Validation F1 Score': 0.6439280868092304}"
      ]
     },
     "execution_count": 109,
     "metadata": {},
     "output_type": "execute_result"
    }
   ],
   "source": [
    "KfoldCV(LinearSVC(random_state=0, tol=1e-5, dual=False, max_iter=10000), pd.DataFrame(X_r2l_rfe), y_r2l, 10, 3)"
   ]
  },
  {
   "cell_type": "markdown",
   "metadata": {},
   "source": [
    "#### K-fold cross validation on r2l Standard Scaler"
   ]
  },
  {
   "cell_type": "code",
   "execution_count": 110,
   "metadata": {},
   "outputs": [
    {
     "name": "stdout",
     "output_type": "stream",
     "text": [
      ">Train: 0=54080, 1=67137, Test: 0=13263, 1=206\n",
      ">Train: 0=54094, 1=67123, Test: 0=13249, 1=220\n",
      ">Train: 0=54054, 1=67163, Test: 0=13289, 1=180\n",
      ">Train: 0=54045, 1=67172, Test: 0=13298, 1=171\n",
      ">Train: 0=54082, 1=67135, Test: 0=13261, 1=208\n",
      ">Train: 0=66360, 1=54857, Test: 0=983, 1=12486\n",
      ">Train: 0=67343, 1=53875, Test: 0=0, 1=13468\n",
      ">Train: 0=67343, 1=53875, Test: 0=0, 1=13468\n",
      ">Train: 0=67343, 1=53875, Test: 0=0, 1=13468\n",
      ">Train: 0=67343, 1=53875, Test: 0=0, 1=13468\n"
     ]
    },
    {
     "data": {
      "text/plain": [
       "{'Mean Training Accuracy': 0.9664858372023659,\n",
       " 'Mean Training Precision': 0.9671294432951493,\n",
       " 'Mean Training Recall': 0.9647936731739429,\n",
       " 'Mean Training F1 Score': 0.9659367205504369,\n",
       " 'Mean Validation Accuracy': 0.957241217405298,\n",
       " 'Mean Validation Precision': 0.6281711615539912,\n",
       " 'Mean Validation Recall': 0.9592256818661686,\n",
       " 'Mean Validation F1 Score': 0.691095805443564}"
      ]
     },
     "execution_count": 110,
     "metadata": {},
     "output_type": "execute_result"
    }
   ],
   "source": [
    "KfoldCV(LinearSVC(random_state=0, tol=1e-5, dual=False, max_iter=10000), pd.DataFrame(X_r2l_rfe_ss), y_r2l, 10, 3)"
   ]
  },
  {
   "cell_type": "markdown",
   "metadata": {},
   "source": [
    "#### Stratified cross validation on r2l"
   ]
  },
  {
   "cell_type": "code",
   "execution_count": 111,
   "metadata": {},
   "outputs": [
    {
     "name": "stdout",
     "output_type": "stream",
     "text": [
      ">Train: 0=60608, 1=60609, Test: 0=6735, 1=6734\n",
      ">Train: 0=60608, 1=60609, Test: 0=6735, 1=6734\n",
      ">Train: 0=60608, 1=60609, Test: 0=6735, 1=6734\n",
      ">Train: 0=60609, 1=60608, Test: 0=6734, 1=6735\n",
      ">Train: 0=60609, 1=60608, Test: 0=6734, 1=6735\n",
      ">Train: 0=60609, 1=60608, Test: 0=6734, 1=6735\n",
      ">Train: 0=60609, 1=60609, Test: 0=6734, 1=6734\n",
      ">Train: 0=60609, 1=60609, Test: 0=6734, 1=6734\n",
      ">Train: 0=60609, 1=60609, Test: 0=6734, 1=6734\n",
      ">Train: 0=60609, 1=60609, Test: 0=6734, 1=6734\n"
     ]
    },
    {
     "data": {
      "text/plain": [
       "{'Mean Training Accuracy': 0.9454038774832891,\n",
       " 'Mean Training Precision': 0.9424967481695496,\n",
       " 'Mean Training Recall': 0.9486888844518614,\n",
       " 'Mean Training F1 Score': 0.9455826594565891,\n",
       " 'Mean Validation Accuracy': 0.9454360393906759,\n",
       " 'Mean Validation Precision': 0.9425554597052266,\n",
       " 'Mean Validation Recall': 0.9486954851765542,\n",
       " 'Mean Validation F1 Score': 0.9456137250199628}"
      ]
     },
     "execution_count": 111,
     "metadata": {},
     "output_type": "execute_result"
    }
   ],
   "source": [
    "stratifiedCV(LinearSVC(random_state=0, tol=1e-5, dual=False, max_iter=10000), pd.DataFrame(X_r2l_rfe), y_r2l, 10, 3)"
   ]
  },
  {
   "cell_type": "markdown",
   "metadata": {},
   "source": [
    "#### Stratified cross validation on r2l Standard Scaler"
   ]
  },
  {
   "cell_type": "code",
   "execution_count": 112,
   "metadata": {},
   "outputs": [
    {
     "name": "stdout",
     "output_type": "stream",
     "text": [
      ">Train: 0=60608, 1=60609, Test: 0=6735, 1=6734\n",
      ">Train: 0=60608, 1=60609, Test: 0=6735, 1=6734\n",
      ">Train: 0=60608, 1=60609, Test: 0=6735, 1=6734\n",
      ">Train: 0=60609, 1=60608, Test: 0=6734, 1=6735\n",
      ">Train: 0=60609, 1=60608, Test: 0=6734, 1=6735\n",
      ">Train: 0=60609, 1=60608, Test: 0=6734, 1=6735\n",
      ">Train: 0=60609, 1=60609, Test: 0=6734, 1=6734\n",
      ">Train: 0=60609, 1=60609, Test: 0=6734, 1=6734\n",
      ">Train: 0=60609, 1=60609, Test: 0=6734, 1=6734\n",
      ">Train: 0=60609, 1=60609, Test: 0=6734, 1=6734\n"
     ]
    },
    {
     "data": {
      "text/plain": [
       "{'Mean Training Accuracy': 0.9665650309929875,\n",
       " 'Mean Training Precision': 0.9657515491110015,\n",
       " 'Mean Training Recall': 0.967438668275539,\n",
       " 'Mean Training F1 Score': 0.9665942763599034,\n",
       " 'Mean Validation Accuracy': 0.966551824457014,\n",
       " 'Mean Validation Precision': 0.9658163076707543,\n",
       " 'Mean Validation Recall': 0.9673462836046356,\n",
       " 'Mean Validation F1 Score': 0.9665789322059994}"
      ]
     },
     "execution_count": 112,
     "metadata": {},
     "output_type": "execute_result"
    }
   ],
   "source": [
    "stratifiedCV(LinearSVC(random_state=0, tol=1e-5, dual=False, max_iter=10000), pd.DataFrame(X_r2l_rfe_ss), y_r2l, 10, 3)"
   ]
  },
  {
   "cell_type": "markdown",
   "metadata": {},
   "source": [
    "#### Predict on r2l"
   ]
  },
  {
   "cell_type": "code",
   "execution_count": 113,
   "metadata": {},
   "outputs": [
    {
     "data": {
      "image/png": "[encoded data removed]",
      "text/plain": [
       "<Figure size 432x288 with 2 Axes>"
      ]
     },
     "metadata": {
      "needs_background": "light"
     },
     "output_type": "display_data"
    },
    {
     "name": "stdout",
     "output_type": "stream",
     "text": [
      "Accuracy: 0.69380 \n",
      "Precision: 0.90196 \n",
      "Recall: 0.43487 \n",
      "F-measure: 0.58681 \n"
     ]
    }
   ],
   "source": [
    "y_r2l_rfe_prediction = SVM(X_r2l_rfe, y_r2l).predict(X_r2l_test_rfe)\n",
    "plotConfusionMatrix(y_r2l_rfe_prediction, y_r2l_test, 3)"
   ]
  },
  {
   "cell_type": "code",
   "execution_count": 114,
   "metadata": {},
   "outputs": [
    {
     "data": {
      "image/png": "[encoded data removed]",
      "text/plain": [
       "<Figure size 432x288 with 2 Axes>"
      ]
     },
     "metadata": {
      "needs_background": "light"
     },
     "output_type": "display_data"
    },
    {
     "name": "stdout",
     "output_type": "stream",
     "text": [
      "Accuracy: 0.69334 \n",
      "Precision: 0.89904 \n",
      "Recall: 0.43559 \n",
      "F-measure: 0.58685 \n"
     ]
    }
   ],
   "source": [
    "y_r2l_rfe_prediction = SVM(X_r2l_rfe_ss, y_r2l).predict(X_r2l_test_rfe_ss)\n",
    "plotConfusionMatrix(y_r2l_rfe_prediction, y_r2l_test, 3)"
   ]
  },
  {
   "cell_type": "markdown",
   "metadata": {},
   "source": [
    "#### K-fold cross validation on u2r"
   ]
  },
  {
   "cell_type": "code",
   "execution_count": 115,
   "metadata": {},
   "outputs": [
    {
     "name": "stdout",
     "output_type": "stream",
     "text": [
      ">Train: 0=53885, 1=67332, Test: 0=13458, 1=11\n",
      ">Train: 0=53886, 1=67331, Test: 0=13457, 1=12\n",
      ">Train: 0=53886, 1=67331, Test: 0=13457, 1=12\n",
      ">Train: 0=53882, 1=67335, Test: 0=13461, 1=8\n",
      ">Train: 0=53883, 1=67334, Test: 0=13460, 1=9\n",
      ">Train: 0=67293, 1=53924, Test: 0=50, 1=13419\n",
      ">Train: 0=67343, 1=53875, Test: 0=0, 1=13468\n",
      ">Train: 0=67343, 1=53875, Test: 0=0, 1=13468\n",
      ">Train: 0=67343, 1=53875, Test: 0=0, 1=13468\n",
      ">Train: 0=67343, 1=53875, Test: 0=0, 1=13468\n"
     ]
    },
    {
     "data": {
      "text/plain": [
       "{'Mean Training Accuracy': 0.8830695913033033,\n",
       " 'Mean Training Precision': 0.9180530057736389,\n",
       " 'Mean Training Recall': 0.838050429707612,\n",
       " 'Mean Training F1 Score': 0.876227025141587,\n",
       " 'Mean Validation Accuracy': 0.872219857595535,\n",
       " 'Mean Validation Precision': 0.5039521246315282,\n",
       " 'Mean Validation Recall': 0.8248663042677128,\n",
       " 'Mean Validation F1 Score': 0.4595786668562741}"
      ]
     },
     "execution_count": 115,
     "metadata": {},
     "output_type": "execute_result"
    }
   ],
   "source": [
    "KfoldCV(LinearSVC(random_state=0, tol=1e-5, dual=False, max_iter=10000), pd.DataFrame(X_u2r_rfe), y_u2r, 10, 4)"
   ]
  },
  {
   "cell_type": "markdown",
   "metadata": {},
   "source": [
    "#### K-fold cross validation on u2r Standard Scaler"
   ]
  },
  {
   "cell_type": "code",
   "execution_count": 116,
   "metadata": {},
   "outputs": [
    {
     "name": "stdout",
     "output_type": "stream",
     "text": [
      ">Train: 0=53885, 1=67332, Test: 0=13458, 1=11\n",
      ">Train: 0=53886, 1=67331, Test: 0=13457, 1=12\n",
      ">Train: 0=53886, 1=67331, Test: 0=13457, 1=12\n",
      ">Train: 0=53882, 1=67335, Test: 0=13461, 1=8\n",
      ">Train: 0=53883, 1=67334, Test: 0=13460, 1=9\n",
      ">Train: 0=67293, 1=53924, Test: 0=50, 1=13419\n",
      ">Train: 0=67343, 1=53875, Test: 0=0, 1=13468\n",
      ">Train: 0=67343, 1=53875, Test: 0=0, 1=13468\n",
      ">Train: 0=67343, 1=53875, Test: 0=0, 1=13468\n",
      ">Train: 0=67343, 1=53875, Test: 0=0, 1=13468\n"
     ]
    },
    {
     "data": {
      "text/plain": [
       "{'Mean Training Accuracy': 0.9808732150629634,\n",
       " 'Mean Training Precision': 0.9662638152891416,\n",
       " 'Mean Training Recall': 0.9955510612893306,\n",
       " 'Mean Training F1 Score': 0.9806876845945629,\n",
       " 'Mean Validation Accuracy': 0.9778897325151688,\n",
       " 'Mean Validation Precision': 0.5101024838998276,\n",
       " 'Mean Validation Recall': 0.9836663644762236,\n",
       " 'Mean Validation F1 Score': 0.5178852934816289}"
      ]
     },
     "execution_count": 116,
     "metadata": {},
     "output_type": "execute_result"
    }
   ],
   "source": [
    "KfoldCV(LinearSVC(random_state=0, tol=1e-5, dual=False, max_iter=10000), pd.DataFrame(X_u2r_rfe_ss), y_u2r, 10, 4)"
   ]
  },
  {
   "cell_type": "markdown",
   "metadata": {},
   "source": [
    "#### Stratified cross validation on u2r"
   ]
  },
  {
   "cell_type": "code",
   "execution_count": 117,
   "metadata": {},
   "outputs": [
    {
     "name": "stdout",
     "output_type": "stream",
     "text": [
      ">Train: 0=60608, 1=60609, Test: 0=6735, 1=6734\n",
      ">Train: 0=60608, 1=60609, Test: 0=6735, 1=6734\n",
      ">Train: 0=60608, 1=60609, Test: 0=6735, 1=6734\n",
      ">Train: 0=60609, 1=60608, Test: 0=6734, 1=6735\n",
      ">Train: 0=60609, 1=60608, Test: 0=6734, 1=6735\n",
      ">Train: 0=60609, 1=60608, Test: 0=6734, 1=6735\n",
      ">Train: 0=60609, 1=60609, Test: 0=6734, 1=6734\n",
      ">Train: 0=60609, 1=60609, Test: 0=6734, 1=6734\n",
      ">Train: 0=60609, 1=60609, Test: 0=6734, 1=6734\n",
      ">Train: 0=60609, 1=60609, Test: 0=6734, 1=6734\n"
     ]
    },
    {
     "data": {
      "text/plain": [
       "{'Mean Training Accuracy': 0.8821142842395139,\n",
       " 'Mean Training Precision': 0.9195332910300482,\n",
       " 'Mean Training Recall': 0.837518377246903,\n",
       " 'Mean Training F1 Score': 0.8766116470733623,\n",
       " 'Mean Validation Accuracy': 0.8821184150922811,\n",
       " 'Mean Validation Precision': 0.9195287318265877,\n",
       " 'Mean Validation Recall': 0.8375333386691961,\n",
       " 'Mean Validation F1 Score': 0.876607294684162}"
      ]
     },
     "execution_count": 117,
     "metadata": {},
     "output_type": "execute_result"
    }
   ],
   "source": [
    "stratifiedCV(LinearSVC(random_state=0, tol=1e-5, dual=False, max_iter=10000), pd.DataFrame(X_u2r_rfe), y_u2r, 10, 4)"
   ]
  },
  {
   "cell_type": "markdown",
   "metadata": {},
   "source": [
    "#### Stratified cross validation on u2r Standard Scaler"
   ]
  },
  {
   "cell_type": "code",
   "execution_count": 118,
   "metadata": {},
   "outputs": [
    {
     "name": "stdout",
     "output_type": "stream",
     "text": [
      ">Train: 0=60608, 1=60609, Test: 0=6735, 1=6734\n",
      ">Train: 0=60608, 1=60609, Test: 0=6735, 1=6734\n",
      ">Train: 0=60608, 1=60609, Test: 0=6735, 1=6734\n",
      ">Train: 0=60609, 1=60608, Test: 0=6734, 1=6735\n",
      ">Train: 0=60609, 1=60608, Test: 0=6734, 1=6735\n",
      ">Train: 0=60609, 1=60608, Test: 0=6734, 1=6735\n",
      ">Train: 0=60609, 1=60609, Test: 0=6734, 1=6734\n",
      ">Train: 0=60609, 1=60609, Test: 0=6734, 1=6734\n",
      ">Train: 0=60609, 1=60609, Test: 0=6734, 1=6734\n",
      ">Train: 0=60609, 1=60609, Test: 0=6734, 1=6734\n"
     ]
    },
    {
     "data": {
      "text/plain": [
       "{'Mean Training Accuracy': 0.9804805253287066,\n",
       " 'Mean Training Precision': 0.9666516264991495,\n",
       " 'Mean Training Recall': 0.9952977044307912,\n",
       " 'Mean Training F1 Score': 0.9807655293223932,\n",
       " 'Mean Validation Accuracy': 0.9804360001405067,\n",
       " 'Mean Validation Precision': 0.9666606448136397,\n",
       " 'Mean Validation Recall': 0.9952036745132513,\n",
       " 'Mean Validation F1 Score': 0.980722093244154}"
      ]
     },
     "execution_count": 118,
     "metadata": {},
     "output_type": "execute_result"
    }
   ],
   "source": [
    "stratifiedCV(LinearSVC(random_state=0, tol=1e-5, dual=False, max_iter=10000), pd.DataFrame(X_u2r_rfe_ss), y_u2r, 10, 4)"
   ]
  },
  {
   "cell_type": "markdown",
   "metadata": {},
   "source": [
    "#### Predict on u2r"
   ]
  },
  {
   "cell_type": "code",
   "execution_count": 119,
   "metadata": {},
   "outputs": [
    {
     "data": {
      "image/png": "[encoded data removed]",
      "text/plain": [
       "<Figure size 432x288 with 2 Axes>"
      ]
     },
     "metadata": {
      "needs_background": "light"
     },
     "output_type": "display_data"
    },
    {
     "name": "stdout",
     "output_type": "stream",
     "text": [
      "Accuracy: 0.58943 \n",
      "Precision: 0.76390 \n",
      "Recall: 0.25888 \n",
      "F-measure: 0.38671 \n"
     ]
    }
   ],
   "source": [
    "y_u2r_rfe_prediction = SVM(X_u2r_rfe, y_u2r).predict(X_u2r_test_rfe)\n",
    "plotConfusionMatrix(y_u2r_rfe_prediction, y_u2r_test, 4)"
   ]
  },
  {
   "cell_type": "code",
   "execution_count": 120,
   "metadata": {},
   "outputs": [
    {
     "data": {
      "image/png": "[encoded data removed]",
      "text/plain": [
       "<Figure size 432x288 with 2 Axes>"
      ]
     },
     "metadata": {
      "needs_background": "light"
     },
     "output_type": "display_data"
    },
    {
     "name": "stdout",
     "output_type": "stream",
     "text": [
      "Accuracy: 0.79271 \n",
      "Precision: 0.84326 \n",
      "Recall: 0.71908 \n",
      "F-measure: 0.77623 \n"
     ]
    }
   ],
   "source": [
    "y_u2r_rfe_prediction = SVM(X_u2r_rfe_ss, y_u2r).predict(X_u2r_test_rfe_ss)\n",
    "plotConfusionMatrix(y_u2r_rfe_prediction, y_u2r_test, 4)"
   ]
  },
  {
   "cell_type": "markdown",
   "metadata": {},
   "source": [
    "# Full DF, no Oversampling"
   ]
  },
  {
   "cell_type": "code",
   "execution_count": 121,
   "metadata": {},
   "outputs": [
    {
     "data": {
      "text/plain": [
       "<module 'matplotlib.pyplot' from 'C:\\\\Users\\\\Daniele\\\\anaconda3\\\\lib\\\\site-packages\\\\matplotlib\\\\pyplot.py'>"
      ]
     },
     "execution_count": 121,
     "metadata": {},
     "output_type": "execute_result"
    },
    {
     "data": {
      "image/png": "[encoded data removed]",
      "text/plain": [
       "<Figure size 720x360 with 1 Axes>"
      ]
     },
     "metadata": {
      "needs_background": "light"
     },
     "output_type": "display_data"
    }
   ],
   "source": [
    "fullDf = getFullDf()\n",
    "fullDf_test = getFullDfTest()\n",
    "\n",
    "\n",
    "fullDf=oneHotEcoding(fullDf, 'protocol_type')\n",
    "fullDf=oneHotEcoding(fullDf, 'service')\n",
    "fullDf=oneHotEcoding(fullDf, 'flag')\n",
    "fullDf_test=oneHotEcoding(fullDf_test, 'protocol_type')\n",
    "fullDf_test=oneHotEcoding(fullDf_test, 'service')\n",
    "fullDf_test=oneHotEcoding(fullDf_test, 'flag')\n",
    "\n",
    "fullDf_test=adaptTestset(fullDf, fullDf_test)\n",
    "\n",
    "fullDf['label'], fullDf_test['label'] = prepareMulticlass()\n",
    "\n",
    "plotDf(fullDf['label'])"
   ]
  },
  {
   "cell_type": "code",
   "execution_count": 122,
   "metadata": {},
   "outputs": [],
   "source": [
    "#Preparo i dataframe per ogni classe di attacco\n",
    "dos, probe, r2l, u2r = createMulticlassDF(fullDf)\n",
    "dos_test, probe_test, r2l_test, u2r_test = createMulticlassDF(fullDf_test)\n",
    "\n",
    "X_dos, y_dos = getXandY(dos)\n",
    "X_probe, y_probe = getXandY(probe)\n",
    "X_r2l, y_r2l = getXandY(r2l)\n",
    "X_u2r, y_u2r = getXandY(u2r)\n",
    "\n",
    "X_dos_test, y_dos_test = getXandY(dos_test)\n",
    "X_probe_test, y_probe_test = getXandY(probe_test)\n",
    "X_r2l_test, y_r2l_test = getXandY(r2l_test)\n",
    "X_u2r_test, y_u2r_test = getXandY(u2r_test)\n"
   ]
  },
  {
   "cell_type": "code",
   "execution_count": 123,
   "metadata": {},
   "outputs": [],
   "source": [
    "#Effettuo standard scaler\n",
    "X_dos_ss=standardScaler(X_dos)\n",
    "X_probe_ss=standardScaler(X_probe)\n",
    "X_r2l_ss=standardScaler(X_r2l)\n",
    "X_u2r_ss=standardScaler(X_u2r)\n",
    "\n",
    "X_dos_test_ss=standardScaler(X_dos_test)\n",
    "X_probe_test_ss=standardScaler(X_probe_test)\n",
    "X_r2l_test_ss=standardScaler(X_r2l_test)\n",
    "X_u2r_test_ss=standardScaler(X_u2r_test)"
   ]
  },
  {
   "cell_type": "markdown",
   "metadata": {},
   "source": [
    "#### K-fold cross validation on dos"
   ]
  },
  {
   "cell_type": "code",
   "execution_count": 124,
   "metadata": {
    "scrolled": false
   },
   "outputs": [
    {
     "name": "stdout",
     "output_type": "stream",
     "text": [
      ">Train: 0=60666, 1=41277, Test: 0=6677, 1=4650\n",
      ">Train: 0=60586, 1=41357, Test: 0=6757, 1=4570\n",
      ">Train: 0=60612, 1=41331, Test: 0=6731, 1=4596\n",
      ">Train: 0=60720, 1=41223, Test: 0=6623, 1=4704\n",
      ">Train: 0=60634, 1=41309, Test: 0=6709, 1=4618\n",
      ">Train: 0=60525, 1=41418, Test: 0=6818, 1=4509\n",
      ">Train: 0=60548, 1=41395, Test: 0=6795, 1=4532\n",
      ">Train: 0=60557, 1=41386, Test: 0=6786, 1=4541\n",
      ">Train: 0=60662, 1=41281, Test: 0=6681, 1=4646\n",
      ">Train: 0=60577, 1=41366, Test: 0=6766, 1=4561\n"
     ]
    },
    {
     "data": {
      "text/plain": [
       "{'Mean Training Accuracy': 0.9862835113740029,\n",
       " 'Mean Training Precision': 0.9942302356288486,\n",
       " 'Mean Training Recall': 0.9718097887650019,\n",
       " 'Mean Training F1 Score': 0.9828903211901439,\n",
       " 'Mean Validation Accuracy': 0.9861746269974399,\n",
       " 'Mean Validation Precision': 0.9940918652900711,\n",
       " 'Mean Validation Recall': 0.9716814259268036,\n",
       " 'Mean Validation F1 Score': 0.9827556404345008}"
      ]
     },
     "execution_count": 124,
     "metadata": {},
     "output_type": "execute_result"
    }
   ],
   "source": [
    "KfoldCV(LinearSVC(random_state=0, tol=1e-5, dual=False, max_iter=10000), pd.DataFrame(X_dos), y_dos, 10, 1)"
   ]
  },
  {
   "cell_type": "markdown",
   "metadata": {},
   "source": [
    "#### K-fold cross validation on dos Standard Scaling"
   ]
  },
  {
   "cell_type": "code",
   "execution_count": 125,
   "metadata": {},
   "outputs": [
    {
     "name": "stdout",
     "output_type": "stream",
     "text": [
      ">Train: 0=60666, 1=41277, Test: 0=6677, 1=4650\n",
      ">Train: 0=60586, 1=41357, Test: 0=6757, 1=4570\n",
      ">Train: 0=60612, 1=41331, Test: 0=6731, 1=4596\n",
      ">Train: 0=60720, 1=41223, Test: 0=6623, 1=4704\n",
      ">Train: 0=60634, 1=41309, Test: 0=6709, 1=4618\n",
      ">Train: 0=60525, 1=41418, Test: 0=6818, 1=4509\n",
      ">Train: 0=60548, 1=41395, Test: 0=6795, 1=4532\n",
      ">Train: 0=60557, 1=41386, Test: 0=6786, 1=4541\n",
      ">Train: 0=60662, 1=41281, Test: 0=6681, 1=4646\n",
      ">Train: 0=60577, 1=41366, Test: 0=6766, 1=4561\n"
     ]
    },
    {
     "data": {
      "text/plain": [
       "{'Mean Training Accuracy': 0.9980508715654827,\n",
       " 'Mean Training Precision': 0.9969629530364339,\n",
       " 'Mean Training Recall': 0.9982339019392649,\n",
       " 'Mean Training F1 Score': 0.9975979951351075,\n",
       " 'Mean Validation Accuracy': 0.9978458550366381,\n",
       " 'Mean Validation Precision': 0.9965204116410783,\n",
       " 'Mean Validation Recall': 0.9981725414671976,\n",
       " 'Mean Validation F1 Score': 0.9973453951734426}"
      ]
     },
     "execution_count": 125,
     "metadata": {},
     "output_type": "execute_result"
    }
   ],
   "source": [
    "KfoldCV(LinearSVC(random_state=0, tol=1e-5, dual=False, max_iter=10000), pd.DataFrame(X_dos_ss), y_dos, 10, 1)"
   ]
  },
  {
   "cell_type": "markdown",
   "metadata": {},
   "source": [
    "#### Stratified cross validation on dos"
   ]
  },
  {
   "cell_type": "code",
   "execution_count": 126,
   "metadata": {},
   "outputs": [
    {
     "name": "stdout",
     "output_type": "stream",
     "text": [
      ">Train: 0=60608, 1=41335, Test: 0=6735, 1=4592\n",
      ">Train: 0=60608, 1=41335, Test: 0=6735, 1=4592\n",
      ">Train: 0=60608, 1=41335, Test: 0=6735, 1=4592\n",
      ">Train: 0=60609, 1=41334, Test: 0=6734, 1=4593\n",
      ">Train: 0=60609, 1=41334, Test: 0=6734, 1=4593\n",
      ">Train: 0=60609, 1=41334, Test: 0=6734, 1=4593\n",
      ">Train: 0=60609, 1=41334, Test: 0=6734, 1=4593\n",
      ">Train: 0=60609, 1=41334, Test: 0=6734, 1=4593\n",
      ">Train: 0=60609, 1=41334, Test: 0=6734, 1=4593\n",
      ">Train: 0=60609, 1=41334, Test: 0=6734, 1=4593\n"
     ]
    },
    {
     "data": {
      "text/plain": [
       "{'Mean Training Accuracy': 0.9860186574850651,\n",
       " 'Mean Training Precision': 0.9942164549191878,\n",
       " 'Mean Training Recall': 0.9711668001694711,\n",
       " 'Mean Training F1 Score': 0.982555502043524,\n",
       " 'Mean Validation Accuracy': 0.9860422000529707,\n",
       " 'Mean Validation Precision': 0.9943380715729638,\n",
       " 'Mean Validation Recall': 0.9711063874658526,\n",
       " 'Mean Validation F1 Score': 0.9825827768657621}"
      ]
     },
     "execution_count": 126,
     "metadata": {},
     "output_type": "execute_result"
    }
   ],
   "source": [
    "stratifiedCV(LinearSVC(random_state=0, tol=1e-5, dual=False, max_iter=10000), pd.DataFrame(X_dos), y_dos, 10, 1)"
   ]
  },
  {
   "cell_type": "markdown",
   "metadata": {},
   "source": [
    "#### Stratified cross validation on dos Standard Scaling"
   ]
  },
  {
   "cell_type": "code",
   "execution_count": 127,
   "metadata": {},
   "outputs": [
    {
     "name": "stdout",
     "output_type": "stream",
     "text": [
      ">Train: 0=60608, 1=41335, Test: 0=6735, 1=4592\n",
      ">Train: 0=60608, 1=41335, Test: 0=6735, 1=4592\n",
      ">Train: 0=60608, 1=41335, Test: 0=6735, 1=4592\n",
      ">Train: 0=60609, 1=41334, Test: 0=6734, 1=4593\n",
      ">Train: 0=60609, 1=41334, Test: 0=6734, 1=4593\n",
      ">Train: 0=60609, 1=41334, Test: 0=6734, 1=4593\n",
      ">Train: 0=60609, 1=41334, Test: 0=6734, 1=4593\n",
      ">Train: 0=60609, 1=41334, Test: 0=6734, 1=4593\n",
      ">Train: 0=60609, 1=41334, Test: 0=6734, 1=4593\n",
      ">Train: 0=60609, 1=41334, Test: 0=6734, 1=4593\n"
     ]
    },
    {
     "data": {
      "text/plain": [
       "{'Mean Training Accuracy': 0.9980528334461415,\n",
       " 'Mean Training Precision': 0.9969628935782268,\n",
       " 'Mean Training Recall': 0.9982387498492941,\n",
       " 'Mean Training F1 Score': 0.9976003857829603,\n",
       " 'Mean Validation Accuracy': 0.9978546834996027,\n",
       " 'Mean Validation Precision': 0.9965225330080228,\n",
       " 'Mean Validation Recall': 0.9981927789675396,\n",
       " 'Mean Validation F1 Score': 0.9973566598574262}"
      ]
     },
     "execution_count": 127,
     "metadata": {},
     "output_type": "execute_result"
    }
   ],
   "source": [
    "stratifiedCV(LinearSVC(random_state=0, tol=1e-5, dual=False, max_iter=10000), pd.DataFrame(X_dos_ss), y_dos, 10, 1)"
   ]
  },
  {
   "cell_type": "markdown",
   "metadata": {},
   "source": [
    "#### Predict on dos"
   ]
  },
  {
   "cell_type": "code",
   "execution_count": 128,
   "metadata": {
    "scrolled": true
   },
   "outputs": [
    {
     "data": {
      "image/png": "[encoded data removed]",
      "text/plain": [
       "<Figure size 432x288 with 2 Axes>"
      ]
     },
     "metadata": {
      "needs_background": "light"
     },
     "output_type": "display_data"
    },
    {
     "name": "stdout",
     "output_type": "stream",
     "text": [
      "Accuracy: 0.85877 \n",
      "Precision: 0.91812 \n",
      "Recall: 0.74102 \n",
      "F-measure: 0.82012 \n"
     ]
    }
   ],
   "source": [
    "y_dos_prediction = SVM(X_dos, y_dos).predict(X_dos_test)\n",
    "plotConfusionMatrix(y_dos_prediction, y_dos_test, 1)"
   ]
  },
  {
   "cell_type": "code",
   "execution_count": 129,
   "metadata": {
    "scrolled": false
   },
   "outputs": [
    {
     "data": {
      "image/png": "[encoded data removed]",
      "text/plain": [
       "<Figure size 432x288 with 2 Axes>"
      ]
     },
     "metadata": {
      "needs_background": "light"
     },
     "output_type": "display_data"
    },
    {
     "name": "stdout",
     "output_type": "stream",
     "text": [
      "Accuracy: 0.89663 \n",
      "Precision: 0.92687 \n",
      "Recall: 0.82735 \n",
      "F-measure: 0.87428 \n"
     ]
    }
   ],
   "source": [
    "y_dos_prediction = SVM(X_dos_ss, y_dos).predict(X_dos_test_ss)\n",
    "plotConfusionMatrix(y_dos_prediction, y_dos_test, 1)"
   ]
  },
  {
   "cell_type": "markdown",
   "metadata": {},
   "source": [
    "#### K-fold cross validation on probe"
   ]
  },
  {
   "cell_type": "code",
   "execution_count": 130,
   "metadata": {},
   "outputs": [
    {
     "name": "stdout",
     "output_type": "stream",
     "text": [
      ">Train: 0=60593, 1=10506, Test: 0=6750, 1=1150\n",
      ">Train: 0=60590, 1=10509, Test: 0=6753, 1=1147\n",
      ">Train: 0=60636, 1=10463, Test: 0=6707, 1=1193\n",
      ">Train: 0=60669, 1=10430, Test: 0=6674, 1=1226\n",
      ">Train: 0=60629, 1=10470, Test: 0=6714, 1=1186\n",
      ">Train: 0=60576, 1=10523, Test: 0=6767, 1=1133\n",
      ">Train: 0=60547, 1=10552, Test: 0=6796, 1=1104\n",
      ">Train: 0=60628, 1=10471, Test: 0=6715, 1=1185\n",
      ">Train: 0=60592, 1=10507, Test: 0=6751, 1=1149\n",
      ">Train: 0=60627, 1=10473, Test: 0=6716, 1=1183\n"
     ]
    },
    {
     "data": {
      "text/plain": [
       "{'Mean Training Accuracy': 0.9767352788070769,\n",
       " 'Mean Training Precision': 0.939295227822344,\n",
       " 'Mean Training Recall': 0.9004667073102116,\n",
       " 'Mean Training F1 Score': 0.9179676526636726,\n",
       " 'Mean Validation Accuracy': 0.9768984970057097,\n",
       " 'Mean Validation Precision': 0.9386758988646633,\n",
       " 'Mean Validation Recall': 0.9017139478039153,\n",
       " 'Mean Validation F1 Score': 0.9182047282463719}"
      ]
     },
     "execution_count": 130,
     "metadata": {},
     "output_type": "execute_result"
    }
   ],
   "source": [
    "KfoldCV(LinearSVC(random_state=0, tol=1e-5, dual=False, max_iter=10000), pd.DataFrame(X_probe), y_probe, 10, 2)"
   ]
  },
  {
   "cell_type": "markdown",
   "metadata": {},
   "source": [
    "#### K-fold cross validation on probe Standard Scaling"
   ]
  },
  {
   "cell_type": "code",
   "execution_count": 131,
   "metadata": {},
   "outputs": [
    {
     "name": "stdout",
     "output_type": "stream",
     "text": [
      ">Train: 0=60593, 1=10506, Test: 0=6750, 1=1150\n",
      ">Train: 0=60590, 1=10509, Test: 0=6753, 1=1147\n",
      ">Train: 0=60636, 1=10463, Test: 0=6707, 1=1193\n",
      ">Train: 0=60669, 1=10430, Test: 0=6674, 1=1226\n",
      ">Train: 0=60629, 1=10470, Test: 0=6714, 1=1186\n",
      ">Train: 0=60576, 1=10523, Test: 0=6767, 1=1133\n",
      ">Train: 0=60547, 1=10552, Test: 0=6796, 1=1104\n",
      ">Train: 0=60628, 1=10471, Test: 0=6715, 1=1185\n",
      ">Train: 0=60592, 1=10507, Test: 0=6751, 1=1149\n",
      ">Train: 0=60627, 1=10473, Test: 0=6716, 1=1183\n"
     ]
    },
    {
     "data": {
      "text/plain": [
       "{'Mean Training Accuracy': 0.9919155094037079,\n",
       " 'Mean Training Precision': 0.9775476843698149,\n",
       " 'Mean Training Recall': 0.9674267728125638,\n",
       " 'Mean Training F1 Score': 0.9724606380917219,\n",
       " 'Mean Validation Accuracy': 0.991531530188888,\n",
       " 'Mean Validation Precision': 0.9757697927572991,\n",
       " 'Mean Validation Recall': 0.9665663949590135,\n",
       " 'Mean Validation F1 Score': 0.97113700323539}"
      ]
     },
     "execution_count": 131,
     "metadata": {},
     "output_type": "execute_result"
    }
   ],
   "source": [
    "KfoldCV(LinearSVC(random_state=0, tol=1e-5, dual=False, max_iter=10000), pd.DataFrame(X_probe_ss), y_probe, 10, 2)"
   ]
  },
  {
   "cell_type": "markdown",
   "metadata": {},
   "source": [
    "#### Stratified cross validation on probe"
   ]
  },
  {
   "cell_type": "code",
   "execution_count": 132,
   "metadata": {},
   "outputs": [
    {
     "name": "stdout",
     "output_type": "stream",
     "text": [
      ">Train: 0=60608, 1=10491, Test: 0=6735, 1=1165\n",
      ">Train: 0=60608, 1=10491, Test: 0=6735, 1=1165\n",
      ">Train: 0=60608, 1=10491, Test: 0=6735, 1=1165\n",
      ">Train: 0=60609, 1=10490, Test: 0=6734, 1=1166\n",
      ">Train: 0=60609, 1=10490, Test: 0=6734, 1=1166\n",
      ">Train: 0=60609, 1=10490, Test: 0=6734, 1=1166\n",
      ">Train: 0=60609, 1=10490, Test: 0=6734, 1=1166\n",
      ">Train: 0=60609, 1=10490, Test: 0=6734, 1=1166\n",
      ">Train: 0=60609, 1=10490, Test: 0=6734, 1=1166\n",
      ">Train: 0=60609, 1=10491, Test: 0=6734, 1=1165\n"
     ]
    },
    {
     "data": {
      "text/plain": [
       "{'Mean Training Accuracy': 0.9725790988848992,\n",
       " 'Mean Training Precision': 0.93820635066869,\n",
       " 'Mean Training Recall': 0.8677150781290678,\n",
       " 'Mean Training F1 Score': 0.8890553273974664,\n",
       " 'Mean Validation Accuracy': 0.972366885088803,\n",
       " 'Mean Validation Precision': 0.938689838174616,\n",
       " 'Mean Validation Recall': 0.8666972666170982,\n",
       " 'Mean Validation F1 Score': 0.8874907121406694}"
      ]
     },
     "execution_count": 132,
     "metadata": {},
     "output_type": "execute_result"
    }
   ],
   "source": [
    "stratifiedCV(LinearSVC(random_state=0, tol=1e-5, dual=False, max_iter=10000), pd.DataFrame(X_probe), y_probe, 10, 2)"
   ]
  },
  {
   "cell_type": "markdown",
   "metadata": {},
   "source": [
    "#### Stratified cross validation on probe Standard Scaling"
   ]
  },
  {
   "cell_type": "code",
   "execution_count": 133,
   "metadata": {},
   "outputs": [
    {
     "name": "stdout",
     "output_type": "stream",
     "text": [
      ">Train: 0=60608, 1=10491, Test: 0=6735, 1=1165\n",
      ">Train: 0=60608, 1=10491, Test: 0=6735, 1=1165\n",
      ">Train: 0=60608, 1=10491, Test: 0=6735, 1=1165\n",
      ">Train: 0=60609, 1=10490, Test: 0=6734, 1=1166\n",
      ">Train: 0=60609, 1=10490, Test: 0=6734, 1=1166\n",
      ">Train: 0=60609, 1=10490, Test: 0=6734, 1=1166\n",
      ">Train: 0=60609, 1=10490, Test: 0=6734, 1=1166\n",
      ">Train: 0=60609, 1=10490, Test: 0=6734, 1=1166\n",
      ">Train: 0=60609, 1=10490, Test: 0=6734, 1=1166\n",
      ">Train: 0=60609, 1=10491, Test: 0=6734, 1=1165\n"
     ]
    },
    {
     "data": {
      "text/plain": [
       "{'Mean Training Accuracy': 0.9919155094037079,\n",
       " 'Mean Training Precision': 0.9775108353475288,\n",
       " 'Mean Training Recall': 0.9674654983676145,\n",
       " 'Mean Training F1 Score': 0.9724619637103864,\n",
       " 'Mean Validation Accuracy': 0.9915821631002804,\n",
       " 'Mean Validation Precision': 0.9761132477811234,\n",
       " 'Mean Validation Recall': 0.9666260057862617,\n",
       " 'Mean Validation F1 Score': 0.9713338228655175}"
      ]
     },
     "execution_count": 133,
     "metadata": {},
     "output_type": "execute_result"
    }
   ],
   "source": [
    "stratifiedCV(LinearSVC(random_state=0, tol=1e-5, dual=False, max_iter=10000), pd.DataFrame(X_probe_ss), y_probe, 10, 2)"
   ]
  },
  {
   "cell_type": "markdown",
   "metadata": {},
   "source": [
    "#### Predict on probe"
   ]
  },
  {
   "cell_type": "code",
   "execution_count": 134,
   "metadata": {},
   "outputs": [
    {
     "data": {
      "image/png": "[encoded data removed]",
      "text/plain": [
       "<Figure size 432x288 with 2 Axes>"
      ]
     },
     "metadata": {
      "needs_background": "light"
     },
     "output_type": "display_data"
    },
    {
     "name": "stdout",
     "output_type": "stream",
     "text": [
      "Accuracy: 0.88980 \n",
      "Precision: 0.73627 \n",
      "Recall: 0.69765 \n",
      "F-measure: 0.71644 \n"
     ]
    }
   ],
   "source": [
    "y_probe_prediction = SVM(X_probe, y_probe).predict(X_probe_test)\n",
    "plotConfusionMatrix(y_probe_prediction, y_probe_test, 2)"
   ]
  },
  {
   "cell_type": "code",
   "execution_count": 135,
   "metadata": {},
   "outputs": [
    {
     "data": {
      "image/png": "[encoded data removed]",
      "text/plain": [
       "<Figure size 432x288 with 2 Axes>"
      ]
     },
     "metadata": {
      "needs_background": "light"
     },
     "output_type": "display_data"
    },
    {
     "name": "stdout",
     "output_type": "stream",
     "text": [
      "Accuracy: 0.89045 \n",
      "Precision: 0.71496 \n",
      "Recall: 0.75010 \n",
      "F-measure: 0.73211 \n"
     ]
    }
   ],
   "source": [
    "y_probe_prediction = SVM(X_probe_ss, y_probe).predict(X_probe_test_ss)\n",
    "plotConfusionMatrix(y_probe_prediction, y_probe_test, 2)"
   ]
  },
  {
   "cell_type": "markdown",
   "metadata": {},
   "source": [
    "#### K-fold cross validation on r2l"
   ]
  },
  {
   "cell_type": "code",
   "execution_count": 136,
   "metadata": {},
   "outputs": [
    {
     "name": "stdout",
     "output_type": "stream",
     "text": [
      ">Train: 0=60615, 1=889, Test: 0=6728, 1=106\n",
      ">Train: 0=60612, 1=892, Test: 0=6731, 1=103\n",
      ">Train: 0=60628, 1=876, Test: 0=6715, 1=119\n",
      ">Train: 0=60613, 1=891, Test: 0=6730, 1=104\n",
      ">Train: 0=60610, 1=894, Test: 0=6733, 1=101\n",
      ">Train: 0=60591, 1=913, Test: 0=6752, 1=82\n",
      ">Train: 0=60599, 1=905, Test: 0=6744, 1=90\n",
      ">Train: 0=60597, 1=907, Test: 0=6746, 1=88\n",
      ">Train: 0=60614, 1=891, Test: 0=6729, 1=104\n",
      ">Train: 0=60608, 1=897, Test: 0=6735, 1=98\n"
     ]
    },
    {
     "data": {
      "text/plain": [
       "{'Mean Training Accuracy': 0.9939500115247858,\n",
       " 'Mean Training Precision': 0.8243486318377643,\n",
       " 'Mean Training Recall': 0.7400160698339896,\n",
       " 'Mean Training F1 Score': 0.7776632692812522,\n",
       " 'Mean Validation Accuracy': 0.9936198669362701,\n",
       " 'Mean Validation Precision': 0.8101923035309854,\n",
       " 'Mean Validation Recall': 0.7349199956539217,\n",
       " 'Mean Validation F1 Score': 0.7682950306919079}"
      ]
     },
     "execution_count": 136,
     "metadata": {},
     "output_type": "execute_result"
    }
   ],
   "source": [
    "KfoldCV(LinearSVC(random_state=0, tol=1e-5, dual=False, max_iter=10000), pd.DataFrame(X_r2l), y_r2l, 10, 3)"
   ]
  },
  {
   "cell_type": "markdown",
   "metadata": {},
   "source": [
    "#### K-fold cross validation on r2l Standard Scaling"
   ]
  },
  {
   "cell_type": "code",
   "execution_count": 137,
   "metadata": {},
   "outputs": [
    {
     "name": "stdout",
     "output_type": "stream",
     "text": [
      ">Train: 0=60615, 1=889, Test: 0=6728, 1=106\n",
      ">Train: 0=60612, 1=892, Test: 0=6731, 1=103\n",
      ">Train: 0=60628, 1=876, Test: 0=6715, 1=119\n",
      ">Train: 0=60613, 1=891, Test: 0=6730, 1=104\n",
      ">Train: 0=60610, 1=894, Test: 0=6733, 1=101\n",
      ">Train: 0=60591, 1=913, Test: 0=6752, 1=82\n",
      ">Train: 0=60599, 1=905, Test: 0=6744, 1=90\n",
      ">Train: 0=60597, 1=907, Test: 0=6746, 1=88\n",
      ">Train: 0=60614, 1=891, Test: 0=6729, 1=104\n",
      ">Train: 0=60608, 1=897, Test: 0=6735, 1=98\n"
     ]
    },
    {
     "data": {
      "text/plain": [
       "{'Mean Training Accuracy': 0.9951613058137369,\n",
       " 'Mean Training Precision': 0.8432596327552403,\n",
       " 'Mean Training Recall': 0.8200797545827113,\n",
       " 'Mean Training F1 Score': 0.8314987281892849,\n",
       " 'Mean Validation Accuracy': 0.9947613132245129,\n",
       " 'Mean Validation Precision': 0.8244594446373916,\n",
       " 'Mean Validation Recall': 0.8128947054723399,\n",
       " 'Mean Validation F1 Score': 0.8178903862273366}"
      ]
     },
     "execution_count": 137,
     "metadata": {},
     "output_type": "execute_result"
    }
   ],
   "source": [
    "KfoldCV(LinearSVC(random_state=0, tol=1e-5, dual=False, max_iter=10000), pd.DataFrame(X_r2l_ss), y_r2l, 10, 3)"
   ]
  },
  {
   "cell_type": "markdown",
   "metadata": {},
   "source": [
    "#### Stratified cross validation on r2l"
   ]
  },
  {
   "cell_type": "code",
   "execution_count": 138,
   "metadata": {},
   "outputs": [
    {
     "name": "stdout",
     "output_type": "stream",
     "text": [
      ">Train: 0=60608, 1=896, Test: 0=6735, 1=99\n",
      ">Train: 0=60608, 1=896, Test: 0=6735, 1=99\n",
      ">Train: 0=60608, 1=896, Test: 0=6735, 1=99\n",
      ">Train: 0=60609, 1=895, Test: 0=6734, 1=100\n",
      ">Train: 0=60609, 1=895, Test: 0=6734, 1=100\n",
      ">Train: 0=60609, 1=895, Test: 0=6734, 1=100\n",
      ">Train: 0=60609, 1=895, Test: 0=6734, 1=100\n",
      ">Train: 0=60609, 1=895, Test: 0=6734, 1=100\n",
      ">Train: 0=60609, 1=896, Test: 0=6734, 1=99\n",
      ">Train: 0=60609, 1=896, Test: 0=6734, 1=99\n"
     ]
    },
    {
     "data": {
      "text/plain": [
       "{'Mean Training Accuracy': 0.9949385568669451,\n",
       " 'Mean Training Precision': 0.8370107080615924,\n",
       " 'Mean Training Recall': 0.8101614874301678,\n",
       " 'Mean Training F1 Score': 0.8233560900626005,\n",
       " 'Mean Validation Accuracy': 0.9947466805057538,\n",
       " 'Mean Validation Precision': 0.8284174630596526,\n",
       " 'Mean Validation Recall': 0.807070707070707,\n",
       " 'Mean Validation F1 Score': 0.8170612091223122}"
      ]
     },
     "execution_count": 138,
     "metadata": {},
     "output_type": "execute_result"
    }
   ],
   "source": [
    "stratifiedCV(LinearSVC(random_state=0, tol=1e-5, dual=False, max_iter=10000), pd.DataFrame(X_r2l), y_r2l, 10, 3)"
   ]
  },
  {
   "cell_type": "markdown",
   "metadata": {},
   "source": [
    "#### Stratified cross validation on r2l Standard Scaling"
   ]
  },
  {
   "cell_type": "code",
   "execution_count": 139,
   "metadata": {},
   "outputs": [
    {
     "name": "stdout",
     "output_type": "stream",
     "text": [
      ">Train: 0=60608, 1=896, Test: 0=6735, 1=99\n",
      ">Train: 0=60608, 1=896, Test: 0=6735, 1=99\n",
      ">Train: 0=60608, 1=896, Test: 0=6735, 1=99\n",
      ">Train: 0=60609, 1=895, Test: 0=6734, 1=100\n",
      ">Train: 0=60609, 1=895, Test: 0=6734, 1=100\n",
      ">Train: 0=60609, 1=895, Test: 0=6734, 1=100\n",
      ">Train: 0=60609, 1=895, Test: 0=6734, 1=100\n",
      ">Train: 0=60609, 1=895, Test: 0=6734, 1=100\n",
      ">Train: 0=60609, 1=896, Test: 0=6734, 1=99\n",
      ">Train: 0=60609, 1=896, Test: 0=6734, 1=99\n"
     ]
    },
    {
     "data": {
      "text/plain": [
       "{'Mean Training Accuracy': 0.9951775649188359,\n",
       " 'Mean Training Precision': 0.8438614697886893,\n",
       " 'Mean Training Recall': 0.8206586691939345,\n",
       " 'Mean Training F1 Score': 0.8320852980376781,\n",
       " 'Mean Validation Accuracy': 0.994790580803509,\n",
       " 'Mean Validation Precision': 0.8258865928554637,\n",
       " 'Mean Validation Recall': 0.816131313131313,\n",
       " 'Mean Validation F1 Score': 0.8201889856893242}"
      ]
     },
     "execution_count": 139,
     "metadata": {},
     "output_type": "execute_result"
    }
   ],
   "source": [
    "stratifiedCV(LinearSVC(random_state=0, tol=1e-5, dual=False, max_iter=10000), pd.DataFrame(X_r2l_ss), y_r2l, 10, 3)"
   ]
  },
  {
   "cell_type": "markdown",
   "metadata": {},
   "source": [
    "#### Predict on r2l"
   ]
  },
  {
   "cell_type": "code",
   "execution_count": 140,
   "metadata": {},
   "outputs": [
    {
     "data": {
      "image/png": "[encoded data removed]",
      "text/plain": [
       "<Figure size 432x288 with 2 Axes>"
      ]
     },
     "metadata": {
      "needs_background": "light"
     },
     "output_type": "display_data"
    },
    {
     "name": "stdout",
     "output_type": "stream",
     "text": [
      "Accuracy: 0.78350 \n",
      "Precision: 0.94886 \n",
      "Recall: 0.05789 \n",
      "F-measure: 0.10911 \n"
     ]
    }
   ],
   "source": [
    "y_r2l_prediction = SVM(X_r2l, y_r2l).predict(X_r2l_test)\n",
    "plotConfusionMatrix(y_r2l_prediction, y_r2l_test, 3)"
   ]
  },
  {
   "cell_type": "code",
   "execution_count": 141,
   "metadata": {},
   "outputs": [
    {
     "data": {
      "image/png": "[encoded data removed]",
      "text/plain": [
       "<Figure size 432x288 with 2 Axes>"
      ]
     },
     "metadata": {
      "needs_background": "light"
     },
     "output_type": "display_data"
    },
    {
     "name": "stdout",
     "output_type": "stream",
     "text": [
      "Accuracy: 0.78326 \n",
      "Precision: 0.84141 \n",
      "Recall: 0.06620 \n",
      "F-measure: 0.12275 \n"
     ]
    }
   ],
   "source": [
    "y_r2l_prediction = SVM(X_r2l_ss, y_r2l).predict(X_r2l_test_ss)\n",
    "plotConfusionMatrix(y_r2l_prediction, y_r2l_test, 3)"
   ]
  },
  {
   "cell_type": "markdown",
   "metadata": {},
   "source": [
    "#### K-fold cross validation on u2r"
   ]
  },
  {
   "cell_type": "code",
   "execution_count": 142,
   "metadata": {},
   "outputs": [
    {
     "name": "stdout",
     "output_type": "stream",
     "text": [
      ">Train: 0=60608, 1=47, Test: 0=6735, 1=5\n",
      ">Train: 0=60609, 1=46, Test: 0=6734, 1=6\n",
      ">Train: 0=60609, 1=46, Test: 0=6734, 1=6\n"
     ]
    },
    {
     "name": "stderr",
     "output_type": "stream",
     "text": [
      "C:\\Users\\Daniele\\anaconda3\\lib\\site-packages\\sklearn\\svm\\_base.py:1244: ConvergenceWarning: Liblinear failed to converge, increase the number of iterations.\n",
      "  warnings.warn(\n",
      "C:\\Users\\Daniele\\anaconda3\\lib\\site-packages\\sklearn\\metrics\\_classification.py:1344: UndefinedMetricWarning: Precision is ill-defined and being set to 0.0 due to no predicted samples. Use `zero_division` parameter to control this behavior.\n",
      "  _warn_prf(average, modifier, msg_start, len(result))\n",
      "C:\\Users\\Daniele\\anaconda3\\lib\\site-packages\\sklearn\\metrics\\_classification.py:1344: UndefinedMetricWarning: Precision is ill-defined and being set to 0.0 due to no predicted samples. Use `zero_division` parameter to control this behavior.\n",
      "  _warn_prf(average, modifier, msg_start, len(result))\n"
     ]
    },
    {
     "name": "stdout",
     "output_type": "stream",
     "text": [
      ">Train: 0=60609, 1=46, Test: 0=6734, 1=6\n",
      ">Train: 0=60607, 1=48, Test: 0=6736, 1=4\n",
      ">Train: 0=60612, 1=44, Test: 0=6731, 1=8\n",
      ">Train: 0=60609, 1=47, Test: 0=6734, 1=5\n",
      ">Train: 0=60607, 1=49, Test: 0=6736, 1=3\n"
     ]
    },
    {
     "name": "stderr",
     "output_type": "stream",
     "text": [
      "C:\\Users\\Daniele\\anaconda3\\lib\\site-packages\\sklearn\\svm\\_base.py:1244: ConvergenceWarning: Liblinear failed to converge, increase the number of iterations.\n",
      "  warnings.warn(\n",
      "C:\\Users\\Daniele\\anaconda3\\lib\\site-packages\\sklearn\\metrics\\_classification.py:1344: UndefinedMetricWarning: Precision is ill-defined and being set to 0.0 due to no predicted samples. Use `zero_division` parameter to control this behavior.\n",
      "  _warn_prf(average, modifier, msg_start, len(result))\n",
      "C:\\Users\\Daniele\\anaconda3\\lib\\site-packages\\sklearn\\metrics\\_classification.py:1344: UndefinedMetricWarning: Precision is ill-defined and being set to 0.0 due to no predicted samples. Use `zero_division` parameter to control this behavior.\n",
      "  _warn_prf(average, modifier, msg_start, len(result))\n"
     ]
    },
    {
     "name": "stdout",
     "output_type": "stream",
     "text": [
      ">Train: 0=60609, 1=47, Test: 0=6734, 1=5\n",
      ">Train: 0=60608, 1=48, Test: 0=6735, 1=4\n"
     ]
    },
    {
     "name": "stderr",
     "output_type": "stream",
     "text": [
      "C:\\Users\\Daniele\\anaconda3\\lib\\site-packages\\sklearn\\svm\\_base.py:1244: ConvergenceWarning: Liblinear failed to converge, increase the number of iterations.\n",
      "  warnings.warn(\n",
      "C:\\Users\\Daniele\\anaconda3\\lib\\site-packages\\sklearn\\metrics\\_classification.py:1344: UndefinedMetricWarning: Precision is ill-defined and being set to 0.0 due to no predicted samples. Use `zero_division` parameter to control this behavior.\n",
      "  _warn_prf(average, modifier, msg_start, len(result))\n",
      "C:\\Users\\Daniele\\anaconda3\\lib\\site-packages\\sklearn\\metrics\\_classification.py:1344: UndefinedMetricWarning: Precision is ill-defined and being set to 0.0 due to no predicted samples. Use `zero_division` parameter to control this behavior.\n",
      "  _warn_prf(average, modifier, msg_start, len(result))\n"
     ]
    },
    {
     "data": {
      "text/plain": [
       "{'Mean Training Accuracy': 0.9994674847936841,\n",
       " 'Mean Training Precision': 0.6031746031746031,\n",
       " 'Mean Training Recall': 0.3706870106128399,\n",
       " 'Mean Training F1 Score': 0.4590422502560889,\n",
       " 'Mean Validation Accuracy': 0.9994955093320559,\n",
       " 'Mean Validation Precision': 0.6100000000000001,\n",
       " 'Mean Validation Recall': 0.4225,\n",
       " 'Mean Validation F1 Score': 0.4802164502164502}"
      ]
     },
     "execution_count": 142,
     "metadata": {},
     "output_type": "execute_result"
    }
   ],
   "source": [
    "KfoldCV(LinearSVC(random_state=0, tol=1e-5, dual=False, max_iter=10000), pd.DataFrame(X_u2r), y_u2r, 10, 4)"
   ]
  },
  {
   "cell_type": "markdown",
   "metadata": {},
   "source": [
    "#### K-fold cross validation on u2r Standard Scaling"
   ]
  },
  {
   "cell_type": "code",
   "execution_count": 143,
   "metadata": {},
   "outputs": [
    {
     "name": "stdout",
     "output_type": "stream",
     "text": [
      ">Train: 0=60608, 1=47, Test: 0=6735, 1=5\n"
     ]
    },
    {
     "name": "stderr",
     "output_type": "stream",
     "text": [
      "C:\\Users\\Daniele\\anaconda3\\lib\\site-packages\\sklearn\\svm\\_base.py:1244: ConvergenceWarning: Liblinear failed to converge, increase the number of iterations.\n",
      "  warnings.warn(\n"
     ]
    },
    {
     "name": "stdout",
     "output_type": "stream",
     "text": [
      ">Train: 0=60609, 1=46, Test: 0=6734, 1=6\n"
     ]
    },
    {
     "name": "stderr",
     "output_type": "stream",
     "text": [
      "C:\\Users\\Daniele\\anaconda3\\lib\\site-packages\\sklearn\\svm\\_base.py:1244: ConvergenceWarning: Liblinear failed to converge, increase the number of iterations.\n",
      "  warnings.warn(\n"
     ]
    },
    {
     "name": "stdout",
     "output_type": "stream",
     "text": [
      ">Train: 0=60609, 1=46, Test: 0=6734, 1=6\n"
     ]
    },
    {
     "name": "stderr",
     "output_type": "stream",
     "text": [
      "C:\\Users\\Daniele\\anaconda3\\lib\\site-packages\\sklearn\\svm\\_base.py:1244: ConvergenceWarning: Liblinear failed to converge, increase the number of iterations.\n",
      "  warnings.warn(\n"
     ]
    },
    {
     "name": "stdout",
     "output_type": "stream",
     "text": [
      ">Train: 0=60609, 1=46, Test: 0=6734, 1=6\n",
      ">Train: 0=60607, 1=48, Test: 0=6736, 1=4\n"
     ]
    },
    {
     "name": "stderr",
     "output_type": "stream",
     "text": [
      "C:\\Users\\Daniele\\anaconda3\\lib\\site-packages\\sklearn\\svm\\_base.py:1244: ConvergenceWarning: Liblinear failed to converge, increase the number of iterations.\n",
      "  warnings.warn(\n"
     ]
    },
    {
     "name": "stdout",
     "output_type": "stream",
     "text": [
      ">Train: 0=60612, 1=44, Test: 0=6731, 1=8\n",
      ">Train: 0=60609, 1=47, Test: 0=6734, 1=5\n",
      ">Train: 0=60607, 1=49, Test: 0=6736, 1=3\n",
      ">Train: 0=60609, 1=47, Test: 0=6734, 1=5\n",
      ">Train: 0=60608, 1=48, Test: 0=6735, 1=4\n"
     ]
    },
    {
     "data": {
      "text/plain": [
       "{'Mean Training Accuracy': 0.9996554310956617,\n",
       " 'Mean Training Precision': 0.9367337054399067,\n",
       " 'Mean Training Recall': 0.5941963230923519,\n",
       " 'Mean Training F1 Score': 0.7269091884625973,\n",
       " 'Mean Validation Accuracy': 0.9995103439256766,\n",
       " 'Mean Validation Precision': 0.7883333333333333,\n",
       " 'Mean Validation Recall': 0.5366666666666667,\n",
       " 'Mean Validation F1 Score': 0.6179365079365079}"
      ]
     },
     "execution_count": 143,
     "metadata": {},
     "output_type": "execute_result"
    }
   ],
   "source": [
    "KfoldCV(LinearSVC(random_state=0, tol=1e-5, dual=False, max_iter=10000), pd.DataFrame(X_u2r_ss), y_u2r, 10, 4)"
   ]
  },
  {
   "cell_type": "markdown",
   "metadata": {},
   "source": [
    "#### Stratified cross validation on u2r"
   ]
  },
  {
   "cell_type": "code",
   "execution_count": 144,
   "metadata": {},
   "outputs": [
    {
     "name": "stdout",
     "output_type": "stream",
     "text": [
      ">Train: 0=60608, 1=47, Test: 0=6735, 1=5\n",
      ">Train: 0=60608, 1=47, Test: 0=6735, 1=5\n",
      ">Train: 0=60608, 1=47, Test: 0=6735, 1=5\n"
     ]
    },
    {
     "name": "stderr",
     "output_type": "stream",
     "text": [
      "C:\\Users\\Daniele\\anaconda3\\lib\\site-packages\\sklearn\\svm\\_base.py:1244: ConvergenceWarning: Liblinear failed to converge, increase the number of iterations.\n",
      "  warnings.warn(\n",
      "C:\\Users\\Daniele\\anaconda3\\lib\\site-packages\\sklearn\\metrics\\_classification.py:1344: UndefinedMetricWarning: Precision is ill-defined and being set to 0.0 due to no predicted samples. Use `zero_division` parameter to control this behavior.\n",
      "  _warn_prf(average, modifier, msg_start, len(result))\n",
      "C:\\Users\\Daniele\\anaconda3\\lib\\site-packages\\sklearn\\metrics\\_classification.py:1344: UndefinedMetricWarning: Precision is ill-defined and being set to 0.0 due to no predicted samples. Use `zero_division` parameter to control this behavior.\n",
      "  _warn_prf(average, modifier, msg_start, len(result))\n"
     ]
    },
    {
     "name": "stdout",
     "output_type": "stream",
     "text": [
      ">Train: 0=60609, 1=46, Test: 0=6734, 1=6\n",
      ">Train: 0=60609, 1=46, Test: 0=6734, 1=6\n",
      ">Train: 0=60609, 1=47, Test: 0=6734, 1=5\n"
     ]
    },
    {
     "name": "stderr",
     "output_type": "stream",
     "text": [
      "C:\\Users\\Daniele\\anaconda3\\lib\\site-packages\\sklearn\\svm\\_base.py:1244: ConvergenceWarning: Liblinear failed to converge, increase the number of iterations.\n",
      "  warnings.warn(\n",
      "C:\\Users\\Daniele\\anaconda3\\lib\\site-packages\\sklearn\\metrics\\_classification.py:1344: UndefinedMetricWarning: Precision is ill-defined and being set to 0.0 due to no predicted samples. Use `zero_division` parameter to control this behavior.\n",
      "  _warn_prf(average, modifier, msg_start, len(result))\n",
      "C:\\Users\\Daniele\\anaconda3\\lib\\site-packages\\sklearn\\metrics\\_classification.py:1344: UndefinedMetricWarning: Precision is ill-defined and being set to 0.0 due to no predicted samples. Use `zero_division` parameter to control this behavior.\n",
      "  _warn_prf(average, modifier, msg_start, len(result))\n"
     ]
    },
    {
     "name": "stdout",
     "output_type": "stream",
     "text": [
      ">Train: 0=60609, 1=47, Test: 0=6734, 1=5\n",
      ">Train: 0=60609, 1=47, Test: 0=6734, 1=5\n",
      ">Train: 0=60609, 1=47, Test: 0=6734, 1=5\n",
      ">Train: 0=60609, 1=47, Test: 0=6734, 1=5\n"
     ]
    },
    {
     "data": {
      "text/plain": [
       "{'Mean Training Accuracy': 0.999503754798388,\n",
       " 'Mean Training Precision': 0.6852743090243091,\n",
       " 'Mean Training Recall': 0.4287234042553191,\n",
       " 'Mean Training F1 Score': 0.5268458728332146,\n",
       " 'Mean Validation Accuracy': 0.9994806681335404,\n",
       " 'Mean Validation Precision': 0.6016666666666667,\n",
       " 'Mean Validation Recall': 0.42000000000000004,\n",
       " 'Mean Validation F1 Score': 0.4671428571428572}"
      ]
     },
     "execution_count": 144,
     "metadata": {},
     "output_type": "execute_result"
    }
   ],
   "source": [
    "stratifiedCV(LinearSVC(random_state=0, tol=1e-5, dual=False, max_iter=10000), pd.DataFrame(X_u2r), y_u2r, 10, 4)"
   ]
  },
  {
   "cell_type": "markdown",
   "metadata": {},
   "source": [
    "#### Stratified cross validation on u2r Standard Scaling"
   ]
  },
  {
   "cell_type": "code",
   "execution_count": 145,
   "metadata": {},
   "outputs": [
    {
     "name": "stdout",
     "output_type": "stream",
     "text": [
      ">Train: 0=60608, 1=47, Test: 0=6735, 1=5\n",
      ">Train: 0=60608, 1=47, Test: 0=6735, 1=5\n",
      ">Train: 0=60608, 1=47, Test: 0=6735, 1=5\n"
     ]
    },
    {
     "name": "stderr",
     "output_type": "stream",
     "text": [
      "C:\\Users\\Daniele\\anaconda3\\lib\\site-packages\\sklearn\\svm\\_base.py:1244: ConvergenceWarning: Liblinear failed to converge, increase the number of iterations.\n",
      "  warnings.warn(\n"
     ]
    },
    {
     "name": "stdout",
     "output_type": "stream",
     "text": [
      ">Train: 0=60609, 1=46, Test: 0=6734, 1=6\n",
      ">Train: 0=60609, 1=46, Test: 0=6734, 1=6\n"
     ]
    },
    {
     "name": "stderr",
     "output_type": "stream",
     "text": [
      "C:\\Users\\Daniele\\anaconda3\\lib\\site-packages\\sklearn\\svm\\_base.py:1244: ConvergenceWarning: Liblinear failed to converge, increase the number of iterations.\n",
      "  warnings.warn(\n"
     ]
    },
    {
     "name": "stdout",
     "output_type": "stream",
     "text": [
      ">Train: 0=60609, 1=47, Test: 0=6734, 1=5\n",
      ">Train: 0=60609, 1=47, Test: 0=6734, 1=5\n",
      ">Train: 0=60609, 1=47, Test: 0=6734, 1=5\n"
     ]
    },
    {
     "name": "stderr",
     "output_type": "stream",
     "text": [
      "C:\\Users\\Daniele\\anaconda3\\lib\\site-packages\\sklearn\\svm\\_base.py:1244: ConvergenceWarning: Liblinear failed to converge, increase the number of iterations.\n",
      "  warnings.warn(\n"
     ]
    },
    {
     "name": "stdout",
     "output_type": "stream",
     "text": [
      ">Train: 0=60609, 1=47, Test: 0=6734, 1=5\n",
      ">Train: 0=60609, 1=47, Test: 0=6734, 1=5\n"
     ]
    },
    {
     "data": {
      "text/plain": [
       "{'Mean Training Accuracy': 0.9996570797643616,\n",
       " 'Mean Training Precision': 0.9304930375314134,\n",
       " 'Mean Training Recall': 0.6004162812210916,\n",
       " 'Mean Training F1 Score': 0.7294715238551768,\n",
       " 'Mean Validation Accuracy': 0.9994955071304243,\n",
       " 'Mean Validation Precision': 0.7933333333333333,\n",
       " 'Mean Validation Recall': 0.5000000000000001,\n",
       " 'Mean Validation F1 Score': 0.5913492063492064}"
      ]
     },
     "execution_count": 145,
     "metadata": {},
     "output_type": "execute_result"
    }
   ],
   "source": [
    "stratifiedCV(LinearSVC(random_state=0, tol=1e-5, dual=False, max_iter=10000), pd.DataFrame(X_u2r_ss), y_u2r, 10, 4)"
   ]
  },
  {
   "cell_type": "markdown",
   "metadata": {},
   "source": [
    "#### Predict on u2r"
   ]
  },
  {
   "cell_type": "code",
   "execution_count": 146,
   "metadata": {},
   "outputs": [
    {
     "data": {
      "image/png": "[encoded data removed]",
      "text/plain": [
       "<Figure size 432x288 with 2 Axes>"
      ]
     },
     "metadata": {
      "needs_background": "light"
     },
     "output_type": "display_data"
    },
    {
     "name": "stdout",
     "output_type": "stream",
     "text": [
      "Accuracy: 0.99458 \n",
      "Precision: 0.81818 \n",
      "Recall: 0.26866 \n",
      "F-measure: 0.40449 \n"
     ]
    }
   ],
   "source": [
    "y_u2r_prediction = SVM(X_u2r, y_u2r).predict(X_u2r_test)\n",
    "plotConfusionMatrix(y_u2r_prediction, y_u2r_test, 4)"
   ]
  },
  {
   "cell_type": "code",
   "execution_count": 147,
   "metadata": {},
   "outputs": [
    {
     "data": {
      "image/png": "[encoded data removed]",
      "text/plain": [
       "<Figure size 432x288 with 2 Axes>"
      ]
     },
     "metadata": {
      "needs_background": "light"
     },
     "output_type": "display_data"
    },
    {
     "name": "stdout",
     "output_type": "stream",
     "text": [
      "Accuracy: 0.99499 \n",
      "Precision: 0.82143 \n",
      "Recall: 0.34328 \n",
      "F-measure: 0.48421 \n"
     ]
    }
   ],
   "source": [
    "y_u2r_prediction = SVM(X_u2r_ss, y_u2r).predict(X_u2r_test_ss)\n",
    "plotConfusionMatrix(y_u2r_prediction, y_u2r_test, 4)"
   ]
  },
  {
   "cell_type": "markdown",
   "metadata": {},
   "source": [
    "## Binary dataset no feature selection"
   ]
  },
  {
   "cell_type": "code",
   "execution_count": 148,
   "metadata": {},
   "outputs": [
    {
     "data": {
      "text/plain": [
       "<module 'matplotlib.pyplot' from 'C:\\\\Users\\\\Daniele\\\\anaconda3\\\\lib\\\\site-packages\\\\matplotlib\\\\pyplot.py'>"
      ]
     },
     "execution_count": 148,
     "metadata": {},
     "output_type": "execute_result"
    },
    {
     "data": {
      "image/png": "[encoded data removed]",
      "text/plain": [
       "<Figure size 720x360 with 1 Axes>"
      ]
     },
     "metadata": {
      "needs_background": "light"
     },
     "output_type": "display_data"
    }
   ],
   "source": [
    "fullDf = getFullDf()\n",
    "fullDf_test = getFullDfTest()\n",
    "\n",
    "fullDf['label'], fullDf_test['label'] = prepareBinary()\n",
    "\n",
    "fullDf=oneHotEcoding(fullDf, 'protocol_type')\n",
    "fullDf=oneHotEcoding(fullDf, 'service')\n",
    "fullDf=oneHotEcoding(fullDf, 'flag')\n",
    "fullDf_test=oneHotEcoding(fullDf_test, 'protocol_type')\n",
    "fullDf_test=oneHotEcoding(fullDf_test, 'service')\n",
    "fullDf_test=oneHotEcoding(fullDf_test, 'flag')\n",
    "\n",
    "fullDf_test=adaptTestset(fullDf, fullDf_test)\n",
    "\n",
    "colNames=list(fullDf)\n",
    "colNames_test=list(fullDf_test)\n",
    "\n",
    "plotDf(fullDf['label'])\n"
   ]
  },
  {
   "cell_type": "code",
   "execution_count": 149,
   "metadata": {},
   "outputs": [],
   "source": [
    "x_df, y_df = getXandY(fullDf)\n",
    "x_df_test, y_df_test = getXandY(fullDf_test)\n",
    "\n",
    "x_df_ss = standardScaler(x_df)\n",
    "x_df_test_ss = standardScaler(x_df_test)\n"
   ]
  },
  {
   "cell_type": "code",
   "execution_count": 150,
   "metadata": {},
   "outputs": [
    {
     "name": "stdout",
     "output_type": "stream",
     "text": [
      ">Train: 0=60653, 1=52722, Test: 0=6690, 1=5908\n",
      ">Train: 0=60581, 1=52794, Test: 0=6762, 1=5836\n",
      ">Train: 0=60638, 1=52737, Test: 0=6705, 1=5893\n",
      ">Train: 0=60750, 1=52626, Test: 0=6593, 1=6004\n",
      ">Train: 0=60645, 1=52731, Test: 0=6698, 1=5899\n",
      ">Train: 0=60505, 1=52871, Test: 0=6838, 1=5759\n",
      ">Train: 0=60507, 1=52869, Test: 0=6836, 1=5761\n",
      ">Train: 0=60570, 1=52806, Test: 0=6773, 1=5824\n",
      ">Train: 0=60650, 1=52726, Test: 0=6693, 1=5904\n",
      ">Train: 0=60588, 1=52788, Test: 0=6755, 1=5842\n"
     ]
    },
    {
     "data": {
      "text/plain": [
       "{'Mean Training Accuracy': 0.9424893830669419,\n",
       " 'Mean Training Precision': 0.9577542258668343,\n",
       " 'Mean Training Recall': 0.9166325814340986,\n",
       " 'Mean Training F1 Score': 0.9365382385933605,\n",
       " 'Mean Validation Accuracy': 0.9421627418730256,\n",
       " 'Mean Validation Precision': 0.9572882600001742,\n",
       " 'Mean Validation Recall': 0.916190325356687,\n",
       " 'Mean Validation F1 Score': 0.936063951135902}"
      ]
     },
     "execution_count": 150,
     "metadata": {},
     "output_type": "execute_result"
    }
   ],
   "source": [
    "KfoldCV(LinearSVC(random_state=0, tol=1e-5, dual=False, max_iter=10000), pd.DataFrame(x_df), y_df, 10, 1)"
   ]
  },
  {
   "cell_type": "code",
   "execution_count": 151,
   "metadata": {},
   "outputs": [
    {
     "name": "stdout",
     "output_type": "stream",
     "text": [
      ">Train: 0=60653, 1=52722, Test: 0=6690, 1=5908\n",
      ">Train: 0=60581, 1=52794, Test: 0=6762, 1=5836\n",
      ">Train: 0=60638, 1=52737, Test: 0=6705, 1=5893\n",
      ">Train: 0=60750, 1=52626, Test: 0=6593, 1=6004\n",
      ">Train: 0=60645, 1=52731, Test: 0=6698, 1=5899\n",
      ">Train: 0=60505, 1=52871, Test: 0=6838, 1=5759\n",
      ">Train: 0=60507, 1=52869, Test: 0=6836, 1=5761\n",
      ">Train: 0=60570, 1=52806, Test: 0=6773, 1=5824\n",
      ">Train: 0=60650, 1=52726, Test: 0=6693, 1=5904\n",
      ">Train: 0=60588, 1=52788, Test: 0=6755, 1=5842\n"
     ]
    },
    {
     "data": {
      "text/plain": [
       "{'Mean Training Accuracy': 0.973806556206144,\n",
       " 'Mean Training Precision': 0.9796517184416789,\n",
       " 'Mean Training Recall': 0.9637386711465268,\n",
       " 'Mean Training F1 Score': 0.9716298181582512,\n",
       " 'Mean Validation Accuracy': 0.9736530933671175,\n",
       " 'Mean Validation Precision': 0.9795035995694678,\n",
       " 'Mean Validation Recall': 0.9635506504117556,\n",
       " 'Mean Validation F1 Score': 0.971459244724221}"
      ]
     },
     "execution_count": 151,
     "metadata": {},
     "output_type": "execute_result"
    }
   ],
   "source": [
    "KfoldCV(LinearSVC(random_state=0, tol=1e-5, dual=False, max_iter=10000), pd.DataFrame(x_df_ss), y_df, 10, 1)"
   ]
  },
  {
   "cell_type": "code",
   "execution_count": 152,
   "metadata": {
    "scrolled": true
   },
   "outputs": [
    {
     "data": {
      "image/png": "[encoded data removed]",
      "text/plain": [
       "<Figure size 432x288 with 2 Axes>"
      ]
     },
     "metadata": {
      "needs_background": "light"
     },
     "output_type": "display_data"
    },
    {
     "name": "stdout",
     "output_type": "stream",
     "text": [
      "Accuracy: 0.73416 \n",
      "Precision: 0.91495 \n",
      "Recall: 0.58763 \n",
      "F-measure: 0.71563 \n"
     ]
    }
   ],
   "source": [
    "y_prediction = SVM(x_df, y_df).predict(x_df_test)\n",
    "plotConfusionMatrix(y_prediction, y_df_test, 1)"
   ]
  },
  {
   "cell_type": "code",
   "execution_count": 153,
   "metadata": {},
   "outputs": [
    {
     "data": {
      "image/png": "[encoded data removed]",
      "text/plain": [
       "<Figure size 432x288 with 2 Axes>"
      ]
     },
     "metadata": {
      "needs_background": "light"
     },
     "output_type": "display_data"
    },
    {
     "name": "stdout",
     "output_type": "stream",
     "text": [
      "Accuracy: 0.78881 \n",
      "Precision: 0.89858 \n",
      "Recall: 0.70903 \n",
      "F-measure: 0.79263 \n"
     ]
    }
   ],
   "source": [
    "y_prediction = SVM(x_df_ss, y_df).predict(x_df_test_ss)\n",
    "plotConfusionMatrix(y_prediction, y_df_test, 1)"
   ]
  },
  {
   "cell_type": "markdown",
   "metadata": {},
   "source": [
    "## Binary dataset feature selection"
   ]
  },
  {
   "cell_type": "code",
   "execution_count": 154,
   "metadata": {},
   "outputs": [],
   "source": [
    "X_df_rfe, rfecolname = recursiveFeatureExtraction(LinearSVC(random_state=0, tol=1e-5, dual=False, max_iter=10000), pd.DataFrame(x_df), y_df, 13)\n",
    "X_df_test_rfe=x_df_test.values[:,rfecolname]"
   ]
  },
  {
   "cell_type": "code",
   "execution_count": 155,
   "metadata": {},
   "outputs": [],
   "source": [
    "X_df_rfe_ss, rfecolname_ss = recursiveFeatureExtraction(LinearSVC(random_state=0, tol=1e-5, dual=False, max_iter=10000), pd.DataFrame(x_df_ss), y_df, 13)\n",
    "X_df_test_rfe_ss=x_df_test_ss[:,rfecolname_ss]"
   ]
  },
  {
   "cell_type": "markdown",
   "metadata": {},
   "source": [
    "#### K-fold cross validation"
   ]
  },
  {
   "cell_type": "code",
   "execution_count": 156,
   "metadata": {},
   "outputs": [
    {
     "name": "stdout",
     "output_type": "stream",
     "text": [
      ">Train: 0=60653, 1=52722, Test: 0=6690, 1=5908\n",
      ">Train: 0=60581, 1=52794, Test: 0=6762, 1=5836\n",
      ">Train: 0=60638, 1=52737, Test: 0=6705, 1=5893\n",
      ">Train: 0=60750, 1=52626, Test: 0=6593, 1=6004\n",
      ">Train: 0=60645, 1=52731, Test: 0=6698, 1=5899\n",
      ">Train: 0=60505, 1=52871, Test: 0=6838, 1=5759\n",
      ">Train: 0=60507, 1=52869, Test: 0=6836, 1=5761\n",
      ">Train: 0=60570, 1=52806, Test: 0=6773, 1=5824\n",
      ">Train: 0=60650, 1=52726, Test: 0=6693, 1=5904\n",
      ">Train: 0=60588, 1=52788, Test: 0=6755, 1=5842\n"
     ]
    },
    {
     "data": {
      "text/plain": [
       "{'Mean Training Accuracy': 0.9524113193212014,\n",
       " 'Mean Training Precision': 0.959716623756972,\n",
       " 'Mean Training Recall': 0.9370840758442567,\n",
       " 'Mean Training F1 Score': 0.9482652601668768,\n",
       " 'Mean Validation Accuracy': 0.952402510353598,\n",
       " 'Mean Validation Precision': 0.9596955717705071,\n",
       " 'Mean Validation Recall': 0.937102887954703,\n",
       " 'Mean Validation F1 Score': 0.9482594756932718}"
      ]
     },
     "execution_count": 156,
     "metadata": {},
     "output_type": "execute_result"
    }
   ],
   "source": [
    "KfoldCV(LinearSVC(random_state=0, tol=1e-5, dual=False, max_iter=10000), pd.DataFrame(X_df_rfe), y_df, 10, 1)"
   ]
  },
  {
   "cell_type": "markdown",
   "metadata": {},
   "source": [
    "#### K-fold cross validation Standard Scaler"
   ]
  },
  {
   "cell_type": "code",
   "execution_count": 157,
   "metadata": {},
   "outputs": [
    {
     "name": "stdout",
     "output_type": "stream",
     "text": [
      ">Train: 0=60653, 1=52722, Test: 0=6690, 1=5908\n",
      ">Train: 0=60581, 1=52794, Test: 0=6762, 1=5836\n",
      ">Train: 0=60638, 1=52737, Test: 0=6705, 1=5893\n",
      ">Train: 0=60750, 1=52626, Test: 0=6593, 1=6004\n",
      ">Train: 0=60645, 1=52731, Test: 0=6698, 1=5899\n",
      ">Train: 0=60505, 1=52871, Test: 0=6838, 1=5759\n",
      ">Train: 0=60507, 1=52869, Test: 0=6836, 1=5761\n",
      ">Train: 0=60570, 1=52806, Test: 0=6773, 1=5824\n",
      ">Train: 0=60650, 1=52726, Test: 0=6693, 1=5904\n",
      ">Train: 0=60588, 1=52788, Test: 0=6755, 1=5842\n"
     ]
    },
    {
     "data": {
      "text/plain": [
       "{'Mean Training Accuracy': 0.9665695562098783,\n",
       " 'Mean Training Precision': 0.9697263120257645,\n",
       " 'Mean Training Recall': 0.9580818721468136,\n",
       " 'Mean Training F1 Score': 0.9638688447988037,\n",
       " 'Mean Validation Accuracy': 0.9665166524943766,\n",
       " 'Mean Validation Precision': 0.969643285921261,\n",
       " 'Mean Validation Recall': 0.9580684233120212,\n",
       " 'Mean Validation F1 Score': 0.9638181007559631}"
      ]
     },
     "execution_count": 157,
     "metadata": {},
     "output_type": "execute_result"
    }
   ],
   "source": [
    "KfoldCV(LinearSVC(random_state=0, tol=1e-5, dual=False, max_iter=10000), pd.DataFrame(X_df_rfe_ss), y_df, 10, 1)"
   ]
  },
  {
   "cell_type": "markdown",
   "metadata": {},
   "source": [
    "#### Predict"
   ]
  },
  {
   "cell_type": "code",
   "execution_count": 158,
   "metadata": {},
   "outputs": [
    {
     "data": {
      "image/png": "[encoded data removed]",
      "text/plain": [
       "<Figure size 432x288 with 2 Axes>"
      ]
     },
     "metadata": {
      "needs_background": "light"
     },
     "output_type": "display_data"
    },
    {
     "name": "stdout",
     "output_type": "stream",
     "text": [
      "Accuracy: 0.78225 \n",
      "Precision: 0.96612 \n",
      "Recall: 0.63991 \n",
      "F-measure: 0.76989 \n"
     ]
    }
   ],
   "source": [
    "y_prediction = SVM(X_df_rfe, y_df).predict(X_df_test_rfe)\n",
    "plotConfusionMatrix(y_prediction, y_df_test, 1)"
   ]
  },
  {
   "cell_type": "code",
   "execution_count": 159,
   "metadata": {},
   "outputs": [
    {
     "data": {
      "image/png": "[encoded data removed]",
      "text/plain": [
       "<Figure size 432x288 with 2 Axes>"
      ]
     },
     "metadata": {
      "needs_background": "light"
     },
     "output_type": "display_data"
    },
    {
     "name": "stdout",
     "output_type": "stream",
     "text": [
      "Accuracy: 0.72942 \n",
      "Precision: 0.88260 \n",
      "Recall: 0.60516 \n",
      "F-measure: 0.71801 \n"
     ]
    }
   ],
   "source": [
    "y_prediction = SVM(X_df_rfe_ss, y_df).predict(X_df_test_rfe_ss)\n",
    "plotConfusionMatrix(y_prediction, y_df_test, 1)"
   ]
  },
  {
   "cell_type": "code",
   "execution_count": null,
   "metadata": {},
   "outputs": [],
   "source": []
  }
 ],
 "metadata": {
  "colab": {
   "authorship_tag": "ABX9TyMHeZyIWbMZKAf4sJQ/BZhF",
   "collapsed_sections": [
    "6mvaHjRTkbk5"
   ],
   "provenance": []
  },
  "kernelspec": {
   "display_name": "Python 3 (ipykernel)",
   "language": "python",
   "name": "python3"
  },
  "language_info": {
   "codemirror_mode": {
    "name": "ipython",
    "version": 3
   },
   "file_extension": ".py",
   "mimetype": "text/x-python",
   "name": "python",
   "nbconvert_exporter": "python",
   "pygments_lexer": "ipython3",
   "version": "3.9.7"
  }
 },
 "nbformat": 4,
 "nbformat_minor": 1
}
