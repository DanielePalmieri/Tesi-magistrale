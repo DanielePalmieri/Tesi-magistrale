{
 "cells": [
  {
   "cell_type": "code",
   "execution_count": 1,
   "metadata": {
    "colab": {
     "base_uri": "https://localhost:8080/"
    },
    "executionInfo": {
     "elapsed": 3,
     "status": "ok",
     "timestamp": 1675868759529,
     "user": {
      "displayName": "DANIELE PALMIERI",
      "userId": "13749636301499067245"
     },
     "user_tz": -60
    },
    "id": "5tWyPVVSti_W",
    "outputId": "cf23d942-3a3f-4923-fcf5-6cded2eab13b",
    "scrolled": true
   },
   "outputs": [
    {
     "name": "stdout",
     "output_type": "stream",
     "text": [
      "C:\\Users\\Daniele\\Desktop\\Materiale Tesi\\Tesi magistrale\\datasets\\NLS\n"
     ]
    }
   ],
   "source": [
    "cd datasets/NLS"
   ]
  },
  {
   "cell_type": "markdown",
   "metadata": {},
   "source": [
    "# Import"
   ]
  },
  {
   "cell_type": "code",
   "execution_count": 2,
   "metadata": {},
   "outputs": [
    {
     "name": "stderr",
     "output_type": "stream",
     "text": [
      "C:\\Users\\Daniele\\anaconda3\\lib\\site-packages\\numpy\\_distributor_init.py:30: UserWarning: loaded more than 1 DLL from .libs:\n",
      "C:\\Users\\Daniele\\anaconda3\\lib\\site-packages\\numpy\\.libs\\libopenblas.GK7GX5KEQ4F6UYO3P26ULGBQYHGQO7J4.gfortran-win_amd64.dll\n",
      "C:\\Users\\Daniele\\anaconda3\\lib\\site-packages\\numpy\\.libs\\libopenblas64__v0.3.21-gcc_10_3_0.dll\n",
      "  warnings.warn(\"loaded more than 1 DLL from .libs:\"\n",
      "C:\\Users\\Daniele\\anaconda3\\lib\\site-packages\\scipy\\__init__.py:146: UserWarning: A NumPy version >=1.16.5 and <1.23.0 is required for this version of SciPy (detected version 1.24.2\n",
      "  warnings.warn(f\"A NumPy version >={np_minversion} and <{np_maxversion}\"\n"
     ]
    }
   ],
   "source": [
    "import pandas as pd\n",
    "import numpy as np\n",
    "import scikitplot as skplt\n",
    "import matplotlib.pyplot as plt\n",
    "from sklearn.ensemble import RandomForestClassifier\n",
    "from sklearn import preprocessing\n",
    "from imblearn.over_sampling import SMOTE\n",
    "from sklearn.feature_selection import RFE\n",
    "from sklearn.tree import DecisionTreeClassifier\n",
    "from sklearn.model_selection import StratifiedKFold\n",
    "from sklearn.model_selection import KFold\n",
    "from sklearn.metrics import accuracy_score, precision_score, recall_score, f1_score\n",
    "from sklearn.preprocessing import OneHotEncoder\n",
    "from imblearn.over_sampling import RandomOverSampler\n",
    "\n",
    "# Aggiungo gli headers al CSV\n",
    "col_names = [\"duration\",\"protocol_type\",\"service\",\"flag\",\"src_bytes\",\n",
    "    \"dst_bytes\",\"land\",\"wrong_fragment\",\"urgent\",\"hot\",\"num_failed_logins\",\n",
    "    \"logged_in\",\"num_compromised\",\"root_shell\",\"su_attempted\",\"num_root\",\n",
    "    \"num_file_creations\",\"num_shells\",\"num_access_files\",\"num_outbound_cmds\",\n",
    "    \"is_host_login\",\"is_guest_login\",\"count\",\"srv_count\",\"serror_rate\",\n",
    "    \"srv_serror_rate\",\"rerror_rate\",\"srv_rerror_rate\",\"same_srv_rate\",\n",
    "    \"diff_srv_rate\",\"srv_diff_host_rate\",\"dst_host_count\",\"dst_host_srv_count\",\n",
    "    \"dst_host_same_srv_rate\",\"dst_host_diff_srv_rate\",\"dst_host_same_src_port_rate\",\n",
    "    \"dst_host_srv_diff_host_rate\",\"dst_host_serror_rate\",\"dst_host_srv_serror_rate\",\n",
    "    \"dst_host_rerror_rate\",\"dst_host_srv_rerror_rate\",\"label\"]\n",
    "\n",
    "df = pd.read_csv('KDDTrain+.csv', encoding='cp1252', names = col_names)\n",
    "df_test = pd.read_csv('KDDTest+.csv', encoding='cp1252', names = col_names)\n",
    "\n",
    "labeldf=df['label']\n",
    "labeldf_test=df_test['label']"
   ]
  },
  {
   "cell_type": "markdown",
   "metadata": {},
   "source": [
    "# Functions"
   ]
  },
  {
   "cell_type": "code",
   "execution_count": 3,
   "metadata": {
    "id": "_6ocXjZLt7SF"
   },
   "outputs": [],
   "source": [
    "#Dataset Preparation ----------------------------------------------------------------------------------------------------------\n",
    "\n",
    "def prepareMulticlass():\n",
    "    # change the label column\n",
    "    newlabeldf=labeldf.replace({ 'normal' : 0, 'neptune' : 1 ,'back': 1, 'land': 1, 'pod': 1, 'smurf': 1, 'teardrop': 1,'mailbomb': 1, 'apache2': 1, 'processtable': 1, 'udpstorm': 1, 'worm': 1,\n",
    "                           'ipsweep' : 2,'nmap' : 2,'portsweep' : 2,'satan' : 2,'mscan' : 2,'saint' : 2\n",
    "                           ,'ftp_write': 3,'guess_passwd': 3,'imap': 3,'multihop': 3,'phf': 3,'spy': 3,'warezclient': 3,'warezmaster': 3,'sendmail': 3,'named': 3,'snmpgetattack': 3,'snmpguess': 3,'xlock': 3,'xsnoop': 3,'httptunnel': 3,\n",
    "                           'buffer_overflow': 4,'loadmodule': 4,'perl': 4,'rootkit': 4,'ps': 4,'sqlattack': 4,'xterm': 4})\n",
    "    newlabeldf_test=labeldf_test.replace({ 'normal' : 0, 'neptune' : 1 ,'back': 1, 'land': 1, 'pod': 1, 'smurf': 1, 'teardrop': 1,'mailbomb': 1, 'apache2': 1, 'processtable': 1, 'udpstorm': 1, 'worm': 1,\n",
    "                           'ipsweep' : 2,'nmap' : 2,'portsweep' : 2,'satan' : 2,'mscan' : 2,'saint' : 2\n",
    "                           ,'ftp_write': 3,'guess_passwd': 3,'imap': 3,'multihop': 3,'phf': 3,'spy': 3,'warezclient': 3,'warezmaster': 3,'sendmail': 3,'named': 3,'snmpgetattack': 3,'snmpguess': 3,'xlock': 3,'xsnoop': 3,'httptunnel': 3,\n",
    "                           'buffer_overflow': 4,'loadmodule': 4,'perl': 4,'rootkit': 4,'ps': 4,'sqlattack': 4,'xterm': 4})\n",
    "    return newlabeldf, newlabeldf_test\n",
    "\n",
    "def prepareBinary():\n",
    "    # change the label column\n",
    "    newlabeldf=labeldf.replace({ 'normal' : 0, 'neptune' : 1 ,'back': 1, 'land': 1, 'pod': 1, 'smurf': 1, 'teardrop': 1,'mailbomb': 1, 'apache2': 1, 'processtable': 1, 'udpstorm': 1, 'worm': 1,\n",
    "                           'ipsweep' : 1,'nmap' : 1,'portsweep' : 1,'satan' : 1,'mscan' : 1,'saint' : 1\n",
    "                           ,'ftp_write': 1,'guess_passwd': 1,'imap': 1,'multihop': 1,'phf': 1,'spy': 1,'warezclient': 1,'warezmaster': 1,'sendmail': 1,'named': 1,'snmpgetattack': 1,'snmpguess': 1,'xlock': 1,'xsnoop': 1,'httptunnel': 1,\n",
    "                           'buffer_overflow': 1,'loadmodule': 1,'perl': 1,'rootkit': 1,'ps': 1,'sqlattack': 1,'xterm': 1})\n",
    "    newlabeldf_test=labeldf_test.replace({ 'normal' : 0, 'neptune' : 1 ,'back': 1, 'land': 1, 'pod': 1, 'smurf': 1, 'teardrop': 1,'mailbomb': 1, 'apache2': 1, 'processtable': 1, 'udpstorm': 1, 'worm': 1,\n",
    "                           'ipsweep' : 1,'nmap' : 1,'portsweep' : 1,'satan' : 1,'mscan' : 1,'saint' : 1\n",
    "                           ,'ftp_write': 1,'guess_passwd': 1,'imap': 1,'multihop': 1,'phf': 1,'spy': 1,'warezclient': 1,'warezmaster': 1,'sendmail': 1,'named': 1,'snmpgetattack': 1,'snmpguess': 1,'xlock': 1,'xsnoop': 1,'httptunnel': 1,\n",
    "                           'buffer_overflow': 1,'loadmodule': 1,'perl': 1,'rootkit': 1,'ps': 1,'sqlattack': 1,'xterm': 1})\n",
    "    return newlabeldf, newlabeldf_test\n",
    "  \n",
    "colNames=list()\n",
    "colNames_test=list()\n",
    "\n",
    "def getFullDf():\n",
    "    global colNames\n",
    "    colNames=list(df)\n",
    "    return df\n",
    "\n",
    "def getFullDfTest():\n",
    "    global colNames_test\n",
    "    colNames_test=list(df_test)\n",
    "    return df_test\n",
    "\n",
    "def getReducedDf():\n",
    "    global colNames\n",
    "    df_reduced=df.drop('protocol_type', axis=1, inplace=False)\n",
    "    df_reduced=df_reduced.drop('service', axis=1, inplace=False)\n",
    "    df_reduced=df_reduced.drop('flag', axis=1, inplace=False)\n",
    "    colNames=list(df_reduced)\n",
    "    return df_reduced\n",
    "\n",
    "def getReducedDfTest():\n",
    "    global colNames_test\n",
    "    df_reduced=df_test.drop('protocol_type', axis=1, inplace=False)\n",
    "    df_reduced=df_reduced.drop('service', axis=1, inplace=False)\n",
    "    df_reduced=df_reduced.drop('flag', axis=1, inplace=False)\n",
    "    colNames_test=list(df_reduced)\n",
    "    return df_reduced\n",
    "\n",
    "def oneHotEcoding(df, column_name):\n",
    "    df_drop = df.drop(column_name, axis=1, inplace=False)\n",
    "    one_hot = pd.get_dummies(df[column_name])\n",
    "    if(column_name == 'service'):\n",
    "        column_list=list()\n",
    "        for string in one_hot.columns.tolist():\n",
    "            column_list.append(column_name+'_'+str(string))\n",
    "        one_hot.columns=column_list\n",
    "    df = pd.concat([df_drop, one_hot], axis=1)\n",
    "    \n",
    "    return df\n",
    "\n",
    "def getXandY(df):\n",
    "    X = df.drop('label',axis=1, inplace=False)\n",
    "    Y = df.label\n",
    "    return X, Y\n",
    "\n",
    "def overSampledDF(X, Y): \n",
    "    sm = SMOTE(random_state=42)\n",
    "    X_resampled, Y_resampled = sm.fit_resample(X, Y)\n",
    "    df = pd.concat([X_resampled, Y_resampled], axis=1)\n",
    "    return df\n",
    "\n",
    "def createMulticlassDF(df):\n",
    "    to_drop_DoS = [0,1]\n",
    "    to_drop_Probe = [0,2]\n",
    "    to_drop_R2L = [0,3]\n",
    "    to_drop_U2R = [0,4]\n",
    "\n",
    "    DoS_df=df[df['label'].isin(to_drop_DoS)];\n",
    "    Probe_df=df[df['label'].isin(to_drop_Probe)];\n",
    "    R2L_df=df[df['label'].isin(to_drop_R2L)];\n",
    "    U2R_df=df[df['label'].isin(to_drop_U2R)];\n",
    "    return DoS_df, Probe_df, R2L_df, U2R_df \n",
    "\n",
    "def standardScaler(df):\n",
    "    scaler = preprocessing.StandardScaler().fit(df)\n",
    "    return scaler.transform(df) \n",
    "\n",
    "def minMaxScaler(df):\n",
    "    scaler = preprocessing.MinMaxScaler().fit(df)\n",
    "    return scaler.transform(df)\n",
    "\n",
    "def recursiveFeatureExtraction(model, X, Y, n):\n",
    "    rfe = RFE(model, n_features_to_select=n)\n",
    "    rfe.fit(X, Y)\n",
    "    X=rfe.transform(X)\n",
    "    true=rfe.support_\n",
    "    rfecolindex=[i for i, x in enumerate(true) if x]\n",
    "    rfecolname=list(colNames[i] for i in rfecolindex)\n",
    "    return X, rfecolindex\n",
    "\n",
    "def adaptTestset(train, test):\n",
    "    train_service_list=[]\n",
    "    test_service_list = []\n",
    "    \n",
    "    for string in train.columns.tolist():\n",
    "        if('service' in string):\n",
    "            train_service_list.append(string)\n",
    "    \n",
    "    for string in test.columns.tolist():\n",
    "        if('service' in string):\n",
    "            test_service_list.append(string)\n",
    "\n",
    "    difference=list(set(train_service_list) - set(test_service_list))\n",
    "\n",
    "    for col in difference:\n",
    "        test[col] = 0\n",
    "    return test.reindex(columns=train.columns)\n",
    "\n",
    "# Algorythms-------------------------------------------------------------------------------------------------------------------- \n",
    "\n",
    "def DT(X, Y):\n",
    "    clf_gini = DecisionTreeClassifier(criterion = 'gini', max_depth=3, min_samples_leaf=32)\n",
    "    return clf_gini.fit(X, Y)\n",
    "\n",
    "def stratifiedCV(model, X, Y, k, pos_label):\n",
    "    skf = StratifiedKFold(n_splits=k)\n",
    "  \n",
    "    precision_test_sum = 0\n",
    "    recall_test_sum = 0\n",
    "    f1_test_sum = 0\n",
    "    accuracy_test_sum = 0  \n",
    "    precision_train_sum = 0\n",
    "    recall_train_sum = 0\n",
    "    f1_train_sum = 0\n",
    "    accuracy_train_sum = 0 \n",
    "\n",
    "    for train_index, test_index in skf.split(X, Y):\n",
    "        X_train, X_test = X.iloc[train_index], X.iloc[test_index]\n",
    "        y_train, y_test = Y.iloc[train_index], Y.iloc[test_index]\n",
    "        model.fit(X_train, y_train)\n",
    "        y_test_pred = model.predict(X_test)\n",
    "        y_train_pred = model.predict(X_train)\n",
    "\n",
    "        test_accuracy = accuracy_score(y_test, y_test_pred)\n",
    "        test_precision = precision_score(y_test, y_test_pred, pos_label=pos_label)\n",
    "        test_recall = recall_score(y_test, y_test_pred, pos_label=pos_label)\n",
    "        test_f1 = f1_score(y_test, y_test_pred, pos_label=pos_label)\n",
    "\n",
    "        train_accuracy = accuracy_score(y_train, y_train_pred)\n",
    "        train_precision = precision_score(y_train, y_train_pred, pos_label=pos_label)\n",
    "        train_recall = recall_score(y_train, y_train_pred, pos_label=pos_label)\n",
    "        train_f1 = f1_score(y_train, y_train_pred, pos_label=pos_label)\n",
    "    \n",
    "        accuracy_test_sum += test_accuracy\n",
    "        precision_test_sum += test_precision\n",
    "        recall_test_sum += test_recall\n",
    "        f1_test_sum += test_f1\n",
    "\n",
    "        accuracy_train_sum += train_accuracy\n",
    "        precision_train_sum += train_precision\n",
    "        recall_train_sum += train_recall\n",
    "        f1_train_sum += train_f1\n",
    "\n",
    "        train_0, train_1 = len(y_train[y_train==0]), len(y_train[y_train==pos_label])\n",
    "        test_0, test_1 = len(y_test[y_test==0]), len(y_test[y_test==pos_label])\n",
    "        print('>Train: 0=%d, 1=%d, Test: 0=%d, 1=%d' % (train_0, train_1, test_0, test_1))\n",
    "\n",
    "    accuracy_test_mean = accuracy_test_sum / skf.n_splits \n",
    "    precision_test_mean = precision_test_sum / skf.n_splits\n",
    "    recall_test_mean = recall_test_sum / skf.n_splits\n",
    "    f1_test_mean = f1_test_sum / skf.n_splits\n",
    "\n",
    "    accuracy_train_mean = accuracy_train_sum / skf.n_splits \n",
    "    precision_train_mean = precision_train_sum / skf.n_splits\n",
    "    recall_train_mean = recall_train_sum / skf.n_splits\n",
    "    f1_train_mean = f1_train_sum / skf.n_splits\n",
    "\n",
    "    return {\"Mean Training Accuracy\": accuracy_train_mean,\n",
    "      \"Mean Training Precision\": precision_train_mean,\n",
    "      \"Mean Training Recall\": recall_train_mean,\n",
    "      \"Mean Training F1 Score\": f1_train_mean,\n",
    "      \"Mean Validation Accuracy\": accuracy_test_mean,\n",
    "      \"Mean Validation Precision\": precision_test_mean,\n",
    "      \"Mean Validation Recall\": recall_test_mean,\n",
    "      \"Mean Validation F1 Score\": f1_test_mean}\n",
    "  \n",
    "    \n",
    "def KfoldCV(model, X, Y, k, pos_label):\n",
    "    skf = KFold(n_splits=k)\n",
    "  \n",
    "    precision_test_sum = 0\n",
    "    recall_test_sum = 0\n",
    "    f1_test_sum = 0\n",
    "    accuracy_test_sum = 0  \n",
    "    precision_train_sum = 0\n",
    "    recall_train_sum = 0\n",
    "    f1_train_sum = 0\n",
    "    accuracy_train_sum = 0 \n",
    "\n",
    "    for train_index, test_index in skf.split(X, Y):\n",
    "        X_train, X_test = X.iloc[train_index], X.iloc[test_index]\n",
    "        y_train, y_test = Y.iloc[train_index], Y.iloc[test_index]\n",
    "        model.fit(X_train, y_train)\n",
    "        y_test_pred = model.predict(X_test)\n",
    "        y_train_pred = model.predict(X_train)\n",
    "\n",
    "        test_accuracy = accuracy_score(y_test, y_test_pred )\n",
    "        test_precision = precision_score(y_test, y_test_pred, pos_label=pos_label)\n",
    "        test_recall = recall_score(y_test, y_test_pred, pos_label=pos_label)\n",
    "        test_f1 = f1_score(y_test, y_test_pred, pos_label=pos_label)\n",
    "\n",
    "        train_accuracy = accuracy_score(y_train, y_train_pred)\n",
    "        train_precision = precision_score(y_train, y_train_pred, pos_label=pos_label)\n",
    "        train_recall = recall_score(y_train, y_train_pred, pos_label=pos_label)\n",
    "        train_f1 = f1_score(y_train, y_train_pred, pos_label=pos_label)\n",
    "    \n",
    "        accuracy_test_sum += test_accuracy\n",
    "        precision_test_sum += test_precision\n",
    "        recall_test_sum += test_recall\n",
    "        f1_test_sum += test_f1\n",
    "\n",
    "        accuracy_train_sum += train_accuracy\n",
    "        precision_train_sum += train_precision\n",
    "        recall_train_sum += train_recall\n",
    "        f1_train_sum += train_f1\n",
    "\n",
    "        train_0, train_1 = len(y_train[y_train==0]), len(y_train[y_train==pos_label])\n",
    "        test_0, test_1 = len(y_test[y_test==0]), len(y_test[y_test==pos_label])\n",
    "        print('>Train: 0=%d, 1=%d, Test: 0=%d, 1=%d' % (train_0, train_1, test_0, test_1))\n",
    "\n",
    "    accuracy_test_mean = accuracy_test_sum / skf.n_splits \n",
    "    precision_test_mean = precision_test_sum / skf.n_splits\n",
    "    recall_test_mean = recall_test_sum / skf.n_splits\n",
    "    f1_test_mean = f1_test_sum / skf.n_splits\n",
    "\n",
    "    accuracy_train_mean = accuracy_train_sum / skf.n_splits \n",
    "    precision_train_mean = precision_train_sum / skf.n_splits\n",
    "    recall_train_mean = recall_train_sum / skf.n_splits\n",
    "    f1_train_mean = f1_train_sum / skf.n_splits\n",
    "\n",
    "    return {\"Mean Training Accuracy\": accuracy_train_mean,\n",
    "      \"Mean Training Precision\": precision_train_mean,\n",
    "      \"Mean Training Recall\": recall_train_mean,\n",
    "      \"Mean Training F1 Score\": f1_train_mean,\n",
    "      \"Mean Validation Accuracy\": accuracy_test_mean,\n",
    "      \"Mean Validation Precision\": precision_test_mean,\n",
    "      \"Mean Validation Recall\": recall_test_mean,\n",
    "      \"Mean Validation F1 Score\": f1_test_mean}\n",
    "\n",
    "#Plotting-----------------------------------------------------------------------------------------------------------------------\n",
    "\n",
    "def plotDf(y):\n",
    "    plt.figure(figsize=(10,5))\n",
    "    class_distribution = y.value_counts()\n",
    "    class_distribution.plot(kind='bar')\n",
    "    plt.xlabel('Class')\n",
    "    plt.ylabel('Data points per Class')\n",
    "    plt.title('Distribution of yi in train data')\n",
    "    plt.grid()\n",
    "    return plt\n",
    "\n",
    "def plotConfusionMatrix(Y_pred, Y_test, pos_label):\n",
    "    skplt.metrics.plot_confusion_matrix(Y_test, Y_pred)\n",
    "    plt.show()\n",
    "    accuracy = accuracy_score(Y_test, Y_pred)\n",
    "    print(\"Accuracy: %0.5f \" % accuracy)\n",
    "    precision = precision_score(Y_test, Y_pred, pos_label=pos_label)\n",
    "    print(\"Precision: %0.5f \" % precision)\n",
    "    recall = recall_score(Y_test, Y_pred, pos_label=pos_label)\n",
    "    print(\"Recall: %0.5f \" % recall)\n",
    "    f = f1_score(Y_test, Y_pred, pos_label=pos_label)\n",
    "    print(\"F-measure: %0.5f \" % f)"
   ]
  },
  {
   "cell_type": "markdown",
   "metadata": {},
   "source": [
    "# Reduced DF, no oversampling"
   ]
  },
  {
   "cell_type": "code",
   "execution_count": 4,
   "metadata": {
    "colab": {
     "base_uri": "https://localhost:8080/",
     "height": 364
    },
    "executionInfo": {
     "elapsed": 825,
     "status": "ok",
     "timestamp": 1675868788597,
     "user": {
      "displayName": "DANIELE PALMIERI",
      "userId": "13749636301499067245"
     },
     "user_tz": -60
    },
    "id": "Sd9I2blW6SOK",
    "outputId": "3143ab84-9747-481a-8ba0-863344ad6186"
   },
   "outputs": [
    {
     "data": {
      "text/plain": [
       "<module 'matplotlib.pyplot' from 'C:\\\\Users\\\\Daniele\\\\anaconda3\\\\lib\\\\site-packages\\\\matplotlib\\\\pyplot.py'>"
      ]
     },
     "execution_count": 4,
     "metadata": {},
     "output_type": "execute_result"
    },
    {
     "data": {
      "image/png": "[encoded data removed]",
      "text/plain": [
       "<Figure size 720x360 with 1 Axes>"
      ]
     },
     "metadata": {
      "needs_background": "light"
     },
     "output_type": "display_data"
    }
   ],
   "source": [
    "reducedDf = getReducedDf()\n",
    "reducedDf_test = getReducedDfTest()\n",
    "\n",
    "reducedDf['label'], reducedDf_test['label'] = prepareMulticlass()\n",
    "\n",
    "plotDf(reducedDf['label'])\n"
   ]
  },
  {
   "cell_type": "code",
   "execution_count": 5,
   "metadata": {
    "id": "zyuGPMoLbxc-"
   },
   "outputs": [],
   "source": [
    "#Preparo i dataframe per ogni classe di attacco\n",
    "dos, probe, r2l, u2r = createMulticlassDF(reducedDf)\n",
    "dos_test, probe_test, r2l_test, u2r_test = createMulticlassDF(reducedDf_test)\n",
    "\n",
    "X_dos, y_dos = getXandY(dos)\n",
    "X_probe, y_probe = getXandY(probe)\n",
    "X_r2l, y_r2l = getXandY(r2l)\n",
    "X_u2r, y_u2r = getXandY(u2r)\n",
    "\n",
    "X_dos_test, y_dos_test = getXandY(dos_test)\n",
    "X_probe_test, y_probe_test = getXandY(probe_test)\n",
    "X_r2l_test, y_r2l_test = getXandY(r2l_test)\n",
    "X_u2r_test, y_u2r_test = getXandY(u2r_test)"
   ]
  },
  {
   "cell_type": "code",
   "execution_count": 6,
   "metadata": {
    "id": "JPdFVffDAz33"
   },
   "outputs": [],
   "source": [
    "#Effettuo standard scaler\n",
    "X_dos_ss=standardScaler(X_dos)\n",
    "X_probe_ss=standardScaler(X_probe)\n",
    "X_r2l_ss=standardScaler(X_r2l)\n",
    "X_u2r_ss=standardScaler(X_u2r)\n",
    "\n",
    "X_dos_test_ss=standardScaler(X_dos_test)\n",
    "X_probe_test_ss=standardScaler(X_probe_test)\n",
    "X_r2l_test_ss=standardScaler(X_r2l_test)\n",
    "X_u2r_test_ss=standardScaler(X_u2r_test)"
   ]
  },
  {
   "cell_type": "markdown",
   "metadata": {
    "id": "4R7xuyWpitQi"
   },
   "source": [
    "## No feature selection"
   ]
  },
  {
   "cell_type": "markdown",
   "metadata": {},
   "source": [
    "#### K-fold cross validation on dos"
   ]
  },
  {
   "cell_type": "code",
   "execution_count": 7,
   "metadata": {
    "scrolled": true
   },
   "outputs": [
    {
     "name": "stdout",
     "output_type": "stream",
     "text": [
      ">Train: 0=60666, 1=41277, Test: 0=6677, 1=4650\n",
      ">Train: 0=60586, 1=41357, Test: 0=6757, 1=4570\n",
      ">Train: 0=60612, 1=41331, Test: 0=6731, 1=4596\n",
      ">Train: 0=60720, 1=41223, Test: 0=6623, 1=4704\n",
      ">Train: 0=60634, 1=41309, Test: 0=6709, 1=4618\n",
      ">Train: 0=60525, 1=41418, Test: 0=6818, 1=4509\n",
      ">Train: 0=60548, 1=41395, Test: 0=6795, 1=4532\n",
      ">Train: 0=60557, 1=41386, Test: 0=6786, 1=4541\n",
      ">Train: 0=60662, 1=41281, Test: 0=6681, 1=4646\n",
      ">Train: 0=60577, 1=41366, Test: 0=6766, 1=4561\n"
     ]
    },
    {
     "data": {
      "text/plain": [
       "{'Mean Training Accuracy': 0.9742905349067617,\n",
       " 'Mean Training Precision': 0.998817152947103,\n",
       " 'Mean Training Recall': 0.937703083666077,\n",
       " 'Mean Training F1 Score': 0.9672957541647055,\n",
       " 'Mean Validation Accuracy': 0.9742650304581971,\n",
       " 'Mean Validation Precision': 0.998793005598157,\n",
       " 'Mean Validation Recall': 0.9376632504397431,\n",
       " 'Mean Validation F1 Score': 0.9672613811865638}"
      ]
     },
     "execution_count": 7,
     "metadata": {},
     "output_type": "execute_result"
    }
   ],
   "source": [
    "KfoldCV(DecisionTreeClassifier(criterion = 'gini', max_depth=3, min_samples_leaf=32), pd.DataFrame(X_dos), y_dos, 10, 1)"
   ]
  },
  {
   "cell_type": "markdown",
   "metadata": {},
   "source": [
    "#### K-fold cross validation on dos Standard Scaler"
   ]
  },
  {
   "cell_type": "code",
   "execution_count": 8,
   "metadata": {
    "scrolled": true
   },
   "outputs": [
    {
     "name": "stdout",
     "output_type": "stream",
     "text": [
      ">Train: 0=60666, 1=41277, Test: 0=6677, 1=4650\n",
      ">Train: 0=60586, 1=41357, Test: 0=6757, 1=4570\n",
      ">Train: 0=60612, 1=41331, Test: 0=6731, 1=4596\n",
      ">Train: 0=60720, 1=41223, Test: 0=6623, 1=4704\n",
      ">Train: 0=60634, 1=41309, Test: 0=6709, 1=4618\n",
      ">Train: 0=60525, 1=41418, Test: 0=6818, 1=4509\n",
      ">Train: 0=60548, 1=41395, Test: 0=6795, 1=4532\n",
      ">Train: 0=60557, 1=41386, Test: 0=6786, 1=4541\n",
      ">Train: 0=60662, 1=41281, Test: 0=6681, 1=4646\n",
      ">Train: 0=60577, 1=41366, Test: 0=6766, 1=4561\n"
     ]
    },
    {
     "data": {
      "text/plain": [
       "{'Mean Training Accuracy': 0.9742905349067617,\n",
       " 'Mean Training Precision': 0.998817152947103,\n",
       " 'Mean Training Recall': 0.937703083666077,\n",
       " 'Mean Training F1 Score': 0.9672957541647055,\n",
       " 'Mean Validation Accuracy': 0.9742738589211617,\n",
       " 'Mean Validation Precision': 0.9988158366340814,\n",
       " 'Mean Validation Recall': 0.9376632504397431,\n",
       " 'Mean Validation F1 Score': 0.9672721154117386}"
      ]
     },
     "execution_count": 8,
     "metadata": {},
     "output_type": "execute_result"
    }
   ],
   "source": [
    "KfoldCV(DecisionTreeClassifier(criterion = 'gini', max_depth=3, min_samples_leaf=32), pd.DataFrame(X_dos_ss), y_dos, 10, 1)"
   ]
  },
  {
   "cell_type": "markdown",
   "metadata": {},
   "source": [
    "#### Stratified cross validation on dos"
   ]
  },
  {
   "cell_type": "code",
   "execution_count": 9,
   "metadata": {},
   "outputs": [
    {
     "name": "stdout",
     "output_type": "stream",
     "text": [
      ">Train: 0=60608, 1=41335, Test: 0=6735, 1=4592\n",
      ">Train: 0=60608, 1=41335, Test: 0=6735, 1=4592\n",
      ">Train: 0=60608, 1=41335, Test: 0=6735, 1=4592\n",
      ">Train: 0=60609, 1=41334, Test: 0=6734, 1=4593\n",
      ">Train: 0=60609, 1=41334, Test: 0=6734, 1=4593\n",
      ">Train: 0=60609, 1=41334, Test: 0=6734, 1=4593\n",
      ">Train: 0=60609, 1=41334, Test: 0=6734, 1=4593\n",
      ">Train: 0=60609, 1=41334, Test: 0=6734, 1=4593\n",
      ">Train: 0=60609, 1=41334, Test: 0=6734, 1=4593\n",
      ">Train: 0=60609, 1=41334, Test: 0=6734, 1=4593\n"
     ]
    },
    {
     "data": {
      "text/plain": [
       "{'Mean Training Accuracy': 0.9742905349067617,\n",
       " 'Mean Training Precision': 0.9988171654354598,\n",
       " 'Mean Training Recall': 0.9377030703081388,\n",
       " 'Mean Training F1 Score': 0.9672957579650721,\n",
       " 'Mean Validation Accuracy': 0.9742738589211617,\n",
       " 'Mean Validation Precision': 0.998816843621289,\n",
       " 'Mean Validation Recall': 0.9376619691304219,\n",
       " 'Mean Validation F1 Score': 0.9672722877380643}"
      ]
     },
     "execution_count": 9,
     "metadata": {},
     "output_type": "execute_result"
    }
   ],
   "source": [
    "stratifiedCV(DecisionTreeClassifier(criterion = 'gini', max_depth=3, min_samples_leaf=32), pd.DataFrame(X_dos), y_dos, 10, 1)"
   ]
  },
  {
   "cell_type": "markdown",
   "metadata": {},
   "source": [
    "#### Stratified cross validation on dos Standard Scaler"
   ]
  },
  {
   "cell_type": "code",
   "execution_count": 10,
   "metadata": {},
   "outputs": [
    {
     "name": "stdout",
     "output_type": "stream",
     "text": [
      ">Train: 0=60608, 1=41335, Test: 0=6735, 1=4592\n",
      ">Train: 0=60608, 1=41335, Test: 0=6735, 1=4592\n",
      ">Train: 0=60608, 1=41335, Test: 0=6735, 1=4592\n",
      ">Train: 0=60609, 1=41334, Test: 0=6734, 1=4593\n",
      ">Train: 0=60609, 1=41334, Test: 0=6734, 1=4593\n",
      ">Train: 0=60609, 1=41334, Test: 0=6734, 1=4593\n",
      ">Train: 0=60609, 1=41334, Test: 0=6734, 1=4593\n",
      ">Train: 0=60609, 1=41334, Test: 0=6734, 1=4593\n",
      ">Train: 0=60609, 1=41334, Test: 0=6734, 1=4593\n",
      ">Train: 0=60609, 1=41334, Test: 0=6734, 1=4593\n"
     ]
    },
    {
     "data": {
      "text/plain": [
       "{'Mean Training Accuracy': 0.9742905349067617,\n",
       " 'Mean Training Precision': 0.9988171654354598,\n",
       " 'Mean Training Recall': 0.9377030703081388,\n",
       " 'Mean Training F1 Score': 0.9672957579650721,\n",
       " 'Mean Validation Accuracy': 0.9742738589211617,\n",
       " 'Mean Validation Precision': 0.998816843621289,\n",
       " 'Mean Validation Recall': 0.9376619691304219,\n",
       " 'Mean Validation F1 Score': 0.9672722877380643}"
      ]
     },
     "execution_count": 10,
     "metadata": {},
     "output_type": "execute_result"
    }
   ],
   "source": [
    "stratifiedCV(DecisionTreeClassifier(criterion = 'gini', max_depth=3, min_samples_leaf=32), pd.DataFrame(X_dos_ss), y_dos, 10, 1)"
   ]
  },
  {
   "cell_type": "markdown",
   "metadata": {},
   "source": [
    "#### Predict on dos"
   ]
  },
  {
   "cell_type": "code",
   "execution_count": 11,
   "metadata": {},
   "outputs": [
    {
     "data": {
      "image/png": "[encoded data removed]",
      "text/plain": [
       "<Figure size 432x288 with 2 Axes>"
      ]
     },
     "metadata": {
      "needs_background": "light"
     },
     "output_type": "display_data"
    },
    {
     "name": "stdout",
     "output_type": "stream",
     "text": [
      "Accuracy: 0.83897 \n",
      "Precision: 0.96311 \n",
      "Recall: 0.65442 \n",
      "F-measure: 0.77931 \n"
     ]
    }
   ],
   "source": [
    "y_dos_prediction = DT(X_dos, y_dos).predict(X_dos_test)\n",
    "plotConfusionMatrix(y_dos_prediction, y_dos_test, 1)"
   ]
  },
  {
   "cell_type": "code",
   "execution_count": 12,
   "metadata": {
    "colab": {
     "base_uri": "https://localhost:8080/",
     "height": 364
    },
    "executionInfo": {
     "elapsed": 4929,
     "status": "ok",
     "timestamp": 1675470845682,
     "user": {
      "displayName": "DANIELE PALMIERI",
      "userId": "13749636301499067245"
     },
     "user_tz": -60
    },
    "id": "Joltm67yirLe",
    "outputId": "ed2979dd-8dd0-40a2-f7aa-697b4804a602"
   },
   "outputs": [
    {
     "data": {
      "image/png": "[encoded data removed]",
      "text/plain": [
       "<Figure size 432x288 with 2 Axes>"
      ]
     },
     "metadata": {
      "needs_background": "light"
     },
     "output_type": "display_data"
    },
    {
     "name": "stdout",
     "output_type": "stream",
     "text": [
      "Accuracy: 0.82057 \n",
      "Precision: 0.94766 \n",
      "Recall: 0.62131 \n",
      "F-measure: 0.75055 \n"
     ]
    }
   ],
   "source": [
    "y_dos_prediction = DT(X_dos_ss, y_dos).predict(X_dos_test_ss)\n",
    "plotConfusionMatrix(y_dos_prediction, y_dos_test, 1)"
   ]
  },
  {
   "cell_type": "markdown",
   "metadata": {},
   "source": [
    "#### K-fold cross validation on probe"
   ]
  },
  {
   "cell_type": "code",
   "execution_count": 13,
   "metadata": {},
   "outputs": [
    {
     "name": "stdout",
     "output_type": "stream",
     "text": [
      ">Train: 0=60593, 1=10506, Test: 0=6750, 1=1150\n",
      ">Train: 0=60590, 1=10509, Test: 0=6753, 1=1147\n",
      ">Train: 0=60636, 1=10463, Test: 0=6707, 1=1193\n",
      ">Train: 0=60669, 1=10430, Test: 0=6674, 1=1226\n",
      ">Train: 0=60629, 1=10470, Test: 0=6714, 1=1186\n",
      ">Train: 0=60576, 1=10523, Test: 0=6767, 1=1133\n",
      ">Train: 0=60547, 1=10552, Test: 0=6796, 1=1104\n",
      ">Train: 0=60628, 1=10471, Test: 0=6715, 1=1185\n",
      ">Train: 0=60592, 1=10507, Test: 0=6751, 1=1149\n",
      ">Train: 0=60627, 1=10473, Test: 0=6716, 1=1183\n"
     ]
    },
    {
     "data": {
      "text/plain": [
       "{'Mean Training Accuracy': 0.9774132072612289,\n",
       " 'Mean Training Precision': 0.901648957574063,\n",
       " 'Mean Training Recall': 0.9537646007950252,\n",
       " 'Mean Training F1 Score': 0.926281086447822,\n",
       " 'Mean Validation Accuracy': 0.9769744736154712,\n",
       " 'Mean Validation Precision': 0.898682333838566,\n",
       " 'Mean Validation Recall': 0.953177469609211,\n",
       " 'Mean Validation F1 Score': 0.9243938228841669}"
      ]
     },
     "execution_count": 13,
     "metadata": {},
     "output_type": "execute_result"
    }
   ],
   "source": [
    "KfoldCV(DecisionTreeClassifier(criterion = 'gini', max_depth=3, min_samples_leaf=32), pd.DataFrame(X_probe), y_probe, 10, 2)"
   ]
  },
  {
   "cell_type": "markdown",
   "metadata": {},
   "source": [
    "#### K-fold cross validation on probe Standard Scaler"
   ]
  },
  {
   "cell_type": "code",
   "execution_count": 14,
   "metadata": {},
   "outputs": [
    {
     "name": "stdout",
     "output_type": "stream",
     "text": [
      ">Train: 0=60593, 1=10506, Test: 0=6750, 1=1150\n",
      ">Train: 0=60590, 1=10509, Test: 0=6753, 1=1147\n",
      ">Train: 0=60636, 1=10463, Test: 0=6707, 1=1193\n",
      ">Train: 0=60669, 1=10430, Test: 0=6674, 1=1226\n",
      ">Train: 0=60629, 1=10470, Test: 0=6714, 1=1186\n",
      ">Train: 0=60576, 1=10523, Test: 0=6767, 1=1133\n",
      ">Train: 0=60547, 1=10552, Test: 0=6796, 1=1104\n",
      ">Train: 0=60628, 1=10471, Test: 0=6715, 1=1185\n",
      ">Train: 0=60592, 1=10507, Test: 0=6751, 1=1149\n",
      ">Train: 0=60627, 1=10473, Test: 0=6716, 1=1183\n"
     ]
    },
    {
     "data": {
      "text/plain": [
       "{'Mean Training Accuracy': 0.9774132072612289,\n",
       " 'Mean Training Precision': 0.901648957574063,\n",
       " 'Mean Training Recall': 0.9537646007950252,\n",
       " 'Mean Training F1 Score': 0.926281086447822,\n",
       " 'Mean Validation Accuracy': 0.9769744736154712,\n",
       " 'Mean Validation Precision': 0.898682333838566,\n",
       " 'Mean Validation Recall': 0.953177469609211,\n",
       " 'Mean Validation F1 Score': 0.9243938228841669}"
      ]
     },
     "execution_count": 14,
     "metadata": {},
     "output_type": "execute_result"
    }
   ],
   "source": [
    "KfoldCV(DecisionTreeClassifier(criterion = 'gini', max_depth=3, min_samples_leaf=32), pd.DataFrame(X_probe_ss), y_probe, 10, 2)"
   ]
  },
  {
   "cell_type": "markdown",
   "metadata": {},
   "source": [
    "#### Stratified cross validation on probe"
   ]
  },
  {
   "cell_type": "code",
   "execution_count": 15,
   "metadata": {},
   "outputs": [
    {
     "name": "stdout",
     "output_type": "stream",
     "text": [
      ">Train: 0=60608, 1=10491, Test: 0=6735, 1=1165\n",
      ">Train: 0=60608, 1=10491, Test: 0=6735, 1=1165\n",
      ">Train: 0=60608, 1=10491, Test: 0=6735, 1=1165\n",
      ">Train: 0=60609, 1=10490, Test: 0=6734, 1=1166\n",
      ">Train: 0=60609, 1=10490, Test: 0=6734, 1=1166\n",
      ">Train: 0=60609, 1=10490, Test: 0=6734, 1=1166\n",
      ">Train: 0=60609, 1=10490, Test: 0=6734, 1=1166\n",
      ">Train: 0=60609, 1=10490, Test: 0=6734, 1=1166\n",
      ">Train: 0=60609, 1=10490, Test: 0=6734, 1=1166\n",
      ">Train: 0=60609, 1=10491, Test: 0=6734, 1=1165\n"
     ]
    },
    {
     "data": {
      "text/plain": [
       "{'Mean Training Accuracy': 0.977406174813515,\n",
       " 'Mean Training Precision': 0.9015316442092107,\n",
       " 'Mean Training Recall': 0.9537767930185563,\n",
       " 'Mean Training F1 Score': 0.9262167350287662,\n",
       " 'Mean Validation Accuracy': 0.9770377647547118,\n",
       " 'Mean Validation Precision': 0.8998827073408275,\n",
       " 'Mean Validation Recall': 0.9531577087581622,\n",
       " 'Mean Validation F1 Score': 0.9250957542420464}"
      ]
     },
     "execution_count": 15,
     "metadata": {},
     "output_type": "execute_result"
    }
   ],
   "source": [
    "stratifiedCV(DecisionTreeClassifier(criterion = 'gini', max_depth=3, min_samples_leaf=32), pd.DataFrame(X_probe), y_probe, 10, 2)"
   ]
  },
  {
   "cell_type": "markdown",
   "metadata": {},
   "source": [
    "#### Stratified cross validation on probe Standard Scaler"
   ]
  },
  {
   "cell_type": "code",
   "execution_count": 16,
   "metadata": {},
   "outputs": [
    {
     "name": "stdout",
     "output_type": "stream",
     "text": [
      ">Train: 0=60608, 1=10491, Test: 0=6735, 1=1165\n",
      ">Train: 0=60608, 1=10491, Test: 0=6735, 1=1165\n",
      ">Train: 0=60608, 1=10491, Test: 0=6735, 1=1165\n",
      ">Train: 0=60609, 1=10490, Test: 0=6734, 1=1166\n",
      ">Train: 0=60609, 1=10490, Test: 0=6734, 1=1166\n",
      ">Train: 0=60609, 1=10490, Test: 0=6734, 1=1166\n",
      ">Train: 0=60609, 1=10490, Test: 0=6734, 1=1166\n",
      ">Train: 0=60609, 1=10490, Test: 0=6734, 1=1166\n",
      ">Train: 0=60609, 1=10490, Test: 0=6734, 1=1166\n",
      ">Train: 0=60609, 1=10491, Test: 0=6734, 1=1165\n"
     ]
    },
    {
     "data": {
      "text/plain": [
       "{'Mean Training Accuracy': 0.977406174813515,\n",
       " 'Mean Training Precision': 0.9015316442092107,\n",
       " 'Mean Training Recall': 0.9537767930185563,\n",
       " 'Mean Training F1 Score': 0.9262167350287662,\n",
       " 'Mean Validation Accuracy': 0.9770377647547118,\n",
       " 'Mean Validation Precision': 0.8998827073408275,\n",
       " 'Mean Validation Recall': 0.9531577087581622,\n",
       " 'Mean Validation F1 Score': 0.9250957542420464}"
      ]
     },
     "execution_count": 16,
     "metadata": {},
     "output_type": "execute_result"
    }
   ],
   "source": [
    "stratifiedCV(DecisionTreeClassifier(criterion = 'gini', max_depth=3, min_samples_leaf=32), pd.DataFrame(X_probe_ss), y_probe, 10, 2)"
   ]
  },
  {
   "cell_type": "markdown",
   "metadata": {},
   "source": [
    "#### Predict on probe"
   ]
  },
  {
   "cell_type": "code",
   "execution_count": 17,
   "metadata": {},
   "outputs": [
    {
     "data": {
      "image/png": "[encoded data removed]",
      "text/plain": [
       "<Figure size 432x288 with 2 Axes>"
      ]
     },
     "metadata": {
      "needs_background": "light"
     },
     "output_type": "display_data"
    },
    {
     "name": "stdout",
     "output_type": "stream",
     "text": [
      "Accuracy: 0.90554 \n",
      "Precision: 0.85835 \n",
      "Recall: 0.63073 \n",
      "F-measure: 0.72714 \n"
     ]
    }
   ],
   "source": [
    "y_probe_prediction = DT(X_probe, y_probe).predict(X_probe_test)\n",
    "plotConfusionMatrix(y_probe_prediction, y_probe_test, 2)"
   ]
  },
  {
   "cell_type": "code",
   "execution_count": 18,
   "metadata": {
    "colab": {
     "base_uri": "https://localhost:8080/",
     "height": 364
    },
    "executionInfo": {
     "elapsed": 6347,
     "status": "ok",
     "timestamp": 1675467170864,
     "user": {
      "displayName": "DANIELE PALMIERI",
      "userId": "13749636301499067245"
     },
     "user_tz": -60
    },
    "id": "h5WF5zwFi1Hp",
    "outputId": "d3e61c1d-fb82-4f4e-dbee-25386bf77bb7"
   },
   "outputs": [
    {
     "data": {
      "image/png": "[encoded data removed]",
      "text/plain": [
       "<Figure size 432x288 with 2 Axes>"
      ]
     },
     "metadata": {
      "needs_background": "light"
     },
     "output_type": "display_data"
    },
    {
     "name": "stdout",
     "output_type": "stream",
     "text": [
      "Accuracy: 0.84792 \n",
      "Precision: 0.61688 \n",
      "Recall: 0.62784 \n",
      "F-measure: 0.62231 \n"
     ]
    }
   ],
   "source": [
    "y_probe_prediction = DT(X_probe_ss, y_probe).predict(X_probe_test_ss)\n",
    "plotConfusionMatrix(y_probe_prediction, y_probe_test, 2)"
   ]
  },
  {
   "cell_type": "markdown",
   "metadata": {},
   "source": [
    "#### K-fold cross validation on r2l"
   ]
  },
  {
   "cell_type": "code",
   "execution_count": 19,
   "metadata": {},
   "outputs": [
    {
     "name": "stdout",
     "output_type": "stream",
     "text": [
      ">Train: 0=60615, 1=889, Test: 0=6728, 1=106\n",
      ">Train: 0=60612, 1=892, Test: 0=6731, 1=103\n",
      ">Train: 0=60628, 1=876, Test: 0=6715, 1=119\n",
      ">Train: 0=60613, 1=891, Test: 0=6730, 1=104\n",
      ">Train: 0=60610, 1=894, Test: 0=6733, 1=101\n",
      ">Train: 0=60591, 1=913, Test: 0=6752, 1=82\n",
      ">Train: 0=60599, 1=905, Test: 0=6744, 1=90\n",
      ">Train: 0=60597, 1=907, Test: 0=6746, 1=88\n",
      ">Train: 0=60614, 1=891, Test: 0=6729, 1=104\n",
      ">Train: 0=60608, 1=897, Test: 0=6735, 1=98\n"
     ]
    },
    {
     "data": {
      "text/plain": [
       "{'Mean Training Accuracy': 0.9894348678728099,\n",
       " 'Mean Training Precision': 1.0,\n",
       " 'Mean Training Recall': 0.2743700057756676,\n",
       " 'Mean Training F1 Score': 0.43058501492879897,\n",
       " 'Mean Validation Accuracy': 0.9894202359643145,\n",
       " 'Mean Validation Precision': 0.9967741935483871,\n",
       " 'Mean Validation Recall': 0.2743061177667925,\n",
       " 'Mean Validation F1 Score': 0.4290428900935173}"
      ]
     },
     "execution_count": 19,
     "metadata": {},
     "output_type": "execute_result"
    }
   ],
   "source": [
    "KfoldCV(DecisionTreeClassifier(criterion = 'gini', max_depth=3, min_samples_leaf=32), pd.DataFrame(X_r2l), y_r2l, 10, 3)"
   ]
  },
  {
   "cell_type": "markdown",
   "metadata": {},
   "source": [
    "#### K-fold cross validation on r2l Standard Scaler"
   ]
  },
  {
   "cell_type": "code",
   "execution_count": 20,
   "metadata": {},
   "outputs": [
    {
     "name": "stdout",
     "output_type": "stream",
     "text": [
      ">Train: 0=60615, 1=889, Test: 0=6728, 1=106\n",
      ">Train: 0=60612, 1=892, Test: 0=6731, 1=103\n",
      ">Train: 0=60628, 1=876, Test: 0=6715, 1=119\n",
      ">Train: 0=60613, 1=891, Test: 0=6730, 1=104\n",
      ">Train: 0=60610, 1=894, Test: 0=6733, 1=101\n",
      ">Train: 0=60591, 1=913, Test: 0=6752, 1=82\n",
      ">Train: 0=60599, 1=905, Test: 0=6744, 1=90\n",
      ">Train: 0=60597, 1=907, Test: 0=6746, 1=88\n",
      ">Train: 0=60614, 1=891, Test: 0=6729, 1=104\n",
      ">Train: 0=60608, 1=897, Test: 0=6735, 1=98\n"
     ]
    },
    {
     "data": {
      "text/plain": [
       "{'Mean Training Accuracy': 0.9894348678728099,\n",
       " 'Mean Training Precision': 1.0,\n",
       " 'Mean Training Recall': 0.2743700057756676,\n",
       " 'Mean Training F1 Score': 0.43058501492879897,\n",
       " 'Mean Validation Accuracy': 0.9894348686830737,\n",
       " 'Mean Validation Precision': 1.0,\n",
       " 'Mean Validation Recall': 0.2743061177667925,\n",
       " 'Mean Validation F1 Score': 0.4294701796534091}"
      ]
     },
     "execution_count": 20,
     "metadata": {},
     "output_type": "execute_result"
    }
   ],
   "source": [
    "KfoldCV(DecisionTreeClassifier(criterion = 'gini', max_depth=3, min_samples_leaf=32), pd.DataFrame(X_r2l_ss), y_r2l, 10, 3)"
   ]
  },
  {
   "cell_type": "markdown",
   "metadata": {},
   "source": [
    "#### Stratified cross validation on r2l"
   ]
  },
  {
   "cell_type": "code",
   "execution_count": 21,
   "metadata": {},
   "outputs": [
    {
     "name": "stdout",
     "output_type": "stream",
     "text": [
      ">Train: 0=60608, 1=896, Test: 0=6735, 1=99\n",
      ">Train: 0=60608, 1=896, Test: 0=6735, 1=99\n",
      ">Train: 0=60608, 1=896, Test: 0=6735, 1=99\n",
      ">Train: 0=60609, 1=895, Test: 0=6734, 1=100\n",
      ">Train: 0=60609, 1=895, Test: 0=6734, 1=100\n",
      ">Train: 0=60609, 1=895, Test: 0=6734, 1=100\n",
      ">Train: 0=60609, 1=895, Test: 0=6734, 1=100\n",
      ">Train: 0=60609, 1=895, Test: 0=6734, 1=100\n",
      ">Train: 0=60609, 1=896, Test: 0=6734, 1=99\n",
      ">Train: 0=60609, 1=896, Test: 0=6734, 1=99\n"
     ]
    },
    {
     "data": {
      "text/plain": [
       "{'Mean Training Accuracy': 0.9894348679521162,\n",
       " 'Mean Training Precision': 1.0,\n",
       " 'Mean Training Recall': 0.2743717577813248,\n",
       " 'Mean Training F1 Score': 0.43058723102756946,\n",
       " 'Mean Validation Accuracy': 0.9894202423887484,\n",
       " 'Mean Validation Precision': 0.9971428571428571,\n",
       " 'Mean Validation Recall': 0.27436363636363637,\n",
       " 'Mean Validation F1 Score': 0.4292599861408578}"
      ]
     },
     "execution_count": 21,
     "metadata": {},
     "output_type": "execute_result"
    }
   ],
   "source": [
    "stratifiedCV(DecisionTreeClassifier(criterion = 'gini', max_depth=3, min_samples_leaf=32), pd.DataFrame(X_r2l), y_r2l, 10, 3)"
   ]
  },
  {
   "cell_type": "markdown",
   "metadata": {},
   "source": [
    "#### Stratified cross validation on r2l Standard Scaler"
   ]
  },
  {
   "cell_type": "code",
   "execution_count": 22,
   "metadata": {},
   "outputs": [
    {
     "name": "stdout",
     "output_type": "stream",
     "text": [
      ">Train: 0=60608, 1=896, Test: 0=6735, 1=99\n",
      ">Train: 0=60608, 1=896, Test: 0=6735, 1=99\n",
      ">Train: 0=60608, 1=896, Test: 0=6735, 1=99\n",
      ">Train: 0=60609, 1=895, Test: 0=6734, 1=100\n",
      ">Train: 0=60609, 1=895, Test: 0=6734, 1=100\n",
      ">Train: 0=60609, 1=895, Test: 0=6734, 1=100\n",
      ">Train: 0=60609, 1=895, Test: 0=6734, 1=100\n",
      ">Train: 0=60609, 1=895, Test: 0=6734, 1=100\n",
      ">Train: 0=60609, 1=896, Test: 0=6734, 1=99\n",
      ">Train: 0=60609, 1=896, Test: 0=6734, 1=99\n"
     ]
    },
    {
     "data": {
      "text/plain": [
       "{'Mean Training Accuracy': 0.9894348679521162,\n",
       " 'Mean Training Precision': 1.0,\n",
       " 'Mean Training Recall': 0.2743717577813248,\n",
       " 'Mean Training F1 Score': 0.43058723102756946,\n",
       " 'Mean Validation Accuracy': 0.9894348751075075,\n",
       " 'Mean Validation Precision': 1.0,\n",
       " 'Mean Validation Recall': 0.27436363636363637,\n",
       " 'Mean Validation F1 Score': 0.42963588442720385}"
      ]
     },
     "execution_count": 22,
     "metadata": {},
     "output_type": "execute_result"
    }
   ],
   "source": [
    "stratifiedCV(DecisionTreeClassifier(criterion = 'gini', max_depth=3, min_samples_leaf=32), pd.DataFrame(X_r2l_ss), y_r2l, 10, 3)"
   ]
  },
  {
   "cell_type": "markdown",
   "metadata": {},
   "source": [
    "#### Predict on r2l"
   ]
  },
  {
   "cell_type": "code",
   "execution_count": 23,
   "metadata": {},
   "outputs": [
    {
     "data": {
      "image/png": "[encoded data removed]",
      "text/plain": [
       "<Figure size 432x288 with 2 Axes>"
      ]
     },
     "metadata": {
      "needs_background": "light"
     },
     "output_type": "display_data"
    },
    {
     "name": "stdout",
     "output_type": "stream",
     "text": [
      "Accuracy: 0.77096 \n",
      "Precision: 0.00000 \n",
      "Recall: 0.00000 \n",
      "F-measure: 0.00000 \n"
     ]
    },
    {
     "name": "stderr",
     "output_type": "stream",
     "text": [
      "C:\\Users\\Daniele\\anaconda3\\lib\\site-packages\\sklearn\\metrics\\_classification.py:1344: UndefinedMetricWarning: Precision is ill-defined and being set to 0.0 due to no predicted samples. Use `zero_division` parameter to control this behavior.\n",
      "  _warn_prf(average, modifier, msg_start, len(result))\n"
     ]
    }
   ],
   "source": [
    "y_r2l_prediction = DT(X_r2l, y_r2l).predict(X_r2l_test)\n",
    "plotConfusionMatrix(y_r2l_prediction, y_r2l_test, 3)"
   ]
  },
  {
   "cell_type": "code",
   "execution_count": 24,
   "metadata": {
    "colab": {
     "base_uri": "https://localhost:8080/",
     "height": 419
    },
    "executionInfo": {
     "elapsed": 3386,
     "status": "ok",
     "timestamp": 1675467178041,
     "user": {
      "displayName": "DANIELE PALMIERI",
      "userId": "13749636301499067245"
     },
     "user_tz": -60
    },
    "id": "KLBJwuXKkuCS",
    "outputId": "c3a687db-515e-464c-ec9e-aa8e5da61089"
   },
   "outputs": [
    {
     "data": {
      "image/png": "[encoded data removed]",
      "text/plain": [
       "<Figure size 432x288 with 2 Axes>"
      ]
     },
     "metadata": {
      "needs_background": "light"
     },
     "output_type": "display_data"
    },
    {
     "name": "stdout",
     "output_type": "stream",
     "text": [
      "Accuracy: 0.77056 \n",
      "Precision: 0.00000 \n",
      "Recall: 0.00000 \n",
      "F-measure: 0.00000 \n"
     ]
    }
   ],
   "source": [
    "y_r2l_prediction = DT(X_r2l_ss, y_r2l).predict(X_r2l_test_ss)\n",
    "plotConfusionMatrix(y_r2l_prediction, y_r2l_test, 3)"
   ]
  },
  {
   "cell_type": "markdown",
   "metadata": {},
   "source": [
    "#### K-fold cross validation on u2r"
   ]
  },
  {
   "cell_type": "code",
   "execution_count": 25,
   "metadata": {},
   "outputs": [
    {
     "name": "stdout",
     "output_type": "stream",
     "text": [
      ">Train: 0=60608, 1=47, Test: 0=6735, 1=5\n",
      ">Train: 0=60609, 1=46, Test: 0=6734, 1=6\n",
      ">Train: 0=60609, 1=46, Test: 0=6734, 1=6\n"
     ]
    },
    {
     "name": "stderr",
     "output_type": "stream",
     "text": [
      "C:\\Users\\Daniele\\anaconda3\\lib\\site-packages\\sklearn\\metrics\\_classification.py:1344: UndefinedMetricWarning: Precision is ill-defined and being set to 0.0 due to no predicted samples. Use `zero_division` parameter to control this behavior.\n",
      "  _warn_prf(average, modifier, msg_start, len(result))\n",
      "C:\\Users\\Daniele\\anaconda3\\lib\\site-packages\\sklearn\\metrics\\_classification.py:1344: UndefinedMetricWarning: Precision is ill-defined and being set to 0.0 due to no predicted samples. Use `zero_division` parameter to control this behavior.\n",
      "  _warn_prf(average, modifier, msg_start, len(result))\n"
     ]
    },
    {
     "name": "stdout",
     "output_type": "stream",
     "text": [
      ">Train: 0=60609, 1=46, Test: 0=6734, 1=6\n"
     ]
    },
    {
     "name": "stderr",
     "output_type": "stream",
     "text": [
      "C:\\Users\\Daniele\\anaconda3\\lib\\site-packages\\sklearn\\metrics\\_classification.py:1344: UndefinedMetricWarning: Precision is ill-defined and being set to 0.0 due to no predicted samples. Use `zero_division` parameter to control this behavior.\n",
      "  _warn_prf(average, modifier, msg_start, len(result))\n",
      "C:\\Users\\Daniele\\anaconda3\\lib\\site-packages\\sklearn\\metrics\\_classification.py:1344: UndefinedMetricWarning: Precision is ill-defined and being set to 0.0 due to no predicted samples. Use `zero_division` parameter to control this behavior.\n",
      "  _warn_prf(average, modifier, msg_start, len(result))\n"
     ]
    },
    {
     "name": "stdout",
     "output_type": "stream",
     "text": [
      ">Train: 0=60607, 1=48, Test: 0=6736, 1=4\n",
      ">Train: 0=60612, 1=44, Test: 0=6731, 1=8\n",
      ">Train: 0=60609, 1=47, Test: 0=6734, 1=5\n"
     ]
    },
    {
     "name": "stderr",
     "output_type": "stream",
     "text": [
      "C:\\Users\\Daniele\\anaconda3\\lib\\site-packages\\sklearn\\metrics\\_classification.py:1344: UndefinedMetricWarning: Precision is ill-defined and being set to 0.0 due to no predicted samples. Use `zero_division` parameter to control this behavior.\n",
      "  _warn_prf(average, modifier, msg_start, len(result))\n",
      "C:\\Users\\Daniele\\anaconda3\\lib\\site-packages\\sklearn\\metrics\\_classification.py:1344: UndefinedMetricWarning: Precision is ill-defined and being set to 0.0 due to no predicted samples. Use `zero_division` parameter to control this behavior.\n",
      "  _warn_prf(average, modifier, msg_start, len(result))\n"
     ]
    },
    {
     "name": "stdout",
     "output_type": "stream",
     "text": [
      ">Train: 0=60607, 1=49, Test: 0=6736, 1=3\n",
      ">Train: 0=60609, 1=47, Test: 0=6734, 1=5\n",
      ">Train: 0=60608, 1=48, Test: 0=6735, 1=4\n"
     ]
    },
    {
     "data": {
      "text/plain": [
       "{'Mean Training Accuracy': 0.9992712943871485,\n",
       " 'Mean Training Precision': 0.3864363296913512,\n",
       " 'Mean Training Recall': 0.30343799932722226,\n",
       " 'Mean Training F1 Score': 0.33947609145717317,\n",
       " 'Mean Validation Accuracy': 0.9991245674344343,\n",
       " 'Mean Validation Precision': 0.24166666666666664,\n",
       " 'Mean Validation Recall': 0.1975,\n",
       " 'Mean Validation F1 Score': 0.21262626262626264}"
      ]
     },
     "execution_count": 25,
     "metadata": {},
     "output_type": "execute_result"
    }
   ],
   "source": [
    "KfoldCV(DecisionTreeClassifier(criterion = 'gini', max_depth=3, min_samples_leaf=32), pd.DataFrame(X_u2r), y_u2r, 10, 4)"
   ]
  },
  {
   "cell_type": "markdown",
   "metadata": {},
   "source": [
    "#### K-fold cross validation on u2r Standard Scaler"
   ]
  },
  {
   "cell_type": "code",
   "execution_count": 26,
   "metadata": {},
   "outputs": [
    {
     "name": "stdout",
     "output_type": "stream",
     "text": [
      ">Train: 0=60608, 1=47, Test: 0=6735, 1=5\n",
      ">Train: 0=60609, 1=46, Test: 0=6734, 1=6\n",
      ">Train: 0=60609, 1=46, Test: 0=6734, 1=6\n",
      ">Train: 0=60609, 1=46, Test: 0=6734, 1=6\n"
     ]
    },
    {
     "name": "stderr",
     "output_type": "stream",
     "text": [
      "C:\\Users\\Daniele\\anaconda3\\lib\\site-packages\\sklearn\\metrics\\_classification.py:1344: UndefinedMetricWarning: Precision is ill-defined and being set to 0.0 due to no predicted samples. Use `zero_division` parameter to control this behavior.\n",
      "  _warn_prf(average, modifier, msg_start, len(result))\n",
      "C:\\Users\\Daniele\\anaconda3\\lib\\site-packages\\sklearn\\metrics\\_classification.py:1344: UndefinedMetricWarning: Precision is ill-defined and being set to 0.0 due to no predicted samples. Use `zero_division` parameter to control this behavior.\n",
      "  _warn_prf(average, modifier, msg_start, len(result))\n",
      "C:\\Users\\Daniele\\anaconda3\\lib\\site-packages\\sklearn\\metrics\\_classification.py:1344: UndefinedMetricWarning: Precision is ill-defined and being set to 0.0 due to no predicted samples. Use `zero_division` parameter to control this behavior.\n",
      "  _warn_prf(average, modifier, msg_start, len(result))\n",
      "C:\\Users\\Daniele\\anaconda3\\lib\\site-packages\\sklearn\\metrics\\_classification.py:1344: UndefinedMetricWarning: Precision is ill-defined and being set to 0.0 due to no predicted samples. Use `zero_division` parameter to control this behavior.\n",
      "  _warn_prf(average, modifier, msg_start, len(result))\n"
     ]
    },
    {
     "name": "stdout",
     "output_type": "stream",
     "text": [
      ">Train: 0=60607, 1=48, Test: 0=6736, 1=4\n",
      ">Train: 0=60612, 1=44, Test: 0=6731, 1=8\n",
      ">Train: 0=60609, 1=47, Test: 0=6734, 1=5\n"
     ]
    },
    {
     "name": "stderr",
     "output_type": "stream",
     "text": [
      "C:\\Users\\Daniele\\anaconda3\\lib\\site-packages\\sklearn\\metrics\\_classification.py:1344: UndefinedMetricWarning: Precision is ill-defined and being set to 0.0 due to no predicted samples. Use `zero_division` parameter to control this behavior.\n",
      "  _warn_prf(average, modifier, msg_start, len(result))\n",
      "C:\\Users\\Daniele\\anaconda3\\lib\\site-packages\\sklearn\\metrics\\_classification.py:1344: UndefinedMetricWarning: Precision is ill-defined and being set to 0.0 due to no predicted samples. Use `zero_division` parameter to control this behavior.\n",
      "  _warn_prf(average, modifier, msg_start, len(result))\n"
     ]
    },
    {
     "name": "stdout",
     "output_type": "stream",
     "text": [
      ">Train: 0=60607, 1=49, Test: 0=6736, 1=3\n",
      ">Train: 0=60609, 1=47, Test: 0=6734, 1=5\n",
      ">Train: 0=60608, 1=48, Test: 0=6735, 1=4\n"
     ]
    },
    {
     "data": {
      "text/plain": [
       "{'Mean Training Accuracy': 0.9992712943871485,\n",
       " 'Mean Training Precision': 0.3864363296913512,\n",
       " 'Mean Training Recall': 0.30343799932722226,\n",
       " 'Mean Training F1 Score': 0.33947609145717317,\n",
       " 'Mean Validation Accuracy': 0.9991245674344343,\n",
       " 'Mean Validation Precision': 0.24166666666666664,\n",
       " 'Mean Validation Recall': 0.1975,\n",
       " 'Mean Validation F1 Score': 0.21262626262626264}"
      ]
     },
     "execution_count": 26,
     "metadata": {},
     "output_type": "execute_result"
    }
   ],
   "source": [
    "KfoldCV(DecisionTreeClassifier(criterion = 'gini', max_depth=3, min_samples_leaf=32), pd.DataFrame(X_u2r_ss), y_u2r, 10, 4)"
   ]
  },
  {
   "cell_type": "markdown",
   "metadata": {},
   "source": [
    "#### Stratified cross validation on u2r"
   ]
  },
  {
   "cell_type": "code",
   "execution_count": 27,
   "metadata": {},
   "outputs": [
    {
     "name": "stdout",
     "output_type": "stream",
     "text": [
      ">Train: 0=60608, 1=47, Test: 0=6735, 1=5\n",
      ">Train: 0=60608, 1=47, Test: 0=6735, 1=5\n"
     ]
    },
    {
     "name": "stderr",
     "output_type": "stream",
     "text": [
      "C:\\Users\\Daniele\\anaconda3\\lib\\site-packages\\sklearn\\metrics\\_classification.py:1344: UndefinedMetricWarning: Precision is ill-defined and being set to 0.0 due to no predicted samples. Use `zero_division` parameter to control this behavior.\n",
      "  _warn_prf(average, modifier, msg_start, len(result))\n",
      "C:\\Users\\Daniele\\anaconda3\\lib\\site-packages\\sklearn\\metrics\\_classification.py:1344: UndefinedMetricWarning: Precision is ill-defined and being set to 0.0 due to no predicted samples. Use `zero_division` parameter to control this behavior.\n",
      "  _warn_prf(average, modifier, msg_start, len(result))\n"
     ]
    },
    {
     "name": "stdout",
     "output_type": "stream",
     "text": [
      ">Train: 0=60608, 1=47, Test: 0=6735, 1=5\n"
     ]
    },
    {
     "name": "stderr",
     "output_type": "stream",
     "text": [
      "C:\\Users\\Daniele\\anaconda3\\lib\\site-packages\\sklearn\\metrics\\_classification.py:1344: UndefinedMetricWarning: Precision is ill-defined and being set to 0.0 due to no predicted samples. Use `zero_division` parameter to control this behavior.\n",
      "  _warn_prf(average, modifier, msg_start, len(result))\n"
     ]
    },
    {
     "name": "stdout",
     "output_type": "stream",
     "text": [
      ">Train: 0=60609, 1=46, Test: 0=6734, 1=6\n"
     ]
    },
    {
     "name": "stderr",
     "output_type": "stream",
     "text": [
      "C:\\Users\\Daniele\\anaconda3\\lib\\site-packages\\sklearn\\metrics\\_classification.py:1344: UndefinedMetricWarning: Precision is ill-defined and being set to 0.0 due to no predicted samples. Use `zero_division` parameter to control this behavior.\n",
      "  _warn_prf(average, modifier, msg_start, len(result))\n",
      "C:\\Users\\Daniele\\anaconda3\\lib\\site-packages\\sklearn\\metrics\\_classification.py:1344: UndefinedMetricWarning: Precision is ill-defined and being set to 0.0 due to no predicted samples. Use `zero_division` parameter to control this behavior.\n",
      "  _warn_prf(average, modifier, msg_start, len(result))\n"
     ]
    },
    {
     "name": "stdout",
     "output_type": "stream",
     "text": [
      ">Train: 0=60609, 1=46, Test: 0=6734, 1=6\n",
      ">Train: 0=60609, 1=47, Test: 0=6734, 1=5\n",
      ">Train: 0=60609, 1=47, Test: 0=6734, 1=5\n"
     ]
    },
    {
     "name": "stderr",
     "output_type": "stream",
     "text": [
      "C:\\Users\\Daniele\\anaconda3\\lib\\site-packages\\sklearn\\metrics\\_classification.py:1344: UndefinedMetricWarning: Precision is ill-defined and being set to 0.0 due to no predicted samples. Use `zero_division` parameter to control this behavior.\n",
      "  _warn_prf(average, modifier, msg_start, len(result))\n",
      "C:\\Users\\Daniele\\anaconda3\\lib\\site-packages\\sklearn\\metrics\\_classification.py:1344: UndefinedMetricWarning: Precision is ill-defined and being set to 0.0 due to no predicted samples. Use `zero_division` parameter to control this behavior.\n",
      "  _warn_prf(average, modifier, msg_start, len(result))\n"
     ]
    },
    {
     "name": "stdout",
     "output_type": "stream",
     "text": [
      ">Train: 0=60609, 1=47, Test: 0=6734, 1=5\n",
      ">Train: 0=60609, 1=47, Test: 0=6734, 1=5\n",
      ">Train: 0=60609, 1=47, Test: 0=6734, 1=5\n"
     ]
    },
    {
     "data": {
      "text/plain": [
       "{'Mean Training Accuracy': 0.9992729430558484,\n",
       " 'Mean Training Precision': 0.38683550353092755,\n",
       " 'Mean Training Recall': 0.30948196114708604,\n",
       " 'Mean Training F1 Score': 0.3434925145964838,\n",
       " 'Mean Validation Accuracy': 0.9991097306391821,\n",
       " 'Mean Validation Precision': 0.19833333333333333,\n",
       " 'Mean Validation Recall': 0.15999999999999998,\n",
       " 'Mean Validation F1 Score': 0.17484848484848486}"
      ]
     },
     "execution_count": 27,
     "metadata": {},
     "output_type": "execute_result"
    }
   ],
   "source": [
    "stratifiedCV(DecisionTreeClassifier(criterion = 'gini', max_depth=3, min_samples_leaf=32), pd.DataFrame(X_u2r), y_u2r, 10, 4)"
   ]
  },
  {
   "cell_type": "markdown",
   "metadata": {},
   "source": [
    "#### Stratified cross validation on u2r Standard Scaler"
   ]
  },
  {
   "cell_type": "code",
   "execution_count": 28,
   "metadata": {},
   "outputs": [
    {
     "name": "stdout",
     "output_type": "stream",
     "text": [
      ">Train: 0=60608, 1=47, Test: 0=6735, 1=5\n",
      ">Train: 0=60608, 1=47, Test: 0=6735, 1=5\n"
     ]
    },
    {
     "name": "stderr",
     "output_type": "stream",
     "text": [
      "C:\\Users\\Daniele\\anaconda3\\lib\\site-packages\\sklearn\\metrics\\_classification.py:1344: UndefinedMetricWarning: Precision is ill-defined and being set to 0.0 due to no predicted samples. Use `zero_division` parameter to control this behavior.\n",
      "  _warn_prf(average, modifier, msg_start, len(result))\n",
      "C:\\Users\\Daniele\\anaconda3\\lib\\site-packages\\sklearn\\metrics\\_classification.py:1344: UndefinedMetricWarning: Precision is ill-defined and being set to 0.0 due to no predicted samples. Use `zero_division` parameter to control this behavior.\n",
      "  _warn_prf(average, modifier, msg_start, len(result))\n"
     ]
    },
    {
     "name": "stdout",
     "output_type": "stream",
     "text": [
      ">Train: 0=60608, 1=47, Test: 0=6735, 1=5\n"
     ]
    },
    {
     "name": "stderr",
     "output_type": "stream",
     "text": [
      "C:\\Users\\Daniele\\anaconda3\\lib\\site-packages\\sklearn\\metrics\\_classification.py:1344: UndefinedMetricWarning: Precision is ill-defined and being set to 0.0 due to no predicted samples. Use `zero_division` parameter to control this behavior.\n",
      "  _warn_prf(average, modifier, msg_start, len(result))\n"
     ]
    },
    {
     "name": "stdout",
     "output_type": "stream",
     "text": [
      ">Train: 0=60609, 1=46, Test: 0=6734, 1=6\n"
     ]
    },
    {
     "name": "stderr",
     "output_type": "stream",
     "text": [
      "C:\\Users\\Daniele\\anaconda3\\lib\\site-packages\\sklearn\\metrics\\_classification.py:1344: UndefinedMetricWarning: Precision is ill-defined and being set to 0.0 due to no predicted samples. Use `zero_division` parameter to control this behavior.\n",
      "  _warn_prf(average, modifier, msg_start, len(result))\n",
      "C:\\Users\\Daniele\\anaconda3\\lib\\site-packages\\sklearn\\metrics\\_classification.py:1344: UndefinedMetricWarning: Precision is ill-defined and being set to 0.0 due to no predicted samples. Use `zero_division` parameter to control this behavior.\n",
      "  _warn_prf(average, modifier, msg_start, len(result))\n"
     ]
    },
    {
     "name": "stdout",
     "output_type": "stream",
     "text": [
      ">Train: 0=60609, 1=46, Test: 0=6734, 1=6\n",
      ">Train: 0=60609, 1=47, Test: 0=6734, 1=5\n",
      ">Train: 0=60609, 1=47, Test: 0=6734, 1=5\n"
     ]
    },
    {
     "name": "stderr",
     "output_type": "stream",
     "text": [
      "C:\\Users\\Daniele\\anaconda3\\lib\\site-packages\\sklearn\\metrics\\_classification.py:1344: UndefinedMetricWarning: Precision is ill-defined and being set to 0.0 due to no predicted samples. Use `zero_division` parameter to control this behavior.\n",
      "  _warn_prf(average, modifier, msg_start, len(result))\n",
      "C:\\Users\\Daniele\\anaconda3\\lib\\site-packages\\sklearn\\metrics\\_classification.py:1344: UndefinedMetricWarning: Precision is ill-defined and being set to 0.0 due to no predicted samples. Use `zero_division` parameter to control this behavior.\n",
      "  _warn_prf(average, modifier, msg_start, len(result))\n"
     ]
    },
    {
     "name": "stdout",
     "output_type": "stream",
     "text": [
      ">Train: 0=60609, 1=47, Test: 0=6734, 1=5\n",
      ">Train: 0=60609, 1=47, Test: 0=6734, 1=5\n",
      ">Train: 0=60609, 1=47, Test: 0=6734, 1=5\n"
     ]
    },
    {
     "data": {
      "text/plain": [
       "{'Mean Training Accuracy': 0.9992729430558484,\n",
       " 'Mean Training Precision': 0.38683550353092755,\n",
       " 'Mean Training Recall': 0.30948196114708604,\n",
       " 'Mean Training F1 Score': 0.3434925145964838,\n",
       " 'Mean Validation Accuracy': 0.9991097306391821,\n",
       " 'Mean Validation Precision': 0.19833333333333333,\n",
       " 'Mean Validation Recall': 0.15999999999999998,\n",
       " 'Mean Validation F1 Score': 0.17484848484848486}"
      ]
     },
     "execution_count": 28,
     "metadata": {},
     "output_type": "execute_result"
    }
   ],
   "source": [
    "stratifiedCV(DecisionTreeClassifier(criterion = 'gini', max_depth=3, min_samples_leaf=32), pd.DataFrame(X_u2r_ss), y_u2r, 10, 4)"
   ]
  },
  {
   "cell_type": "markdown",
   "metadata": {},
   "source": [
    "#### Predict on u2r"
   ]
  },
  {
   "cell_type": "code",
   "execution_count": 29,
   "metadata": {},
   "outputs": [
    {
     "data": {
      "image/png": "[encoded data removed]",
      "text/plain": [
       "<Figure size 432x288 with 2 Axes>"
      ]
     },
     "metadata": {
      "needs_background": "light"
     },
     "output_type": "display_data"
    },
    {
     "name": "stdout",
     "output_type": "stream",
     "text": [
      "Accuracy: 0.99345 \n",
      "Precision: 0.57895 \n",
      "Recall: 0.16418 \n",
      "F-measure: 0.25581 \n"
     ]
    }
   ],
   "source": [
    "y_u2r_prediction = DT(X_u2r, y_u2r).predict(X_u2r_test)\n",
    "plotConfusionMatrix(y_u2r_prediction, y_u2r_test, 4)"
   ]
  },
  {
   "cell_type": "code",
   "execution_count": 30,
   "metadata": {
    "colab": {
     "base_uri": "https://localhost:8080/",
     "height": 364
    },
    "executionInfo": {
     "elapsed": 2602,
     "status": "ok",
     "timestamp": 1675467181725,
     "user": {
      "displayName": "DANIELE PALMIERI",
      "userId": "13749636301499067245"
     },
     "user_tz": -60
    },
    "id": "fBPk_5Rzk4tF",
    "outputId": "593a987a-9117-46af-b74d-090b5ef20e5a",
    "scrolled": true
   },
   "outputs": [
    {
     "data": {
      "image/png": "[encoded data removed]",
      "text/plain": [
       "<Figure size 432x288 with 2 Axes>"
      ]
     },
     "metadata": {
      "needs_background": "light"
     },
     "output_type": "display_data"
    },
    {
     "name": "stdout",
     "output_type": "stream",
     "text": [
      "Accuracy: 0.99356 \n",
      "Precision: 0.61111 \n",
      "Recall: 0.16418 \n",
      "F-measure: 0.25882 \n"
     ]
    }
   ],
   "source": [
    "y_u2r_prediction = DT(X_u2r_ss, y_u2r).predict(X_u2r_test_ss)\n",
    "plotConfusionMatrix(y_u2r_prediction, y_u2r_test, 4)"
   ]
  },
  {
   "cell_type": "markdown",
   "metadata": {
    "id": "C2zvGxJ7lNn5"
   },
   "source": [
    "## Feature Selection"
   ]
  },
  {
   "cell_type": "code",
   "execution_count": 31,
   "metadata": {},
   "outputs": [],
   "source": [
    "\n",
    "X_dos_rfe, rfecolname_dos = recursiveFeatureExtraction(DecisionTreeClassifier(criterion = 'gini', max_depth=3, min_samples_leaf=32), X_dos, y_dos, 13)\n",
    "X_probe_rfe, rfecolname_probe = recursiveFeatureExtraction(DecisionTreeClassifier(criterion = 'gini', max_depth=3, min_samples_leaf=32), X_probe, y_probe, 13)\n",
    "X_r2l_rfe, rfecolname_r2l = recursiveFeatureExtraction(DecisionTreeClassifier(criterion = 'gini', max_depth=3, min_samples_leaf=32), X_r2l, y_r2l, 13)\n",
    "X_u2r_rfe, rfecolname_u2r = recursiveFeatureExtraction(DecisionTreeClassifier(criterion = 'gini', max_depth=3, min_samples_leaf=32), X_u2r, y_u2r, 13)\n",
    "\n",
    "X_dos_test_rfe=X_dos_test.values[:,rfecolname_dos]\n",
    "X_probe_test_rfe=X_probe_test.values[:,rfecolname_probe]\n",
    "X_r2l_test_rfe=X_r2l_test.values[:,rfecolname_r2l]\n",
    "X_u2r_test_rfe=X_u2r_test.values[:,rfecolname_u2r]"
   ]
  },
  {
   "cell_type": "code",
   "execution_count": 32,
   "metadata": {
    "id": "laARHIiBlSgF"
   },
   "outputs": [],
   "source": [
    "X_dos_rfe_ss, rfecolname_dosSS = recursiveFeatureExtraction(DecisionTreeClassifier(criterion = 'gini', max_depth=3, min_samples_leaf=32), X_dos_ss, y_dos, 13)\n",
    "X_probe_rfe_ss, rfecolname_probeSS = recursiveFeatureExtraction(DecisionTreeClassifier(criterion = 'gini', max_depth=3, min_samples_leaf=32), X_probe_ss, y_probe, 13)\n",
    "X_r2l_rfe_ss, rfecolname_r2lSS = recursiveFeatureExtraction(DecisionTreeClassifier(criterion = 'gini', max_depth=3, min_samples_leaf=32), X_r2l_ss, y_r2l, 13)\n",
    "X_u2r_rfe_ss, rfecolname_u2rSS = recursiveFeatureExtraction(DecisionTreeClassifier(criterion = 'gini', max_depth=3, min_samples_leaf=32), X_u2r_ss, y_u2r, 13)\n",
    "\n",
    "X_dos_test_rfe_ss=X_dos_test_ss[:,rfecolname_dosSS]\n",
    "X_probe_test_rfe_ss=X_probe_test_ss[:,rfecolname_probeSS]\n",
    "X_r2l_test_rfe_ss=X_r2l_test_ss[:,rfecolname_r2lSS]\n",
    "X_u2r_test_rfe_ss=X_u2r_test_ss[:,rfecolname_u2rSS]"
   ]
  },
  {
   "cell_type": "markdown",
   "metadata": {},
   "source": [
    "#### K-fold cross validation on dos"
   ]
  },
  {
   "cell_type": "code",
   "execution_count": 33,
   "metadata": {},
   "outputs": [
    {
     "name": "stdout",
     "output_type": "stream",
     "text": [
      ">Train: 0=60666, 1=41277, Test: 0=6677, 1=4650\n",
      ">Train: 0=60586, 1=41357, Test: 0=6757, 1=4570\n",
      ">Train: 0=60612, 1=41331, Test: 0=6731, 1=4596\n",
      ">Train: 0=60720, 1=41223, Test: 0=6623, 1=4704\n",
      ">Train: 0=60634, 1=41309, Test: 0=6709, 1=4618\n",
      ">Train: 0=60525, 1=41418, Test: 0=6818, 1=4509\n",
      ">Train: 0=60548, 1=41395, Test: 0=6795, 1=4532\n",
      ">Train: 0=60557, 1=41386, Test: 0=6786, 1=4541\n",
      ">Train: 0=60662, 1=41281, Test: 0=6681, 1=4646\n",
      ">Train: 0=60577, 1=41366, Test: 0=6766, 1=4561\n"
     ]
    },
    {
     "data": {
      "text/plain": [
       "{'Mean Training Accuracy': 0.9742905349067617,\n",
       " 'Mean Training Precision': 0.998817152947103,\n",
       " 'Mean Training Recall': 0.937703083666077,\n",
       " 'Mean Training F1 Score': 0.9672957541647055,\n",
       " 'Mean Validation Accuracy': 0.9742738589211617,\n",
       " 'Mean Validation Precision': 0.9988158366340814,\n",
       " 'Mean Validation Recall': 0.9376632504397431,\n",
       " 'Mean Validation F1 Score': 0.9672721154117386}"
      ]
     },
     "execution_count": 33,
     "metadata": {},
     "output_type": "execute_result"
    }
   ],
   "source": [
    "KfoldCV(DecisionTreeClassifier(criterion = 'gini', max_depth=3, min_samples_leaf=32), pd.DataFrame(X_dos_rfe), y_dos, 10, 1)"
   ]
  },
  {
   "cell_type": "markdown",
   "metadata": {},
   "source": [
    "#### K-fold cross validation on dos Standard Scaler"
   ]
  },
  {
   "cell_type": "code",
   "execution_count": 34,
   "metadata": {},
   "outputs": [
    {
     "name": "stdout",
     "output_type": "stream",
     "text": [
      ">Train: 0=60666, 1=41277, Test: 0=6677, 1=4650\n",
      ">Train: 0=60586, 1=41357, Test: 0=6757, 1=4570\n",
      ">Train: 0=60612, 1=41331, Test: 0=6731, 1=4596\n",
      ">Train: 0=60720, 1=41223, Test: 0=6623, 1=4704\n",
      ">Train: 0=60634, 1=41309, Test: 0=6709, 1=4618\n",
      ">Train: 0=60525, 1=41418, Test: 0=6818, 1=4509\n",
      ">Train: 0=60548, 1=41395, Test: 0=6795, 1=4532\n",
      ">Train: 0=60557, 1=41386, Test: 0=6786, 1=4541\n",
      ">Train: 0=60662, 1=41281, Test: 0=6681, 1=4646\n",
      ">Train: 0=60577, 1=41366, Test: 0=6766, 1=4561\n"
     ]
    },
    {
     "data": {
      "text/plain": [
       "{'Mean Training Accuracy': 0.9742905349067617,\n",
       " 'Mean Training Precision': 0.998817152947103,\n",
       " 'Mean Training Recall': 0.937703083666077,\n",
       " 'Mean Training F1 Score': 0.9672957541647055,\n",
       " 'Mean Validation Accuracy': 0.9742738589211617,\n",
       " 'Mean Validation Precision': 0.9988158366340814,\n",
       " 'Mean Validation Recall': 0.9376632504397431,\n",
       " 'Mean Validation F1 Score': 0.9672721154117386}"
      ]
     },
     "execution_count": 34,
     "metadata": {},
     "output_type": "execute_result"
    }
   ],
   "source": [
    "KfoldCV(DecisionTreeClassifier(criterion = 'gini', max_depth=3, min_samples_leaf=32), pd.DataFrame(X_dos_rfe_ss), y_dos, 10, 1)"
   ]
  },
  {
   "cell_type": "markdown",
   "metadata": {},
   "source": [
    "#### Stratified cross validation on dos"
   ]
  },
  {
   "cell_type": "code",
   "execution_count": 35,
   "metadata": {},
   "outputs": [
    {
     "name": "stdout",
     "output_type": "stream",
     "text": [
      ">Train: 0=60608, 1=41335, Test: 0=6735, 1=4592\n",
      ">Train: 0=60608, 1=41335, Test: 0=6735, 1=4592\n",
      ">Train: 0=60608, 1=41335, Test: 0=6735, 1=4592\n",
      ">Train: 0=60609, 1=41334, Test: 0=6734, 1=4593\n",
      ">Train: 0=60609, 1=41334, Test: 0=6734, 1=4593\n",
      ">Train: 0=60609, 1=41334, Test: 0=6734, 1=4593\n",
      ">Train: 0=60609, 1=41334, Test: 0=6734, 1=4593\n",
      ">Train: 0=60609, 1=41334, Test: 0=6734, 1=4593\n",
      ">Train: 0=60609, 1=41334, Test: 0=6734, 1=4593\n",
      ">Train: 0=60609, 1=41334, Test: 0=6734, 1=4593\n"
     ]
    },
    {
     "data": {
      "text/plain": [
       "{'Mean Training Accuracy': 0.9742905349067617,\n",
       " 'Mean Training Precision': 0.9988171654354598,\n",
       " 'Mean Training Recall': 0.9377030703081388,\n",
       " 'Mean Training F1 Score': 0.9672957579650721,\n",
       " 'Mean Validation Accuracy': 0.9742738589211617,\n",
       " 'Mean Validation Precision': 0.998816843621289,\n",
       " 'Mean Validation Recall': 0.9376619691304219,\n",
       " 'Mean Validation F1 Score': 0.9672722877380643}"
      ]
     },
     "execution_count": 35,
     "metadata": {},
     "output_type": "execute_result"
    }
   ],
   "source": [
    "stratifiedCV(DecisionTreeClassifier(criterion = 'gini', max_depth=3, min_samples_leaf=32), pd.DataFrame(X_dos_rfe), y_dos, 10, 1)"
   ]
  },
  {
   "cell_type": "markdown",
   "metadata": {},
   "source": [
    "#### Stratified cross validation on dos Standard Scaler"
   ]
  },
  {
   "cell_type": "code",
   "execution_count": 36,
   "metadata": {},
   "outputs": [
    {
     "name": "stdout",
     "output_type": "stream",
     "text": [
      ">Train: 0=60608, 1=41335, Test: 0=6735, 1=4592\n",
      ">Train: 0=60608, 1=41335, Test: 0=6735, 1=4592\n",
      ">Train: 0=60608, 1=41335, Test: 0=6735, 1=4592\n",
      ">Train: 0=60609, 1=41334, Test: 0=6734, 1=4593\n",
      ">Train: 0=60609, 1=41334, Test: 0=6734, 1=4593\n",
      ">Train: 0=60609, 1=41334, Test: 0=6734, 1=4593\n",
      ">Train: 0=60609, 1=41334, Test: 0=6734, 1=4593\n",
      ">Train: 0=60609, 1=41334, Test: 0=6734, 1=4593\n",
      ">Train: 0=60609, 1=41334, Test: 0=6734, 1=4593\n",
      ">Train: 0=60609, 1=41334, Test: 0=6734, 1=4593\n"
     ]
    },
    {
     "data": {
      "text/plain": [
       "{'Mean Training Accuracy': 0.9742905349067617,\n",
       " 'Mean Training Precision': 0.9988171654354598,\n",
       " 'Mean Training Recall': 0.9377030703081388,\n",
       " 'Mean Training F1 Score': 0.9672957579650721,\n",
       " 'Mean Validation Accuracy': 0.9742738589211617,\n",
       " 'Mean Validation Precision': 0.998816843621289,\n",
       " 'Mean Validation Recall': 0.9376619691304219,\n",
       " 'Mean Validation F1 Score': 0.9672722877380643}"
      ]
     },
     "execution_count": 36,
     "metadata": {},
     "output_type": "execute_result"
    }
   ],
   "source": [
    "stratifiedCV(DecisionTreeClassifier(criterion = 'gini', max_depth=3, min_samples_leaf=32), pd.DataFrame(X_dos_rfe_ss), y_dos, 10, 1)"
   ]
  },
  {
   "cell_type": "markdown",
   "metadata": {},
   "source": [
    "#### Predict on dos"
   ]
  },
  {
   "cell_type": "code",
   "execution_count": 37,
   "metadata": {},
   "outputs": [
    {
     "data": {
      "image/png": "[encoded data removed]",
      "text/plain": [
       "<Figure size 432x288 with 2 Axes>"
      ]
     },
     "metadata": {
      "needs_background": "light"
     },
     "output_type": "display_data"
    },
    {
     "name": "stdout",
     "output_type": "stream",
     "text": [
      "Accuracy: 0.83897 \n",
      "Precision: 0.96311 \n",
      "Recall: 0.65442 \n",
      "F-measure: 0.77931 \n"
     ]
    }
   ],
   "source": [
    "y_dos_rfe_prediction = DT(X_dos_rfe, y_dos).predict(X_dos_test_rfe)\n",
    "plotConfusionMatrix(y_dos_rfe_prediction, y_dos_test, 1)"
   ]
  },
  {
   "cell_type": "code",
   "execution_count": 38,
   "metadata": {
    "colab": {
     "base_uri": "https://localhost:8080/",
     "height": 364
    },
    "executionInfo": {
     "elapsed": 4170,
     "status": "ok",
     "timestamp": 1675471231881,
     "user": {
      "displayName": "DANIELE PALMIERI",
      "userId": "13749636301499067245"
     },
     "user_tz": -60
    },
    "id": "P129vp2Tozxi",
    "outputId": "cceeaf9d-b60d-4eb4-b12f-d1d172b15b39"
   },
   "outputs": [
    {
     "data": {
      "image/png": "[encoded data removed]",
      "text/plain": [
       "<Figure size 432x288 with 2 Axes>"
      ]
     },
     "metadata": {
      "needs_background": "light"
     },
     "output_type": "display_data"
    },
    {
     "name": "stdout",
     "output_type": "stream",
     "text": [
      "Accuracy: 0.82057 \n",
      "Precision: 0.94766 \n",
      "Recall: 0.62131 \n",
      "F-measure: 0.75055 \n"
     ]
    }
   ],
   "source": [
    "y_dos_rfe_prediction = DT(X_dos_rfe_ss, y_dos).predict(X_dos_test_rfe_ss)\n",
    "plotConfusionMatrix(y_dos_rfe_prediction, y_dos_test, 1)"
   ]
  },
  {
   "cell_type": "markdown",
   "metadata": {},
   "source": [
    "#### K-fold cross validation on probe"
   ]
  },
  {
   "cell_type": "code",
   "execution_count": 39,
   "metadata": {},
   "outputs": [
    {
     "name": "stdout",
     "output_type": "stream",
     "text": [
      ">Train: 0=60593, 1=10506, Test: 0=6750, 1=1150\n",
      ">Train: 0=60590, 1=10509, Test: 0=6753, 1=1147\n",
      ">Train: 0=60636, 1=10463, Test: 0=6707, 1=1193\n",
      ">Train: 0=60669, 1=10430, Test: 0=6674, 1=1226\n",
      ">Train: 0=60629, 1=10470, Test: 0=6714, 1=1186\n",
      ">Train: 0=60576, 1=10523, Test: 0=6767, 1=1133\n",
      ">Train: 0=60547, 1=10552, Test: 0=6796, 1=1104\n",
      ">Train: 0=60628, 1=10471, Test: 0=6715, 1=1185\n",
      ">Train: 0=60592, 1=10507, Test: 0=6751, 1=1149\n",
      ">Train: 0=60627, 1=10473, Test: 0=6716, 1=1183\n"
     ]
    },
    {
     "data": {
      "text/plain": [
       "{'Mean Training Accuracy': 0.9733203226918257,\n",
       " 'Mean Training Precision': 0.8775520174281513,\n",
       " 'Mean Training Recall': 0.9609893383945041,\n",
       " 'Mean Training F1 Score': 0.9154841471076558,\n",
       " 'Mean Validation Accuracy': 0.9726959926028131,\n",
       " 'Mean Validation Precision': 0.8734400596659327,\n",
       " 'Mean Validation Recall': 0.9606551556853878,\n",
       " 'Mean Validation F1 Score': 0.9129415913587886}"
      ]
     },
     "execution_count": 39,
     "metadata": {},
     "output_type": "execute_result"
    }
   ],
   "source": [
    "KfoldCV(DecisionTreeClassifier(criterion = 'gini', max_depth=3, min_samples_leaf=32), pd.DataFrame(X_probe_rfe), y_probe, 10, 2)"
   ]
  },
  {
   "cell_type": "markdown",
   "metadata": {},
   "source": [
    "#### K-fold cross validation on probe Standard Scaler"
   ]
  },
  {
   "cell_type": "code",
   "execution_count": 40,
   "metadata": {},
   "outputs": [
    {
     "name": "stdout",
     "output_type": "stream",
     "text": [
      ">Train: 0=60593, 1=10506, Test: 0=6750, 1=1150\n",
      ">Train: 0=60590, 1=10509, Test: 0=6753, 1=1147\n",
      ">Train: 0=60636, 1=10463, Test: 0=6707, 1=1193\n",
      ">Train: 0=60669, 1=10430, Test: 0=6674, 1=1226\n",
      ">Train: 0=60629, 1=10470, Test: 0=6714, 1=1186\n",
      ">Train: 0=60576, 1=10523, Test: 0=6767, 1=1133\n",
      ">Train: 0=60547, 1=10552, Test: 0=6796, 1=1104\n",
      ">Train: 0=60628, 1=10471, Test: 0=6715, 1=1185\n",
      ">Train: 0=60592, 1=10507, Test: 0=6751, 1=1149\n",
      ">Train: 0=60627, 1=10473, Test: 0=6716, 1=1183\n"
     ]
    },
    {
     "data": {
      "text/plain": [
       "{'Mean Training Accuracy': 0.9733203226918257,\n",
       " 'Mean Training Precision': 0.8775520174281513,\n",
       " 'Mean Training Recall': 0.9609893383945041,\n",
       " 'Mean Training F1 Score': 0.9154841471076558,\n",
       " 'Mean Validation Accuracy': 0.9726959926028131,\n",
       " 'Mean Validation Precision': 0.8734400596659327,\n",
       " 'Mean Validation Recall': 0.9606551556853878,\n",
       " 'Mean Validation F1 Score': 0.9129415913587886}"
      ]
     },
     "execution_count": 40,
     "metadata": {},
     "output_type": "execute_result"
    }
   ],
   "source": [
    "KfoldCV(DecisionTreeClassifier(criterion = 'gini', max_depth=3, min_samples_leaf=32), pd.DataFrame(X_probe_rfe_ss), y_probe, 10, 2)"
   ]
  },
  {
   "cell_type": "markdown",
   "metadata": {},
   "source": [
    "#### Stratified cross validation on probe"
   ]
  },
  {
   "cell_type": "code",
   "execution_count": 41,
   "metadata": {},
   "outputs": [
    {
     "name": "stdout",
     "output_type": "stream",
     "text": [
      ">Train: 0=60608, 1=10491, Test: 0=6735, 1=1165\n",
      ">Train: 0=60608, 1=10491, Test: 0=6735, 1=1165\n",
      ">Train: 0=60608, 1=10491, Test: 0=6735, 1=1165\n",
      ">Train: 0=60609, 1=10490, Test: 0=6734, 1=1166\n",
      ">Train: 0=60609, 1=10490, Test: 0=6734, 1=1166\n",
      ">Train: 0=60609, 1=10490, Test: 0=6734, 1=1166\n",
      ">Train: 0=60609, 1=10490, Test: 0=6734, 1=1166\n",
      ">Train: 0=60609, 1=10490, Test: 0=6734, 1=1166\n",
      ">Train: 0=60609, 1=10490, Test: 0=6734, 1=1166\n",
      ">Train: 0=60609, 1=10491, Test: 0=6734, 1=1165\n"
     ]
    },
    {
     "data": {
      "text/plain": [
       "{'Mean Training Accuracy': 0.9733090707754837,\n",
       " 'Mean Training Precision': 0.8773944979406195,\n",
       " 'Mean Training Recall': 0.9609929133501238,\n",
       " 'Mean Training F1 Score': 0.9153842192067051,\n",
       " 'Mean Validation Accuracy': 0.9727972584255978,\n",
       " 'Mean Validation Precision': 0.8750098306555995,\n",
       " 'Mean Validation Recall': 0.9607073815325495,\n",
       " 'Mean Validation F1 Score': 0.9139712046472461}"
      ]
     },
     "execution_count": 41,
     "metadata": {},
     "output_type": "execute_result"
    }
   ],
   "source": [
    "stratifiedCV(DecisionTreeClassifier(criterion = 'gini', max_depth=3, min_samples_leaf=32), pd.DataFrame(X_probe_rfe), y_probe, 10, 2)"
   ]
  },
  {
   "cell_type": "markdown",
   "metadata": {},
   "source": [
    "#### Stratified cross validation on probe Standard Scaler"
   ]
  },
  {
   "cell_type": "code",
   "execution_count": 42,
   "metadata": {},
   "outputs": [
    {
     "name": "stdout",
     "output_type": "stream",
     "text": [
      ">Train: 0=60608, 1=10491, Test: 0=6735, 1=1165\n",
      ">Train: 0=60608, 1=10491, Test: 0=6735, 1=1165\n",
      ">Train: 0=60608, 1=10491, Test: 0=6735, 1=1165\n",
      ">Train: 0=60609, 1=10490, Test: 0=6734, 1=1166\n",
      ">Train: 0=60609, 1=10490, Test: 0=6734, 1=1166\n",
      ">Train: 0=60609, 1=10490, Test: 0=6734, 1=1166\n",
      ">Train: 0=60609, 1=10490, Test: 0=6734, 1=1166\n",
      ">Train: 0=60609, 1=10490, Test: 0=6734, 1=1166\n",
      ">Train: 0=60609, 1=10490, Test: 0=6734, 1=1166\n",
      ">Train: 0=60609, 1=10491, Test: 0=6734, 1=1165\n"
     ]
    },
    {
     "data": {
      "text/plain": [
       "{'Mean Training Accuracy': 0.9733090707754837,\n",
       " 'Mean Training Precision': 0.8773944979406195,\n",
       " 'Mean Training Recall': 0.9609929133501238,\n",
       " 'Mean Training F1 Score': 0.9153842192067051,\n",
       " 'Mean Validation Accuracy': 0.9727972584255978,\n",
       " 'Mean Validation Precision': 0.8750098306555995,\n",
       " 'Mean Validation Recall': 0.9607073815325495,\n",
       " 'Mean Validation F1 Score': 0.9139712046472461}"
      ]
     },
     "execution_count": 42,
     "metadata": {},
     "output_type": "execute_result"
    }
   ],
   "source": [
    "stratifiedCV(DecisionTreeClassifier(criterion = 'gini', max_depth=3, min_samples_leaf=32), pd.DataFrame(X_probe_rfe_ss), y_probe, 10, 2)"
   ]
  },
  {
   "cell_type": "markdown",
   "metadata": {},
   "source": [
    "#### Predict on probe"
   ]
  },
  {
   "cell_type": "code",
   "execution_count": 43,
   "metadata": {},
   "outputs": [
    {
     "data": {
      "image/png": "[encoded data removed]",
      "text/plain": [
       "<Figure size 432x288 with 2 Axes>"
      ]
     },
     "metadata": {
      "needs_background": "light"
     },
     "output_type": "display_data"
    },
    {
     "name": "stdout",
     "output_type": "stream",
     "text": [
      "Accuracy: 0.90554 \n",
      "Precision: 0.85835 \n",
      "Recall: 0.63073 \n",
      "F-measure: 0.72714 \n"
     ]
    }
   ],
   "source": [
    "y_probe_rfe_prediction = DT(X_probe_rfe, y_probe).predict(X_probe_test_rfe)\n",
    "plotConfusionMatrix(y_probe_rfe_prediction, y_probe_test, 2)"
   ]
  },
  {
   "cell_type": "code",
   "execution_count": 44,
   "metadata": {
    "colab": {
     "base_uri": "https://localhost:8080/",
     "height": 364
    },
    "executionInfo": {
     "elapsed": 3354,
     "status": "ok",
     "timestamp": 1675471319408,
     "user": {
      "displayName": "DANIELE PALMIERI",
      "userId": "13749636301499067245"
     },
     "user_tz": -60
    },
    "id": "IDuGeKkT3obg",
    "outputId": "1b7effe6-8a53-406c-f0ab-e662f7462118"
   },
   "outputs": [
    {
     "data": {
      "image/png": "[encoded data removed]",
      "text/plain": [
       "<Figure size 432x288 with 2 Axes>"
      ]
     },
     "metadata": {
      "needs_background": "light"
     },
     "output_type": "display_data"
    },
    {
     "name": "stdout",
     "output_type": "stream",
     "text": [
      "Accuracy: 0.84792 \n",
      "Precision: 0.61688 \n",
      "Recall: 0.62784 \n",
      "F-measure: 0.62231 \n"
     ]
    }
   ],
   "source": [
    "y_probe_rfe_prediction = DT(X_probe_rfe_ss, y_probe).predict(X_probe_test_rfe_ss)\n",
    "plotConfusionMatrix(y_probe_rfe_prediction, y_probe_test, 2)"
   ]
  },
  {
   "cell_type": "markdown",
   "metadata": {},
   "source": [
    "#### K-fold cross validation on r2l"
   ]
  },
  {
   "cell_type": "code",
   "execution_count": 45,
   "metadata": {},
   "outputs": [
    {
     "name": "stdout",
     "output_type": "stream",
     "text": [
      ">Train: 0=60615, 1=889, Test: 0=6728, 1=106\n",
      ">Train: 0=60612, 1=892, Test: 0=6731, 1=103\n",
      ">Train: 0=60628, 1=876, Test: 0=6715, 1=119\n",
      ">Train: 0=60613, 1=891, Test: 0=6730, 1=104\n",
      ">Train: 0=60610, 1=894, Test: 0=6733, 1=101\n",
      ">Train: 0=60591, 1=913, Test: 0=6752, 1=82\n",
      ">Train: 0=60599, 1=905, Test: 0=6744, 1=90\n",
      ">Train: 0=60597, 1=907, Test: 0=6746, 1=88\n",
      ">Train: 0=60614, 1=891, Test: 0=6729, 1=104\n",
      ">Train: 0=60608, 1=897, Test: 0=6735, 1=98\n"
     ]
    },
    {
     "data": {
      "text/plain": [
       "{'Mean Training Accuracy': 0.9894348678728099,\n",
       " 'Mean Training Precision': 1.0,\n",
       " 'Mean Training Recall': 0.2743700057756676,\n",
       " 'Mean Training F1 Score': 0.43058501492879897,\n",
       " 'Mean Validation Accuracy': 0.9894348686830737,\n",
       " 'Mean Validation Precision': 1.0,\n",
       " 'Mean Validation Recall': 0.2743061177667925,\n",
       " 'Mean Validation F1 Score': 0.4294701796534091}"
      ]
     },
     "execution_count": 45,
     "metadata": {},
     "output_type": "execute_result"
    }
   ],
   "source": [
    "KfoldCV(DecisionTreeClassifier(criterion = 'gini', max_depth=3, min_samples_leaf=32), pd.DataFrame(X_r2l_rfe), y_r2l, 10, 3)"
   ]
  },
  {
   "cell_type": "markdown",
   "metadata": {},
   "source": [
    "#### K-fold cross validation on r2l Standard Scaler"
   ]
  },
  {
   "cell_type": "code",
   "execution_count": 46,
   "metadata": {},
   "outputs": [
    {
     "name": "stdout",
     "output_type": "stream",
     "text": [
      ">Train: 0=60615, 1=889, Test: 0=6728, 1=106\n",
      ">Train: 0=60612, 1=892, Test: 0=6731, 1=103\n",
      ">Train: 0=60628, 1=876, Test: 0=6715, 1=119\n",
      ">Train: 0=60613, 1=891, Test: 0=6730, 1=104\n",
      ">Train: 0=60610, 1=894, Test: 0=6733, 1=101\n",
      ">Train: 0=60591, 1=913, Test: 0=6752, 1=82\n",
      ">Train: 0=60599, 1=905, Test: 0=6744, 1=90\n",
      ">Train: 0=60597, 1=907, Test: 0=6746, 1=88\n",
      ">Train: 0=60614, 1=891, Test: 0=6729, 1=104\n",
      ">Train: 0=60608, 1=897, Test: 0=6735, 1=98\n"
     ]
    },
    {
     "data": {
      "text/plain": [
       "{'Mean Training Accuracy': 0.9894348678728099,\n",
       " 'Mean Training Precision': 1.0,\n",
       " 'Mean Training Recall': 0.2743700057756676,\n",
       " 'Mean Training F1 Score': 0.43058501492879897,\n",
       " 'Mean Validation Accuracy': 0.9894348686830737,\n",
       " 'Mean Validation Precision': 1.0,\n",
       " 'Mean Validation Recall': 0.2743061177667925,\n",
       " 'Mean Validation F1 Score': 0.4294701796534091}"
      ]
     },
     "execution_count": 46,
     "metadata": {},
     "output_type": "execute_result"
    }
   ],
   "source": [
    "KfoldCV(DecisionTreeClassifier(criterion = 'gini', max_depth=3, min_samples_leaf=32), pd.DataFrame(X_r2l_rfe_ss), y_r2l, 10, 3)"
   ]
  },
  {
   "cell_type": "markdown",
   "metadata": {},
   "source": [
    "#### Stratified cross validation on r2l"
   ]
  },
  {
   "cell_type": "code",
   "execution_count": 47,
   "metadata": {},
   "outputs": [
    {
     "name": "stdout",
     "output_type": "stream",
     "text": [
      ">Train: 0=60608, 1=896, Test: 0=6735, 1=99\n",
      ">Train: 0=60608, 1=896, Test: 0=6735, 1=99\n",
      ">Train: 0=60608, 1=896, Test: 0=6735, 1=99\n",
      ">Train: 0=60609, 1=895, Test: 0=6734, 1=100\n",
      ">Train: 0=60609, 1=895, Test: 0=6734, 1=100\n",
      ">Train: 0=60609, 1=895, Test: 0=6734, 1=100\n",
      ">Train: 0=60609, 1=895, Test: 0=6734, 1=100\n",
      ">Train: 0=60609, 1=895, Test: 0=6734, 1=100\n",
      ">Train: 0=60609, 1=896, Test: 0=6734, 1=99\n",
      ">Train: 0=60609, 1=896, Test: 0=6734, 1=99\n"
     ]
    },
    {
     "data": {
      "text/plain": [
       "{'Mean Training Accuracy': 0.9894348679521162,\n",
       " 'Mean Training Precision': 1.0,\n",
       " 'Mean Training Recall': 0.2743717577813248,\n",
       " 'Mean Training F1 Score': 0.43058723102756946,\n",
       " 'Mean Validation Accuracy': 0.9894348751075075,\n",
       " 'Mean Validation Precision': 1.0,\n",
       " 'Mean Validation Recall': 0.27436363636363637,\n",
       " 'Mean Validation F1 Score': 0.42963588442720385}"
      ]
     },
     "execution_count": 47,
     "metadata": {},
     "output_type": "execute_result"
    }
   ],
   "source": [
    "stratifiedCV(DecisionTreeClassifier(criterion = 'gini', max_depth=3, min_samples_leaf=32), pd.DataFrame(X_r2l_rfe), y_r2l, 10, 3)"
   ]
  },
  {
   "cell_type": "markdown",
   "metadata": {},
   "source": [
    "#### Stratified cross validation on r2l Standard Scaler"
   ]
  },
  {
   "cell_type": "code",
   "execution_count": 48,
   "metadata": {},
   "outputs": [
    {
     "name": "stdout",
     "output_type": "stream",
     "text": [
      ">Train: 0=60608, 1=896, Test: 0=6735, 1=99\n",
      ">Train: 0=60608, 1=896, Test: 0=6735, 1=99\n",
      ">Train: 0=60608, 1=896, Test: 0=6735, 1=99\n",
      ">Train: 0=60609, 1=895, Test: 0=6734, 1=100\n",
      ">Train: 0=60609, 1=895, Test: 0=6734, 1=100\n",
      ">Train: 0=60609, 1=895, Test: 0=6734, 1=100\n",
      ">Train: 0=60609, 1=895, Test: 0=6734, 1=100\n",
      ">Train: 0=60609, 1=895, Test: 0=6734, 1=100\n",
      ">Train: 0=60609, 1=896, Test: 0=6734, 1=99\n",
      ">Train: 0=60609, 1=896, Test: 0=6734, 1=99\n"
     ]
    },
    {
     "data": {
      "text/plain": [
       "{'Mean Training Accuracy': 0.9894348679521162,\n",
       " 'Mean Training Precision': 1.0,\n",
       " 'Mean Training Recall': 0.2743717577813248,\n",
       " 'Mean Training F1 Score': 0.43058723102756946,\n",
       " 'Mean Validation Accuracy': 0.9894348751075075,\n",
       " 'Mean Validation Precision': 1.0,\n",
       " 'Mean Validation Recall': 0.27436363636363637,\n",
       " 'Mean Validation F1 Score': 0.42963588442720385}"
      ]
     },
     "execution_count": 48,
     "metadata": {},
     "output_type": "execute_result"
    }
   ],
   "source": [
    "stratifiedCV(DecisionTreeClassifier(criterion = 'gini', max_depth=3, min_samples_leaf=32), pd.DataFrame(X_r2l_rfe_ss), y_r2l, 10, 3)"
   ]
  },
  {
   "cell_type": "markdown",
   "metadata": {},
   "source": [
    "#### Predict on r2l"
   ]
  },
  {
   "cell_type": "code",
   "execution_count": 49,
   "metadata": {},
   "outputs": [
    {
     "data": {
      "image/png": "[encoded data removed]",
      "text/plain": [
       "<Figure size 432x288 with 2 Axes>"
      ]
     },
     "metadata": {
      "needs_background": "light"
     },
     "output_type": "display_data"
    },
    {
     "name": "stdout",
     "output_type": "stream",
     "text": [
      "Accuracy: 0.77096 \n",
      "Precision: 0.00000 \n",
      "Recall: 0.00000 \n",
      "F-measure: 0.00000 \n"
     ]
    },
    {
     "name": "stderr",
     "output_type": "stream",
     "text": [
      "C:\\Users\\Daniele\\anaconda3\\lib\\site-packages\\sklearn\\metrics\\_classification.py:1344: UndefinedMetricWarning: Precision is ill-defined and being set to 0.0 due to no predicted samples. Use `zero_division` parameter to control this behavior.\n",
      "  _warn_prf(average, modifier, msg_start, len(result))\n"
     ]
    }
   ],
   "source": [
    "y_r2l_rfe_prediction = DT(X_r2l_rfe, y_r2l).predict(X_r2l_test_rfe)\n",
    "plotConfusionMatrix(y_r2l_rfe_prediction, y_r2l_test, 3)"
   ]
  },
  {
   "cell_type": "code",
   "execution_count": 50,
   "metadata": {
    "colab": {
     "base_uri": "https://localhost:8080/",
     "height": 419
    },
    "executionInfo": {
     "elapsed": 3406,
     "status": "ok",
     "timestamp": 1675471386339,
     "user": {
      "displayName": "DANIELE PALMIERI",
      "userId": "13749636301499067245"
     },
     "user_tz": -60
    },
    "id": "3-sZ9eu1359i",
    "outputId": "399643ed-eb97-48dc-ee88-8678324604db",
    "scrolled": false
   },
   "outputs": [
    {
     "data": {
      "image/png": "[encoded data removed]",
      "text/plain": [
       "<Figure size 432x288 with 2 Axes>"
      ]
     },
     "metadata": {
      "needs_background": "light"
     },
     "output_type": "display_data"
    },
    {
     "name": "stdout",
     "output_type": "stream",
     "text": [
      "Accuracy: 0.77056 \n",
      "Precision: 0.00000 \n",
      "Recall: 0.00000 \n",
      "F-measure: 0.00000 \n"
     ]
    }
   ],
   "source": [
    "y_r2l_rfe_prediction = DT(X_r2l_rfe_ss, y_r2l).predict(X_r2l_test_rfe_ss)\n",
    "plotConfusionMatrix(y_r2l_rfe_prediction, y_r2l_test, 3)"
   ]
  },
  {
   "cell_type": "markdown",
   "metadata": {},
   "source": [
    "#### K-fold cross validation on u2r"
   ]
  },
  {
   "cell_type": "code",
   "execution_count": 51,
   "metadata": {},
   "outputs": [
    {
     "name": "stdout",
     "output_type": "stream",
     "text": [
      ">Train: 0=60608, 1=47, Test: 0=6735, 1=5\n",
      ">Train: 0=60609, 1=46, Test: 0=6734, 1=6\n",
      ">Train: 0=60609, 1=46, Test: 0=6734, 1=6\n"
     ]
    },
    {
     "name": "stderr",
     "output_type": "stream",
     "text": [
      "C:\\Users\\Daniele\\anaconda3\\lib\\site-packages\\sklearn\\metrics\\_classification.py:1344: UndefinedMetricWarning: Precision is ill-defined and being set to 0.0 due to no predicted samples. Use `zero_division` parameter to control this behavior.\n",
      "  _warn_prf(average, modifier, msg_start, len(result))\n",
      "C:\\Users\\Daniele\\anaconda3\\lib\\site-packages\\sklearn\\metrics\\_classification.py:1344: UndefinedMetricWarning: Precision is ill-defined and being set to 0.0 due to no predicted samples. Use `zero_division` parameter to control this behavior.\n",
      "  _warn_prf(average, modifier, msg_start, len(result))\n",
      "C:\\Users\\Daniele\\anaconda3\\lib\\site-packages\\sklearn\\metrics\\_classification.py:1344: UndefinedMetricWarning: Precision is ill-defined and being set to 0.0 due to no predicted samples. Use `zero_division` parameter to control this behavior.\n",
      "  _warn_prf(average, modifier, msg_start, len(result))\n",
      "C:\\Users\\Daniele\\anaconda3\\lib\\site-packages\\sklearn\\metrics\\_classification.py:1344: UndefinedMetricWarning: Precision is ill-defined and being set to 0.0 due to no predicted samples. Use `zero_division` parameter to control this behavior.\n",
      "  _warn_prf(average, modifier, msg_start, len(result))\n"
     ]
    },
    {
     "name": "stdout",
     "output_type": "stream",
     "text": [
      ">Train: 0=60609, 1=46, Test: 0=6734, 1=6\n",
      ">Train: 0=60607, 1=48, Test: 0=6736, 1=4\n",
      ">Train: 0=60612, 1=44, Test: 0=6731, 1=8\n",
      ">Train: 0=60609, 1=47, Test: 0=6734, 1=5\n"
     ]
    },
    {
     "name": "stderr",
     "output_type": "stream",
     "text": [
      "C:\\Users\\Daniele\\anaconda3\\lib\\site-packages\\sklearn\\metrics\\_classification.py:1344: UndefinedMetricWarning: Precision is ill-defined and being set to 0.0 due to no predicted samples. Use `zero_division` parameter to control this behavior.\n",
      "  _warn_prf(average, modifier, msg_start, len(result))\n",
      "C:\\Users\\Daniele\\anaconda3\\lib\\site-packages\\sklearn\\metrics\\_classification.py:1344: UndefinedMetricWarning: Precision is ill-defined and being set to 0.0 due to no predicted samples. Use `zero_division` parameter to control this behavior.\n",
      "  _warn_prf(average, modifier, msg_start, len(result))\n"
     ]
    },
    {
     "name": "stdout",
     "output_type": "stream",
     "text": [
      ">Train: 0=60607, 1=49, Test: 0=6736, 1=3\n",
      ">Train: 0=60609, 1=47, Test: 0=6734, 1=5\n",
      ">Train: 0=60608, 1=48, Test: 0=6735, 1=4\n"
     ]
    },
    {
     "data": {
      "text/plain": [
       "{'Mean Training Accuracy': 0.9992712943871485,\n",
       " 'Mean Training Precision': 0.3864363296913512,\n",
       " 'Mean Training Recall': 0.30343799932722226,\n",
       " 'Mean Training F1 Score': 0.33947609145717317,\n",
       " 'Mean Validation Accuracy': 0.9991245674344343,\n",
       " 'Mean Validation Precision': 0.24166666666666664,\n",
       " 'Mean Validation Recall': 0.1975,\n",
       " 'Mean Validation F1 Score': 0.21262626262626264}"
      ]
     },
     "execution_count": 51,
     "metadata": {},
     "output_type": "execute_result"
    }
   ],
   "source": [
    "KfoldCV(DecisionTreeClassifier(criterion = 'gini', max_depth=3, min_samples_leaf=32), pd.DataFrame(X_u2r_rfe), y_u2r, 10, 4)"
   ]
  },
  {
   "cell_type": "markdown",
   "metadata": {},
   "source": [
    "#### K-fold cross validation on u2r Standard Scaler"
   ]
  },
  {
   "cell_type": "code",
   "execution_count": 52,
   "metadata": {
    "scrolled": true
   },
   "outputs": [
    {
     "name": "stdout",
     "output_type": "stream",
     "text": [
      ">Train: 0=60608, 1=47, Test: 0=6735, 1=5\n",
      ">Train: 0=60609, 1=46, Test: 0=6734, 1=6\n",
      ">Train: 0=60609, 1=46, Test: 0=6734, 1=6\n",
      ">Train: 0=60609, 1=46, Test: 0=6734, 1=6\n"
     ]
    },
    {
     "name": "stderr",
     "output_type": "stream",
     "text": [
      "C:\\Users\\Daniele\\anaconda3\\lib\\site-packages\\sklearn\\metrics\\_classification.py:1344: UndefinedMetricWarning: Precision is ill-defined and being set to 0.0 due to no predicted samples. Use `zero_division` parameter to control this behavior.\n",
      "  _warn_prf(average, modifier, msg_start, len(result))\n",
      "C:\\Users\\Daniele\\anaconda3\\lib\\site-packages\\sklearn\\metrics\\_classification.py:1344: UndefinedMetricWarning: Precision is ill-defined and being set to 0.0 due to no predicted samples. Use `zero_division` parameter to control this behavior.\n",
      "  _warn_prf(average, modifier, msg_start, len(result))\n",
      "C:\\Users\\Daniele\\anaconda3\\lib\\site-packages\\sklearn\\metrics\\_classification.py:1344: UndefinedMetricWarning: Precision is ill-defined and being set to 0.0 due to no predicted samples. Use `zero_division` parameter to control this behavior.\n",
      "  _warn_prf(average, modifier, msg_start, len(result))\n",
      "C:\\Users\\Daniele\\anaconda3\\lib\\site-packages\\sklearn\\metrics\\_classification.py:1344: UndefinedMetricWarning: Precision is ill-defined and being set to 0.0 due to no predicted samples. Use `zero_division` parameter to control this behavior.\n",
      "  _warn_prf(average, modifier, msg_start, len(result))\n"
     ]
    },
    {
     "name": "stdout",
     "output_type": "stream",
     "text": [
      ">Train: 0=60607, 1=48, Test: 0=6736, 1=4\n",
      ">Train: 0=60612, 1=44, Test: 0=6731, 1=8\n",
      ">Train: 0=60609, 1=47, Test: 0=6734, 1=5\n",
      ">Train: 0=60607, 1=49, Test: 0=6736, 1=3\n"
     ]
    },
    {
     "name": "stderr",
     "output_type": "stream",
     "text": [
      "C:\\Users\\Daniele\\anaconda3\\lib\\site-packages\\sklearn\\metrics\\_classification.py:1344: UndefinedMetricWarning: Precision is ill-defined and being set to 0.0 due to no predicted samples. Use `zero_division` parameter to control this behavior.\n",
      "  _warn_prf(average, modifier, msg_start, len(result))\n",
      "C:\\Users\\Daniele\\anaconda3\\lib\\site-packages\\sklearn\\metrics\\_classification.py:1344: UndefinedMetricWarning: Precision is ill-defined and being set to 0.0 due to no predicted samples. Use `zero_division` parameter to control this behavior.\n",
      "  _warn_prf(average, modifier, msg_start, len(result))\n"
     ]
    },
    {
     "name": "stdout",
     "output_type": "stream",
     "text": [
      ">Train: 0=60609, 1=47, Test: 0=6734, 1=5\n",
      ">Train: 0=60608, 1=48, Test: 0=6735, 1=4\n"
     ]
    },
    {
     "data": {
      "text/plain": [
       "{'Mean Training Accuracy': 0.9992712943871485,\n",
       " 'Mean Training Precision': 0.3864363296913512,\n",
       " 'Mean Training Recall': 0.30343799932722226,\n",
       " 'Mean Training F1 Score': 0.33947609145717317,\n",
       " 'Mean Validation Accuracy': 0.9991245674344343,\n",
       " 'Mean Validation Precision': 0.24166666666666664,\n",
       " 'Mean Validation Recall': 0.1975,\n",
       " 'Mean Validation F1 Score': 0.21262626262626264}"
      ]
     },
     "execution_count": 52,
     "metadata": {},
     "output_type": "execute_result"
    }
   ],
   "source": [
    "KfoldCV(DecisionTreeClassifier(criterion = 'gini', max_depth=3, min_samples_leaf=32), pd.DataFrame(X_u2r_rfe_ss), y_u2r, 10, 4)"
   ]
  },
  {
   "cell_type": "markdown",
   "metadata": {},
   "source": [
    "#### Stratified cross validation on u2r"
   ]
  },
  {
   "cell_type": "code",
   "execution_count": 53,
   "metadata": {},
   "outputs": [
    {
     "name": "stdout",
     "output_type": "stream",
     "text": [
      ">Train: 0=60608, 1=47, Test: 0=6735, 1=5\n",
      ">Train: 0=60608, 1=47, Test: 0=6735, 1=5\n",
      ">Train: 0=60608, 1=47, Test: 0=6735, 1=5\n"
     ]
    },
    {
     "name": "stderr",
     "output_type": "stream",
     "text": [
      "C:\\Users\\Daniele\\anaconda3\\lib\\site-packages\\sklearn\\metrics\\_classification.py:1344: UndefinedMetricWarning: Precision is ill-defined and being set to 0.0 due to no predicted samples. Use `zero_division` parameter to control this behavior.\n",
      "  _warn_prf(average, modifier, msg_start, len(result))\n",
      "C:\\Users\\Daniele\\anaconda3\\lib\\site-packages\\sklearn\\metrics\\_classification.py:1344: UndefinedMetricWarning: Precision is ill-defined and being set to 0.0 due to no predicted samples. Use `zero_division` parameter to control this behavior.\n",
      "  _warn_prf(average, modifier, msg_start, len(result))\n",
      "C:\\Users\\Daniele\\anaconda3\\lib\\site-packages\\sklearn\\metrics\\_classification.py:1344: UndefinedMetricWarning: Precision is ill-defined and being set to 0.0 due to no predicted samples. Use `zero_division` parameter to control this behavior.\n",
      "  _warn_prf(average, modifier, msg_start, len(result))\n"
     ]
    },
    {
     "name": "stdout",
     "output_type": "stream",
     "text": [
      ">Train: 0=60609, 1=46, Test: 0=6734, 1=6\n",
      ">Train: 0=60609, 1=46, Test: 0=6734, 1=6\n"
     ]
    },
    {
     "name": "stderr",
     "output_type": "stream",
     "text": [
      "C:\\Users\\Daniele\\anaconda3\\lib\\site-packages\\sklearn\\metrics\\_classification.py:1344: UndefinedMetricWarning: Precision is ill-defined and being set to 0.0 due to no predicted samples. Use `zero_division` parameter to control this behavior.\n",
      "  _warn_prf(average, modifier, msg_start, len(result))\n",
      "C:\\Users\\Daniele\\anaconda3\\lib\\site-packages\\sklearn\\metrics\\_classification.py:1344: UndefinedMetricWarning: Precision is ill-defined and being set to 0.0 due to no predicted samples. Use `zero_division` parameter to control this behavior.\n",
      "  _warn_prf(average, modifier, msg_start, len(result))\n"
     ]
    },
    {
     "name": "stdout",
     "output_type": "stream",
     "text": [
      ">Train: 0=60609, 1=47, Test: 0=6734, 1=5\n",
      ">Train: 0=60609, 1=47, Test: 0=6734, 1=5\n",
      ">Train: 0=60609, 1=47, Test: 0=6734, 1=5\n"
     ]
    },
    {
     "name": "stderr",
     "output_type": "stream",
     "text": [
      "C:\\Users\\Daniele\\anaconda3\\lib\\site-packages\\sklearn\\metrics\\_classification.py:1344: UndefinedMetricWarning: Precision is ill-defined and being set to 0.0 due to no predicted samples. Use `zero_division` parameter to control this behavior.\n",
      "  _warn_prf(average, modifier, msg_start, len(result))\n",
      "C:\\Users\\Daniele\\anaconda3\\lib\\site-packages\\sklearn\\metrics\\_classification.py:1344: UndefinedMetricWarning: Precision is ill-defined and being set to 0.0 due to no predicted samples. Use `zero_division` parameter to control this behavior.\n",
      "  _warn_prf(average, modifier, msg_start, len(result))\n"
     ]
    },
    {
     "name": "stdout",
     "output_type": "stream",
     "text": [
      ">Train: 0=60609, 1=47, Test: 0=6734, 1=5\n",
      ">Train: 0=60609, 1=47, Test: 0=6734, 1=5\n"
     ]
    },
    {
     "data": {
      "text/plain": [
       "{'Mean Training Accuracy': 0.9992729430558484,\n",
       " 'Mean Training Precision': 0.38683550353092755,\n",
       " 'Mean Training Recall': 0.30948196114708604,\n",
       " 'Mean Training F1 Score': 0.3434925145964838,\n",
       " 'Mean Validation Accuracy': 0.9991097306391821,\n",
       " 'Mean Validation Precision': 0.19833333333333333,\n",
       " 'Mean Validation Recall': 0.15999999999999998,\n",
       " 'Mean Validation F1 Score': 0.17484848484848486}"
      ]
     },
     "execution_count": 53,
     "metadata": {},
     "output_type": "execute_result"
    }
   ],
   "source": [
    "stratifiedCV(DecisionTreeClassifier(criterion = 'gini', max_depth=3, min_samples_leaf=32), pd.DataFrame(X_u2r_rfe), y_u2r, 10, 4)"
   ]
  },
  {
   "cell_type": "markdown",
   "metadata": {},
   "source": [
    "#### Stratified cross validation on u2r Standard Scaler"
   ]
  },
  {
   "cell_type": "code",
   "execution_count": 54,
   "metadata": {},
   "outputs": [
    {
     "name": "stdout",
     "output_type": "stream",
     "text": [
      ">Train: 0=60608, 1=47, Test: 0=6735, 1=5\n",
      ">Train: 0=60608, 1=47, Test: 0=6735, 1=5\n",
      ">Train: 0=60608, 1=47, Test: 0=6735, 1=5\n"
     ]
    },
    {
     "name": "stderr",
     "output_type": "stream",
     "text": [
      "C:\\Users\\Daniele\\anaconda3\\lib\\site-packages\\sklearn\\metrics\\_classification.py:1344: UndefinedMetricWarning: Precision is ill-defined and being set to 0.0 due to no predicted samples. Use `zero_division` parameter to control this behavior.\n",
      "  _warn_prf(average, modifier, msg_start, len(result))\n",
      "C:\\Users\\Daniele\\anaconda3\\lib\\site-packages\\sklearn\\metrics\\_classification.py:1344: UndefinedMetricWarning: Precision is ill-defined and being set to 0.0 due to no predicted samples. Use `zero_division` parameter to control this behavior.\n",
      "  _warn_prf(average, modifier, msg_start, len(result))\n",
      "C:\\Users\\Daniele\\anaconda3\\lib\\site-packages\\sklearn\\metrics\\_classification.py:1344: UndefinedMetricWarning: Precision is ill-defined and being set to 0.0 due to no predicted samples. Use `zero_division` parameter to control this behavior.\n",
      "  _warn_prf(average, modifier, msg_start, len(result))\n"
     ]
    },
    {
     "name": "stdout",
     "output_type": "stream",
     "text": [
      ">Train: 0=60609, 1=46, Test: 0=6734, 1=6\n"
     ]
    },
    {
     "name": "stderr",
     "output_type": "stream",
     "text": [
      "C:\\Users\\Daniele\\anaconda3\\lib\\site-packages\\sklearn\\metrics\\_classification.py:1344: UndefinedMetricWarning: Precision is ill-defined and being set to 0.0 due to no predicted samples. Use `zero_division` parameter to control this behavior.\n",
      "  _warn_prf(average, modifier, msg_start, len(result))\n",
      "C:\\Users\\Daniele\\anaconda3\\lib\\site-packages\\sklearn\\metrics\\_classification.py:1344: UndefinedMetricWarning: Precision is ill-defined and being set to 0.0 due to no predicted samples. Use `zero_division` parameter to control this behavior.\n",
      "  _warn_prf(average, modifier, msg_start, len(result))\n"
     ]
    },
    {
     "name": "stdout",
     "output_type": "stream",
     "text": [
      ">Train: 0=60609, 1=46, Test: 0=6734, 1=6\n",
      ">Train: 0=60609, 1=47, Test: 0=6734, 1=5\n",
      ">Train: 0=60609, 1=47, Test: 0=6734, 1=5\n",
      ">Train: 0=60609, 1=47, Test: 0=6734, 1=5\n"
     ]
    },
    {
     "name": "stderr",
     "output_type": "stream",
     "text": [
      "C:\\Users\\Daniele\\anaconda3\\lib\\site-packages\\sklearn\\metrics\\_classification.py:1344: UndefinedMetricWarning: Precision is ill-defined and being set to 0.0 due to no predicted samples. Use `zero_division` parameter to control this behavior.\n",
      "  _warn_prf(average, modifier, msg_start, len(result))\n",
      "C:\\Users\\Daniele\\anaconda3\\lib\\site-packages\\sklearn\\metrics\\_classification.py:1344: UndefinedMetricWarning: Precision is ill-defined and being set to 0.0 due to no predicted samples. Use `zero_division` parameter to control this behavior.\n",
      "  _warn_prf(average, modifier, msg_start, len(result))\n"
     ]
    },
    {
     "name": "stdout",
     "output_type": "stream",
     "text": [
      ">Train: 0=60609, 1=47, Test: 0=6734, 1=5\n",
      ">Train: 0=60609, 1=47, Test: 0=6734, 1=5\n"
     ]
    },
    {
     "data": {
      "text/plain": [
       "{'Mean Training Accuracy': 0.9992729430558484,\n",
       " 'Mean Training Precision': 0.38683550353092755,\n",
       " 'Mean Training Recall': 0.30948196114708604,\n",
       " 'Mean Training F1 Score': 0.3434925145964838,\n",
       " 'Mean Validation Accuracy': 0.9991097306391821,\n",
       " 'Mean Validation Precision': 0.19833333333333333,\n",
       " 'Mean Validation Recall': 0.15999999999999998,\n",
       " 'Mean Validation F1 Score': 0.17484848484848486}"
      ]
     },
     "execution_count": 54,
     "metadata": {},
     "output_type": "execute_result"
    }
   ],
   "source": [
    "stratifiedCV(DecisionTreeClassifier(criterion = 'gini', max_depth=3, min_samples_leaf=32), pd.DataFrame(X_u2r_rfe_ss), y_u2r, 10, 4)"
   ]
  },
  {
   "cell_type": "markdown",
   "metadata": {},
   "source": [
    "#### Predict on u2r"
   ]
  },
  {
   "cell_type": "code",
   "execution_count": 55,
   "metadata": {},
   "outputs": [
    {
     "data": {
      "image/png": "[encoded data removed]",
      "text/plain": [
       "<Figure size 432x288 with 2 Axes>"
      ]
     },
     "metadata": {
      "needs_background": "light"
     },
     "output_type": "display_data"
    },
    {
     "name": "stdout",
     "output_type": "stream",
     "text": [
      "Accuracy: 0.99345 \n",
      "Precision: 0.57895 \n",
      "Recall: 0.16418 \n",
      "F-measure: 0.25581 \n"
     ]
    }
   ],
   "source": [
    "y_u2r_rfe_prediction = DT(X_u2r_rfe, y_u2r).predict(X_u2r_test_rfe)\n",
    "plotConfusionMatrix(y_u2r_rfe_prediction, y_u2r_test, 4)"
   ]
  },
  {
   "cell_type": "code",
   "execution_count": 56,
   "metadata": {
    "colab": {
     "base_uri": "https://localhost:8080/",
     "height": 364
    },
    "executionInfo": {
     "elapsed": 2396,
     "status": "ok",
     "timestamp": 1675471440250,
     "user": {
      "displayName": "DANIELE PALMIERI",
      "userId": "13749636301499067245"
     },
     "user_tz": -60
    },
    "id": "KONNFtt04Izj",
    "outputId": "a919864e-f8fe-49d4-db1a-02a271cac0f7",
    "scrolled": true
   },
   "outputs": [
    {
     "data": {
      "image/png": "[encoded data removed]",
      "text/plain": [
       "<Figure size 432x288 with 2 Axes>"
      ]
     },
     "metadata": {
      "needs_background": "light"
     },
     "output_type": "display_data"
    },
    {
     "name": "stdout",
     "output_type": "stream",
     "text": [
      "Accuracy: 0.99356 \n",
      "Precision: 0.61111 \n",
      "Recall: 0.16418 \n",
      "F-measure: 0.25882 \n"
     ]
    }
   ],
   "source": [
    "y_u2r_rfe_prediction = DT(X_u2r_rfe_ss, y_u2r).predict(X_u2r_test_rfe_ss)\n",
    "plotConfusionMatrix(y_u2r_rfe_prediction, y_u2r_test, 4)"
   ]
  },
  {
   "cell_type": "markdown",
   "metadata": {},
   "source": [
    "## Binary dataset no feature selection"
   ]
  },
  {
   "cell_type": "code",
   "execution_count": 57,
   "metadata": {
    "scrolled": true
   },
   "outputs": [
    {
     "data": {
      "image/png": "[encoded data removed]",
      "text/plain": [
       "<Figure size 720x360 with 1 Axes>"
      ]
     },
     "metadata": {
      "needs_background": "light"
     },
     "output_type": "display_data"
    }
   ],
   "source": [
    "reducedDf = getReducedDf()\n",
    "reducedDf_test = getReducedDfTest()\n",
    "\n",
    "reducedDf['label'], reducedDf_test['label'] = prepareBinary()\n",
    "plotDf(reducedDf['label'])\n",
    "\n",
    "x_df, y_df = getXandY(reducedDf)\n",
    "x_df_test, y_df_test = getXandY(reducedDf_test)\n",
    "\n",
    "x_df_ss = standardScaler(x_df)\n",
    "x_df_test_ss = standardScaler(x_df_test)"
   ]
  },
  {
   "cell_type": "markdown",
   "metadata": {},
   "source": [
    "#### K-fold cross validation"
   ]
  },
  {
   "cell_type": "code",
   "execution_count": 58,
   "metadata": {
    "scrolled": true
   },
   "outputs": [
    {
     "name": "stdout",
     "output_type": "stream",
     "text": [
      ">Train: 0=60653, 1=52722, Test: 0=6690, 1=5908\n",
      ">Train: 0=60581, 1=52794, Test: 0=6762, 1=5836\n",
      ">Train: 0=60638, 1=52737, Test: 0=6705, 1=5893\n",
      ">Train: 0=60750, 1=52626, Test: 0=6593, 1=6004\n",
      ">Train: 0=60645, 1=52731, Test: 0=6698, 1=5899\n",
      ">Train: 0=60505, 1=52871, Test: 0=6838, 1=5759\n",
      ">Train: 0=60507, 1=52869, Test: 0=6836, 1=5761\n",
      ">Train: 0=60570, 1=52806, Test: 0=6773, 1=5824\n",
      ">Train: 0=60650, 1=52726, Test: 0=6693, 1=5904\n",
      ">Train: 0=60588, 1=52788, Test: 0=6755, 1=5842\n"
     ]
    },
    {
     "data": {
      "text/plain": [
       "{'Mean Training Accuracy': 0.9586895608714607,\n",
       " 'Mean Training Precision': 0.948372637882082,\n",
       " 'Mean Training Recall': 0.9637025859058566,\n",
       " 'Mean Training F1 Score': 0.9559759176574246,\n",
       " 'Mean Validation Accuracy': 0.958546650212166,\n",
       " 'Mean Validation Precision': 0.9481058636728941,\n",
       " 'Mean Validation Recall': 0.9636464782294244,\n",
       " 'Mean Validation F1 Score': 0.9558108761142355}"
      ]
     },
     "execution_count": 58,
     "metadata": {},
     "output_type": "execute_result"
    }
   ],
   "source": [
    "KfoldCV(DecisionTreeClassifier(criterion = 'gini', max_depth=3, min_samples_leaf=32), pd.DataFrame(x_df), y_df, 10, 1)"
   ]
  },
  {
   "cell_type": "markdown",
   "metadata": {},
   "source": [
    "#### K-fold cross validation Standard Scaler"
   ]
  },
  {
   "cell_type": "code",
   "execution_count": 59,
   "metadata": {},
   "outputs": [
    {
     "name": "stdout",
     "output_type": "stream",
     "text": [
      ">Train: 0=60653, 1=52722, Test: 0=6690, 1=5908\n",
      ">Train: 0=60581, 1=52794, Test: 0=6762, 1=5836\n",
      ">Train: 0=60638, 1=52737, Test: 0=6705, 1=5893\n",
      ">Train: 0=60750, 1=52626, Test: 0=6593, 1=6004\n",
      ">Train: 0=60645, 1=52731, Test: 0=6698, 1=5899\n",
      ">Train: 0=60505, 1=52871, Test: 0=6838, 1=5759\n",
      ">Train: 0=60507, 1=52869, Test: 0=6836, 1=5761\n",
      ">Train: 0=60570, 1=52806, Test: 0=6773, 1=5824\n",
      ">Train: 0=60650, 1=52726, Test: 0=6693, 1=5904\n",
      ">Train: 0=60588, 1=52788, Test: 0=6755, 1=5842\n"
     ]
    },
    {
     "data": {
      "text/plain": [
       "{'Mean Training Accuracy': 0.9586895608714607,\n",
       " 'Mean Training Precision': 0.948372637882082,\n",
       " 'Mean Training Recall': 0.9637025859058566,\n",
       " 'Mean Training F1 Score': 0.9559759176574246,\n",
       " 'Mean Validation Accuracy': 0.958546650212166,\n",
       " 'Mean Validation Precision': 0.9481058636728941,\n",
       " 'Mean Validation Recall': 0.9636464782294244,\n",
       " 'Mean Validation F1 Score': 0.9558108761142355}"
      ]
     },
     "execution_count": 59,
     "metadata": {},
     "output_type": "execute_result"
    }
   ],
   "source": [
    "KfoldCV(DecisionTreeClassifier(criterion = 'gini', max_depth=3, min_samples_leaf=32), pd.DataFrame(x_df_ss), y_df, 10, 1)"
   ]
  },
  {
   "cell_type": "markdown",
   "metadata": {},
   "source": [
    "#### Predict"
   ]
  },
  {
   "cell_type": "code",
   "execution_count": 60,
   "metadata": {
    "scrolled": false
   },
   "outputs": [
    {
     "data": {
      "image/png": "[encoded data removed]",
      "text/plain": [
       "<Figure size 432x288 with 2 Axes>"
      ]
     },
     "metadata": {
      "needs_background": "light"
     },
     "output_type": "display_data"
    },
    {
     "name": "stdout",
     "output_type": "stream",
     "text": [
      "Accuracy: 0.78695 \n",
      "Precision: 0.96213 \n",
      "Recall: 0.65137 \n",
      "F-measure: 0.77682 \n"
     ]
    }
   ],
   "source": [
    "y_prediction = DT(x_df, y_df).predict(x_df_test)\n",
    "plotConfusionMatrix(y_prediction, y_df_test, 1)"
   ]
  },
  {
   "cell_type": "code",
   "execution_count": 61,
   "metadata": {
    "scrolled": true
   },
   "outputs": [
    {
     "data": {
      "image/png": "[encoded data removed]",
      "text/plain": [
       "<Figure size 432x288 with 2 Axes>"
      ]
     },
     "metadata": {
      "needs_background": "light"
     },
     "output_type": "display_data"
    },
    {
     "name": "stdout",
     "output_type": "stream",
     "text": [
      "Accuracy: 0.80806 \n",
      "Precision: 0.84958 \n",
      "Recall: 0.80542 \n",
      "F-measure: 0.82691 \n"
     ]
    }
   ],
   "source": [
    "y_prediction = DT(x_df_ss, y_df).predict(x_df_test_ss)\n",
    "plotConfusionMatrix(y_prediction, y_df_test, 1)"
   ]
  },
  {
   "cell_type": "markdown",
   "metadata": {},
   "source": [
    "## Binary dataset feature selection"
   ]
  },
  {
   "cell_type": "code",
   "execution_count": 62,
   "metadata": {},
   "outputs": [],
   "source": [
    "X_df_rfe, rfecolname = recursiveFeatureExtraction(DecisionTreeClassifier(criterion = 'gini', max_depth=3, min_samples_leaf=32), x_df, y_df, 13)\n",
    "X_df_test_rfe=x_df_test.values[:,rfecolname]"
   ]
  },
  {
   "cell_type": "code",
   "execution_count": 63,
   "metadata": {},
   "outputs": [],
   "source": [
    "X_df_rfe_ss, rfecolname_ss = recursiveFeatureExtraction(DecisionTreeClassifier(criterion = 'gini', max_depth=3, min_samples_leaf=32), x_df_ss, y_df, 13)\n",
    "X_df_test_rfe_ss=x_df_test_ss[:,rfecolname_ss]"
   ]
  },
  {
   "cell_type": "markdown",
   "metadata": {},
   "source": [
    "#### K-fold cross validation"
   ]
  },
  {
   "cell_type": "code",
   "execution_count": 64,
   "metadata": {},
   "outputs": [
    {
     "name": "stdout",
     "output_type": "stream",
     "text": [
      ">Train: 0=60653, 1=52722, Test: 0=6690, 1=5908\n",
      ">Train: 0=60581, 1=52794, Test: 0=6762, 1=5836\n",
      ">Train: 0=60638, 1=52737, Test: 0=6705, 1=5893\n",
      ">Train: 0=60750, 1=52626, Test: 0=6593, 1=6004\n",
      ">Train: 0=60645, 1=52731, Test: 0=6698, 1=5899\n",
      ">Train: 0=60505, 1=52871, Test: 0=6838, 1=5759\n",
      ">Train: 0=60507, 1=52869, Test: 0=6836, 1=5761\n",
      ">Train: 0=60570, 1=52806, Test: 0=6773, 1=5824\n",
      ">Train: 0=60650, 1=52726, Test: 0=6693, 1=5904\n",
      ">Train: 0=60588, 1=52788, Test: 0=6755, 1=5842\n"
     ]
    },
    {
     "data": {
      "text/plain": [
       "{'Mean Training Accuracy': 0.9586860327879159,\n",
       " 'Mean Training Precision': 0.9483705839029554,\n",
       " 'Mean Training Recall': 0.9636969117177383,\n",
       " 'Mean Training F1 Score': 0.9559720841486012,\n",
       " 'Mean Validation Accuracy': 0.958546650212166,\n",
       " 'Mean Validation Precision': 0.9481058636728941,\n",
       " 'Mean Validation Recall': 0.9636464782294244,\n",
       " 'Mean Validation F1 Score': 0.9558108761142355}"
      ]
     },
     "execution_count": 64,
     "metadata": {},
     "output_type": "execute_result"
    }
   ],
   "source": [
    "KfoldCV(DecisionTreeClassifier(criterion = 'gini', max_depth=3, min_samples_leaf=32), pd.DataFrame(X_df_rfe), y_df, 10, 1)"
   ]
  },
  {
   "cell_type": "markdown",
   "metadata": {},
   "source": [
    "#### K-fold cross validation Standard Scaler"
   ]
  },
  {
   "cell_type": "code",
   "execution_count": 65,
   "metadata": {},
   "outputs": [
    {
     "name": "stdout",
     "output_type": "stream",
     "text": [
      ">Train: 0=60653, 1=52722, Test: 0=6690, 1=5908\n",
      ">Train: 0=60581, 1=52794, Test: 0=6762, 1=5836\n",
      ">Train: 0=60638, 1=52737, Test: 0=6705, 1=5893\n",
      ">Train: 0=60750, 1=52626, Test: 0=6593, 1=6004\n",
      ">Train: 0=60645, 1=52731, Test: 0=6698, 1=5899\n",
      ">Train: 0=60505, 1=52871, Test: 0=6838, 1=5759\n",
      ">Train: 0=60507, 1=52869, Test: 0=6836, 1=5761\n",
      ">Train: 0=60570, 1=52806, Test: 0=6773, 1=5824\n",
      ">Train: 0=60650, 1=52726, Test: 0=6693, 1=5904\n",
      ">Train: 0=60588, 1=52788, Test: 0=6755, 1=5842\n"
     ]
    },
    {
     "data": {
      "text/plain": [
       "{'Mean Training Accuracy': 0.9586860327879159,\n",
       " 'Mean Training Precision': 0.9483705839029554,\n",
       " 'Mean Training Recall': 0.9636969117177383,\n",
       " 'Mean Training F1 Score': 0.9559720841486012,\n",
       " 'Mean Validation Accuracy': 0.958546650212166,\n",
       " 'Mean Validation Precision': 0.9481058636728941,\n",
       " 'Mean Validation Recall': 0.9636464782294244,\n",
       " 'Mean Validation F1 Score': 0.9558108761142355}"
      ]
     },
     "execution_count": 65,
     "metadata": {},
     "output_type": "execute_result"
    }
   ],
   "source": [
    "KfoldCV(DecisionTreeClassifier(criterion = 'gini', max_depth=3, min_samples_leaf=32), pd.DataFrame(X_df_rfe_ss), y_df, 10, 1)"
   ]
  },
  {
   "cell_type": "markdown",
   "metadata": {},
   "source": [
    "#### Predict"
   ]
  },
  {
   "cell_type": "code",
   "execution_count": 66,
   "metadata": {},
   "outputs": [
    {
     "data": {
      "image/png": "[encoded data removed]",
      "text/plain": [
       "<Figure size 432x288 with 2 Axes>"
      ]
     },
     "metadata": {
      "needs_background": "light"
     },
     "output_type": "display_data"
    },
    {
     "name": "stdout",
     "output_type": "stream",
     "text": [
      "Accuracy: 0.78695 \n",
      "Precision: 0.96213 \n",
      "Recall: 0.65137 \n",
      "F-measure: 0.77682 \n"
     ]
    }
   ],
   "source": [
    "y_prediction = DT(X_df_rfe, y_df).predict(X_df_test_rfe)\n",
    "plotConfusionMatrix(y_prediction, y_df_test, 1)"
   ]
  },
  {
   "cell_type": "code",
   "execution_count": 67,
   "metadata": {},
   "outputs": [
    {
     "data": {
      "image/png": "[encoded data removed]",
      "text/plain": [
       "<Figure size 432x288 with 2 Axes>"
      ]
     },
     "metadata": {
      "needs_background": "light"
     },
     "output_type": "display_data"
    },
    {
     "name": "stdout",
     "output_type": "stream",
     "text": [
      "Accuracy: 0.80806 \n",
      "Precision: 0.84958 \n",
      "Recall: 0.80542 \n",
      "F-measure: 0.82691 \n"
     ]
    }
   ],
   "source": [
    "y_prediction = DT(X_df_rfe_ss, y_df).predict(X_df_test_rfe_ss)\n",
    "plotConfusionMatrix(y_prediction, y_df_test, 1)"
   ]
  },
  {
   "cell_type": "markdown",
   "metadata": {},
   "source": [
    "# Reduced DF, oversampling"
   ]
  },
  {
   "cell_type": "code",
   "execution_count": 68,
   "metadata": {},
   "outputs": [
    {
     "data": {
      "text/plain": [
       "<module 'matplotlib.pyplot' from 'C:\\\\Users\\\\Daniele\\\\anaconda3\\\\lib\\\\site-packages\\\\matplotlib\\\\pyplot.py'>"
      ]
     },
     "execution_count": 68,
     "metadata": {},
     "output_type": "execute_result"
    },
    {
     "data": {
      "image/png": "[encoded data removed]",
      "text/plain": [
       "<Figure size 720x360 with 1 Axes>"
      ]
     },
     "metadata": {
      "needs_background": "light"
     },
     "output_type": "display_data"
    }
   ],
   "source": [
    "reducedDf = getReducedDf()\n",
    "reducedDf_test = getReducedDfTest()\n",
    "\n",
    "reducedDf['label'], reducedDf_test['label'] = prepareMulticlass()\n",
    "\n",
    "x_df, y_df = getXandY(reducedDf)\n",
    "x_df_test, y_df_test = getXandY(reducedDf_test)\n",
    "\n",
    "\n",
    "oversampled_df = overSampledDF(x_df, y_df)\n",
    "oversampled_df_test = overSampledDF(x_df_test, y_df_test)\n",
    "\n",
    "plotDf(oversampled_df['label'])"
   ]
  },
  {
   "cell_type": "code",
   "execution_count": 69,
   "metadata": {},
   "outputs": [],
   "source": [
    "#Preparo i dataframe per ogni classe di attacco\n",
    "dos, probe, r2l, u2r = createMulticlassDF(oversampled_df)\n",
    "dos_test, probe_test, r2l_test, u2r_test = createMulticlassDF(oversampled_df_test)\n",
    "\n",
    "X_dos, y_dos = getXandY(dos)\n",
    "X_probe, y_probe = getXandY(probe)\n",
    "X_r2l, y_r2l = getXandY(r2l)\n",
    "X_u2r, y_u2r = getXandY(u2r)\n",
    "\n",
    "X_dos_test, y_dos_test = getXandY(dos_test)\n",
    "X_probe_test, y_probe_test = getXandY(probe_test)\n",
    "X_r2l_test, y_r2l_test = getXandY(r2l_test)\n",
    "X_u2r_test, y_u2r_test = getXandY(u2r_test)"
   ]
  },
  {
   "cell_type": "code",
   "execution_count": 70,
   "metadata": {},
   "outputs": [],
   "source": [
    "#Effettuo standard scaler\n",
    "X_dos_ss=standardScaler(X_dos)\n",
    "X_probe_ss=standardScaler(X_probe)\n",
    "X_r2l_ss=standardScaler(X_r2l)\n",
    "X_u2r_ss=standardScaler(X_u2r)\n",
    "\n",
    "X_dos_test_ss=standardScaler(X_dos_test)\n",
    "X_probe_test_ss=standardScaler(X_probe_test)\n",
    "X_r2l_test_ss=standardScaler(X_r2l_test)\n",
    "X_u2r_test_ss=standardScaler(X_u2r_test)"
   ]
  },
  {
   "cell_type": "markdown",
   "metadata": {},
   "source": [
    "## No feature selection"
   ]
  },
  {
   "cell_type": "markdown",
   "metadata": {},
   "source": [
    "#### K-fold cross validation on dos"
   ]
  },
  {
   "cell_type": "code",
   "execution_count": 71,
   "metadata": {},
   "outputs": [
    {
     "name": "stdout",
     "output_type": "stream",
     "text": [
      ">Train: 0=59387, 1=61830, Test: 0=7956, 1=5513\n",
      ">Train: 0=59336, 1=61881, Test: 0=8007, 1=5462\n",
      ">Train: 0=59437, 1=61780, Test: 0=7906, 1=5563\n",
      ">Train: 0=59306, 1=61911, Test: 0=8037, 1=5432\n",
      ">Train: 0=59299, 1=61918, Test: 0=8044, 1=5425\n",
      ">Train: 0=59294, 1=61923, Test: 0=8049, 1=5420\n",
      ">Train: 0=59294, 1=61924, Test: 0=8049, 1=5419\n",
      ">Train: 0=59327, 1=61891, Test: 0=8016, 1=5452\n",
      ">Train: 0=64064, 1=57154, Test: 0=3279, 1=10189\n",
      ">Train: 0=67343, 1=53875, Test: 0=0, 1=13468\n"
     ]
    },
    {
     "data": {
      "text/plain": [
       "{'Mean Training Accuracy': 0.9686695114054551,\n",
       " 'Mean Training Precision': 0.9991900598044186,\n",
       " 'Mean Training Recall': 0.9380870654133409,\n",
       " 'Mean Training F1 Score': 0.9676749341959049,\n",
       " 'Mean Validation Accuracy': 0.9686230658073407,\n",
       " 'Mean Validation Precision': 0.9990316349933902,\n",
       " 'Mean Validation Recall': 0.9376626378296203,\n",
       " 'Mean Validation F1 Score': 0.9673738749469569}"
      ]
     },
     "execution_count": 71,
     "metadata": {},
     "output_type": "execute_result"
    }
   ],
   "source": [
    "KfoldCV(DecisionTreeClassifier(criterion = 'gini', max_depth=3, min_samples_leaf=32), pd.DataFrame(X_dos), y_dos, 10, 1)"
   ]
  },
  {
   "cell_type": "markdown",
   "metadata": {},
   "source": [
    "#### K-fold cross validation on dos Standard Scaler"
   ]
  },
  {
   "cell_type": "code",
   "execution_count": 72,
   "metadata": {},
   "outputs": [
    {
     "name": "stdout",
     "output_type": "stream",
     "text": [
      ">Train: 0=59387, 1=61830, Test: 0=7956, 1=5513\n",
      ">Train: 0=59336, 1=61881, Test: 0=8007, 1=5462\n",
      ">Train: 0=59437, 1=61780, Test: 0=7906, 1=5563\n",
      ">Train: 0=59306, 1=61911, Test: 0=8037, 1=5432\n",
      ">Train: 0=59299, 1=61918, Test: 0=8044, 1=5425\n",
      ">Train: 0=59294, 1=61923, Test: 0=8049, 1=5420\n",
      ">Train: 0=59294, 1=61924, Test: 0=8049, 1=5419\n",
      ">Train: 0=59327, 1=61891, Test: 0=8016, 1=5452\n",
      ">Train: 0=64064, 1=57154, Test: 0=3279, 1=10189\n",
      ">Train: 0=67343, 1=53875, Test: 0=0, 1=13468\n"
     ]
    },
    {
     "data": {
      "text/plain": [
       "{'Mean Training Accuracy': 0.9686695114054551,\n",
       " 'Mean Training Precision': 0.9991900598044186,\n",
       " 'Mean Training Recall': 0.9380870654133409,\n",
       " 'Mean Training F1 Score': 0.9676749341959049,\n",
       " 'Mean Validation Accuracy': 0.9686230658073407,\n",
       " 'Mean Validation Precision': 0.9990316349933902,\n",
       " 'Mean Validation Recall': 0.9376626378296203,\n",
       " 'Mean Validation F1 Score': 0.9673738749469569}"
      ]
     },
     "execution_count": 72,
     "metadata": {},
     "output_type": "execute_result"
    }
   ],
   "source": [
    "KfoldCV(DecisionTreeClassifier(criterion = 'gini', max_depth=3, min_samples_leaf=32), pd.DataFrame(X_dos_ss), y_dos, 10, 1)"
   ]
  },
  {
   "cell_type": "markdown",
   "metadata": {},
   "source": [
    "#### Stratified cross validation on dos"
   ]
  },
  {
   "cell_type": "code",
   "execution_count": 73,
   "metadata": {},
   "outputs": [
    {
     "name": "stdout",
     "output_type": "stream",
     "text": [
      ">Train: 0=60608, 1=60609, Test: 0=6735, 1=6734\n",
      ">Train: 0=60608, 1=60609, Test: 0=6735, 1=6734\n",
      ">Train: 0=60608, 1=60609, Test: 0=6735, 1=6734\n",
      ">Train: 0=60609, 1=60608, Test: 0=6734, 1=6735\n",
      ">Train: 0=60609, 1=60608, Test: 0=6734, 1=6735\n",
      ">Train: 0=60609, 1=60608, Test: 0=6734, 1=6735\n",
      ">Train: 0=60609, 1=60609, Test: 0=6734, 1=6734\n",
      ">Train: 0=60609, 1=60609, Test: 0=6734, 1=6734\n",
      ">Train: 0=60609, 1=60609, Test: 0=6734, 1=6734\n",
      ">Train: 0=60609, 1=60609, Test: 0=6734, 1=6734\n"
     ]
    },
    {
     "data": {
      "text/plain": [
       "{'Mean Training Accuracy': 0.9686752893988968,\n",
       " 'Mean Training Precision': 0.9991933667269042,\n",
       " 'Mean Training Recall': 0.9381078957134017,\n",
       " 'Mean Training F1 Score': 0.967687568129086,\n",
       " 'Mean Validation Accuracy': 0.968653031547456,\n",
       " 'Mean Validation Precision': 0.9991773139918985,\n",
       " 'Mean Validation Recall': 0.9380782206617397,\n",
       " 'Mean Validation F1 Score': 0.9676631270750512}"
      ]
     },
     "execution_count": 73,
     "metadata": {},
     "output_type": "execute_result"
    }
   ],
   "source": [
    "stratifiedCV(DecisionTreeClassifier(criterion = 'gini', max_depth=3, min_samples_leaf=32), pd.DataFrame(X_dos), y_dos, 10, 1)"
   ]
  },
  {
   "cell_type": "markdown",
   "metadata": {},
   "source": [
    "#### Stratified cross validation on dos Standard Scaler"
   ]
  },
  {
   "cell_type": "code",
   "execution_count": 74,
   "metadata": {
    "scrolled": true
   },
   "outputs": [
    {
     "name": "stdout",
     "output_type": "stream",
     "text": [
      ">Train: 0=60608, 1=60609, Test: 0=6735, 1=6734\n",
      ">Train: 0=60608, 1=60609, Test: 0=6735, 1=6734\n",
      ">Train: 0=60608, 1=60609, Test: 0=6735, 1=6734\n",
      ">Train: 0=60609, 1=60608, Test: 0=6734, 1=6735\n",
      ">Train: 0=60609, 1=60608, Test: 0=6734, 1=6735\n",
      ">Train: 0=60609, 1=60608, Test: 0=6734, 1=6735\n",
      ">Train: 0=60609, 1=60609, Test: 0=6734, 1=6734\n",
      ">Train: 0=60609, 1=60609, Test: 0=6734, 1=6734\n",
      ">Train: 0=60609, 1=60609, Test: 0=6734, 1=6734\n",
      ">Train: 0=60609, 1=60609, Test: 0=6734, 1=6734\n"
     ]
    },
    {
     "data": {
      "text/plain": [
       "{'Mean Training Accuracy': 0.9686752893988968,\n",
       " 'Mean Training Precision': 0.9991933667269042,\n",
       " 'Mean Training Recall': 0.9381078957134017,\n",
       " 'Mean Training F1 Score': 0.967687568129086,\n",
       " 'Mean Validation Accuracy': 0.9686604560036145,\n",
       " 'Mean Validation Precision': 0.9991930993068261,\n",
       " 'Mean Validation Recall': 0.9380782206617397,\n",
       " 'Mean Validation F1 Score': 0.9676705409353497}"
      ]
     },
     "execution_count": 74,
     "metadata": {},
     "output_type": "execute_result"
    }
   ],
   "source": [
    "stratifiedCV(DecisionTreeClassifier(criterion = 'gini', max_depth=3, min_samples_leaf=32), pd.DataFrame(X_dos_ss), y_dos, 10, 1)"
   ]
  },
  {
   "cell_type": "markdown",
   "metadata": {},
   "source": [
    "#### Predict on dos"
   ]
  },
  {
   "cell_type": "code",
   "execution_count": 75,
   "metadata": {},
   "outputs": [
    {
     "data": {
      "image/png": "[encoded data removed]",
      "text/plain": [
       "<Figure size 432x288 with 2 Axes>"
      ]
     },
     "metadata": {
      "needs_background": "light"
     },
     "output_type": "display_data"
    },
    {
     "name": "stdout",
     "output_type": "stream",
     "text": [
      "Accuracy: 0.81845 \n",
      "Precision: 0.97149 \n",
      "Recall: 0.65616 \n",
      "F-measure: 0.78328 \n"
     ]
    }
   ],
   "source": [
    "y_dos_prediction = DT(X_dos, y_dos).predict(X_dos_test)\n",
    "plotConfusionMatrix(y_dos_prediction, y_dos_test, 1)"
   ]
  },
  {
   "cell_type": "code",
   "execution_count": 76,
   "metadata": {
    "scrolled": true
   },
   "outputs": [
    {
     "data": {
      "image/png": "[encoded data removed]",
      "text/plain": [
       "<Figure size 432x288 with 2 Axes>"
      ]
     },
     "metadata": {
      "needs_background": "light"
     },
     "output_type": "display_data"
    },
    {
     "name": "stdout",
     "output_type": "stream",
     "text": [
      "Accuracy: 0.79822 \n",
      "Precision: 0.95925 \n",
      "Recall: 0.62290 \n",
      "F-measure: 0.75532 \n"
     ]
    }
   ],
   "source": [
    "y_dos_prediction = DT(X_dos_ss, y_dos).predict(X_dos_test_ss)\n",
    "plotConfusionMatrix(y_dos_prediction, y_dos_test, 1)"
   ]
  },
  {
   "cell_type": "markdown",
   "metadata": {},
   "source": [
    "#### K-fold cross validation on probe"
   ]
  },
  {
   "cell_type": "code",
   "execution_count": 77,
   "metadata": {},
   "outputs": [
    {
     "name": "stdout",
     "output_type": "stream",
     "text": [
      ">Train: 0=55814, 1=65403, Test: 0=11529, 1=1940\n",
      ">Train: 0=55943, 1=65274, Test: 0=11400, 1=2069\n",
      ">Train: 0=55894, 1=65323, Test: 0=11449, 1=2020\n",
      ">Train: 0=55775, 1=65442, Test: 0=11568, 1=1901\n",
      ">Train: 0=55895, 1=65322, Test: 0=11448, 1=2021\n",
      ">Train: 0=57394, 1=63823, Test: 0=9949, 1=3520\n",
      ">Train: 0=67343, 1=53875, Test: 0=0, 1=13468\n",
      ">Train: 0=67343, 1=53875, Test: 0=0, 1=13468\n",
      ">Train: 0=67343, 1=53875, Test: 0=0, 1=13468\n",
      ">Train: 0=67343, 1=53875, Test: 0=0, 1=13468\n"
     ]
    },
    {
     "data": {
      "text/plain": [
       "{'Mean Training Accuracy': 0.9714479987137951,\n",
       " 'Mean Training Precision': 0.959128639468805,\n",
       " 'Mean Training Recall': 0.9841327621890888,\n",
       " 'Mean Training F1 Score': 0.9714587133415327,\n",
       " 'Mean Validation Accuracy': 0.9704947068170027,\n",
       " 'Mean Validation Precision': 0.8897238018861022,\n",
       " 'Mean Validation Recall': 0.9836345627596594,\n",
       " 'Mean Validation F1 Score': 0.9316575590728909}"
      ]
     },
     "execution_count": 77,
     "metadata": {},
     "output_type": "execute_result"
    }
   ],
   "source": [
    "KfoldCV(DecisionTreeClassifier(criterion = 'gini', max_depth=3, min_samples_leaf=32), pd.DataFrame(X_probe), y_probe, 10, 2)"
   ]
  },
  {
   "cell_type": "markdown",
   "metadata": {},
   "source": [
    "#### K-fold cross validation on probe Standard Scaling"
   ]
  },
  {
   "cell_type": "code",
   "execution_count": 78,
   "metadata": {},
   "outputs": [
    {
     "name": "stdout",
     "output_type": "stream",
     "text": [
      ">Train: 0=55814, 1=65403, Test: 0=11529, 1=1940\n",
      ">Train: 0=55943, 1=65274, Test: 0=11400, 1=2069\n",
      ">Train: 0=55894, 1=65323, Test: 0=11449, 1=2020\n",
      ">Train: 0=55775, 1=65442, Test: 0=11568, 1=1901\n",
      ">Train: 0=55895, 1=65322, Test: 0=11448, 1=2021\n",
      ">Train: 0=57394, 1=63823, Test: 0=9949, 1=3520\n",
      ">Train: 0=67343, 1=53875, Test: 0=0, 1=13468\n",
      ">Train: 0=67343, 1=53875, Test: 0=0, 1=13468\n",
      ">Train: 0=67343, 1=53875, Test: 0=0, 1=13468\n",
      ">Train: 0=67343, 1=53875, Test: 0=0, 1=13468\n"
     ]
    },
    {
     "data": {
      "text/plain": [
       "{'Mean Training Accuracy': 0.9617422886929811,\n",
       " 'Mean Training Precision': 0.9660983843539246,\n",
       " 'Mean Training Recall': 0.9565239075327854,\n",
       " 'Mean Training F1 Score': 0.9612829849813413,\n",
       " 'Mean Validation Accuracy': 0.9607158843869067,\n",
       " 'Mean Validation Precision': 0.9049335297993737,\n",
       " 'Mean Validation Recall': 0.9559463612766532,\n",
       " 'Mean Validation F1 Score': 0.9278856319953299}"
      ]
     },
     "execution_count": 78,
     "metadata": {},
     "output_type": "execute_result"
    }
   ],
   "source": [
    "KfoldCV(DecisionTreeClassifier(criterion = 'gini', max_depth=3, min_samples_leaf=32), pd.DataFrame(X_probe_ss), y_probe, 10, 2)"
   ]
  },
  {
   "cell_type": "markdown",
   "metadata": {},
   "source": [
    "#### Stratified cross validation on probe"
   ]
  },
  {
   "cell_type": "code",
   "execution_count": 79,
   "metadata": {},
   "outputs": [
    {
     "name": "stdout",
     "output_type": "stream",
     "text": [
      ">Train: 0=60608, 1=60609, Test: 0=6735, 1=6734\n",
      ">Train: 0=60608, 1=60609, Test: 0=6735, 1=6734\n",
      ">Train: 0=60608, 1=60609, Test: 0=6735, 1=6734\n",
      ">Train: 0=60609, 1=60608, Test: 0=6734, 1=6735\n",
      ">Train: 0=60609, 1=60608, Test: 0=6734, 1=6735\n",
      ">Train: 0=60609, 1=60608, Test: 0=6734, 1=6735\n",
      ">Train: 0=60609, 1=60609, Test: 0=6734, 1=6734\n",
      ">Train: 0=60609, 1=60609, Test: 0=6734, 1=6734\n",
      ">Train: 0=60609, 1=60609, Test: 0=6734, 1=6734\n",
      ">Train: 0=60609, 1=60609, Test: 0=6734, 1=6734\n"
     ]
    },
    {
     "data": {
      "text/plain": [
       "{'Mean Training Accuracy': 0.9711105829526024,\n",
       " 'Mean Training Precision': 0.9601706183212789,\n",
       " 'Mean Training Recall': 0.982997490308593,\n",
       " 'Mean Training F1 Score': 0.9714499617746135,\n",
       " 'Mean Validation Accuracy': 0.9710734378824066,\n",
       " 'Mean Validation Precision': 0.960131969257995,\n",
       " 'Mean Validation Recall': 0.982967780428805,\n",
       " 'Mean Validation F1 Score': 0.9714142601553715}"
      ]
     },
     "execution_count": 79,
     "metadata": {},
     "output_type": "execute_result"
    }
   ],
   "source": [
    "stratifiedCV(DecisionTreeClassifier(criterion = 'gini', max_depth=3, min_samples_leaf=32), pd.DataFrame(X_probe), y_probe, 10, 2)"
   ]
  },
  {
   "cell_type": "markdown",
   "metadata": {},
   "source": [
    "#### Stratified cross validation on probe Standard Scaling"
   ]
  },
  {
   "cell_type": "code",
   "execution_count": 80,
   "metadata": {},
   "outputs": [
    {
     "name": "stdout",
     "output_type": "stream",
     "text": [
      ">Train: 0=60608, 1=60609, Test: 0=6735, 1=6734\n",
      ">Train: 0=60608, 1=60609, Test: 0=6735, 1=6734\n",
      ">Train: 0=60608, 1=60609, Test: 0=6735, 1=6734\n",
      ">Train: 0=60609, 1=60608, Test: 0=6734, 1=6735\n",
      ">Train: 0=60609, 1=60608, Test: 0=6734, 1=6735\n",
      ">Train: 0=60609, 1=60608, Test: 0=6734, 1=6735\n",
      ">Train: 0=60609, 1=60609, Test: 0=6734, 1=6734\n",
      ">Train: 0=60609, 1=60609, Test: 0=6734, 1=6734\n",
      ">Train: 0=60609, 1=60609, Test: 0=6734, 1=6734\n",
      ">Train: 0=60609, 1=60609, Test: 0=6734, 1=6734\n"
     ]
    },
    {
     "data": {
      "text/plain": [
       "{'Mean Training Accuracy': 0.9614601531932699,\n",
       " 'Mean Training Precision': 0.9660905144072736,\n",
       " 'Mean Training Recall': 0.9564930465139534,\n",
       " 'Mean Training F1 Score': 0.961267717912467,\n",
       " 'Mean Validation Accuracy': 0.9612505946235249,\n",
       " 'Mean Validation Precision': 0.9658534225448493,\n",
       " 'Mean Validation Recall': 0.956313163551471,\n",
       " 'Mean Validation F1 Score': 0.9610583428983996}"
      ]
     },
     "execution_count": 80,
     "metadata": {},
     "output_type": "execute_result"
    }
   ],
   "source": [
    "stratifiedCV(DecisionTreeClassifier(criterion = 'gini', max_depth=3, min_samples_leaf=32), pd.DataFrame(X_probe_ss), y_probe, 10, 2)"
   ]
  },
  {
   "cell_type": "markdown",
   "metadata": {},
   "source": [
    "#### Predict on probe"
   ]
  },
  {
   "cell_type": "code",
   "execution_count": 81,
   "metadata": {},
   "outputs": [
    {
     "data": {
      "image/png": "[encoded data removed]",
      "text/plain": [
       "<Figure size 432x288 with 2 Axes>"
      ]
     },
     "metadata": {
      "needs_background": "light"
     },
     "output_type": "display_data"
    },
    {
     "name": "stdout",
     "output_type": "stream",
     "text": [
      "Accuracy: 0.90104 \n",
      "Precision: 0.94831 \n",
      "Recall: 0.84832 \n",
      "F-measure: 0.89553 \n"
     ]
    }
   ],
   "source": [
    "y_probe_rfe_prediction = DT(X_probe, y_probe).predict(X_probe_test)\n",
    "plotConfusionMatrix(y_probe_rfe_prediction, y_probe_test, 2)"
   ]
  },
  {
   "cell_type": "code",
   "execution_count": 82,
   "metadata": {},
   "outputs": [
    {
     "data": {
      "image/png": "[encoded data removed]",
      "text/plain": [
       "<Figure size 432x288 with 2 Axes>"
      ]
     },
     "metadata": {
      "needs_background": "light"
     },
     "output_type": "display_data"
    },
    {
     "name": "stdout",
     "output_type": "stream",
     "text": [
      "Accuracy: 0.70410 \n",
      "Precision: 0.62822 \n",
      "Recall: 1.00000 \n",
      "F-measure: 0.77166 \n"
     ]
    }
   ],
   "source": [
    "y_probe_rfe_prediction = DT(X_probe_ss, y_probe).predict(X_probe_test_ss)\n",
    "plotConfusionMatrix(y_probe_rfe_prediction, y_probe_test, 2)"
   ]
  },
  {
   "cell_type": "markdown",
   "metadata": {},
   "source": [
    "#### K-fold cross validation on r2l"
   ]
  },
  {
   "cell_type": "code",
   "execution_count": 83,
   "metadata": {},
   "outputs": [
    {
     "name": "stdout",
     "output_type": "stream",
     "text": [
      ">Train: 0=54080, 1=67137, Test: 0=13263, 1=206\n",
      ">Train: 0=54094, 1=67123, Test: 0=13249, 1=220\n",
      ">Train: 0=54054, 1=67163, Test: 0=13289, 1=180\n",
      ">Train: 0=54045, 1=67172, Test: 0=13298, 1=171\n",
      ">Train: 0=54082, 1=67135, Test: 0=13261, 1=208\n",
      ">Train: 0=66360, 1=54857, Test: 0=983, 1=12486\n",
      ">Train: 0=67343, 1=53875, Test: 0=0, 1=13468\n",
      ">Train: 0=67343, 1=53875, Test: 0=0, 1=13468\n",
      ">Train: 0=67343, 1=53875, Test: 0=0, 1=13468\n",
      ">Train: 0=67343, 1=53875, Test: 0=0, 1=13468\n"
     ]
    },
    {
     "data": {
      "text/plain": [
       "{'Mean Training Accuracy': 0.9237386641099194,\n",
       " 'Mean Training Precision': 0.8994383469781668,\n",
       " 'Mean Training Recall': 0.9543434056624053,\n",
       " 'Mean Training F1 Score': 0.9251173746053784,\n",
       " 'Mean Validation Accuracy': 0.8736554606478133,\n",
       " 'Mean Validation Precision': 0.5395134644404178,\n",
       " 'Mean Validation Recall': 0.9528960672358103,\n",
       " 'Mean Validation F1 Score': 0.5512930177697066}"
      ]
     },
     "execution_count": 83,
     "metadata": {},
     "output_type": "execute_result"
    }
   ],
   "source": [
    "KfoldCV(DecisionTreeClassifier(criterion = 'gini', max_depth=3, min_samples_leaf=32), pd.DataFrame(X_r2l), y_r2l, 10, 3)"
   ]
  },
  {
   "cell_type": "markdown",
   "metadata": {},
   "source": [
    "#### K-fold cross validation on r2l Standard Scaling"
   ]
  },
  {
   "cell_type": "code",
   "execution_count": 84,
   "metadata": {},
   "outputs": [
    {
     "name": "stdout",
     "output_type": "stream",
     "text": [
      ">Train: 0=54080, 1=67137, Test: 0=13263, 1=206\n",
      ">Train: 0=54094, 1=67123, Test: 0=13249, 1=220\n",
      ">Train: 0=54054, 1=67163, Test: 0=13289, 1=180\n",
      ">Train: 0=54045, 1=67172, Test: 0=13298, 1=171\n",
      ">Train: 0=54082, 1=67135, Test: 0=13261, 1=208\n",
      ">Train: 0=66360, 1=54857, Test: 0=983, 1=12486\n",
      ">Train: 0=67343, 1=53875, Test: 0=0, 1=13468\n",
      ">Train: 0=67343, 1=53875, Test: 0=0, 1=13468\n",
      ">Train: 0=67343, 1=53875, Test: 0=0, 1=13468\n",
      ">Train: 0=67343, 1=53875, Test: 0=0, 1=13468\n"
     ]
    },
    {
     "data": {
      "text/plain": [
       "{'Mean Training Accuracy': 0.9237386641099194,\n",
       " 'Mean Training Precision': 0.8994383469781668,\n",
       " 'Mean Training Recall': 0.9543434056624053,\n",
       " 'Mean Training F1 Score': 0.9251173746053784,\n",
       " 'Mean Validation Accuracy': 0.8736554606478133,\n",
       " 'Mean Validation Precision': 0.5395134644404178,\n",
       " 'Mean Validation Recall': 0.9528960672358103,\n",
       " 'Mean Validation F1 Score': 0.5512930177697066}"
      ]
     },
     "execution_count": 84,
     "metadata": {},
     "output_type": "execute_result"
    }
   ],
   "source": [
    "KfoldCV(DecisionTreeClassifier(criterion = 'gini', max_depth=3, min_samples_leaf=32), pd.DataFrame(X_r2l_ss), y_r2l, 10, 3)"
   ]
  },
  {
   "cell_type": "markdown",
   "metadata": {},
   "source": [
    "#### Stratified cross validation on r2l"
   ]
  },
  {
   "cell_type": "code",
   "execution_count": 85,
   "metadata": {},
   "outputs": [
    {
     "name": "stdout",
     "output_type": "stream",
     "text": [
      ">Train: 0=60608, 1=60609, Test: 0=6735, 1=6734\n",
      ">Train: 0=60608, 1=60609, Test: 0=6735, 1=6734\n",
      ">Train: 0=60608, 1=60609, Test: 0=6735, 1=6734\n",
      ">Train: 0=60609, 1=60608, Test: 0=6734, 1=6735\n",
      ">Train: 0=60609, 1=60608, Test: 0=6734, 1=6735\n",
      ">Train: 0=60609, 1=60608, Test: 0=6734, 1=6735\n",
      ">Train: 0=60609, 1=60609, Test: 0=6734, 1=6734\n",
      ">Train: 0=60609, 1=60609, Test: 0=6734, 1=6734\n",
      ">Train: 0=60609, 1=60609, Test: 0=6734, 1=6734\n",
      ">Train: 0=60609, 1=60609, Test: 0=6734, 1=6734\n"
     ]
    },
    {
     "data": {
      "text/plain": [
       "{'Mean Training Accuracy': 0.9235852281125263,\n",
       " 'Mean Training Precision': 0.932211195303821,\n",
       " 'Mean Training Recall': 0.9136064636477592,\n",
       " 'Mean Training F1 Score': 0.9228150146440838,\n",
       " 'Mean Validation Accuracy': 0.9235778235926724,\n",
       " 'Mean Validation Precision': 0.9322183229611406,\n",
       " 'Mean Validation Recall': 0.9135917125672137,\n",
       " 'Mean Validation F1 Score': 0.9228067011320797}"
      ]
     },
     "execution_count": 85,
     "metadata": {},
     "output_type": "execute_result"
    }
   ],
   "source": [
    "stratifiedCV(DecisionTreeClassifier(criterion = 'gini', max_depth=3, min_samples_leaf=32), pd.DataFrame(X_r2l), y_r2l, 10, 3)"
   ]
  },
  {
   "cell_type": "markdown",
   "metadata": {},
   "source": [
    "#### Stratified cross validation on r2l Standard Scaling"
   ]
  },
  {
   "cell_type": "code",
   "execution_count": 86,
   "metadata": {},
   "outputs": [
    {
     "name": "stdout",
     "output_type": "stream",
     "text": [
      ">Train: 0=60608, 1=60609, Test: 0=6735, 1=6734\n",
      ">Train: 0=60608, 1=60609, Test: 0=6735, 1=6734\n",
      ">Train: 0=60608, 1=60609, Test: 0=6735, 1=6734\n",
      ">Train: 0=60609, 1=60608, Test: 0=6734, 1=6735\n",
      ">Train: 0=60609, 1=60608, Test: 0=6734, 1=6735\n",
      ">Train: 0=60609, 1=60608, Test: 0=6734, 1=6735\n",
      ">Train: 0=60609, 1=60609, Test: 0=6734, 1=6734\n",
      ">Train: 0=60609, 1=60609, Test: 0=6734, 1=6734\n",
      ">Train: 0=60609, 1=60609, Test: 0=6734, 1=6734\n",
      ">Train: 0=60609, 1=60609, Test: 0=6734, 1=6734\n"
     ]
    },
    {
     "data": {
      "text/plain": [
       "{'Mean Training Accuracy': 0.9235852281125263,\n",
       " 'Mean Training Precision': 0.932211195303821,\n",
       " 'Mean Training Recall': 0.9136064636477592,\n",
       " 'Mean Training F1 Score': 0.9228150146440838,\n",
       " 'Mean Validation Accuracy': 0.9235778235926724,\n",
       " 'Mean Validation Precision': 0.9322183229611406,\n",
       " 'Mean Validation Recall': 0.9135917125672137,\n",
       " 'Mean Validation F1 Score': 0.9228067011320797}"
      ]
     },
     "execution_count": 86,
     "metadata": {},
     "output_type": "execute_result"
    }
   ],
   "source": [
    "stratifiedCV(DecisionTreeClassifier(criterion = 'gini', max_depth=3, min_samples_leaf=32), pd.DataFrame(X_r2l_ss), y_r2l, 10, 3)"
   ]
  },
  {
   "cell_type": "markdown",
   "metadata": {},
   "source": [
    "#### Predict on r2l"
   ]
  },
  {
   "cell_type": "code",
   "execution_count": 87,
   "metadata": {},
   "outputs": [
    {
     "data": {
      "image/png": "[encoded data removed]",
      "text/plain": [
       "<Figure size 432x288 with 2 Axes>"
      ]
     },
     "metadata": {
      "needs_background": "light"
     },
     "output_type": "display_data"
    },
    {
     "name": "stdout",
     "output_type": "stream",
     "text": [
      "Accuracy: 0.62666 \n",
      "Precision: 0.89832 \n",
      "Recall: 0.28566 \n",
      "F-measure: 0.43347 \n"
     ]
    }
   ],
   "source": [
    "y_r2l_rfe_prediction = DT(X_r2l, y_r2l).predict(X_r2l_test)\n",
    "plotConfusionMatrix(y_r2l_rfe_prediction, y_r2l_test, 3)"
   ]
  },
  {
   "cell_type": "code",
   "execution_count": 88,
   "metadata": {},
   "outputs": [
    {
     "data": {
      "image/png": "[encoded data removed]",
      "text/plain": [
       "<Figure size 432x288 with 2 Axes>"
      ]
     },
     "metadata": {
      "needs_background": "light"
     },
     "output_type": "display_data"
    },
    {
     "name": "stdout",
     "output_type": "stream",
     "text": [
      "Accuracy: 0.62666 \n",
      "Precision: 0.89832 \n",
      "Recall: 0.28566 \n",
      "F-measure: 0.43347 \n"
     ]
    }
   ],
   "source": [
    "y_probe_rfy_r2l_rfe_predictione_prediction = DT(X_r2l_ss, y_r2l).predict(X_r2l_test_ss)\n",
    "plotConfusionMatrix(y_r2l_rfe_prediction, y_r2l_test, 3)"
   ]
  },
  {
   "cell_type": "markdown",
   "metadata": {},
   "source": [
    "#### K-fold cross validation on u2r"
   ]
  },
  {
   "cell_type": "code",
   "execution_count": 89,
   "metadata": {
    "scrolled": true
   },
   "outputs": [
    {
     "name": "stdout",
     "output_type": "stream",
     "text": [
      ">Train: 0=53885, 1=67332, Test: 0=13458, 1=11\n",
      ">Train: 0=53886, 1=67331, Test: 0=13457, 1=12\n",
      ">Train: 0=53886, 1=67331, Test: 0=13457, 1=12\n",
      ">Train: 0=53882, 1=67335, Test: 0=13461, 1=8\n",
      ">Train: 0=53883, 1=67334, Test: 0=13460, 1=9\n",
      ">Train: 0=67293, 1=53924, Test: 0=50, 1=13419\n",
      ">Train: 0=67343, 1=53875, Test: 0=0, 1=13468\n",
      ">Train: 0=67343, 1=53875, Test: 0=0, 1=13468\n",
      ">Train: 0=67343, 1=53875, Test: 0=0, 1=13468\n",
      ">Train: 0=67343, 1=53875, Test: 0=0, 1=13468\n"
     ]
    },
    {
     "data": {
      "text/plain": [
       "{'Mean Training Accuracy': 0.9539034976124794,\n",
       " 'Mean Training Precision': 0.9178754828620856,\n",
       " 'Mean Training Recall': 0.9950099731364137,\n",
       " 'Mean Training F1 Score': 0.9548094691862625,\n",
       " 'Mean Validation Accuracy': 0.9539236773404118,\n",
       " 'Mean Validation Precision': 0.5042078346468309,\n",
       " 'Mean Validation Recall': 0.9759273489907292,\n",
       " 'Mean Validation F1 Score': 0.5071402239405481}"
      ]
     },
     "execution_count": 89,
     "metadata": {},
     "output_type": "execute_result"
    }
   ],
   "source": [
    "KfoldCV(DecisionTreeClassifier(criterion = 'gini', max_depth=3, min_samples_leaf=32), pd.DataFrame(X_u2r), y_u2r, 10, 4)"
   ]
  },
  {
   "cell_type": "markdown",
   "metadata": {},
   "source": [
    "#### K-fold cross validation on u2r Standard Scaling"
   ]
  },
  {
   "cell_type": "code",
   "execution_count": 90,
   "metadata": {},
   "outputs": [
    {
     "name": "stdout",
     "output_type": "stream",
     "text": [
      ">Train: 0=53885, 1=67332, Test: 0=13458, 1=11\n",
      ">Train: 0=53886, 1=67331, Test: 0=13457, 1=12\n",
      ">Train: 0=53886, 1=67331, Test: 0=13457, 1=12\n",
      ">Train: 0=53882, 1=67335, Test: 0=13461, 1=8\n",
      ">Train: 0=53883, 1=67334, Test: 0=13460, 1=9\n",
      ">Train: 0=67293, 1=53924, Test: 0=50, 1=13419\n",
      ">Train: 0=67343, 1=53875, Test: 0=0, 1=13468\n",
      ">Train: 0=67343, 1=53875, Test: 0=0, 1=13468\n",
      ">Train: 0=67343, 1=53875, Test: 0=0, 1=13468\n",
      ">Train: 0=67343, 1=53875, Test: 0=0, 1=13468\n"
     ]
    },
    {
     "data": {
      "text/plain": [
       "{'Mean Training Accuracy': 0.9539034976124794,\n",
       " 'Mean Training Precision': 0.9178754828620856,\n",
       " 'Mean Training Recall': 0.9950099731364137,\n",
       " 'Mean Training F1 Score': 0.9548094691862625,\n",
       " 'Mean Validation Accuracy': 0.9539162528842533,\n",
       " 'Mean Validation Precision': 0.5042072132766683,\n",
       " 'Mean Validation Recall': 0.9759273489907292,\n",
       " 'Mean Validation F1 Score': 0.5071389995806843}"
      ]
     },
     "execution_count": 90,
     "metadata": {},
     "output_type": "execute_result"
    }
   ],
   "source": [
    "KfoldCV(DecisionTreeClassifier(criterion = 'gini', max_depth=3, min_samples_leaf=32), pd.DataFrame(X_u2r_ss), y_u2r, 10, 4)"
   ]
  },
  {
   "cell_type": "markdown",
   "metadata": {},
   "source": [
    "#### Stratified cross validation on u2r"
   ]
  },
  {
   "cell_type": "code",
   "execution_count": 91,
   "metadata": {
    "scrolled": true
   },
   "outputs": [
    {
     "name": "stdout",
     "output_type": "stream",
     "text": [
      ">Train: 0=60608, 1=60609, Test: 0=6735, 1=6734\n",
      ">Train: 0=60608, 1=60609, Test: 0=6735, 1=6734\n",
      ">Train: 0=60608, 1=60609, Test: 0=6735, 1=6734\n",
      ">Train: 0=60609, 1=60608, Test: 0=6734, 1=6735\n",
      ">Train: 0=60609, 1=60608, Test: 0=6734, 1=6735\n",
      ">Train: 0=60609, 1=60608, Test: 0=6734, 1=6735\n",
      ">Train: 0=60609, 1=60609, Test: 0=6734, 1=6734\n",
      ">Train: 0=60609, 1=60609, Test: 0=6734, 1=6734\n",
      ">Train: 0=60609, 1=60609, Test: 0=6734, 1=6734\n",
      ">Train: 0=60609, 1=60609, Test: 0=6734, 1=6734\n"
     ]
    },
    {
     "data": {
      "text/plain": [
       "{'Mean Training Accuracy': 0.9539034823406096,\n",
       " 'Mean Training Precision': 0.9194212580514304,\n",
       " 'Mean Training Recall': 0.9950106172655537,\n",
       " 'Mean Training F1 Score': 0.9557236106825169,\n",
       " 'Mean Validation Accuracy': 0.9538778952154111,\n",
       " 'Mean Validation Precision': 0.9193924195123271,\n",
       " 'Mean Validation Recall': 0.9950106155005931,\n",
       " 'Mean Validation F1 Score': 0.9557043956718878}"
      ]
     },
     "execution_count": 91,
     "metadata": {},
     "output_type": "execute_result"
    }
   ],
   "source": [
    "stratifiedCV(DecisionTreeClassifier(criterion = 'gini', max_depth=3, min_samples_leaf=32), pd.DataFrame(X_u2r), y_u2r, 10, 4)"
   ]
  },
  {
   "cell_type": "markdown",
   "metadata": {},
   "source": [
    "#### Stratified cross validation on u2r Standard Scaling"
   ]
  },
  {
   "cell_type": "code",
   "execution_count": 92,
   "metadata": {},
   "outputs": [
    {
     "name": "stdout",
     "output_type": "stream",
     "text": [
      ">Train: 0=60608, 1=60609, Test: 0=6735, 1=6734\n",
      ">Train: 0=60608, 1=60609, Test: 0=6735, 1=6734\n",
      ">Train: 0=60608, 1=60609, Test: 0=6735, 1=6734\n",
      ">Train: 0=60609, 1=60608, Test: 0=6734, 1=6735\n",
      ">Train: 0=60609, 1=60608, Test: 0=6734, 1=6735\n",
      ">Train: 0=60609, 1=60608, Test: 0=6734, 1=6735\n",
      ">Train: 0=60609, 1=60609, Test: 0=6734, 1=6734\n",
      ">Train: 0=60609, 1=60609, Test: 0=6734, 1=6734\n",
      ">Train: 0=60609, 1=60609, Test: 0=6734, 1=6734\n",
      ">Train: 0=60609, 1=60609, Test: 0=6734, 1=6734\n"
     ]
    },
    {
     "data": {
      "text/plain": [
       "{'Mean Training Accuracy': 0.9539034823406096,\n",
       " 'Mean Training Precision': 0.9194212580514304,\n",
       " 'Mean Training Recall': 0.9950106172655537,\n",
       " 'Mean Training F1 Score': 0.9557236106825169,\n",
       " 'Mean Validation Accuracy': 0.9539001696864196,\n",
       " 'Mean Validation Precision': 0.9194301491269081,\n",
       " 'Mean Validation Recall': 0.9950106155005931,\n",
       " 'Mean Validation F1 Score': 0.9557248102065852}"
      ]
     },
     "execution_count": 92,
     "metadata": {},
     "output_type": "execute_result"
    }
   ],
   "source": [
    "stratifiedCV(DecisionTreeClassifier(criterion = 'gini', max_depth=3, min_samples_leaf=32), pd.DataFrame(X_u2r_ss), y_u2r, 10, 4)"
   ]
  },
  {
   "cell_type": "markdown",
   "metadata": {},
   "source": [
    "#### Predict on u2r"
   ]
  },
  {
   "cell_type": "code",
   "execution_count": 93,
   "metadata": {},
   "outputs": [
    {
     "data": {
      "image/png": "[encoded data removed]",
      "text/plain": [
       "<Figure size 432x288 with 2 Axes>"
      ]
     },
     "metadata": {
      "needs_background": "light"
     },
     "output_type": "display_data"
    },
    {
     "name": "stdout",
     "output_type": "stream",
     "text": [
      "Accuracy: 0.87267 \n",
      "Precision: 0.94350 \n",
      "Recall: 0.79281 \n",
      "F-measure: 0.86162 \n"
     ]
    }
   ],
   "source": [
    "y_u2r_rfe_prediction = DT(X_u2r, y_u2r).predict(X_u2r_test)\n",
    "plotConfusionMatrix(y_u2r_rfe_prediction, y_u2r_test, 4)"
   ]
  },
  {
   "cell_type": "code",
   "execution_count": 94,
   "metadata": {},
   "outputs": [
    {
     "data": {
      "image/png": "[encoded data removed]",
      "text/plain": [
       "<Figure size 432x288 with 2 Axes>"
      ]
     },
     "metadata": {
      "needs_background": "light"
     },
     "output_type": "display_data"
    },
    {
     "name": "stdout",
     "output_type": "stream",
     "text": [
      "Accuracy: 0.84389 \n",
      "Precision: 0.91407 \n",
      "Recall: 0.75914 \n",
      "F-measure: 0.82943 \n"
     ]
    }
   ],
   "source": [
    "y_u2r_rfe_prediction = DT(X_u2r_ss, y_u2r).predict(X_u2r_test_ss)\n",
    "plotConfusionMatrix(y_u2r_rfe_prediction, y_u2r_test, 4)"
   ]
  },
  {
   "cell_type": "markdown",
   "metadata": {},
   "source": [
    "## Feature selection"
   ]
  },
  {
   "cell_type": "code",
   "execution_count": 95,
   "metadata": {},
   "outputs": [],
   "source": [
    "X_dos_rfe, rfecolname_dos = recursiveFeatureExtraction(DecisionTreeClassifier(criterion = 'gini', max_depth=3, min_samples_leaf=32), X_dos, y_dos, 13)\n",
    "X_probe_rfe, rfecolname_probe = recursiveFeatureExtraction(DecisionTreeClassifier(criterion = 'gini', max_depth=3, min_samples_leaf=32), X_probe, y_probe, 13)\n",
    "X_r2l_rfe, rfecolname_r2l = recursiveFeatureExtraction(DecisionTreeClassifier(criterion = 'gini', max_depth=3, min_samples_leaf=32), X_r2l, y_r2l, 13)\n",
    "X_u2r_rfe, rfecolname_u2r = recursiveFeatureExtraction(DecisionTreeClassifier(criterion = 'gini', max_depth=3, min_samples_leaf=32), X_u2r, y_u2r, 13)\n",
    "\n",
    "X_dos_test_rfe=X_dos_test.values[:,rfecolname_dos]\n",
    "X_probe_test_rfe=X_probe_test.values[:,rfecolname_probe]\n",
    "X_r2l_test_rfe=X_r2l_test.values[:,rfecolname_r2l]\n",
    "X_u2r_test_rfe=X_u2r_test.values[:,rfecolname_u2r]"
   ]
  },
  {
   "cell_type": "code",
   "execution_count": 96,
   "metadata": {},
   "outputs": [],
   "source": [
    "X_dos_rfe_ss, rfecolname_dosSS = recursiveFeatureExtraction(DecisionTreeClassifier(criterion = 'gini', max_depth=3, min_samples_leaf=32), X_dos_ss, y_dos, 13)\n",
    "X_probe_rfe_ss, rfecolname_probeSS = recursiveFeatureExtraction(DecisionTreeClassifier(criterion = 'gini', max_depth=3, min_samples_leaf=32), X_probe_ss, y_probe, 13)\n",
    "X_r2l_rfe_ss, rfecolname_r2lSS = recursiveFeatureExtraction(DecisionTreeClassifier(criterion = 'gini', max_depth=3, min_samples_leaf=32), X_r2l_ss, y_r2l, 13)\n",
    "X_u2r_rfe_ss, rfecolname_u2rSS = recursiveFeatureExtraction(DecisionTreeClassifier(criterion = 'gini', max_depth=3, min_samples_leaf=32), X_u2r_ss, y_u2r, 13)\n",
    "\n",
    "X_dos_test_rfe_ss=X_dos_test_ss[:,rfecolname_dosSS]\n",
    "X_probe_test_rfe_ss=X_probe_test_ss[:,rfecolname_probeSS]\n",
    "X_r2l_test_rfe_ss=X_r2l_test_ss[:,rfecolname_r2lSS]\n",
    "X_u2r_test_rfe_ss=X_u2r_test_ss[:,rfecolname_u2rSS]"
   ]
  },
  {
   "cell_type": "markdown",
   "metadata": {},
   "source": [
    "#### K-fold cross validation on dos"
   ]
  },
  {
   "cell_type": "code",
   "execution_count": 97,
   "metadata": {},
   "outputs": [
    {
     "name": "stdout",
     "output_type": "stream",
     "text": [
      ">Train: 0=59387, 1=61830, Test: 0=7956, 1=5513\n",
      ">Train: 0=59336, 1=61881, Test: 0=8007, 1=5462\n",
      ">Train: 0=59437, 1=61780, Test: 0=7906, 1=5563\n",
      ">Train: 0=59306, 1=61911, Test: 0=8037, 1=5432\n",
      ">Train: 0=59299, 1=61918, Test: 0=8044, 1=5425\n",
      ">Train: 0=59294, 1=61923, Test: 0=8049, 1=5420\n",
      ">Train: 0=59294, 1=61924, Test: 0=8049, 1=5419\n",
      ">Train: 0=59327, 1=61891, Test: 0=8016, 1=5452\n",
      ">Train: 0=64064, 1=57154, Test: 0=3279, 1=10189\n",
      ">Train: 0=67343, 1=53875, Test: 0=0, 1=13468\n"
     ]
    },
    {
     "data": {
      "text/plain": [
       "{'Mean Training Accuracy': 0.9686695114054551,\n",
       " 'Mean Training Precision': 0.9991900598044186,\n",
       " 'Mean Training Recall': 0.9380870654133409,\n",
       " 'Mean Training F1 Score': 0.9676749341959049,\n",
       " 'Mean Validation Accuracy': 0.9686230658073407,\n",
       " 'Mean Validation Precision': 0.9990316349933902,\n",
       " 'Mean Validation Recall': 0.9376626378296203,\n",
       " 'Mean Validation F1 Score': 0.9673738749469569}"
      ]
     },
     "execution_count": 97,
     "metadata": {},
     "output_type": "execute_result"
    }
   ],
   "source": [
    "KfoldCV(DecisionTreeClassifier(criterion = 'gini', max_depth=3, min_samples_leaf=32), pd.DataFrame(X_dos_rfe), y_dos, 10, 1)"
   ]
  },
  {
   "cell_type": "markdown",
   "metadata": {},
   "source": [
    "#### K-fold cross validation on dos Standard Scaler"
   ]
  },
  {
   "cell_type": "code",
   "execution_count": 98,
   "metadata": {},
   "outputs": [
    {
     "name": "stdout",
     "output_type": "stream",
     "text": [
      ">Train: 0=59387, 1=61830, Test: 0=7956, 1=5513\n",
      ">Train: 0=59336, 1=61881, Test: 0=8007, 1=5462\n",
      ">Train: 0=59437, 1=61780, Test: 0=7906, 1=5563\n",
      ">Train: 0=59306, 1=61911, Test: 0=8037, 1=5432\n",
      ">Train: 0=59299, 1=61918, Test: 0=8044, 1=5425\n",
      ">Train: 0=59294, 1=61923, Test: 0=8049, 1=5420\n",
      ">Train: 0=59294, 1=61924, Test: 0=8049, 1=5419\n",
      ">Train: 0=59327, 1=61891, Test: 0=8016, 1=5452\n",
      ">Train: 0=64064, 1=57154, Test: 0=3279, 1=10189\n",
      ">Train: 0=67343, 1=53875, Test: 0=0, 1=13468\n"
     ]
    },
    {
     "data": {
      "text/plain": [
       "{'Mean Training Accuracy': 0.9686695114054551,\n",
       " 'Mean Training Precision': 0.9991900598044186,\n",
       " 'Mean Training Recall': 0.9380870654133409,\n",
       " 'Mean Training F1 Score': 0.9676749341959049,\n",
       " 'Mean Validation Accuracy': 0.9686230658073407,\n",
       " 'Mean Validation Precision': 0.9990316349933902,\n",
       " 'Mean Validation Recall': 0.9376626378296203,\n",
       " 'Mean Validation F1 Score': 0.9673738749469569}"
      ]
     },
     "execution_count": 98,
     "metadata": {},
     "output_type": "execute_result"
    }
   ],
   "source": [
    "KfoldCV(DecisionTreeClassifier(criterion = 'gini', max_depth=3, min_samples_leaf=32), pd.DataFrame(X_dos_rfe_ss), y_dos, 10, 1)"
   ]
  },
  {
   "cell_type": "markdown",
   "metadata": {},
   "source": [
    "#### Stratified cross validation on dos"
   ]
  },
  {
   "cell_type": "code",
   "execution_count": 99,
   "metadata": {},
   "outputs": [
    {
     "name": "stdout",
     "output_type": "stream",
     "text": [
      ">Train: 0=60608, 1=60609, Test: 0=6735, 1=6734\n",
      ">Train: 0=60608, 1=60609, Test: 0=6735, 1=6734\n",
      ">Train: 0=60608, 1=60609, Test: 0=6735, 1=6734\n",
      ">Train: 0=60609, 1=60608, Test: 0=6734, 1=6735\n",
      ">Train: 0=60609, 1=60608, Test: 0=6734, 1=6735\n",
      ">Train: 0=60609, 1=60608, Test: 0=6734, 1=6735\n",
      ">Train: 0=60609, 1=60609, Test: 0=6734, 1=6734\n",
      ">Train: 0=60609, 1=60609, Test: 0=6734, 1=6734\n",
      ">Train: 0=60609, 1=60609, Test: 0=6734, 1=6734\n",
      ">Train: 0=60609, 1=60609, Test: 0=6734, 1=6734\n"
     ]
    },
    {
     "data": {
      "text/plain": [
       "{'Mean Training Accuracy': 0.9686752893988968,\n",
       " 'Mean Training Precision': 0.9991933667269042,\n",
       " 'Mean Training Recall': 0.9381078957134017,\n",
       " 'Mean Training F1 Score': 0.967687568129086,\n",
       " 'Mean Validation Accuracy': 0.9686604560036145,\n",
       " 'Mean Validation Precision': 0.9991930993068261,\n",
       " 'Mean Validation Recall': 0.9380782206617397,\n",
       " 'Mean Validation F1 Score': 0.9676705409353497}"
      ]
     },
     "execution_count": 99,
     "metadata": {},
     "output_type": "execute_result"
    }
   ],
   "source": [
    "stratifiedCV(DecisionTreeClassifier(criterion = 'gini', max_depth=3, min_samples_leaf=32), pd.DataFrame(X_dos_rfe), y_dos, 10, 1)"
   ]
  },
  {
   "cell_type": "markdown",
   "metadata": {},
   "source": [
    "#### Stratified cross validation on dos Standard Scaler"
   ]
  },
  {
   "cell_type": "code",
   "execution_count": 100,
   "metadata": {},
   "outputs": [
    {
     "name": "stdout",
     "output_type": "stream",
     "text": [
      ">Train: 0=60608, 1=60609, Test: 0=6735, 1=6734\n",
      ">Train: 0=60608, 1=60609, Test: 0=6735, 1=6734\n",
      ">Train: 0=60608, 1=60609, Test: 0=6735, 1=6734\n",
      ">Train: 0=60609, 1=60608, Test: 0=6734, 1=6735\n",
      ">Train: 0=60609, 1=60608, Test: 0=6734, 1=6735\n",
      ">Train: 0=60609, 1=60608, Test: 0=6734, 1=6735\n",
      ">Train: 0=60609, 1=60609, Test: 0=6734, 1=6734\n",
      ">Train: 0=60609, 1=60609, Test: 0=6734, 1=6734\n",
      ">Train: 0=60609, 1=60609, Test: 0=6734, 1=6734\n",
      ">Train: 0=60609, 1=60609, Test: 0=6734, 1=6734\n"
     ]
    },
    {
     "data": {
      "text/plain": [
       "{'Mean Training Accuracy': 0.9686752893988968,\n",
       " 'Mean Training Precision': 0.9991933667269042,\n",
       " 'Mean Training Recall': 0.9381078957134017,\n",
       " 'Mean Training F1 Score': 0.967687568129086,\n",
       " 'Mean Validation Accuracy': 0.9686604560036145,\n",
       " 'Mean Validation Precision': 0.9991930993068261,\n",
       " 'Mean Validation Recall': 0.9380782206617397,\n",
       " 'Mean Validation F1 Score': 0.9676705409353497}"
      ]
     },
     "execution_count": 100,
     "metadata": {},
     "output_type": "execute_result"
    }
   ],
   "source": [
    "stratifiedCV(DecisionTreeClassifier(criterion = 'gini', max_depth=3, min_samples_leaf=32), pd.DataFrame(X_dos_rfe_ss), y_dos, 10, 1)"
   ]
  },
  {
   "cell_type": "markdown",
   "metadata": {},
   "source": [
    "#### Predict on dos"
   ]
  },
  {
   "cell_type": "code",
   "execution_count": 101,
   "metadata": {},
   "outputs": [
    {
     "data": {
      "image/png": "[encoded data removed]",
      "text/plain": [
       "<Figure size 432x288 with 2 Axes>"
      ]
     },
     "metadata": {
      "needs_background": "light"
     },
     "output_type": "display_data"
    },
    {
     "name": "stdout",
     "output_type": "stream",
     "text": [
      "Accuracy: 0.81845 \n",
      "Precision: 0.97149 \n",
      "Recall: 0.65616 \n",
      "F-measure: 0.78328 \n"
     ]
    }
   ],
   "source": [
    "y_dos_rfe_prediction = DT(X_dos_rfe, y_dos).predict(X_dos_test_rfe)\n",
    "plotConfusionMatrix(y_dos_rfe_prediction, y_dos_test, 1)"
   ]
  },
  {
   "cell_type": "code",
   "execution_count": 102,
   "metadata": {},
   "outputs": [
    {
     "data": {
      "image/png": "[encoded data removed]",
      "text/plain": [
       "<Figure size 432x288 with 2 Axes>"
      ]
     },
     "metadata": {
      "needs_background": "light"
     },
     "output_type": "display_data"
    },
    {
     "name": "stdout",
     "output_type": "stream",
     "text": [
      "Accuracy: 0.79822 \n",
      "Precision: 0.95925 \n",
      "Recall: 0.62290 \n",
      "F-measure: 0.75532 \n"
     ]
    }
   ],
   "source": [
    "y_dos_rfe_prediction = DT(X_dos_rfe_ss, y_dos).predict(X_dos_test_rfe_ss)\n",
    "plotConfusionMatrix(y_dos_rfe_prediction, y_dos_test, 1)"
   ]
  },
  {
   "cell_type": "markdown",
   "metadata": {},
   "source": [
    "#### K-fold cross validation on probe"
   ]
  },
  {
   "cell_type": "code",
   "execution_count": 103,
   "metadata": {},
   "outputs": [
    {
     "name": "stdout",
     "output_type": "stream",
     "text": [
      ">Train: 0=55814, 1=65403, Test: 0=11529, 1=1940\n",
      ">Train: 0=55943, 1=65274, Test: 0=11400, 1=2069\n",
      ">Train: 0=55894, 1=65323, Test: 0=11449, 1=2020\n",
      ">Train: 0=55775, 1=65442, Test: 0=11568, 1=1901\n",
      ">Train: 0=55895, 1=65322, Test: 0=11448, 1=2021\n",
      ">Train: 0=57394, 1=63823, Test: 0=9949, 1=3520\n",
      ">Train: 0=67343, 1=53875, Test: 0=0, 1=13468\n",
      ">Train: 0=67343, 1=53875, Test: 0=0, 1=13468\n",
      ">Train: 0=67343, 1=53875, Test: 0=0, 1=13468\n",
      ">Train: 0=67343, 1=53875, Test: 0=0, 1=13468\n"
     ]
    },
    {
     "data": {
      "text/plain": [
       "{'Mean Training Accuracy': 0.9714735726844428,\n",
       " 'Mean Training Precision': 0.9591289650346715,\n",
       " 'Mean Training Recall': 0.9841817495289232,\n",
       " 'Mean Training F1 Score': 0.9714827378742779,\n",
       " 'Mean Validation Accuracy': 0.9705169801854783,\n",
       " 'Mean Validation Precision': 0.8897481073421758,\n",
       " 'Mean Validation Recall': 0.9837830776111446,\n",
       " 'Mean Validation F1 Score': 0.9317316176012864}"
      ]
     },
     "execution_count": 103,
     "metadata": {},
     "output_type": "execute_result"
    }
   ],
   "source": [
    "KfoldCV(DecisionTreeClassifier(criterion = 'gini', max_depth=3, min_samples_leaf=32), pd.DataFrame(X_probe_rfe), y_probe, 10, 2)"
   ]
  },
  {
   "cell_type": "markdown",
   "metadata": {},
   "source": [
    "#### K-fold cross validation on probe Standard Scaler"
   ]
  },
  {
   "cell_type": "code",
   "execution_count": 104,
   "metadata": {},
   "outputs": [
    {
     "name": "stdout",
     "output_type": "stream",
     "text": [
      ">Train: 0=55814, 1=65403, Test: 0=11529, 1=1940\n",
      ">Train: 0=55943, 1=65274, Test: 0=11400, 1=2069\n",
      ">Train: 0=55894, 1=65323, Test: 0=11449, 1=2020\n",
      ">Train: 0=55775, 1=65442, Test: 0=11568, 1=1901\n",
      ">Train: 0=55895, 1=65322, Test: 0=11448, 1=2021\n",
      ">Train: 0=57394, 1=63823, Test: 0=9949, 1=3520\n",
      ">Train: 0=67343, 1=53875, Test: 0=0, 1=13468\n",
      ">Train: 0=67343, 1=53875, Test: 0=0, 1=13468\n",
      ">Train: 0=67343, 1=53875, Test: 0=0, 1=13468\n",
      ">Train: 0=67343, 1=53875, Test: 0=0, 1=13468\n"
     ]
    },
    {
     "data": {
      "text/plain": [
       "{'Mean Training Accuracy': 0.9617422886929811,\n",
       " 'Mean Training Precision': 0.9660983843539246,\n",
       " 'Mean Training Recall': 0.9565239075327854,\n",
       " 'Mean Training F1 Score': 0.9612829849813413,\n",
       " 'Mean Validation Accuracy': 0.9607158843869067,\n",
       " 'Mean Validation Precision': 0.9049335297993737,\n",
       " 'Mean Validation Recall': 0.9559463612766532,\n",
       " 'Mean Validation F1 Score': 0.9278856319953299}"
      ]
     },
     "execution_count": 104,
     "metadata": {},
     "output_type": "execute_result"
    }
   ],
   "source": [
    "KfoldCV(DecisionTreeClassifier(criterion = 'gini', max_depth=3, min_samples_leaf=32), pd.DataFrame(X_probe_rfe_ss), y_probe, 10, 2)"
   ]
  },
  {
   "cell_type": "markdown",
   "metadata": {},
   "source": [
    "#### Stratified cross validation on probe"
   ]
  },
  {
   "cell_type": "code",
   "execution_count": 105,
   "metadata": {},
   "outputs": [
    {
     "name": "stdout",
     "output_type": "stream",
     "text": [
      ">Train: 0=60608, 1=60609, Test: 0=6735, 1=6734\n",
      ">Train: 0=60608, 1=60609, Test: 0=6735, 1=6734\n",
      ">Train: 0=60608, 1=60609, Test: 0=6735, 1=6734\n",
      ">Train: 0=60609, 1=60608, Test: 0=6734, 1=6735\n",
      ">Train: 0=60609, 1=60608, Test: 0=6734, 1=6735\n",
      ">Train: 0=60609, 1=60608, Test: 0=6734, 1=6735\n",
      ">Train: 0=60609, 1=60609, Test: 0=6734, 1=6734\n",
      ">Train: 0=60609, 1=60609, Test: 0=6734, 1=6734\n",
      ">Train: 0=60609, 1=60609, Test: 0=6734, 1=6734\n",
      ">Train: 0=60609, 1=60609, Test: 0=6734, 1=6734\n"
     ]
    },
    {
     "data": {
      "text/plain": [
       "{'Mean Training Accuracy': 0.9711105829526024,\n",
       " 'Mean Training Precision': 0.9601706183212789,\n",
       " 'Mean Training Recall': 0.982997490308593,\n",
       " 'Mean Training F1 Score': 0.9714499617746135,\n",
       " 'Mean Validation Accuracy': 0.9710734378824066,\n",
       " 'Mean Validation Precision': 0.960131969257995,\n",
       " 'Mean Validation Recall': 0.982967780428805,\n",
       " 'Mean Validation F1 Score': 0.9714142601553715}"
      ]
     },
     "execution_count": 105,
     "metadata": {},
     "output_type": "execute_result"
    }
   ],
   "source": [
    "stratifiedCV(DecisionTreeClassifier(criterion = 'gini', max_depth=3, min_samples_leaf=32), pd.DataFrame(X_probe_rfe), y_probe, 10, 2)"
   ]
  },
  {
   "cell_type": "markdown",
   "metadata": {},
   "source": [
    "#### Stratified cross validation on probe Standard Scaler"
   ]
  },
  {
   "cell_type": "code",
   "execution_count": 106,
   "metadata": {},
   "outputs": [
    {
     "name": "stdout",
     "output_type": "stream",
     "text": [
      ">Train: 0=60608, 1=60609, Test: 0=6735, 1=6734\n",
      ">Train: 0=60608, 1=60609, Test: 0=6735, 1=6734\n",
      ">Train: 0=60608, 1=60609, Test: 0=6735, 1=6734\n",
      ">Train: 0=60609, 1=60608, Test: 0=6734, 1=6735\n",
      ">Train: 0=60609, 1=60608, Test: 0=6734, 1=6735\n",
      ">Train: 0=60609, 1=60608, Test: 0=6734, 1=6735\n",
      ">Train: 0=60609, 1=60609, Test: 0=6734, 1=6734\n",
      ">Train: 0=60609, 1=60609, Test: 0=6734, 1=6734\n",
      ">Train: 0=60609, 1=60609, Test: 0=6734, 1=6734\n",
      ">Train: 0=60609, 1=60609, Test: 0=6734, 1=6734\n"
     ]
    },
    {
     "data": {
      "text/plain": [
       "{'Mean Training Accuracy': 0.9614601531932699,\n",
       " 'Mean Training Precision': 0.9660905144072736,\n",
       " 'Mean Training Recall': 0.9564930465139534,\n",
       " 'Mean Training F1 Score': 0.961267717912467,\n",
       " 'Mean Validation Accuracy': 0.9612505946235249,\n",
       " 'Mean Validation Precision': 0.9658534225448493,\n",
       " 'Mean Validation Recall': 0.956313163551471,\n",
       " 'Mean Validation F1 Score': 0.9610583428983996}"
      ]
     },
     "execution_count": 106,
     "metadata": {},
     "output_type": "execute_result"
    }
   ],
   "source": [
    "stratifiedCV(DecisionTreeClassifier(criterion = 'gini', max_depth=3, min_samples_leaf=32), pd.DataFrame(X_probe_rfe_ss), y_probe, 10, 2)"
   ]
  },
  {
   "cell_type": "markdown",
   "metadata": {},
   "source": [
    "#### Predict on probe"
   ]
  },
  {
   "cell_type": "code",
   "execution_count": 107,
   "metadata": {},
   "outputs": [
    {
     "data": {
      "image/png": "[encoded data removed]",
      "text/plain": [
       "<Figure size 432x288 with 2 Axes>"
      ]
     },
     "metadata": {
      "needs_background": "light"
     },
     "output_type": "display_data"
    },
    {
     "name": "stdout",
     "output_type": "stream",
     "text": [
      "Accuracy: 0.90104 \n",
      "Precision: 0.94831 \n",
      "Recall: 0.84832 \n",
      "F-measure: 0.89553 \n"
     ]
    }
   ],
   "source": [
    "y_probe_rfe_prediction = DT(X_probe_rfe, y_probe).predict(X_probe_test_rfe)\n",
    "plotConfusionMatrix(y_probe_rfe_prediction, y_probe_test, 2)"
   ]
  },
  {
   "cell_type": "code",
   "execution_count": 108,
   "metadata": {},
   "outputs": [
    {
     "data": {
      "image/png": "[encoded data removed]",
      "text/plain": [
       "<Figure size 432x288 with 2 Axes>"
      ]
     },
     "metadata": {
      "needs_background": "light"
     },
     "output_type": "display_data"
    },
    {
     "name": "stdout",
     "output_type": "stream",
     "text": [
      "Accuracy: 0.90104 \n",
      "Precision: 0.94831 \n",
      "Recall: 0.84832 \n",
      "F-measure: 0.89553 \n"
     ]
    }
   ],
   "source": [
    "y_r2l_rfe_prediction = DT(X_probe_rfe_ss, y_probe).predict(X_probe_test_rfe_ss)\n",
    "plotConfusionMatrix(y_probe_rfe_prediction, y_probe_test, 2)"
   ]
  },
  {
   "cell_type": "markdown",
   "metadata": {},
   "source": [
    "#### K-fold cross validation on r2l"
   ]
  },
  {
   "cell_type": "code",
   "execution_count": 109,
   "metadata": {},
   "outputs": [
    {
     "name": "stdout",
     "output_type": "stream",
     "text": [
      ">Train: 0=54080, 1=67137, Test: 0=13263, 1=206\n",
      ">Train: 0=54094, 1=67123, Test: 0=13249, 1=220\n",
      ">Train: 0=54054, 1=67163, Test: 0=13289, 1=180\n",
      ">Train: 0=54045, 1=67172, Test: 0=13298, 1=171\n",
      ">Train: 0=54082, 1=67135, Test: 0=13261, 1=208\n",
      ">Train: 0=66360, 1=54857, Test: 0=983, 1=12486\n",
      ">Train: 0=67343, 1=53875, Test: 0=0, 1=13468\n",
      ">Train: 0=67343, 1=53875, Test: 0=0, 1=13468\n",
      ">Train: 0=67343, 1=53875, Test: 0=0, 1=13468\n",
      ">Train: 0=67343, 1=53875, Test: 0=0, 1=13468\n"
     ]
    },
    {
     "data": {
      "text/plain": [
       "{'Mean Training Accuracy': 0.9242575682240289,\n",
       " 'Mean Training Precision': 0.9318821638407775,\n",
       " 'Mean Training Recall': 0.9140625213417886,\n",
       " 'Mean Training F1 Score': 0.9228448473810472,\n",
       " 'Mean Validation Accuracy': 0.9235181082088797,\n",
       " 'Mean Validation Precision': 0.5840939050635139,\n",
       " 'Mean Validation Recall': 0.9154178610753096,\n",
       " 'Mean Validation F1 Score': 0.6199711991527946}"
      ]
     },
     "execution_count": 109,
     "metadata": {},
     "output_type": "execute_result"
    }
   ],
   "source": [
    "KfoldCV(DecisionTreeClassifier(criterion = 'gini', max_depth=3, min_samples_leaf=32), pd.DataFrame(X_r2l_rfe), y_r2l, 10, 3)"
   ]
  },
  {
   "cell_type": "markdown",
   "metadata": {},
   "source": [
    "#### K-fold cross validation on r2l Standard Scaler"
   ]
  },
  {
   "cell_type": "code",
   "execution_count": 110,
   "metadata": {},
   "outputs": [
    {
     "name": "stdout",
     "output_type": "stream",
     "text": [
      ">Train: 0=54080, 1=67137, Test: 0=13263, 1=206\n",
      ">Train: 0=54094, 1=67123, Test: 0=13249, 1=220\n",
      ">Train: 0=54054, 1=67163, Test: 0=13289, 1=180\n",
      ">Train: 0=54045, 1=67172, Test: 0=13298, 1=171\n",
      ">Train: 0=54082, 1=67135, Test: 0=13261, 1=208\n",
      ">Train: 0=66360, 1=54857, Test: 0=983, 1=12486\n",
      ">Train: 0=67343, 1=53875, Test: 0=0, 1=13468\n",
      ">Train: 0=67343, 1=53875, Test: 0=0, 1=13468\n",
      ">Train: 0=67343, 1=53875, Test: 0=0, 1=13468\n",
      ">Train: 0=67343, 1=53875, Test: 0=0, 1=13468\n"
     ]
    },
    {
     "data": {
      "text/plain": [
       "{'Mean Training Accuracy': 0.9242575682240289,\n",
       " 'Mean Training Precision': 0.9318821638407775,\n",
       " 'Mean Training Recall': 0.9140625213417886,\n",
       " 'Mean Training F1 Score': 0.9228448473810472,\n",
       " 'Mean Validation Accuracy': 0.9235181082088797,\n",
       " 'Mean Validation Precision': 0.5840939050635139,\n",
       " 'Mean Validation Recall': 0.9154178610753096,\n",
       " 'Mean Validation F1 Score': 0.6199711991527946}"
      ]
     },
     "execution_count": 110,
     "metadata": {},
     "output_type": "execute_result"
    }
   ],
   "source": [
    "KfoldCV(DecisionTreeClassifier(criterion = 'gini', max_depth=3, min_samples_leaf=32), pd.DataFrame(X_r2l_rfe_ss), y_r2l, 10, 3)"
   ]
  },
  {
   "cell_type": "markdown",
   "metadata": {},
   "source": [
    "#### Stratified cross validation on r2l"
   ]
  },
  {
   "cell_type": "code",
   "execution_count": 111,
   "metadata": {},
   "outputs": [
    {
     "name": "stdout",
     "output_type": "stream",
     "text": [
      ">Train: 0=60608, 1=60609, Test: 0=6735, 1=6734\n",
      ">Train: 0=60608, 1=60609, Test: 0=6735, 1=6734\n",
      ">Train: 0=60608, 1=60609, Test: 0=6735, 1=6734\n",
      ">Train: 0=60609, 1=60608, Test: 0=6734, 1=6735\n",
      ">Train: 0=60609, 1=60608, Test: 0=6734, 1=6735\n",
      ">Train: 0=60609, 1=60608, Test: 0=6734, 1=6735\n",
      ">Train: 0=60609, 1=60609, Test: 0=6734, 1=6734\n",
      ">Train: 0=60609, 1=60609, Test: 0=6734, 1=6734\n",
      ">Train: 0=60609, 1=60609, Test: 0=6734, 1=6734\n",
      ">Train: 0=60609, 1=60609, Test: 0=6734, 1=6734\n"
     ]
    },
    {
     "data": {
      "text/plain": [
       "{'Mean Training Accuracy': 0.9235852281125263,\n",
       " 'Mean Training Precision': 0.932211195303821,\n",
       " 'Mean Training Recall': 0.9136064636477592,\n",
       " 'Mean Training F1 Score': 0.9228150146440838,\n",
       " 'Mean Validation Accuracy': 0.9235778235926724,\n",
       " 'Mean Validation Precision': 0.9322183229611406,\n",
       " 'Mean Validation Recall': 0.9135917125672137,\n",
       " 'Mean Validation F1 Score': 0.9228067011320797}"
      ]
     },
     "execution_count": 111,
     "metadata": {},
     "output_type": "execute_result"
    }
   ],
   "source": [
    "stratifiedCV(DecisionTreeClassifier(criterion = 'gini', max_depth=3, min_samples_leaf=32), pd.DataFrame(X_r2l_rfe), y_r2l, 10, 3)"
   ]
  },
  {
   "cell_type": "markdown",
   "metadata": {},
   "source": [
    "#### Stratified cross validation on r2l Standard Scaler"
   ]
  },
  {
   "cell_type": "code",
   "execution_count": 112,
   "metadata": {},
   "outputs": [
    {
     "name": "stdout",
     "output_type": "stream",
     "text": [
      ">Train: 0=60608, 1=60609, Test: 0=6735, 1=6734\n",
      ">Train: 0=60608, 1=60609, Test: 0=6735, 1=6734\n",
      ">Train: 0=60608, 1=60609, Test: 0=6735, 1=6734\n",
      ">Train: 0=60609, 1=60608, Test: 0=6734, 1=6735\n",
      ">Train: 0=60609, 1=60608, Test: 0=6734, 1=6735\n",
      ">Train: 0=60609, 1=60608, Test: 0=6734, 1=6735\n",
      ">Train: 0=60609, 1=60609, Test: 0=6734, 1=6734\n",
      ">Train: 0=60609, 1=60609, Test: 0=6734, 1=6734\n",
      ">Train: 0=60609, 1=60609, Test: 0=6734, 1=6734\n",
      ">Train: 0=60609, 1=60609, Test: 0=6734, 1=6734\n"
     ]
    },
    {
     "data": {
      "text/plain": [
       "{'Mean Training Accuracy': 0.9235852281125263,\n",
       " 'Mean Training Precision': 0.932211195303821,\n",
       " 'Mean Training Recall': 0.9136064636477592,\n",
       " 'Mean Training F1 Score': 0.9228150146440838,\n",
       " 'Mean Validation Accuracy': 0.9235778235926724,\n",
       " 'Mean Validation Precision': 0.9322183229611406,\n",
       " 'Mean Validation Recall': 0.9135917125672137,\n",
       " 'Mean Validation F1 Score': 0.9228067011320797}"
      ]
     },
     "execution_count": 112,
     "metadata": {},
     "output_type": "execute_result"
    }
   ],
   "source": [
    "stratifiedCV(DecisionTreeClassifier(criterion = 'gini', max_depth=3, min_samples_leaf=32), pd.DataFrame(X_r2l_rfe_ss), y_r2l, 10, 3)"
   ]
  },
  {
   "cell_type": "markdown",
   "metadata": {},
   "source": [
    "#### Predict on r2l"
   ]
  },
  {
   "cell_type": "code",
   "execution_count": 113,
   "metadata": {},
   "outputs": [
    {
     "data": {
      "image/png": "[encoded data removed]",
      "text/plain": [
       "<Figure size 432x288 with 2 Axes>"
      ]
     },
     "metadata": {
      "needs_background": "light"
     },
     "output_type": "display_data"
    },
    {
     "name": "stdout",
     "output_type": "stream",
     "text": [
      "Accuracy: 0.62666 \n",
      "Precision: 0.89832 \n",
      "Recall: 0.28566 \n",
      "F-measure: 0.43347 \n"
     ]
    }
   ],
   "source": [
    "y_r2l_rfe_prediction = DT(X_r2l_rfe, y_r2l).predict(X_r2l_test_rfe)\n",
    "plotConfusionMatrix(y_r2l_rfe_prediction, y_r2l_test, 3)"
   ]
  },
  {
   "cell_type": "code",
   "execution_count": 114,
   "metadata": {},
   "outputs": [
    {
     "data": {
      "image/png": "[encoded data removed]",
      "text/plain": [
       "<Figure size 432x288 with 2 Axes>"
      ]
     },
     "metadata": {
      "needs_background": "light"
     },
     "output_type": "display_data"
    },
    {
     "name": "stdout",
     "output_type": "stream",
     "text": [
      "Accuracy: 0.67295 \n",
      "Precision: 0.85956 \n",
      "Recall: 0.41345 \n",
      "F-measure: 0.55834 \n"
     ]
    }
   ],
   "source": [
    "y_r2l_rfe_prediction = DT(X_r2l_rfe_ss, y_r2l).predict(X_r2l_test_rfe_ss)\n",
    "plotConfusionMatrix(y_r2l_rfe_prediction, y_r2l_test, 3)"
   ]
  },
  {
   "cell_type": "markdown",
   "metadata": {},
   "source": [
    "#### K-fold cross validation on u2r"
   ]
  },
  {
   "cell_type": "code",
   "execution_count": 115,
   "metadata": {},
   "outputs": [
    {
     "name": "stdout",
     "output_type": "stream",
     "text": [
      ">Train: 0=53885, 1=67332, Test: 0=13458, 1=11\n",
      ">Train: 0=53886, 1=67331, Test: 0=13457, 1=12\n",
      ">Train: 0=53886, 1=67331, Test: 0=13457, 1=12\n",
      ">Train: 0=53882, 1=67335, Test: 0=13461, 1=8\n",
      ">Train: 0=53883, 1=67334, Test: 0=13460, 1=9\n",
      ">Train: 0=67293, 1=53924, Test: 0=50, 1=13419\n",
      ">Train: 0=67343, 1=53875, Test: 0=0, 1=13468\n",
      ">Train: 0=67343, 1=53875, Test: 0=0, 1=13468\n",
      ">Train: 0=67343, 1=53875, Test: 0=0, 1=13468\n",
      ">Train: 0=67343, 1=53875, Test: 0=0, 1=13468\n"
     ]
    },
    {
     "data": {
      "text/plain": [
       "{'Mean Training Accuracy': 0.9539026726524898,\n",
       " 'Mean Training Precision': 0.9178739680332336,\n",
       " 'Mean Training Recall': 0.9950099731364137,\n",
       " 'Mean Training F1 Score': 0.9548086349038106,\n",
       " 'Mean Validation Accuracy': 0.9539162528842533,\n",
       " 'Mean Validation Precision': 0.5042072132766683,\n",
       " 'Mean Validation Recall': 0.9759273489907292,\n",
       " 'Mean Validation F1 Score': 0.5071389995806843}"
      ]
     },
     "execution_count": 115,
     "metadata": {},
     "output_type": "execute_result"
    }
   ],
   "source": [
    "KfoldCV(DecisionTreeClassifier(criterion = 'gini', max_depth=3, min_samples_leaf=32), pd.DataFrame(X_u2r_rfe), y_u2r, 10, 4)"
   ]
  },
  {
   "cell_type": "markdown",
   "metadata": {},
   "source": [
    "#### K-fold cross validation on u2r Standard Scaler"
   ]
  },
  {
   "cell_type": "code",
   "execution_count": 116,
   "metadata": {},
   "outputs": [
    {
     "name": "stdout",
     "output_type": "stream",
     "text": [
      ">Train: 0=53885, 1=67332, Test: 0=13458, 1=11\n",
      ">Train: 0=53886, 1=67331, Test: 0=13457, 1=12\n",
      ">Train: 0=53886, 1=67331, Test: 0=13457, 1=12\n",
      ">Train: 0=53882, 1=67335, Test: 0=13461, 1=8\n",
      ">Train: 0=53883, 1=67334, Test: 0=13460, 1=9\n",
      ">Train: 0=67293, 1=53924, Test: 0=50, 1=13419\n",
      ">Train: 0=67343, 1=53875, Test: 0=0, 1=13468\n",
      ">Train: 0=67343, 1=53875, Test: 0=0, 1=13468\n",
      ">Train: 0=67343, 1=53875, Test: 0=0, 1=13468\n",
      ">Train: 0=67343, 1=53875, Test: 0=0, 1=13468\n"
     ]
    },
    {
     "data": {
      "text/plain": [
       "{'Mean Training Accuracy': 0.9539026726524898,\n",
       " 'Mean Training Precision': 0.9178739680332336,\n",
       " 'Mean Training Recall': 0.9950099731364137,\n",
       " 'Mean Training F1 Score': 0.9548086349038106,\n",
       " 'Mean Validation Accuracy': 0.9539162528842533,\n",
       " 'Mean Validation Precision': 0.5042072132766683,\n",
       " 'Mean Validation Recall': 0.9759273489907292,\n",
       " 'Mean Validation F1 Score': 0.5071389995806843}"
      ]
     },
     "execution_count": 116,
     "metadata": {},
     "output_type": "execute_result"
    }
   ],
   "source": [
    "KfoldCV(DecisionTreeClassifier(criterion = 'gini', max_depth=3, min_samples_leaf=32), pd.DataFrame(X_u2r_rfe_ss), y_u2r, 10, 4)"
   ]
  },
  {
   "cell_type": "markdown",
   "metadata": {},
   "source": [
    "#### Stratified cross validation on u2r"
   ]
  },
  {
   "cell_type": "code",
   "execution_count": 117,
   "metadata": {},
   "outputs": [
    {
     "name": "stdout",
     "output_type": "stream",
     "text": [
      ">Train: 0=60608, 1=60609, Test: 0=6735, 1=6734\n",
      ">Train: 0=60608, 1=60609, Test: 0=6735, 1=6734\n",
      ">Train: 0=60608, 1=60609, Test: 0=6735, 1=6734\n",
      ">Train: 0=60609, 1=60608, Test: 0=6734, 1=6735\n",
      ">Train: 0=60609, 1=60608, Test: 0=6734, 1=6735\n",
      ">Train: 0=60609, 1=60608, Test: 0=6734, 1=6735\n",
      ">Train: 0=60609, 1=60609, Test: 0=6734, 1=6734\n",
      ">Train: 0=60609, 1=60609, Test: 0=6734, 1=6734\n",
      ">Train: 0=60609, 1=60609, Test: 0=6734, 1=6734\n",
      ">Train: 0=60609, 1=60609, Test: 0=6734, 1=6734\n"
     ]
    },
    {
     "data": {
      "text/plain": [
       "{'Mean Training Accuracy': 0.9539034823406096,\n",
       " 'Mean Training Precision': 0.9194212580514304,\n",
       " 'Mean Training Recall': 0.9950106172655537,\n",
       " 'Mean Training F1 Score': 0.9557236106825169,\n",
       " 'Mean Validation Accuracy': 0.9538927446789947,\n",
       " 'Mean Validation Precision': 0.9194175547352298,\n",
       " 'Mean Validation Recall': 0.9950106155005931,\n",
       " 'Mean Validation F1 Score': 0.9557180013839238}"
      ]
     },
     "execution_count": 117,
     "metadata": {},
     "output_type": "execute_result"
    }
   ],
   "source": [
    "stratifiedCV(DecisionTreeClassifier(criterion = 'gini', max_depth=3, min_samples_leaf=32), pd.DataFrame(X_u2r_rfe), y_u2r, 10, 4)"
   ]
  },
  {
   "cell_type": "markdown",
   "metadata": {},
   "source": [
    "#### Stratified cross validation on u2r Standard Scaler"
   ]
  },
  {
   "cell_type": "code",
   "execution_count": 118,
   "metadata": {},
   "outputs": [
    {
     "name": "stdout",
     "output_type": "stream",
     "text": [
      ">Train: 0=60608, 1=60609, Test: 0=6735, 1=6734\n",
      ">Train: 0=60608, 1=60609, Test: 0=6735, 1=6734\n",
      ">Train: 0=60608, 1=60609, Test: 0=6735, 1=6734\n",
      ">Train: 0=60609, 1=60608, Test: 0=6734, 1=6735\n",
      ">Train: 0=60609, 1=60608, Test: 0=6734, 1=6735\n",
      ">Train: 0=60609, 1=60608, Test: 0=6734, 1=6735\n",
      ">Train: 0=60609, 1=60609, Test: 0=6734, 1=6734\n",
      ">Train: 0=60609, 1=60609, Test: 0=6734, 1=6734\n",
      ">Train: 0=60609, 1=60609, Test: 0=6734, 1=6734\n",
      ">Train: 0=60609, 1=60609, Test: 0=6734, 1=6734\n"
     ]
    },
    {
     "data": {
      "text/plain": [
       "{'Mean Training Accuracy': 0.9539034823406096,\n",
       " 'Mean Training Precision': 0.9194212580514304,\n",
       " 'Mean Training Recall': 0.9950106172655537,\n",
       " 'Mean Training F1 Score': 0.9557236106825169,\n",
       " 'Mean Validation Accuracy': 0.9539001696864196,\n",
       " 'Mean Validation Precision': 0.9194301110308203,\n",
       " 'Mean Validation Recall': 0.9950106155005931,\n",
       " 'Mean Validation F1 Score': 0.9557247974865307}"
      ]
     },
     "execution_count": 118,
     "metadata": {},
     "output_type": "execute_result"
    }
   ],
   "source": [
    "stratifiedCV(DecisionTreeClassifier(criterion = 'gini', max_depth=3, min_samples_leaf=32), pd.DataFrame(X_u2r_rfe_ss), y_u2r, 10, 4)"
   ]
  },
  {
   "cell_type": "markdown",
   "metadata": {},
   "source": [
    "#### Predict on u2r"
   ]
  },
  {
   "cell_type": "code",
   "execution_count": 119,
   "metadata": {},
   "outputs": [
    {
     "data": {
      "image/png": "[encoded data removed]",
      "text/plain": [
       "<Figure size 432x288 with 2 Axes>"
      ]
     },
     "metadata": {
      "needs_background": "light"
     },
     "output_type": "display_data"
    },
    {
     "name": "stdout",
     "output_type": "stream",
     "text": [
      "Accuracy: 0.87478 \n",
      "Precision: 0.94368 \n",
      "Recall: 0.79714 \n",
      "F-measure: 0.86424 \n"
     ]
    }
   ],
   "source": [
    "y_u2r_rfe_prediction = DT(X_u2r_rfe, y_u2r).predict(X_u2r_test_rfe)\n",
    "plotConfusionMatrix(y_u2r_rfe_prediction, y_u2r_test, 4)"
   ]
  },
  {
   "cell_type": "code",
   "execution_count": 120,
   "metadata": {},
   "outputs": [
    {
     "data": {
      "image/png": "[encoded data removed]",
      "text/plain": [
       "<Figure size 432x288 with 2 Axes>"
      ]
     },
     "metadata": {
      "needs_background": "light"
     },
     "output_type": "display_data"
    },
    {
     "name": "stdout",
     "output_type": "stream",
     "text": [
      "Accuracy: 0.84327 \n",
      "Precision: 0.91487 \n",
      "Recall: 0.75698 \n",
      "F-measure: 0.82847 \n"
     ]
    }
   ],
   "source": [
    "y_u2r_rfe_prediction = DT(X_u2r_rfe_ss, y_u2r).predict(X_u2r_test_rfe_ss)\n",
    "plotConfusionMatrix(y_u2r_rfe_prediction, y_u2r_test, 4)"
   ]
  },
  {
   "cell_type": "markdown",
   "metadata": {},
   "source": [
    "# Full DF, no Oversampling"
   ]
  },
  {
   "cell_type": "code",
   "execution_count": 121,
   "metadata": {},
   "outputs": [
    {
     "data": {
      "text/plain": [
       "<module 'matplotlib.pyplot' from 'C:\\\\Users\\\\Daniele\\\\anaconda3\\\\lib\\\\site-packages\\\\matplotlib\\\\pyplot.py'>"
      ]
     },
     "execution_count": 121,
     "metadata": {},
     "output_type": "execute_result"
    },
    {
     "data": {
      "image/png": "[encoded data removed]",
      "text/plain": [
       "<Figure size 720x360 with 1 Axes>"
      ]
     },
     "metadata": {
      "needs_background": "light"
     },
     "output_type": "display_data"
    }
   ],
   "source": [
    "fullDf = getFullDf()\n",
    "fullDf_test = getFullDfTest()\n",
    "\n",
    "\n",
    "fullDf=oneHotEcoding(fullDf, 'protocol_type')\n",
    "fullDf=oneHotEcoding(fullDf, 'service')\n",
    "fullDf=oneHotEcoding(fullDf, 'flag')\n",
    "fullDf_test=oneHotEcoding(fullDf_test, 'protocol_type')\n",
    "fullDf_test=oneHotEcoding(fullDf_test, 'service')\n",
    "fullDf_test=oneHotEcoding(fullDf_test, 'flag')\n",
    "\n",
    "fullDf_test=adaptTestset(fullDf, fullDf_test)\n",
    "\n",
    "fullDf['label'], fullDf_test['label'] = prepareMulticlass()\n",
    "\n",
    "plotDf(fullDf['label'])"
   ]
  },
  {
   "cell_type": "code",
   "execution_count": 122,
   "metadata": {},
   "outputs": [],
   "source": [
    "#Preparo i dataframe per ogni classe di attacco\n",
    "dos, probe, r2l, u2r = createMulticlassDF(fullDf)\n",
    "dos_test, probe_test, r2l_test, u2r_test = createMulticlassDF(fullDf_test)\n",
    "\n",
    "X_dos, y_dos = getXandY(dos)\n",
    "X_probe, y_probe = getXandY(probe)\n",
    "X_r2l, y_r2l = getXandY(r2l)\n",
    "X_u2r, y_u2r = getXandY(u2r)\n",
    "\n",
    "X_dos_test, y_dos_test = getXandY(dos_test)\n",
    "X_probe_test, y_probe_test = getXandY(probe_test)\n",
    "X_r2l_test, y_r2l_test = getXandY(r2l_test)\n",
    "X_u2r_test, y_u2r_test = getXandY(u2r_test)\n"
   ]
  },
  {
   "cell_type": "code",
   "execution_count": 123,
   "metadata": {},
   "outputs": [],
   "source": [
    "#Effettuo standard scaler\n",
    "X_dos_ss=standardScaler(X_dos)\n",
    "X_probe_ss=standardScaler(X_probe)\n",
    "X_r2l_ss=standardScaler(X_r2l)\n",
    "X_u2r_ss=standardScaler(X_u2r)\n",
    "\n",
    "X_dos_test_ss=standardScaler(X_dos_test)\n",
    "X_probe_test_ss=standardScaler(X_probe_test)\n",
    "X_r2l_test_ss=standardScaler(X_r2l_test)\n",
    "X_u2r_test_ss=standardScaler(X_u2r_test)"
   ]
  },
  {
   "cell_type": "markdown",
   "metadata": {},
   "source": [
    "#### K-fold cross validation on dos"
   ]
  },
  {
   "cell_type": "code",
   "execution_count": 124,
   "metadata": {
    "scrolled": false
   },
   "outputs": [
    {
     "name": "stdout",
     "output_type": "stream",
     "text": [
      ">Train: 0=60666, 1=41277, Test: 0=6677, 1=4650\n",
      ">Train: 0=60586, 1=41357, Test: 0=6757, 1=4570\n",
      ">Train: 0=60612, 1=41331, Test: 0=6731, 1=4596\n",
      ">Train: 0=60720, 1=41223, Test: 0=6623, 1=4704\n",
      ">Train: 0=60634, 1=41309, Test: 0=6709, 1=4618\n",
      ">Train: 0=60525, 1=41418, Test: 0=6818, 1=4509\n",
      ">Train: 0=60548, 1=41395, Test: 0=6795, 1=4532\n",
      ">Train: 0=60557, 1=41386, Test: 0=6786, 1=4541\n",
      ">Train: 0=60662, 1=41281, Test: 0=6681, 1=4646\n",
      ">Train: 0=60577, 1=41366, Test: 0=6766, 1=4561\n"
     ]
    },
    {
     "data": {
      "text/plain": [
       "{'Mean Training Accuracy': 0.9823607309967335,\n",
       " 'Mean Training Precision': 0.996675911372568,\n",
       " 'Mean Training Recall': 0.9596971482550835,\n",
       " 'Mean Training F1 Score': 0.9778370299032284,\n",
       " 'Mean Validation Accuracy': 0.9823607309967335,\n",
       " 'Mean Validation Precision': 0.9966738112543686,\n",
       " 'Mean Validation Recall': 0.9597160427319833,\n",
       " 'Mean Validation F1 Score': 0.9778442966678688}"
      ]
     },
     "execution_count": 124,
     "metadata": {},
     "output_type": "execute_result"
    }
   ],
   "source": [
    "KfoldCV(DecisionTreeClassifier(criterion = 'gini', max_depth=3, min_samples_leaf=32), pd.DataFrame(X_dos), y_dos, 10, 1)"
   ]
  },
  {
   "cell_type": "markdown",
   "metadata": {},
   "source": [
    "#### K-fold cross validation on dos Standard Scaling"
   ]
  },
  {
   "cell_type": "code",
   "execution_count": 125,
   "metadata": {},
   "outputs": [
    {
     "name": "stdout",
     "output_type": "stream",
     "text": [
      ">Train: 0=60666, 1=41277, Test: 0=6677, 1=4650\n",
      ">Train: 0=60586, 1=41357, Test: 0=6757, 1=4570\n",
      ">Train: 0=60612, 1=41331, Test: 0=6731, 1=4596\n",
      ">Train: 0=60720, 1=41223, Test: 0=6623, 1=4704\n",
      ">Train: 0=60634, 1=41309, Test: 0=6709, 1=4618\n",
      ">Train: 0=60525, 1=41418, Test: 0=6818, 1=4509\n",
      ">Train: 0=60548, 1=41395, Test: 0=6795, 1=4532\n",
      ">Train: 0=60557, 1=41386, Test: 0=6786, 1=4541\n",
      ">Train: 0=60662, 1=41281, Test: 0=6681, 1=4646\n",
      ">Train: 0=60577, 1=41366, Test: 0=6766, 1=4561\n"
     ]
    },
    {
     "data": {
      "text/plain": [
       "{'Mean Training Accuracy': 0.9823607309967335,\n",
       " 'Mean Training Precision': 0.996675911372568,\n",
       " 'Mean Training Recall': 0.9596971482550835,\n",
       " 'Mean Training F1 Score': 0.9778370299032284,\n",
       " 'Mean Validation Accuracy': 0.9823607309967335,\n",
       " 'Mean Validation Precision': 0.9966738112543686,\n",
       " 'Mean Validation Recall': 0.9597160427319833,\n",
       " 'Mean Validation F1 Score': 0.9778442966678688}"
      ]
     },
     "execution_count": 125,
     "metadata": {},
     "output_type": "execute_result"
    }
   ],
   "source": [
    "KfoldCV(DecisionTreeClassifier(criterion = 'gini', max_depth=3, min_samples_leaf=32), pd.DataFrame(X_dos_ss), y_dos, 10, 1)"
   ]
  },
  {
   "cell_type": "markdown",
   "metadata": {},
   "source": [
    "#### Stratified cross validation on dos"
   ]
  },
  {
   "cell_type": "code",
   "execution_count": 126,
   "metadata": {},
   "outputs": [
    {
     "name": "stdout",
     "output_type": "stream",
     "text": [
      ">Train: 0=60608, 1=41335, Test: 0=6735, 1=4592\n",
      ">Train: 0=60608, 1=41335, Test: 0=6735, 1=4592\n",
      ">Train: 0=60608, 1=41335, Test: 0=6735, 1=4592\n",
      ">Train: 0=60609, 1=41334, Test: 0=6734, 1=4593\n",
      ">Train: 0=60609, 1=41334, Test: 0=6734, 1=4593\n",
      ">Train: 0=60609, 1=41334, Test: 0=6734, 1=4593\n",
      ">Train: 0=60609, 1=41334, Test: 0=6734, 1=4593\n",
      ">Train: 0=60609, 1=41334, Test: 0=6734, 1=4593\n",
      ">Train: 0=60609, 1=41334, Test: 0=6734, 1=4593\n",
      ">Train: 0=60609, 1=41334, Test: 0=6734, 1=4593\n"
     ]
    },
    {
     "data": {
      "text/plain": [
       "{'Mean Training Accuracy': 0.9823607309967336,\n",
       " 'Mean Training Precision': 0.9966759399124389,\n",
       " 'Mean Training Recall': 0.9596969103853287,\n",
       " 'Mean Training F1 Score': 0.9778369235635491,\n",
       " 'Mean Validation Accuracy': 0.9823607309967335,\n",
       " 'Mean Validation Precision': 0.99667610184291,\n",
       " 'Mean Validation Recall': 0.9596969160766535,\n",
       " 'Mean Validation F1 Score': 0.9778357330189683}"
      ]
     },
     "execution_count": 126,
     "metadata": {},
     "output_type": "execute_result"
    }
   ],
   "source": [
    "stratifiedCV(DecisionTreeClassifier(criterion = 'gini', max_depth=3, min_samples_leaf=32), pd.DataFrame(X_dos), y_dos, 10, 1)"
   ]
  },
  {
   "cell_type": "markdown",
   "metadata": {},
   "source": [
    "#### Stratified cross validation on dos Standard Scaling"
   ]
  },
  {
   "cell_type": "code",
   "execution_count": 127,
   "metadata": {},
   "outputs": [
    {
     "name": "stdout",
     "output_type": "stream",
     "text": [
      ">Train: 0=60608, 1=41335, Test: 0=6735, 1=4592\n",
      ">Train: 0=60608, 1=41335, Test: 0=6735, 1=4592\n",
      ">Train: 0=60608, 1=41335, Test: 0=6735, 1=4592\n",
      ">Train: 0=60609, 1=41334, Test: 0=6734, 1=4593\n",
      ">Train: 0=60609, 1=41334, Test: 0=6734, 1=4593\n",
      ">Train: 0=60609, 1=41334, Test: 0=6734, 1=4593\n",
      ">Train: 0=60609, 1=41334, Test: 0=6734, 1=4593\n",
      ">Train: 0=60609, 1=41334, Test: 0=6734, 1=4593\n",
      ">Train: 0=60609, 1=41334, Test: 0=6734, 1=4593\n",
      ">Train: 0=60609, 1=41334, Test: 0=6734, 1=4593\n"
     ]
    },
    {
     "data": {
      "text/plain": [
       "{'Mean Training Accuracy': 0.9823607309967336,\n",
       " 'Mean Training Precision': 0.9966759399124389,\n",
       " 'Mean Training Recall': 0.9596969103853287,\n",
       " 'Mean Training F1 Score': 0.9778369235635491,\n",
       " 'Mean Validation Accuracy': 0.9823607309967335,\n",
       " 'Mean Validation Precision': 0.99667610184291,\n",
       " 'Mean Validation Recall': 0.9596969160766535,\n",
       " 'Mean Validation F1 Score': 0.9778357330189683}"
      ]
     },
     "execution_count": 127,
     "metadata": {},
     "output_type": "execute_result"
    }
   ],
   "source": [
    "stratifiedCV(DecisionTreeClassifier(criterion = 'gini', max_depth=3, min_samples_leaf=32), pd.DataFrame(X_dos_ss), y_dos, 10, 1)"
   ]
  },
  {
   "cell_type": "markdown",
   "metadata": {},
   "source": [
    "#### Predict on dos"
   ]
  },
  {
   "cell_type": "code",
   "execution_count": 128,
   "metadata": {
    "scrolled": true
   },
   "outputs": [
    {
     "data": {
      "image/png": "[encoded data removed]",
      "text/plain": [
       "<Figure size 432x288 with 2 Axes>"
      ]
     },
     "metadata": {
      "needs_background": "light"
     },
     "output_type": "display_data"
    },
    {
     "name": "stdout",
     "output_type": "stream",
     "text": [
      "Accuracy: 0.86471 \n",
      "Precision: 0.96862 \n",
      "Recall: 0.71166 \n",
      "F-measure: 0.82049 \n"
     ]
    }
   ],
   "source": [
    "y_dos_prediction = DT(X_dos, y_dos).predict(X_dos_test)\n",
    "plotConfusionMatrix(y_dos_prediction, y_dos_test, 1)"
   ]
  },
  {
   "cell_type": "code",
   "execution_count": 129,
   "metadata": {
    "scrolled": false
   },
   "outputs": [
    {
     "data": {
      "image/png": "[encoded data removed]",
      "text/plain": [
       "<Figure size 432x288 with 2 Axes>"
      ]
     },
     "metadata": {
      "needs_background": "light"
     },
     "output_type": "display_data"
    },
    {
     "name": "stdout",
     "output_type": "stream",
     "text": [
      "Accuracy: 0.83321 \n",
      "Precision: 0.95165 \n",
      "Recall: 0.64906 \n",
      "F-measure: 0.77176 \n"
     ]
    }
   ],
   "source": [
    "y_dos_prediction = DT(X_dos_ss, y_dos).predict(X_dos_test_ss)\n",
    "plotConfusionMatrix(y_dos_prediction, y_dos_test, 1)"
   ]
  },
  {
   "cell_type": "markdown",
   "metadata": {},
   "source": [
    "#### K-fold cross validation on probe"
   ]
  },
  {
   "cell_type": "code",
   "execution_count": 130,
   "metadata": {},
   "outputs": [
    {
     "name": "stdout",
     "output_type": "stream",
     "text": [
      ">Train: 0=60593, 1=10506, Test: 0=6750, 1=1150\n",
      ">Train: 0=60590, 1=10509, Test: 0=6753, 1=1147\n",
      ">Train: 0=60636, 1=10463, Test: 0=6707, 1=1193\n",
      ">Train: 0=60669, 1=10430, Test: 0=6674, 1=1226\n",
      ">Train: 0=60629, 1=10470, Test: 0=6714, 1=1186\n",
      ">Train: 0=60576, 1=10523, Test: 0=6767, 1=1133\n",
      ">Train: 0=60547, 1=10552, Test: 0=6796, 1=1104\n",
      ">Train: 0=60628, 1=10471, Test: 0=6715, 1=1185\n",
      ">Train: 0=60592, 1=10507, Test: 0=6751, 1=1149\n",
      ">Train: 0=60627, 1=10473, Test: 0=6716, 1=1183\n"
     ]
    },
    {
     "data": {
      "text/plain": [
       "{'Mean Training Accuracy': 0.9867072861242248,\n",
       " 'Mean Training Precision': 0.9343936479283498,\n",
       " 'Mean Training Recall': 0.9786184984087882,\n",
       " 'Mean Training F1 Score': 0.9559946471125894,\n",
       " 'Mean Validation Accuracy': 0.9866707210174017,\n",
       " 'Mean Validation Precision': 0.9342926143511028,\n",
       " 'Mean Validation Recall': 0.9783814858526055,\n",
       " 'Mean Validation F1 Score': 0.9558115209267625}"
      ]
     },
     "execution_count": 130,
     "metadata": {},
     "output_type": "execute_result"
    }
   ],
   "source": [
    "KfoldCV(DecisionTreeClassifier(criterion = 'gini', max_depth=3, min_samples_leaf=32), pd.DataFrame(X_probe), y_probe, 10, 2)"
   ]
  },
  {
   "cell_type": "markdown",
   "metadata": {},
   "source": [
    "#### K-fold cross validation on probe Standard Scaling"
   ]
  },
  {
   "cell_type": "code",
   "execution_count": 131,
   "metadata": {},
   "outputs": [
    {
     "name": "stdout",
     "output_type": "stream",
     "text": [
      ">Train: 0=60593, 1=10506, Test: 0=6750, 1=1150\n",
      ">Train: 0=60590, 1=10509, Test: 0=6753, 1=1147\n",
      ">Train: 0=60636, 1=10463, Test: 0=6707, 1=1193\n",
      ">Train: 0=60669, 1=10430, Test: 0=6674, 1=1226\n",
      ">Train: 0=60629, 1=10470, Test: 0=6714, 1=1186\n",
      ">Train: 0=60576, 1=10523, Test: 0=6767, 1=1133\n",
      ">Train: 0=60547, 1=10552, Test: 0=6796, 1=1104\n",
      ">Train: 0=60628, 1=10471, Test: 0=6715, 1=1185\n",
      ">Train: 0=60592, 1=10507, Test: 0=6751, 1=1149\n",
      ">Train: 0=60627, 1=10473, Test: 0=6716, 1=1183\n"
     ]
    },
    {
     "data": {
      "text/plain": [
       "{'Mean Training Accuracy': 0.9867072861242248,\n",
       " 'Mean Training Precision': 0.9343936479283498,\n",
       " 'Mean Training Recall': 0.9786184984087882,\n",
       " 'Mean Training F1 Score': 0.9559946471125894,\n",
       " 'Mean Validation Accuracy': 0.9866707210174017,\n",
       " 'Mean Validation Precision': 0.9342926143511028,\n",
       " 'Mean Validation Recall': 0.9783814858526055,\n",
       " 'Mean Validation F1 Score': 0.9558115209267625}"
      ]
     },
     "execution_count": 131,
     "metadata": {},
     "output_type": "execute_result"
    }
   ],
   "source": [
    "KfoldCV(DecisionTreeClassifier(criterion = 'gini', max_depth=3, min_samples_leaf=32), pd.DataFrame(X_probe_ss), y_probe, 10, 2)"
   ]
  },
  {
   "cell_type": "markdown",
   "metadata": {},
   "source": [
    "#### Stratified cross validation on probe"
   ]
  },
  {
   "cell_type": "code",
   "execution_count": 132,
   "metadata": {},
   "outputs": [
    {
     "name": "stdout",
     "output_type": "stream",
     "text": [
      ">Train: 0=60608, 1=10491, Test: 0=6735, 1=1165\n",
      ">Train: 0=60608, 1=10491, Test: 0=6735, 1=1165\n",
      ">Train: 0=60608, 1=10491, Test: 0=6735, 1=1165\n",
      ">Train: 0=60609, 1=10490, Test: 0=6734, 1=1166\n",
      ">Train: 0=60609, 1=10490, Test: 0=6734, 1=1166\n",
      ">Train: 0=60609, 1=10490, Test: 0=6734, 1=1166\n",
      ">Train: 0=60609, 1=10490, Test: 0=6734, 1=1166\n",
      ">Train: 0=60609, 1=10490, Test: 0=6734, 1=1166\n",
      ">Train: 0=60609, 1=10490, Test: 0=6734, 1=1166\n",
      ">Train: 0=60609, 1=10491, Test: 0=6734, 1=1165\n"
     ]
    },
    {
     "data": {
      "text/plain": [
       "{'Mean Training Accuracy': 0.986707286124225,\n",
       " 'Mean Training Precision': 0.9343949336688212,\n",
       " 'Mean Training Recall': 0.9786185544302853,\n",
       " 'Mean Training F1 Score': 0.9559953925341815,\n",
       " 'Mean Validation Accuracy': 0.9866707210174017,\n",
       " 'Mean Validation Precision': 0.9343954038588349,\n",
       " 'Mean Validation Recall': 0.9783809509787321,\n",
       " 'Mean Validation F1 Score': 0.9558677932657913}"
      ]
     },
     "execution_count": 132,
     "metadata": {},
     "output_type": "execute_result"
    }
   ],
   "source": [
    "stratifiedCV(DecisionTreeClassifier(criterion = 'gini', max_depth=3, min_samples_leaf=32), pd.DataFrame(X_probe), y_probe, 10, 2)"
   ]
  },
  {
   "cell_type": "markdown",
   "metadata": {},
   "source": [
    "#### Stratified cross validation on probe Standard Scaling"
   ]
  },
  {
   "cell_type": "code",
   "execution_count": 133,
   "metadata": {},
   "outputs": [
    {
     "name": "stdout",
     "output_type": "stream",
     "text": [
      ">Train: 0=60608, 1=10491, Test: 0=6735, 1=1165\n",
      ">Train: 0=60608, 1=10491, Test: 0=6735, 1=1165\n",
      ">Train: 0=60608, 1=10491, Test: 0=6735, 1=1165\n",
      ">Train: 0=60609, 1=10490, Test: 0=6734, 1=1166\n",
      ">Train: 0=60609, 1=10490, Test: 0=6734, 1=1166\n",
      ">Train: 0=60609, 1=10490, Test: 0=6734, 1=1166\n",
      ">Train: 0=60609, 1=10490, Test: 0=6734, 1=1166\n",
      ">Train: 0=60609, 1=10490, Test: 0=6734, 1=1166\n",
      ">Train: 0=60609, 1=10490, Test: 0=6734, 1=1166\n",
      ">Train: 0=60609, 1=10491, Test: 0=6734, 1=1165\n"
     ]
    },
    {
     "data": {
      "text/plain": [
       "{'Mean Training Accuracy': 0.986707286124225,\n",
       " 'Mean Training Precision': 0.9343949336688212,\n",
       " 'Mean Training Recall': 0.9786185544302853,\n",
       " 'Mean Training F1 Score': 0.9559953925341815,\n",
       " 'Mean Validation Accuracy': 0.9866707210174017,\n",
       " 'Mean Validation Precision': 0.9343954038588349,\n",
       " 'Mean Validation Recall': 0.9783809509787321,\n",
       " 'Mean Validation F1 Score': 0.9558677932657913}"
      ]
     },
     "execution_count": 133,
     "metadata": {},
     "output_type": "execute_result"
    }
   ],
   "source": [
    "stratifiedCV(DecisionTreeClassifier(criterion = 'gini', max_depth=3, min_samples_leaf=32), pd.DataFrame(X_probe_ss), y_probe, 10, 2)"
   ]
  },
  {
   "cell_type": "markdown",
   "metadata": {},
   "source": [
    "#### Predict on probe"
   ]
  },
  {
   "cell_type": "code",
   "execution_count": 134,
   "metadata": {},
   "outputs": [
    {
     "data": {
      "image/png": "[encoded data removed]",
      "text/plain": [
       "<Figure size 432x288 with 2 Axes>"
      ]
     },
     "metadata": {
      "needs_background": "light"
     },
     "output_type": "display_data"
    },
    {
     "name": "stdout",
     "output_type": "stream",
     "text": [
      "Accuracy: 0.94370 \n",
      "Precision: 0.90009 \n",
      "Recall: 0.80752 \n",
      "F-measure: 0.85130 \n"
     ]
    }
   ],
   "source": [
    "y_probe_prediction = DT(X_probe, y_probe).predict(X_probe_test)\n",
    "plotConfusionMatrix(y_probe_prediction, y_probe_test, 2)"
   ]
  },
  {
   "cell_type": "code",
   "execution_count": 135,
   "metadata": {},
   "outputs": [
    {
     "data": {
      "image/png": "[encoded data removed]",
      "text/plain": [
       "<Figure size 432x288 with 2 Axes>"
      ]
     },
     "metadata": {
      "needs_background": "light"
     },
     "output_type": "display_data"
    },
    {
     "name": "stdout",
     "output_type": "stream",
     "text": [
      "Accuracy: 0.78701 \n",
      "Precision: 0.48371 \n",
      "Recall: 0.99959 \n",
      "F-measure: 0.65194 \n"
     ]
    }
   ],
   "source": [
    "y_probe_prediction = DT(X_probe_ss, y_probe).predict(X_probe_test_ss)\n",
    "plotConfusionMatrix(y_probe_prediction, y_probe_test, 2)"
   ]
  },
  {
   "cell_type": "markdown",
   "metadata": {},
   "source": [
    "#### K-fold cross validation on r2l"
   ]
  },
  {
   "cell_type": "code",
   "execution_count": 136,
   "metadata": {},
   "outputs": [
    {
     "name": "stdout",
     "output_type": "stream",
     "text": [
      ">Train: 0=60615, 1=889, Test: 0=6728, 1=106\n",
      ">Train: 0=60612, 1=892, Test: 0=6731, 1=103\n",
      ">Train: 0=60628, 1=876, Test: 0=6715, 1=119\n",
      ">Train: 0=60613, 1=891, Test: 0=6730, 1=104\n",
      ">Train: 0=60610, 1=894, Test: 0=6733, 1=101\n",
      ">Train: 0=60591, 1=913, Test: 0=6752, 1=82\n",
      ">Train: 0=60599, 1=905, Test: 0=6744, 1=90\n",
      ">Train: 0=60597, 1=907, Test: 0=6746, 1=88\n",
      ">Train: 0=60614, 1=891, Test: 0=6729, 1=104\n",
      ">Train: 0=60608, 1=897, Test: 0=6735, 1=98\n"
     ]
    },
    {
     "data": {
      "text/plain": [
       "{'Mean Training Accuracy': 0.9939565102762726,\n",
       " 'Mean Training Precision': 0.7740220442678052,\n",
       " 'Mean Training Recall': 0.8261259521864293,\n",
       " 'Mean Training F1 Score': 0.7992201958458687,\n",
       " 'Mean Validation Accuracy': 0.993956509409804,\n",
       " 'Mean Validation Precision': 0.7746295445479999,\n",
       " 'Mean Validation Recall': 0.8260390047459891,\n",
       " 'Mean Validation F1 Score': 0.7990852104546808}"
      ]
     },
     "execution_count": 136,
     "metadata": {},
     "output_type": "execute_result"
    }
   ],
   "source": [
    "KfoldCV(DecisionTreeClassifier(criterion = 'gini', max_depth=3, min_samples_leaf=32), pd.DataFrame(X_r2l), y_r2l, 10, 3)"
   ]
  },
  {
   "cell_type": "markdown",
   "metadata": {},
   "source": [
    "#### K-fold cross validation on r2l Standard Scaling"
   ]
  },
  {
   "cell_type": "code",
   "execution_count": 137,
   "metadata": {},
   "outputs": [
    {
     "name": "stdout",
     "output_type": "stream",
     "text": [
      ">Train: 0=60615, 1=889, Test: 0=6728, 1=106\n",
      ">Train: 0=60612, 1=892, Test: 0=6731, 1=103\n",
      ">Train: 0=60628, 1=876, Test: 0=6715, 1=119\n",
      ">Train: 0=60613, 1=891, Test: 0=6730, 1=104\n",
      ">Train: 0=60610, 1=894, Test: 0=6733, 1=101\n",
      ">Train: 0=60591, 1=913, Test: 0=6752, 1=82\n",
      ">Train: 0=60599, 1=905, Test: 0=6744, 1=90\n",
      ">Train: 0=60597, 1=907, Test: 0=6746, 1=88\n",
      ">Train: 0=60614, 1=891, Test: 0=6729, 1=104\n",
      ">Train: 0=60608, 1=897, Test: 0=6735, 1=98\n"
     ]
    },
    {
     "data": {
      "text/plain": [
       "{'Mean Training Accuracy': 0.9939565102762726,\n",
       " 'Mean Training Precision': 0.7740220442678052,\n",
       " 'Mean Training Recall': 0.8261259521864293,\n",
       " 'Mean Training F1 Score': 0.7992201958458687,\n",
       " 'Mean Validation Accuracy': 0.993956509409804,\n",
       " 'Mean Validation Precision': 0.7746295445479999,\n",
       " 'Mean Validation Recall': 0.8260390047459891,\n",
       " 'Mean Validation F1 Score': 0.7990852104546808}"
      ]
     },
     "execution_count": 137,
     "metadata": {},
     "output_type": "execute_result"
    }
   ],
   "source": [
    "KfoldCV(DecisionTreeClassifier(criterion = 'gini', max_depth=3, min_samples_leaf=32), pd.DataFrame(X_r2l_ss), y_r2l, 10, 3)"
   ]
  },
  {
   "cell_type": "markdown",
   "metadata": {},
   "source": [
    "#### Stratified cross validation on r2l"
   ]
  },
  {
   "cell_type": "code",
   "execution_count": 138,
   "metadata": {},
   "outputs": [
    {
     "name": "stdout",
     "output_type": "stream",
     "text": [
      ">Train: 0=60608, 1=896, Test: 0=6735, 1=99\n",
      ">Train: 0=60608, 1=896, Test: 0=6735, 1=99\n",
      ">Train: 0=60608, 1=896, Test: 0=6735, 1=99\n",
      ">Train: 0=60609, 1=895, Test: 0=6734, 1=100\n",
      ">Train: 0=60609, 1=895, Test: 0=6734, 1=100\n",
      ">Train: 0=60609, 1=895, Test: 0=6734, 1=100\n",
      ">Train: 0=60609, 1=895, Test: 0=6734, 1=100\n",
      ">Train: 0=60609, 1=895, Test: 0=6734, 1=100\n",
      ">Train: 0=60609, 1=896, Test: 0=6734, 1=99\n",
      ">Train: 0=60609, 1=896, Test: 0=6734, 1=99\n"
     ]
    },
    {
     "data": {
      "text/plain": [
       "{'Mean Training Accuracy': 0.993956510302708,\n",
       " 'Mean Training Precision': 0.7740286873510016,\n",
       " 'Mean Training Recall': 0.8261309108140462,\n",
       " 'Mean Training F1 Score': 0.7992230025679612,\n",
       " 'Mean Validation Accuracy': 0.9939418788325229,\n",
       " 'Mean Validation Precision': 0.7745683101190346,\n",
       " 'Mean Validation Recall': 0.8261515151515153,\n",
       " 'Mean Validation F1 Score': 0.7988972123233735}"
      ]
     },
     "execution_count": 138,
     "metadata": {},
     "output_type": "execute_result"
    }
   ],
   "source": [
    "stratifiedCV(DecisionTreeClassifier(criterion = 'gini', max_depth=3, min_samples_leaf=32), pd.DataFrame(X_r2l), y_r2l, 10, 3)"
   ]
  },
  {
   "cell_type": "markdown",
   "metadata": {},
   "source": [
    "#### Stratified cross validation on r2l Standard Scaling"
   ]
  },
  {
   "cell_type": "code",
   "execution_count": 139,
   "metadata": {},
   "outputs": [
    {
     "name": "stdout",
     "output_type": "stream",
     "text": [
      ">Train: 0=60608, 1=896, Test: 0=6735, 1=99\n",
      ">Train: 0=60608, 1=896, Test: 0=6735, 1=99\n",
      ">Train: 0=60608, 1=896, Test: 0=6735, 1=99\n",
      ">Train: 0=60609, 1=895, Test: 0=6734, 1=100\n",
      ">Train: 0=60609, 1=895, Test: 0=6734, 1=100\n",
      ">Train: 0=60609, 1=895, Test: 0=6734, 1=100\n",
      ">Train: 0=60609, 1=895, Test: 0=6734, 1=100\n",
      ">Train: 0=60609, 1=895, Test: 0=6734, 1=100\n",
      ">Train: 0=60609, 1=896, Test: 0=6734, 1=99\n",
      ">Train: 0=60609, 1=896, Test: 0=6734, 1=99\n"
     ]
    },
    {
     "data": {
      "text/plain": [
       "{'Mean Training Accuracy': 0.993956510302708,\n",
       " 'Mean Training Precision': 0.7740286873510016,\n",
       " 'Mean Training Recall': 0.8261309108140462,\n",
       " 'Mean Training F1 Score': 0.7992230025679612,\n",
       " 'Mean Validation Accuracy': 0.9939565115512818,\n",
       " 'Mean Validation Precision': 0.7753192258699505,\n",
       " 'Mean Validation Recall': 0.8261515151515153,\n",
       " 'Mean Validation F1 Score': 0.7992893691861186}"
      ]
     },
     "execution_count": 139,
     "metadata": {},
     "output_type": "execute_result"
    }
   ],
   "source": [
    "stratifiedCV(DecisionTreeClassifier(criterion = 'gini', max_depth=3, min_samples_leaf=32), pd.DataFrame(X_r2l_ss), y_r2l, 10, 3)"
   ]
  },
  {
   "cell_type": "markdown",
   "metadata": {},
   "source": [
    "#### Predict on r2l"
   ]
  },
  {
   "cell_type": "code",
   "execution_count": 140,
   "metadata": {
    "scrolled": true
   },
   "outputs": [
    {
     "data": {
      "image/png": "[encoded data removed]",
      "text/plain": [
       "<Figure size 432x288 with 2 Axes>"
      ]
     },
     "metadata": {
      "needs_background": "light"
     },
     "output_type": "display_data"
    },
    {
     "name": "stdout",
     "output_type": "stream",
     "text": [
      "Accuracy: 0.79446 \n",
      "Precision: 0.98366 \n",
      "Recall: 0.10433 \n",
      "F-measure: 0.18866 \n"
     ]
    }
   ],
   "source": [
    "y_r2l_prediction = DT(X_r2l, y_r2l).predict(X_r2l_test)\n",
    "plotConfusionMatrix(y_r2l_prediction, y_r2l_test, 3)"
   ]
  },
  {
   "cell_type": "code",
   "execution_count": 141,
   "metadata": {
    "scrolled": false
   },
   "outputs": [
    {
     "data": {
      "image/png": "[encoded data removed]",
      "text/plain": [
       "<Figure size 432x288 with 2 Axes>"
      ]
     },
     "metadata": {
      "needs_background": "light"
     },
     "output_type": "display_data"
    },
    {
     "name": "stdout",
     "output_type": "stream",
     "text": [
      "Accuracy: 0.77056 \n",
      "Precision: 0.00000 \n",
      "Recall: 0.00000 \n",
      "F-measure: 0.00000 \n"
     ]
    }
   ],
   "source": [
    "y_r2l_prediction = DT(X_r2l_ss, y_r2l).predict(X_r2l_test_ss)\n",
    "plotConfusionMatrix(y_r2l_prediction, y_r2l_test, 3)"
   ]
  },
  {
   "cell_type": "markdown",
   "metadata": {},
   "source": [
    "#### K-fold cross validation on u2r"
   ]
  },
  {
   "cell_type": "code",
   "execution_count": 142,
   "metadata": {},
   "outputs": [
    {
     "name": "stdout",
     "output_type": "stream",
     "text": [
      ">Train: 0=60608, 1=47, Test: 0=6735, 1=5\n",
      ">Train: 0=60609, 1=46, Test: 0=6734, 1=6\n",
      ">Train: 0=60609, 1=46, Test: 0=6734, 1=6\n"
     ]
    },
    {
     "name": "stderr",
     "output_type": "stream",
     "text": [
      "C:\\Users\\Daniele\\anaconda3\\lib\\site-packages\\sklearn\\metrics\\_classification.py:1344: UndefinedMetricWarning: Precision is ill-defined and being set to 0.0 due to no predicted samples. Use `zero_division` parameter to control this behavior.\n",
      "  _warn_prf(average, modifier, msg_start, len(result))\n",
      "C:\\Users\\Daniele\\anaconda3\\lib\\site-packages\\sklearn\\metrics\\_classification.py:1344: UndefinedMetricWarning: Precision is ill-defined and being set to 0.0 due to no predicted samples. Use `zero_division` parameter to control this behavior.\n",
      "  _warn_prf(average, modifier, msg_start, len(result))\n"
     ]
    },
    {
     "name": "stdout",
     "output_type": "stream",
     "text": [
      ">Train: 0=60609, 1=46, Test: 0=6734, 1=6\n"
     ]
    },
    {
     "name": "stderr",
     "output_type": "stream",
     "text": [
      "C:\\Users\\Daniele\\anaconda3\\lib\\site-packages\\sklearn\\metrics\\_classification.py:1344: UndefinedMetricWarning: Precision is ill-defined and being set to 0.0 due to no predicted samples. Use `zero_division` parameter to control this behavior.\n",
      "  _warn_prf(average, modifier, msg_start, len(result))\n",
      "C:\\Users\\Daniele\\anaconda3\\lib\\site-packages\\sklearn\\metrics\\_classification.py:1344: UndefinedMetricWarning: Precision is ill-defined and being set to 0.0 due to no predicted samples. Use `zero_division` parameter to control this behavior.\n",
      "  _warn_prf(average, modifier, msg_start, len(result))\n"
     ]
    },
    {
     "name": "stdout",
     "output_type": "stream",
     "text": [
      ">Train: 0=60607, 1=48, Test: 0=6736, 1=4\n",
      ">Train: 0=60612, 1=44, Test: 0=6731, 1=8\n",
      ">Train: 0=60609, 1=47, Test: 0=6734, 1=5\n"
     ]
    },
    {
     "name": "stderr",
     "output_type": "stream",
     "text": [
      "C:\\Users\\Daniele\\anaconda3\\lib\\site-packages\\sklearn\\metrics\\_classification.py:1344: UndefinedMetricWarning: Precision is ill-defined and being set to 0.0 due to no predicted samples. Use `zero_division` parameter to control this behavior.\n",
      "  _warn_prf(average, modifier, msg_start, len(result))\n",
      "C:\\Users\\Daniele\\anaconda3\\lib\\site-packages\\sklearn\\metrics\\_classification.py:1344: UndefinedMetricWarning: Precision is ill-defined and being set to 0.0 due to no predicted samples. Use `zero_division` parameter to control this behavior.\n",
      "  _warn_prf(average, modifier, msg_start, len(result))\n"
     ]
    },
    {
     "name": "stdout",
     "output_type": "stream",
     "text": [
      ">Train: 0=60607, 1=49, Test: 0=6736, 1=3\n",
      ">Train: 0=60609, 1=47, Test: 0=6734, 1=5\n",
      ">Train: 0=60608, 1=48, Test: 0=6735, 1=4\n"
     ]
    },
    {
     "data": {
      "text/plain": [
       "{'Mean Training Accuracy': 0.9992712943871485,\n",
       " 'Mean Training Precision': 0.3864363296913512,\n",
       " 'Mean Training Recall': 0.30343799932722226,\n",
       " 'Mean Training F1 Score': 0.33947609145717317,\n",
       " 'Mean Validation Accuracy': 0.9991245674344343,\n",
       " 'Mean Validation Precision': 0.24166666666666664,\n",
       " 'Mean Validation Recall': 0.1975,\n",
       " 'Mean Validation F1 Score': 0.21262626262626264}"
      ]
     },
     "execution_count": 142,
     "metadata": {},
     "output_type": "execute_result"
    }
   ],
   "source": [
    "KfoldCV(DecisionTreeClassifier(criterion = 'gini', max_depth=3, min_samples_leaf=32), pd.DataFrame(X_u2r), y_u2r, 10, 4)"
   ]
  },
  {
   "cell_type": "markdown",
   "metadata": {},
   "source": [
    "#### K-fold cross validation on u2r Standard Scaling"
   ]
  },
  {
   "cell_type": "code",
   "execution_count": 143,
   "metadata": {},
   "outputs": [
    {
     "name": "stdout",
     "output_type": "stream",
     "text": [
      ">Train: 0=60608, 1=47, Test: 0=6735, 1=5\n",
      ">Train: 0=60609, 1=46, Test: 0=6734, 1=6\n",
      ">Train: 0=60609, 1=46, Test: 0=6734, 1=6\n"
     ]
    },
    {
     "name": "stderr",
     "output_type": "stream",
     "text": [
      "C:\\Users\\Daniele\\anaconda3\\lib\\site-packages\\sklearn\\metrics\\_classification.py:1344: UndefinedMetricWarning: Precision is ill-defined and being set to 0.0 due to no predicted samples. Use `zero_division` parameter to control this behavior.\n",
      "  _warn_prf(average, modifier, msg_start, len(result))\n",
      "C:\\Users\\Daniele\\anaconda3\\lib\\site-packages\\sklearn\\metrics\\_classification.py:1344: UndefinedMetricWarning: Precision is ill-defined and being set to 0.0 due to no predicted samples. Use `zero_division` parameter to control this behavior.\n",
      "  _warn_prf(average, modifier, msg_start, len(result))\n"
     ]
    },
    {
     "name": "stdout",
     "output_type": "stream",
     "text": [
      ">Train: 0=60609, 1=46, Test: 0=6734, 1=6\n"
     ]
    },
    {
     "name": "stderr",
     "output_type": "stream",
     "text": [
      "C:\\Users\\Daniele\\anaconda3\\lib\\site-packages\\sklearn\\metrics\\_classification.py:1344: UndefinedMetricWarning: Precision is ill-defined and being set to 0.0 due to no predicted samples. Use `zero_division` parameter to control this behavior.\n",
      "  _warn_prf(average, modifier, msg_start, len(result))\n",
      "C:\\Users\\Daniele\\anaconda3\\lib\\site-packages\\sklearn\\metrics\\_classification.py:1344: UndefinedMetricWarning: Precision is ill-defined and being set to 0.0 due to no predicted samples. Use `zero_division` parameter to control this behavior.\n",
      "  _warn_prf(average, modifier, msg_start, len(result))\n"
     ]
    },
    {
     "name": "stdout",
     "output_type": "stream",
     "text": [
      ">Train: 0=60607, 1=48, Test: 0=6736, 1=4\n",
      ">Train: 0=60612, 1=44, Test: 0=6731, 1=8\n",
      ">Train: 0=60609, 1=47, Test: 0=6734, 1=5\n"
     ]
    },
    {
     "name": "stderr",
     "output_type": "stream",
     "text": [
      "C:\\Users\\Daniele\\anaconda3\\lib\\site-packages\\sklearn\\metrics\\_classification.py:1344: UndefinedMetricWarning: Precision is ill-defined and being set to 0.0 due to no predicted samples. Use `zero_division` parameter to control this behavior.\n",
      "  _warn_prf(average, modifier, msg_start, len(result))\n",
      "C:\\Users\\Daniele\\anaconda3\\lib\\site-packages\\sklearn\\metrics\\_classification.py:1344: UndefinedMetricWarning: Precision is ill-defined and being set to 0.0 due to no predicted samples. Use `zero_division` parameter to control this behavior.\n",
      "  _warn_prf(average, modifier, msg_start, len(result))\n"
     ]
    },
    {
     "name": "stdout",
     "output_type": "stream",
     "text": [
      ">Train: 0=60607, 1=49, Test: 0=6736, 1=3\n",
      ">Train: 0=60609, 1=47, Test: 0=6734, 1=5\n",
      ">Train: 0=60608, 1=48, Test: 0=6735, 1=4\n"
     ]
    },
    {
     "data": {
      "text/plain": [
       "{'Mean Training Accuracy': 0.9992712943871485,\n",
       " 'Mean Training Precision': 0.3864363296913512,\n",
       " 'Mean Training Recall': 0.30343799932722226,\n",
       " 'Mean Training F1 Score': 0.33947609145717317,\n",
       " 'Mean Validation Accuracy': 0.9991245674344343,\n",
       " 'Mean Validation Precision': 0.24166666666666664,\n",
       " 'Mean Validation Recall': 0.1975,\n",
       " 'Mean Validation F1 Score': 0.21262626262626264}"
      ]
     },
     "execution_count": 143,
     "metadata": {},
     "output_type": "execute_result"
    }
   ],
   "source": [
    "KfoldCV(DecisionTreeClassifier(criterion = 'gini', max_depth=3, min_samples_leaf=32), pd.DataFrame(X_u2r_ss), y_u2r, 10, 4)"
   ]
  },
  {
   "cell_type": "markdown",
   "metadata": {},
   "source": [
    "#### Stratified cross validation on u2r"
   ]
  },
  {
   "cell_type": "code",
   "execution_count": 144,
   "metadata": {},
   "outputs": [
    {
     "name": "stdout",
     "output_type": "stream",
     "text": [
      ">Train: 0=60608, 1=47, Test: 0=6735, 1=5\n",
      ">Train: 0=60608, 1=47, Test: 0=6735, 1=5\n"
     ]
    },
    {
     "name": "stderr",
     "output_type": "stream",
     "text": [
      "C:\\Users\\Daniele\\anaconda3\\lib\\site-packages\\sklearn\\metrics\\_classification.py:1344: UndefinedMetricWarning: Precision is ill-defined and being set to 0.0 due to no predicted samples. Use `zero_division` parameter to control this behavior.\n",
      "  _warn_prf(average, modifier, msg_start, len(result))\n",
      "C:\\Users\\Daniele\\anaconda3\\lib\\site-packages\\sklearn\\metrics\\_classification.py:1344: UndefinedMetricWarning: Precision is ill-defined and being set to 0.0 due to no predicted samples. Use `zero_division` parameter to control this behavior.\n",
      "  _warn_prf(average, modifier, msg_start, len(result))\n"
     ]
    },
    {
     "name": "stdout",
     "output_type": "stream",
     "text": [
      ">Train: 0=60608, 1=47, Test: 0=6735, 1=5\n"
     ]
    },
    {
     "name": "stderr",
     "output_type": "stream",
     "text": [
      "C:\\Users\\Daniele\\anaconda3\\lib\\site-packages\\sklearn\\metrics\\_classification.py:1344: UndefinedMetricWarning: Precision is ill-defined and being set to 0.0 due to no predicted samples. Use `zero_division` parameter to control this behavior.\n",
      "  _warn_prf(average, modifier, msg_start, len(result))\n"
     ]
    },
    {
     "name": "stdout",
     "output_type": "stream",
     "text": [
      ">Train: 0=60609, 1=46, Test: 0=6734, 1=6\n"
     ]
    },
    {
     "name": "stderr",
     "output_type": "stream",
     "text": [
      "C:\\Users\\Daniele\\anaconda3\\lib\\site-packages\\sklearn\\metrics\\_classification.py:1344: UndefinedMetricWarning: Precision is ill-defined and being set to 0.0 due to no predicted samples. Use `zero_division` parameter to control this behavior.\n",
      "  _warn_prf(average, modifier, msg_start, len(result))\n",
      "C:\\Users\\Daniele\\anaconda3\\lib\\site-packages\\sklearn\\metrics\\_classification.py:1344: UndefinedMetricWarning: Precision is ill-defined and being set to 0.0 due to no predicted samples. Use `zero_division` parameter to control this behavior.\n",
      "  _warn_prf(average, modifier, msg_start, len(result))\n"
     ]
    },
    {
     "name": "stdout",
     "output_type": "stream",
     "text": [
      ">Train: 0=60609, 1=46, Test: 0=6734, 1=6\n",
      ">Train: 0=60609, 1=47, Test: 0=6734, 1=5\n",
      ">Train: 0=60609, 1=47, Test: 0=6734, 1=5\n"
     ]
    },
    {
     "name": "stderr",
     "output_type": "stream",
     "text": [
      "C:\\Users\\Daniele\\anaconda3\\lib\\site-packages\\sklearn\\metrics\\_classification.py:1344: UndefinedMetricWarning: Precision is ill-defined and being set to 0.0 due to no predicted samples. Use `zero_division` parameter to control this behavior.\n",
      "  _warn_prf(average, modifier, msg_start, len(result))\n",
      "C:\\Users\\Daniele\\anaconda3\\lib\\site-packages\\sklearn\\metrics\\_classification.py:1344: UndefinedMetricWarning: Precision is ill-defined and being set to 0.0 due to no predicted samples. Use `zero_division` parameter to control this behavior.\n",
      "  _warn_prf(average, modifier, msg_start, len(result))\n"
     ]
    },
    {
     "name": "stdout",
     "output_type": "stream",
     "text": [
      ">Train: 0=60609, 1=47, Test: 0=6734, 1=5\n",
      ">Train: 0=60609, 1=47, Test: 0=6734, 1=5\n",
      ">Train: 0=60609, 1=47, Test: 0=6734, 1=5\n"
     ]
    },
    {
     "data": {
      "text/plain": [
       "{'Mean Training Accuracy': 0.9992729430558484,\n",
       " 'Mean Training Precision': 0.38683550353092755,\n",
       " 'Mean Training Recall': 0.30948196114708604,\n",
       " 'Mean Training F1 Score': 0.3434925145964838,\n",
       " 'Mean Validation Accuracy': 0.9991097306391821,\n",
       " 'Mean Validation Precision': 0.19833333333333333,\n",
       " 'Mean Validation Recall': 0.15999999999999998,\n",
       " 'Mean Validation F1 Score': 0.17484848484848486}"
      ]
     },
     "execution_count": 144,
     "metadata": {},
     "output_type": "execute_result"
    }
   ],
   "source": [
    "stratifiedCV(DecisionTreeClassifier(criterion = 'gini', max_depth=3, min_samples_leaf=32), pd.DataFrame(X_u2r), y_u2r, 10, 4)"
   ]
  },
  {
   "cell_type": "markdown",
   "metadata": {},
   "source": [
    "#### Stratified cross validation on u2r Standard Scaling"
   ]
  },
  {
   "cell_type": "code",
   "execution_count": 145,
   "metadata": {},
   "outputs": [
    {
     "name": "stdout",
     "output_type": "stream",
     "text": [
      ">Train: 0=60608, 1=47, Test: 0=6735, 1=5\n",
      ">Train: 0=60608, 1=47, Test: 0=6735, 1=5\n"
     ]
    },
    {
     "name": "stderr",
     "output_type": "stream",
     "text": [
      "C:\\Users\\Daniele\\anaconda3\\lib\\site-packages\\sklearn\\metrics\\_classification.py:1344: UndefinedMetricWarning: Precision is ill-defined and being set to 0.0 due to no predicted samples. Use `zero_division` parameter to control this behavior.\n",
      "  _warn_prf(average, modifier, msg_start, len(result))\n",
      "C:\\Users\\Daniele\\anaconda3\\lib\\site-packages\\sklearn\\metrics\\_classification.py:1344: UndefinedMetricWarning: Precision is ill-defined and being set to 0.0 due to no predicted samples. Use `zero_division` parameter to control this behavior.\n",
      "  _warn_prf(average, modifier, msg_start, len(result))\n"
     ]
    },
    {
     "name": "stdout",
     "output_type": "stream",
     "text": [
      ">Train: 0=60608, 1=47, Test: 0=6735, 1=5\n"
     ]
    },
    {
     "name": "stderr",
     "output_type": "stream",
     "text": [
      "C:\\Users\\Daniele\\anaconda3\\lib\\site-packages\\sklearn\\metrics\\_classification.py:1344: UndefinedMetricWarning: Precision is ill-defined and being set to 0.0 due to no predicted samples. Use `zero_division` parameter to control this behavior.\n",
      "  _warn_prf(average, modifier, msg_start, len(result))\n"
     ]
    },
    {
     "name": "stdout",
     "output_type": "stream",
     "text": [
      ">Train: 0=60609, 1=46, Test: 0=6734, 1=6\n"
     ]
    },
    {
     "name": "stderr",
     "output_type": "stream",
     "text": [
      "C:\\Users\\Daniele\\anaconda3\\lib\\site-packages\\sklearn\\metrics\\_classification.py:1344: UndefinedMetricWarning: Precision is ill-defined and being set to 0.0 due to no predicted samples. Use `zero_division` parameter to control this behavior.\n",
      "  _warn_prf(average, modifier, msg_start, len(result))\n",
      "C:\\Users\\Daniele\\anaconda3\\lib\\site-packages\\sklearn\\metrics\\_classification.py:1344: UndefinedMetricWarning: Precision is ill-defined and being set to 0.0 due to no predicted samples. Use `zero_division` parameter to control this behavior.\n",
      "  _warn_prf(average, modifier, msg_start, len(result))\n"
     ]
    },
    {
     "name": "stdout",
     "output_type": "stream",
     "text": [
      ">Train: 0=60609, 1=46, Test: 0=6734, 1=6\n",
      ">Train: 0=60609, 1=47, Test: 0=6734, 1=5\n",
      ">Train: 0=60609, 1=47, Test: 0=6734, 1=5\n"
     ]
    },
    {
     "name": "stderr",
     "output_type": "stream",
     "text": [
      "C:\\Users\\Daniele\\anaconda3\\lib\\site-packages\\sklearn\\metrics\\_classification.py:1344: UndefinedMetricWarning: Precision is ill-defined and being set to 0.0 due to no predicted samples. Use `zero_division` parameter to control this behavior.\n",
      "  _warn_prf(average, modifier, msg_start, len(result))\n",
      "C:\\Users\\Daniele\\anaconda3\\lib\\site-packages\\sklearn\\metrics\\_classification.py:1344: UndefinedMetricWarning: Precision is ill-defined and being set to 0.0 due to no predicted samples. Use `zero_division` parameter to control this behavior.\n",
      "  _warn_prf(average, modifier, msg_start, len(result))\n"
     ]
    },
    {
     "name": "stdout",
     "output_type": "stream",
     "text": [
      ">Train: 0=60609, 1=47, Test: 0=6734, 1=5\n",
      ">Train: 0=60609, 1=47, Test: 0=6734, 1=5\n",
      ">Train: 0=60609, 1=47, Test: 0=6734, 1=5\n"
     ]
    },
    {
     "data": {
      "text/plain": [
       "{'Mean Training Accuracy': 0.9992729430558484,\n",
       " 'Mean Training Precision': 0.38683550353092755,\n",
       " 'Mean Training Recall': 0.30948196114708604,\n",
       " 'Mean Training F1 Score': 0.3434925145964838,\n",
       " 'Mean Validation Accuracy': 0.9991097306391821,\n",
       " 'Mean Validation Precision': 0.19833333333333333,\n",
       " 'Mean Validation Recall': 0.15999999999999998,\n",
       " 'Mean Validation F1 Score': 0.17484848484848486}"
      ]
     },
     "execution_count": 145,
     "metadata": {},
     "output_type": "execute_result"
    }
   ],
   "source": [
    "stratifiedCV(DecisionTreeClassifier(criterion = 'gini', max_depth=3, min_samples_leaf=32), pd.DataFrame(X_u2r_ss), y_u2r, 10, 4)"
   ]
  },
  {
   "cell_type": "markdown",
   "metadata": {},
   "source": [
    "#### Predict on u2r"
   ]
  },
  {
   "cell_type": "code",
   "execution_count": 146,
   "metadata": {
    "scrolled": false
   },
   "outputs": [
    {
     "data": {
      "image/png": "[encoded data removed]",
      "text/plain": [
       "<Figure size 432x288 with 2 Axes>"
      ]
     },
     "metadata": {
      "needs_background": "light"
     },
     "output_type": "display_data"
    },
    {
     "name": "stdout",
     "output_type": "stream",
     "text": [
      "Accuracy: 0.99345 \n",
      "Precision: 0.57895 \n",
      "Recall: 0.16418 \n",
      "F-measure: 0.25581 \n"
     ]
    }
   ],
   "source": [
    "y_u2r_prediction = DT(X_u2r, y_u2r).predict(X_u2r_test)\n",
    "plotConfusionMatrix(y_u2r_prediction, y_u2r_test, 4)"
   ]
  },
  {
   "cell_type": "code",
   "execution_count": 147,
   "metadata": {
    "scrolled": true
   },
   "outputs": [
    {
     "data": {
      "image/png": "[encoded data removed]",
      "text/plain": [
       "<Figure size 432x288 with 2 Axes>"
      ]
     },
     "metadata": {
      "needs_background": "light"
     },
     "output_type": "display_data"
    },
    {
     "name": "stdout",
     "output_type": "stream",
     "text": [
      "Accuracy: 0.99356 \n",
      "Precision: 0.61111 \n",
      "Recall: 0.16418 \n",
      "F-measure: 0.25882 \n"
     ]
    }
   ],
   "source": [
    "y_u2r_prediction = DT(X_u2r_ss, y_u2r).predict(X_u2r_test_ss)\n",
    "plotConfusionMatrix(y_u2r_prediction, y_u2r_test, 4)"
   ]
  },
  {
   "cell_type": "markdown",
   "metadata": {},
   "source": [
    "## Binary dataset no feature selection"
   ]
  },
  {
   "cell_type": "code",
   "execution_count": 148,
   "metadata": {},
   "outputs": [
    {
     "data": {
      "text/plain": [
       "<module 'matplotlib.pyplot' from 'C:\\\\Users\\\\Daniele\\\\anaconda3\\\\lib\\\\site-packages\\\\matplotlib\\\\pyplot.py'>"
      ]
     },
     "execution_count": 148,
     "metadata": {},
     "output_type": "execute_result"
    },
    {
     "data": {
      "image/png": "[encoded data removed]",
      "text/plain": [
       "<Figure size 720x360 with 1 Axes>"
      ]
     },
     "metadata": {
      "needs_background": "light"
     },
     "output_type": "display_data"
    }
   ],
   "source": [
    "fullDf = getFullDf()\n",
    "fullDf_test = getFullDfTest()\n",
    "\n",
    "fullDf['label'], fullDf_test['label'] = prepareBinary()\n",
    "\n",
    "fullDf=oneHotEcoding(fullDf, 'protocol_type')\n",
    "fullDf=oneHotEcoding(fullDf, 'service')\n",
    "fullDf=oneHotEcoding(fullDf, 'flag')\n",
    "fullDf_test=oneHotEcoding(fullDf_test, 'protocol_type')\n",
    "fullDf_test=oneHotEcoding(fullDf_test, 'service')\n",
    "fullDf_test=oneHotEcoding(fullDf_test, 'flag')\n",
    "\n",
    "fullDf_test=adaptTestset(fullDf, fullDf_test)\n",
    "\n",
    "colNames=list(fullDf)\n",
    "colNames_test=list(fullDf_test)\n",
    "\n",
    "plotDf(fullDf['label'])\n"
   ]
  },
  {
   "cell_type": "code",
   "execution_count": 149,
   "metadata": {},
   "outputs": [],
   "source": [
    "x_df, y_df = getXandY(fullDf)\n",
    "x_df_test, y_df_test = getXandY(fullDf_test)\n",
    "\n",
    "x_df_ss = standardScaler(x_df)\n",
    "x_df_test_ss = standardScaler(x_df_test)\n"
   ]
  },
  {
   "cell_type": "code",
   "execution_count": 150,
   "metadata": {},
   "outputs": [
    {
     "name": "stdout",
     "output_type": "stream",
     "text": [
      ">Train: 0=60653, 1=52722, Test: 0=6690, 1=5908\n",
      ">Train: 0=60581, 1=52794, Test: 0=6762, 1=5836\n",
      ">Train: 0=60638, 1=52737, Test: 0=6705, 1=5893\n",
      ">Train: 0=60750, 1=52626, Test: 0=6593, 1=6004\n",
      ">Train: 0=60645, 1=52731, Test: 0=6698, 1=5899\n",
      ">Train: 0=60505, 1=52871, Test: 0=6838, 1=5759\n",
      ">Train: 0=60507, 1=52869, Test: 0=6836, 1=5761\n",
      ">Train: 0=60570, 1=52806, Test: 0=6773, 1=5824\n",
      ">Train: 0=60650, 1=52726, Test: 0=6693, 1=5904\n",
      ">Train: 0=60588, 1=52788, Test: 0=6755, 1=5842\n"
     ]
    },
    {
     "data": {
      "text/plain": [
       "{'Mean Training Accuracy': 0.9746612369577605,\n",
       " 'Mean Training Precision': 0.964927710092204,\n",
       " 'Mean Training Recall': 0.9812212900159973,\n",
       " 'Mean Training F1 Score': 0.9730062577171867,\n",
       " 'Mean Validation Accuracy': 0.9746533006426092,\n",
       " 'Mean Validation Precision': 0.964913848985175,\n",
       " 'Mean Validation Recall': 0.9812099218223423,\n",
       " 'Mean Validation F1 Score': 0.9729908325154669}"
      ]
     },
     "execution_count": 150,
     "metadata": {},
     "output_type": "execute_result"
    }
   ],
   "source": [
    "KfoldCV(DecisionTreeClassifier(criterion = 'gini', max_depth=3, min_samples_leaf=32), pd.DataFrame(x_df), y_df, 10, 1)"
   ]
  },
  {
   "cell_type": "code",
   "execution_count": 151,
   "metadata": {},
   "outputs": [
    {
     "name": "stdout",
     "output_type": "stream",
     "text": [
      ">Train: 0=60653, 1=52722, Test: 0=6690, 1=5908\n",
      ">Train: 0=60581, 1=52794, Test: 0=6762, 1=5836\n",
      ">Train: 0=60638, 1=52737, Test: 0=6705, 1=5893\n",
      ">Train: 0=60750, 1=52626, Test: 0=6593, 1=6004\n",
      ">Train: 0=60645, 1=52731, Test: 0=6698, 1=5899\n",
      ">Train: 0=60505, 1=52871, Test: 0=6838, 1=5759\n",
      ">Train: 0=60507, 1=52869, Test: 0=6836, 1=5761\n",
      ">Train: 0=60570, 1=52806, Test: 0=6773, 1=5824\n",
      ">Train: 0=60650, 1=52726, Test: 0=6693, 1=5904\n",
      ">Train: 0=60588, 1=52788, Test: 0=6755, 1=5842\n"
     ]
    },
    {
     "data": {
      "text/plain": [
       "{'Mean Training Accuracy': 0.9746612369577605,\n",
       " 'Mean Training Precision': 0.964927710092204,\n",
       " 'Mean Training Recall': 0.9812212900159973,\n",
       " 'Mean Training F1 Score': 0.9730062577171867,\n",
       " 'Mean Validation Accuracy': 0.9746533006426092,\n",
       " 'Mean Validation Precision': 0.964913848985175,\n",
       " 'Mean Validation Recall': 0.9812099218223423,\n",
       " 'Mean Validation F1 Score': 0.9729908325154669}"
      ]
     },
     "execution_count": 151,
     "metadata": {},
     "output_type": "execute_result"
    }
   ],
   "source": [
    "KfoldCV(DecisionTreeClassifier(criterion = 'gini', max_depth=3, min_samples_leaf=32), pd.DataFrame(x_df_ss), y_df, 10, 1)"
   ]
  },
  {
   "cell_type": "code",
   "execution_count": 152,
   "metadata": {
    "scrolled": false
   },
   "outputs": [
    {
     "data": {
      "image/png": "[encoded data removed]",
      "text/plain": [
       "<Figure size 432x288 with 2 Axes>"
      ]
     },
     "metadata": {
      "needs_background": "light"
     },
     "output_type": "display_data"
    },
    {
     "name": "stdout",
     "output_type": "stream",
     "text": [
      "Accuracy: 0.79697 \n",
      "Precision: 0.96041 \n",
      "Recall: 0.67100 \n",
      "F-measure: 0.79004 \n"
     ]
    }
   ],
   "source": [
    "y_prediction = DT(x_df, y_df).predict(x_df_test)\n",
    "plotConfusionMatrix(y_prediction, y_df_test, 1)"
   ]
  },
  {
   "cell_type": "code",
   "execution_count": 153,
   "metadata": {
    "scrolled": true
   },
   "outputs": [
    {
     "data": {
      "image/png": "[encoded data removed]",
      "text/plain": [
       "<Figure size 432x288 with 2 Axes>"
      ]
     },
     "metadata": {
      "needs_background": "light"
     },
     "output_type": "display_data"
    },
    {
     "name": "stdout",
     "output_type": "stream",
     "text": [
      "Accuracy: 0.82696 \n",
      "Precision: 0.80381 \n",
      "Recall: 0.92075 \n",
      "F-measure: 0.85832 \n"
     ]
    }
   ],
   "source": [
    "y_prediction = DT(x_df_ss, y_df).predict(x_df_test_ss)\n",
    "plotConfusionMatrix(y_prediction, y_df_test, 1)"
   ]
  },
  {
   "cell_type": "markdown",
   "metadata": {},
   "source": [
    "## Binary dataset feature selection"
   ]
  },
  {
   "cell_type": "code",
   "execution_count": 154,
   "metadata": {},
   "outputs": [],
   "source": [
    "X_df_rfe, rfecolname = recursiveFeatureExtraction(DecisionTreeClassifier(criterion = 'gini', max_depth=3, min_samples_leaf=32), pd.DataFrame(x_df), y_df, 13)\n",
    "X_df_test_rfe=x_df_test.values[:,rfecolname]"
   ]
  },
  {
   "cell_type": "code",
   "execution_count": 155,
   "metadata": {},
   "outputs": [],
   "source": [
    "X_df_rfe_ss, rfecolname_ss = recursiveFeatureExtraction(DecisionTreeClassifier(criterion = 'gini', max_depth=3, min_samples_leaf=32), pd.DataFrame(x_df_ss), y_df, 13)\n",
    "X_df_test_rfe_ss=x_df_test_ss[:,rfecolname_ss]"
   ]
  },
  {
   "cell_type": "markdown",
   "metadata": {},
   "source": [
    "#### K-fold cross validation"
   ]
  },
  {
   "cell_type": "code",
   "execution_count": 156,
   "metadata": {},
   "outputs": [
    {
     "name": "stdout",
     "output_type": "stream",
     "text": [
      ">Train: 0=60653, 1=52722, Test: 0=6690, 1=5908\n",
      ">Train: 0=60581, 1=52794, Test: 0=6762, 1=5836\n",
      ">Train: 0=60638, 1=52737, Test: 0=6705, 1=5893\n",
      ">Train: 0=60750, 1=52626, Test: 0=6593, 1=6004\n",
      ">Train: 0=60645, 1=52731, Test: 0=6698, 1=5899\n",
      ">Train: 0=60505, 1=52871, Test: 0=6838, 1=5759\n",
      ">Train: 0=60507, 1=52869, Test: 0=6836, 1=5761\n",
      ">Train: 0=60570, 1=52806, Test: 0=6773, 1=5824\n",
      ">Train: 0=60650, 1=52726, Test: 0=6693, 1=5904\n",
      ">Train: 0=60588, 1=52788, Test: 0=6755, 1=5842\n"
     ]
    },
    {
     "data": {
      "text/plain": [
       "{'Mean Training Accuracy': 0.9746612369577605,\n",
       " 'Mean Training Precision': 0.964927710092204,\n",
       " 'Mean Training Recall': 0.9812212900159973,\n",
       " 'Mean Training F1 Score': 0.9730062577171867,\n",
       " 'Mean Validation Accuracy': 0.9746533006426092,\n",
       " 'Mean Validation Precision': 0.964913848985175,\n",
       " 'Mean Validation Recall': 0.9812099218223423,\n",
       " 'Mean Validation F1 Score': 0.9729908325154669}"
      ]
     },
     "execution_count": 156,
     "metadata": {},
     "output_type": "execute_result"
    }
   ],
   "source": [
    "KfoldCV(DecisionTreeClassifier(criterion = 'gini', max_depth=3, min_samples_leaf=32), pd.DataFrame(X_df_rfe), y_df, 10, 1)"
   ]
  },
  {
   "cell_type": "markdown",
   "metadata": {},
   "source": [
    "#### K-fold cross validation Standard Scaler"
   ]
  },
  {
   "cell_type": "code",
   "execution_count": 157,
   "metadata": {},
   "outputs": [
    {
     "name": "stdout",
     "output_type": "stream",
     "text": [
      ">Train: 0=60653, 1=52722, Test: 0=6690, 1=5908\n",
      ">Train: 0=60581, 1=52794, Test: 0=6762, 1=5836\n",
      ">Train: 0=60638, 1=52737, Test: 0=6705, 1=5893\n",
      ">Train: 0=60750, 1=52626, Test: 0=6593, 1=6004\n",
      ">Train: 0=60645, 1=52731, Test: 0=6698, 1=5899\n",
      ">Train: 0=60505, 1=52871, Test: 0=6838, 1=5759\n",
      ">Train: 0=60507, 1=52869, Test: 0=6836, 1=5761\n",
      ">Train: 0=60570, 1=52806, Test: 0=6773, 1=5824\n",
      ">Train: 0=60650, 1=52726, Test: 0=6693, 1=5904\n",
      ">Train: 0=60588, 1=52788, Test: 0=6755, 1=5842\n"
     ]
    },
    {
     "data": {
      "text/plain": [
       "{'Mean Training Accuracy': 0.9746612369577605,\n",
       " 'Mean Training Precision': 0.964927710092204,\n",
       " 'Mean Training Recall': 0.9812212900159973,\n",
       " 'Mean Training F1 Score': 0.9730062577171867,\n",
       " 'Mean Validation Accuracy': 0.9746533006426092,\n",
       " 'Mean Validation Precision': 0.964913848985175,\n",
       " 'Mean Validation Recall': 0.9812099218223423,\n",
       " 'Mean Validation F1 Score': 0.9729908325154669}"
      ]
     },
     "execution_count": 157,
     "metadata": {},
     "output_type": "execute_result"
    }
   ],
   "source": [
    "KfoldCV(DecisionTreeClassifier(criterion = 'gini', max_depth=3, min_samples_leaf=32), pd.DataFrame(X_df_rfe_ss), y_df, 10, 1)"
   ]
  },
  {
   "cell_type": "markdown",
   "metadata": {},
   "source": [
    "#### Predict"
   ]
  },
  {
   "cell_type": "code",
   "execution_count": 158,
   "metadata": {
    "scrolled": false
   },
   "outputs": [
    {
     "data": {
      "image/png": "[encoded data removed]",
      "text/plain": [
       "<Figure size 432x288 with 2 Axes>"
      ]
     },
     "metadata": {
      "needs_background": "light"
     },
     "output_type": "display_data"
    },
    {
     "name": "stdout",
     "output_type": "stream",
     "text": [
      "Accuracy: 0.79697 \n",
      "Precision: 0.96041 \n",
      "Recall: 0.67100 \n",
      "F-measure: 0.79004 \n"
     ]
    }
   ],
   "source": [
    "y_prediction = DT(X_df_rfe, y_df).predict(X_df_test_rfe)\n",
    "plotConfusionMatrix(y_prediction, y_df_test, 1)"
   ]
  },
  {
   "cell_type": "code",
   "execution_count": 159,
   "metadata": {
    "scrolled": true
   },
   "outputs": [
    {
     "data": {
      "image/png": "[encoded data removed]",
      "text/plain": [
       "<Figure size 432x288 with 2 Axes>"
      ]
     },
     "metadata": {
      "needs_background": "light"
     },
     "output_type": "display_data"
    },
    {
     "name": "stdout",
     "output_type": "stream",
     "text": [
      "Accuracy: 0.82696 \n",
      "Precision: 0.80381 \n",
      "Recall: 0.92075 \n",
      "F-measure: 0.85832 \n"
     ]
    }
   ],
   "source": [
    "y_prediction = DT(X_df_rfe_ss, y_df).predict(X_df_test_rfe_ss)\n",
    "plotConfusionMatrix(y_prediction, y_df_test, 1)"
   ]
  },
  {
   "cell_type": "code",
   "execution_count": null,
   "metadata": {},
   "outputs": [],
   "source": []
  }
 ],
 "metadata": {
  "colab": {
   "authorship_tag": "ABX9TyMHeZyIWbMZKAf4sJQ/BZhF",
   "collapsed_sections": [
    "6mvaHjRTkbk5"
   ],
   "provenance": []
  },
  "kernelspec": {
   "display_name": "Python 3 (ipykernel)",
   "language": "python",
   "name": "python3"
  },
  "language_info": {
   "codemirror_mode": {
    "name": "ipython",
    "version": 3
   },
   "file_extension": ".py",
   "mimetype": "text/x-python",
   "name": "python",
   "nbconvert_exporter": "python",
   "pygments_lexer": "ipython3",
   "version": "3.9.7"
  }
 },
 "nbformat": 4,
 "nbformat_minor": 1
}
