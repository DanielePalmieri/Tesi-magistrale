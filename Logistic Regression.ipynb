{
 "cells": [
  {
   "cell_type": "code",
   "execution_count": 1,
   "metadata": {
    "colab": {
     "base_uri": "https://localhost:8080/"
    },
    "executionInfo": {
     "elapsed": 3,
     "status": "ok",
     "timestamp": 1675868759529,
     "user": {
      "displayName": "DANIELE PALMIERI",
      "userId": "13749636301499067245"
     },
     "user_tz": -60
    },
    "id": "5tWyPVVSti_W",
    "outputId": "cf23d942-3a3f-4923-fcf5-6cded2eab13b",
    "scrolled": false
   },
   "outputs": [
    {
     "name": "stdout",
     "output_type": "stream",
     "text": [
      "C:\\Users\\Daniele\\Desktop\\Materiale Tesi\\Tesi magistrale\\datasets\\NLS\n"
     ]
    }
   ],
   "source": [
    "cd datasets/NLS"
   ]
  },
  {
   "cell_type": "markdown",
   "metadata": {},
   "source": [
    "# Import"
   ]
  },
  {
   "cell_type": "code",
   "execution_count": 2,
   "metadata": {},
   "outputs": [
    {
     "name": "stderr",
     "output_type": "stream",
     "text": [
      "C:\\Users\\Daniele\\anaconda3\\lib\\site-packages\\numpy\\_distributor_init.py:30: UserWarning: loaded more than 1 DLL from .libs:\n",
      "C:\\Users\\Daniele\\anaconda3\\lib\\site-packages\\numpy\\.libs\\libopenblas.GK7GX5KEQ4F6UYO3P26ULGBQYHGQO7J4.gfortran-win_amd64.dll\n",
      "C:\\Users\\Daniele\\anaconda3\\lib\\site-packages\\numpy\\.libs\\libopenblas64__v0.3.21-gcc_10_3_0.dll\n",
      "  warnings.warn(\"loaded more than 1 DLL from .libs:\"\n",
      "C:\\Users\\Daniele\\anaconda3\\lib\\site-packages\\scipy\\__init__.py:146: UserWarning: A NumPy version >=1.16.5 and <1.23.0 is required for this version of SciPy (detected version 1.24.2\n",
      "  warnings.warn(f\"A NumPy version >={np_minversion} and <{np_maxversion}\"\n"
     ]
    }
   ],
   "source": [
    "import pandas as pd\n",
    "import numpy as np\n",
    "import scikitplot as skplt\n",
    "import matplotlib.pyplot as plt\n",
    "from sklearn import preprocessing\n",
    "from imblearn.over_sampling import SMOTE\n",
    "from sklearn.feature_selection import RFE\n",
    "from sklearn.linear_model import LogisticRegression\n",
    "from sklearn.metrics.pairwise import rbf_kernel\n",
    "from sklearn.model_selection import StratifiedKFold\n",
    "from sklearn.model_selection import KFold\n",
    "from sklearn.metrics import accuracy_score, precision_score, recall_score, f1_score\n",
    "from sklearn.preprocessing import OneHotEncoder\n",
    "from imblearn.over_sampling import RandomOverSampler\n",
    "\n",
    "# Aggiungo gli headers al CSV\n",
    "col_names = [\"duration\",\"protocol_type\",\"service\",\"flag\",\"src_bytes\",\n",
    "    \"dst_bytes\",\"land\",\"wrong_fragment\",\"urgent\",\"hot\",\"num_failed_logins\",\n",
    "    \"logged_in\",\"num_compromised\",\"root_shell\",\"su_attempted\",\"num_root\",\n",
    "    \"num_file_creations\",\"num_shells\",\"num_access_files\",\"num_outbound_cmds\",\n",
    "    \"is_host_login\",\"is_guest_login\",\"count\",\"srv_count\",\"serror_rate\",\n",
    "    \"srv_serror_rate\",\"rerror_rate\",\"srv_rerror_rate\",\"same_srv_rate\",\n",
    "    \"diff_srv_rate\",\"srv_diff_host_rate\",\"dst_host_count\",\"dst_host_srv_count\",\n",
    "    \"dst_host_same_srv_rate\",\"dst_host_diff_srv_rate\",\"dst_host_same_src_port_rate\",\n",
    "    \"dst_host_srv_diff_host_rate\",\"dst_host_serror_rate\",\"dst_host_srv_serror_rate\",\n",
    "    \"dst_host_rerror_rate\",\"dst_host_srv_rerror_rate\",\"label\"]\n",
    "\n",
    "df = pd.read_csv('KDDTrain+.csv', encoding='cp1252', names = col_names)\n",
    "df_test = pd.read_csv('KDDTest+.csv', encoding='cp1252', names = col_names)\n",
    "\n",
    "labeldf=df['label']\n",
    "labeldf_test=df_test['label']"
   ]
  },
  {
   "cell_type": "markdown",
   "metadata": {},
   "source": [
    "# Functions"
   ]
  },
  {
   "cell_type": "code",
   "execution_count": 3,
   "metadata": {
    "id": "_6ocXjZLt7SF"
   },
   "outputs": [],
   "source": [
    "#Dataset Preparation ----------------------------------------------------------------------------------------------------------\n",
    "\n",
    "def prepareMulticlass():\n",
    "    # change the label column\n",
    "    newlabeldf=labeldf.replace({ 'normal' : 0, 'neptune' : 1 ,'back': 1, 'land': 1, 'pod': 1, 'smurf': 1, 'teardrop': 1,'mailbomb': 1, 'apache2': 1, 'processtable': 1, 'udpstorm': 1, 'worm': 1,\n",
    "                           'ipsweep' : 2,'nmap' : 2,'portsweep' : 2,'satan' : 2,'mscan' : 2,'saint' : 2\n",
    "                           ,'ftp_write': 3,'guess_passwd': 3,'imap': 3,'multihop': 3,'phf': 3,'spy': 3,'warezclient': 3,'warezmaster': 3,'sendmail': 3,'named': 3,'snmpgetattack': 3,'snmpguess': 3,'xlock': 3,'xsnoop': 3,'httptunnel': 3,\n",
    "                           'buffer_overflow': 4,'loadmodule': 4,'perl': 4,'rootkit': 4,'ps': 4,'sqlattack': 4,'xterm': 4})\n",
    "    newlabeldf_test=labeldf_test.replace({ 'normal' : 0, 'neptune' : 1 ,'back': 1, 'land': 1, 'pod': 1, 'smurf': 1, 'teardrop': 1,'mailbomb': 1, 'apache2': 1, 'processtable': 1, 'udpstorm': 1, 'worm': 1,\n",
    "                           'ipsweep' : 2,'nmap' : 2,'portsweep' : 2,'satan' : 2,'mscan' : 2,'saint' : 2\n",
    "                           ,'ftp_write': 3,'guess_passwd': 3,'imap': 3,'multihop': 3,'phf': 3,'spy': 3,'warezclient': 3,'warezmaster': 3,'sendmail': 3,'named': 3,'snmpgetattack': 3,'snmpguess': 3,'xlock': 3,'xsnoop': 3,'httptunnel': 3,\n",
    "                           'buffer_overflow': 4,'loadmodule': 4,'perl': 4,'rootkit': 4,'ps': 4,'sqlattack': 4,'xterm': 4})\n",
    "    return newlabeldf, newlabeldf_test\n",
    "\n",
    "def prepareBinary():\n",
    "    # change the label column\n",
    "    newlabeldf=labeldf.replace({ 'normal' : 0, 'neptune' : 1 ,'back': 1, 'land': 1, 'pod': 1, 'smurf': 1, 'teardrop': 1,'mailbomb': 1, 'apache2': 1, 'processtable': 1, 'udpstorm': 1, 'worm': 1,\n",
    "                           'ipsweep' : 1,'nmap' : 1,'portsweep' : 1,'satan' : 1,'mscan' : 1,'saint' : 1\n",
    "                           ,'ftp_write': 1,'guess_passwd': 1,'imap': 1,'multihop': 1,'phf': 1,'spy': 1,'warezclient': 1,'warezmaster': 1,'sendmail': 1,'named': 1,'snmpgetattack': 1,'snmpguess': 1,'xlock': 1,'xsnoop': 1,'httptunnel': 1,\n",
    "                           'buffer_overflow': 1,'loadmodule': 1,'perl': 1,'rootkit': 1,'ps': 1,'sqlattack': 1,'xterm': 1})\n",
    "    newlabeldf_test=labeldf_test.replace({ 'normal' : 0, 'neptune' : 1 ,'back': 1, 'land': 1, 'pod': 1, 'smurf': 1, 'teardrop': 1,'mailbomb': 1, 'apache2': 1, 'processtable': 1, 'udpstorm': 1, 'worm': 1,\n",
    "                           'ipsweep' : 1,'nmap' : 1,'portsweep' : 1,'satan' : 1,'mscan' : 1,'saint' : 1\n",
    "                           ,'ftp_write': 1,'guess_passwd': 1,'imap': 1,'multihop': 1,'phf': 1,'spy': 1,'warezclient': 1,'warezmaster': 1,'sendmail': 1,'named': 1,'snmpgetattack': 1,'snmpguess': 1,'xlock': 1,'xsnoop': 1,'httptunnel': 1,\n",
    "                           'buffer_overflow': 1,'loadmodule': 1,'perl': 1,'rootkit': 1,'ps': 1,'sqlattack': 1,'xterm': 1})\n",
    "    return newlabeldf, newlabeldf_test\n",
    "  \n",
    "colNames=list()\n",
    "colNames_test=list()\n",
    "\n",
    "def getFullDf():\n",
    "    global colNames\n",
    "    colNames=list(df)\n",
    "    return df\n",
    "\n",
    "def getFullDfTest():\n",
    "    global colNames_test\n",
    "    colNames_test=list(df_test)\n",
    "    return df_test\n",
    "\n",
    "def getReducedDf():\n",
    "    global colNames\n",
    "    df_reduced=df.drop('protocol_type', axis=1, inplace=False)\n",
    "    df_reduced=df_reduced.drop('service', axis=1, inplace=False)\n",
    "    df_reduced=df_reduced.drop('flag', axis=1, inplace=False)\n",
    "    colNames=list(df_reduced)\n",
    "    return df_reduced\n",
    "\n",
    "def getReducedDfTest():\n",
    "    global colNames_test\n",
    "    df_reduced=df_test.drop('protocol_type', axis=1, inplace=False)\n",
    "    df_reduced=df_reduced.drop('service', axis=1, inplace=False)\n",
    "    df_reduced=df_reduced.drop('flag', axis=1, inplace=False)\n",
    "    colNames_test=list(df_reduced)\n",
    "    return df_reduced\n",
    "\n",
    "def oneHotEcoding(df, column_name):\n",
    "    df_drop = df.drop(column_name, axis=1, inplace=False)\n",
    "    one_hot = pd.get_dummies(df[column_name])\n",
    "    if(column_name == 'service'):\n",
    "        column_list=list()\n",
    "        for string in one_hot.columns.tolist():\n",
    "            column_list.append(column_name+'_'+str(string))\n",
    "        one_hot.columns=column_list\n",
    "    df = pd.concat([df_drop, one_hot], axis=1)\n",
    "    \n",
    "    return df\n",
    "\n",
    "def getXandY(df):\n",
    "    X = df.drop('label',axis=1, inplace=False)\n",
    "    Y = df.label\n",
    "    return X, Y\n",
    "\n",
    "def overSampledDF(X, Y): \n",
    "    sm = SMOTE(random_state=42)\n",
    "    X_resampled, Y_resampled = sm.fit_resample(X, Y)\n",
    "    df = pd.concat([X_resampled, Y_resampled], axis=1)\n",
    "    return df\n",
    "\n",
    "def createMulticlassDF(df):\n",
    "    to_drop_DoS = [0,1]\n",
    "    to_drop_Probe = [0,2]\n",
    "    to_drop_R2L = [0,3]\n",
    "    to_drop_U2R = [0,4]\n",
    "\n",
    "    DoS_df=df[df['label'].isin(to_drop_DoS)];\n",
    "    Probe_df=df[df['label'].isin(to_drop_Probe)];\n",
    "    R2L_df=df[df['label'].isin(to_drop_R2L)];\n",
    "    U2R_df=df[df['label'].isin(to_drop_U2R)];\n",
    "    return DoS_df, Probe_df, R2L_df, U2R_df \n",
    "\n",
    "def standardScaler(df):\n",
    "    scaler = preprocessing.StandardScaler().fit(df)\n",
    "    return scaler.transform(df) \n",
    "\n",
    "def minMaxScaler(df):\n",
    "    scaler = preprocessing.MinMaxScaler().fit(df)\n",
    "    return scaler.transform(df)\n",
    "\n",
    "def recursiveFeatureExtraction(model, X, Y, n):\n",
    "    rfe = RFE(model, n_features_to_select=n)\n",
    "    rfe.fit(X, Y)\n",
    "    X=rfe.transform(X)\n",
    "    true=rfe.support_\n",
    "    rfecolindex=[i for i, x in enumerate(true) if x]\n",
    "    rfecolname=list(colNames[i] for i in rfecolindex)\n",
    "    return X, rfecolindex\n",
    "\n",
    "def adaptTestset(train, test):\n",
    "    train_service_list=[]\n",
    "    test_service_list = []\n",
    "    \n",
    "    for string in train.columns.tolist():\n",
    "        if('service' in string):\n",
    "            train_service_list.append(string)\n",
    "    \n",
    "    for string in test.columns.tolist():\n",
    "        if('service' in string):\n",
    "            test_service_list.append(string)\n",
    "\n",
    "    difference=list(set(train_service_list) - set(test_service_list))\n",
    "\n",
    "    for col in difference:\n",
    "        test[col] = 0\n",
    "    return test.reindex(columns=train.columns)\n",
    "\n",
    "# Algorythms-------------------------------------------------------------------------------------------------------------------- \n",
    "\n",
    "def logisticRegression(X, Y):\n",
    "    clf = LogisticRegression(max_iter=10000)\n",
    "    return clf.fit(X, Y)\n",
    "\n",
    "def stratifiedCV(model, X, Y, k, pos_label):\n",
    "    skf = StratifiedKFold(n_splits=k)\n",
    "  \n",
    "    precision_test_sum = 0\n",
    "    recall_test_sum = 0\n",
    "    f1_test_sum = 0\n",
    "    accuracy_test_sum = 0  \n",
    "    precision_train_sum = 0\n",
    "    recall_train_sum = 0\n",
    "    f1_train_sum = 0\n",
    "    accuracy_train_sum = 0 \n",
    "\n",
    "    for train_index, test_index in skf.split(X, Y):\n",
    "        X_train, X_test = X.iloc[train_index], X.iloc[test_index]\n",
    "        y_train, y_test = Y.iloc[train_index], Y.iloc[test_index]\n",
    "        model.fit(X_train, y_train)\n",
    "        y_test_pred = model.predict(X_test)\n",
    "        y_train_pred = model.predict(X_train)\n",
    "\n",
    "        test_accuracy = accuracy_score(y_test, y_test_pred)\n",
    "        test_precision = precision_score(y_test, y_test_pred, pos_label=pos_label)\n",
    "        test_recall = recall_score(y_test, y_test_pred, pos_label=pos_label)\n",
    "        test_f1 = f1_score(y_test, y_test_pred, pos_label=pos_label)\n",
    "\n",
    "        train_accuracy = accuracy_score(y_train, y_train_pred)\n",
    "        train_precision = precision_score(y_train, y_train_pred, pos_label=pos_label)\n",
    "        train_recall = recall_score(y_train, y_train_pred, pos_label=pos_label)\n",
    "        train_f1 = f1_score(y_train, y_train_pred, pos_label=pos_label)\n",
    "    \n",
    "        accuracy_test_sum += test_accuracy\n",
    "        precision_test_sum += test_precision\n",
    "        recall_test_sum += test_recall\n",
    "        f1_test_sum += test_f1\n",
    "\n",
    "        accuracy_train_sum += train_accuracy\n",
    "        precision_train_sum += train_precision\n",
    "        recall_train_sum += train_recall\n",
    "        f1_train_sum += train_f1\n",
    "\n",
    "        train_0, train_1 = len(y_train[y_train==0]), len(y_train[y_train==pos_label])\n",
    "        test_0, test_1 = len(y_test[y_test==0]), len(y_test[y_test==pos_label])\n",
    "        print('>Train: 0=%d, 1=%d, Test: 0=%d, 1=%d' % (train_0, train_1, test_0, test_1))\n",
    "\n",
    "    accuracy_test_mean = accuracy_test_sum / skf.n_splits \n",
    "    precision_test_mean = precision_test_sum / skf.n_splits\n",
    "    recall_test_mean = recall_test_sum / skf.n_splits\n",
    "    f1_test_mean = f1_test_sum / skf.n_splits\n",
    "\n",
    "    accuracy_train_mean = accuracy_train_sum / skf.n_splits \n",
    "    precision_train_mean = precision_train_sum / skf.n_splits\n",
    "    recall_train_mean = recall_train_sum / skf.n_splits\n",
    "    f1_train_mean = f1_train_sum / skf.n_splits\n",
    "\n",
    "    return {\"Mean Training Accuracy\": accuracy_train_mean,\n",
    "      \"Mean Training Precision\": precision_train_mean,\n",
    "      \"Mean Training Recall\": recall_train_mean,\n",
    "      \"Mean Training F1 Score\": f1_train_mean,\n",
    "      \"Mean Validation Accuracy\": accuracy_test_mean,\n",
    "      \"Mean Validation Precision\": precision_test_mean,\n",
    "      \"Mean Validation Recall\": recall_test_mean,\n",
    "      \"Mean Validation F1 Score\": f1_test_mean}\n",
    "  \n",
    "    \n",
    "def KfoldCV(model, X, Y, k, pos_label):\n",
    "    skf = KFold(n_splits=k)\n",
    "  \n",
    "    precision_test_sum = 0\n",
    "    recall_test_sum = 0\n",
    "    f1_test_sum = 0\n",
    "    accuracy_test_sum = 0  \n",
    "    precision_train_sum = 0\n",
    "    recall_train_sum = 0\n",
    "    f1_train_sum = 0\n",
    "    accuracy_train_sum = 0 \n",
    "\n",
    "    for train_index, test_index in skf.split(X, Y):\n",
    "        X_train, X_test = X.iloc[train_index], X.iloc[test_index]\n",
    "        y_train, y_test = Y.iloc[train_index], Y.iloc[test_index]\n",
    "        model.fit(X_train, y_train)\n",
    "        y_test_pred = model.predict(X_test)\n",
    "        y_train_pred = model.predict(X_train)\n",
    "\n",
    "        test_accuracy = accuracy_score(y_test, y_test_pred )\n",
    "        test_precision = precision_score(y_test, y_test_pred, pos_label=pos_label)\n",
    "        test_recall = recall_score(y_test, y_test_pred, pos_label=pos_label)\n",
    "        test_f1 = f1_score(y_test, y_test_pred, pos_label=pos_label)\n",
    "\n",
    "        train_accuracy = accuracy_score(y_train, y_train_pred)\n",
    "        train_precision = precision_score(y_train, y_train_pred, pos_label=pos_label)\n",
    "        train_recall = recall_score(y_train, y_train_pred, pos_label=pos_label)\n",
    "        train_f1 = f1_score(y_train, y_train_pred, pos_label=pos_label)\n",
    "    \n",
    "        accuracy_test_sum += test_accuracy\n",
    "        precision_test_sum += test_precision\n",
    "        recall_test_sum += test_recall\n",
    "        f1_test_sum += test_f1\n",
    "\n",
    "        accuracy_train_sum += train_accuracy\n",
    "        precision_train_sum += train_precision\n",
    "        recall_train_sum += train_recall\n",
    "        f1_train_sum += train_f1\n",
    "\n",
    "        train_0, train_1 = len(y_train[y_train==0]), len(y_train[y_train==pos_label])\n",
    "        test_0, test_1 = len(y_test[y_test==0]), len(y_test[y_test==pos_label])\n",
    "        print('>Train: 0=%d, 1=%d, Test: 0=%d, 1=%d' % (train_0, train_1, test_0, test_1))\n",
    "\n",
    "    accuracy_test_mean = accuracy_test_sum / skf.n_splits \n",
    "    precision_test_mean = precision_test_sum / skf.n_splits\n",
    "    recall_test_mean = recall_test_sum / skf.n_splits\n",
    "    f1_test_mean = f1_test_sum / skf.n_splits\n",
    "\n",
    "    accuracy_train_mean = accuracy_train_sum / skf.n_splits \n",
    "    precision_train_mean = precision_train_sum / skf.n_splits\n",
    "    recall_train_mean = recall_train_sum / skf.n_splits\n",
    "    f1_train_mean = f1_train_sum / skf.n_splits\n",
    "\n",
    "    return {\"Mean Training Accuracy\": accuracy_train_mean,\n",
    "      \"Mean Training Precision\": precision_train_mean,\n",
    "      \"Mean Training Recall\": recall_train_mean,\n",
    "      \"Mean Training F1 Score\": f1_train_mean,\n",
    "      \"Mean Validation Accuracy\": accuracy_test_mean,\n",
    "      \"Mean Validation Precision\": precision_test_mean,\n",
    "      \"Mean Validation Recall\": recall_test_mean,\n",
    "      \"Mean Validation F1 Score\": f1_test_mean}\n",
    "\n",
    "#Plotting-----------------------------------------------------------------------------------------------------------------------\n",
    "\n",
    "def plotDf(y):\n",
    "    plt.figure(figsize=(10,5))\n",
    "    class_distribution = y.value_counts()\n",
    "    class_distribution.plot(kind='bar')\n",
    "    plt.xlabel('Class')\n",
    "    plt.ylabel('Data points per Class')\n",
    "    plt.title('Distribution of yi in train data')\n",
    "    plt.grid()\n",
    "    return plt\n",
    "\n",
    "def plotConfusionMatrix(Y_pred, Y_test, pos_label):\n",
    "    skplt.metrics.plot_confusion_matrix(Y_test, Y_pred)\n",
    "    plt.show()\n",
    "    accuracy = accuracy_score(Y_test, Y_pred)\n",
    "    print(\"Accuracy: %0.5f \" % accuracy)\n",
    "    precision = precision_score(Y_test, Y_pred, pos_label=pos_label)\n",
    "    print(\"Precision: %0.5f \" % precision)\n",
    "    recall = recall_score(Y_test, Y_pred, pos_label=pos_label)\n",
    "    print(\"Recall: %0.5f \" % recall)\n",
    "    f = f1_score(Y_test, Y_pred, pos_label=pos_label)\n",
    "    print(\"F-measure: %0.5f \" % f)"
   ]
  },
  {
   "cell_type": "markdown",
   "metadata": {},
   "source": [
    "# Reduced DF, no oversampling"
   ]
  },
  {
   "cell_type": "code",
   "execution_count": 4,
   "metadata": {
    "colab": {
     "base_uri": "https://localhost:8080/",
     "height": 364
    },
    "executionInfo": {
     "elapsed": 825,
     "status": "ok",
     "timestamp": 1675868788597,
     "user": {
      "displayName": "DANIELE PALMIERI",
      "userId": "13749636301499067245"
     },
     "user_tz": -60
    },
    "id": "Sd9I2blW6SOK",
    "outputId": "3143ab84-9747-481a-8ba0-863344ad6186"
   },
   "outputs": [
    {
     "data": {
      "text/plain": [
       "<module 'matplotlib.pyplot' from 'C:\\\\Users\\\\Daniele\\\\anaconda3\\\\lib\\\\site-packages\\\\matplotlib\\\\pyplot.py'>"
      ]
     },
     "execution_count": 4,
     "metadata": {},
     "output_type": "execute_result"
    },
    {
     "data": {
      "image/png": "[encoded data removed]",
      "text/plain": [
       "<Figure size 720x360 with 1 Axes>"
      ]
     },
     "metadata": {
      "needs_background": "light"
     },
     "output_type": "display_data"
    }
   ],
   "source": [
    "reducedDf = getReducedDf()\n",
    "reducedDf_test = getReducedDfTest()\n",
    "\n",
    "reducedDf['label'], reducedDf_test['label'] = prepareMulticlass()\n",
    "\n",
    "plotDf(reducedDf['label'])\n"
   ]
  },
  {
   "cell_type": "code",
   "execution_count": 5,
   "metadata": {
    "id": "zyuGPMoLbxc-"
   },
   "outputs": [],
   "source": [
    "#Preparo i dataframe per ogni classe di attacco\n",
    "dos, probe, r2l, u2r = createMulticlassDF(reducedDf)\n",
    "dos_test, probe_test, r2l_test, u2r_test = createMulticlassDF(reducedDf_test)\n",
    "\n",
    "X_dos, y_dos = getXandY(dos)\n",
    "X_probe, y_probe = getXandY(probe)\n",
    "X_r2l, y_r2l = getXandY(r2l)\n",
    "X_u2r, y_u2r = getXandY(u2r)\n",
    "\n",
    "X_dos_test, y_dos_test = getXandY(dos_test)\n",
    "X_probe_test, y_probe_test = getXandY(probe_test)\n",
    "X_r2l_test, y_r2l_test = getXandY(r2l_test)\n",
    "X_u2r_test, y_u2r_test = getXandY(u2r_test)"
   ]
  },
  {
   "cell_type": "code",
   "execution_count": 6,
   "metadata": {
    "id": "JPdFVffDAz33"
   },
   "outputs": [],
   "source": [
    "#Effettuo standard scaler\n",
    "X_dos_ss=standardScaler(X_dos)\n",
    "X_probe_ss=standardScaler(X_probe)\n",
    "X_r2l_ss=standardScaler(X_r2l)\n",
    "X_u2r_ss=standardScaler(X_u2r)\n",
    "\n",
    "X_dos_test_ss=standardScaler(X_dos_test)\n",
    "X_probe_test_ss=standardScaler(X_probe_test)\n",
    "X_r2l_test_ss=standardScaler(X_r2l_test)\n",
    "X_u2r_test_ss=standardScaler(X_u2r_test)"
   ]
  },
  {
   "cell_type": "markdown",
   "metadata": {
    "id": "4R7xuyWpitQi"
   },
   "source": [
    "## No feature selection"
   ]
  },
  {
   "cell_type": "markdown",
   "metadata": {},
   "source": [
    "#### K-fold cross validation on dos"
   ]
  },
  {
   "cell_type": "code",
   "execution_count": 7,
   "metadata": {
    "scrolled": true
   },
   "outputs": [
    {
     "name": "stdout",
     "output_type": "stream",
     "text": [
      ">Train: 0=60666, 1=41277, Test: 0=6677, 1=4650\n",
      ">Train: 0=60586, 1=41357, Test: 0=6757, 1=4570\n",
      ">Train: 0=60612, 1=41331, Test: 0=6731, 1=4596\n",
      ">Train: 0=60720, 1=41223, Test: 0=6623, 1=4704\n",
      ">Train: 0=60634, 1=41309, Test: 0=6709, 1=4618\n",
      ">Train: 0=60525, 1=41418, Test: 0=6818, 1=4509\n",
      ">Train: 0=60548, 1=41395, Test: 0=6795, 1=4532\n",
      ">Train: 0=60557, 1=41386, Test: 0=6786, 1=4541\n",
      ">Train: 0=60662, 1=41281, Test: 0=6681, 1=4646\n",
      ">Train: 0=60577, 1=41366, Test: 0=6766, 1=4561\n"
     ]
    },
    {
     "data": {
      "text/plain": [
       "{'Mean Training Accuracy': 0.9623799574271897,\n",
       " 'Mean Training Precision': 0.978830303515329,\n",
       " 'Mean Training Recall': 0.9271887311234023,\n",
       " 'Mean Training F1 Score': 0.9522686915286316,\n",
       " 'Mean Validation Accuracy': 0.9623995762337776,\n",
       " 'Mean Validation Precision': 0.9789746844824376,\n",
       " 'Mean Validation Recall': 0.927056726514276,\n",
       " 'Mean Validation F1 Score': 0.9522714022527208}"
      ]
     },
     "execution_count": 7,
     "metadata": {},
     "output_type": "execute_result"
    }
   ],
   "source": [
    "KfoldCV(LogisticRegression(max_iter=10000), pd.DataFrame(X_dos), y_dos, 10, 1)"
   ]
  },
  {
   "cell_type": "markdown",
   "metadata": {},
   "source": [
    "#### K-fold cross validation on dos Standard Scaler"
   ]
  },
  {
   "cell_type": "code",
   "execution_count": 8,
   "metadata": {
    "scrolled": true
   },
   "outputs": [
    {
     "name": "stdout",
     "output_type": "stream",
     "text": [
      ">Train: 0=60666, 1=41277, Test: 0=6677, 1=4650\n",
      ">Train: 0=60586, 1=41357, Test: 0=6757, 1=4570\n",
      ">Train: 0=60612, 1=41331, Test: 0=6731, 1=4596\n",
      ">Train: 0=60720, 1=41223, Test: 0=6623, 1=4704\n",
      ">Train: 0=60634, 1=41309, Test: 0=6709, 1=4618\n",
      ">Train: 0=60525, 1=41418, Test: 0=6818, 1=4509\n",
      ">Train: 0=60548, 1=41395, Test: 0=6795, 1=4532\n",
      ">Train: 0=60557, 1=41386, Test: 0=6786, 1=4541\n",
      ">Train: 0=60662, 1=41281, Test: 0=6681, 1=4646\n",
      ">Train: 0=60577, 1=41366, Test: 0=6766, 1=4561\n"
     ]
    },
    {
     "data": {
      "text/plain": [
       "{'Mean Training Accuracy': 0.989919857175088,\n",
       " 'Mean Training Precision': 0.988899290857508,\n",
       " 'Mean Training Recall': 0.9862098846710257,\n",
       " 'Mean Training F1 Score': 0.9875527402805331,\n",
       " 'Mean Validation Accuracy': 0.989856096053677,\n",
       " 'Mean Validation Precision': 0.9888078143416228,\n",
       " 'Mean Validation Recall': 0.9861350374267499,\n",
       " 'Mean Validation F1 Score': 0.9874670394805423}"
      ]
     },
     "execution_count": 8,
     "metadata": {},
     "output_type": "execute_result"
    }
   ],
   "source": [
    "KfoldCV(LogisticRegression(max_iter=10000), pd.DataFrame(X_dos_ss), y_dos, 10, 1)"
   ]
  },
  {
   "cell_type": "markdown",
   "metadata": {},
   "source": [
    "#### Stratified cross validation on dos"
   ]
  },
  {
   "cell_type": "code",
   "execution_count": 9,
   "metadata": {},
   "outputs": [
    {
     "name": "stdout",
     "output_type": "stream",
     "text": [
      ">Train: 0=60608, 1=41335, Test: 0=6735, 1=4592\n",
      ">Train: 0=60608, 1=41335, Test: 0=6735, 1=4592\n",
      ">Train: 0=60608, 1=41335, Test: 0=6735, 1=4592\n",
      ">Train: 0=60609, 1=41334, Test: 0=6734, 1=4593\n",
      ">Train: 0=60609, 1=41334, Test: 0=6734, 1=4593\n",
      ">Train: 0=60609, 1=41334, Test: 0=6734, 1=4593\n",
      ">Train: 0=60609, 1=41334, Test: 0=6734, 1=4593\n",
      ">Train: 0=60609, 1=41334, Test: 0=6734, 1=4593\n",
      ">Train: 0=60609, 1=41334, Test: 0=6734, 1=4593\n",
      ">Train: 0=60609, 1=41334, Test: 0=6734, 1=4593\n"
     ]
    },
    {
     "data": {
      "text/plain": [
       "{'Mean Training Accuracy': 0.9677260822224184,\n",
       " 'Mean Training Precision': 0.9835554883163347,\n",
       " 'Mean Training Recall': 0.9359515773719644,\n",
       " 'Mean Training F1 Score': 0.9591244066287826,\n",
       " 'Mean Validation Accuracy': 0.967617197845855,\n",
       " 'Mean Validation Precision': 0.9836878873643469,\n",
       " 'Mean Validation Recall': 0.9355493342770508,\n",
       " 'Mean Validation F1 Score': 0.9589699764474385}"
      ]
     },
     "execution_count": 9,
     "metadata": {},
     "output_type": "execute_result"
    }
   ],
   "source": [
    "stratifiedCV(LogisticRegression(max_iter=10000), pd.DataFrame(X_dos), y_dos, 10, 1)"
   ]
  },
  {
   "cell_type": "markdown",
   "metadata": {},
   "source": [
    "#### Stratified cross validation on dos Standard Scaler"
   ]
  },
  {
   "cell_type": "code",
   "execution_count": 10,
   "metadata": {},
   "outputs": [
    {
     "name": "stdout",
     "output_type": "stream",
     "text": [
      ">Train: 0=60608, 1=41335, Test: 0=6735, 1=4592\n",
      ">Train: 0=60608, 1=41335, Test: 0=6735, 1=4592\n",
      ">Train: 0=60608, 1=41335, Test: 0=6735, 1=4592\n",
      ">Train: 0=60609, 1=41334, Test: 0=6734, 1=4593\n",
      ">Train: 0=60609, 1=41334, Test: 0=6734, 1=4593\n",
      ">Train: 0=60609, 1=41334, Test: 0=6734, 1=4593\n",
      ">Train: 0=60609, 1=41334, Test: 0=6734, 1=4593\n",
      ">Train: 0=60609, 1=41334, Test: 0=6734, 1=4593\n",
      ">Train: 0=60609, 1=41334, Test: 0=6734, 1=4593\n",
      ">Train: 0=60609, 1=41334, Test: 0=6734, 1=4593\n"
     ]
    },
    {
     "data": {
      "text/plain": [
       "{'Mean Training Accuracy': 0.989914952473441,\n",
       " 'Mean Training Precision': 0.9888942777984878,\n",
       " 'Mean Training Recall': 0.9862027425635682,\n",
       " 'Mean Training F1 Score': 0.9875466569824736,\n",
       " 'Mean Validation Accuracy': 0.9898649245166415,\n",
       " 'Mean Validation Precision': 0.9888259545457666,\n",
       " 'Mean Validation Recall': 0.9861519925792243,\n",
       " 'Mean Validation F1 Score': 0.9874842414772772}"
      ]
     },
     "execution_count": 10,
     "metadata": {},
     "output_type": "execute_result"
    }
   ],
   "source": [
    "stratifiedCV(LogisticRegression(max_iter=10000), pd.DataFrame(X_dos_ss), y_dos, 10, 1)"
   ]
  },
  {
   "cell_type": "markdown",
   "metadata": {},
   "source": [
    "#### Predict on dos"
   ]
  },
  {
   "cell_type": "code",
   "execution_count": 11,
   "metadata": {},
   "outputs": [
    {
     "data": {
      "image/png": "[encoded data removed]",
      "text/plain": [
       "<Figure size 432x288 with 2 Axes>"
      ]
     },
     "metadata": {
      "needs_background": "light"
     },
     "output_type": "display_data"
    },
    {
     "name": "stdout",
     "output_type": "stream",
     "text": [
      "Accuracy: 0.81579 \n",
      "Precision: 0.90136 \n",
      "Recall: 0.64678 \n",
      "F-measure: 0.75314 \n"
     ]
    }
   ],
   "source": [
    "y_dos_prediction = logisticRegression(X_dos, y_dos).predict(X_dos_test)\n",
    "plotConfusionMatrix(y_dos_prediction, y_dos_test, 1)"
   ]
  },
  {
   "cell_type": "code",
   "execution_count": 12,
   "metadata": {
    "colab": {
     "base_uri": "https://localhost:8080/",
     "height": 364
    },
    "executionInfo": {
     "elapsed": 4929,
     "status": "ok",
     "timestamp": 1675470845682,
     "user": {
      "displayName": "DANIELE PALMIERI",
      "userId": "13749636301499067245"
     },
     "user_tz": -60
    },
    "id": "Joltm67yirLe",
    "outputId": "ed2979dd-8dd0-40a2-f7aa-697b4804a602"
   },
   "outputs": [
    {
     "data": {
      "image/png": "[encoded data removed]",
      "text/plain": [
       "<Figure size 432x288 with 2 Axes>"
      ]
     },
     "metadata": {
      "needs_background": "light"
     },
     "output_type": "display_data"
    },
    {
     "name": "stdout",
     "output_type": "stream",
     "text": [
      "Accuracy: 0.88486 \n",
      "Precision: 0.90863 \n",
      "Recall: 0.81716 \n",
      "F-measure: 0.86047 \n"
     ]
    }
   ],
   "source": [
    "y_dos_prediction = logisticRegression(X_dos_ss, y_dos).predict(X_dos_test_ss)\n",
    "plotConfusionMatrix(y_dos_prediction, y_dos_test, 1)"
   ]
  },
  {
   "cell_type": "markdown",
   "metadata": {},
   "source": [
    "#### K-fold cross validation on probe"
   ]
  },
  {
   "cell_type": "code",
   "execution_count": 13,
   "metadata": {},
   "outputs": [
    {
     "name": "stdout",
     "output_type": "stream",
     "text": [
      ">Train: 0=60593, 1=10506, Test: 0=6750, 1=1150\n",
      ">Train: 0=60590, 1=10509, Test: 0=6753, 1=1147\n",
      ">Train: 0=60636, 1=10463, Test: 0=6707, 1=1193\n",
      ">Train: 0=60669, 1=10430, Test: 0=6674, 1=1226\n",
      ">Train: 0=60629, 1=10470, Test: 0=6714, 1=1186\n",
      ">Train: 0=60576, 1=10523, Test: 0=6767, 1=1133\n",
      ">Train: 0=60547, 1=10552, Test: 0=6796, 1=1104\n",
      ">Train: 0=60628, 1=10471, Test: 0=6715, 1=1185\n",
      ">Train: 0=60592, 1=10507, Test: 0=6751, 1=1149\n",
      ">Train: 0=60627, 1=10473, Test: 0=6716, 1=1183\n"
     ]
    },
    {
     "data": {
      "text/plain": [
       "{'Mean Training Accuracy': 0.8755962008284282,\n",
       " 'Mean Training Precision': 0.7963166735984245,\n",
       " 'Mean Training Recall': 0.19729739817308117,\n",
       " 'Mean Training F1 Score': 0.30844147941979033,\n",
       " 'Mean Validation Accuracy': 0.8755931178598155,\n",
       " 'Mean Validation Precision': 0.8083017194082303,\n",
       " 'Mean Validation Recall': 0.1979490921764083,\n",
       " 'Mean Validation F1 Score': 0.3094624822078397}"
      ]
     },
     "execution_count": 13,
     "metadata": {},
     "output_type": "execute_result"
    }
   ],
   "source": [
    "KfoldCV(LogisticRegression(max_iter=10000), pd.DataFrame(X_probe), y_probe, 10, 2)"
   ]
  },
  {
   "cell_type": "markdown",
   "metadata": {},
   "source": [
    "#### K-fold cross validation on probe Standard Scaler"
   ]
  },
  {
   "cell_type": "code",
   "execution_count": 14,
   "metadata": {},
   "outputs": [
    {
     "name": "stdout",
     "output_type": "stream",
     "text": [
      ">Train: 0=60593, 1=10506, Test: 0=6750, 1=1150\n",
      ">Train: 0=60590, 1=10509, Test: 0=6753, 1=1147\n",
      ">Train: 0=60636, 1=10463, Test: 0=6707, 1=1193\n",
      ">Train: 0=60669, 1=10430, Test: 0=6674, 1=1226\n",
      ">Train: 0=60629, 1=10470, Test: 0=6714, 1=1186\n",
      ">Train: 0=60576, 1=10523, Test: 0=6767, 1=1133\n",
      ">Train: 0=60547, 1=10552, Test: 0=6796, 1=1104\n",
      ">Train: 0=60628, 1=10471, Test: 0=6715, 1=1185\n",
      ">Train: 0=60592, 1=10507, Test: 0=6751, 1=1149\n",
      ">Train: 0=60627, 1=10473, Test: 0=6716, 1=1183\n"
     ]
    },
    {
     "data": {
      "text/plain": [
       "{'Mean Training Accuracy': 0.9586422323232304,\n",
       " 'Mean Training Precision': 0.8715981637542113,\n",
       " 'Mean Training Recall': 0.8440450563689226,\n",
       " 'Mean Training F1 Score': 0.8575985580958803,\n",
       " 'Mean Validation Accuracy': 0.9583159316753761,\n",
       " 'Mean Validation Precision': 0.8700326987549776,\n",
       " 'Mean Validation Recall': 0.8433586918960172,\n",
       " 'Mean Validation F1 Score': 0.8564355433480053}"
      ]
     },
     "execution_count": 14,
     "metadata": {},
     "output_type": "execute_result"
    }
   ],
   "source": [
    "KfoldCV(LogisticRegression(max_iter=10000), pd.DataFrame(X_probe_ss), y_probe, 10, 2)"
   ]
  },
  {
   "cell_type": "markdown",
   "metadata": {},
   "source": [
    "#### Stratified cross validation on probe"
   ]
  },
  {
   "cell_type": "code",
   "execution_count": 15,
   "metadata": {},
   "outputs": [
    {
     "name": "stdout",
     "output_type": "stream",
     "text": [
      ">Train: 0=60608, 1=10491, Test: 0=6735, 1=1165\n",
      ">Train: 0=60608, 1=10491, Test: 0=6735, 1=1165\n",
      ">Train: 0=60608, 1=10491, Test: 0=6735, 1=1165\n",
      ">Train: 0=60609, 1=10490, Test: 0=6734, 1=1166\n",
      ">Train: 0=60609, 1=10490, Test: 0=6734, 1=1166\n",
      ">Train: 0=60609, 1=10490, Test: 0=6734, 1=1166\n",
      ">Train: 0=60609, 1=10490, Test: 0=6734, 1=1166\n",
      ">Train: 0=60609, 1=10490, Test: 0=6734, 1=1166\n",
      ">Train: 0=60609, 1=10490, Test: 0=6734, 1=1166\n",
      ">Train: 0=60609, 1=10491, Test: 0=6734, 1=1165\n"
     ]
    },
    {
     "data": {
      "text/plain": [
       "{'Mean Training Accuracy': 0.8730560436430344,\n",
       " 'Mean Training Precision': 0.7796874943710099,\n",
       " 'Mean Training Recall': 0.17891291995799388,\n",
       " 'Mean Training F1 Score': 0.2815839222563688,\n",
       " 'Mean Validation Accuracy': 0.8728213137057887,\n",
       " 'Mean Validation Precision': 0.7735688135933689,\n",
       " 'Mean Validation Recall': 0.17796221998100695,\n",
       " 'Mean Validation F1 Score': 0.27941520644990614}"
      ]
     },
     "execution_count": 15,
     "metadata": {},
     "output_type": "execute_result"
    }
   ],
   "source": [
    "stratifiedCV(LogisticRegression(max_iter=10000), pd.DataFrame(X_probe), y_probe, 10, 2)"
   ]
  },
  {
   "cell_type": "markdown",
   "metadata": {},
   "source": [
    "#### Stratified cross validation on probe Standard Scaler"
   ]
  },
  {
   "cell_type": "code",
   "execution_count": 16,
   "metadata": {},
   "outputs": [
    {
     "name": "stdout",
     "output_type": "stream",
     "text": [
      ">Train: 0=60608, 1=10491, Test: 0=6735, 1=1165\n",
      ">Train: 0=60608, 1=10491, Test: 0=6735, 1=1165\n",
      ">Train: 0=60608, 1=10491, Test: 0=6735, 1=1165\n",
      ">Train: 0=60609, 1=10490, Test: 0=6734, 1=1166\n",
      ">Train: 0=60609, 1=10490, Test: 0=6734, 1=1166\n",
      ">Train: 0=60609, 1=10490, Test: 0=6734, 1=1166\n",
      ">Train: 0=60609, 1=10490, Test: 0=6734, 1=1166\n",
      ">Train: 0=60609, 1=10490, Test: 0=6734, 1=1166\n",
      ">Train: 0=60609, 1=10490, Test: 0=6734, 1=1166\n",
      ">Train: 0=60609, 1=10491, Test: 0=6734, 1=1165\n"
     ]
    },
    {
     "data": {
      "text/plain": [
       "{'Mean Training Accuracy': 0.9586042572440492,\n",
       " 'Mean Training Precision': 0.8713923739970475,\n",
       " 'Mean Training Recall': 0.8440097540594739,\n",
       " 'Mean Training F1 Score': 0.8574812504887375,\n",
       " 'Mean Validation Accuracy': 0.9584678320120638,\n",
       " 'Mean Validation Precision': 0.871042254658861,\n",
       " 'Mean Validation Recall': 0.8435143809951487,\n",
       " 'Mean Validation F1 Score': 0.8570130571398797}"
      ]
     },
     "execution_count": 16,
     "metadata": {},
     "output_type": "execute_result"
    }
   ],
   "source": [
    "stratifiedCV(LogisticRegression(max_iter=10000), pd.DataFrame(X_probe_ss), y_probe, 10, 2)"
   ]
  },
  {
   "cell_type": "markdown",
   "metadata": {},
   "source": [
    "#### Predict on probe"
   ]
  },
  {
   "cell_type": "code",
   "execution_count": 17,
   "metadata": {},
   "outputs": [
    {
     "data": {
      "image/png": "[encoded data removed]",
      "text/plain": [
       "<Figure size 432x288 with 2 Axes>"
      ]
     },
     "metadata": {
      "needs_background": "light"
     },
     "output_type": "display_data"
    },
    {
     "name": "stdout",
     "output_type": "stream",
     "text": [
      "Accuracy: 0.79863 \n",
      "Precision: 0.00000 \n",
      "Recall: 0.00000 \n",
      "F-measure: 0.00000 \n"
     ]
    }
   ],
   "source": [
    "y_probe_prediction = logisticRegression(X_probe, y_probe).predict(X_probe_test)\n",
    "plotConfusionMatrix(y_probe_prediction, y_probe_test, 2)"
   ]
  },
  {
   "cell_type": "code",
   "execution_count": 18,
   "metadata": {
    "colab": {
     "base_uri": "https://localhost:8080/",
     "height": 364
    },
    "executionInfo": {
     "elapsed": 6347,
     "status": "ok",
     "timestamp": 1675467170864,
     "user": {
      "displayName": "DANIELE PALMIERI",
      "userId": "13749636301499067245"
     },
     "user_tz": -60
    },
    "id": "h5WF5zwFi1Hp",
    "outputId": "d3e61c1d-fb82-4f4e-dbee-25386bf77bb7"
   },
   "outputs": [
    {
     "data": {
      "image/png": "[encoded data removed]",
      "text/plain": [
       "<Figure size 432x288 with 2 Axes>"
      ]
     },
     "metadata": {
      "needs_background": "light"
     },
     "output_type": "display_data"
    },
    {
     "name": "stdout",
     "output_type": "stream",
     "text": [
      "Accuracy: 0.93876 \n",
      "Precision: 0.90531 \n",
      "Recall: 0.77406 \n",
      "F-measure: 0.83456 \n"
     ]
    }
   ],
   "source": [
    "y_probe_prediction = logisticRegression(X_probe_ss, y_probe).predict(X_probe_test_ss)\n",
    "plotConfusionMatrix(y_probe_prediction, y_probe_test, 2)"
   ]
  },
  {
   "cell_type": "markdown",
   "metadata": {},
   "source": [
    "#### K-fold cross validation on r2l"
   ]
  },
  {
   "cell_type": "code",
   "execution_count": 19,
   "metadata": {},
   "outputs": [
    {
     "name": "stdout",
     "output_type": "stream",
     "text": [
      ">Train: 0=60615, 1=889, Test: 0=6728, 1=106\n",
      ">Train: 0=60612, 1=892, Test: 0=6731, 1=103\n",
      ">Train: 0=60628, 1=876, Test: 0=6715, 1=119\n",
      ">Train: 0=60613, 1=891, Test: 0=6730, 1=104\n",
      ">Train: 0=60610, 1=894, Test: 0=6733, 1=101\n"
     ]
    },
    {
     "name": "stderr",
     "output_type": "stream",
     "text": [
      "C:\\Users\\Daniele\\anaconda3\\lib\\site-packages\\sklearn\\metrics\\_classification.py:1344: UndefinedMetricWarning: Precision is ill-defined and being set to 0.0 due to no predicted samples. Use `zero_division` parameter to control this behavior.\n",
      "  _warn_prf(average, modifier, msg_start, len(result))\n"
     ]
    },
    {
     "name": "stdout",
     "output_type": "stream",
     "text": [
      ">Train: 0=60591, 1=913, Test: 0=6752, 1=82\n",
      ">Train: 0=60599, 1=905, Test: 0=6744, 1=90\n",
      ">Train: 0=60597, 1=907, Test: 0=6746, 1=88\n",
      ">Train: 0=60614, 1=891, Test: 0=6729, 1=104\n",
      ">Train: 0=60608, 1=897, Test: 0=6735, 1=98\n"
     ]
    },
    {
     "data": {
      "text/plain": [
       "{'Mean Training Accuracy': 0.9855717168730985,\n",
       " 'Mean Training Precision': 0.6286889548057513,\n",
       " 'Mean Training Recall': 0.022339932740488518,\n",
       " 'Mean Training F1 Score': 0.04302110667478458,\n",
       " 'Mean Validation Accuracy': 0.9854985431311434,\n",
       " 'Mean Validation Precision': 0.5454761904761904,\n",
       " 'Mean Validation Recall': 0.02151570950794046,\n",
       " 'Mean Validation F1 Score': 0.04097677502540685}"
      ]
     },
     "execution_count": 19,
     "metadata": {},
     "output_type": "execute_result"
    }
   ],
   "source": [
    "KfoldCV(LogisticRegression(max_iter=10000), pd.DataFrame(X_r2l), y_r2l, 10, 3)"
   ]
  },
  {
   "cell_type": "markdown",
   "metadata": {},
   "source": [
    "#### K-fold cross validation on r2l Standard Scaler"
   ]
  },
  {
   "cell_type": "code",
   "execution_count": 20,
   "metadata": {},
   "outputs": [
    {
     "name": "stdout",
     "output_type": "stream",
     "text": [
      ">Train: 0=60615, 1=889, Test: 0=6728, 1=106\n",
      ">Train: 0=60612, 1=892, Test: 0=6731, 1=103\n",
      ">Train: 0=60628, 1=876, Test: 0=6715, 1=119\n",
      ">Train: 0=60613, 1=891, Test: 0=6730, 1=104\n",
      ">Train: 0=60610, 1=894, Test: 0=6733, 1=101\n",
      ">Train: 0=60591, 1=913, Test: 0=6752, 1=82\n",
      ">Train: 0=60599, 1=905, Test: 0=6744, 1=90\n",
      ">Train: 0=60597, 1=907, Test: 0=6746, 1=88\n",
      ">Train: 0=60614, 1=891, Test: 0=6729, 1=104\n",
      ">Train: 0=60608, 1=897, Test: 0=6735, 1=98\n"
     ]
    },
    {
     "data": {
      "text/plain": [
       "{'Mean Training Accuracy': 0.9921550069034513,\n",
       " 'Mean Training Precision': 0.7405773298624561,\n",
       " 'Mean Training Recall': 0.7095397657813326,\n",
       " 'Mean Training F1 Score': 0.7246957039786569,\n",
       " 'Mean Validation Accuracy': 0.9921127033285121,\n",
       " 'Mean Validation Precision': 0.7362812134657182,\n",
       " 'Mean Validation Recall': 0.7083492300983765,\n",
       " 'Mean Validation F1 Score': 0.7216602018074131}"
      ]
     },
     "execution_count": 20,
     "metadata": {},
     "output_type": "execute_result"
    }
   ],
   "source": [
    "KfoldCV(LogisticRegression(max_iter=10000), pd.DataFrame(X_r2l_ss), y_r2l, 10, 3)"
   ]
  },
  {
   "cell_type": "markdown",
   "metadata": {},
   "source": [
    "#### Stratified cross validation on r2l"
   ]
  },
  {
   "cell_type": "code",
   "execution_count": 21,
   "metadata": {},
   "outputs": [
    {
     "name": "stdout",
     "output_type": "stream",
     "text": [
      ">Train: 0=60608, 1=896, Test: 0=6735, 1=99\n",
      ">Train: 0=60608, 1=896, Test: 0=6735, 1=99\n",
      ">Train: 0=60608, 1=896, Test: 0=6735, 1=99\n",
      ">Train: 0=60609, 1=895, Test: 0=6734, 1=100\n",
      ">Train: 0=60609, 1=895, Test: 0=6734, 1=100\n",
      ">Train: 0=60609, 1=895, Test: 0=6734, 1=100\n",
      ">Train: 0=60609, 1=895, Test: 0=6734, 1=100\n",
      ">Train: 0=60609, 1=895, Test: 0=6734, 1=100\n",
      ">Train: 0=60609, 1=896, Test: 0=6734, 1=99\n",
      ">Train: 0=60609, 1=896, Test: 0=6734, 1=99\n"
     ]
    },
    {
     "data": {
      "text/plain": [
       "{'Mean Training Accuracy': 0.9855652133632361,\n",
       " 'Mean Training Precision': 0.6223246007149215,\n",
       " 'Mean Training Recall': 0.02210981145251397,\n",
       " 'Mean Training F1 Score': 0.04258795148454451,\n",
       " 'Mean Validation Accuracy': 0.9854692862595368,\n",
       " 'Mean Validation Precision': 0.5638095238095239,\n",
       " 'Mean Validation Recall': 0.021151515151515154,\n",
       " 'Mean Validation F1 Score': 0.0402637150070812}"
      ]
     },
     "execution_count": 21,
     "metadata": {},
     "output_type": "execute_result"
    }
   ],
   "source": [
    "stratifiedCV(LogisticRegression(max_iter=10000), pd.DataFrame(X_r2l), y_r2l, 10, 3)"
   ]
  },
  {
   "cell_type": "markdown",
   "metadata": {},
   "source": [
    "#### Stratified cross validation on r2l Standard Scaler"
   ]
  },
  {
   "cell_type": "code",
   "execution_count": 22,
   "metadata": {},
   "outputs": [
    {
     "name": "stdout",
     "output_type": "stream",
     "text": [
      ">Train: 0=60608, 1=896, Test: 0=6735, 1=99\n",
      ">Train: 0=60608, 1=896, Test: 0=6735, 1=99\n",
      ">Train: 0=60608, 1=896, Test: 0=6735, 1=99\n",
      ">Train: 0=60609, 1=895, Test: 0=6734, 1=100\n",
      ">Train: 0=60609, 1=895, Test: 0=6734, 1=100\n",
      ">Train: 0=60609, 1=895, Test: 0=6734, 1=100\n",
      ">Train: 0=60609, 1=895, Test: 0=6734, 1=100\n",
      ">Train: 0=60609, 1=895, Test: 0=6734, 1=100\n",
      ">Train: 0=60609, 1=896, Test: 0=6734, 1=99\n",
      ">Train: 0=60609, 1=896, Test: 0=6734, 1=99\n"
     ]
    },
    {
     "data": {
      "text/plain": [
       "{'Mean Training Accuracy': 0.9921761438193861,\n",
       " 'Mean Training Precision': 0.7410671161457842,\n",
       " 'Mean Training Recall': 0.7111103351955307,\n",
       " 'Mean Training F1 Score': 0.7257650819069336,\n",
       " 'Mean Validation Accuracy': 0.9921566014847893,\n",
       " 'Mean Validation Precision': 0.7390250302486812,\n",
       " 'Mean Validation Recall': 0.7136767676767677,\n",
       " 'Mean Validation F1 Score': 0.725624273017506}"
      ]
     },
     "execution_count": 22,
     "metadata": {},
     "output_type": "execute_result"
    }
   ],
   "source": [
    "stratifiedCV(LogisticRegression(max_iter=10000), pd.DataFrame(X_r2l_ss), y_r2l, 10, 3)"
   ]
  },
  {
   "cell_type": "markdown",
   "metadata": {},
   "source": [
    "#### Predict on r2l"
   ]
  },
  {
   "cell_type": "code",
   "execution_count": 23,
   "metadata": {},
   "outputs": [
    {
     "data": {
      "image/png": "[encoded data removed]",
      "text/plain": [
       "<Figure size 432x288 with 2 Axes>"
      ]
     },
     "metadata": {
      "needs_background": "light"
     },
     "output_type": "display_data"
    },
    {
     "name": "stdout",
     "output_type": "stream",
     "text": [
      "Accuracy: 0.77112 \n",
      "Precision: 0.75000 \n",
      "Recall: 0.00104 \n",
      "F-measure: 0.00208 \n"
     ]
    }
   ],
   "source": [
    "y_r2l_prediction = logisticRegression(X_r2l, y_r2l).predict(X_r2l_test)\n",
    "plotConfusionMatrix(y_r2l_prediction, y_r2l_test, 3)"
   ]
  },
  {
   "cell_type": "code",
   "execution_count": 24,
   "metadata": {
    "colab": {
     "base_uri": "https://localhost:8080/",
     "height": 419
    },
    "executionInfo": {
     "elapsed": 3386,
     "status": "ok",
     "timestamp": 1675467178041,
     "user": {
      "displayName": "DANIELE PALMIERI",
      "userId": "13749636301499067245"
     },
     "user_tz": -60
    },
    "id": "KLBJwuXKkuCS",
    "outputId": "c3a687db-515e-464c-ec9e-aa8e5da61089"
   },
   "outputs": [
    {
     "data": {
      "image/png": "[encoded data removed]",
      "text/plain": [
       "<Figure size 432x288 with 2 Axes>"
      ]
     },
     "metadata": {
      "needs_background": "light"
     },
     "output_type": "display_data"
    },
    {
     "name": "stdout",
     "output_type": "stream",
     "text": [
      "Accuracy: 0.77009 \n",
      "Precision: 0.26087 \n",
      "Recall: 0.00208 \n",
      "F-measure: 0.00413 \n"
     ]
    }
   ],
   "source": [
    "y_r2l_prediction = logisticRegression(X_r2l_ss, y_r2l).predict(X_r2l_test_ss)\n",
    "plotConfusionMatrix(y_r2l_prediction, y_r2l_test, 3)"
   ]
  },
  {
   "cell_type": "markdown",
   "metadata": {},
   "source": [
    "#### K-fold cross validation on u2r"
   ]
  },
  {
   "cell_type": "code",
   "execution_count": 25,
   "metadata": {},
   "outputs": [
    {
     "name": "stdout",
     "output_type": "stream",
     "text": [
      ">Train: 0=60608, 1=47, Test: 0=6735, 1=5\n"
     ]
    },
    {
     "name": "stderr",
     "output_type": "stream",
     "text": [
      "C:\\Users\\Daniele\\anaconda3\\lib\\site-packages\\sklearn\\linear_model\\_logistic.py:458: ConvergenceWarning: lbfgs failed to converge (status=2):\n",
      "ABNORMAL_TERMINATION_IN_LNSRCH.\n",
      "\n",
      "Increase the number of iterations (max_iter) or scale the data as shown in:\n",
      "    https://scikit-learn.org/stable/modules/preprocessing.html\n",
      "Please also refer to the documentation for alternative solver options:\n",
      "    https://scikit-learn.org/stable/modules/linear_model.html#logistic-regression\n",
      "  n_iter_i = _check_optimize_result(\n",
      "C:\\Users\\Daniele\\anaconda3\\lib\\site-packages\\sklearn\\metrics\\_classification.py:1344: UndefinedMetricWarning: Precision is ill-defined and being set to 0.0 due to no predicted samples. Use `zero_division` parameter to control this behavior.\n",
      "  _warn_prf(average, modifier, msg_start, len(result))\n",
      "C:\\Users\\Daniele\\anaconda3\\lib\\site-packages\\sklearn\\metrics\\_classification.py:1344: UndefinedMetricWarning: Precision is ill-defined and being set to 0.0 due to no predicted samples. Use `zero_division` parameter to control this behavior.\n",
      "  _warn_prf(average, modifier, msg_start, len(result))\n"
     ]
    },
    {
     "name": "stdout",
     "output_type": "stream",
     "text": [
      ">Train: 0=60609, 1=46, Test: 0=6734, 1=6\n",
      ">Train: 0=60609, 1=46, Test: 0=6734, 1=6\n"
     ]
    },
    {
     "name": "stderr",
     "output_type": "stream",
     "text": [
      "C:\\Users\\Daniele\\anaconda3\\lib\\site-packages\\sklearn\\metrics\\_classification.py:1344: UndefinedMetricWarning: Precision is ill-defined and being set to 0.0 due to no predicted samples. Use `zero_division` parameter to control this behavior.\n",
      "  _warn_prf(average, modifier, msg_start, len(result))\n"
     ]
    },
    {
     "name": "stdout",
     "output_type": "stream",
     "text": [
      ">Train: 0=60609, 1=46, Test: 0=6734, 1=6\n",
      ">Train: 0=60607, 1=48, Test: 0=6736, 1=4\n"
     ]
    },
    {
     "name": "stderr",
     "output_type": "stream",
     "text": [
      "C:\\Users\\Daniele\\anaconda3\\lib\\site-packages\\sklearn\\metrics\\_classification.py:1344: UndefinedMetricWarning: Precision is ill-defined and being set to 0.0 due to no predicted samples. Use `zero_division` parameter to control this behavior.\n",
      "  _warn_prf(average, modifier, msg_start, len(result))\n"
     ]
    },
    {
     "name": "stdout",
     "output_type": "stream",
     "text": [
      ">Train: 0=60612, 1=44, Test: 0=6731, 1=8\n"
     ]
    },
    {
     "name": "stderr",
     "output_type": "stream",
     "text": [
      "C:\\Users\\Daniele\\anaconda3\\lib\\site-packages\\sklearn\\metrics\\_classification.py:1344: UndefinedMetricWarning: Precision is ill-defined and being set to 0.0 due to no predicted samples. Use `zero_division` parameter to control this behavior.\n",
      "  _warn_prf(average, modifier, msg_start, len(result))\n"
     ]
    },
    {
     "name": "stdout",
     "output_type": "stream",
     "text": [
      ">Train: 0=60609, 1=47, Test: 0=6734, 1=5\n"
     ]
    },
    {
     "name": "stderr",
     "output_type": "stream",
     "text": [
      "C:\\Users\\Daniele\\anaconda3\\lib\\site-packages\\sklearn\\metrics\\_classification.py:1344: UndefinedMetricWarning: Precision is ill-defined and being set to 0.0 due to no predicted samples. Use `zero_division` parameter to control this behavior.\n",
      "  _warn_prf(average, modifier, msg_start, len(result))\n"
     ]
    },
    {
     "name": "stdout",
     "output_type": "stream",
     "text": [
      ">Train: 0=60607, 1=49, Test: 0=6736, 1=3\n"
     ]
    },
    {
     "name": "stderr",
     "output_type": "stream",
     "text": [
      "C:\\Users\\Daniele\\anaconda3\\lib\\site-packages\\sklearn\\metrics\\_classification.py:1344: UndefinedMetricWarning: Precision is ill-defined and being set to 0.0 due to no predicted samples. Use `zero_division` parameter to control this behavior.\n",
      "  _warn_prf(average, modifier, msg_start, len(result))\n"
     ]
    },
    {
     "name": "stdout",
     "output_type": "stream",
     "text": [
      ">Train: 0=60609, 1=47, Test: 0=6734, 1=5\n",
      ">Train: 0=60608, 1=48, Test: 0=6735, 1=4\n"
     ]
    },
    {
     "data": {
      "text/plain": [
       "{'Mean Training Accuracy': 0.9992597538421515,\n",
       " 'Mean Training Precision': 0.155,\n",
       " 'Mean Training Recall': 0.07996453900709219,\n",
       " 'Mean Training F1 Score': 0.1054987459000579,\n",
       " 'Mean Validation Accuracy': 0.9991690800218225,\n",
       " 'Mean Validation Precision': 0.05,\n",
       " 'Mean Validation Recall': 0.02,\n",
       " 'Mean Validation F1 Score': 0.028571428571428574}"
      ]
     },
     "execution_count": 25,
     "metadata": {},
     "output_type": "execute_result"
    }
   ],
   "source": [
    "KfoldCV(LogisticRegression(max_iter=10000), pd.DataFrame(X_u2r), y_u2r, 10, 4)"
   ]
  },
  {
   "cell_type": "markdown",
   "metadata": {},
   "source": [
    "#### K-fold cross validation on u2r Standard Scaler"
   ]
  },
  {
   "cell_type": "code",
   "execution_count": 26,
   "metadata": {},
   "outputs": [
    {
     "name": "stdout",
     "output_type": "stream",
     "text": [
      ">Train: 0=60608, 1=47, Test: 0=6735, 1=5\n",
      ">Train: 0=60609, 1=46, Test: 0=6734, 1=6\n",
      ">Train: 0=60609, 1=46, Test: 0=6734, 1=6\n",
      ">Train: 0=60609, 1=46, Test: 0=6734, 1=6\n",
      ">Train: 0=60607, 1=48, Test: 0=6736, 1=4\n",
      ">Train: 0=60612, 1=44, Test: 0=6731, 1=8\n",
      ">Train: 0=60609, 1=47, Test: 0=6734, 1=5\n",
      ">Train: 0=60607, 1=49, Test: 0=6736, 1=3\n",
      ">Train: 0=60609, 1=47, Test: 0=6734, 1=5\n",
      ">Train: 0=60608, 1=48, Test: 0=6735, 1=4\n"
     ]
    },
    {
     "data": {
      "text/plain": [
       "{'Mean Training Accuracy': 0.9996241066349869,\n",
       " 'Mean Training Precision': 0.9284434339606754,\n",
       " 'Mean Training Recall': 0.5555848990003873,\n",
       " 'Mean Training F1 Score': 0.6949798976979944,\n",
       " 'Mean Validation Accuracy': 0.9995400241210755,\n",
       " 'Mean Validation Precision': 0.7916666666666667,\n",
       " 'Mean Validation Recall': 0.5291666666666667,\n",
       " 'Mean Validation F1 Score': 0.6176373626373627}"
      ]
     },
     "execution_count": 26,
     "metadata": {},
     "output_type": "execute_result"
    }
   ],
   "source": [
    "KfoldCV(LogisticRegression(max_iter=10000), pd.DataFrame(X_u2r_ss), y_u2r, 10, 4)"
   ]
  },
  {
   "cell_type": "markdown",
   "metadata": {},
   "source": [
    "#### Stratified cross validation on u2r"
   ]
  },
  {
   "cell_type": "code",
   "execution_count": 27,
   "metadata": {},
   "outputs": [
    {
     "name": "stdout",
     "output_type": "stream",
     "text": [
      ">Train: 0=60608, 1=47, Test: 0=6735, 1=5\n"
     ]
    },
    {
     "name": "stderr",
     "output_type": "stream",
     "text": [
      "C:\\Users\\Daniele\\anaconda3\\lib\\site-packages\\sklearn\\metrics\\_classification.py:1344: UndefinedMetricWarning: Precision is ill-defined and being set to 0.0 due to no predicted samples. Use `zero_division` parameter to control this behavior.\n",
      "  _warn_prf(average, modifier, msg_start, len(result))\n"
     ]
    },
    {
     "name": "stdout",
     "output_type": "stream",
     "text": [
      ">Train: 0=60608, 1=47, Test: 0=6735, 1=5\n"
     ]
    },
    {
     "name": "stderr",
     "output_type": "stream",
     "text": [
      "C:\\Users\\Daniele\\anaconda3\\lib\\site-packages\\sklearn\\metrics\\_classification.py:1344: UndefinedMetricWarning: Precision is ill-defined and being set to 0.0 due to no predicted samples. Use `zero_division` parameter to control this behavior.\n",
      "  _warn_prf(average, modifier, msg_start, len(result))\n",
      "C:\\Users\\Daniele\\anaconda3\\lib\\site-packages\\sklearn\\metrics\\_classification.py:1344: UndefinedMetricWarning: Precision is ill-defined and being set to 0.0 due to no predicted samples. Use `zero_division` parameter to control this behavior.\n",
      "  _warn_prf(average, modifier, msg_start, len(result))\n"
     ]
    },
    {
     "name": "stdout",
     "output_type": "stream",
     "text": [
      ">Train: 0=60608, 1=47, Test: 0=6735, 1=5\n"
     ]
    },
    {
     "name": "stderr",
     "output_type": "stream",
     "text": [
      "C:\\Users\\Daniele\\anaconda3\\lib\\site-packages\\sklearn\\metrics\\_classification.py:1344: UndefinedMetricWarning: Precision is ill-defined and being set to 0.0 due to no predicted samples. Use `zero_division` parameter to control this behavior.\n",
      "  _warn_prf(average, modifier, msg_start, len(result))\n"
     ]
    },
    {
     "name": "stdout",
     "output_type": "stream",
     "text": [
      ">Train: 0=60609, 1=46, Test: 0=6734, 1=6\n"
     ]
    },
    {
     "name": "stderr",
     "output_type": "stream",
     "text": [
      "C:\\Users\\Daniele\\anaconda3\\lib\\site-packages\\sklearn\\metrics\\_classification.py:1344: UndefinedMetricWarning: Precision is ill-defined and being set to 0.0 due to no predicted samples. Use `zero_division` parameter to control this behavior.\n",
      "  _warn_prf(average, modifier, msg_start, len(result))\n"
     ]
    },
    {
     "name": "stdout",
     "output_type": "stream",
     "text": [
      ">Train: 0=60609, 1=46, Test: 0=6734, 1=6\n"
     ]
    },
    {
     "name": "stderr",
     "output_type": "stream",
     "text": [
      "C:\\Users\\Daniele\\anaconda3\\lib\\site-packages\\sklearn\\metrics\\_classification.py:1344: UndefinedMetricWarning: Precision is ill-defined and being set to 0.0 due to no predicted samples. Use `zero_division` parameter to control this behavior.\n",
      "  _warn_prf(average, modifier, msg_start, len(result))\n"
     ]
    },
    {
     "name": "stdout",
     "output_type": "stream",
     "text": [
      ">Train: 0=60609, 1=47, Test: 0=6734, 1=5\n",
      ">Train: 0=60609, 1=47, Test: 0=6734, 1=5\n",
      ">Train: 0=60609, 1=47, Test: 0=6734, 1=5\n"
     ]
    },
    {
     "name": "stderr",
     "output_type": "stream",
     "text": [
      "C:\\Users\\Daniele\\anaconda3\\lib\\site-packages\\sklearn\\metrics\\_classification.py:1344: UndefinedMetricWarning: Precision is ill-defined and being set to 0.0 due to no predicted samples. Use `zero_division` parameter to control this behavior.\n",
      "  _warn_prf(average, modifier, msg_start, len(result))\n"
     ]
    },
    {
     "name": "stdout",
     "output_type": "stream",
     "text": [
      ">Train: 0=60609, 1=47, Test: 0=6734, 1=5\n",
      ">Train: 0=60609, 1=47, Test: 0=6734, 1=5\n"
     ]
    },
    {
     "data": {
      "text/plain": [
       "{'Mean Training Accuracy': 0.9993438349129887,\n",
       " 'Mean Training Precision': 0.4007328042328043,\n",
       " 'Mean Training Recall': 0.20716928769657725,\n",
       " 'Mean Training F1 Score': 0.27271232588962496,\n",
       " 'Mean Validation Accuracy': 0.9992284338077262,\n",
       " 'Mean Validation Precision': 0.21666666666666665,\n",
       " 'Mean Validation Recall': 0.1,\n",
       " 'Mean Validation F1 Score': 0.13571428571428573}"
      ]
     },
     "execution_count": 27,
     "metadata": {},
     "output_type": "execute_result"
    }
   ],
   "source": [
    "stratifiedCV(LogisticRegression(max_iter=10000), pd.DataFrame(X_u2r), y_u2r, 10, 4)"
   ]
  },
  {
   "cell_type": "markdown",
   "metadata": {},
   "source": [
    "#### Stratified cross validation on u2r Standard Scaler"
   ]
  },
  {
   "cell_type": "code",
   "execution_count": 28,
   "metadata": {},
   "outputs": [
    {
     "name": "stdout",
     "output_type": "stream",
     "text": [
      ">Train: 0=60608, 1=47, Test: 0=6735, 1=5\n",
      ">Train: 0=60608, 1=47, Test: 0=6735, 1=5\n",
      ">Train: 0=60608, 1=47, Test: 0=6735, 1=5\n"
     ]
    },
    {
     "name": "stderr",
     "output_type": "stream",
     "text": [
      "C:\\Users\\Daniele\\anaconda3\\lib\\site-packages\\sklearn\\metrics\\_classification.py:1344: UndefinedMetricWarning: Precision is ill-defined and being set to 0.0 due to no predicted samples. Use `zero_division` parameter to control this behavior.\n",
      "  _warn_prf(average, modifier, msg_start, len(result))\n"
     ]
    },
    {
     "name": "stdout",
     "output_type": "stream",
     "text": [
      ">Train: 0=60609, 1=46, Test: 0=6734, 1=6\n",
      ">Train: 0=60609, 1=46, Test: 0=6734, 1=6\n",
      ">Train: 0=60609, 1=47, Test: 0=6734, 1=5\n",
      ">Train: 0=60609, 1=47, Test: 0=6734, 1=5\n",
      ">Train: 0=60609, 1=47, Test: 0=6734, 1=5\n",
      ">Train: 0=60609, 1=47, Test: 0=6734, 1=5\n",
      ">Train: 0=60609, 1=47, Test: 0=6734, 1=5\n"
     ]
    },
    {
     "data": {
      "text/plain": [
       "{'Mean Training Accuracy': 0.9996274039180257,\n",
       " 'Mean Training Precision': 0.9350505382229519,\n",
       " 'Mean Training Recall': 0.555550416281221,\n",
       " 'Mean Training F1 Score': 0.6966607096347646,\n",
       " 'Mean Validation Accuracy': 0.9995400241210758,\n",
       " 'Mean Validation Precision': 0.7083333333333334,\n",
       " 'Mean Validation Recall': 0.5200000000000001,\n",
       " 'Mean Validation F1 Score': 0.5944444444444444}"
      ]
     },
     "execution_count": 28,
     "metadata": {},
     "output_type": "execute_result"
    }
   ],
   "source": [
    "stratifiedCV(LogisticRegression(max_iter=10000), pd.DataFrame(X_u2r_ss), y_u2r, 10, 4)"
   ]
  },
  {
   "cell_type": "markdown",
   "metadata": {},
   "source": [
    "#### Predict on u2r"
   ]
  },
  {
   "cell_type": "code",
   "execution_count": 29,
   "metadata": {},
   "outputs": [
    {
     "data": {
      "image/png": "[encoded data removed]",
      "text/plain": [
       "<Figure size 432x288 with 2 Axes>"
      ]
     },
     "metadata": {
      "needs_background": "light"
     },
     "output_type": "display_data"
    },
    {
     "name": "stdout",
     "output_type": "stream",
     "text": [
      "Accuracy: 0.99315 \n",
      "Precision: 0.00000 \n",
      "Recall: 0.00000 \n",
      "F-measure: 0.00000 \n"
     ]
    },
    {
     "name": "stderr",
     "output_type": "stream",
     "text": [
      "C:\\Users\\Daniele\\anaconda3\\lib\\site-packages\\sklearn\\metrics\\_classification.py:1344: UndefinedMetricWarning: Precision is ill-defined and being set to 0.0 due to no predicted samples. Use `zero_division` parameter to control this behavior.\n",
      "  _warn_prf(average, modifier, msg_start, len(result))\n"
     ]
    }
   ],
   "source": [
    "y_u2r_prediction = logisticRegression(X_u2r, y_u2r).predict(X_u2r_test)\n",
    "plotConfusionMatrix(y_u2r_prediction, y_u2r_test, 4)"
   ]
  },
  {
   "cell_type": "code",
   "execution_count": 30,
   "metadata": {
    "colab": {
     "base_uri": "https://localhost:8080/",
     "height": 364
    },
    "executionInfo": {
     "elapsed": 2602,
     "status": "ok",
     "timestamp": 1675467181725,
     "user": {
      "displayName": "DANIELE PALMIERI",
      "userId": "13749636301499067245"
     },
     "user_tz": -60
    },
    "id": "fBPk_5Rzk4tF",
    "outputId": "593a987a-9117-46af-b74d-090b5ef20e5a",
    "scrolled": true
   },
   "outputs": [
    {
     "data": {
      "image/png": "[encoded data removed]",
      "text/plain": [
       "<Figure size 432x288 with 2 Axes>"
      ]
     },
     "metadata": {
      "needs_background": "light"
     },
     "output_type": "display_data"
    },
    {
     "name": "stdout",
     "output_type": "stream",
     "text": [
      "Accuracy: 0.99417 \n",
      "Precision: 0.81250 \n",
      "Recall: 0.19403 \n",
      "F-measure: 0.31325 \n"
     ]
    }
   ],
   "source": [
    "y_u2r_prediction = logisticRegression(X_u2r_ss, y_u2r).predict(X_u2r_test_ss)\n",
    "plotConfusionMatrix(y_u2r_prediction, y_u2r_test, 4)"
   ]
  },
  {
   "cell_type": "markdown",
   "metadata": {
    "id": "C2zvGxJ7lNn5"
   },
   "source": [
    "## Feature Selection"
   ]
  },
  {
   "cell_type": "code",
   "execution_count": 31,
   "metadata": {},
   "outputs": [
    {
     "name": "stderr",
     "output_type": "stream",
     "text": [
      "C:\\Users\\Daniele\\anaconda3\\lib\\site-packages\\sklearn\\linear_model\\_logistic.py:458: ConvergenceWarning: lbfgs failed to converge (status=2):\n",
      "ABNORMAL_TERMINATION_IN_LNSRCH.\n",
      "\n",
      "Increase the number of iterations (max_iter) or scale the data as shown in:\n",
      "    https://scikit-learn.org/stable/modules/preprocessing.html\n",
      "Please also refer to the documentation for alternative solver options:\n",
      "    https://scikit-learn.org/stable/modules/linear_model.html#logistic-regression\n",
      "  n_iter_i = _check_optimize_result(\n",
      "C:\\Users\\Daniele\\anaconda3\\lib\\site-packages\\sklearn\\linear_model\\_logistic.py:458: ConvergenceWarning: lbfgs failed to converge (status=2):\n",
      "ABNORMAL_TERMINATION_IN_LNSRCH.\n",
      "\n",
      "Increase the number of iterations (max_iter) or scale the data as shown in:\n",
      "    https://scikit-learn.org/stable/modules/preprocessing.html\n",
      "Please also refer to the documentation for alternative solver options:\n",
      "    https://scikit-learn.org/stable/modules/linear_model.html#logistic-regression\n",
      "  n_iter_i = _check_optimize_result(\n",
      "C:\\Users\\Daniele\\anaconda3\\lib\\site-packages\\sklearn\\linear_model\\_logistic.py:458: ConvergenceWarning: lbfgs failed to converge (status=2):\n",
      "ABNORMAL_TERMINATION_IN_LNSRCH.\n",
      "\n",
      "Increase the number of iterations (max_iter) or scale the data as shown in:\n",
      "    https://scikit-learn.org/stable/modules/preprocessing.html\n",
      "Please also refer to the documentation for alternative solver options:\n",
      "    https://scikit-learn.org/stable/modules/linear_model.html#logistic-regression\n",
      "  n_iter_i = _check_optimize_result(\n",
      "C:\\Users\\Daniele\\anaconda3\\lib\\site-packages\\sklearn\\linear_model\\_logistic.py:458: ConvergenceWarning: lbfgs failed to converge (status=2):\n",
      "ABNORMAL_TERMINATION_IN_LNSRCH.\n",
      "\n",
      "Increase the number of iterations (max_iter) or scale the data as shown in:\n",
      "    https://scikit-learn.org/stable/modules/preprocessing.html\n",
      "Please also refer to the documentation for alternative solver options:\n",
      "    https://scikit-learn.org/stable/modules/linear_model.html#logistic-regression\n",
      "  n_iter_i = _check_optimize_result(\n"
     ]
    }
   ],
   "source": [
    "\n",
    "X_dos_rfe, rfecolname_dos = recursiveFeatureExtraction(LogisticRegression(max_iter=10000), X_dos, y_dos, 13)\n",
    "X_probe_rfe, rfecolname_probe = recursiveFeatureExtraction(LogisticRegression(max_iter=10000), X_probe, y_probe, 13)\n",
    "X_r2l_rfe, rfecolname_r2l = recursiveFeatureExtraction(LogisticRegression(max_iter=10000), X_r2l, y_r2l, 13)\n",
    "X_u2r_rfe, rfecolname_u2r = recursiveFeatureExtraction(LogisticRegression(max_iter=10000), X_u2r, y_u2r, 13)\n",
    "\n",
    "X_dos_test_rfe=X_dos_test.values[:,rfecolname_dos]\n",
    "X_probe_test_rfe=X_probe_test.values[:,rfecolname_probe]\n",
    "X_r2l_test_rfe=X_r2l_test.values[:,rfecolname_r2l]\n",
    "X_u2r_test_rfe=X_u2r_test.values[:,rfecolname_u2r]"
   ]
  },
  {
   "cell_type": "code",
   "execution_count": 32,
   "metadata": {
    "id": "laARHIiBlSgF"
   },
   "outputs": [],
   "source": [
    "X_dos_rfe_ss, rfecolname_dosSS = recursiveFeatureExtraction(LogisticRegression(max_iter=10000), X_dos_ss, y_dos, 13)\n",
    "X_probe_rfe_ss, rfecolname_probeSS = recursiveFeatureExtraction(LogisticRegression(max_iter=10000), X_probe_ss, y_probe, 13)\n",
    "X_r2l_rfe_ss, rfecolname_r2lSS = recursiveFeatureExtraction(LogisticRegression(max_iter=10000), X_r2l_ss, y_r2l, 13)\n",
    "X_u2r_rfe_ss, rfecolname_u2rSS = recursiveFeatureExtraction(LogisticRegression(max_iter=10000), X_u2r_ss, y_u2r, 13)\n",
    "\n",
    "X_dos_test_rfe_ss=X_dos_test_ss[:,rfecolname_dosSS]\n",
    "X_probe_test_rfe_ss=X_probe_test_ss[:,rfecolname_probeSS]\n",
    "X_r2l_test_rfe_ss=X_r2l_test_ss[:,rfecolname_r2lSS]\n",
    "X_u2r_test_rfe_ss=X_u2r_test_ss[:,rfecolname_u2rSS]"
   ]
  },
  {
   "cell_type": "markdown",
   "metadata": {},
   "source": [
    "#### K-fold cross validation on dos"
   ]
  },
  {
   "cell_type": "code",
   "execution_count": 33,
   "metadata": {},
   "outputs": [
    {
     "name": "stdout",
     "output_type": "stream",
     "text": [
      ">Train: 0=60666, 1=41277, Test: 0=6677, 1=4650\n",
      ">Train: 0=60586, 1=41357, Test: 0=6757, 1=4570\n",
      ">Train: 0=60612, 1=41331, Test: 0=6731, 1=4596\n",
      ">Train: 0=60720, 1=41223, Test: 0=6623, 1=4704\n",
      ">Train: 0=60634, 1=41309, Test: 0=6709, 1=4618\n",
      ">Train: 0=60525, 1=41418, Test: 0=6818, 1=4509\n",
      ">Train: 0=60548, 1=41395, Test: 0=6795, 1=4532\n",
      ">Train: 0=60557, 1=41386, Test: 0=6786, 1=4541\n",
      ">Train: 0=60662, 1=41281, Test: 0=6681, 1=4646\n",
      ">Train: 0=60577, 1=41366, Test: 0=6766, 1=4561\n"
     ]
    },
    {
     "data": {
      "text/plain": [
       "{'Mean Training Accuracy': 0.9613117134084735,\n",
       " 'Mean Training Precision': 0.9850804289654425,\n",
       " 'Mean Training Recall': 0.9184939092848537,\n",
       " 'Mean Training F1 Score': 0.9506225203260463,\n",
       " 'Mean Validation Accuracy': 0.9612695329743091,\n",
       " 'Mean Validation Precision': 0.9849540080448957,\n",
       " 'Mean Validation Recall': 0.9185076625776045,\n",
       " 'Mean Validation F1 Score': 0.9505645292597624}"
      ]
     },
     "execution_count": 33,
     "metadata": {},
     "output_type": "execute_result"
    }
   ],
   "source": [
    "KfoldCV(LogisticRegression(max_iter=10000), pd.DataFrame(X_dos_rfe), y_dos, 10, 1)"
   ]
  },
  {
   "cell_type": "markdown",
   "metadata": {},
   "source": [
    "#### K-fold cross validation on dos Standard Scaler"
   ]
  },
  {
   "cell_type": "code",
   "execution_count": 34,
   "metadata": {},
   "outputs": [
    {
     "name": "stdout",
     "output_type": "stream",
     "text": [
      ">Train: 0=60666, 1=41277, Test: 0=6677, 1=4650\n",
      ">Train: 0=60586, 1=41357, Test: 0=6757, 1=4570\n",
      ">Train: 0=60612, 1=41331, Test: 0=6731, 1=4596\n",
      ">Train: 0=60720, 1=41223, Test: 0=6623, 1=4704\n",
      ">Train: 0=60634, 1=41309, Test: 0=6709, 1=4618\n",
      ">Train: 0=60525, 1=41418, Test: 0=6818, 1=4509\n",
      ">Train: 0=60548, 1=41395, Test: 0=6795, 1=4532\n",
      ">Train: 0=60557, 1=41386, Test: 0=6786, 1=4541\n",
      ">Train: 0=60662, 1=41281, Test: 0=6681, 1=4646\n",
      ">Train: 0=60577, 1=41366, Test: 0=6766, 1=4561\n"
     ]
    },
    {
     "data": {
      "text/plain": [
       "{'Mean Training Accuracy': 0.9846747692337876,\n",
       " 'Mean Training Precision': 0.9869483264659632,\n",
       " 'Mean Training Recall': 0.9750979595969556,\n",
       " 'Mean Training F1 Score': 0.9809873387473044,\n",
       " 'Mean Validation Accuracy': 0.9846296459786352,\n",
       " 'Mean Validation Precision': 0.9868805875062054,\n",
       " 'Mean Validation Recall': 0.9750286019064622,\n",
       " 'Mean Validation F1 Score': 0.980915644385558}"
      ]
     },
     "execution_count": 34,
     "metadata": {},
     "output_type": "execute_result"
    }
   ],
   "source": [
    "KfoldCV(LogisticRegression(max_iter=10000), pd.DataFrame(X_dos_rfe_ss), y_dos, 10, 1)"
   ]
  },
  {
   "cell_type": "markdown",
   "metadata": {},
   "source": [
    "#### Stratified cross validation on dos"
   ]
  },
  {
   "cell_type": "code",
   "execution_count": 35,
   "metadata": {},
   "outputs": [
    {
     "name": "stdout",
     "output_type": "stream",
     "text": [
      ">Train: 0=60608, 1=41335, Test: 0=6735, 1=4592\n",
      ">Train: 0=60608, 1=41335, Test: 0=6735, 1=4592\n",
      ">Train: 0=60608, 1=41335, Test: 0=6735, 1=4592\n",
      ">Train: 0=60609, 1=41334, Test: 0=6734, 1=4593\n",
      ">Train: 0=60609, 1=41334, Test: 0=6734, 1=4593\n",
      ">Train: 0=60609, 1=41334, Test: 0=6734, 1=4593\n",
      ">Train: 0=60609, 1=41334, Test: 0=6734, 1=4593\n",
      ">Train: 0=60609, 1=41334, Test: 0=6734, 1=4593\n",
      ">Train: 0=60609, 1=41334, Test: 0=6734, 1=4593\n",
      ">Train: 0=60609, 1=41334, Test: 0=6734, 1=4593\n"
     ]
    },
    {
     "data": {
      "text/plain": [
       "{'Mean Training Accuracy': 0.9613195609311086,\n",
       " 'Mean Training Precision': 0.9850909284526651,\n",
       " 'Mean Training Recall': 0.9185035195148299,\n",
       " 'Mean Training F1 Score': 0.9506325705213567,\n",
       " 'Mean Validation Accuracy': 0.9612695329743092,\n",
       " 'Mean Validation Precision': 0.9849878855290385,\n",
       " 'Mean Validation Recall': 0.9184794018848559,\n",
       " 'Mean Validation F1 Score': 0.9505665371423989}"
      ]
     },
     "execution_count": 35,
     "metadata": {},
     "output_type": "execute_result"
    }
   ],
   "source": [
    "stratifiedCV(LogisticRegression(max_iter=10000), pd.DataFrame(X_dos_rfe), y_dos, 10, 1)"
   ]
  },
  {
   "cell_type": "markdown",
   "metadata": {},
   "source": [
    "#### Stratified cross validation on dos Standard Scaler"
   ]
  },
  {
   "cell_type": "code",
   "execution_count": 36,
   "metadata": {},
   "outputs": [
    {
     "name": "stdout",
     "output_type": "stream",
     "text": [
      ">Train: 0=60608, 1=41335, Test: 0=6735, 1=4592\n",
      ">Train: 0=60608, 1=41335, Test: 0=6735, 1=4592\n",
      ">Train: 0=60608, 1=41335, Test: 0=6735, 1=4592\n",
      ">Train: 0=60609, 1=41334, Test: 0=6734, 1=4593\n",
      ">Train: 0=60609, 1=41334, Test: 0=6734, 1=4593\n",
      ">Train: 0=60609, 1=41334, Test: 0=6734, 1=4593\n",
      ">Train: 0=60609, 1=41334, Test: 0=6734, 1=4593\n",
      ">Train: 0=60609, 1=41334, Test: 0=6734, 1=4593\n",
      ">Train: 0=60609, 1=41334, Test: 0=6734, 1=4593\n",
      ">Train: 0=60609, 1=41334, Test: 0=6734, 1=4593\n"
     ]
    },
    {
     "data": {
      "text/plain": [
       "{'Mean Training Accuracy': 0.9846747692337875,\n",
       " 'Mean Training Precision': 0.9869508118787081,\n",
       " 'Mean Training Recall': 0.9750957441235135,\n",
       " 'Mean Training F1 Score': 0.9809874458290194,\n",
       " 'Mean Validation Accuracy': 0.9846208175156704,\n",
       " 'Mean Validation Precision': 0.9868682244789051,\n",
       " 'Mean Validation Recall': 0.9750473897561127,\n",
       " 'Mean Validation F1 Score': 0.980919046475287}"
      ]
     },
     "execution_count": 36,
     "metadata": {},
     "output_type": "execute_result"
    }
   ],
   "source": [
    "stratifiedCV(LogisticRegression(max_iter=10000), pd.DataFrame(X_dos_rfe_ss), y_dos, 10, 1)"
   ]
  },
  {
   "cell_type": "markdown",
   "metadata": {},
   "source": [
    "#### Predict on dos"
   ]
  },
  {
   "cell_type": "code",
   "execution_count": 37,
   "metadata": {},
   "outputs": [
    {
     "data": {
      "image/png": "[encoded data removed]",
      "text/plain": [
       "<Figure size 432x288 with 2 Axes>"
      ]
     },
     "metadata": {
      "needs_background": "light"
     },
     "output_type": "display_data"
    },
    {
     "name": "stdout",
     "output_type": "stream",
     "text": [
      "Accuracy: 0.85429 \n",
      "Precision: 0.98248 \n",
      "Recall: 0.67668 \n",
      "F-measure: 0.80140 \n"
     ]
    }
   ],
   "source": [
    "y_dos_rfe_prediction = logisticRegression(X_dos_rfe, y_dos).predict(X_dos_test_rfe)\n",
    "plotConfusionMatrix(y_dos_rfe_prediction, y_dos_test, 1)"
   ]
  },
  {
   "cell_type": "code",
   "execution_count": 38,
   "metadata": {
    "colab": {
     "base_uri": "https://localhost:8080/",
     "height": 364
    },
    "executionInfo": {
     "elapsed": 4170,
     "status": "ok",
     "timestamp": 1675471231881,
     "user": {
      "displayName": "DANIELE PALMIERI",
      "userId": "13749636301499067245"
     },
     "user_tz": -60
    },
    "id": "P129vp2Tozxi",
    "outputId": "cceeaf9d-b60d-4eb4-b12f-d1d172b15b39"
   },
   "outputs": [
    {
     "data": {
      "image/png": "[encoded data removed]",
      "text/plain": [
       "<Figure size 432x288 with 2 Axes>"
      ]
     },
     "metadata": {
      "needs_background": "light"
     },
     "output_type": "display_data"
    },
    {
     "name": "stdout",
     "output_type": "stream",
     "text": [
      "Accuracy: 0.86075 \n",
      "Precision: 0.87766 \n",
      "Recall: 0.78954 \n",
      "F-measure: 0.83128 \n"
     ]
    }
   ],
   "source": [
    "y_dos_rfe_prediction = logisticRegression(X_dos_rfe_ss, y_dos).predict(X_dos_test_rfe_ss)\n",
    "plotConfusionMatrix(y_dos_rfe_prediction, y_dos_test, 1)"
   ]
  },
  {
   "cell_type": "markdown",
   "metadata": {},
   "source": [
    "#### K-fold cross validation on probe"
   ]
  },
  {
   "cell_type": "code",
   "execution_count": 39,
   "metadata": {},
   "outputs": [
    {
     "name": "stdout",
     "output_type": "stream",
     "text": [
      ">Train: 0=60593, 1=10506, Test: 0=6750, 1=1150\n",
      ">Train: 0=60590, 1=10509, Test: 0=6753, 1=1147\n",
      ">Train: 0=60636, 1=10463, Test: 0=6707, 1=1193\n",
      ">Train: 0=60669, 1=10430, Test: 0=6674, 1=1226\n",
      ">Train: 0=60629, 1=10470, Test: 0=6714, 1=1186\n",
      ">Train: 0=60576, 1=10523, Test: 0=6767, 1=1133\n",
      ">Train: 0=60547, 1=10552, Test: 0=6796, 1=1104\n",
      ">Train: 0=60628, 1=10471, Test: 0=6715, 1=1185\n",
      ">Train: 0=60592, 1=10507, Test: 0=6751, 1=1149\n",
      ">Train: 0=60627, 1=10473, Test: 0=6716, 1=1183\n"
     ]
    },
    {
     "data": {
      "text/plain": [
       "{'Mean Training Accuracy': 0.9552947924734569,\n",
       " 'Mean Training Precision': 0.8503007080628808,\n",
       " 'Mean Training Recall': 0.845942203896936,\n",
       " 'Mean Training F1 Score': 0.8481139412647402,\n",
       " 'Mean Validation Accuracy': 0.9551133455444608,\n",
       " 'Mean Validation Precision': 0.8493925242873914,\n",
       " 'Mean Validation Recall': 0.8454716050319064,\n",
       " 'Mean Validation F1 Score': 0.8474117400519393}"
      ]
     },
     "execution_count": 39,
     "metadata": {},
     "output_type": "execute_result"
    }
   ],
   "source": [
    "KfoldCV(LogisticRegression(max_iter=10000), pd.DataFrame(X_probe_rfe), y_probe, 10, 2)"
   ]
  },
  {
   "cell_type": "markdown",
   "metadata": {},
   "source": [
    "#### K-fold cross validation on probe Standard Scaler"
   ]
  },
  {
   "cell_type": "code",
   "execution_count": 40,
   "metadata": {},
   "outputs": [
    {
     "name": "stdout",
     "output_type": "stream",
     "text": [
      ">Train: 0=60593, 1=10506, Test: 0=6750, 1=1150\n",
      ">Train: 0=60590, 1=10509, Test: 0=6753, 1=1147\n",
      ">Train: 0=60636, 1=10463, Test: 0=6707, 1=1193\n",
      ">Train: 0=60669, 1=10430, Test: 0=6674, 1=1226\n",
      ">Train: 0=60629, 1=10470, Test: 0=6714, 1=1186\n",
      ">Train: 0=60576, 1=10523, Test: 0=6767, 1=1133\n",
      ">Train: 0=60547, 1=10552, Test: 0=6796, 1=1104\n",
      ">Train: 0=60628, 1=10471, Test: 0=6715, 1=1185\n",
      ">Train: 0=60592, 1=10507, Test: 0=6751, 1=1149\n",
      ">Train: 0=60627, 1=10473, Test: 0=6716, 1=1183\n"
     ]
    },
    {
     "data": {
      "text/plain": [
       "{'Mean Training Accuracy': 0.9514283582197909,\n",
       " 'Mean Training Precision': 0.8329077789420574,\n",
       " 'Mean Training Recall': 0.8391453882525204,\n",
       " 'Mean Training F1 Score': 0.8360146085623427,\n",
       " 'Mean Validation Accuracy': 0.951290531889151,\n",
       " 'Mean Validation Precision': 0.8327872127253013,\n",
       " 'Mean Validation Recall': 0.8381004269881919,\n",
       " 'Mean Validation F1 Score': 0.8353761144158979}"
      ]
     },
     "execution_count": 40,
     "metadata": {},
     "output_type": "execute_result"
    }
   ],
   "source": [
    "KfoldCV(LogisticRegression(max_iter=10000), pd.DataFrame(X_probe_rfe_ss), y_probe, 10, 2)"
   ]
  },
  {
   "cell_type": "markdown",
   "metadata": {},
   "source": [
    "#### Stratified cross validation on probe"
   ]
  },
  {
   "cell_type": "code",
   "execution_count": 41,
   "metadata": {},
   "outputs": [
    {
     "name": "stdout",
     "output_type": "stream",
     "text": [
      ">Train: 0=60608, 1=10491, Test: 0=6735, 1=1165\n",
      ">Train: 0=60608, 1=10491, Test: 0=6735, 1=1165\n",
      ">Train: 0=60608, 1=10491, Test: 0=6735, 1=1165\n",
      ">Train: 0=60609, 1=10490, Test: 0=6734, 1=1166\n",
      ">Train: 0=60609, 1=10490, Test: 0=6734, 1=1166\n",
      ">Train: 0=60609, 1=10490, Test: 0=6734, 1=1166\n",
      ">Train: 0=60609, 1=10490, Test: 0=6734, 1=1166\n",
      ">Train: 0=60609, 1=10490, Test: 0=6734, 1=1166\n",
      ">Train: 0=60609, 1=10490, Test: 0=6734, 1=1166\n",
      ">Train: 0=60609, 1=10491, Test: 0=6734, 1=1165\n"
     ]
    },
    {
     "data": {
      "text/plain": [
       "{'Mean Training Accuracy': 0.9552821340873543,\n",
       " 'Mean Training Precision': 0.8502193810462589,\n",
       " 'Mean Training Recall': 0.8459544160553797,\n",
       " 'Mean Training F1 Score': 0.8480800108974602,\n",
       " 'Mean Validation Accuracy': 0.9551639816608736,\n",
       " 'Mean Validation Precision': 0.8495894814503531,\n",
       " 'Mean Validation Recall': 0.8459163421403278,\n",
       " 'Mean Validation F1 Score': 0.8477351161163738}"
      ]
     },
     "execution_count": 41,
     "metadata": {},
     "output_type": "execute_result"
    }
   ],
   "source": [
    "stratifiedCV(LogisticRegression(max_iter=10000), pd.DataFrame(X_probe_rfe), y_probe, 10, 2)"
   ]
  },
  {
   "cell_type": "markdown",
   "metadata": {},
   "source": [
    "#### Stratified cross validation on probe Standard Scaler"
   ]
  },
  {
   "cell_type": "code",
   "execution_count": 42,
   "metadata": {},
   "outputs": [
    {
     "name": "stdout",
     "output_type": "stream",
     "text": [
      ">Train: 0=60608, 1=10491, Test: 0=6735, 1=1165\n",
      ">Train: 0=60608, 1=10491, Test: 0=6735, 1=1165\n",
      ">Train: 0=60608, 1=10491, Test: 0=6735, 1=1165\n",
      ">Train: 0=60609, 1=10490, Test: 0=6734, 1=1166\n",
      ">Train: 0=60609, 1=10490, Test: 0=6734, 1=1166\n",
      ">Train: 0=60609, 1=10490, Test: 0=6734, 1=1166\n",
      ">Train: 0=60609, 1=10490, Test: 0=6734, 1=1166\n",
      ">Train: 0=60609, 1=10490, Test: 0=6734, 1=1166\n",
      ">Train: 0=60609, 1=10490, Test: 0=6734, 1=1166\n",
      ">Train: 0=60609, 1=10491, Test: 0=6734, 1=1165\n"
     ]
    },
    {
     "data": {
      "text/plain": [
       "{'Mean Training Accuracy': 0.9515338447178969,\n",
       " 'Mean Training Precision': 0.8333351234075312,\n",
       " 'Mean Training Recall': 0.8393960068728392,\n",
       " 'Mean Training F1 Score': 0.8363544605526171,\n",
       " 'Mean Validation Accuracy': 0.9513664892687906,\n",
       " 'Mean Validation Precision': 0.8332308839186509,\n",
       " 'Mean Validation Recall': 0.8382808324560693,\n",
       " 'Mean Validation F1 Score': 0.8357024631015948}"
      ]
     },
     "execution_count": 42,
     "metadata": {},
     "output_type": "execute_result"
    }
   ],
   "source": [
    "stratifiedCV(LogisticRegression(max_iter=10000), pd.DataFrame(X_probe_rfe_ss), y_probe, 10, 2)"
   ]
  },
  {
   "cell_type": "markdown",
   "metadata": {},
   "source": [
    "#### Predict on probe"
   ]
  },
  {
   "cell_type": "code",
   "execution_count": 43,
   "metadata": {},
   "outputs": [
    {
     "data": {
      "image/png": "[encoded data removed]",
      "text/plain": [
       "<Figure size 432x288 with 2 Axes>"
      ]
     },
     "metadata": {
      "needs_background": "light"
     },
     "output_type": "display_data"
    },
    {
     "name": "stdout",
     "output_type": "stream",
     "text": [
      "Accuracy: 0.94510 \n",
      "Precision: 0.91372 \n",
      "Recall: 0.80050 \n",
      "F-measure: 0.85337 \n"
     ]
    }
   ],
   "source": [
    "y_probe_rfe_prediction = logisticRegression(X_probe_rfe, y_probe).predict(X_probe_test_rfe)\n",
    "plotConfusionMatrix(y_probe_rfe_prediction, y_probe_test, 2)"
   ]
  },
  {
   "cell_type": "code",
   "execution_count": 44,
   "metadata": {
    "colab": {
     "base_uri": "https://localhost:8080/",
     "height": 364
    },
    "executionInfo": {
     "elapsed": 3354,
     "status": "ok",
     "timestamp": 1675471319408,
     "user": {
      "displayName": "DANIELE PALMIERI",
      "userId": "13749636301499067245"
     },
     "user_tz": -60
    },
    "id": "IDuGeKkT3obg",
    "outputId": "1b7effe6-8a53-406c-f0ab-e662f7462118"
   },
   "outputs": [
    {
     "data": {
      "image/png": "[encoded data removed]",
      "text/plain": [
       "<Figure size 432x288 with 2 Axes>"
      ]
     },
     "metadata": {
      "needs_background": "light"
     },
     "output_type": "display_data"
    },
    {
     "name": "stdout",
     "output_type": "stream",
     "text": [
      "Accuracy: 0.93439 \n",
      "Precision: 0.90283 \n",
      "Recall: 0.75217 \n",
      "F-measure: 0.82064 \n"
     ]
    }
   ],
   "source": [
    "y_probe_rfe_prediction = logisticRegression(X_probe_rfe_ss, y_probe).predict(X_probe_test_rfe_ss)\n",
    "plotConfusionMatrix(y_probe_rfe_prediction, y_probe_test, 2)"
   ]
  },
  {
   "cell_type": "markdown",
   "metadata": {},
   "source": [
    "#### K-fold cross validation on r2l"
   ]
  },
  {
   "cell_type": "code",
   "execution_count": 45,
   "metadata": {},
   "outputs": [
    {
     "name": "stdout",
     "output_type": "stream",
     "text": [
      ">Train: 0=60615, 1=889, Test: 0=6728, 1=106\n",
      ">Train: 0=60612, 1=892, Test: 0=6731, 1=103\n",
      ">Train: 0=60628, 1=876, Test: 0=6715, 1=119\n",
      ">Train: 0=60613, 1=891, Test: 0=6730, 1=104\n",
      ">Train: 0=60610, 1=894, Test: 0=6733, 1=101\n",
      ">Train: 0=60591, 1=913, Test: 0=6752, 1=82\n",
      ">Train: 0=60599, 1=905, Test: 0=6744, 1=90\n",
      ">Train: 0=60597, 1=907, Test: 0=6746, 1=88\n",
      ">Train: 0=60614, 1=891, Test: 0=6729, 1=104\n",
      ">Train: 0=60608, 1=897, Test: 0=6735, 1=98\n"
     ]
    },
    {
     "data": {
      "text/plain": [
       "{'Mean Training Accuracy': 0.9840742581576112,\n",
       " 'Mean Training Precision': 0.07289548983387473,\n",
       " 'Mean Training Recall': 0.008034338446377586,\n",
       " 'Mean Training F1 Score': 0.014471975949371274,\n",
       " 'Mean Validation Accuracy': 0.9840791330063811,\n",
       " 'Mean Validation Precision': 0.07080086580086581,\n",
       " 'Mean Validation Recall': 0.007976268818544473,\n",
       " 'Mean Validation F1 Score': 0.014201668381780655}"
      ]
     },
     "execution_count": 45,
     "metadata": {},
     "output_type": "execute_result"
    }
   ],
   "source": [
    "KfoldCV(LogisticRegression(max_iter=10000), pd.DataFrame(X_r2l_rfe), y_r2l, 10, 3)"
   ]
  },
  {
   "cell_type": "markdown",
   "metadata": {},
   "source": [
    "#### K-fold cross validation on r2l Standard Scaler"
   ]
  },
  {
   "cell_type": "code",
   "execution_count": 46,
   "metadata": {},
   "outputs": [
    {
     "name": "stdout",
     "output_type": "stream",
     "text": [
      ">Train: 0=60615, 1=889, Test: 0=6728, 1=106\n",
      ">Train: 0=60612, 1=892, Test: 0=6731, 1=103\n",
      ">Train: 0=60628, 1=876, Test: 0=6715, 1=119\n",
      ">Train: 0=60613, 1=891, Test: 0=6730, 1=104\n",
      ">Train: 0=60610, 1=894, Test: 0=6733, 1=101\n",
      ">Train: 0=60591, 1=913, Test: 0=6752, 1=82\n",
      ">Train: 0=60599, 1=905, Test: 0=6744, 1=90\n",
      ">Train: 0=60597, 1=907, Test: 0=6746, 1=88\n",
      ">Train: 0=60614, 1=891, Test: 0=6729, 1=104\n",
      ">Train: 0=60608, 1=897, Test: 0=6735, 1=98\n"
     ]
    },
    {
     "data": {
      "text/plain": [
       "{'Mean Training Accuracy': 0.989766551951395,\n",
       " 'Mean Training Precision': 0.672043442265808,\n",
       " 'Mean Training Recall': 0.5799044288428028,\n",
       " 'Mean Training F1 Score': 0.6225325520767733,\n",
       " 'Mean Validation Accuracy': 0.9898006716617067,\n",
       " 'Mean Validation Precision': 0.6723267133127333,\n",
       " 'Mean Validation Recall': 0.5822918235760148,\n",
       " 'Mean Validation F1 Score': 0.6232210003862473}"
      ]
     },
     "execution_count": 46,
     "metadata": {},
     "output_type": "execute_result"
    }
   ],
   "source": [
    "KfoldCV(LogisticRegression(max_iter=10000), pd.DataFrame(X_r2l_rfe_ss), y_r2l, 10, 3)"
   ]
  },
  {
   "cell_type": "markdown",
   "metadata": {},
   "source": [
    "#### Stratified cross validation on r2l"
   ]
  },
  {
   "cell_type": "code",
   "execution_count": 47,
   "metadata": {},
   "outputs": [
    {
     "name": "stdout",
     "output_type": "stream",
     "text": [
      ">Train: 0=60608, 1=896, Test: 0=6735, 1=99\n",
      ">Train: 0=60608, 1=896, Test: 0=6735, 1=99\n",
      ">Train: 0=60608, 1=896, Test: 0=6735, 1=99\n",
      ">Train: 0=60609, 1=895, Test: 0=6734, 1=100\n",
      ">Train: 0=60609, 1=895, Test: 0=6734, 1=100\n",
      ">Train: 0=60609, 1=895, Test: 0=6734, 1=100\n",
      ">Train: 0=60609, 1=895, Test: 0=6734, 1=100\n",
      ">Train: 0=60609, 1=895, Test: 0=6734, 1=100\n",
      ">Train: 0=60609, 1=896, Test: 0=6734, 1=99\n",
      ">Train: 0=60609, 1=896, Test: 0=6734, 1=99\n"
     ]
    },
    {
     "data": {
      "text/plain": [
       "{'Mean Training Accuracy': 0.9840661287108035,\n",
       " 'Mean Training Precision': 0.07344842494808808,\n",
       " 'Mean Training Recall': 0.008151935355147646,\n",
       " 'Mean Training F1 Score': 0.014673538096561379,\n",
       " 'Mean Validation Accuracy': 0.9840498739932965,\n",
       " 'Mean Validation Precision': 0.06569347319347318,\n",
       " 'Mean Validation Recall': 0.008020202020202021,\n",
       " 'Mean Validation F1 Score': 0.014243743338587508}"
      ]
     },
     "execution_count": 47,
     "metadata": {},
     "output_type": "execute_result"
    }
   ],
   "source": [
    "stratifiedCV(LogisticRegression(max_iter=10000), pd.DataFrame(X_r2l_rfe), y_r2l, 10, 3)"
   ]
  },
  {
   "cell_type": "markdown",
   "metadata": {},
   "source": [
    "#### Stratified cross validation on r2l Standard Scaler"
   ]
  },
  {
   "cell_type": "code",
   "execution_count": 48,
   "metadata": {},
   "outputs": [
    {
     "name": "stdout",
     "output_type": "stream",
     "text": [
      ">Train: 0=60608, 1=896, Test: 0=6735, 1=99\n",
      ">Train: 0=60608, 1=896, Test: 0=6735, 1=99\n",
      ">Train: 0=60608, 1=896, Test: 0=6735, 1=99\n",
      ">Train: 0=60609, 1=895, Test: 0=6734, 1=100\n",
      ">Train: 0=60609, 1=895, Test: 0=6734, 1=100\n",
      ">Train: 0=60609, 1=895, Test: 0=6734, 1=100\n",
      ">Train: 0=60609, 1=895, Test: 0=6734, 1=100\n",
      ">Train: 0=60609, 1=895, Test: 0=6734, 1=100\n",
      ">Train: 0=60609, 1=896, Test: 0=6734, 1=99\n",
      ">Train: 0=60609, 1=896, Test: 0=6734, 1=99\n"
     ]
    },
    {
     "data": {
      "text/plain": [
       "{'Mean Training Accuracy': 0.9897828109507522,\n",
       " 'Mean Training Precision': 0.6723894336394964,\n",
       " 'Mean Training Recall': 0.581571104349561,\n",
       " 'Mean Training F1 Score': 0.6236656170729507,\n",
       " 'Mean Validation Accuracy': 0.9897567756469074,\n",
       " 'Mean Validation Precision': 0.6724266022856508,\n",
       " 'Mean Validation Recall': 0.5809494949494949,\n",
       " 'Mean Validation F1 Score': 0.6225661853842166}"
      ]
     },
     "execution_count": 48,
     "metadata": {},
     "output_type": "execute_result"
    }
   ],
   "source": [
    "stratifiedCV(LogisticRegression(max_iter=10000), pd.DataFrame(X_r2l_rfe_ss), y_r2l, 10, 3)"
   ]
  },
  {
   "cell_type": "markdown",
   "metadata": {},
   "source": [
    "#### Predict on r2l"
   ]
  },
  {
   "cell_type": "code",
   "execution_count": 49,
   "metadata": {},
   "outputs": [
    {
     "data": {
      "image/png": "[encoded data removed]",
      "text/plain": [
       "<Figure size 432x288 with 2 Axes>"
      ]
     },
     "metadata": {
      "needs_background": "light"
     },
     "output_type": "display_data"
    },
    {
     "name": "stdout",
     "output_type": "stream",
     "text": [
      "Accuracy: 0.77961 \n",
      "Precision: 0.95798 \n",
      "Recall: 0.03951 \n",
      "F-measure: 0.07590 \n"
     ]
    }
   ],
   "source": [
    "y_r2l_rfe_prediction = logisticRegression(X_r2l_rfe, y_r2l).predict(X_r2l_test_rfe)\n",
    "plotConfusionMatrix(y_r2l_rfe_prediction, y_r2l_test, 3)"
   ]
  },
  {
   "cell_type": "code",
   "execution_count": 50,
   "metadata": {
    "colab": {
     "base_uri": "https://localhost:8080/",
     "height": 419
    },
    "executionInfo": {
     "elapsed": 3406,
     "status": "ok",
     "timestamp": 1675471386339,
     "user": {
      "displayName": "DANIELE PALMIERI",
      "userId": "13749636301499067245"
     },
     "user_tz": -60
    },
    "id": "3-sZ9eu1359i",
    "outputId": "399643ed-eb97-48dc-ee88-8678324604db",
    "scrolled": false
   },
   "outputs": [
    {
     "data": {
      "image/png": "[encoded data removed]",
      "text/plain": [
       "<Figure size 432x288 with 2 Axes>"
      ]
     },
     "metadata": {
      "needs_background": "light"
     },
     "output_type": "display_data"
    },
    {
     "name": "stdout",
     "output_type": "stream",
     "text": [
      "Accuracy: 0.77040 \n",
      "Precision: 0.33333 \n",
      "Recall: 0.00243 \n",
      "F-measure: 0.00482 \n"
     ]
    }
   ],
   "source": [
    "y_r2l_rfe_prediction = logisticRegression(X_r2l_rfe_ss, y_r2l).predict(X_r2l_test_rfe_ss)\n",
    "plotConfusionMatrix(y_r2l_rfe_prediction, y_r2l_test, 3)"
   ]
  },
  {
   "cell_type": "markdown",
   "metadata": {},
   "source": [
    "#### K-fold cross validation on u2r"
   ]
  },
  {
   "cell_type": "code",
   "execution_count": 51,
   "metadata": {},
   "outputs": [
    {
     "name": "stdout",
     "output_type": "stream",
     "text": [
      ">Train: 0=60608, 1=47, Test: 0=6735, 1=5\n",
      ">Train: 0=60609, 1=46, Test: 0=6734, 1=6\n",
      ">Train: 0=60609, 1=46, Test: 0=6734, 1=6\n",
      ">Train: 0=60609, 1=46, Test: 0=6734, 1=6\n",
      ">Train: 0=60607, 1=48, Test: 0=6736, 1=4\n",
      ">Train: 0=60612, 1=44, Test: 0=6731, 1=8\n",
      ">Train: 0=60609, 1=47, Test: 0=6734, 1=5\n",
      ">Train: 0=60607, 1=49, Test: 0=6736, 1=3\n"
     ]
    },
    {
     "name": "stderr",
     "output_type": "stream",
     "text": [
      "C:\\Users\\Daniele\\anaconda3\\lib\\site-packages\\sklearn\\metrics\\_classification.py:1344: UndefinedMetricWarning: Precision is ill-defined and being set to 0.0 due to no predicted samples. Use `zero_division` parameter to control this behavior.\n",
      "  _warn_prf(average, modifier, msg_start, len(result))\n"
     ]
    },
    {
     "name": "stdout",
     "output_type": "stream",
     "text": [
      ">Train: 0=60609, 1=47, Test: 0=6734, 1=5\n",
      ">Train: 0=60608, 1=48, Test: 0=6735, 1=4\n"
     ]
    },
    {
     "data": {
      "text/plain": [
       "{'Mean Training Accuracy': 0.9992614024293095,\n",
       " 'Mean Training Precision': 0.5937878787878789,\n",
       " 'Mean Training Recall': 0.1344688710148932,\n",
       " 'Mean Training F1 Score': 0.21922096122511742,\n",
       " 'Mean Validation Accuracy': 0.9992581007933359,\n",
       " 'Mean Validation Precision': 0.45,\n",
       " 'Mean Validation Recall': 0.12083333333333332,\n",
       " 'Mean Validation F1 Score': 0.18722222222222223}"
      ]
     },
     "execution_count": 51,
     "metadata": {},
     "output_type": "execute_result"
    }
   ],
   "source": [
    "KfoldCV(LogisticRegression(max_iter=10000), pd.DataFrame(X_u2r_rfe), y_u2r, 10, 4)"
   ]
  },
  {
   "cell_type": "markdown",
   "metadata": {},
   "source": [
    "#### K-fold cross validation on u2r Standard Scaler"
   ]
  },
  {
   "cell_type": "code",
   "execution_count": 52,
   "metadata": {
    "scrolled": true
   },
   "outputs": [
    {
     "name": "stdout",
     "output_type": "stream",
     "text": [
      ">Train: 0=60608, 1=47, Test: 0=6735, 1=5\n"
     ]
    },
    {
     "name": "stderr",
     "output_type": "stream",
     "text": [
      "C:\\Users\\Daniele\\anaconda3\\lib\\site-packages\\sklearn\\metrics\\_classification.py:1344: UndefinedMetricWarning: Precision is ill-defined and being set to 0.0 due to no predicted samples. Use `zero_division` parameter to control this behavior.\n",
      "  _warn_prf(average, modifier, msg_start, len(result))\n",
      "C:\\Users\\Daniele\\anaconda3\\lib\\site-packages\\sklearn\\metrics\\_classification.py:1344: UndefinedMetricWarning: Precision is ill-defined and being set to 0.0 due to no predicted samples. Use `zero_division` parameter to control this behavior.\n",
      "  _warn_prf(average, modifier, msg_start, len(result))\n"
     ]
    },
    {
     "name": "stdout",
     "output_type": "stream",
     "text": [
      ">Train: 0=60609, 1=46, Test: 0=6734, 1=6\n",
      ">Train: 0=60609, 1=46, Test: 0=6734, 1=6\n",
      ">Train: 0=60609, 1=46, Test: 0=6734, 1=6\n",
      ">Train: 0=60607, 1=48, Test: 0=6736, 1=4\n"
     ]
    },
    {
     "name": "stderr",
     "output_type": "stream",
     "text": [
      "C:\\Users\\Daniele\\anaconda3\\lib\\site-packages\\sklearn\\metrics\\_classification.py:1344: UndefinedMetricWarning: Precision is ill-defined and being set to 0.0 due to no predicted samples. Use `zero_division` parameter to control this behavior.\n",
      "  _warn_prf(average, modifier, msg_start, len(result))\n"
     ]
    },
    {
     "name": "stdout",
     "output_type": "stream",
     "text": [
      ">Train: 0=60612, 1=44, Test: 0=6731, 1=8\n",
      ">Train: 0=60609, 1=47, Test: 0=6734, 1=5\n"
     ]
    },
    {
     "name": "stderr",
     "output_type": "stream",
     "text": [
      "C:\\Users\\Daniele\\anaconda3\\lib\\site-packages\\sklearn\\metrics\\_classification.py:1344: UndefinedMetricWarning: Precision is ill-defined and being set to 0.0 due to no predicted samples. Use `zero_division` parameter to control this behavior.\n",
      "  _warn_prf(average, modifier, msg_start, len(result))\n"
     ]
    },
    {
     "name": "stdout",
     "output_type": "stream",
     "text": [
      ">Train: 0=60607, 1=49, Test: 0=6736, 1=3\n",
      ">Train: 0=60609, 1=47, Test: 0=6734, 1=5\n",
      ">Train: 0=60608, 1=48, Test: 0=6735, 1=4\n"
     ]
    },
    {
     "data": {
      "text/plain": [
       "{'Mean Training Accuracy': 0.9993075649354652,\n",
       " 'Mean Training Precision': 0.8607142857142855,\n",
       " 'Mean Training Recall': 0.12173141437215709,\n",
       " 'Mean Training F1 Score': 0.21159006407304637,\n",
       " 'Mean Validation Accuracy': 0.9992877853919981,\n",
       " 'Mean Validation Precision': 0.5,\n",
       " 'Mean Validation Recall': 0.11416666666666667,\n",
       " 'Mean Validation F1 Score': 0.1838095238095238}"
      ]
     },
     "execution_count": 52,
     "metadata": {},
     "output_type": "execute_result"
    }
   ],
   "source": [
    "KfoldCV(LogisticRegression(max_iter=10000), pd.DataFrame(X_u2r_rfe_ss), y_u2r, 10, 4)"
   ]
  },
  {
   "cell_type": "markdown",
   "metadata": {},
   "source": [
    "#### Stratified cross validation on u2r"
   ]
  },
  {
   "cell_type": "code",
   "execution_count": 53,
   "metadata": {},
   "outputs": [
    {
     "name": "stdout",
     "output_type": "stream",
     "text": [
      ">Train: 0=60608, 1=47, Test: 0=6735, 1=5\n",
      ">Train: 0=60608, 1=47, Test: 0=6735, 1=5\n",
      ">Train: 0=60608, 1=47, Test: 0=6735, 1=5\n"
     ]
    },
    {
     "name": "stderr",
     "output_type": "stream",
     "text": [
      "C:\\Users\\Daniele\\anaconda3\\lib\\site-packages\\sklearn\\metrics\\_classification.py:1344: UndefinedMetricWarning: Precision is ill-defined and being set to 0.0 due to no predicted samples. Use `zero_division` parameter to control this behavior.\n",
      "  _warn_prf(average, modifier, msg_start, len(result))\n"
     ]
    },
    {
     "name": "stdout",
     "output_type": "stream",
     "text": [
      ">Train: 0=60609, 1=46, Test: 0=6734, 1=6\n",
      ">Train: 0=60609, 1=46, Test: 0=6734, 1=6\n",
      ">Train: 0=60609, 1=47, Test: 0=6734, 1=5\n",
      ">Train: 0=60609, 1=47, Test: 0=6734, 1=5\n"
     ]
    },
    {
     "name": "stderr",
     "output_type": "stream",
     "text": [
      "C:\\Users\\Daniele\\anaconda3\\lib\\site-packages\\sklearn\\metrics\\_classification.py:1344: UndefinedMetricWarning: Precision is ill-defined and being set to 0.0 due to no predicted samples. Use `zero_division` parameter to control this behavior.\n",
      "  _warn_prf(average, modifier, msg_start, len(result))\n"
     ]
    },
    {
     "name": "stdout",
     "output_type": "stream",
     "text": [
      ">Train: 0=60609, 1=47, Test: 0=6734, 1=5\n",
      ">Train: 0=60609, 1=47, Test: 0=6734, 1=5\n",
      ">Train: 0=60609, 1=47, Test: 0=6734, 1=5\n"
     ]
    },
    {
     "data": {
      "text/plain": [
       "{'Mean Training Accuracy': 0.9992614024293097,\n",
       " 'Mean Training Precision': 0.592020202020202,\n",
       " 'Mean Training Recall': 0.1345513413506013,\n",
       " 'Mean Training F1 Score': 0.2190365185584971,\n",
       " 'Mean Validation Accuracy': 0.9992581007933359,\n",
       " 'Mean Validation Precision': 0.35,\n",
       " 'Mean Validation Recall': 0.13,\n",
       " 'Mean Validation F1 Score': 0.18571428571428572}"
      ]
     },
     "execution_count": 53,
     "metadata": {},
     "output_type": "execute_result"
    }
   ],
   "source": [
    "stratifiedCV(LogisticRegression(max_iter=10000), pd.DataFrame(X_u2r_rfe), y_u2r, 10, 4)"
   ]
  },
  {
   "cell_type": "markdown",
   "metadata": {},
   "source": [
    "#### Stratified cross validation on u2r Standard Scaler"
   ]
  },
  {
   "cell_type": "code",
   "execution_count": 54,
   "metadata": {},
   "outputs": [
    {
     "name": "stdout",
     "output_type": "stream",
     "text": [
      ">Train: 0=60608, 1=47, Test: 0=6735, 1=5\n"
     ]
    },
    {
     "name": "stderr",
     "output_type": "stream",
     "text": [
      "C:\\Users\\Daniele\\anaconda3\\lib\\site-packages\\sklearn\\metrics\\_classification.py:1344: UndefinedMetricWarning: Precision is ill-defined and being set to 0.0 due to no predicted samples. Use `zero_division` parameter to control this behavior.\n",
      "  _warn_prf(average, modifier, msg_start, len(result))\n"
     ]
    },
    {
     "name": "stdout",
     "output_type": "stream",
     "text": [
      ">Train: 0=60608, 1=47, Test: 0=6735, 1=5\n"
     ]
    },
    {
     "name": "stderr",
     "output_type": "stream",
     "text": [
      "C:\\Users\\Daniele\\anaconda3\\lib\\site-packages\\sklearn\\metrics\\_classification.py:1344: UndefinedMetricWarning: Precision is ill-defined and being set to 0.0 due to no predicted samples. Use `zero_division` parameter to control this behavior.\n",
      "  _warn_prf(average, modifier, msg_start, len(result))\n"
     ]
    },
    {
     "name": "stdout",
     "output_type": "stream",
     "text": [
      ">Train: 0=60608, 1=47, Test: 0=6735, 1=5\n"
     ]
    },
    {
     "name": "stderr",
     "output_type": "stream",
     "text": [
      "C:\\Users\\Daniele\\anaconda3\\lib\\site-packages\\sklearn\\metrics\\_classification.py:1344: UndefinedMetricWarning: Precision is ill-defined and being set to 0.0 due to no predicted samples. Use `zero_division` parameter to control this behavior.\n",
      "  _warn_prf(average, modifier, msg_start, len(result))\n"
     ]
    },
    {
     "name": "stdout",
     "output_type": "stream",
     "text": [
      ">Train: 0=60609, 1=46, Test: 0=6734, 1=6\n",
      ">Train: 0=60609, 1=46, Test: 0=6734, 1=6\n",
      ">Train: 0=60609, 1=47, Test: 0=6734, 1=5\n",
      ">Train: 0=60609, 1=47, Test: 0=6734, 1=5\n"
     ]
    },
    {
     "name": "stderr",
     "output_type": "stream",
     "text": [
      "C:\\Users\\Daniele\\anaconda3\\lib\\site-packages\\sklearn\\metrics\\_classification.py:1344: UndefinedMetricWarning: Precision is ill-defined and being set to 0.0 due to no predicted samples. Use `zero_division` parameter to control this behavior.\n",
      "  _warn_prf(average, modifier, msg_start, len(result))\n"
     ]
    },
    {
     "name": "stdout",
     "output_type": "stream",
     "text": [
      ">Train: 0=60609, 1=47, Test: 0=6734, 1=5\n",
      ">Train: 0=60609, 1=47, Test: 0=6734, 1=5\n",
      ">Train: 0=60609, 1=47, Test: 0=6734, 1=5\n"
     ]
    },
    {
     "data": {
      "text/plain": [
       "{'Mean Training Accuracy': 0.9993075649354652,\n",
       " 'Mean Training Precision': 0.8597619047619046,\n",
       " 'Mean Training Recall': 0.12173913043478261,\n",
       " 'Mean Training F1 Score': 0.2114085336314874,\n",
       " 'Mean Validation Accuracy': 0.9992729463951144,\n",
       " 'Mean Validation Precision': 0.4833333333333333,\n",
       " 'Mean Validation Recall': 0.11666666666666665,\n",
       " 'Mean Validation F1 Score': 0.18214285714285716}"
      ]
     },
     "execution_count": 54,
     "metadata": {},
     "output_type": "execute_result"
    }
   ],
   "source": [
    "stratifiedCV(LogisticRegression(max_iter=10000), pd.DataFrame(X_u2r_rfe_ss), y_u2r, 10, 4)"
   ]
  },
  {
   "cell_type": "markdown",
   "metadata": {},
   "source": [
    "#### Predict on u2r"
   ]
  },
  {
   "cell_type": "code",
   "execution_count": 55,
   "metadata": {},
   "outputs": [
    {
     "data": {
      "image/png": "[encoded data removed]",
      "text/plain": [
       "<Figure size 432x288 with 2 Axes>"
      ]
     },
     "metadata": {
      "needs_background": "light"
     },
     "output_type": "display_data"
    },
    {
     "name": "stdout",
     "output_type": "stream",
     "text": [
      "Accuracy: 0.99325 \n",
      "Precision: 0.60000 \n",
      "Recall: 0.04478 \n",
      "F-measure: 0.08333 \n"
     ]
    }
   ],
   "source": [
    "y_u2r_rfe_prediction = logisticRegression(X_u2r_rfe, y_u2r).predict(X_u2r_test_rfe)\n",
    "plotConfusionMatrix(y_u2r_rfe_prediction, y_u2r_test, 4)"
   ]
  },
  {
   "cell_type": "code",
   "execution_count": 56,
   "metadata": {
    "colab": {
     "base_uri": "https://localhost:8080/",
     "height": 364
    },
    "executionInfo": {
     "elapsed": 2396,
     "status": "ok",
     "timestamp": 1675471440250,
     "user": {
      "displayName": "DANIELE PALMIERI",
      "userId": "13749636301499067245"
     },
     "user_tz": -60
    },
    "id": "KONNFtt04Izj",
    "outputId": "a919864e-f8fe-49d4-db1a-02a271cac0f7",
    "scrolled": true
   },
   "outputs": [
    {
     "data": {
      "image/png": "[encoded data removed]",
      "text/plain": [
       "<Figure size 432x288 with 2 Axes>"
      ]
     },
     "metadata": {
      "needs_background": "light"
     },
     "output_type": "display_data"
    },
    {
     "name": "stdout",
     "output_type": "stream",
     "text": [
      "Accuracy: 0.99417 \n",
      "Precision: 0.81250 \n",
      "Recall: 0.19403 \n",
      "F-measure: 0.31325 \n"
     ]
    }
   ],
   "source": [
    "y_u2r_rfe_prediction = logisticRegression(X_u2r_rfe_ss, y_u2r).predict(X_u2r_test_rfe_ss)\n",
    "plotConfusionMatrix(y_u2r_rfe_prediction, y_u2r_test, 4)"
   ]
  },
  {
   "cell_type": "markdown",
   "metadata": {},
   "source": [
    "## Binary dataset no feature selection"
   ]
  },
  {
   "cell_type": "code",
   "execution_count": 57,
   "metadata": {
    "scrolled": true
   },
   "outputs": [
    {
     "data": {
      "image/png": "[encoded data removed]",
      "text/plain": [
       "<Figure size 720x360 with 1 Axes>"
      ]
     },
     "metadata": {
      "needs_background": "light"
     },
     "output_type": "display_data"
    }
   ],
   "source": [
    "reducedDf = getReducedDf()\n",
    "reducedDf_test = getReducedDfTest()\n",
    "\n",
    "reducedDf['label'], reducedDf_test['label'] = prepareBinary()\n",
    "plotDf(reducedDf['label'])\n",
    "\n",
    "x_df, y_df = getXandY(reducedDf)\n",
    "x_df_test, y_df_test = getXandY(reducedDf_test)\n",
    "\n",
    "x_df_ss = standardScaler(x_df)\n",
    "x_df_test_ss = standardScaler(x_df_test)"
   ]
  },
  {
   "cell_type": "markdown",
   "metadata": {},
   "source": [
    "#### K-fold cross validation"
   ]
  },
  {
   "cell_type": "code",
   "execution_count": 58,
   "metadata": {
    "scrolled": true
   },
   "outputs": [
    {
     "name": "stdout",
     "output_type": "stream",
     "text": [
      ">Train: 0=60653, 1=52722, Test: 0=6690, 1=5908\n",
      ">Train: 0=60581, 1=52794, Test: 0=6762, 1=5836\n",
      ">Train: 0=60638, 1=52737, Test: 0=6705, 1=5893\n",
      ">Train: 0=60750, 1=52626, Test: 0=6593, 1=6004\n",
      ">Train: 0=60645, 1=52731, Test: 0=6698, 1=5899\n",
      ">Train: 0=60505, 1=52871, Test: 0=6838, 1=5759\n",
      ">Train: 0=60507, 1=52869, Test: 0=6836, 1=5761\n",
      ">Train: 0=60570, 1=52806, Test: 0=6773, 1=5824\n",
      ">Train: 0=60650, 1=52726, Test: 0=6693, 1=5904\n",
      ">Train: 0=60588, 1=52788, Test: 0=6755, 1=5842\n"
     ]
    },
    {
     "data": {
      "text/plain": [
       "{'Mean Training Accuracy': 0.8777789213617796,\n",
       " 'Mean Training Precision': 0.8755807029933129,\n",
       " 'Mean Training Recall': 0.8602103489449535,\n",
       " 'Mean Training F1 Score': 0.8676162135907795,\n",
       " 'Mean Validation Accuracy': 0.8778230787794445,\n",
       " 'Mean Validation Precision': 0.8757750173061865,\n",
       " 'Mean Validation Recall': 0.8601103469526364,\n",
       " 'Mean Validation F1 Score': 0.8676270927786236}"
      ]
     },
     "execution_count": 58,
     "metadata": {},
     "output_type": "execute_result"
    }
   ],
   "source": [
    "KfoldCV(LogisticRegression(max_iter=10000), pd.DataFrame(x_df), y_df, 10, 1)"
   ]
  },
  {
   "cell_type": "markdown",
   "metadata": {},
   "source": [
    "#### K-fold cross validation Standard Scaler"
   ]
  },
  {
   "cell_type": "code",
   "execution_count": 59,
   "metadata": {},
   "outputs": [
    {
     "name": "stdout",
     "output_type": "stream",
     "text": [
      ">Train: 0=60653, 1=52722, Test: 0=6690, 1=5908\n",
      ">Train: 0=60581, 1=52794, Test: 0=6762, 1=5836\n",
      ">Train: 0=60638, 1=52737, Test: 0=6705, 1=5893\n",
      ">Train: 0=60750, 1=52626, Test: 0=6593, 1=6004\n",
      ">Train: 0=60645, 1=52731, Test: 0=6698, 1=5899\n",
      ">Train: 0=60505, 1=52871, Test: 0=6838, 1=5759\n",
      ">Train: 0=60507, 1=52869, Test: 0=6836, 1=5761\n",
      ">Train: 0=60570, 1=52806, Test: 0=6773, 1=5824\n",
      ">Train: 0=60650, 1=52726, Test: 0=6693, 1=5904\n",
      ">Train: 0=60588, 1=52788, Test: 0=6755, 1=5842\n"
     ]
    },
    {
     "data": {
      "text/plain": [
       "{'Mean Training Accuracy': 0.9462062856678743,\n",
       " 'Mean Training Precision': 0.948517314424044,\n",
       " 'Mean Training Recall': 0.9351770590619866,\n",
       " 'Mean Training F1 Score': 0.9417998782648873,\n",
       " 'Mean Validation Accuracy': 0.9461472354431185,\n",
       " 'Mean Validation Precision': 0.9485391485139225,\n",
       " 'Mean Validation Recall': 0.9350210869865565,\n",
       " 'Mean Validation F1 Score': 0.9417297472552013}"
      ]
     },
     "execution_count": 59,
     "metadata": {},
     "output_type": "execute_result"
    }
   ],
   "source": [
    "KfoldCV(LogisticRegression(max_iter=10000), pd.DataFrame(x_df_ss), y_df, 10, 1)"
   ]
  },
  {
   "cell_type": "markdown",
   "metadata": {},
   "source": [
    "#### Predict"
   ]
  },
  {
   "cell_type": "code",
   "execution_count": 60,
   "metadata": {
    "scrolled": false
   },
   "outputs": [
    {
     "data": {
      "image/png": "[encoded data removed]",
      "text/plain": [
       "<Figure size 432x288 with 2 Axes>"
      ]
     },
     "metadata": {
      "needs_background": "light"
     },
     "output_type": "display_data"
    },
    {
     "name": "stdout",
     "output_type": "stream",
     "text": [
      "Accuracy: 0.70183 \n",
      "Precision: 0.88094 \n",
      "Recall: 0.55061 \n",
      "F-measure: 0.67766 \n"
     ]
    }
   ],
   "source": [
    "y_prediction = logisticRegression(x_df, y_df).predict(x_df_test)\n",
    "plotConfusionMatrix(y_prediction, y_df_test, 1)"
   ]
  },
  {
   "cell_type": "code",
   "execution_count": 61,
   "metadata": {
    "scrolled": true
   },
   "outputs": [
    {
     "data": {
      "image/png": "[encoded data removed]",
      "text/plain": [
       "<Figure size 432x288 with 2 Axes>"
      ]
     },
     "metadata": {
      "needs_background": "light"
     },
     "output_type": "display_data"
    },
    {
     "name": "stdout",
     "output_type": "stream",
     "text": [
      "Accuracy: 0.78974 \n",
      "Precision: 0.91010 \n",
      "Recall: 0.69976 \n",
      "F-measure: 0.79119 \n"
     ]
    }
   ],
   "source": [
    "y_prediction = logisticRegression(x_df_ss, y_df).predict(x_df_test_ss)\n",
    "plotConfusionMatrix(y_prediction, y_df_test, 1)"
   ]
  },
  {
   "cell_type": "markdown",
   "metadata": {},
   "source": [
    "## Binary dataset feature selection"
   ]
  },
  {
   "cell_type": "code",
   "execution_count": 62,
   "metadata": {},
   "outputs": [],
   "source": [
    "X_df_rfe, rfecolname = recursiveFeatureExtraction(LogisticRegression(max_iter=10000), x_df, y_df, 13)\n",
    "X_df_test_rfe=x_df_test.values[:,rfecolname]"
   ]
  },
  {
   "cell_type": "code",
   "execution_count": 63,
   "metadata": {},
   "outputs": [],
   "source": [
    "X_df_rfe_ss, rfecolname_ss = recursiveFeatureExtraction(LogisticRegression(max_iter=10000), x_df_ss, y_df, 13)\n",
    "X_df_test_rfe_ss=x_df_test_ss[:,rfecolname_ss]"
   ]
  },
  {
   "cell_type": "markdown",
   "metadata": {},
   "source": [
    "#### K-fold cross validation"
   ]
  },
  {
   "cell_type": "code",
   "execution_count": 64,
   "metadata": {},
   "outputs": [
    {
     "name": "stdout",
     "output_type": "stream",
     "text": [
      ">Train: 0=60653, 1=52722, Test: 0=6690, 1=5908\n",
      ">Train: 0=60581, 1=52794, Test: 0=6762, 1=5836\n",
      ">Train: 0=60638, 1=52737, Test: 0=6705, 1=5893\n",
      ">Train: 0=60750, 1=52626, Test: 0=6593, 1=6004\n",
      ">Train: 0=60645, 1=52731, Test: 0=6698, 1=5899\n",
      ">Train: 0=60505, 1=52871, Test: 0=6838, 1=5759\n",
      ">Train: 0=60507, 1=52869, Test: 0=6836, 1=5761\n",
      ">Train: 0=60570, 1=52806, Test: 0=6773, 1=5824\n",
      ">Train: 0=60650, 1=52726, Test: 0=6693, 1=5904\n",
      ">Train: 0=60588, 1=52788, Test: 0=6755, 1=5842\n"
     ]
    },
    {
     "data": {
      "text/plain": [
       "{'Mean Training Accuracy': 0.9306623910261737,\n",
       " 'Mean Training Precision': 0.9435148043330175,\n",
       " 'Mean Training Recall': 0.905213530565328,\n",
       " 'Mean Training F1 Score': 0.9239673315710231,\n",
       " 'Mean Validation Accuracy': 0.9306359264269928,\n",
       " 'Mean Validation Precision': 0.9434307817426074,\n",
       " 'Mean Validation Recall': 0.9052300651724219,\n",
       " 'Mean Validation F1 Score': 0.9239278977864304}"
      ]
     },
     "execution_count": 64,
     "metadata": {},
     "output_type": "execute_result"
    }
   ],
   "source": [
    "KfoldCV(LogisticRegression(max_iter=10000), pd.DataFrame(X_df_rfe), y_df, 10, 1)"
   ]
  },
  {
   "cell_type": "markdown",
   "metadata": {},
   "source": [
    "#### K-fold cross validation Standard Scaler"
   ]
  },
  {
   "cell_type": "code",
   "execution_count": 65,
   "metadata": {},
   "outputs": [
    {
     "name": "stdout",
     "output_type": "stream",
     "text": [
      ">Train: 0=60653, 1=52722, Test: 0=6690, 1=5908\n",
      ">Train: 0=60581, 1=52794, Test: 0=6762, 1=5836\n",
      ">Train: 0=60638, 1=52737, Test: 0=6705, 1=5893\n",
      ">Train: 0=60750, 1=52626, Test: 0=6593, 1=6004\n",
      ">Train: 0=60645, 1=52731, Test: 0=6698, 1=5899\n",
      ">Train: 0=60505, 1=52871, Test: 0=6838, 1=5759\n",
      ">Train: 0=60507, 1=52869, Test: 0=6836, 1=5761\n",
      ">Train: 0=60570, 1=52806, Test: 0=6773, 1=5824\n",
      ">Train: 0=60650, 1=52726, Test: 0=6693, 1=5904\n",
      ">Train: 0=60588, 1=52788, Test: 0=6755, 1=5842\n"
     ]
    },
    {
     "data": {
      "text/plain": [
       "{'Mean Training Accuracy': 0.9335219102623586,\n",
       " 'Mean Training Precision': 0.9342998285321563,\n",
       " 'Mean Training Recall': 0.9220005331741093,\n",
       " 'Mean Training F1 Score': 0.928109359095509,\n",
       " 'Mean Validation Accuracy': 0.9334460947549319,\n",
       " 'Mean Validation Precision': 0.9342246091295985,\n",
       " 'Mean Validation Recall': 0.9219087608613943,\n",
       " 'Mean Validation F1 Score': 0.9280198016651904}"
      ]
     },
     "execution_count": 65,
     "metadata": {},
     "output_type": "execute_result"
    }
   ],
   "source": [
    "KfoldCV(LogisticRegression(max_iter=10000), pd.DataFrame(X_df_rfe_ss), y_df, 10, 1)"
   ]
  },
  {
   "cell_type": "markdown",
   "metadata": {},
   "source": [
    "#### Predict"
   ]
  },
  {
   "cell_type": "code",
   "execution_count": 66,
   "metadata": {},
   "outputs": [
    {
     "data": {
      "image/png": "[encoded data removed]",
      "text/plain": [
       "<Figure size 432x288 with 2 Axes>"
      ]
     },
     "metadata": {
      "needs_background": "light"
     },
     "output_type": "display_data"
    },
    {
     "name": "stdout",
     "output_type": "stream",
     "text": [
      "Accuracy: 0.72006 \n",
      "Precision: 0.95698 \n",
      "Recall: 0.53214 \n",
      "F-measure: 0.68396 \n"
     ]
    }
   ],
   "source": [
    "y_prediction = logisticRegression(X_df_rfe, y_df).predict(X_df_test_rfe)\n",
    "plotConfusionMatrix(y_prediction, y_df_test, 1)"
   ]
  },
  {
   "cell_type": "code",
   "execution_count": 67,
   "metadata": {},
   "outputs": [
    {
     "data": {
      "image/png": "[encoded data removed]",
      "text/plain": [
       "<Figure size 432x288 with 2 Axes>"
      ]
     },
     "metadata": {
      "needs_background": "light"
     },
     "output_type": "display_data"
    },
    {
     "name": "stdout",
     "output_type": "stream",
     "text": [
      "Accuracy: 0.78061 \n",
      "Precision: 0.90946 \n",
      "Recall: 0.68254 \n",
      "F-measure: 0.77983 \n"
     ]
    }
   ],
   "source": [
    "y_prediction = logisticRegression(X_df_rfe_ss, y_df).predict(X_df_test_rfe_ss)\n",
    "plotConfusionMatrix(y_prediction, y_df_test, 1)"
   ]
  },
  {
   "cell_type": "markdown",
   "metadata": {},
   "source": [
    "# Reduced DF, oversampling"
   ]
  },
  {
   "cell_type": "code",
   "execution_count": 68,
   "metadata": {},
   "outputs": [
    {
     "data": {
      "text/plain": [
       "<module 'matplotlib.pyplot' from 'C:\\\\Users\\\\Daniele\\\\anaconda3\\\\lib\\\\site-packages\\\\matplotlib\\\\pyplot.py'>"
      ]
     },
     "execution_count": 68,
     "metadata": {},
     "output_type": "execute_result"
    },
    {
     "data": {
      "image/png": "[encoded data removed]",
      "text/plain": [
       "<Figure size 720x360 with 1 Axes>"
      ]
     },
     "metadata": {
      "needs_background": "light"
     },
     "output_type": "display_data"
    }
   ],
   "source": [
    "reducedDf = getReducedDf()\n",
    "reducedDf_test = getReducedDfTest()\n",
    "\n",
    "reducedDf['label'], reducedDf_test['label'] = prepareMulticlass()\n",
    "\n",
    "x_df, y_df = getXandY(reducedDf)\n",
    "x_df_test, y_df_test = getXandY(reducedDf_test)\n",
    "\n",
    "\n",
    "oversampled_df = overSampledDF(x_df, y_df)\n",
    "oversampled_df_test = overSampledDF(x_df_test, y_df_test)\n",
    "\n",
    "plotDf(oversampled_df['label'])"
   ]
  },
  {
   "cell_type": "code",
   "execution_count": 69,
   "metadata": {},
   "outputs": [],
   "source": [
    "#Preparo i dataframe per ogni classe di attacco\n",
    "dos, probe, r2l, u2r = createMulticlassDF(oversampled_df)\n",
    "dos_test, probe_test, r2l_test, u2r_test = createMulticlassDF(oversampled_df_test)\n",
    "\n",
    "X_dos, y_dos = getXandY(dos)\n",
    "X_probe, y_probe = getXandY(probe)\n",
    "X_r2l, y_r2l = getXandY(r2l)\n",
    "X_u2r, y_u2r = getXandY(u2r)\n",
    "\n",
    "X_dos_test, y_dos_test = getXandY(dos_test)\n",
    "X_probe_test, y_probe_test = getXandY(probe_test)\n",
    "X_r2l_test, y_r2l_test = getXandY(r2l_test)\n",
    "X_u2r_test, y_u2r_test = getXandY(u2r_test)"
   ]
  },
  {
   "cell_type": "code",
   "execution_count": 70,
   "metadata": {},
   "outputs": [],
   "source": [
    "#Effettuo standard scaler\n",
    "X_dos_ss=standardScaler(X_dos)\n",
    "X_probe_ss=standardScaler(X_probe)\n",
    "X_r2l_ss=standardScaler(X_r2l)\n",
    "X_u2r_ss=standardScaler(X_u2r)\n",
    "\n",
    "X_dos_test_ss=standardScaler(X_dos_test)\n",
    "X_probe_test_ss=standardScaler(X_probe_test)\n",
    "X_r2l_test_ss=standardScaler(X_r2l_test)\n",
    "X_u2r_test_ss=standardScaler(X_u2r_test)"
   ]
  },
  {
   "cell_type": "markdown",
   "metadata": {},
   "source": [
    "## No feature selection"
   ]
  },
  {
   "cell_type": "markdown",
   "metadata": {},
   "source": [
    "#### K-fold cross validation on dos"
   ]
  },
  {
   "cell_type": "code",
   "execution_count": 71,
   "metadata": {},
   "outputs": [
    {
     "name": "stdout",
     "output_type": "stream",
     "text": [
      ">Train: 0=59387, 1=61830, Test: 0=7956, 1=5513\n",
      ">Train: 0=59336, 1=61881, Test: 0=8007, 1=5462\n",
      ">Train: 0=59437, 1=61780, Test: 0=7906, 1=5563\n",
      ">Train: 0=59306, 1=61911, Test: 0=8037, 1=5432\n",
      ">Train: 0=59299, 1=61918, Test: 0=8044, 1=5425\n",
      ">Train: 0=59294, 1=61923, Test: 0=8049, 1=5420\n",
      ">Train: 0=59294, 1=61924, Test: 0=8049, 1=5419\n",
      ">Train: 0=59327, 1=61891, Test: 0=8016, 1=5452\n",
      ">Train: 0=64064, 1=57154, Test: 0=3279, 1=10189\n",
      ">Train: 0=67343, 1=53875, Test: 0=0, 1=13468\n"
     ]
    },
    {
     "data": {
      "text/plain": [
       "{'Mean Training Accuracy': 0.95691215304543,\n",
       " 'Mean Training Precision': 0.9732190825334432,\n",
       " 'Mean Training Recall': 0.9392731849059883,\n",
       " 'Mean Training F1 Score': 0.9559124966523024,\n",
       " 'Mean Validation Accuracy': 0.9540333341543528,\n",
       " 'Mean Validation Precision': 0.9666895040186285,\n",
       " 'Mean Validation Recall': 0.938942660700271,\n",
       " 'Mean Validation F1 Score': 0.9524323124926448}"
      ]
     },
     "execution_count": 71,
     "metadata": {},
     "output_type": "execute_result"
    }
   ],
   "source": [
    "KfoldCV(LogisticRegression(max_iter=10000), pd.DataFrame(X_dos), y_dos, 10, 1)"
   ]
  },
  {
   "cell_type": "markdown",
   "metadata": {},
   "source": [
    "#### K-fold cross validation on dos Standard Scaler"
   ]
  },
  {
   "cell_type": "code",
   "execution_count": 72,
   "metadata": {},
   "outputs": [
    {
     "name": "stdout",
     "output_type": "stream",
     "text": [
      ">Train: 0=59387, 1=61830, Test: 0=7956, 1=5513\n",
      ">Train: 0=59336, 1=61881, Test: 0=8007, 1=5462\n",
      ">Train: 0=59437, 1=61780, Test: 0=7906, 1=5563\n",
      ">Train: 0=59306, 1=61911, Test: 0=8037, 1=5432\n",
      ">Train: 0=59299, 1=61918, Test: 0=8044, 1=5425\n",
      ">Train: 0=59294, 1=61923, Test: 0=8049, 1=5420\n",
      ">Train: 0=59294, 1=61924, Test: 0=8049, 1=5419\n",
      ">Train: 0=59327, 1=61891, Test: 0=8016, 1=5452\n",
      ">Train: 0=64064, 1=57154, Test: 0=3279, 1=10189\n",
      ">Train: 0=67343, 1=53875, Test: 0=0, 1=13468\n"
     ]
    },
    {
     "data": {
      "text/plain": [
       "{'Mean Training Accuracy': 0.989900789733326,\n",
       " 'Mean Training Precision': 0.9910118614158531,\n",
       " 'Mean Training Recall': 0.9887300917282458,\n",
       " 'Mean Training F1 Score': 0.9898696543114387,\n",
       " 'Mean Validation Accuracy': 0.989575726178295,\n",
       " 'Mean Validation Precision': 0.9888211510730434,\n",
       " 'Mean Validation Recall': 0.9886382249800828,\n",
       " 'Mean Validation F1 Score': 0.9887212636765069}"
      ]
     },
     "execution_count": 72,
     "metadata": {},
     "output_type": "execute_result"
    }
   ],
   "source": [
    "KfoldCV(LogisticRegression(max_iter=10000), pd.DataFrame(X_dos_ss), y_dos, 10, 1)"
   ]
  },
  {
   "cell_type": "markdown",
   "metadata": {},
   "source": [
    "#### Stratified cross validation on dos"
   ]
  },
  {
   "cell_type": "code",
   "execution_count": 73,
   "metadata": {},
   "outputs": [
    {
     "name": "stdout",
     "output_type": "stream",
     "text": [
      ">Train: 0=60608, 1=60609, Test: 0=6735, 1=6734\n",
      ">Train: 0=60608, 1=60609, Test: 0=6735, 1=6734\n",
      ">Train: 0=60608, 1=60609, Test: 0=6735, 1=6734\n",
      ">Train: 0=60609, 1=60608, Test: 0=6734, 1=6735\n",
      ">Train: 0=60609, 1=60608, Test: 0=6734, 1=6735\n",
      ">Train: 0=60609, 1=60608, Test: 0=6734, 1=6735\n",
      ">Train: 0=60609, 1=60609, Test: 0=6734, 1=6734\n",
      ">Train: 0=60609, 1=60609, Test: 0=6734, 1=6734\n",
      ">Train: 0=60609, 1=60609, Test: 0=6734, 1=6734\n",
      ">Train: 0=60609, 1=60609, Test: 0=6734, 1=6734\n"
     ]
    },
    {
     "data": {
      "text/plain": [
       "{'Mean Training Accuracy': 0.9497357515414354,\n",
       " 'Mean Training Precision': 0.965934626636846,\n",
       " 'Mean Training Recall': 0.9323578914023978,\n",
       " 'Mean Training F1 Score': 0.9488454374003601,\n",
       " 'Mean Validation Accuracy': 0.949608825206494,\n",
       " 'Mean Validation Precision': 0.965707245442721,\n",
       " 'Mean Validation Recall': 0.9323167257911134,\n",
       " 'Mean Validation F1 Score': 0.9487120747108749}"
      ]
     },
     "execution_count": 73,
     "metadata": {},
     "output_type": "execute_result"
    }
   ],
   "source": [
    "stratifiedCV(LogisticRegression(max_iter=10000), pd.DataFrame(X_dos), y_dos, 10, 1)"
   ]
  },
  {
   "cell_type": "markdown",
   "metadata": {},
   "source": [
    "#### Stratified cross validation on dos Standard Scaler"
   ]
  },
  {
   "cell_type": "code",
   "execution_count": 74,
   "metadata": {
    "scrolled": true
   },
   "outputs": [
    {
     "name": "stdout",
     "output_type": "stream",
     "text": [
      ">Train: 0=60608, 1=60609, Test: 0=6735, 1=6734\n",
      ">Train: 0=60608, 1=60609, Test: 0=6735, 1=6734\n",
      ">Train: 0=60608, 1=60609, Test: 0=6735, 1=6734\n",
      ">Train: 0=60609, 1=60608, Test: 0=6734, 1=6735\n",
      ">Train: 0=60609, 1=60608, Test: 0=6734, 1=6735\n",
      ">Train: 0=60609, 1=60608, Test: 0=6734, 1=6735\n",
      ">Train: 0=60609, 1=60609, Test: 0=6734, 1=6734\n",
      ">Train: 0=60609, 1=60609, Test: 0=6734, 1=6734\n",
      ">Train: 0=60609, 1=60609, Test: 0=6734, 1=6734\n",
      ">Train: 0=60609, 1=60609, Test: 0=6734, 1=6734\n"
     ]
    },
    {
     "data": {
      "text/plain": [
       "{'Mean Training Accuracy': 0.9898859403242088,\n",
       " 'Mean Training Precision': 0.9910055701844241,\n",
       " 'Mean Training Recall': 0.9887458400989635,\n",
       " 'Mean Training F1 Score': 0.9898744046625039,\n",
       " 'Mean Validation Accuracy': 0.9897910684828795,\n",
       " 'Mean Validation Precision': 0.9908788594554562,\n",
       " 'Mean Validation Recall': 0.9886848288852745,\n",
       " 'Mean Validation F1 Score': 0.9897797697015269}"
      ]
     },
     "execution_count": 74,
     "metadata": {},
     "output_type": "execute_result"
    }
   ],
   "source": [
    "stratifiedCV(LogisticRegression(max_iter=10000), pd.DataFrame(X_dos_ss), y_dos, 10, 1)"
   ]
  },
  {
   "cell_type": "markdown",
   "metadata": {},
   "source": [
    "#### Predict on dos"
   ]
  },
  {
   "cell_type": "code",
   "execution_count": 75,
   "metadata": {},
   "outputs": [
    {
     "data": {
      "image/png": "[encoded data removed]",
      "text/plain": [
       "<Figure size 432x288 with 2 Axes>"
      ]
     },
     "metadata": {
      "needs_background": "light"
     },
     "output_type": "display_data"
    },
    {
     "name": "stdout",
     "output_type": "stream",
     "text": [
      "Accuracy: 0.85089 \n",
      "Precision: 0.93040 \n",
      "Recall: 0.75852 \n",
      "F-measure: 0.83572 \n"
     ]
    }
   ],
   "source": [
    "y_dos_prediction = logisticRegression(X_dos, y_dos).predict(X_dos_test)\n",
    "plotConfusionMatrix(y_dos_prediction, y_dos_test, 1)"
   ]
  },
  {
   "cell_type": "code",
   "execution_count": 76,
   "metadata": {
    "scrolled": true
   },
   "outputs": [
    {
     "data": {
      "image/png": "[encoded data removed]",
      "text/plain": [
       "<Figure size 432x288 with 2 Axes>"
      ]
     },
     "metadata": {
      "needs_background": "light"
     },
     "output_type": "display_data"
    },
    {
     "name": "stdout",
     "output_type": "stream",
     "text": [
      "Accuracy: 0.87277 \n",
      "Precision: 0.90729 \n",
      "Recall: 0.83040 \n",
      "F-measure: 0.86714 \n"
     ]
    }
   ],
   "source": [
    "y_dos_prediction = logisticRegression(X_dos_ss, y_dos).predict(X_dos_test_ss)\n",
    "plotConfusionMatrix(y_dos_prediction, y_dos_test, 1)"
   ]
  },
  {
   "cell_type": "markdown",
   "metadata": {},
   "source": [
    "#### K-fold cross validation on probe"
   ]
  },
  {
   "cell_type": "code",
   "execution_count": 77,
   "metadata": {},
   "outputs": [
    {
     "name": "stdout",
     "output_type": "stream",
     "text": [
      ">Train: 0=55814, 1=65403, Test: 0=11529, 1=1940\n",
      ">Train: 0=55943, 1=65274, Test: 0=11400, 1=2069\n",
      ">Train: 0=55894, 1=65323, Test: 0=11449, 1=2020\n",
      ">Train: 0=55775, 1=65442, Test: 0=11568, 1=1901\n",
      ">Train: 0=55895, 1=65322, Test: 0=11448, 1=2021\n",
      ">Train: 0=57394, 1=63823, Test: 0=9949, 1=3520\n",
      ">Train: 0=67343, 1=53875, Test: 0=0, 1=13468\n",
      ">Train: 0=67343, 1=53875, Test: 0=0, 1=13468\n",
      ">Train: 0=67343, 1=53875, Test: 0=0, 1=13468\n",
      ">Train: 0=67343, 1=53875, Test: 0=0, 1=13468\n"
     ]
    },
    {
     "data": {
      "text/plain": [
       "{'Mean Training Accuracy': 0.745508409313229,\n",
       " 'Mean Training Precision': 0.8533182934783351,\n",
       " 'Mean Training Recall': 0.5933120339194107,\n",
       " 'Mean Training F1 Score': 0.6991581749800544,\n",
       " 'Mean Validation Accuracy': 0.7416094329005458,\n",
       " 'Mean Validation Precision': 0.7124787456761827,\n",
       " 'Mean Validation Recall': 0.5922056037147385,\n",
       " 'Mean Validation F1 Score': 0.6266515676703174}"
      ]
     },
     "execution_count": 77,
     "metadata": {},
     "output_type": "execute_result"
    }
   ],
   "source": [
    "KfoldCV(LogisticRegression(max_iter=10000), pd.DataFrame(X_probe), y_probe, 10, 2)"
   ]
  },
  {
   "cell_type": "markdown",
   "metadata": {},
   "source": [
    "#### K-fold cross validation on probe Standard Scaling"
   ]
  },
  {
   "cell_type": "code",
   "execution_count": 78,
   "metadata": {},
   "outputs": [
    {
     "name": "stdout",
     "output_type": "stream",
     "text": [
      ">Train: 0=55814, 1=65403, Test: 0=11529, 1=1940\n",
      ">Train: 0=55943, 1=65274, Test: 0=11400, 1=2069\n",
      ">Train: 0=55894, 1=65323, Test: 0=11449, 1=2020\n",
      ">Train: 0=55775, 1=65442, Test: 0=11568, 1=1901\n",
      ">Train: 0=55895, 1=65322, Test: 0=11448, 1=2021\n",
      ">Train: 0=57394, 1=63823, Test: 0=9949, 1=3520\n",
      ">Train: 0=67343, 1=53875, Test: 0=0, 1=13468\n",
      ">Train: 0=67343, 1=53875, Test: 0=0, 1=13468\n",
      ">Train: 0=67343, 1=53875, Test: 0=0, 1=13468\n",
      ">Train: 0=67343, 1=53875, Test: 0=0, 1=13468\n"
     ]
    },
    {
     "data": {
      "text/plain": [
       "{'Mean Training Accuracy': 0.9490939519024062,\n",
       " 'Mean Training Precision': 0.9368314740128463,\n",
       " 'Mean Training Recall': 0.9616994625424125,\n",
       " 'Mean Training F1 Score': 0.9491016572658248,\n",
       " 'Mean Validation Accuracy': 0.944656774690556,\n",
       " 'Mean Validation Precision': 0.8396332105154982,\n",
       " 'Mean Validation Recall': 0.9594566383369324,\n",
       " 'Mean Validation F1 Score': 0.8895566867975753}"
      ]
     },
     "execution_count": 78,
     "metadata": {},
     "output_type": "execute_result"
    }
   ],
   "source": [
    "KfoldCV(LogisticRegression(max_iter=10000), pd.DataFrame(X_probe_ss), y_probe, 10, 2)"
   ]
  },
  {
   "cell_type": "markdown",
   "metadata": {},
   "source": [
    "#### Stratified cross validation on probe"
   ]
  },
  {
   "cell_type": "code",
   "execution_count": 79,
   "metadata": {},
   "outputs": [
    {
     "name": "stdout",
     "output_type": "stream",
     "text": [
      ">Train: 0=60608, 1=60609, Test: 0=6735, 1=6734\n",
      ">Train: 0=60608, 1=60609, Test: 0=6735, 1=6734\n",
      ">Train: 0=60608, 1=60609, Test: 0=6735, 1=6734\n",
      ">Train: 0=60609, 1=60608, Test: 0=6734, 1=6735\n",
      ">Train: 0=60609, 1=60608, Test: 0=6734, 1=6735\n",
      ">Train: 0=60609, 1=60608, Test: 0=6734, 1=6735\n",
      ">Train: 0=60609, 1=60609, Test: 0=6734, 1=6734\n",
      ">Train: 0=60609, 1=60609, Test: 0=6734, 1=6734\n",
      ">Train: 0=60609, 1=60609, Test: 0=6734, 1=6734\n",
      ">Train: 0=60609, 1=60609, Test: 0=6734, 1=6734\n"
     ]
    },
    {
     "data": {
      "text/plain": [
       "{'Mean Training Accuracy': 0.7473291779226794,\n",
       " 'Mean Training Precision': 0.8469841153872002,\n",
       " 'Mean Training Recall': 0.6037334583544081,\n",
       " 'Mean Training F1 Score': 0.7049637444805457,\n",
       " 'Mean Validation Accuracy': 0.7473086059766585,\n",
       " 'Mean Validation Precision': 0.8469606643514445,\n",
       " 'Mean Validation Recall': 0.6037450370412508,\n",
       " 'Mean Validation F1 Score': 0.7049460397355632}"
      ]
     },
     "execution_count": 79,
     "metadata": {},
     "output_type": "execute_result"
    }
   ],
   "source": [
    "stratifiedCV(LogisticRegression(max_iter=10000), pd.DataFrame(X_probe), y_probe, 10, 2)"
   ]
  },
  {
   "cell_type": "markdown",
   "metadata": {},
   "source": [
    "#### Stratified cross validation on probe Standard Scaling"
   ]
  },
  {
   "cell_type": "code",
   "execution_count": 80,
   "metadata": {},
   "outputs": [
    {
     "name": "stdout",
     "output_type": "stream",
     "text": [
      ">Train: 0=60608, 1=60609, Test: 0=6735, 1=6734\n",
      ">Train: 0=60608, 1=60609, Test: 0=6735, 1=6734\n",
      ">Train: 0=60608, 1=60609, Test: 0=6735, 1=6734\n",
      ">Train: 0=60609, 1=60608, Test: 0=6734, 1=6735\n",
      ">Train: 0=60609, 1=60608, Test: 0=6734, 1=6735\n",
      ">Train: 0=60609, 1=60608, Test: 0=6734, 1=6735\n",
      ">Train: 0=60609, 1=60609, Test: 0=6734, 1=6734\n",
      ">Train: 0=60609, 1=60609, Test: 0=6734, 1=6734\n",
      ">Train: 0=60609, 1=60609, Test: 0=6734, 1=6734\n",
      ">Train: 0=60609, 1=60609, Test: 0=6734, 1=6734\n"
     ]
    },
    {
     "data": {
      "text/plain": [
       "{'Mean Training Accuracy': 0.9492812091836443,\n",
       " 'Mean Training Precision': 0.9374627808570875,\n",
       " 'Mean Training Recall': 0.9627891699550947,\n",
       " 'Mean Training F1 Score': 0.9499571948639349,\n",
       " 'Mean Validation Accuracy': 0.9492226526044923,\n",
       " 'Mean Validation Precision': 0.9373992352749916,\n",
       " 'Mean Validation Recall': 0.9627429399589754,\n",
       " 'Mean Validation F1 Score': 0.949899564909334}"
      ]
     },
     "execution_count": 80,
     "metadata": {},
     "output_type": "execute_result"
    }
   ],
   "source": [
    "stratifiedCV(LogisticRegression(max_iter=10000), pd.DataFrame(X_probe_ss), y_probe, 10, 2)"
   ]
  },
  {
   "cell_type": "markdown",
   "metadata": {},
   "source": [
    "#### Predict on probe"
   ]
  },
  {
   "cell_type": "code",
   "execution_count": 81,
   "metadata": {},
   "outputs": [
    {
     "data": {
      "image/png": "[encoded data removed]",
      "text/plain": [
       "<Figure size 432x288 with 2 Axes>"
      ]
     },
     "metadata": {
      "needs_background": "light"
     },
     "output_type": "display_data"
    },
    {
     "name": "stdout",
     "output_type": "stream",
     "text": [
      "Accuracy: 0.75440 \n",
      "Precision: 0.86166 \n",
      "Recall: 0.60612 \n",
      "F-measure: 0.71164 \n"
     ]
    }
   ],
   "source": [
    "y_probe_rfe_prediction = logisticRegression(X_probe, y_probe).predict(X_probe_test)\n",
    "plotConfusionMatrix(y_probe_rfe_prediction, y_probe_test, 2)"
   ]
  },
  {
   "cell_type": "code",
   "execution_count": 82,
   "metadata": {},
   "outputs": [
    {
     "data": {
      "image/png": "[encoded data removed]",
      "text/plain": [
       "<Figure size 432x288 with 2 Axes>"
      ]
     },
     "metadata": {
      "needs_background": "light"
     },
     "output_type": "display_data"
    },
    {
     "name": "stdout",
     "output_type": "stream",
     "text": [
      "Accuracy: 0.90902 \n",
      "Precision: 0.91135 \n",
      "Recall: 0.90619 \n",
      "F-measure: 0.90876 \n"
     ]
    }
   ],
   "source": [
    "y_probe_rfe_prediction = logisticRegression(X_probe_ss, y_probe).predict(X_probe_test_ss)\n",
    "plotConfusionMatrix(y_probe_rfe_prediction, y_probe_test, 2)"
   ]
  },
  {
   "cell_type": "markdown",
   "metadata": {},
   "source": [
    "#### K-fold cross validation on r2l"
   ]
  },
  {
   "cell_type": "code",
   "execution_count": 83,
   "metadata": {},
   "outputs": [
    {
     "name": "stdout",
     "output_type": "stream",
     "text": [
      ">Train: 0=54080, 1=67137, Test: 0=13263, 1=206\n",
      ">Train: 0=54094, 1=67123, Test: 0=13249, 1=220\n",
      ">Train: 0=54054, 1=67163, Test: 0=13289, 1=180\n",
      ">Train: 0=54045, 1=67172, Test: 0=13298, 1=171\n",
      ">Train: 0=54082, 1=67135, Test: 0=13261, 1=208\n",
      ">Train: 0=66360, 1=54857, Test: 0=983, 1=12486\n",
      ">Train: 0=67343, 1=53875, Test: 0=0, 1=13468\n",
      ">Train: 0=67343, 1=53875, Test: 0=0, 1=13468\n",
      ">Train: 0=67343, 1=53875, Test: 0=0, 1=13468\n",
      ">Train: 0=67343, 1=53875, Test: 0=0, 1=13468\n"
     ]
    },
    {
     "data": {
      "text/plain": [
       "{'Mean Training Accuracy': 0.7035936562258758,\n",
       " 'Mean Training Precision': 0.9118101805447789,\n",
       " 'Mean Training Recall': 0.4479077668285032,\n",
       " 'Mean Training F1 Score': 0.5954698176413891,\n",
       " 'Mean Validation Accuracy': 0.6586055229662773,\n",
       " 'Mean Validation Precision': 0.5709852590059425,\n",
       " 'Mean Validation Recall': 0.4440067234380211,\n",
       " 'Mean Validation F1 Score': 0.38714348480563265}"
      ]
     },
     "execution_count": 83,
     "metadata": {},
     "output_type": "execute_result"
    }
   ],
   "source": [
    "KfoldCV(LogisticRegression(max_iter=10000), pd.DataFrame(X_r2l), y_r2l, 10, 3)"
   ]
  },
  {
   "cell_type": "markdown",
   "metadata": {},
   "source": [
    "#### K-fold cross validation on r2l Standard Scaling"
   ]
  },
  {
   "cell_type": "code",
   "execution_count": 84,
   "metadata": {},
   "outputs": [
    {
     "name": "stdout",
     "output_type": "stream",
     "text": [
      ">Train: 0=54080, 1=67137, Test: 0=13263, 1=206\n",
      ">Train: 0=54094, 1=67123, Test: 0=13249, 1=220\n",
      ">Train: 0=54054, 1=67163, Test: 0=13289, 1=180\n",
      ">Train: 0=54045, 1=67172, Test: 0=13298, 1=171\n",
      ">Train: 0=54082, 1=67135, Test: 0=13261, 1=208\n",
      ">Train: 0=66360, 1=54857, Test: 0=983, 1=12486\n",
      ">Train: 0=67343, 1=53875, Test: 0=0, 1=13468\n",
      ">Train: 0=67343, 1=53875, Test: 0=0, 1=13468\n",
      ">Train: 0=67343, 1=53875, Test: 0=0, 1=13468\n",
      ">Train: 0=67343, 1=53875, Test: 0=0, 1=13468\n"
     ]
    },
    {
     "data": {
      "text/plain": [
       "{'Mean Training Accuracy': 0.9747561009231476,\n",
       " 'Mean Training Precision': 0.9679400970735672,\n",
       " 'Mean Training Recall': 0.9813239088277111,\n",
       " 'Mean Training F1 Score': 0.9745860178557866,\n",
       " 'Mean Validation Accuracy': 0.9710513949432948,\n",
       " 'Mean Validation Precision': 0.6423625694993109,\n",
       " 'Mean Validation Recall': 0.9799410275480778,\n",
       " 'Mean Validation F1 Score': 0.7153541408169639}"
      ]
     },
     "execution_count": 84,
     "metadata": {},
     "output_type": "execute_result"
    }
   ],
   "source": [
    "KfoldCV(LogisticRegression(max_iter=10000), pd.DataFrame(X_r2l_ss), y_r2l, 10, 3)"
   ]
  },
  {
   "cell_type": "markdown",
   "metadata": {},
   "source": [
    "#### Stratified cross validation on r2l"
   ]
  },
  {
   "cell_type": "code",
   "execution_count": 85,
   "metadata": {},
   "outputs": [
    {
     "name": "stdout",
     "output_type": "stream",
     "text": [
      ">Train: 0=60608, 1=60609, Test: 0=6735, 1=6734\n",
      ">Train: 0=60608, 1=60609, Test: 0=6735, 1=6734\n",
      ">Train: 0=60608, 1=60609, Test: 0=6735, 1=6734\n",
      ">Train: 0=60609, 1=60608, Test: 0=6734, 1=6735\n",
      ">Train: 0=60609, 1=60608, Test: 0=6734, 1=6735\n",
      ">Train: 0=60609, 1=60608, Test: 0=6734, 1=6735\n",
      ">Train: 0=60609, 1=60609, Test: 0=6734, 1=6734\n",
      ">Train: 0=60609, 1=60609, Test: 0=6734, 1=6734\n",
      ">Train: 0=60609, 1=60609, Test: 0=6734, 1=6734\n",
      ">Train: 0=60609, 1=60609, Test: 0=6734, 1=6734\n"
     ]
    },
    {
     "data": {
      "text/plain": [
       "{'Mean Training Accuracy': 0.6849775185958753,\n",
       " 'Mean Training Precision': 0.9024598358667015,\n",
       " 'Mean Training Recall': 0.41776004128863764,\n",
       " 'Mean Training F1 Score': 0.569142567507164,\n",
       " 'Mean Validation Accuracy': 0.6853278446455372,\n",
       " 'Mean Validation Precision': 0.9036345405378692,\n",
       " 'Mean Validation Recall': 0.41827766727544013,\n",
       " 'Mean Validation F1 Score': 0.5697874127736019}"
      ]
     },
     "execution_count": 85,
     "metadata": {},
     "output_type": "execute_result"
    }
   ],
   "source": [
    "stratifiedCV(LogisticRegression(max_iter=10000), pd.DataFrame(X_r2l), y_r2l, 10, 3)"
   ]
  },
  {
   "cell_type": "markdown",
   "metadata": {},
   "source": [
    "#### Stratified cross validation on r2l Standard Scaling"
   ]
  },
  {
   "cell_type": "code",
   "execution_count": 86,
   "metadata": {},
   "outputs": [
    {
     "name": "stdout",
     "output_type": "stream",
     "text": [
      ">Train: 0=60608, 1=60609, Test: 0=6735, 1=6734\n",
      ">Train: 0=60608, 1=60609, Test: 0=6735, 1=6734\n",
      ">Train: 0=60608, 1=60609, Test: 0=6735, 1=6734\n",
      ">Train: 0=60609, 1=60608, Test: 0=6734, 1=6735\n",
      ">Train: 0=60609, 1=60608, Test: 0=6734, 1=6735\n",
      ">Train: 0=60609, 1=60608, Test: 0=6734, 1=6735\n",
      ">Train: 0=60609, 1=60609, Test: 0=6734, 1=6734\n",
      ">Train: 0=60609, 1=60609, Test: 0=6734, 1=6734\n",
      ">Train: 0=60609, 1=60609, Test: 0=6734, 1=6734\n",
      ">Train: 0=60609, 1=60609, Test: 0=6734, 1=6734\n"
     ]
    },
    {
     "data": {
      "text/plain": [
       "{'Mean Training Accuracy': 0.9750761853650219,\n",
       " 'Mean Training Precision': 0.9683624609805136,\n",
       " 'Mean Training Recall': 0.9822434732303881,\n",
       " 'Mean Training F1 Score': 0.9752535608881425,\n",
       " 'Mean Validation Accuracy': 0.9749342818761484,\n",
       " 'Mean Validation Precision': 0.9681976133939415,\n",
       " 'Mean Validation Recall': 0.9821362479491654,\n",
       " 'Mean Validation F1 Score': 0.9751151149325047}"
      ]
     },
     "execution_count": 86,
     "metadata": {},
     "output_type": "execute_result"
    }
   ],
   "source": [
    "stratifiedCV(LogisticRegression(max_iter=10000), pd.DataFrame(X_r2l_ss), y_r2l, 10, 3)"
   ]
  },
  {
   "cell_type": "markdown",
   "metadata": {},
   "source": [
    "#### Predict on r2l"
   ]
  },
  {
   "cell_type": "code",
   "execution_count": 87,
   "metadata": {},
   "outputs": [
    {
     "data": {
      "image/png": "[encoded data removed]",
      "text/plain": [
       "<Figure size 432x288 with 2 Axes>"
      ]
     },
     "metadata": {
      "needs_background": "light"
     },
     "output_type": "display_data"
    },
    {
     "name": "stdout",
     "output_type": "stream",
     "text": [
      "Accuracy: 0.52168 \n",
      "Precision: 0.89054 \n",
      "Recall: 0.04943 \n",
      "F-measure: 0.09366 \n"
     ]
    }
   ],
   "source": [
    "y_r2l_rfe_prediction = logisticRegression(X_r2l, y_r2l).predict(X_r2l_test)\n",
    "plotConfusionMatrix(y_r2l_rfe_prediction, y_r2l_test, 3)"
   ]
  },
  {
   "cell_type": "code",
   "execution_count": 88,
   "metadata": {},
   "outputs": [
    {
     "data": {
      "image/png": "[encoded data removed]",
      "text/plain": [
       "<Figure size 432x288 with 2 Axes>"
      ]
     },
     "metadata": {
      "needs_background": "light"
     },
     "output_type": "display_data"
    },
    {
     "name": "stdout",
     "output_type": "stream",
     "text": [
      "Accuracy: 0.52168 \n",
      "Precision: 0.89054 \n",
      "Recall: 0.04943 \n",
      "F-measure: 0.09366 \n"
     ]
    }
   ],
   "source": [
    "y_probe_rfy_r2l_rfe_predictione_prediction = logisticRegression(X_r2l_ss, y_r2l).predict(X_r2l_test_ss)\n",
    "plotConfusionMatrix(y_r2l_rfe_prediction, y_r2l_test, 3)"
   ]
  },
  {
   "cell_type": "markdown",
   "metadata": {},
   "source": [
    "#### K-fold cross validation on u2r"
   ]
  },
  {
   "cell_type": "code",
   "execution_count": 89,
   "metadata": {
    "scrolled": true
   },
   "outputs": [
    {
     "name": "stdout",
     "output_type": "stream",
     "text": [
      ">Train: 0=53885, 1=67332, Test: 0=13458, 1=11\n",
      ">Train: 0=53886, 1=67331, Test: 0=13457, 1=12\n",
      ">Train: 0=53886, 1=67331, Test: 0=13457, 1=12\n",
      ">Train: 0=53882, 1=67335, Test: 0=13461, 1=8\n",
      ">Train: 0=53883, 1=67334, Test: 0=13460, 1=9\n",
      ">Train: 0=67293, 1=53924, Test: 0=50, 1=13419\n",
      ">Train: 0=67343, 1=53875, Test: 0=0, 1=13468\n",
      ">Train: 0=67343, 1=53875, Test: 0=0, 1=13468\n",
      ">Train: 0=67343, 1=53875, Test: 0=0, 1=13468\n",
      ">Train: 0=67343, 1=53875, Test: 0=0, 1=13468\n"
     ]
    },
    {
     "data": {
      "text/plain": [
       "{'Mean Training Accuracy': 0.96632498501768,\n",
       " 'Mean Training Precision': 0.9426250100357423,\n",
       " 'Mean Training Recall': 0.9910757223401907,\n",
       " 'Mean Training F1 Score': 0.9661693313825234,\n",
       " 'Mean Validation Accuracy': 0.9652011974697402,\n",
       " 'Mean Validation Precision': 0.507475373208756,\n",
       " 'Mean Validation Recall': 0.9717132486498684,\n",
       " 'Mean Validation F1 Score': 0.5113172264588796}"
      ]
     },
     "execution_count": 89,
     "metadata": {},
     "output_type": "execute_result"
    }
   ],
   "source": [
    "KfoldCV(LogisticRegression(max_iter=10000), pd.DataFrame(X_u2r), y_u2r, 10, 4)"
   ]
  },
  {
   "cell_type": "markdown",
   "metadata": {},
   "source": [
    "#### K-fold cross validation on u2r Standard Scaling"
   ]
  },
  {
   "cell_type": "code",
   "execution_count": 90,
   "metadata": {},
   "outputs": [
    {
     "name": "stdout",
     "output_type": "stream",
     "text": [
      ">Train: 0=53885, 1=67332, Test: 0=13458, 1=11\n",
      ">Train: 0=53886, 1=67331, Test: 0=13457, 1=12\n",
      ">Train: 0=53886, 1=67331, Test: 0=13457, 1=12\n",
      ">Train: 0=53882, 1=67335, Test: 0=13461, 1=8\n",
      ">Train: 0=53883, 1=67334, Test: 0=13460, 1=9\n",
      ">Train: 0=67293, 1=53924, Test: 0=50, 1=13419\n",
      ">Train: 0=67343, 1=53875, Test: 0=0, 1=13468\n",
      ">Train: 0=67343, 1=53875, Test: 0=0, 1=13468\n",
      ">Train: 0=67343, 1=53875, Test: 0=0, 1=13468\n",
      ">Train: 0=67343, 1=53875, Test: 0=0, 1=13468\n"
     ]
    },
    {
     "data": {
      "text/plain": [
       "{'Mean Training Accuracy': 0.9852356220597327,\n",
       " 'Mean Training Precision': 0.9730566449922557,\n",
       " 'Mean Training Recall': 0.9974547796336954,\n",
       " 'Mean Training F1 Score': 0.9851029266375739,\n",
       " 'Mean Validation Accuracy': 0.9833022768207268,\n",
       " 'Mean Validation Precision': 0.5126174498909766,\n",
       " 'Mean Validation Recall': 0.989608394185859,\n",
       " 'Mean Validation F1 Score': 0.523566823332472}"
      ]
     },
     "execution_count": 90,
     "metadata": {},
     "output_type": "execute_result"
    }
   ],
   "source": [
    "KfoldCV(LogisticRegression(max_iter=10000), pd.DataFrame(X_u2r_ss), y_u2r, 10, 4)"
   ]
  },
  {
   "cell_type": "markdown",
   "metadata": {},
   "source": [
    "#### Stratified cross validation on u2r"
   ]
  },
  {
   "cell_type": "code",
   "execution_count": 91,
   "metadata": {
    "scrolled": true
   },
   "outputs": [
    {
     "name": "stdout",
     "output_type": "stream",
     "text": [
      ">Train: 0=60608, 1=60609, Test: 0=6735, 1=6734\n",
      ">Train: 0=60608, 1=60609, Test: 0=6735, 1=6734\n",
      ">Train: 0=60608, 1=60609, Test: 0=6735, 1=6734\n",
      ">Train: 0=60609, 1=60608, Test: 0=6734, 1=6735\n",
      ">Train: 0=60609, 1=60608, Test: 0=6734, 1=6735\n",
      ">Train: 0=60609, 1=60608, Test: 0=6734, 1=6735\n",
      ">Train: 0=60609, 1=60609, Test: 0=6734, 1=6734\n",
      ">Train: 0=60609, 1=60609, Test: 0=6734, 1=6734\n",
      ">Train: 0=60609, 1=60609, Test: 0=6734, 1=6734\n",
      ">Train: 0=60609, 1=60609, Test: 0=6734, 1=6734\n"
     ]
    },
    {
     "data": {
      "text/plain": [
       "{'Mean Training Accuracy': 0.9638500530610289,\n",
       " 'Mean Training Precision': 0.939561120487682,\n",
       " 'Mean Training Recall': 0.9917453942394499,\n",
       " 'Mean Training F1 Score': 0.9648905914394836,\n",
       " 'Mean Validation Accuracy': 0.9635005085873747,\n",
       " 'Mean Validation Precision': 0.9392046735860123,\n",
       " 'Mean Validation Recall': 0.9915062898136396,\n",
       " 'Mean Validation F1 Score': 0.9645708531355076}"
      ]
     },
     "execution_count": 91,
     "metadata": {},
     "output_type": "execute_result"
    }
   ],
   "source": [
    "stratifiedCV(LogisticRegression(max_iter=10000), pd.DataFrame(X_u2r), y_u2r, 10, 4)"
   ]
  },
  {
   "cell_type": "markdown",
   "metadata": {},
   "source": [
    "#### Stratified cross validation on u2r Standard Scaling"
   ]
  },
  {
   "cell_type": "code",
   "execution_count": 92,
   "metadata": {},
   "outputs": [
    {
     "name": "stdout",
     "output_type": "stream",
     "text": [
      ">Train: 0=60608, 1=60609, Test: 0=6735, 1=6734\n",
      ">Train: 0=60608, 1=60609, Test: 0=6735, 1=6734\n",
      ">Train: 0=60608, 1=60609, Test: 0=6735, 1=6734\n",
      ">Train: 0=60609, 1=60608, Test: 0=6734, 1=6735\n",
      ">Train: 0=60609, 1=60608, Test: 0=6734, 1=6735\n",
      ">Train: 0=60609, 1=60608, Test: 0=6734, 1=6735\n",
      ">Train: 0=60609, 1=60609, Test: 0=6734, 1=6734\n",
      ">Train: 0=60609, 1=60609, Test: 0=6734, 1=6734\n",
      ">Train: 0=60609, 1=60609, Test: 0=6734, 1=6734\n",
      ">Train: 0=60609, 1=60609, Test: 0=6734, 1=6734\n"
     ]
    },
    {
     "data": {
      "text/plain": [
       "{'Mean Training Accuracy': 0.9854105105149534,\n",
       " 'Mean Training Precision': 0.9732644072759455,\n",
       " 'Mean Training Recall': 0.9982428262117422,\n",
       " 'Mean Training F1 Score': 0.9855953544921856,\n",
       " 'Mean Validation Accuracy': 0.9853065679667505,\n",
       " 'Mean Validation Precision': 0.9730666652782866,\n",
       " 'Mean Validation Recall': 0.9982477952633854,\n",
       " 'Mean Validation F1 Score': 0.9854952275048442}"
      ]
     },
     "execution_count": 92,
     "metadata": {},
     "output_type": "execute_result"
    }
   ],
   "source": [
    "stratifiedCV(LogisticRegression(max_iter=10000), pd.DataFrame(X_u2r_ss), y_u2r, 10, 4)"
   ]
  },
  {
   "cell_type": "markdown",
   "metadata": {},
   "source": [
    "#### Predict on u2r"
   ]
  },
  {
   "cell_type": "code",
   "execution_count": 93,
   "metadata": {},
   "outputs": [
    {
     "data": {
      "image/png": "[encoded data removed]",
      "text/plain": [
       "<Figure size 432x288 with 2 Axes>"
      ]
     },
     "metadata": {
      "needs_background": "light"
     },
     "output_type": "display_data"
    },
    {
     "name": "stdout",
     "output_type": "stream",
     "text": [
      "Accuracy: 0.85589 \n",
      "Precision: 0.95896 \n",
      "Recall: 0.74359 \n",
      "F-measure: 0.83765 \n"
     ]
    }
   ],
   "source": [
    "y_u2r_rfe_prediction = logisticRegression(X_u2r, y_u2r).predict(X_u2r_test)\n",
    "plotConfusionMatrix(y_u2r_rfe_prediction, y_u2r_test, 4)"
   ]
  },
  {
   "cell_type": "code",
   "execution_count": 94,
   "metadata": {},
   "outputs": [
    {
     "data": {
      "image/png": "[encoded data removed]",
      "text/plain": [
       "<Figure size 432x288 with 2 Axes>"
      ]
     },
     "metadata": {
      "needs_background": "light"
     },
     "output_type": "display_data"
    },
    {
     "name": "stdout",
     "output_type": "stream",
     "text": [
      "Accuracy: 0.83071 \n",
      "Precision: 0.91887 \n",
      "Recall: 0.72547 \n",
      "F-measure: 0.81080 \n"
     ]
    }
   ],
   "source": [
    "y_u2r_rfe_prediction = logisticRegression(X_u2r_ss, y_u2r).predict(X_u2r_test_ss)\n",
    "plotConfusionMatrix(y_u2r_rfe_prediction, y_u2r_test, 4)"
   ]
  },
  {
   "cell_type": "markdown",
   "metadata": {},
   "source": [
    "## Feature selection"
   ]
  },
  {
   "cell_type": "code",
   "execution_count": 95,
   "metadata": {},
   "outputs": [],
   "source": [
    "X_dos_rfe, rfecolname_dos = recursiveFeatureExtraction(LogisticRegression(max_iter=10000), X_dos, y_dos, 13)\n",
    "X_probe_rfe, rfecolname_probe = recursiveFeatureExtraction(LogisticRegression(max_iter=10000), X_probe, y_probe, 13)\n",
    "X_r2l_rfe, rfecolname_r2l = recursiveFeatureExtraction(LogisticRegression(max_iter=10000), X_r2l, y_r2l, 13)\n",
    "X_u2r_rfe, rfecolname_u2r = recursiveFeatureExtraction(LogisticRegression(max_iter=10000), X_u2r, y_u2r, 13)\n",
    "\n",
    "X_dos_test_rfe=X_dos_test.values[:,rfecolname_dos]\n",
    "X_probe_test_rfe=X_probe_test.values[:,rfecolname_probe]\n",
    "X_r2l_test_rfe=X_r2l_test.values[:,rfecolname_r2l]\n",
    "X_u2r_test_rfe=X_u2r_test.values[:,rfecolname_u2r]"
   ]
  },
  {
   "cell_type": "code",
   "execution_count": 96,
   "metadata": {},
   "outputs": [],
   "source": [
    "X_dos_rfe_ss, rfecolname_dosSS = recursiveFeatureExtraction(LogisticRegression(max_iter=10000), X_dos_ss, y_dos, 13)\n",
    "X_probe_rfe_ss, rfecolname_probeSS = recursiveFeatureExtraction(LogisticRegression(max_iter=10000), X_probe_ss, y_probe, 13)\n",
    "X_r2l_rfe_ss, rfecolname_r2lSS = recursiveFeatureExtraction(LogisticRegression(max_iter=10000), X_r2l_ss, y_r2l, 13)\n",
    "X_u2r_rfe_ss, rfecolname_u2rSS = recursiveFeatureExtraction(LogisticRegression(max_iter=10000), X_u2r_ss, y_u2r, 13)\n",
    "\n",
    "X_dos_test_rfe_ss=X_dos_test_ss[:,rfecolname_dosSS]\n",
    "X_probe_test_rfe_ss=X_probe_test_ss[:,rfecolname_probeSS]\n",
    "X_r2l_test_rfe_ss=X_r2l_test_ss[:,rfecolname_r2lSS]\n",
    "X_u2r_test_rfe_ss=X_u2r_test_ss[:,rfecolname_u2rSS]"
   ]
  },
  {
   "cell_type": "markdown",
   "metadata": {},
   "source": [
    "#### K-fold cross validation on dos"
   ]
  },
  {
   "cell_type": "code",
   "execution_count": 97,
   "metadata": {},
   "outputs": [
    {
     "name": "stdout",
     "output_type": "stream",
     "text": [
      ">Train: 0=59387, 1=61830, Test: 0=7956, 1=5513\n",
      ">Train: 0=59336, 1=61881, Test: 0=8007, 1=5462\n",
      ">Train: 0=59437, 1=61780, Test: 0=7906, 1=5563\n",
      ">Train: 0=59306, 1=61911, Test: 0=8037, 1=5432\n",
      ">Train: 0=59299, 1=61918, Test: 0=8044, 1=5425\n",
      ">Train: 0=59294, 1=61923, Test: 0=8049, 1=5420\n",
      ">Train: 0=59294, 1=61924, Test: 0=8049, 1=5419\n",
      ">Train: 0=59327, 1=61891, Test: 0=8016, 1=5452\n",
      ">Train: 0=64064, 1=57154, Test: 0=3279, 1=10189\n",
      ">Train: 0=67343, 1=53875, Test: 0=0, 1=13468\n"
     ]
    },
    {
     "data": {
      "text/plain": [
       "{'Mean Training Accuracy': 0.9606343637521135,\n",
       " 'Mean Training Precision': 0.971714881578287,\n",
       " 'Mean Training Recall': 0.9487627684792969,\n",
       " 'Mean Training F1 Score': 0.9601006515648163,\n",
       " 'Mean Validation Accuracy': 0.9597581152095221,\n",
       " 'Mean Validation Precision': 0.9651733882363317,\n",
       " 'Mean Validation Recall': 0.9490934455459141,\n",
       " 'Mean Validation F1 Score': 0.9569816537458472}"
      ]
     },
     "execution_count": 97,
     "metadata": {},
     "output_type": "execute_result"
    }
   ],
   "source": [
    "KfoldCV(LogisticRegression(max_iter=10000), pd.DataFrame(X_dos_rfe), y_dos, 10, 1)"
   ]
  },
  {
   "cell_type": "markdown",
   "metadata": {},
   "source": [
    "#### K-fold cross validation on dos Standard Scaler"
   ]
  },
  {
   "cell_type": "code",
   "execution_count": 98,
   "metadata": {},
   "outputs": [
    {
     "name": "stdout",
     "output_type": "stream",
     "text": [
      ">Train: 0=59387, 1=61830, Test: 0=7956, 1=5513\n",
      ">Train: 0=59336, 1=61881, Test: 0=8007, 1=5462\n",
      ">Train: 0=59437, 1=61780, Test: 0=7906, 1=5563\n",
      ">Train: 0=59306, 1=61911, Test: 0=8037, 1=5432\n",
      ">Train: 0=59299, 1=61918, Test: 0=8044, 1=5425\n",
      ">Train: 0=59294, 1=61923, Test: 0=8049, 1=5420\n",
      ">Train: 0=59294, 1=61924, Test: 0=8049, 1=5419\n",
      ">Train: 0=59327, 1=61891, Test: 0=8016, 1=5452\n",
      ">Train: 0=64064, 1=57154, Test: 0=3279, 1=10189\n",
      ">Train: 0=67343, 1=53875, Test: 0=0, 1=13468\n"
     ]
    },
    {
     "data": {
      "text/plain": [
       "{'Mean Training Accuracy': 0.9835007171210579,\n",
       " 'Mean Training Precision': 0.9890842317898428,\n",
       " 'Mean Training Recall': 0.9777775587219748,\n",
       " 'Mean Training F1 Score': 0.9833982962576775,\n",
       " 'Mean Validation Accuracy': 0.9831682000068668,\n",
       " 'Mean Validation Precision': 0.9862994473867653,\n",
       " 'Mean Validation Recall': 0.9777996029646765,\n",
       " 'Mean Validation F1 Score': 0.9820197697546847}"
      ]
     },
     "execution_count": 98,
     "metadata": {},
     "output_type": "execute_result"
    }
   ],
   "source": [
    "KfoldCV(LogisticRegression(max_iter=10000), pd.DataFrame(X_dos_rfe_ss), y_dos, 10, 1)"
   ]
  },
  {
   "cell_type": "markdown",
   "metadata": {},
   "source": [
    "#### Stratified cross validation on dos"
   ]
  },
  {
   "cell_type": "code",
   "execution_count": 99,
   "metadata": {},
   "outputs": [
    {
     "name": "stdout",
     "output_type": "stream",
     "text": [
      ">Train: 0=60608, 1=60609, Test: 0=6735, 1=6734\n",
      ">Train: 0=60608, 1=60609, Test: 0=6735, 1=6734\n",
      ">Train: 0=60608, 1=60609, Test: 0=6735, 1=6734\n",
      ">Train: 0=60609, 1=60608, Test: 0=6734, 1=6735\n",
      ">Train: 0=60609, 1=60608, Test: 0=6734, 1=6735\n",
      ">Train: 0=60609, 1=60608, Test: 0=6734, 1=6735\n",
      ">Train: 0=60609, 1=60609, Test: 0=6734, 1=6734\n",
      ">Train: 0=60609, 1=60609, Test: 0=6734, 1=6734\n",
      ">Train: 0=60609, 1=60609, Test: 0=6734, 1=6734\n",
      ">Train: 0=60609, 1=60609, Test: 0=6734, 1=6734\n"
     ]
    },
    {
     "data": {
      "text/plain": [
       "{'Mean Training Accuracy': 0.9609206275975136,\n",
       " 'Mean Training Precision': 0.9724566709894665,\n",
       " 'Mean Training Recall': 0.948711985128271,\n",
       " 'Mean Training F1 Score': 0.9604374876633595,\n",
       " 'Mean Validation Accuracy': 0.9608273884946243,\n",
       " 'Mean Validation Precision': 0.9724101249484525,\n",
       " 'Mean Validation Recall': 0.9485766431646164,\n",
       " 'Mean Validation F1 Score': 0.9603403340042883}"
      ]
     },
     "execution_count": 99,
     "metadata": {},
     "output_type": "execute_result"
    }
   ],
   "source": [
    "stratifiedCV(LogisticRegression(max_iter=10000), pd.DataFrame(X_dos_rfe), y_dos, 10, 1)"
   ]
  },
  {
   "cell_type": "markdown",
   "metadata": {},
   "source": [
    "#### Stratified cross validation on dos Standard Scaler"
   ]
  },
  {
   "cell_type": "code",
   "execution_count": 100,
   "metadata": {},
   "outputs": [
    {
     "name": "stdout",
     "output_type": "stream",
     "text": [
      ">Train: 0=60608, 1=60609, Test: 0=6735, 1=6734\n",
      ">Train: 0=60608, 1=60609, Test: 0=6735, 1=6734\n",
      ">Train: 0=60608, 1=60609, Test: 0=6735, 1=6734\n",
      ">Train: 0=60609, 1=60608, Test: 0=6734, 1=6735\n",
      ">Train: 0=60609, 1=60608, Test: 0=6734, 1=6735\n",
      ">Train: 0=60609, 1=60608, Test: 0=6734, 1=6735\n",
      ">Train: 0=60609, 1=60609, Test: 0=6734, 1=6734\n",
      ">Train: 0=60609, 1=60609, Test: 0=6734, 1=6734\n",
      ">Train: 0=60609, 1=60609, Test: 0=6734, 1=6734\n",
      ">Train: 0=60609, 1=60609, Test: 0=6734, 1=6734\n"
     ]
    },
    {
     "data": {
      "text/plain": [
       "{'Mean Training Accuracy': 0.9834800943055043,\n",
       " 'Mean Training Precision': 0.9890893030857368,\n",
       " 'Mean Training Recall': 0.977745769371929,\n",
       " 'Mean Training F1 Score': 0.9833848180278745,\n",
       " 'Mean Validation Accuracy': 0.9834355372090172,\n",
       " 'Mean Validation Precision': 0.9890056496120275,\n",
       " 'Mean Validation Recall': 0.9777408309702296,\n",
       " 'Mean Validation F1 Score': 0.9833404405995795}"
      ]
     },
     "execution_count": 100,
     "metadata": {},
     "output_type": "execute_result"
    }
   ],
   "source": [
    "stratifiedCV(LogisticRegression(max_iter=10000), pd.DataFrame(X_dos_rfe_ss), y_dos, 10, 1)"
   ]
  },
  {
   "cell_type": "markdown",
   "metadata": {},
   "source": [
    "#### Predict on dos"
   ]
  },
  {
   "cell_type": "code",
   "execution_count": 101,
   "metadata": {},
   "outputs": [
    {
     "data": {
      "image/png": "[encoded data removed]",
      "text/plain": [
       "<Figure size 432x288 with 2 Axes>"
      ]
     },
     "metadata": {
      "needs_background": "light"
     },
     "output_type": "display_data"
    },
    {
     "name": "stdout",
     "output_type": "stream",
     "text": [
      "Accuracy: 0.86325 \n",
      "Precision: 0.95393 \n",
      "Recall: 0.76336 \n",
      "F-measure: 0.84807 \n"
     ]
    }
   ],
   "source": [
    "y_dos_rfe_prediction = logisticRegression(X_dos_rfe, y_dos).predict(X_dos_test_rfe)\n",
    "plotConfusionMatrix(y_dos_rfe_prediction, y_dos_test, 1)"
   ]
  },
  {
   "cell_type": "code",
   "execution_count": 102,
   "metadata": {},
   "outputs": [
    {
     "data": {
      "image/png": "[encoded data removed]",
      "text/plain": [
       "<Figure size 432x288 with 2 Axes>"
      ]
     },
     "metadata": {
      "needs_background": "light"
     },
     "output_type": "display_data"
    },
    {
     "name": "stdout",
     "output_type": "stream",
     "text": [
      "Accuracy: 0.86093 \n",
      "Precision: 0.88721 \n",
      "Recall: 0.82700 \n",
      "F-measure: 0.85605 \n"
     ]
    }
   ],
   "source": [
    "y_dos_rfe_prediction = logisticRegression(X_dos_rfe_ss, y_dos).predict(X_dos_test_rfe_ss)\n",
    "plotConfusionMatrix(y_dos_rfe_prediction, y_dos_test, 1)"
   ]
  },
  {
   "cell_type": "markdown",
   "metadata": {},
   "source": [
    "#### K-fold cross validation on probe"
   ]
  },
  {
   "cell_type": "code",
   "execution_count": 103,
   "metadata": {},
   "outputs": [
    {
     "name": "stdout",
     "output_type": "stream",
     "text": [
      ">Train: 0=55814, 1=65403, Test: 0=11529, 1=1940\n",
      ">Train: 0=55943, 1=65274, Test: 0=11400, 1=2069\n",
      ">Train: 0=55894, 1=65323, Test: 0=11449, 1=2020\n",
      ">Train: 0=55775, 1=65442, Test: 0=11568, 1=1901\n",
      ">Train: 0=55895, 1=65322, Test: 0=11448, 1=2021\n",
      ">Train: 0=57394, 1=63823, Test: 0=9949, 1=3520\n",
      ">Train: 0=67343, 1=53875, Test: 0=0, 1=13468\n",
      ">Train: 0=67343, 1=53875, Test: 0=0, 1=13468\n",
      ">Train: 0=67343, 1=53875, Test: 0=0, 1=13468\n",
      ">Train: 0=67343, 1=53875, Test: 0=0, 1=13468\n"
     ]
    },
    {
     "data": {
      "text/plain": [
       "{'Mean Training Accuracy': 0.9487317852453915,\n",
       " 'Mean Training Precision': 0.9408031391863183,\n",
       " 'Mean Training Recall': 0.9566812659092536,\n",
       " 'Mean Training F1 Score': 0.9486723557108897,\n",
       " 'Mean Validation Accuracy': 0.9454956792509691,\n",
       " 'Mean Validation Precision': 0.8467619208332812,\n",
       " 'Mean Validation Recall': 0.9547680328140705,\n",
       " 'Mean Validation F1 Score': 0.8922526396976764}"
      ]
     },
     "execution_count": 103,
     "metadata": {},
     "output_type": "execute_result"
    }
   ],
   "source": [
    "KfoldCV(LogisticRegression(max_iter=10000), pd.DataFrame(X_probe_rfe), y_probe, 10, 2)"
   ]
  },
  {
   "cell_type": "markdown",
   "metadata": {},
   "source": [
    "#### K-fold cross validation on probe Standard Scaler"
   ]
  },
  {
   "cell_type": "code",
   "execution_count": 104,
   "metadata": {},
   "outputs": [
    {
     "name": "stdout",
     "output_type": "stream",
     "text": [
      ">Train: 0=55814, 1=65403, Test: 0=11529, 1=1940\n",
      ">Train: 0=55943, 1=65274, Test: 0=11400, 1=2069\n",
      ">Train: 0=55894, 1=65323, Test: 0=11449, 1=2020\n",
      ">Train: 0=55775, 1=65442, Test: 0=11568, 1=1901\n",
      ">Train: 0=55895, 1=65322, Test: 0=11448, 1=2021\n",
      ">Train: 0=57394, 1=63823, Test: 0=9949, 1=3520\n",
      ">Train: 0=67343, 1=53875, Test: 0=0, 1=13468\n",
      ">Train: 0=67343, 1=53875, Test: 0=0, 1=13468\n",
      ">Train: 0=67343, 1=53875, Test: 0=0, 1=13468\n",
      ">Train: 0=67343, 1=53875, Test: 0=0, 1=13468\n"
     ]
    },
    {
     "data": {
      "text/plain": [
       "{'Mean Training Accuracy': 0.9514582953785009,\n",
       " 'Mean Training Precision': 0.939010321793597,\n",
       " 'Mean Training Recall': 0.9644267099414783,\n",
       " 'Mean Training F1 Score': 0.9515482753627428,\n",
       " 'Mean Validation Accuracy': 0.9470327048506573,\n",
       " 'Mean Validation Precision': 0.8424068097638358,\n",
       " 'Mean Validation Recall': 0.9624698232421632,\n",
       " 'Mean Validation F1 Score': 0.892693920362241}"
      ]
     },
     "execution_count": 104,
     "metadata": {},
     "output_type": "execute_result"
    }
   ],
   "source": [
    "KfoldCV(LogisticRegression(max_iter=10000), pd.DataFrame(X_probe_rfe_ss), y_probe, 10, 2)"
   ]
  },
  {
   "cell_type": "markdown",
   "metadata": {},
   "source": [
    "#### Stratified cross validation on probe"
   ]
  },
  {
   "cell_type": "code",
   "execution_count": 105,
   "metadata": {},
   "outputs": [
    {
     "name": "stdout",
     "output_type": "stream",
     "text": [
      ">Train: 0=60608, 1=60609, Test: 0=6735, 1=6734\n",
      ">Train: 0=60608, 1=60609, Test: 0=6735, 1=6734\n",
      ">Train: 0=60608, 1=60609, Test: 0=6735, 1=6734\n",
      ">Train: 0=60609, 1=60608, Test: 0=6734, 1=6735\n",
      ">Train: 0=60609, 1=60608, Test: 0=6734, 1=6735\n",
      ">Train: 0=60609, 1=60608, Test: 0=6734, 1=6735\n",
      ">Train: 0=60609, 1=60609, Test: 0=6734, 1=6734\n",
      ">Train: 0=60609, 1=60609, Test: 0=6734, 1=6734\n",
      ">Train: 0=60609, 1=60609, Test: 0=6734, 1=6734\n",
      ">Train: 0=60609, 1=60609, Test: 0=6734, 1=6734\n"
     ]
    },
    {
     "data": {
      "text/plain": [
       "{'Mean Training Accuracy': 0.9488967758413164,\n",
       " 'Mean Training Precision': 0.9411994745970226,\n",
       " 'Mean Training Recall': 0.9576199452079346,\n",
       " 'Mean Training F1 Score': 0.9493387068499965,\n",
       " 'Mean Validation Accuracy': 0.9488068643165531,\n",
       " 'Mean Validation Precision': 0.941060035710683,\n",
       " 'Mean Validation Recall': 0.9575901986815127,\n",
       " 'Mean Validation F1 Score': 0.9492515703858044}"
      ]
     },
     "execution_count": 105,
     "metadata": {},
     "output_type": "execute_result"
    }
   ],
   "source": [
    "stratifiedCV(LogisticRegression(max_iter=10000), pd.DataFrame(X_probe_rfe), y_probe, 10, 2)"
   ]
  },
  {
   "cell_type": "markdown",
   "metadata": {},
   "source": [
    "#### Stratified cross validation on probe Standard Scaler"
   ]
  },
  {
   "cell_type": "code",
   "execution_count": 106,
   "metadata": {},
   "outputs": [
    {
     "name": "stdout",
     "output_type": "stream",
     "text": [
      ">Train: 0=60608, 1=60609, Test: 0=6735, 1=6734\n",
      ">Train: 0=60608, 1=60609, Test: 0=6735, 1=6734\n",
      ">Train: 0=60608, 1=60609, Test: 0=6735, 1=6734\n",
      ">Train: 0=60609, 1=60608, Test: 0=6734, 1=6735\n",
      ">Train: 0=60609, 1=60608, Test: 0=6734, 1=6735\n",
      ">Train: 0=60609, 1=60608, Test: 0=6734, 1=6735\n",
      ">Train: 0=60609, 1=60609, Test: 0=6734, 1=6734\n",
      ">Train: 0=60609, 1=60609, Test: 0=6734, 1=6734\n",
      ">Train: 0=60609, 1=60609, Test: 0=6734, 1=6734\n",
      ">Train: 0=60609, 1=60609, Test: 0=6734, 1=6734\n"
     ]
    },
    {
     "data": {
      "text/plain": [
       "{'Mean Training Accuracy': 0.9517808502358402,\n",
       " 'Mean Training Precision': 0.9392855379424345,\n",
       " 'Mean Training Recall': 0.9660032303531947,\n",
       " 'Mean Training F1 Score': 0.9524570404077775,\n",
       " 'Mean Validation Accuracy': 0.9517618882753638,\n",
       " 'Mean Validation Precision': 0.9392490756093756,\n",
       " 'Mean Validation Recall': 0.9660098219563699,\n",
       " 'Mean Validation F1 Score': 0.952439135230218}"
      ]
     },
     "execution_count": 106,
     "metadata": {},
     "output_type": "execute_result"
    }
   ],
   "source": [
    "stratifiedCV(LogisticRegression(max_iter=10000), pd.DataFrame(X_probe_rfe_ss), y_probe, 10, 2)"
   ]
  },
  {
   "cell_type": "markdown",
   "metadata": {},
   "source": [
    "#### Predict on probe"
   ]
  },
  {
   "cell_type": "code",
   "execution_count": 107,
   "metadata": {},
   "outputs": [
    {
     "data": {
      "image/png": "[encoded data removed]",
      "text/plain": [
       "<Figure size 432x288 with 2 Axes>"
      ]
     },
     "metadata": {
      "needs_background": "light"
     },
     "output_type": "display_data"
    },
    {
     "name": "stdout",
     "output_type": "stream",
     "text": [
      "Accuracy: 0.93724 \n",
      "Precision: 0.96917 \n",
      "Recall: 0.90320 \n",
      "F-measure: 0.93502 \n"
     ]
    }
   ],
   "source": [
    "y_probe_rfe_prediction = logisticRegression(X_probe_rfe, y_probe).predict(X_probe_test_rfe)\n",
    "plotConfusionMatrix(y_probe_rfe_prediction, y_probe_test, 2)"
   ]
  },
  {
   "cell_type": "code",
   "execution_count": 108,
   "metadata": {},
   "outputs": [
    {
     "data": {
      "image/png": "[encoded data removed]",
      "text/plain": [
       "<Figure size 432x288 with 2 Axes>"
      ]
     },
     "metadata": {
      "needs_background": "light"
     },
     "output_type": "display_data"
    },
    {
     "name": "stdout",
     "output_type": "stream",
     "text": [
      "Accuracy: 0.93724 \n",
      "Precision: 0.96917 \n",
      "Recall: 0.90320 \n",
      "F-measure: 0.93502 \n"
     ]
    }
   ],
   "source": [
    "y_r2l_rfe_prediction = logisticRegression(X_probe_rfe_ss, y_probe).predict(X_probe_test_rfe_ss)\n",
    "plotConfusionMatrix(y_probe_rfe_prediction, y_probe_test, 2)"
   ]
  },
  {
   "cell_type": "markdown",
   "metadata": {},
   "source": [
    "#### K-fold cross validation on r2l"
   ]
  },
  {
   "cell_type": "code",
   "execution_count": 109,
   "metadata": {},
   "outputs": [
    {
     "name": "stdout",
     "output_type": "stream",
     "text": [
      ">Train: 0=54080, 1=67137, Test: 0=13263, 1=206\n",
      ">Train: 0=54094, 1=67123, Test: 0=13249, 1=220\n",
      ">Train: 0=54054, 1=67163, Test: 0=13289, 1=180\n",
      ">Train: 0=54045, 1=67172, Test: 0=13298, 1=171\n",
      ">Train: 0=54082, 1=67135, Test: 0=13261, 1=208\n",
      ">Train: 0=66360, 1=54857, Test: 0=983, 1=12486\n",
      ">Train: 0=67343, 1=53875, Test: 0=0, 1=13468\n",
      ">Train: 0=67343, 1=53875, Test: 0=0, 1=13468\n",
      ">Train: 0=67343, 1=53875, Test: 0=0, 1=13468\n",
      ">Train: 0=67343, 1=53875, Test: 0=0, 1=13468\n"
     ]
    },
    {
     "data": {
      "text/plain": [
       "{'Mean Training Accuracy': 0.9395812757270864,\n",
       " 'Mean Training Precision': 0.9327996466508063,\n",
       " 'Mean Training Recall': 0.946325190640995,\n",
       " 'Mean Training F1 Score': 0.9395039633112221,\n",
       " 'Mean Validation Accuracy': 0.9352422544697399,\n",
       " 'Mean Validation Precision': 0.5784445503559937,\n",
       " 'Mean Validation Recall': 0.943593778710374,\n",
       " 'Mean Validation F1 Score': 0.6207093852050163}"
      ]
     },
     "execution_count": 109,
     "metadata": {},
     "output_type": "execute_result"
    }
   ],
   "source": [
    "KfoldCV(LogisticRegression(max_iter=10000), pd.DataFrame(X_r2l_rfe), y_r2l, 10, 3)"
   ]
  },
  {
   "cell_type": "markdown",
   "metadata": {},
   "source": [
    "#### K-fold cross validation on r2l Standard Scaler"
   ]
  },
  {
   "cell_type": "code",
   "execution_count": 110,
   "metadata": {},
   "outputs": [
    {
     "name": "stdout",
     "output_type": "stream",
     "text": [
      ">Train: 0=54080, 1=67137, Test: 0=13263, 1=206\n",
      ">Train: 0=54094, 1=67123, Test: 0=13249, 1=220\n",
      ">Train: 0=54054, 1=67163, Test: 0=13289, 1=180\n",
      ">Train: 0=54045, 1=67172, Test: 0=13298, 1=171\n",
      ">Train: 0=54082, 1=67135, Test: 0=13261, 1=208\n",
      ">Train: 0=66360, 1=54857, Test: 0=983, 1=12486\n",
      ">Train: 0=67343, 1=53875, Test: 0=0, 1=13468\n",
      ">Train: 0=67343, 1=53875, Test: 0=0, 1=13468\n",
      ">Train: 0=67343, 1=53875, Test: 0=0, 1=13468\n",
      ">Train: 0=67343, 1=53875, Test: 0=0, 1=13468\n"
     ]
    },
    {
     "data": {
      "text/plain": [
       "{'Mean Training Accuracy': 0.9689524768809168,\n",
       " 'Mean Training Precision': 0.9666476516062652,\n",
       " 'Mean Training Recall': 0.9706851534209141,\n",
       " 'Mean Training F1 Score': 0.9686500185654634,\n",
       " 'Mean Validation Accuracy': 0.9610130858961506,\n",
       " 'Mean Validation Precision': 0.6270303530803317,\n",
       " 'Mean Validation Recall': 0.9665153622168141,\n",
       " 'Mean Validation F1 Score': 0.6921555137137131}"
      ]
     },
     "execution_count": 110,
     "metadata": {},
     "output_type": "execute_result"
    }
   ],
   "source": [
    "KfoldCV(LogisticRegression(max_iter=10000), pd.DataFrame(X_r2l_rfe_ss), y_r2l, 10, 3)"
   ]
  },
  {
   "cell_type": "markdown",
   "metadata": {},
   "source": [
    "#### Stratified cross validation on r2l"
   ]
  },
  {
   "cell_type": "code",
   "execution_count": 111,
   "metadata": {},
   "outputs": [
    {
     "name": "stdout",
     "output_type": "stream",
     "text": [
      ">Train: 0=60608, 1=60609, Test: 0=6735, 1=6734\n",
      ">Train: 0=60608, 1=60609, Test: 0=6735, 1=6734\n",
      ">Train: 0=60608, 1=60609, Test: 0=6735, 1=6734\n",
      ">Train: 0=60609, 1=60608, Test: 0=6734, 1=6735\n",
      ">Train: 0=60609, 1=60608, Test: 0=6734, 1=6735\n",
      ">Train: 0=60609, 1=60608, Test: 0=6734, 1=6735\n",
      ">Train: 0=60609, 1=60609, Test: 0=6734, 1=6734\n",
      ">Train: 0=60609, 1=60609, Test: 0=6734, 1=6734\n",
      ">Train: 0=60609, 1=60609, Test: 0=6734, 1=6734\n",
      ">Train: 0=60609, 1=60609, Test: 0=6734, 1=6734\n"
     ]
    },
    {
     "data": {
      "text/plain": [
       "{'Mean Training Accuracy': 0.9397776225202129,\n",
       " 'Mean Training Precision': 0.9341630509608955,\n",
       " 'Mean Training Recall': 0.9462436908473416,\n",
       " 'Mean Training F1 Score': 0.9401645435049442,\n",
       " 'Mean Validation Accuracy': 0.9397858595664669,\n",
       " 'Mean Validation Precision': 0.9341562937244341,\n",
       " 'Mean Validation Recall': 0.946275034181493,\n",
       " 'Mean Validation F1 Score': 0.9401744511282363}"
      ]
     },
     "execution_count": 111,
     "metadata": {},
     "output_type": "execute_result"
    }
   ],
   "source": [
    "stratifiedCV(LogisticRegression(max_iter=10000), pd.DataFrame(X_r2l_rfe), y_r2l, 10, 3)"
   ]
  },
  {
   "cell_type": "markdown",
   "metadata": {},
   "source": [
    "#### Stratified cross validation on r2l Standard Scaler"
   ]
  },
  {
   "cell_type": "code",
   "execution_count": 112,
   "metadata": {},
   "outputs": [
    {
     "name": "stdout",
     "output_type": "stream",
     "text": [
      ">Train: 0=60608, 1=60609, Test: 0=6735, 1=6734\n",
      ">Train: 0=60608, 1=60609, Test: 0=6735, 1=6734\n",
      ">Train: 0=60608, 1=60609, Test: 0=6735, 1=6734\n",
      ">Train: 0=60609, 1=60608, Test: 0=6734, 1=6735\n",
      ">Train: 0=60609, 1=60608, Test: 0=6734, 1=6735\n",
      ">Train: 0=60609, 1=60608, Test: 0=6734, 1=6735\n",
      ">Train: 0=60609, 1=60609, Test: 0=6734, 1=6734\n",
      ">Train: 0=60609, 1=60609, Test: 0=6734, 1=6734\n",
      ">Train: 0=60609, 1=60609, Test: 0=6734, 1=6734\n",
      ">Train: 0=60609, 1=60609, Test: 0=6734, 1=6734\n"
     ]
    },
    {
     "data": {
      "text/plain": [
       "{'Mean Training Accuracy': 0.9697238180712302,\n",
       " 'Mean Training Precision': 0.9661094361363156,\n",
       " 'Mean Training Recall': 0.9736011500495418,\n",
       " 'Mean Training F1 Score': 0.9698407843331752,\n",
       " 'Mean Validation Accuracy': 0.9697963961420788,\n",
       " 'Mean Validation Precision': 0.9662160780493408,\n",
       " 'Mean Validation Recall': 0.973642436337314,\n",
       " 'Mean Validation F1 Score': 0.9699131525395444}"
      ]
     },
     "execution_count": 112,
     "metadata": {},
     "output_type": "execute_result"
    }
   ],
   "source": [
    "stratifiedCV(LogisticRegression(max_iter=10000), pd.DataFrame(X_r2l_rfe_ss), y_r2l, 10, 3)"
   ]
  },
  {
   "cell_type": "markdown",
   "metadata": {},
   "source": [
    "#### Predict on r2l"
   ]
  },
  {
   "cell_type": "code",
   "execution_count": 113,
   "metadata": {},
   "outputs": [
    {
     "data": {
      "image/png": "[encoded data removed]",
      "text/plain": [
       "<Figure size 432x288 with 2 Axes>"
      ]
     },
     "metadata": {
      "needs_background": "light"
     },
     "output_type": "display_data"
    },
    {
     "name": "stdout",
     "output_type": "stream",
     "text": [
      "Accuracy: 0.66764 \n",
      "Precision: 0.83415 \n",
      "Recall: 0.41849 \n",
      "F-measure: 0.55736 \n"
     ]
    }
   ],
   "source": [
    "y_r2l_rfe_prediction = logisticRegression(X_r2l_rfe, y_r2l).predict(X_r2l_test_rfe)\n",
    "plotConfusionMatrix(y_r2l_rfe_prediction, y_r2l_test, 3)"
   ]
  },
  {
   "cell_type": "code",
   "execution_count": 114,
   "metadata": {},
   "outputs": [
    {
     "data": {
      "image/png": "[encoded data removed]",
      "text/plain": [
       "<Figure size 432x288 with 2 Axes>"
      ]
     },
     "metadata": {
      "needs_background": "light"
     },
     "output_type": "display_data"
    },
    {
     "name": "stdout",
     "output_type": "stream",
     "text": [
      "Accuracy: 0.72299 \n",
      "Precision: 0.88091 \n",
      "Recall: 0.51570 \n",
      "F-measure: 0.65056 \n"
     ]
    }
   ],
   "source": [
    "y_r2l_rfe_prediction = logisticRegression(X_r2l_rfe_ss, y_r2l).predict(X_r2l_test_rfe_ss)\n",
    "plotConfusionMatrix(y_r2l_rfe_prediction, y_r2l_test, 3)"
   ]
  },
  {
   "cell_type": "markdown",
   "metadata": {},
   "source": [
    "#### K-fold cross validation on u2r"
   ]
  },
  {
   "cell_type": "code",
   "execution_count": 115,
   "metadata": {},
   "outputs": [
    {
     "name": "stdout",
     "output_type": "stream",
     "text": [
      ">Train: 0=53885, 1=67332, Test: 0=13458, 1=11\n",
      ">Train: 0=53886, 1=67331, Test: 0=13457, 1=12\n",
      ">Train: 0=53886, 1=67331, Test: 0=13457, 1=12\n",
      ">Train: 0=53882, 1=67335, Test: 0=13461, 1=8\n",
      ">Train: 0=53883, 1=67334, Test: 0=13460, 1=9\n",
      ">Train: 0=67293, 1=53924, Test: 0=50, 1=13419\n",
      ">Train: 0=67343, 1=53875, Test: 0=0, 1=13468\n",
      ">Train: 0=67343, 1=53875, Test: 0=0, 1=13468\n",
      ">Train: 0=67343, 1=53875, Test: 0=0, 1=13468\n",
      ">Train: 0=67343, 1=53875, Test: 0=0, 1=13468\n"
     ]
    },
    {
     "data": {
      "text/plain": [
       "{'Mean Training Accuracy': 0.8818115202755632,\n",
       " 'Mean Training Precision': 0.9118018466940768,\n",
       " 'Mean Training Recall': 0.8421571119436176,\n",
       " 'Mean Training F1 Score': 0.8755734983219103,\n",
       " 'Mean Validation Accuracy': 0.8664956300118524,\n",
       " 'Mean Validation Precision': 0.503498243796449,\n",
       " 'Mean Validation Recall': 0.8344327662989635,\n",
       " 'Mean Validation F1 Score': 0.45897456862812636}"
      ]
     },
     "execution_count": 115,
     "metadata": {},
     "output_type": "execute_result"
    }
   ],
   "source": [
    "KfoldCV(LogisticRegression(max_iter=10000), pd.DataFrame(X_u2r_rfe), y_u2r, 10, 4)"
   ]
  },
  {
   "cell_type": "markdown",
   "metadata": {},
   "source": [
    "#### K-fold cross validation on u2r Standard Scaler"
   ]
  },
  {
   "cell_type": "code",
   "execution_count": 116,
   "metadata": {},
   "outputs": [
    {
     "name": "stdout",
     "output_type": "stream",
     "text": [
      ">Train: 0=53885, 1=67332, Test: 0=13458, 1=11\n",
      ">Train: 0=53886, 1=67331, Test: 0=13457, 1=12\n",
      ">Train: 0=53886, 1=67331, Test: 0=13457, 1=12\n",
      ">Train: 0=53882, 1=67335, Test: 0=13461, 1=8\n",
      ">Train: 0=53883, 1=67334, Test: 0=13460, 1=9\n",
      ">Train: 0=67293, 1=53924, Test: 0=50, 1=13419\n",
      ">Train: 0=67343, 1=53875, Test: 0=0, 1=13468\n",
      ">Train: 0=67343, 1=53875, Test: 0=0, 1=13468\n",
      ">Train: 0=67343, 1=53875, Test: 0=0, 1=13468\n",
      ">Train: 0=67343, 1=53875, Test: 0=0, 1=13468\n"
     ]
    },
    {
     "data": {
      "text/plain": [
       "{'Mean Training Accuracy': 0.9708630930025499,\n",
       " 'Mean Training Precision': 0.9460924900832344,\n",
       " 'Mean Training Recall': 0.9979125416719248,\n",
       " 'Mean Training F1 Score': 0.9713098715332713,\n",
       " 'Mean Validation Accuracy': 0.9651791721711536,\n",
       " 'Mean Validation Precision': 0.5056804778757378,\n",
       " 'Mean Validation Recall': 0.9854793405849744,\n",
       " 'Mean Validation F1 Score': 0.5102261984460005}"
      ]
     },
     "execution_count": 116,
     "metadata": {},
     "output_type": "execute_result"
    }
   ],
   "source": [
    "KfoldCV(LogisticRegression(max_iter=10000), pd.DataFrame(X_u2r_rfe_ss), y_u2r, 10, 4)"
   ]
  },
  {
   "cell_type": "markdown",
   "metadata": {},
   "source": [
    "#### Stratified cross validation on u2r"
   ]
  },
  {
   "cell_type": "code",
   "execution_count": 117,
   "metadata": {},
   "outputs": [
    {
     "name": "stdout",
     "output_type": "stream",
     "text": [
      ">Train: 0=60608, 1=60609, Test: 0=6735, 1=6734\n",
      ">Train: 0=60608, 1=60609, Test: 0=6735, 1=6734\n",
      ">Train: 0=60608, 1=60609, Test: 0=6735, 1=6734\n",
      ">Train: 0=60609, 1=60608, Test: 0=6734, 1=6735\n",
      ">Train: 0=60609, 1=60608, Test: 0=6734, 1=6735\n",
      ">Train: 0=60609, 1=60608, Test: 0=6734, 1=6735\n",
      ">Train: 0=60609, 1=60609, Test: 0=6734, 1=6734\n",
      ">Train: 0=60609, 1=60609, Test: 0=6734, 1=6734\n",
      ">Train: 0=60609, 1=60609, Test: 0=6734, 1=6734\n",
      ">Train: 0=60609, 1=60609, Test: 0=6734, 1=6734\n"
     ]
    },
    {
     "data": {
      "text/plain": [
       "{'Mean Training Accuracy': 0.8815698076996383,\n",
       " 'Mean Training Precision': 0.9139858375682988,\n",
       " 'Mean Training Recall': 0.8424186632952461,\n",
       " 'Mean Training F1 Score': 0.876744141129371,\n",
       " 'Mean Validation Accuracy': 0.8815986904820521,\n",
       " 'Mean Validation Precision': 0.9139884883183781,\n",
       " 'Mean Validation Recall': 0.8424781488701312,\n",
       " 'Mean Validation F1 Score': 0.8767680479589254}"
      ]
     },
     "execution_count": 117,
     "metadata": {},
     "output_type": "execute_result"
    }
   ],
   "source": [
    "stratifiedCV(LogisticRegression(max_iter=10000), pd.DataFrame(X_u2r_rfe), y_u2r, 10, 4)"
   ]
  },
  {
   "cell_type": "markdown",
   "metadata": {},
   "source": [
    "#### Stratified cross validation on u2r Standard Scaler"
   ]
  },
  {
   "cell_type": "code",
   "execution_count": 118,
   "metadata": {},
   "outputs": [
    {
     "name": "stdout",
     "output_type": "stream",
     "text": [
      ">Train: 0=60608, 1=60609, Test: 0=6735, 1=6734\n",
      ">Train: 0=60608, 1=60609, Test: 0=6735, 1=6734\n",
      ">Train: 0=60608, 1=60609, Test: 0=6735, 1=6734\n",
      ">Train: 0=60609, 1=60608, Test: 0=6734, 1=6735\n",
      ">Train: 0=60609, 1=60608, Test: 0=6734, 1=6735\n",
      ">Train: 0=60609, 1=60608, Test: 0=6734, 1=6735\n",
      ">Train: 0=60609, 1=60609, Test: 0=6734, 1=6734\n",
      ">Train: 0=60609, 1=60609, Test: 0=6734, 1=6734\n",
      ">Train: 0=60609, 1=60609, Test: 0=6734, 1=6734\n",
      ">Train: 0=60609, 1=60609, Test: 0=6734, 1=6734\n"
     ]
    },
    {
     "data": {
      "text/plain": [
       "{'Mean Training Accuracy': 0.9706139549155977,\n",
       " 'Mean Training Precision': 0.9453189503594125,\n",
       " 'Mean Training Recall': 0.999014992818057,\n",
       " 'Mean Training F1 Score': 0.9714255085354804,\n",
       " 'Mean Validation Accuracy': 0.9706057302204009,\n",
       " 'Mean Validation Precision': 0.9453203118891784,\n",
       " 'Mean Validation Recall': 0.9990051063325005,\n",
       " 'Mean Validation F1 Score': 0.9714195472786777}"
      ]
     },
     "execution_count": 118,
     "metadata": {},
     "output_type": "execute_result"
    }
   ],
   "source": [
    "stratifiedCV(LogisticRegression(max_iter=10000), pd.DataFrame(X_u2r_rfe_ss), y_u2r, 10, 4)"
   ]
  },
  {
   "cell_type": "markdown",
   "metadata": {},
   "source": [
    "#### Predict on u2r"
   ]
  },
  {
   "cell_type": "code",
   "execution_count": 119,
   "metadata": {},
   "outputs": [
    {
     "data": {
      "image/png": "[encoded data removed]",
      "text/plain": [
       "<Figure size 432x288 with 2 Axes>"
      ]
     },
     "metadata": {
      "needs_background": "light"
     },
     "output_type": "display_data"
    },
    {
     "name": "stdout",
     "output_type": "stream",
     "text": [
      "Accuracy: 0.64746 \n",
      "Precision: 0.82209 \n",
      "Recall: 0.37638 \n",
      "F-measure: 0.51635 \n"
     ]
    }
   ],
   "source": [
    "y_u2r_rfe_prediction = logisticRegression(X_u2r_rfe, y_u2r).predict(X_u2r_test_rfe)\n",
    "plotConfusionMatrix(y_u2r_rfe_prediction, y_u2r_test, 4)"
   ]
  },
  {
   "cell_type": "code",
   "execution_count": 120,
   "metadata": {},
   "outputs": [
    {
     "data": {
      "image/png": "[encoded data removed]",
      "text/plain": [
       "<Figure size 432x288 with 2 Axes>"
      ]
     },
     "metadata": {
      "needs_background": "light"
     },
     "output_type": "display_data"
    },
    {
     "name": "stdout",
     "output_type": "stream",
     "text": [
      "Accuracy: 0.82551 \n",
      "Precision: 0.90033 \n",
      "Recall: 0.73206 \n",
      "F-measure: 0.80752 \n"
     ]
    }
   ],
   "source": [
    "y_u2r_rfe_prediction = logisticRegression(X_u2r_rfe_ss, y_u2r).predict(X_u2r_test_rfe_ss)\n",
    "plotConfusionMatrix(y_u2r_rfe_prediction, y_u2r_test, 4)"
   ]
  },
  {
   "cell_type": "markdown",
   "metadata": {},
   "source": [
    "# Full DF, no Oversampling"
   ]
  },
  {
   "cell_type": "code",
   "execution_count": 121,
   "metadata": {},
   "outputs": [
    {
     "data": {
      "text/plain": [
       "<module 'matplotlib.pyplot' from 'C:\\\\Users\\\\Daniele\\\\anaconda3\\\\lib\\\\site-packages\\\\matplotlib\\\\pyplot.py'>"
      ]
     },
     "execution_count": 121,
     "metadata": {},
     "output_type": "execute_result"
    },
    {
     "data": {
      "image/png": "[encoded data removed]",
      "text/plain": [
       "<Figure size 720x360 with 1 Axes>"
      ]
     },
     "metadata": {
      "needs_background": "light"
     },
     "output_type": "display_data"
    }
   ],
   "source": [
    "fullDf = getFullDf()\n",
    "fullDf_test = getFullDfTest()\n",
    "\n",
    "\n",
    "fullDf=oneHotEcoding(fullDf, 'protocol_type')\n",
    "fullDf=oneHotEcoding(fullDf, 'service')\n",
    "fullDf=oneHotEcoding(fullDf, 'flag')\n",
    "fullDf_test=oneHotEcoding(fullDf_test, 'protocol_type')\n",
    "fullDf_test=oneHotEcoding(fullDf_test, 'service')\n",
    "fullDf_test=oneHotEcoding(fullDf_test, 'flag')\n",
    "\n",
    "fullDf_test=adaptTestset(fullDf, fullDf_test)\n",
    "\n",
    "fullDf['label'], fullDf_test['label'] = prepareMulticlass()\n",
    "\n",
    "plotDf(fullDf['label'])"
   ]
  },
  {
   "cell_type": "code",
   "execution_count": 122,
   "metadata": {},
   "outputs": [],
   "source": [
    "#Preparo i dataframe per ogni classe di attacco\n",
    "dos, probe, r2l, u2r = createMulticlassDF(fullDf)\n",
    "dos_test, probe_test, r2l_test, u2r_test = createMulticlassDF(fullDf_test)\n",
    "\n",
    "X_dos, y_dos = getXandY(dos)\n",
    "X_probe, y_probe = getXandY(probe)\n",
    "X_r2l, y_r2l = getXandY(r2l)\n",
    "X_u2r, y_u2r = getXandY(u2r)\n",
    "\n",
    "X_dos_test, y_dos_test = getXandY(dos_test)\n",
    "X_probe_test, y_probe_test = getXandY(probe_test)\n",
    "X_r2l_test, y_r2l_test = getXandY(r2l_test)\n",
    "X_u2r_test, y_u2r_test = getXandY(u2r_test)\n"
   ]
  },
  {
   "cell_type": "code",
   "execution_count": 123,
   "metadata": {},
   "outputs": [],
   "source": [
    "#Effettuo standard scaler\n",
    "X_dos_ss=standardScaler(X_dos)\n",
    "X_probe_ss=standardScaler(X_probe)\n",
    "X_r2l_ss=standardScaler(X_r2l)\n",
    "X_u2r_ss=standardScaler(X_u2r)\n",
    "\n",
    "X_dos_test_ss=standardScaler(X_dos_test)\n",
    "X_probe_test_ss=standardScaler(X_probe_test)\n",
    "X_r2l_test_ss=standardScaler(X_r2l_test)\n",
    "X_u2r_test_ss=standardScaler(X_u2r_test)"
   ]
  },
  {
   "cell_type": "markdown",
   "metadata": {},
   "source": [
    "#### K-fold cross validation on dos"
   ]
  },
  {
   "cell_type": "code",
   "execution_count": 124,
   "metadata": {
    "scrolled": false
   },
   "outputs": [
    {
     "name": "stdout",
     "output_type": "stream",
     "text": [
      ">Train: 0=60666, 1=41277, Test: 0=6677, 1=4650\n",
      ">Train: 0=60586, 1=41357, Test: 0=6757, 1=4570\n",
      ">Train: 0=60612, 1=41331, Test: 0=6731, 1=4596\n",
      ">Train: 0=60720, 1=41223, Test: 0=6623, 1=4704\n",
      ">Train: 0=60634, 1=41309, Test: 0=6709, 1=4618\n",
      ">Train: 0=60525, 1=41418, Test: 0=6818, 1=4509\n",
      ">Train: 0=60548, 1=41395, Test: 0=6795, 1=4532\n",
      ">Train: 0=60557, 1=41386, Test: 0=6786, 1=4541\n",
      ">Train: 0=60662, 1=41281, Test: 0=6681, 1=4646\n",
      ">Train: 0=60577, 1=41366, Test: 0=6766, 1=4561\n"
     ]
    },
    {
     "data": {
      "text/plain": [
       "{'Mean Training Accuracy': 0.9689002677967098,\n",
       " 'Mean Training Precision': 0.9844919973698143,\n",
       " 'Mean Training Recall': 0.9379755635606681,\n",
       " 'Mean Training F1 Score': 0.9606254619074897,\n",
       " 'Mean Validation Accuracy': 0.9687472411053235,\n",
       " 'Mean Validation Precision': 0.9845577519055839,\n",
       " 'Mean Validation Recall': 0.9373064258161315,\n",
       " 'Mean Validation F1 Score': 0.9603016761901355}"
      ]
     },
     "execution_count": 124,
     "metadata": {},
     "output_type": "execute_result"
    }
   ],
   "source": [
    "KfoldCV(LogisticRegression(max_iter=10000), pd.DataFrame(X_dos), y_dos, 10, 1)"
   ]
  },
  {
   "cell_type": "markdown",
   "metadata": {},
   "source": [
    "#### K-fold cross validation on dos Standard Scaling"
   ]
  },
  {
   "cell_type": "code",
   "execution_count": 125,
   "metadata": {},
   "outputs": [
    {
     "name": "stdout",
     "output_type": "stream",
     "text": [
      ">Train: 0=60666, 1=41277, Test: 0=6677, 1=4650\n",
      ">Train: 0=60586, 1=41357, Test: 0=6757, 1=4570\n",
      ">Train: 0=60612, 1=41331, Test: 0=6731, 1=4596\n",
      ">Train: 0=60720, 1=41223, Test: 0=6623, 1=4704\n",
      ">Train: 0=60634, 1=41309, Test: 0=6709, 1=4618\n",
      ">Train: 0=60525, 1=41418, Test: 0=6818, 1=4509\n",
      ">Train: 0=60548, 1=41395, Test: 0=6795, 1=4532\n",
      ">Train: 0=60557, 1=41386, Test: 0=6786, 1=4541\n",
      ">Train: 0=60662, 1=41281, Test: 0=6681, 1=4646\n",
      ">Train: 0=60577, 1=41366, Test: 0=6766, 1=4561\n"
     ]
    },
    {
     "data": {
      "text/plain": [
       "{'Mean Training Accuracy': 0.9980950138803056,\n",
       " 'Mean Training Precision': 0.9971601448823113,\n",
       " 'Mean Training Recall': 0.9981444275874468,\n",
       " 'Mean Training F1 Score': 0.997652038766448,\n",
       " 'Mean Validation Accuracy': 0.9979606250551779,\n",
       " 'Mean Validation Precision': 0.9969118192200386,\n",
       " 'Mean Validation Recall': 0.9980641672265383,\n",
       " 'Mean Validation F1 Score': 0.9974870564906035}"
      ]
     },
     "execution_count": 125,
     "metadata": {},
     "output_type": "execute_result"
    }
   ],
   "source": [
    "KfoldCV(LogisticRegression(max_iter=10000), pd.DataFrame(X_dos_ss), y_dos, 10, 1)"
   ]
  },
  {
   "cell_type": "markdown",
   "metadata": {},
   "source": [
    "#### Stratified cross validation on dos"
   ]
  },
  {
   "cell_type": "code",
   "execution_count": 126,
   "metadata": {},
   "outputs": [
    {
     "name": "stdout",
     "output_type": "stream",
     "text": [
      ">Train: 0=60608, 1=41335, Test: 0=6735, 1=4592\n",
      ">Train: 0=60608, 1=41335, Test: 0=6735, 1=4592\n",
      ">Train: 0=60608, 1=41335, Test: 0=6735, 1=4592\n",
      ">Train: 0=60609, 1=41334, Test: 0=6734, 1=4593\n",
      ">Train: 0=60609, 1=41334, Test: 0=6734, 1=4593\n",
      ">Train: 0=60609, 1=41334, Test: 0=6734, 1=4593\n",
      ">Train: 0=60609, 1=41334, Test: 0=6734, 1=4593\n",
      ">Train: 0=60609, 1=41334, Test: 0=6734, 1=4593\n",
      ">Train: 0=60609, 1=41334, Test: 0=6734, 1=4593\n",
      ">Train: 0=60609, 1=41334, Test: 0=6734, 1=4593\n"
     ]
    },
    {
     "data": {
      "text/plain": [
       "{'Mean Training Accuracy': 0.9693387481239517,\n",
       " 'Mean Training Precision': 0.9844592955091385,\n",
       " 'Mean Training Recall': 0.9390867759097061,\n",
       " 'Mean Training F1 Score': 0.9611952492922307,\n",
       " 'Mean Validation Accuracy': 0.9692592919572702,\n",
       " 'Mean Validation Precision': 0.9842874464281378,\n",
       " 'Mean Validation Recall': 0.9390567120015232,\n",
       " 'Mean Validation F1 Score': 0.9610972426511257}"
      ]
     },
     "execution_count": 126,
     "metadata": {},
     "output_type": "execute_result"
    }
   ],
   "source": [
    "stratifiedCV(LogisticRegression(max_iter=10000), pd.DataFrame(X_dos), y_dos, 10, 1)"
   ]
  },
  {
   "cell_type": "markdown",
   "metadata": {},
   "source": [
    "#### Stratified cross validation on dos Standard Scaling"
   ]
  },
  {
   "cell_type": "code",
   "execution_count": 127,
   "metadata": {},
   "outputs": [
    {
     "name": "stdout",
     "output_type": "stream",
     "text": [
      ">Train: 0=60608, 1=41335, Test: 0=6735, 1=4592\n",
      ">Train: 0=60608, 1=41335, Test: 0=6735, 1=4592\n",
      ">Train: 0=60608, 1=41335, Test: 0=6735, 1=4592\n",
      ">Train: 0=60609, 1=41334, Test: 0=6734, 1=4593\n",
      ">Train: 0=60609, 1=41334, Test: 0=6734, 1=4593\n",
      ">Train: 0=60609, 1=41334, Test: 0=6734, 1=4593\n",
      ">Train: 0=60609, 1=41334, Test: 0=6734, 1=4593\n",
      ">Train: 0=60609, 1=41334, Test: 0=6734, 1=4593\n",
      ">Train: 0=60609, 1=41334, Test: 0=6734, 1=4593\n",
      ">Train: 0=60609, 1=41334, Test: 0=6734, 1=4593\n"
     ]
    },
    {
     "data": {
      "text/plain": [
       "{'Mean Training Accuracy': 0.9980940329399763,\n",
       " 'Mean Training Precision': 0.997157728408687,\n",
       " 'Mean Training Recall': 0.9981443975859424,\n",
       " 'Mean Training F1 Score': 0.9976508148072224,\n",
       " 'Mean Validation Accuracy': 0.9979606250551779,\n",
       " 'Mean Validation Precision': 0.9969125348541088,\n",
       " 'Mean Validation Recall': 0.99806212168798,\n",
       " 'Mean Validation F1 Score': 0.9974864831735303}"
      ]
     },
     "execution_count": 127,
     "metadata": {},
     "output_type": "execute_result"
    }
   ],
   "source": [
    "stratifiedCV(LogisticRegression(max_iter=10000), pd.DataFrame(X_dos_ss), y_dos, 10, 1)"
   ]
  },
  {
   "cell_type": "markdown",
   "metadata": {},
   "source": [
    "#### Predict on dos"
   ]
  },
  {
   "cell_type": "code",
   "execution_count": 128,
   "metadata": {
    "scrolled": true
   },
   "outputs": [
    {
     "data": {
      "image/png": "[encoded data removed]",
      "text/plain": [
       "<Figure size 432x288 with 2 Axes>"
      ]
     },
     "metadata": {
      "needs_background": "light"
     },
     "output_type": "display_data"
    },
    {
     "name": "stdout",
     "output_type": "stream",
     "text": [
      "Accuracy: 0.85015 \n",
      "Precision: 0.91620 \n",
      "Recall: 0.72105 \n",
      "F-measure: 0.80699 \n"
     ]
    }
   ],
   "source": [
    "y_dos_prediction = logisticRegression(X_dos, y_dos).predict(X_dos_test)\n",
    "plotConfusionMatrix(y_dos_prediction, y_dos_test, 1)"
   ]
  },
  {
   "cell_type": "code",
   "execution_count": 129,
   "metadata": {
    "scrolled": false
   },
   "outputs": [
    {
     "data": {
      "image/png": "[encoded data removed]",
      "text/plain": [
       "<Figure size 432x288 with 2 Axes>"
      ]
     },
     "metadata": {
      "needs_background": "light"
     },
     "output_type": "display_data"
    },
    {
     "name": "stdout",
     "output_type": "stream",
     "text": [
      "Accuracy: 0.90478 \n",
      "Precision: 0.93244 \n",
      "Recall: 0.84182 \n",
      "F-measure: 0.88482 \n"
     ]
    }
   ],
   "source": [
    "y_dos_prediction = logisticRegression(X_dos_ss, y_dos).predict(X_dos_test_ss)\n",
    "plotConfusionMatrix(y_dos_prediction, y_dos_test, 1)"
   ]
  },
  {
   "cell_type": "markdown",
   "metadata": {},
   "source": [
    "#### K-fold cross validation on probe"
   ]
  },
  {
   "cell_type": "code",
   "execution_count": 130,
   "metadata": {},
   "outputs": [
    {
     "name": "stdout",
     "output_type": "stream",
     "text": [
      ">Train: 0=60593, 1=10506, Test: 0=6750, 1=1150\n",
      ">Train: 0=60590, 1=10509, Test: 0=6753, 1=1147\n",
      ">Train: 0=60636, 1=10463, Test: 0=6707, 1=1193\n",
      ">Train: 0=60669, 1=10430, Test: 0=6674, 1=1226\n",
      ">Train: 0=60629, 1=10470, Test: 0=6714, 1=1186\n",
      ">Train: 0=60576, 1=10523, Test: 0=6767, 1=1133\n",
      ">Train: 0=60547, 1=10552, Test: 0=6796, 1=1104\n",
      ">Train: 0=60628, 1=10471, Test: 0=6715, 1=1185\n",
      ">Train: 0=60592, 1=10507, Test: 0=6751, 1=1149\n",
      ">Train: 0=60627, 1=10473, Test: 0=6716, 1=1183\n"
     ]
    },
    {
     "data": {
      "text/plain": [
       "{'Mean Training Accuracy': 0.8755666645480306,\n",
       " 'Mean Training Precision': 0.7962772640491955,\n",
       " 'Mean Training Recall': 0.19725443287054006,\n",
       " 'Mean Training F1 Score': 0.3084298092417953,\n",
       " 'Mean Validation Accuracy': 0.8757197001382966,\n",
       " 'Mean Validation Precision': 0.8060165201773998,\n",
       " 'Mean Validation Recall': 0.19826448004680636,\n",
       " 'Mean Validation F1 Score': 0.30927423797125975}"
      ]
     },
     "execution_count": 130,
     "metadata": {},
     "output_type": "execute_result"
    }
   ],
   "source": [
    "KfoldCV(LogisticRegression(max_iter=10000), pd.DataFrame(X_probe), y_probe, 10, 2)"
   ]
  },
  {
   "cell_type": "markdown",
   "metadata": {},
   "source": [
    "#### K-fold cross validation on probe Standard Scaling"
   ]
  },
  {
   "cell_type": "code",
   "execution_count": 131,
   "metadata": {},
   "outputs": [
    {
     "name": "stdout",
     "output_type": "stream",
     "text": [
      ">Train: 0=60593, 1=10506, Test: 0=6750, 1=1150\n",
      ">Train: 0=60590, 1=10509, Test: 0=6753, 1=1147\n",
      ">Train: 0=60636, 1=10463, Test: 0=6707, 1=1193\n",
      ">Train: 0=60669, 1=10430, Test: 0=6674, 1=1226\n",
      ">Train: 0=60629, 1=10470, Test: 0=6714, 1=1186\n",
      ">Train: 0=60576, 1=10523, Test: 0=6767, 1=1133\n",
      ">Train: 0=60547, 1=10552, Test: 0=6796, 1=1104\n",
      ">Train: 0=60628, 1=10471, Test: 0=6715, 1=1185\n",
      ">Train: 0=60592, 1=10507, Test: 0=6751, 1=1149\n",
      ">Train: 0=60627, 1=10473, Test: 0=6716, 1=1183\n"
     ]
    },
    {
     "data": {
      "text/plain": [
       "{'Mean Training Accuracy': 0.9930800810636479,\n",
       " 'Mean Training Precision': 0.9778249371064499,\n",
       " 'Mean Training Recall': 0.9752150458738603,\n",
       " 'Mean Training F1 Score': 0.9765181003468963,\n",
       " 'Mean Validation Accuracy': 0.992734074654539,\n",
       " 'Mean Validation Precision': 0.9767192857280925,\n",
       " 'Mean Validation Recall': 0.9739712427591577,\n",
       " 'Mean Validation F1 Score': 0.9753342538051359}"
      ]
     },
     "execution_count": 131,
     "metadata": {},
     "output_type": "execute_result"
    }
   ],
   "source": [
    "KfoldCV(LogisticRegression(max_iter=10000), pd.DataFrame(X_probe_ss), y_probe, 10, 2)"
   ]
  },
  {
   "cell_type": "markdown",
   "metadata": {},
   "source": [
    "#### Stratified cross validation on probe"
   ]
  },
  {
   "cell_type": "code",
   "execution_count": 132,
   "metadata": {},
   "outputs": [
    {
     "name": "stdout",
     "output_type": "stream",
     "text": [
      ">Train: 0=60608, 1=10491, Test: 0=6735, 1=1165\n",
      ">Train: 0=60608, 1=10491, Test: 0=6735, 1=1165\n",
      ">Train: 0=60608, 1=10491, Test: 0=6735, 1=1165\n",
      ">Train: 0=60609, 1=10490, Test: 0=6734, 1=1166\n",
      ">Train: 0=60609, 1=10490, Test: 0=6734, 1=1166\n",
      ">Train: 0=60609, 1=10490, Test: 0=6734, 1=1166\n",
      ">Train: 0=60609, 1=10490, Test: 0=6734, 1=1166\n",
      ">Train: 0=60609, 1=10490, Test: 0=6734, 1=1166\n",
      ">Train: 0=60609, 1=10490, Test: 0=6734, 1=1166\n",
      ">Train: 0=60609, 1=10491, Test: 0=6734, 1=1165\n"
     ]
    },
    {
     "data": {
      "text/plain": [
       "{'Mean Training Accuracy': 0.8677577975157122,\n",
       " 'Mean Training Precision': 0.7459739542620704,\n",
       " 'Mean Training Recall': 0.1393743023095106,\n",
       " 'Mean Training F1 Score': 0.22452210950551071,\n",
       " 'Mean Validation Accuracy': 0.8672263753944179,\n",
       " 'Mean Validation Precision': 0.7373869844136494,\n",
       " 'Mean Validation Recall': 0.13641877516766174,\n",
       " 'Mean Validation F1 Score': 0.2204022106579266}"
      ]
     },
     "execution_count": 132,
     "metadata": {},
     "output_type": "execute_result"
    }
   ],
   "source": [
    "stratifiedCV(LogisticRegression(max_iter=10000), pd.DataFrame(X_probe), y_probe, 10, 2)"
   ]
  },
  {
   "cell_type": "markdown",
   "metadata": {},
   "source": [
    "#### Stratified cross validation on probe Standard Scaling"
   ]
  },
  {
   "cell_type": "code",
   "execution_count": 133,
   "metadata": {},
   "outputs": [
    {
     "name": "stdout",
     "output_type": "stream",
     "text": [
      ">Train: 0=60608, 1=10491, Test: 0=6735, 1=1165\n",
      ">Train: 0=60608, 1=10491, Test: 0=6735, 1=1165\n",
      ">Train: 0=60608, 1=10491, Test: 0=6735, 1=1165\n",
      ">Train: 0=60609, 1=10490, Test: 0=6734, 1=1166\n",
      ">Train: 0=60609, 1=10490, Test: 0=6734, 1=1166\n",
      ">Train: 0=60609, 1=10490, Test: 0=6734, 1=1166\n",
      ">Train: 0=60609, 1=10490, Test: 0=6734, 1=1166\n",
      ">Train: 0=60609, 1=10490, Test: 0=6734, 1=1166\n",
      ">Train: 0=60609, 1=10490, Test: 0=6734, 1=1166\n",
      ">Train: 0=60609, 1=10491, Test: 0=6734, 1=1165\n"
     ]
    },
    {
     "data": {
      "text/plain": [
       "{'Mean Training Accuracy': 0.993084300532276,\n",
       " 'Mean Training Precision': 0.9778445383218344,\n",
       " 'Mean Training Recall': 0.9752249588121245,\n",
       " 'Mean Training F1 Score': 0.9765328599904658,\n",
       " 'Mean Validation Accuracy': 0.992734074654539,\n",
       " 'Mean Validation Precision': 0.9766999450699163,\n",
       " 'Mean Validation Recall': 0.9740039311243459,\n",
       " 'Mean Validation F1 Score': 0.9753412611894733}"
      ]
     },
     "execution_count": 133,
     "metadata": {},
     "output_type": "execute_result"
    }
   ],
   "source": [
    "stratifiedCV(LogisticRegression(max_iter=10000), pd.DataFrame(X_probe_ss), y_probe, 10, 2)"
   ]
  },
  {
   "cell_type": "markdown",
   "metadata": {},
   "source": [
    "#### Predict on probe"
   ]
  },
  {
   "cell_type": "code",
   "execution_count": 134,
   "metadata": {},
   "outputs": [
    {
     "data": {
      "image/png": "[encoded data removed]",
      "text/plain": [
       "<Figure size 432x288 with 2 Axes>"
      ]
     },
     "metadata": {
      "needs_background": "light"
     },
     "output_type": "display_data"
    },
    {
     "name": "stdout",
     "output_type": "stream",
     "text": [
      "Accuracy: 0.86070 \n",
      "Precision: 0.93357 \n",
      "Recall: 0.32507 \n",
      "F-measure: 0.48223 \n"
     ]
    }
   ],
   "source": [
    "y_probe_prediction = logisticRegression(X_probe, y_probe).predict(X_probe_test)\n",
    "plotConfusionMatrix(y_probe_prediction, y_probe_test, 2)"
   ]
  },
  {
   "cell_type": "code",
   "execution_count": 135,
   "metadata": {},
   "outputs": [
    {
     "data": {
      "image/png": "[encoded data removed]",
      "text/plain": [
       "<Figure size 432x288 with 2 Axes>"
      ]
     },
     "metadata": {
      "needs_background": "light"
     },
     "output_type": "display_data"
    },
    {
     "name": "stdout",
     "output_type": "stream",
     "text": [
      "Accuracy: 0.89499 \n",
      "Precision: 0.72134 \n",
      "Recall: 0.77200 \n",
      "F-measure: 0.74581 \n"
     ]
    }
   ],
   "source": [
    "y_probe_prediction = logisticRegression(X_probe_ss, y_probe).predict(X_probe_test_ss)\n",
    "plotConfusionMatrix(y_probe_prediction, y_probe_test, 2)"
   ]
  },
  {
   "cell_type": "markdown",
   "metadata": {},
   "source": [
    "#### K-fold cross validation on r2l"
   ]
  },
  {
   "cell_type": "code",
   "execution_count": 136,
   "metadata": {},
   "outputs": [
    {
     "name": "stdout",
     "output_type": "stream",
     "text": [
      ">Train: 0=60615, 1=889, Test: 0=6728, 1=106\n",
      ">Train: 0=60612, 1=892, Test: 0=6731, 1=103\n",
      ">Train: 0=60628, 1=876, Test: 0=6715, 1=119\n",
      ">Train: 0=60613, 1=891, Test: 0=6730, 1=104\n",
      ">Train: 0=60610, 1=894, Test: 0=6733, 1=101\n",
      ">Train: 0=60591, 1=913, Test: 0=6752, 1=82\n",
      ">Train: 0=60599, 1=905, Test: 0=6744, 1=90\n",
      ">Train: 0=60597, 1=907, Test: 0=6746, 1=88\n",
      ">Train: 0=60614, 1=891, Test: 0=6729, 1=104\n",
      ">Train: 0=60608, 1=897, Test: 0=6735, 1=98\n"
     ]
    },
    {
     "data": {
      "text/plain": [
       "{'Mean Training Accuracy': 0.9855830978765718,\n",
       " 'Mean Training Precision': 0.6222613919265755,\n",
       " 'Mean Training Recall': 0.023686734087289864,\n",
       " 'Mean Training F1 Score': 0.045408047724416825,\n",
       " 'Mean Validation Accuracy': 0.9855863480096098,\n",
       " 'Mean Validation Precision': 0.6459523809523808,\n",
       " 'Mean Validation Recall': 0.02536186335409431,\n",
       " 'Mean Validation F1 Score': 0.04763815673705317}"
      ]
     },
     "execution_count": 136,
     "metadata": {},
     "output_type": "execute_result"
    }
   ],
   "source": [
    "KfoldCV(LogisticRegression(max_iter=10000), pd.DataFrame(X_r2l), y_r2l, 10, 3)"
   ]
  },
  {
   "cell_type": "markdown",
   "metadata": {},
   "source": [
    "#### K-fold cross validation on r2l Standard Scaling"
   ]
  },
  {
   "cell_type": "code",
   "execution_count": 137,
   "metadata": {},
   "outputs": [
    {
     "name": "stdout",
     "output_type": "stream",
     "text": [
      ">Train: 0=60615, 1=889, Test: 0=6728, 1=106\n",
      ">Train: 0=60612, 1=892, Test: 0=6731, 1=103\n",
      ">Train: 0=60628, 1=876, Test: 0=6715, 1=119\n",
      ">Train: 0=60613, 1=891, Test: 0=6730, 1=104\n",
      ">Train: 0=60610, 1=894, Test: 0=6733, 1=101\n",
      ">Train: 0=60591, 1=913, Test: 0=6752, 1=82\n",
      ">Train: 0=60599, 1=905, Test: 0=6744, 1=90\n",
      ">Train: 0=60597, 1=907, Test: 0=6746, 1=88\n",
      ">Train: 0=60614, 1=891, Test: 0=6729, 1=104\n",
      ">Train: 0=60608, 1=897, Test: 0=6735, 1=98\n"
     ]
    },
    {
     "data": {
      "text/plain": [
       "{'Mean Training Accuracy': 0.9952442272761763,\n",
       " 'Mean Training Precision': 0.848254987364804,\n",
       " 'Mean Training Recall': 0.820078124054248,\n",
       " 'Mean Training F1 Score': 0.8339196573606695,\n",
       " 'Mean Validation Accuracy': 0.9949222731308636,\n",
       " 'Mean Validation Precision': 0.8328016931630078,\n",
       " 'Mean Validation Recall': 0.8141336805338044,\n",
       " 'Mean Validation F1 Score': 0.8227072833437308}"
      ]
     },
     "execution_count": 137,
     "metadata": {},
     "output_type": "execute_result"
    }
   ],
   "source": [
    "KfoldCV(LogisticRegression(max_iter=10000), pd.DataFrame(X_r2l_ss), y_r2l, 10, 3)"
   ]
  },
  {
   "cell_type": "markdown",
   "metadata": {},
   "source": [
    "#### Stratified cross validation on r2l"
   ]
  },
  {
   "cell_type": "code",
   "execution_count": 138,
   "metadata": {},
   "outputs": [
    {
     "name": "stdout",
     "output_type": "stream",
     "text": [
      ">Train: 0=60608, 1=896, Test: 0=6735, 1=99\n",
      ">Train: 0=60608, 1=896, Test: 0=6735, 1=99\n",
      ">Train: 0=60608, 1=896, Test: 0=6735, 1=99\n",
      ">Train: 0=60609, 1=895, Test: 0=6734, 1=100\n",
      ">Train: 0=60609, 1=895, Test: 0=6734, 1=100\n",
      ">Train: 0=60609, 1=895, Test: 0=6734, 1=100\n",
      ">Train: 0=60609, 1=895, Test: 0=6734, 1=100\n",
      ">Train: 0=60609, 1=895, Test: 0=6734, 1=100\n",
      ">Train: 0=60609, 1=896, Test: 0=6734, 1=99\n",
      ">Train: 0=60609, 1=896, Test: 0=6734, 1=99\n"
     ]
    },
    {
     "data": {
      "text/plain": [
       "{'Mean Training Accuracy': 0.985168491198824,\n",
       " 'Mean Training Precision': 0.568905037096316,\n",
       " 'Mean Training Recall': 0.026914280726256984,\n",
       " 'Mean Training F1 Score': 0.048312411136315694,\n",
       " 'Mean Validation Accuracy': 0.9853522245094636,\n",
       " 'Mean Validation Precision': 0.7080630630630631,\n",
       " 'Mean Validation Recall': 0.031151515151515152,\n",
       " 'Mean Validation F1 Score': 0.05460203427863811}"
      ]
     },
     "execution_count": 138,
     "metadata": {},
     "output_type": "execute_result"
    }
   ],
   "source": [
    "stratifiedCV(LogisticRegression(max_iter=10000), pd.DataFrame(X_r2l), y_r2l, 10, 3)"
   ]
  },
  {
   "cell_type": "markdown",
   "metadata": {},
   "source": [
    "#### Stratified cross validation on r2l Standard Scaling"
   ]
  },
  {
   "cell_type": "code",
   "execution_count": 139,
   "metadata": {},
   "outputs": [
    {
     "name": "stdout",
     "output_type": "stream",
     "text": [
      ">Train: 0=60608, 1=896, Test: 0=6735, 1=99\n",
      ">Train: 0=60608, 1=896, Test: 0=6735, 1=99\n",
      ">Train: 0=60608, 1=896, Test: 0=6735, 1=99\n",
      ">Train: 0=60609, 1=895, Test: 0=6734, 1=100\n",
      ">Train: 0=60609, 1=895, Test: 0=6734, 1=100\n",
      ">Train: 0=60609, 1=895, Test: 0=6734, 1=100\n",
      ">Train: 0=60609, 1=895, Test: 0=6734, 1=100\n",
      ">Train: 0=60609, 1=895, Test: 0=6734, 1=100\n",
      ">Train: 0=60609, 1=896, Test: 0=6734, 1=99\n",
      ">Train: 0=60609, 1=896, Test: 0=6734, 1=99\n"
     ]
    },
    {
     "data": {
      "text/plain": [
       "{'Mean Training Accuracy': 0.9952409754551568,\n",
       " 'Mean Training Precision': 0.8484511912987177,\n",
       " 'Mean Training Recall': 0.8195417248603352,\n",
       " 'Mean Training F1 Score': 0.8337385024448736,\n",
       " 'Mean Validation Accuracy': 0.9949076404121042,\n",
       " 'Mean Validation Precision': 0.8338432919121445,\n",
       " 'Mean Validation Recall': 0.8141414141414142,\n",
       " 'Mean Validation F1 Score': 0.8229873912540635}"
      ]
     },
     "execution_count": 139,
     "metadata": {},
     "output_type": "execute_result"
    }
   ],
   "source": [
    "stratifiedCV(LogisticRegression(max_iter=10000), pd.DataFrame(X_r2l_ss), y_r2l, 10, 3)"
   ]
  },
  {
   "cell_type": "markdown",
   "metadata": {},
   "source": [
    "#### Predict on r2l"
   ]
  },
  {
   "cell_type": "code",
   "execution_count": 140,
   "metadata": {},
   "outputs": [
    {
     "data": {
      "image/png": "[encoded data removed]",
      "text/plain": [
       "<Figure size 432x288 with 2 Axes>"
      ]
     },
     "metadata": {
      "needs_background": "light"
     },
     "output_type": "display_data"
    },
    {
     "name": "stdout",
     "output_type": "stream",
     "text": [
      "Accuracy: 0.77112 \n",
      "Precision: 1.00000 \n",
      "Recall: 0.00069 \n",
      "F-measure: 0.00139 \n"
     ]
    }
   ],
   "source": [
    "y_r2l_prediction = logisticRegression(X_r2l, y_r2l).predict(X_r2l_test)\n",
    "plotConfusionMatrix(y_r2l_prediction, y_r2l_test, 3)"
   ]
  },
  {
   "cell_type": "code",
   "execution_count": 141,
   "metadata": {},
   "outputs": [
    {
     "data": {
      "image/png": "[encoded data removed]",
      "text/plain": [
       "<Figure size 432x288 with 2 Axes>"
      ]
     },
     "metadata": {
      "needs_background": "light"
     },
     "output_type": "display_data"
    },
    {
     "name": "stdout",
     "output_type": "stream",
     "text": [
      "Accuracy: 0.78827 \n",
      "Precision: 0.88112 \n",
      "Recall: 0.08735 \n",
      "F-measure: 0.15894 \n"
     ]
    }
   ],
   "source": [
    "y_r2l_prediction = logisticRegression(X_r2l_ss, y_r2l).predict(X_r2l_test_ss)\n",
    "plotConfusionMatrix(y_r2l_prediction, y_r2l_test, 3)"
   ]
  },
  {
   "cell_type": "markdown",
   "metadata": {},
   "source": [
    "#### K-fold cross validation on u2r"
   ]
  },
  {
   "cell_type": "code",
   "execution_count": 142,
   "metadata": {},
   "outputs": [
    {
     "name": "stdout",
     "output_type": "stream",
     "text": [
      ">Train: 0=60608, 1=47, Test: 0=6735, 1=5\n"
     ]
    },
    {
     "name": "stderr",
     "output_type": "stream",
     "text": [
      "C:\\Users\\Daniele\\anaconda3\\lib\\site-packages\\sklearn\\linear_model\\_logistic.py:458: ConvergenceWarning: lbfgs failed to converge (status=2):\n",
      "ABNORMAL_TERMINATION_IN_LNSRCH.\n",
      "\n",
      "Increase the number of iterations (max_iter) or scale the data as shown in:\n",
      "    https://scikit-learn.org/stable/modules/preprocessing.html\n",
      "Please also refer to the documentation for alternative solver options:\n",
      "    https://scikit-learn.org/stable/modules/linear_model.html#logistic-regression\n",
      "  n_iter_i = _check_optimize_result(\n",
      "C:\\Users\\Daniele\\anaconda3\\lib\\site-packages\\sklearn\\metrics\\_classification.py:1344: UndefinedMetricWarning: Precision is ill-defined and being set to 0.0 due to no predicted samples. Use `zero_division` parameter to control this behavior.\n",
      "  _warn_prf(average, modifier, msg_start, len(result))\n",
      "C:\\Users\\Daniele\\anaconda3\\lib\\site-packages\\sklearn\\metrics\\_classification.py:1344: UndefinedMetricWarning: Precision is ill-defined and being set to 0.0 due to no predicted samples. Use `zero_division` parameter to control this behavior.\n",
      "  _warn_prf(average, modifier, msg_start, len(result))\n"
     ]
    },
    {
     "name": "stdout",
     "output_type": "stream",
     "text": [
      ">Train: 0=60609, 1=46, Test: 0=6734, 1=6\n",
      ">Train: 0=60609, 1=46, Test: 0=6734, 1=6\n"
     ]
    },
    {
     "name": "stderr",
     "output_type": "stream",
     "text": [
      "C:\\Users\\Daniele\\anaconda3\\lib\\site-packages\\sklearn\\metrics\\_classification.py:1344: UndefinedMetricWarning: Precision is ill-defined and being set to 0.0 due to no predicted samples. Use `zero_division` parameter to control this behavior.\n",
      "  _warn_prf(average, modifier, msg_start, len(result))\n"
     ]
    },
    {
     "name": "stdout",
     "output_type": "stream",
     "text": [
      ">Train: 0=60609, 1=46, Test: 0=6734, 1=6\n",
      ">Train: 0=60607, 1=48, Test: 0=6736, 1=4\n",
      ">Train: 0=60612, 1=44, Test: 0=6731, 1=8\n",
      ">Train: 0=60609, 1=47, Test: 0=6734, 1=5\n",
      ">Train: 0=60607, 1=49, Test: 0=6736, 1=3\n",
      ">Train: 0=60609, 1=47, Test: 0=6734, 1=5\n",
      ">Train: 0=60608, 1=48, Test: 0=6735, 1=4\n"
     ]
    },
    {
     "data": {
      "text/plain": [
       "{'Mean Training Accuracy': 0.9994130781014284,\n",
       " 'Mean Training Precision': 0.5877214170692432,\n",
       " 'Mean Training Recall': 0.3029481687974155,\n",
       " 'Mean Training F1 Score': 0.39965672363797367,\n",
       " 'Mean Validation Accuracy': 0.999317463385766,\n",
       " 'Mean Validation Precision': 0.39166666666666666,\n",
       " 'Mean Validation Recall': 0.22666666666666666,\n",
       " 'Mean Validation F1 Score': 0.2852380952380952}"
      ]
     },
     "execution_count": 142,
     "metadata": {},
     "output_type": "execute_result"
    }
   ],
   "source": [
    "KfoldCV(LogisticRegression(max_iter=10000), pd.DataFrame(X_u2r), y_u2r, 10, 4)"
   ]
  },
  {
   "cell_type": "markdown",
   "metadata": {},
   "source": [
    "#### K-fold cross validation on u2r Standard Scaling"
   ]
  },
  {
   "cell_type": "code",
   "execution_count": 143,
   "metadata": {},
   "outputs": [
    {
     "name": "stdout",
     "output_type": "stream",
     "text": [
      ">Train: 0=60608, 1=47, Test: 0=6735, 1=5\n",
      ">Train: 0=60609, 1=46, Test: 0=6734, 1=6\n",
      ">Train: 0=60609, 1=46, Test: 0=6734, 1=6\n",
      ">Train: 0=60609, 1=46, Test: 0=6734, 1=6\n",
      ">Train: 0=60607, 1=48, Test: 0=6736, 1=4\n",
      ">Train: 0=60612, 1=44, Test: 0=6731, 1=8\n",
      ">Train: 0=60609, 1=47, Test: 0=6734, 1=5\n",
      ">Train: 0=60607, 1=49, Test: 0=6736, 1=3\n",
      ">Train: 0=60609, 1=47, Test: 0=6734, 1=5\n",
      ">Train: 0=60608, 1=48, Test: 0=6735, 1=4\n"
     ]
    },
    {
     "data": {
      "text/plain": [
       "{'Mean Training Accuracy': 0.9996372959030453,\n",
       " 'Mean Training Precision': 0.9115795144222563,\n",
       " 'Mean Training Recall': 0.587801373387636,\n",
       " 'Mean Training F1 Score': 0.7143689530129621,\n",
       " 'Mean Validation Accuracy': 0.9994955137353191,\n",
       " 'Mean Validation Precision': 0.8041666666666668,\n",
       " 'Mean Validation Recall': 0.5241666666666667,\n",
       " 'Mean Validation F1 Score': 0.6201190476190476}"
      ]
     },
     "execution_count": 143,
     "metadata": {},
     "output_type": "execute_result"
    }
   ],
   "source": [
    "KfoldCV(LogisticRegression(max_iter=10000), pd.DataFrame(X_u2r_ss), y_u2r, 10, 4)"
   ]
  },
  {
   "cell_type": "markdown",
   "metadata": {},
   "source": [
    "#### Stratified cross validation on u2r"
   ]
  },
  {
   "cell_type": "code",
   "execution_count": 144,
   "metadata": {},
   "outputs": [
    {
     "name": "stdout",
     "output_type": "stream",
     "text": [
      ">Train: 0=60608, 1=47, Test: 0=6735, 1=5\n",
      ">Train: 0=60608, 1=47, Test: 0=6735, 1=5\n"
     ]
    },
    {
     "name": "stderr",
     "output_type": "stream",
     "text": [
      "C:\\Users\\Daniele\\anaconda3\\lib\\site-packages\\sklearn\\metrics\\_classification.py:1344: UndefinedMetricWarning: Precision is ill-defined and being set to 0.0 due to no predicted samples. Use `zero_division` parameter to control this behavior.\n",
      "  _warn_prf(average, modifier, msg_start, len(result))\n"
     ]
    },
    {
     "name": "stdout",
     "output_type": "stream",
     "text": [
      ">Train: 0=60608, 1=47, Test: 0=6735, 1=5\n"
     ]
    },
    {
     "name": "stderr",
     "output_type": "stream",
     "text": [
      "C:\\Users\\Daniele\\anaconda3\\lib\\site-packages\\sklearn\\metrics\\_classification.py:1344: UndefinedMetricWarning: Precision is ill-defined and being set to 0.0 due to no predicted samples. Use `zero_division` parameter to control this behavior.\n",
      "  _warn_prf(average, modifier, msg_start, len(result))\n"
     ]
    },
    {
     "name": "stdout",
     "output_type": "stream",
     "text": [
      ">Train: 0=60609, 1=46, Test: 0=6734, 1=6\n"
     ]
    },
    {
     "name": "stderr",
     "output_type": "stream",
     "text": [
      "C:\\Users\\Daniele\\anaconda3\\lib\\site-packages\\sklearn\\metrics\\_classification.py:1344: UndefinedMetricWarning: Precision is ill-defined and being set to 0.0 due to no predicted samples. Use `zero_division` parameter to control this behavior.\n",
      "  _warn_prf(average, modifier, msg_start, len(result))\n"
     ]
    },
    {
     "name": "stdout",
     "output_type": "stream",
     "text": [
      ">Train: 0=60609, 1=46, Test: 0=6734, 1=6\n"
     ]
    },
    {
     "name": "stderr",
     "output_type": "stream",
     "text": [
      "C:\\Users\\Daniele\\anaconda3\\lib\\site-packages\\sklearn\\metrics\\_classification.py:1344: UndefinedMetricWarning: Precision is ill-defined and being set to 0.0 due to no predicted samples. Use `zero_division` parameter to control this behavior.\n",
      "  _warn_prf(average, modifier, msg_start, len(result))\n",
      "C:\\Users\\Daniele\\anaconda3\\lib\\site-packages\\sklearn\\metrics\\_classification.py:1344: UndefinedMetricWarning: Precision is ill-defined and being set to 0.0 due to no predicted samples. Use `zero_division` parameter to control this behavior.\n",
      "  _warn_prf(average, modifier, msg_start, len(result))\n"
     ]
    },
    {
     "name": "stdout",
     "output_type": "stream",
     "text": [
      ">Train: 0=60609, 1=47, Test: 0=6734, 1=5\n"
     ]
    },
    {
     "name": "stderr",
     "output_type": "stream",
     "text": [
      "C:\\Users\\Daniele\\anaconda3\\lib\\site-packages\\sklearn\\metrics\\_classification.py:1344: UndefinedMetricWarning: Precision is ill-defined and being set to 0.0 due to no predicted samples. Use `zero_division` parameter to control this behavior.\n",
      "  _warn_prf(average, modifier, msg_start, len(result))\n"
     ]
    },
    {
     "name": "stdout",
     "output_type": "stream",
     "text": [
      ">Train: 0=60609, 1=47, Test: 0=6734, 1=5\n",
      ">Train: 0=60609, 1=47, Test: 0=6734, 1=5\n",
      ">Train: 0=60609, 1=47, Test: 0=6734, 1=5\n",
      ">Train: 0=60609, 1=47, Test: 0=6734, 1=5\n"
     ]
    },
    {
     "name": "stderr",
     "output_type": "stream",
     "text": [
      "C:\\Users\\Daniele\\anaconda3\\lib\\site-packages\\sklearn\\linear_model\\_logistic.py:458: ConvergenceWarning: lbfgs failed to converge (status=1):\n",
      "STOP: TOTAL NO. of ITERATIONS REACHED LIMIT.\n",
      "\n",
      "Increase the number of iterations (max_iter) or scale the data as shown in:\n",
      "    https://scikit-learn.org/stable/modules/preprocessing.html\n",
      "Please also refer to the documentation for alternative solver options:\n",
      "    https://scikit-learn.org/stable/modules/linear_model.html#logistic-regression\n",
      "  n_iter_i = _check_optimize_result(\n"
     ]
    },
    {
     "data": {
      "text/plain": [
       "{'Mean Training Accuracy': 0.9993899976094086,\n",
       " 'Mean Training Precision': 0.5050445930880714,\n",
       " 'Mean Training Recall': 0.26054579093432007,\n",
       " 'Mean Training F1 Score': 0.3436049631120054,\n",
       " 'Mean Validation Accuracy': 0.9992581073982306,\n",
       " 'Mean Validation Precision': 0.3,\n",
       " 'Mean Validation Recall': 0.14,\n",
       " 'Mean Validation F1 Score': 0.1892857142857143}"
      ]
     },
     "execution_count": 144,
     "metadata": {},
     "output_type": "execute_result"
    }
   ],
   "source": [
    "stratifiedCV(LogisticRegression(max_iter=10000), pd.DataFrame(X_u2r), y_u2r, 10, 4)"
   ]
  },
  {
   "cell_type": "markdown",
   "metadata": {},
   "source": [
    "#### Stratified cross validation on u2r Standard Scaling"
   ]
  },
  {
   "cell_type": "code",
   "execution_count": 145,
   "metadata": {},
   "outputs": [
    {
     "name": "stdout",
     "output_type": "stream",
     "text": [
      ">Train: 0=60608, 1=47, Test: 0=6735, 1=5\n",
      ">Train: 0=60608, 1=47, Test: 0=6735, 1=5\n",
      ">Train: 0=60608, 1=47, Test: 0=6735, 1=5\n",
      ">Train: 0=60609, 1=46, Test: 0=6734, 1=6\n",
      ">Train: 0=60609, 1=46, Test: 0=6734, 1=6\n",
      ">Train: 0=60609, 1=47, Test: 0=6734, 1=5\n",
      ">Train: 0=60609, 1=47, Test: 0=6734, 1=5\n",
      ">Train: 0=60609, 1=47, Test: 0=6734, 1=5\n",
      ">Train: 0=60609, 1=47, Test: 0=6734, 1=5\n",
      ">Train: 0=60609, 1=47, Test: 0=6734, 1=5\n"
     ]
    },
    {
     "data": {
      "text/plain": [
       "{'Mean Training Accuracy': 0.9996339986200065,\n",
       " 'Mean Training Precision': 0.8994534722322542,\n",
       " 'Mean Training Recall': 0.5919056429232192,\n",
       " 'Mean Training F1 Score': 0.7135747471523621,\n",
       " 'Mean Validation Accuracy': 0.9994955159369505,\n",
       " 'Mean Validation Precision': 0.7833333333333334,\n",
       " 'Mean Validation Recall': 0.52,\n",
       " 'Mean Validation F1 Score': 0.5908008658008658}"
      ]
     },
     "execution_count": 145,
     "metadata": {},
     "output_type": "execute_result"
    }
   ],
   "source": [
    "stratifiedCV(LogisticRegression(max_iter=10000), pd.DataFrame(X_u2r_ss), y_u2r, 10, 4)"
   ]
  },
  {
   "cell_type": "markdown",
   "metadata": {},
   "source": [
    "#### Predict on u2r"
   ]
  },
  {
   "cell_type": "code",
   "execution_count": 146,
   "metadata": {},
   "outputs": [
    {
     "data": {
      "image/png": "[encoded data removed]",
      "text/plain": [
       "<Figure size 432x288 with 2 Axes>"
      ]
     },
     "metadata": {
      "needs_background": "light"
     },
     "output_type": "display_data"
    },
    {
     "name": "stdout",
     "output_type": "stream",
     "text": [
      "Accuracy: 0.99345 \n",
      "Precision: 0.71429 \n",
      "Recall: 0.07463 \n",
      "F-measure: 0.13514 \n"
     ]
    }
   ],
   "source": [
    "y_u2r_prediction = logisticRegression(X_u2r, y_u2r).predict(X_u2r_test)\n",
    "plotConfusionMatrix(y_u2r_prediction, y_u2r_test, 4)"
   ]
  },
  {
   "cell_type": "code",
   "execution_count": 147,
   "metadata": {},
   "outputs": [
    {
     "data": {
      "image/png": "[encoded data removed]",
      "text/plain": [
       "<Figure size 432x288 with 2 Axes>"
      ]
     },
     "metadata": {
      "needs_background": "light"
     },
     "output_type": "display_data"
    },
    {
     "name": "stdout",
     "output_type": "stream",
     "text": [
      "Accuracy: 0.99468 \n",
      "Precision: 0.69231 \n",
      "Recall: 0.40299 \n",
      "F-measure: 0.50943 \n"
     ]
    }
   ],
   "source": [
    "y_u2r_prediction = logisticRegression(X_u2r_ss, y_u2r).predict(X_u2r_test_ss)\n",
    "plotConfusionMatrix(y_u2r_prediction, y_u2r_test, 4)"
   ]
  },
  {
   "cell_type": "markdown",
   "metadata": {},
   "source": [
    "## Binary dataset no feature selection"
   ]
  },
  {
   "cell_type": "code",
   "execution_count": 148,
   "metadata": {},
   "outputs": [
    {
     "data": {
      "text/plain": [
       "<module 'matplotlib.pyplot' from 'C:\\\\Users\\\\Daniele\\\\anaconda3\\\\lib\\\\site-packages\\\\matplotlib\\\\pyplot.py'>"
      ]
     },
     "execution_count": 148,
     "metadata": {},
     "output_type": "execute_result"
    },
    {
     "data": {
      "image/png": "[encoded data removed]",
      "text/plain": [
       "<Figure size 720x360 with 1 Axes>"
      ]
     },
     "metadata": {
      "needs_background": "light"
     },
     "output_type": "display_data"
    }
   ],
   "source": [
    "fullDf = getFullDf()\n",
    "fullDf_test = getFullDfTest()\n",
    "\n",
    "fullDf['label'], fullDf_test['label'] = prepareBinary()\n",
    "\n",
    "fullDf=oneHotEcoding(fullDf, 'protocol_type')\n",
    "fullDf=oneHotEcoding(fullDf, 'service')\n",
    "fullDf=oneHotEcoding(fullDf, 'flag')\n",
    "fullDf_test=oneHotEcoding(fullDf_test, 'protocol_type')\n",
    "fullDf_test=oneHotEcoding(fullDf_test, 'service')\n",
    "fullDf_test=oneHotEcoding(fullDf_test, 'flag')\n",
    "\n",
    "fullDf_test=adaptTestset(fullDf, fullDf_test)\n",
    "\n",
    "colNames=list(fullDf)\n",
    "colNames_test=list(fullDf_test)\n",
    "\n",
    "plotDf(fullDf['label'])\n"
   ]
  },
  {
   "cell_type": "code",
   "execution_count": 149,
   "metadata": {},
   "outputs": [],
   "source": [
    "x_df, y_df = getXandY(fullDf)\n",
    "x_df_test, y_df_test = getXandY(fullDf_test)\n",
    "\n",
    "x_df_ss = standardScaler(x_df)\n",
    "x_df_test_ss = standardScaler(x_df_test)\n"
   ]
  },
  {
   "cell_type": "code",
   "execution_count": 150,
   "metadata": {},
   "outputs": [
    {
     "name": "stdout",
     "output_type": "stream",
     "text": [
      ">Train: 0=60653, 1=52722, Test: 0=6690, 1=5908\n",
      ">Train: 0=60581, 1=52794, Test: 0=6762, 1=5836\n",
      ">Train: 0=60638, 1=52737, Test: 0=6705, 1=5893\n",
      ">Train: 0=60750, 1=52626, Test: 0=6593, 1=6004\n",
      ">Train: 0=60645, 1=52731, Test: 0=6698, 1=5899\n",
      ">Train: 0=60505, 1=52871, Test: 0=6838, 1=5759\n",
      ">Train: 0=60507, 1=52869, Test: 0=6836, 1=5761\n",
      ">Train: 0=60570, 1=52806, Test: 0=6773, 1=5824\n",
      ">Train: 0=60650, 1=52726, Test: 0=6693, 1=5904\n",
      ">Train: 0=60588, 1=52788, Test: 0=6755, 1=5842\n"
     ]
    },
    {
     "data": {
      "text/plain": [
       "{'Mean Training Accuracy': 0.8783407731396382,\n",
       " 'Mean Training Precision': 0.8776694958552941,\n",
       " 'Mean Training Recall': 0.858774885908592,\n",
       " 'Mean Training F1 Score': 0.8679468115650616,\n",
       " 'Mean Validation Accuracy': 0.8784501706352292,\n",
       " 'Mean Validation Precision': 0.8777189108541006,\n",
       " 'Mean Validation Recall': 0.859043061013993,\n",
       " 'Mean Validation F1 Score': 0.8680716785987939}"
      ]
     },
     "execution_count": 150,
     "metadata": {},
     "output_type": "execute_result"
    }
   ],
   "source": [
    "KfoldCV(LogisticRegression(max_iter=10000), pd.DataFrame(x_df), y_df, 10, 1)"
   ]
  },
  {
   "cell_type": "code",
   "execution_count": 151,
   "metadata": {},
   "outputs": [
    {
     "name": "stdout",
     "output_type": "stream",
     "text": [
      ">Train: 0=60653, 1=52722, Test: 0=6690, 1=5908\n",
      ">Train: 0=60581, 1=52794, Test: 0=6762, 1=5836\n",
      ">Train: 0=60638, 1=52737, Test: 0=6705, 1=5893\n",
      ">Train: 0=60750, 1=52626, Test: 0=6593, 1=6004\n",
      ">Train: 0=60645, 1=52731, Test: 0=6698, 1=5899\n",
      ">Train: 0=60505, 1=52871, Test: 0=6838, 1=5759\n",
      ">Train: 0=60507, 1=52869, Test: 0=6836, 1=5761\n",
      ">Train: 0=60570, 1=52806, Test: 0=6773, 1=5824\n",
      ">Train: 0=60650, 1=52726, Test: 0=6693, 1=5904\n",
      ">Train: 0=60588, 1=52788, Test: 0=6755, 1=5842\n"
     ]
    },
    {
     "data": {
      "text/plain": [
       "{'Mean Training Accuracy': 0.9738409552463188,\n",
       " 'Mean Training Precision': 0.9783462025008344,\n",
       " 'Mean Training Recall': 0.9651559814661491,\n",
       " 'Mean Training F1 Score': 0.9717063148357145,\n",
       " 'Mean Validation Accuracy': 0.9735340255883592,\n",
       " 'Mean Validation Precision': 0.9779179000123881,\n",
       " 'Mean Validation Recall': 0.9649154537047974,\n",
       " 'Mean Validation F1 Score': 0.9713710425562947}"
      ]
     },
     "execution_count": 151,
     "metadata": {},
     "output_type": "execute_result"
    }
   ],
   "source": [
    "KfoldCV(LogisticRegression(max_iter=10000), pd.DataFrame(x_df_ss), y_df, 10, 1)"
   ]
  },
  {
   "cell_type": "code",
   "execution_count": 152,
   "metadata": {
    "scrolled": true
   },
   "outputs": [
    {
     "data": {
      "image/png": "[encoded data removed]",
      "text/plain": [
       "<Figure size 432x288 with 2 Axes>"
      ]
     },
     "metadata": {
      "needs_background": "light"
     },
     "output_type": "display_data"
    },
    {
     "name": "stdout",
     "output_type": "stream",
     "text": [
      "Accuracy: 0.68905 \n",
      "Precision: 0.88446 \n",
      "Recall: 0.52194 \n",
      "F-measure: 0.65647 \n"
     ]
    }
   ],
   "source": [
    "y_prediction = logisticRegression(x_df, y_df).predict(x_df_test)\n",
    "plotConfusionMatrix(y_prediction, y_df_test, 1)"
   ]
  },
  {
   "cell_type": "code",
   "execution_count": 153,
   "metadata": {},
   "outputs": [
    {
     "data": {
      "image/png": "[encoded data removed]",
      "text/plain": [
       "<Figure size 432x288 with 2 Axes>"
      ]
     },
     "metadata": {
      "needs_background": "light"
     },
     "output_type": "display_data"
    },
    {
     "name": "stdout",
     "output_type": "stream",
     "text": [
      "Accuracy: 0.79862 \n",
      "Precision: 0.90191 \n",
      "Recall: 0.72508 \n",
      "F-measure: 0.80389 \n"
     ]
    }
   ],
   "source": [
    "y_prediction = logisticRegression(x_df_ss, y_df).predict(x_df_test_ss)\n",
    "plotConfusionMatrix(y_prediction, y_df_test, 1)"
   ]
  },
  {
   "cell_type": "markdown",
   "metadata": {},
   "source": [
    "## Binary dataset feature selection"
   ]
  },
  {
   "cell_type": "code",
   "execution_count": 154,
   "metadata": {},
   "outputs": [],
   "source": [
    "X_df_rfe, rfecolname = recursiveFeatureExtraction(LogisticRegression(max_iter=10000), pd.DataFrame(x_df), y_df, 13)\n",
    "X_df_test_rfe=x_df_test.values[:,rfecolname]"
   ]
  },
  {
   "cell_type": "code",
   "execution_count": 155,
   "metadata": {},
   "outputs": [],
   "source": [
    "X_df_rfe_ss, rfecolname_ss = recursiveFeatureExtraction(LogisticRegression(max_iter=10000), pd.DataFrame(x_df_ss), y_df, 13)\n",
    "X_df_test_rfe_ss=x_df_test_ss[:,rfecolname_ss]"
   ]
  },
  {
   "cell_type": "markdown",
   "metadata": {},
   "source": [
    "#### K-fold cross validation"
   ]
  },
  {
   "cell_type": "code",
   "execution_count": 156,
   "metadata": {},
   "outputs": [
    {
     "name": "stdout",
     "output_type": "stream",
     "text": [
      ">Train: 0=60653, 1=52722, Test: 0=6690, 1=5908\n",
      ">Train: 0=60581, 1=52794, Test: 0=6762, 1=5836\n",
      ">Train: 0=60638, 1=52737, Test: 0=6705, 1=5893\n",
      ">Train: 0=60750, 1=52626, Test: 0=6593, 1=6004\n",
      ">Train: 0=60645, 1=52731, Test: 0=6698, 1=5899\n",
      ">Train: 0=60505, 1=52871, Test: 0=6838, 1=5759\n",
      ">Train: 0=60507, 1=52869, Test: 0=6836, 1=5761\n",
      ">Train: 0=60570, 1=52806, Test: 0=6773, 1=5824\n",
      ">Train: 0=60650, 1=52726, Test: 0=6693, 1=5904\n",
      ">Train: 0=60588, 1=52788, Test: 0=6755, 1=5842\n"
     ]
    },
    {
     "data": {
      "text/plain": [
       "{'Mean Training Accuracy': 0.9510926950310582,\n",
       " 'Mean Training Precision': 0.9532826607765955,\n",
       " 'Mean Training Recall': 0.9410353697186322,\n",
       " 'Mean Training F1 Score': 0.9471192286448245,\n",
       " 'Mean Validation Accuracy': 0.9510609633051301,\n",
       " 'Mean Validation Precision': 0.9532125137221857,\n",
       " 'Mean Validation Recall': 0.9410585591610519,\n",
       " 'Mean Validation F1 Score': 0.9470918620222191}"
      ]
     },
     "execution_count": 156,
     "metadata": {},
     "output_type": "execute_result"
    }
   ],
   "source": [
    "KfoldCV(LogisticRegression(max_iter=10000), pd.DataFrame(X_df_rfe), y_df, 10, 1)"
   ]
  },
  {
   "cell_type": "markdown",
   "metadata": {},
   "source": [
    "#### K-fold cross validation Standard Scaler"
   ]
  },
  {
   "cell_type": "code",
   "execution_count": 157,
   "metadata": {},
   "outputs": [
    {
     "name": "stdout",
     "output_type": "stream",
     "text": [
      ">Train: 0=60653, 1=52722, Test: 0=6690, 1=5908\n",
      ">Train: 0=60581, 1=52794, Test: 0=6762, 1=5836\n",
      ">Train: 0=60638, 1=52737, Test: 0=6705, 1=5893\n",
      ">Train: 0=60750, 1=52626, Test: 0=6593, 1=6004\n",
      ">Train: 0=60645, 1=52731, Test: 0=6698, 1=5899\n",
      ">Train: 0=60505, 1=52871, Test: 0=6838, 1=5759\n",
      ">Train: 0=60507, 1=52869, Test: 0=6836, 1=5761\n",
      ">Train: 0=60570, 1=52806, Test: 0=6773, 1=5824\n",
      ">Train: 0=60650, 1=52726, Test: 0=6693, 1=5904\n",
      ">Train: 0=60588, 1=52788, Test: 0=6755, 1=5842\n"
     ]
    },
    {
     "data": {
      "text/plain": [
       "{'Mean Training Accuracy': 0.9601960564739205,\n",
       " 'Mean Training Precision': 0.9542992299929223,\n",
       " 'Mean Training Recall': 0.9604734846911702,\n",
       " 'Mean Training F1 Score': 0.9573763395093424,\n",
       " 'Mean Validation Accuracy': 0.9601422568740835,\n",
       " 'Mean Validation Precision': 0.9542669234907226,\n",
       " 'Mean Validation Recall': 0.9604129326809406,\n",
       " 'Mean Validation F1 Score': 0.9573251653497534}"
      ]
     },
     "execution_count": 157,
     "metadata": {},
     "output_type": "execute_result"
    }
   ],
   "source": [
    "KfoldCV(LogisticRegression(max_iter=10000), pd.DataFrame(X_df_rfe_ss), y_df, 10, 1)"
   ]
  },
  {
   "cell_type": "markdown",
   "metadata": {},
   "source": [
    "#### Predict"
   ]
  },
  {
   "cell_type": "code",
   "execution_count": 158,
   "metadata": {},
   "outputs": [
    {
     "data": {
      "image/png": "[encoded data removed]",
      "text/plain": [
       "<Figure size 432x288 with 2 Axes>"
      ]
     },
     "metadata": {
      "needs_background": "light"
     },
     "output_type": "display_data"
    },
    {
     "name": "stdout",
     "output_type": "stream",
     "text": [
      "Accuracy: 0.76925 \n",
      "Precision: 0.89741 \n",
      "Recall: 0.67139 \n",
      "F-measure: 0.76812 \n"
     ]
    }
   ],
   "source": [
    "y_prediction = logisticRegression(X_df_rfe, y_df).predict(X_df_test_rfe)\n",
    "plotConfusionMatrix(y_prediction, y_df_test, 1)"
   ]
  },
  {
   "cell_type": "code",
   "execution_count": 159,
   "metadata": {},
   "outputs": [
    {
     "data": {
      "image/png": "[encoded data removed]",
      "text/plain": [
       "<Figure size 432x288 with 2 Axes>"
      ]
     },
     "metadata": {
      "needs_background": "light"
     },
     "output_type": "display_data"
    },
    {
     "name": "stdout",
     "output_type": "stream",
     "text": [
      "Accuracy: 0.74162 \n",
      "Precision: 0.89638 \n",
      "Recall: 0.61747 \n",
      "F-measure: 0.73123 \n"
     ]
    }
   ],
   "source": [
    "y_prediction = logisticRegression(X_df_rfe_ss, y_df).predict(X_df_test_rfe_ss)\n",
    "plotConfusionMatrix(y_prediction, y_df_test, 1)"
   ]
  },
  {
   "cell_type": "code",
   "execution_count": null,
   "metadata": {},
   "outputs": [],
   "source": []
  }
 ],
 "metadata": {
  "colab": {
   "authorship_tag": "ABX9TyMHeZyIWbMZKAf4sJQ/BZhF",
   "collapsed_sections": [
    "6mvaHjRTkbk5"
   ],
   "provenance": []
  },
  "kernelspec": {
   "display_name": "Python 3 (ipykernel)",
   "language": "python",
   "name": "python3"
  },
  "language_info": {
   "codemirror_mode": {
    "name": "ipython",
    "version": 3
   },
   "file_extension": ".py",
   "mimetype": "text/x-python",
   "name": "python",
   "nbconvert_exporter": "python",
   "pygments_lexer": "ipython3",
   "version": "3.9.7"
  }
 },
 "nbformat": 4,
 "nbformat_minor": 1
}
